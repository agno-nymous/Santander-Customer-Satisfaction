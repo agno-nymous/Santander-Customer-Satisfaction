{
 "cells": [
  {
   "cell_type": "markdown",
   "metadata": {
    "colab_type": "text",
    "id": "view-in-github"
   },
   "source": [
    "<a href=\"https://colab.research.google.com/github/ashishthomaschempolil/Santander-Customer-Satisfaction/blob/master/Modelling_Normal.ipynb\" target=\"_parent\"><img src=\"https://colab.research.google.com/assets/colab-badge.svg\" alt=\"Open In Colab\"/></a>"
   ]
  },
  {
   "cell_type": "code",
   "execution_count": 6,
   "metadata": {
    "colab": {},
    "colab_type": "code",
    "id": "QVQr_7USbczr"
   },
   "outputs": [],
   "source": [
    "import warnings\n",
    "warnings.filterwarnings(\"ignore\")\n",
    "import pandas as pd\n",
    "import numpy as np\n",
    "%matplotlib inline\n",
    "import matplotlib.pyplot as plt\n",
    "import seaborn as sns\n",
    "sns.set(palette='muted',style='whitegrid')\n",
    "import sklearn\n",
    "from sklearn import metrics,ensemble,model_selection,linear_model,tree,calibration\n",
    "import xgboost as xgb\n",
    "import scipy\n",
    "import random\n",
    "from tqdm import tqdm\n",
    "import os\n",
    "np.random.seed(13154)"
   ]
  },
  {
   "cell_type": "code",
   "execution_count": 7,
   "metadata": {
    "colab": {
     "base_uri": "https://localhost:8080/",
     "height": 218
    },
    "colab_type": "code",
    "id": "hRB4PxAYa5xu",
    "outputId": "067b910f-fa2f-40f7-b081-947cddd61c65"
   },
   "outputs": [
    {
     "data": {
      "text/plain": [
       "['test_Normal.pkl',\n",
       " '.ipython',\n",
       " '.jupyter',\n",
       " 'Feature_Engineering.ipynb',\n",
       " '.cache',\n",
       " '.config',\n",
       " '.ipynb_checkpoints',\n",
       " '.bash_history',\n",
       " '.bashrc',\n",
       " '.docker',\n",
       " '.profile',\n",
       " 'tutorials',\n",
       " 'Report.html',\n",
       " 'EDA.ipynb',\n",
       " '.gitconfig',\n",
       " '.local',\n",
       " 'pickle_files.zip',\n",
       " '.bash_logout',\n",
       " 'Modelling_Normal.ipynb',\n",
       " '.git',\n",
       " '.nano',\n",
       " 'train_Normal.pkl']"
      ]
     },
     "execution_count": 7,
     "metadata": {},
     "output_type": "execute_result"
    }
   ],
   "source": [
    "# file = [k for k in os.listdir('/content/drive/My Drive/Santander_Customer_Satisfaction') if (('train' in k)|('test' in k))&('X' not in k)] #getting all the necessary files for modelling\n",
    "# file\n",
    "os.listdir()"
   ]
  },
  {
   "cell_type": "code",
   "execution_count": 8,
   "metadata": {
    "colab": {
     "base_uri": "https://localhost:8080/",
     "height": 34
    },
    "colab_type": "code",
    "id": "mV0hmG66S7ZC",
    "outputId": "23fb9f87-ccba-4b82-e266-b886f5b2cb85"
   },
   "outputs": [
    {
     "data": {
      "text/plain": [
       "((64617, 358), (11403, 358), (75818, 358))"
      ]
     },
     "execution_count": 8,
     "metadata": {},
     "output_type": "execute_result"
    }
   ],
   "source": [
    "file_path = '/content/drive/My Drive/Santander_Customer_Satisfaction/'\n",
    "train_file = 'train_Normal.pkl'#file_path+file[0] #Normal\n",
    "test_file = 'test_Normal.pkl'#file_path+file[1]\n",
    "dataset= \"Normal\"\n",
    "train = pd.read_pickle(train_file)\n",
    "test = pd.read_pickle(test_file)\n",
    "X_train = train.drop(['ID','TARGET'],axis=1)\n",
    "y_train = train['TARGET'].values\n",
    "X_test = test.drop('ID',axis=1)\n",
    "del train,test\n",
    "X_train,X_val,y_train,y_val = model_selection.train_test_split(X_train,y_train,stratify=y_train,test_size=0.15)\n",
    "X_train.shape,X_val.shape,X_test.shape"
   ]
  },
  {
   "cell_type": "code",
   "execution_count": 9,
   "metadata": {
    "colab": {},
    "colab_type": "code",
    "id": "v4yLi9O_CtFR"
   },
   "outputs": [],
   "source": [
    "global i\n",
    "i=0\n",
    "def plot_auc(y_true,y_pred,label,dataset=dataset):\n",
    "  \"\"\"\n",
    "  Plots auc curve when y_true and y_pred are given\n",
    "  dataset is string which tells which dataset were used.\n",
    "  label: tells which model was used\n",
    "  If label is a list plots all the auc curve for all labels (here y_pred will be a list of lists )\n",
    "  \"\"\"\n",
    "  print(\"\\t\\t %s on %s dataset \\t\\t \\n\"%(label,dataset))\n",
    "  \n",
    "  if (type(label)!=list) & (type(label)!=np.array):\n",
    "    fpr,tpr,threshold = metrics.roc_curve(y_true,y_pred)\n",
    "    auc = metrics.roc_auc_score(y_true,y_pred)\n",
    "    log_loss = metrics.log_loss(y_true,y_pred)\n",
    "    label_1 = label+' AUC=%.3f'%(auc)\n",
    "\n",
    "    #plotting tpr vs fpr\n",
    "    sns.lineplot(fpr,tpr,label=label_1)\n",
    "    x=np.arange(0,1.1,0.1)\n",
    "    sns.lineplot(x,x,label=\"AUC=0.5\")\n",
    "    plt.title(\"ROC on %s dataset\"%(dataset))\n",
    "    plt.xlabel('False Positive Rate')\n",
    "    plt.ylabel(\"True Positive Rate\")\n",
    "    plt.legend(bbox_to_anchor=(1.05, 1), loc=2, borderaxespad=0.) #legend box outside graph\n",
    "    plt.show()\n",
    "    print(\"The log loss and auc was found to be %.3f and %.3f for %s on %s dataset.\"%(log_loss,auc,label,dataset))\n",
    "    #creating a dataframe of the result\n",
    "    result_dict = {\"Model\":label,'Dataset':dataset,'log_loss':log_loss,'auc':auc}\n",
    "    \n",
    "    return pd.DataFrame(result_dict,index=[i])\n",
    "\n",
    "\n",
    "    \n",
    "    \n",
    "\n",
    "  else:\n",
    "    for y in y_pred:\n",
    "      if (type(label)!=list) & (type(label)!=np.array):\n",
    "        fpr,tpr,threshold = metrics.roc_curve(y_true,y_pred)\n",
    "        auc = metrics.roc_auc_score(y_true,y_pred)\n",
    "        label = label+' AUC=%.3f'%(auc)\n",
    "        #plotting tpr vs fpr\n",
    "        sns.lineplot(fpr,tpr,label=label)\n",
    "\n",
    "    x=np.arange(0,1.1,0.1)\n",
    "    sns.lineplot(x,x,label=\"AUC=0.5\")\n",
    "    plt.title(\"Combined ROC\")\n",
    "    plt.xlabel('False Positive Rate')\n",
    "    plt.ylabel(\"True Positive Rate\")\n",
    "    plt.legend(bbox_to_anchor=(1.05, 1), loc=2, borderaxespad=0.) #legend box outside graph\n",
    "    plt.show()\n",
    "\n",
    "\n",
    "  \n"
   ]
  },
  {
   "cell_type": "markdown",
   "metadata": {
    "colab_type": "text",
    "id": "vvLQsSsVAsUA"
   },
   "source": [
    "# Modeling"
   ]
  },
  {
   "cell_type": "code",
   "execution_count": 11,
   "metadata": {
    "colab": {},
    "colab_type": "code",
    "id": "spCK7X7beIiy"
   },
   "outputs": [],
   "source": [
    "def find_best_params(model,params,cv=10,n_jobs=-1):\n",
    "  \"\"\"\n",
    "  Funcion which implements Random Seacrh CV and returns best model\n",
    "  \"\"\"\n",
    "  random_cv = model_selection.RandomizedSearchCV(model,param_distributions=params,scoring='roc_auc',n_jobs=n_jobs,cv=cv,verbose=2)\n",
    "  random_cv.fit(X_train,y_train)\n",
    "  print(\"The best auc score was %.3f\"%(random_cv.best_score_))\n",
    "  print(\"The best params were: %s\"%(random_cv.best_params_))\n",
    "  return random_cv.best_estimator_"
   ]
  },
  {
   "cell_type": "markdown",
   "metadata": {
    "colab_type": "text",
    "id": "uLh2j2XvAxeO"
   },
   "source": [
    "# Logistic Regression"
   ]
  },
  {
   "cell_type": "code",
   "execution_count": 12,
   "metadata": {
    "colab": {},
    "colab_type": "code",
    "id": "nsbNtvxAYB2O"
   },
   "outputs": [],
   "source": [
    "model = linear_model.LogisticRegression(class_weight='balanced')\n",
    "params = {'penalty':['l2','l1'], 'C':[10.**i for i in np.arange(-3,3,1)], \n",
    "          'fit_intercept':[True,False] ,\n",
    "          }\n"
   ]
  },
  {
   "cell_type": "code",
   "execution_count": 13,
   "metadata": {
    "colab": {
     "base_uri": "https://localhost:8080/",
     "height": 235
    },
    "colab_type": "code",
    "id": "mXTZa5oPYB2R",
    "outputId": "23601b3a-1860-4c22-e707-011f007b493c"
   },
   "outputs": [
    {
     "name": "stdout",
     "output_type": "stream",
     "text": [
      "Fitting 10 folds for each of 10 candidates, totalling 100 fits\n"
     ]
    },
    {
     "name": "stderr",
     "output_type": "stream",
     "text": [
      "[Parallel(n_jobs=-1)]: Using backend LokyBackend with 4 concurrent workers.\n",
      "[Parallel(n_jobs=-1)]: Done  33 tasks      | elapsed:   28.8s\n",
      "[Parallel(n_jobs=-1)]: Done 100 out of 100 | elapsed:  1.7min finished\n"
     ]
    },
    {
     "name": "stdout",
     "output_type": "stream",
     "text": [
      "The best auc score was 0.798\n",
      "The best params were: {'penalty': 'l2', 'fit_intercept': True, 'C': 0.001}\n",
      "CPU times: user 8.86 s, sys: 288 ms, total: 9.15 s\n",
      "Wall time: 1min 42s\n"
     ]
    },
    {
     "data": {
      "text/plain": [
       "LogisticRegression(C=0.001, class_weight='balanced')"
      ]
     },
     "execution_count": 13,
     "metadata": {},
     "output_type": "execute_result"
    }
   ],
   "source": [
    "%%time\n",
    "find_best_params(model,params)"
   ]
  },
  {
   "cell_type": "code",
   "execution_count": 14,
   "metadata": {
    "colab": {
     "base_uri": "https://localhost:8080/",
     "height": 101
    },
    "colab_type": "code",
    "id": "eYp1oCU5YB2U",
    "outputId": "c73c9a3e-5ff4-4041-8cf2-b98e30a1e70d"
   },
   "outputs": [
    {
     "data": {
      "text/plain": [
       "LogisticRegression(C=0.001, class_weight='balanced')"
      ]
     },
     "execution_count": 14,
     "metadata": {},
     "output_type": "execute_result"
    }
   ],
   "source": [
    "model = linear_model.LogisticRegression(C=0.001, class_weight='balanced')\n",
    "\n",
    "model.fit(X_train,y_train)"
   ]
  },
  {
   "cell_type": "code",
   "execution_count": 15,
   "metadata": {
    "colab": {
     "base_uri": "https://localhost:8080/",
     "height": 351
    },
    "colab_type": "code",
    "id": "DlDUHTI-YB2X",
    "outputId": "fbdd29ea-3327-475a-f748-a8e03ad0dd69"
   },
   "outputs": [
    {
     "name": "stdout",
     "output_type": "stream",
     "text": [
      "\t\t Logisic Regression on Normal dataset \t\t \n",
      "\n"
     ]
    },
    {
     "data": {
      "image/png": "[encoded data removed]",
      "text/plain": [
       "<Figure size 432x288 with 1 Axes>"
      ]
     },
     "metadata": {},
     "output_type": "display_data"
    },
    {
     "name": "stdout",
     "output_type": "stream",
     "text": [
      "The log loss and auc was found to be 0.542 and 0.812 for Logisic Regression on Normal dataset.\n"
     ]
    }
   ],
   "source": [
    "i=0\n",
    "y_pred = model.predict_proba(X_val)[:,1]\n",
    "label=\"Logisic Regression\"\n",
    "result = plot_auc(y_val,y_pred,label,dataset)\n",
    "result_df = result\n",
    "del result"
   ]
  },
  {
   "cell_type": "markdown",
   "metadata": {
    "colab_type": "text",
    "id": "0y9PvYUNX-t2"
   },
   "source": [
    "# Decision Trees"
   ]
  },
  {
   "cell_type": "code",
   "execution_count": 12,
   "metadata": {
    "colab": {},
    "colab_type": "code",
    "id": "0kVyDscneGv3"
   },
   "outputs": [],
   "source": [
    "model = tree.DecisionTreeClassifier(class_weight='balanced')\n",
    "params = { \n",
    "          'max_depth':[10,100,500,1000,-1], \n",
    "         'min_samples_split':[2,5,10,100,500], \n",
    "          'min_samples_leaf':[1,3,5,7,10],\n",
    "          'max_leaf_nodes':[100,500,1000,5000,-1] \n",
    "          }\n"
   ]
  },
  {
   "cell_type": "code",
   "execution_count": 13,
   "metadata": {
    "colab": {
     "base_uri": "https://localhost:8080/",
     "height": 252
    },
    "colab_type": "code",
    "id": "OWmU9ZdnjHEk",
    "outputId": "e46384cc-d67c-42d7-ce49-b9b8932b3fd1"
   },
   "outputs": [
    {
     "name": "stdout",
     "output_type": "stream",
     "text": [
      "Fitting 10 folds for each of 10 candidates, totalling 100 fits\n"
     ]
    },
    {
     "name": "stderr",
     "output_type": "stream",
     "text": [
      "[Parallel(n_jobs=10)]: Using backend LokyBackend with 10 concurrent workers.\n",
      "[Parallel(n_jobs=10)]: Done  21 tasks      | elapsed:  2.0min\n",
      "[Parallel(n_jobs=10)]: Done 100 out of 100 | elapsed:  5.7min finished\n"
     ]
    },
    {
     "name": "stdout",
     "output_type": "stream",
     "text": [
      "The best auc score was 0.762\n",
      "The best params were: {'min_samples_split': 5, 'min_samples_leaf': 10, 'max_leaf_nodes': 500, 'max_depth': 10}\n",
      "CPU times: user 5.23 s, sys: 392 ms, total: 5.62 s\n",
      "Wall time: 5min 44s\n"
     ]
    },
    {
     "data": {
      "text/plain": [
       "DecisionTreeClassifier(ccp_alpha=0.0, class_weight='balanced', criterion='gini',\n",
       "                       max_depth=10, max_features=None, max_leaf_nodes=500,\n",
       "                       min_impurity_decrease=0.0, min_impurity_split=None,\n",
       "                       min_samples_leaf=10, min_samples_split=5,\n",
       "                       min_weight_fraction_leaf=0.0, presort='deprecated',\n",
       "                       random_state=None, splitter='best')"
      ]
     },
     "execution_count": 13,
     "metadata": {
      "tags": []
     },
     "output_type": "execute_result"
    }
   ],
   "source": [
    "%%time\n",
    "find_best_params(model,params)"
   ]
  },
  {
   "cell_type": "code",
   "execution_count": 14,
   "metadata": {
    "colab": {
     "base_uri": "https://localhost:8080/",
     "height": 118
    },
    "colab_type": "code",
    "id": "11n9ZcTNirnF",
    "outputId": "f95325ea-5ee4-4776-9bcb-b7db5660d235"
   },
   "outputs": [
    {
     "data": {
      "text/plain": [
       "DecisionTreeClassifier(ccp_alpha=0.0, class_weight='balanced', criterion='gini',\n",
       "                       max_depth=10, max_features=None, max_leaf_nodes=500,\n",
       "                       min_impurity_decrease=0.0, min_impurity_split=None,\n",
       "                       min_samples_leaf=10, min_samples_split=5,\n",
       "                       min_weight_fraction_leaf=0.0, presort='deprecated',\n",
       "                       random_state=None, splitter='best')"
      ]
     },
     "execution_count": 14,
     "metadata": {
      "tags": []
     },
     "output_type": "execute_result"
    }
   ],
   "source": [
    "model = tree.DecisionTreeClassifier(ccp_alpha=0.0, class_weight='balanced', criterion='gini',\n",
    "                       max_depth=10, max_features=None, max_leaf_nodes=500,\n",
    "                       min_impurity_decrease=0.0, min_impurity_split=None,\n",
    "                       min_samples_leaf=10, min_samples_split=5,\n",
    "                       min_weight_fraction_leaf=0.0, presort='deprecated',\n",
    "                      splitter='best')\n",
    "\n",
    "model.fit(X_train,y_train)"
   ]
  },
  {
   "cell_type": "code",
   "execution_count": 15,
   "metadata": {
    "colab": {
     "base_uri": "https://localhost:8080/",
     "height": 269
    },
    "colab_type": "code",
    "id": "IqO7PiHUhFIR",
    "outputId": "2002f946-7aa8-4beb-a3f6-869046636927"
   },
   "outputs": [
    {
     "data": {
      "text/plain": [
       "CalibratedClassifierCV(base_estimator=DecisionTreeClassifier(ccp_alpha=0.0,\n",
       "                                                             class_weight='balanced',\n",
       "                                                             criterion='gini',\n",
       "                                                             max_depth=10,\n",
       "                                                             max_features=None,\n",
       "                                                             max_leaf_nodes=500,\n",
       "                                                             min_impurity_decrease=0.0,\n",
       "                                                             min_impurity_split=None,\n",
       "                                                             min_samples_leaf=10,\n",
       "                                                             min_samples_split=5,\n",
       "                                                             min_weight_fraction_leaf=0.0,\n",
       "                                                             presort='deprecated',\n",
       "                                                             random_state=None,\n",
       "                                                             splitter='best'),\n",
       "                       cv='prefit', method='sigmoid')"
      ]
     },
     "execution_count": 15,
     "metadata": {
      "tags": []
     },
     "output_type": "execute_result"
    }
   ],
   "source": [
    "cc_model = calibration.CalibratedClassifierCV(model,cv='prefit')\n",
    "cc_model.fit(X_train,y_train)"
   ]
  },
  {
   "cell_type": "code",
   "execution_count": 16,
   "metadata": {
    "colab": {
     "base_uri": "https://localhost:8080/",
     "height": 351
    },
    "colab_type": "code",
    "id": "CIxYiOfoih44",
    "outputId": "22d05bcb-ce60-4dc3-c118-3e0b7860f102"
   },
   "outputs": [
    {
     "name": "stdout",
     "output_type": "stream",
     "text": [
      "\t\t Decision Tree Classifier on Normal dataset \t\t \n",
      "\n"
     ]
    },
    {
     "data": {
      "image/png": "[encoded data removed]",
      "text/plain": [
       "<Figure size 432x288 with 1 Axes>"
      ]
     },
     "metadata": {
      "needs_background": "light",
      "tags": []
     },
     "output_type": "display_data"
    },
    {
     "name": "stdout",
     "output_type": "stream",
     "text": [
      "The log loss and auc was found to be 0.150 and 0.768 for Decision Tree Classifier on Normal dataset.\n"
     ]
    }
   ],
   "source": [
    "i+=1\n",
    "y_pred = cc_model.predict_proba(X_val)[:,1]\n",
    "label=\"Decision Tree Classifier\"\n",
    "result = plot_auc(y_val,y_pred,label)\n",
    "result_df = result_df.append(result)\n",
    "del result"
   ]
  },
  {
   "cell_type": "code",
   "execution_count": 17,
   "metadata": {
    "colab": {
     "base_uri": "https://localhost:8080/",
     "height": 106
    },
    "colab_type": "code",
    "id": "qusVRO8HdpHW",
    "outputId": "5afb927a-d275-40e7-d4c6-dd1180856704"
   },
   "outputs": [
    {
     "data": {
      "text/html": [
       "<div>\n",
       "<style scoped>\n",
       "    .dataframe tbody tr th:only-of-type {\n",
       "        vertical-align: middle;\n",
       "    }\n",
       "\n",
       "    .dataframe tbody tr th {\n",
       "        vertical-align: top;\n",
       "    }\n",
       "\n",
       "    .dataframe thead th {\n",
       "        text-align: right;\n",
       "    }\n",
       "</style>\n",
       "<table border=\"1\" class=\"dataframe\">\n",
       "  <thead>\n",
       "    <tr style=\"text-align: right;\">\n",
       "      <th></th>\n",
       "      <th>Model</th>\n",
       "      <th>Dataset</th>\n",
       "      <th>log_loss</th>\n",
       "      <th>auc</th>\n",
       "    </tr>\n",
       "  </thead>\n",
       "  <tbody>\n",
       "    <tr>\n",
       "      <th>0</th>\n",
       "      <td>Logisic Regression</td>\n",
       "      <td>Normal</td>\n",
       "      <td>0.541973</td>\n",
       "      <td>0.812374</td>\n",
       "    </tr>\n",
       "    <tr>\n",
       "      <th>1</th>\n",
       "      <td>Decision Tree Classifier</td>\n",
       "      <td>Normal</td>\n",
       "      <td>0.149580</td>\n",
       "      <td>0.767621</td>\n",
       "    </tr>\n",
       "  </tbody>\n",
       "</table>\n",
       "</div>"
      ],
      "text/plain": [
       "                      Model Dataset  log_loss       auc\n",
       "0        Logisic Regression  Normal  0.541973  0.812374\n",
       "1  Decision Tree Classifier  Normal  0.149580  0.767621"
      ]
     },
     "execution_count": 17,
     "metadata": {
      "tags": []
     },
     "output_type": "execute_result"
    }
   ],
   "source": [
    "result_df"
   ]
  },
  {
   "cell_type": "markdown",
   "metadata": {
    "colab_type": "text",
    "id": "msPtDUHT0sQN"
   },
   "source": [
    "# Random Forest"
   ]
  },
  {
   "cell_type": "code",
   "execution_count": 19,
   "metadata": {
    "colab": {},
    "colab_type": "code",
    "id": "OwHc1zRG0sQP"
   },
   "outputs": [],
   "source": [
    "model = ensemble.RandomForestClassifier(class_weight='balanced')\n",
    "params = { 'n_estimators':[500,1000,2000],\n",
    "          'max_depth':[500,1000,2000], \n",
    "         'min_samples_split':[100,500,1000],\n",
    "          'min_samples_leaf':[3,5,7],\n",
    "          'max_leaf_nodes':[100,250,500] \n",
    "          }\n"
   ]
  },
  {
   "cell_type": "code",
   "execution_count": 20,
   "metadata": {
    "colab": {
     "base_uri": "https://localhost:8080/",
     "height": 286
    },
    "colab_type": "code",
    "id": "zDOPEuJy0sQS",
    "outputId": "94c7526f-1f67-42f9-c523-b711885da048"
   },
   "outputs": [
    {
     "name": "stdout",
     "output_type": "stream",
     "text": [
      "Fitting 3 folds for each of 10 candidates, totalling 30 fits\n"
     ]
    },
    {
     "name": "stderr",
     "output_type": "stream",
     "text": [
      "[Parallel(n_jobs=10)]: Using backend LokyBackend with 10 concurrent workers.\n",
      "[Parallel(n_jobs=10)]: Done  27 out of  30 | elapsed: 54.3min remaining:  6.0min\n",
      "[Parallel(n_jobs=10)]: Done  30 out of  30 | elapsed: 54.6min finished\n"
     ]
    },
    {
     "name": "stdout",
     "output_type": "stream",
     "text": [
      "The best auc score was 0.817\n",
      "The best params were: {'n_estimators': 2000, 'min_samples_split': 500, 'min_samples_leaf': 3, 'max_leaf_nodes': 250, 'max_depth': 2000}\n",
      "CPU times: user 6min 5s, sys: 1.17 s, total: 6min 6s\n",
      "Wall time: 1h 44s\n"
     ]
    },
    {
     "data": {
      "text/plain": [
       "RandomForestClassifier(bootstrap=True, ccp_alpha=0.0, class_weight='balanced',\n",
       "                       criterion='gini', max_depth=2000, max_features='auto',\n",
       "                       max_leaf_nodes=250, max_samples=None,\n",
       "                       min_impurity_decrease=0.0, min_impurity_split=None,\n",
       "                       min_samples_leaf=3, min_samples_split=500,\n",
       "                       min_weight_fraction_leaf=0.0, n_estimators=2000,\n",
       "                       n_jobs=None, oob_score=False, random_state=None,\n",
       "                       verbose=0, warm_start=False)"
      ]
     },
     "execution_count": 20,
     "metadata": {
      "tags": []
     },
     "output_type": "execute_result"
    }
   ],
   "source": [
    "%%time\n",
    "find_best_params(model,params,cv=3)"
   ]
  },
  {
   "cell_type": "code",
   "execution_count": 21,
   "metadata": {
    "colab": {
     "base_uri": "https://localhost:8080/",
     "height": 151
    },
    "colab_type": "code",
    "id": "RBeRKL7R0sQW",
    "outputId": "f34cae1d-274a-4d36-c1b5-fd962309440e"
   },
   "outputs": [
    {
     "data": {
      "text/plain": [
       "RandomForestClassifier(bootstrap=True, ccp_alpha=0.0, class_weight='balanced',\n",
       "                       criterion='gini', max_depth=2000, max_features='auto',\n",
       "                       max_leaf_nodes=250, max_samples=None,\n",
       "                       min_impurity_decrease=0.0, min_impurity_split=None,\n",
       "                       min_samples_leaf=3, min_samples_split=500,\n",
       "                       min_weight_fraction_leaf=0.0, n_estimators=2000,\n",
       "                       n_jobs=10, oob_score=False, random_state=None, verbose=0,\n",
       "                       warm_start=False)"
      ]
     },
     "execution_count": 21,
     "metadata": {
      "tags": []
     },
     "output_type": "execute_result"
    }
   ],
   "source": [
    "model = ensemble.RandomForestClassifier(bootstrap=True, ccp_alpha=0.0, class_weight='balanced',\n",
    "                       criterion='gini', max_depth=2000, max_features='auto',\n",
    "                       max_leaf_nodes=250, max_samples=None,\n",
    "                       min_impurity_decrease=0.0, min_impurity_split=None,\n",
    "                       min_samples_leaf=3, min_samples_split=500,\n",
    "                       min_weight_fraction_leaf=0.0, n_estimators=2000,\n",
    "                       n_jobs=10, oob_score=False,\n",
    "                       verbose=0, warm_start=False)\n",
    "\n",
    "\n",
    "model.fit(X_train,y_train)"
   ]
  },
  {
   "cell_type": "code",
   "execution_count": 22,
   "metadata": {
    "colab": {
     "base_uri": "https://localhost:8080/",
     "height": 353
    },
    "colab_type": "code",
    "id": "oJLF56Ts0sQY",
    "outputId": "4ca142fc-30d3-4bc6-90a1-2c830148f635"
   },
   "outputs": [
    {
     "data": {
      "text/plain": [
       "CalibratedClassifierCV(base_estimator=RandomForestClassifier(bootstrap=True,\n",
       "                                                             ccp_alpha=0.0,\n",
       "                                                             class_weight='balanced',\n",
       "                                                             criterion='gini',\n",
       "                                                             max_depth=2000,\n",
       "                                                             max_features='auto',\n",
       "                                                             max_leaf_nodes=250,\n",
       "                                                             max_samples=None,\n",
       "                                                             min_impurity_decrease=0.0,\n",
       "                                                             min_impurity_split=None,\n",
       "                                                             min_samples_leaf=3,\n",
       "                                                             min_samples_split=500,\n",
       "                                                             min_weight_fraction_leaf=0.0,\n",
       "                                                             n_estimators=2000,\n",
       "                                                             n_jobs=10,\n",
       "                                                             oob_score=False,\n",
       "                                                             random_state=None,\n",
       "                                                             verbose=0,\n",
       "                                                             warm_start=False),\n",
       "                       cv='prefit', method='sigmoid')"
      ]
     },
     "execution_count": 22,
     "metadata": {
      "tags": []
     },
     "output_type": "execute_result"
    }
   ],
   "source": [
    "cc_model = calibration.CalibratedClassifierCV(model,cv='prefit')\n",
    "cc_model.fit(X_train,y_train)"
   ]
  },
  {
   "cell_type": "code",
   "execution_count": 23,
   "metadata": {
    "colab": {
     "base_uri": "https://localhost:8080/",
     "height": 351
    },
    "colab_type": "code",
    "id": "4Jct69qq0sQa",
    "outputId": "584c0bb8-1a71-4b35-fa93-79363fab1a97"
   },
   "outputs": [
    {
     "name": "stdout",
     "output_type": "stream",
     "text": [
      "\t\t Random Forest Classifier on Normal dataset \t\t \n",
      "\n"
     ]
    },
    {
     "data": {
      "image/png": "[encoded data removed]",
      "text/plain": [
       "<Figure size 432x288 with 1 Axes>"
      ]
     },
     "metadata": {
      "needs_background": "light",
      "tags": []
     },
     "output_type": "display_data"
    },
    {
     "name": "stdout",
     "output_type": "stream",
     "text": [
      "The log loss and auc was found to be 0.138 and 0.832 for Random Forest Classifier on Normal dataset.\n"
     ]
    }
   ],
   "source": [
    "i+=1\n",
    "y_pred = cc_model.predict_proba(X_val)[:,1]\n",
    "label=\"Random Forest Classifier\"\n",
    "result = plot_auc(y_val,y_pred,label)\n",
    "result_df = result_df.append(result)\n",
    "del result"
   ]
  },
  {
   "cell_type": "code",
   "execution_count": 24,
   "metadata": {
    "colab": {
     "base_uri": "https://localhost:8080/",
     "height": 136
    },
    "colab_type": "code",
    "id": "0igsmQs_0sQd",
    "outputId": "dfebb0f0-e4f8-400b-8b4c-f802fbdc898e"
   },
   "outputs": [
    {
     "data": {
      "text/html": [
       "<div>\n",
       "<style scoped>\n",
       "    .dataframe tbody tr th:only-of-type {\n",
       "        vertical-align: middle;\n",
       "    }\n",
       "\n",
       "    .dataframe tbody tr th {\n",
       "        vertical-align: top;\n",
       "    }\n",
       "\n",
       "    .dataframe thead th {\n",
       "        text-align: right;\n",
       "    }\n",
       "</style>\n",
       "<table border=\"1\" class=\"dataframe\">\n",
       "  <thead>\n",
       "    <tr style=\"text-align: right;\">\n",
       "      <th></th>\n",
       "      <th>Model</th>\n",
       "      <th>Dataset</th>\n",
       "      <th>log_loss</th>\n",
       "      <th>auc</th>\n",
       "    </tr>\n",
       "  </thead>\n",
       "  <tbody>\n",
       "    <tr>\n",
       "      <th>0</th>\n",
       "      <td>Logisic Regression</td>\n",
       "      <td>Normal</td>\n",
       "      <td>0.541973</td>\n",
       "      <td>0.812374</td>\n",
       "    </tr>\n",
       "    <tr>\n",
       "      <th>1</th>\n",
       "      <td>Decision Tree Classifier</td>\n",
       "      <td>Normal</td>\n",
       "      <td>0.149580</td>\n",
       "      <td>0.767621</td>\n",
       "    </tr>\n",
       "    <tr>\n",
       "      <th>2</th>\n",
       "      <td>Random Forest Classifier</td>\n",
       "      <td>Normal</td>\n",
       "      <td>0.137510</td>\n",
       "      <td>0.832309</td>\n",
       "    </tr>\n",
       "  </tbody>\n",
       "</table>\n",
       "</div>"
      ],
      "text/plain": [
       "                      Model Dataset  log_loss       auc\n",
       "0        Logisic Regression  Normal  0.541973  0.812374\n",
       "1  Decision Tree Classifier  Normal  0.149580  0.767621\n",
       "2  Random Forest Classifier  Normal  0.137510  0.832309"
      ]
     },
     "execution_count": 24,
     "metadata": {
      "tags": []
     },
     "output_type": "execute_result"
    }
   ],
   "source": [
    "result_df"
   ]
  },
  {
   "cell_type": "markdown",
   "metadata": {
    "colab_type": "text",
    "id": "U85-m-LIEmmc"
   },
   "source": [
    "# XGB Classifier"
   ]
  },
  {
   "cell_type": "code",
   "execution_count": 79,
   "metadata": {
    "colab": {},
    "colab_type": "code",
    "id": "Ssc-G7LSEmme"
   },
   "outputs": [],
   "source": [
    "model = xgb.XGBClassifier(n_jobs=-1,\n",
    "                      nthread=-1,\n",
    "                      scale_pos_weight=1,\n",
    "                      learning_rate=0.1,  \n",
    "                      colsample_bytree = 0.5,\n",
    "                      subsample = 0.9,\n",
    "                      objective='binary:logistic', \n",
    "                      n_estimators=100,\n",
    "                      reg_alpha = 0.3,\n",
    "                      max_depth=5, \n",
    "                      gamma=5,\n",
    "                     )\n",
    "#validation_0-auc:0.84556"
   ]
  },
  {
   "cell_type": "code",
   "execution_count": 80,
   "metadata": {},
   "outputs": [
    {
     "name": "stdout",
     "output_type": "stream",
     "text": [
      "[0]\tvalidation_0-auc:0.73844\tvalidation_0-error:0.03973\n",
      "[1]\tvalidation_0-auc:0.81412\tvalidation_0-error:0.03955\n",
      "[2]\tvalidation_0-auc:0.81038\tvalidation_0-error:0.03955\n",
      "[3]\tvalidation_0-auc:0.82114\tvalidation_0-error:0.03955\n",
      "[4]\tvalidation_0-auc:0.81847\tvalidation_0-error:0.03955\n",
      "[5]\tvalidation_0-auc:0.81816\tvalidation_0-error:0.03955\n",
      "[6]\tvalidation_0-auc:0.81914\tvalidation_0-error:0.03955\n",
      "[7]\tvalidation_0-auc:0.81995\tvalidation_0-error:0.03955\n",
      "[8]\tvalidation_0-auc:0.81815\tvalidation_0-error:0.03955\n",
      "[9]\tvalidation_0-auc:0.81619\tvalidation_0-error:0.03955\n",
      "[10]\tvalidation_0-auc:0.81864\tvalidation_0-error:0.03955\n",
      "[11]\tvalidation_0-auc:0.82191\tvalidation_0-error:0.03955\n",
      "[12]\tvalidation_0-auc:0.82218\tvalidation_0-error:0.03955\n",
      "[13]\tvalidation_0-auc:0.82267\tvalidation_0-error:0.03955\n",
      "[14]\tvalidation_0-auc:0.82161\tvalidation_0-error:0.03955\n",
      "[15]\tvalidation_0-auc:0.82123\tvalidation_0-error:0.03955\n",
      "[16]\tvalidation_0-auc:0.82523\tvalidation_0-error:0.03955\n",
      "[17]\tvalidation_0-auc:0.82366\tvalidation_0-error:0.03955\n",
      "[18]\tvalidation_0-auc:0.82273\tvalidation_0-error:0.03955\n",
      "[19]\tvalidation_0-auc:0.82223\tvalidation_0-error:0.03955\n",
      "[20]\tvalidation_0-auc:0.82503\tvalidation_0-error:0.03955\n",
      "[21]\tvalidation_0-auc:0.82933\tvalidation_0-error:0.03955\n",
      "[22]\tvalidation_0-auc:0.82858\tvalidation_0-error:0.03955\n",
      "[23]\tvalidation_0-auc:0.82776\tvalidation_0-error:0.03955\n",
      "[24]\tvalidation_0-auc:0.82792\tvalidation_0-error:0.03955\n",
      "[25]\tvalidation_0-auc:0.83021\tvalidation_0-error:0.03955\n",
      "[26]\tvalidation_0-auc:0.83158\tvalidation_0-error:0.03955\n",
      "[27]\tvalidation_0-auc:0.83339\tvalidation_0-error:0.03955\n",
      "[28]\tvalidation_0-auc:0.83422\tvalidation_0-error:0.03955\n",
      "[29]\tvalidation_0-auc:0.83534\tvalidation_0-error:0.03955\n",
      "[30]\tvalidation_0-auc:0.83578\tvalidation_0-error:0.03955\n",
      "[31]\tvalidation_0-auc:0.83624\tvalidation_0-error:0.03955\n",
      "[32]\tvalidation_0-auc:0.83640\tvalidation_0-error:0.03955\n",
      "[33]\tvalidation_0-auc:0.83724\tvalidation_0-error:0.03955\n",
      "[34]\tvalidation_0-auc:0.83752\tvalidation_0-error:0.03955\n",
      "[35]\tvalidation_0-auc:0.83773\tvalidation_0-error:0.03955\n",
      "[36]\tvalidation_0-auc:0.83916\tvalidation_0-error:0.03955\n",
      "[37]\tvalidation_0-auc:0.83910\tvalidation_0-error:0.03955\n",
      "[38]\tvalidation_0-auc:0.83911\tvalidation_0-error:0.03955\n",
      "[39]\tvalidation_0-auc:0.83908\tvalidation_0-error:0.03955\n",
      "[40]\tvalidation_0-auc:0.83940\tvalidation_0-error:0.03955\n",
      "[41]\tvalidation_0-auc:0.83941\tvalidation_0-error:0.03955\n",
      "[42]\tvalidation_0-auc:0.83965\tvalidation_0-error:0.03955\n",
      "[43]\tvalidation_0-auc:0.84011\tvalidation_0-error:0.03955\n",
      "[44]\tvalidation_0-auc:0.84003\tvalidation_0-error:0.03955\n",
      "[45]\tvalidation_0-auc:0.83970\tvalidation_0-error:0.03955\n",
      "[46]\tvalidation_0-auc:0.84062\tvalidation_0-error:0.03955\n",
      "[47]\tvalidation_0-auc:0.84099\tvalidation_0-error:0.03955\n",
      "[48]\tvalidation_0-auc:0.84076\tvalidation_0-error:0.03955\n",
      "[49]\tvalidation_0-auc:0.84078\tvalidation_0-error:0.03955\n",
      "[50]\tvalidation_0-auc:0.84157\tvalidation_0-error:0.03955\n",
      "[51]\tvalidation_0-auc:0.84162\tvalidation_0-error:0.03955\n",
      "[52]\tvalidation_0-auc:0.84133\tvalidation_0-error:0.03955\n",
      "[53]\tvalidation_0-auc:0.84221\tvalidation_0-error:0.03955\n",
      "[54]\tvalidation_0-auc:0.84275\tvalidation_0-error:0.03955\n",
      "[55]\tvalidation_0-auc:0.84318\tvalidation_0-error:0.03955\n",
      "[56]\tvalidation_0-auc:0.84366\tvalidation_0-error:0.03955\n",
      "[57]\tvalidation_0-auc:0.84389\tvalidation_0-error:0.03955\n",
      "[58]\tvalidation_0-auc:0.84428\tvalidation_0-error:0.03955\n",
      "[59]\tvalidation_0-auc:0.84446\tvalidation_0-error:0.03964\n",
      "[60]\tvalidation_0-auc:0.84464\tvalidation_0-error:0.03964\n",
      "[61]\tvalidation_0-auc:0.84475\tvalidation_0-error:0.03964\n",
      "[62]\tvalidation_0-auc:0.84423\tvalidation_0-error:0.03964\n",
      "[63]\tvalidation_0-auc:0.84421\tvalidation_0-error:0.03964\n",
      "[64]\tvalidation_0-auc:0.84414\tvalidation_0-error:0.03955\n",
      "[65]\tvalidation_0-auc:0.84427\tvalidation_0-error:0.03955\n",
      "[66]\tvalidation_0-auc:0.84423\tvalidation_0-error:0.03955\n",
      "[67]\tvalidation_0-auc:0.84432\tvalidation_0-error:0.03955\n",
      "[68]\tvalidation_0-auc:0.84441\tvalidation_0-error:0.03955\n",
      "[69]\tvalidation_0-auc:0.84474\tvalidation_0-error:0.03955\n",
      "[70]\tvalidation_0-auc:0.84495\tvalidation_0-error:0.03955\n",
      "[71]\tvalidation_0-auc:0.84495\tvalidation_0-error:0.03955\n",
      "[72]\tvalidation_0-auc:0.84464\tvalidation_0-error:0.03955\n",
      "[73]\tvalidation_0-auc:0.84470\tvalidation_0-error:0.03955\n",
      "[74]\tvalidation_0-auc:0.84480\tvalidation_0-error:0.03955\n",
      "[75]\tvalidation_0-auc:0.84457\tvalidation_0-error:0.03955\n",
      "[76]\tvalidation_0-auc:0.84447\tvalidation_0-error:0.03955\n",
      "[77]\tvalidation_0-auc:0.84462\tvalidation_0-error:0.03955\n",
      "[78]\tvalidation_0-auc:0.84461\tvalidation_0-error:0.03955\n",
      "[79]\tvalidation_0-auc:0.84457\tvalidation_0-error:0.03955\n",
      "[80]\tvalidation_0-auc:0.84472\tvalidation_0-error:0.03955\n",
      "[81]\tvalidation_0-auc:0.84475\tvalidation_0-error:0.03955\n",
      "[82]\tvalidation_0-auc:0.84478\tvalidation_0-error:0.03955\n",
      "[83]\tvalidation_0-auc:0.84501\tvalidation_0-error:0.03955\n",
      "[84]\tvalidation_0-auc:0.84500\tvalidation_0-error:0.03955\n",
      "[85]\tvalidation_0-auc:0.84500\tvalidation_0-error:0.03955\n",
      "[86]\tvalidation_0-auc:0.84488\tvalidation_0-error:0.03955\n",
      "[87]\tvalidation_0-auc:0.84494\tvalidation_0-error:0.03955\n",
      "[88]\tvalidation_0-auc:0.84494\tvalidation_0-error:0.03955\n",
      "[89]\tvalidation_0-auc:0.84491\tvalidation_0-error:0.03955\n",
      "[90]\tvalidation_0-auc:0.84500\tvalidation_0-error:0.03955\n",
      "[91]\tvalidation_0-auc:0.84485\tvalidation_0-error:0.03955\n",
      "[92]\tvalidation_0-auc:0.84485\tvalidation_0-error:0.03955\n",
      "[93]\tvalidation_0-auc:0.84507\tvalidation_0-error:0.03955\n",
      "[94]\tvalidation_0-auc:0.84519\tvalidation_0-error:0.03955\n",
      "[95]\tvalidation_0-auc:0.84510\tvalidation_0-error:0.03955\n",
      "[96]\tvalidation_0-auc:0.84506\tvalidation_0-error:0.03955\n",
      "[97]\tvalidation_0-auc:0.84487\tvalidation_0-error:0.03955\n",
      "[98]\tvalidation_0-auc:0.84552\tvalidation_0-error:0.03955\n",
      "[99]\tvalidation_0-auc:0.84556\tvalidation_0-error:0.03955\n",
      "CPU times: user 50.1 s, sys: 276 ms, total: 50.4 s\n",
      "Wall time: 50.3 s\n"
     ]
    },
    {
     "data": {
      "text/plain": [
       "XGBClassifier(base_score=0.5, booster='gbtree', colsample_bylevel=1,\n",
       "              colsample_bynode=1, colsample_bytree=0.5, gamma=5, gpu_id=-1,\n",
       "              importance_type='gain', interaction_constraints='',\n",
       "              learning_rate=0.1, max_delta_step=0, max_depth=5,\n",
       "              min_child_weight=1, missing=nan, monotone_constraints='()',\n",
       "              n_estimators=100, n_jobs=-1, nthread=-1, num_parallel_tree=1,\n",
       "              random_state=0, reg_alpha=0.3, reg_lambda=1, scale_pos_weight=1,\n",
       "              subsample=0.9, tree_method='exact', validate_parameters=1,\n",
       "              verbosity=None)"
      ]
     },
     "execution_count": 80,
     "metadata": {},
     "output_type": "execute_result"
    }
   ],
   "source": [
    "#https://towardsdatascience.com/fine-tuning-xgboost-in-python-like-a-boss-b4543ed8b1e\n",
    "\"\"\"\n",
    "manually changed each parameters 1 by 1 and compared the validation auc\n",
    "and selected the best parameter value\n",
    "\"\"\"\n",
    "eval_metric = ['auc','error']\n",
    "%time model.fit(X_train,y_train,eval_set=[(X_val,y_val)],eval_metric=eval_metric,verbose=True)"
   ]
  },
  {
   "cell_type": "code",
   "execution_count": 65,
   "metadata": {
    "colab": {
     "base_uri": "https://localhost:8080/",
     "height": 151
    },
    "colab_type": "code",
    "id": "FdrKrxntEmmm",
    "outputId": "f445d5b0-73ef-445a-f2d2-ce839b2d8954"
   },
   "outputs": [
    {
     "name": "stdout",
     "output_type": "stream",
     "text": [
      "CPU times: user 48.6 s, sys: 268 ms, total: 48.8 s\n",
      "Wall time: 48.9 s\n"
     ]
    },
    {
     "data": {
      "text/plain": [
       "XGBClassifier(base_score=0.5, booster='gbtree', colsample_bylevel=1,\n",
       "              colsample_bynode=1, colsample_bytree=0.5, gamma=5, gpu_id=-1,\n",
       "              importance_type='gain', interaction_constraints='',\n",
       "              learning_rate=0.1, max_delta_step=0, max_depth=5,\n",
       "              min_child_weight=1, missing=nan, monotone_constraints='()',\n",
       "              n_estimators=100, n_jobs=-1, nthread=-1, num_parallel_tree=1,\n",
       "              random_state=0, reg_alpha=0.3, reg_lambda=1, scale_pos_weight=1,\n",
       "              subsample=0.9, tree_method='exact', validate_parameters=1,\n",
       "              verbosity=None)"
      ]
     },
     "execution_count": 65,
     "metadata": {},
     "output_type": "execute_result"
    }
   ],
   "source": [
    "model = xgb.XGBClassifier(base_score=0.5, booster='gbtree', colsample_bylevel=1,\n",
    "              colsample_bynode=1, colsample_bytree=0.5, gamma=5, gpu_id=-1,\n",
    "              importance_type='gain', interaction_constraints='',\n",
    "              learning_rate=0.1, max_delta_step=0, max_depth=5,\n",
    "              min_child_weight=1, missing=np.nan, monotone_constraints='()',\n",
    "              n_estimators=100, n_jobs=-1, nthread=-1, num_parallel_tree=1,\n",
    "              random_state=0, reg_alpha=0.3, reg_lambda=1, scale_pos_weight=1,\n",
    "              subsample=0.9, tree_method='exact', validate_parameters=1,\n",
    "              verbosity=None)\n",
    "\n",
    "%time model.fit(X_train,y_train)"
   ]
  },
  {
   "cell_type": "code",
   "execution_count": 82,
   "metadata": {
    "colab": {
     "base_uri": "https://localhost:8080/",
     "height": 351
    },
    "colab_type": "code",
    "id": "EcGsADLLEmmt",
    "outputId": "192e6382-5ea4-4a59-9b49-858d7627f918"
   },
   "outputs": [
    {
     "name": "stdout",
     "output_type": "stream",
     "text": [
      "\t\t XGBoost Classifer on Normal dataset \t\t \n",
      "\n"
     ]
    },
    {
     "data": {
      "image/png": "[encoded data removed]",
      "text/plain": [
       "<Figure size 432x288 with 1 Axes>"
      ]
     },
     "metadata": {},
     "output_type": "display_data"
    },
    {
     "name": "stdout",
     "output_type": "stream",
     "text": [
      "The log loss and auc was found to be 0.133 and 0.846 for XGBoost Classifer on Normal dataset.\n"
     ]
    }
   ],
   "source": [
    "i+=1\n",
    "y_pred = model.predict_proba(X_val)[:,1]\n",
    "label=\"XGBoost Classifer\"\n",
    "result = plot_auc(y_val,y_pred,label)\n",
    "result_df = result_df.append(result)\n",
    "del result"
   ]
  },
  {
   "cell_type": "code",
   "execution_count": 83,
   "metadata": {
    "colab": {
     "base_uri": "https://localhost:8080/",
     "height": 106
    },
    "colab_type": "code",
    "id": "kn5XWIAPEmmx",
    "outputId": "809cd56c-ea3f-4a4d-aa4c-ca0e37453406"
   },
   "outputs": [
    {
     "data": {
      "text/html": [
       "<div>\n",
       "<style scoped>\n",
       "    .dataframe tbody tr th:only-of-type {\n",
       "        vertical-align: middle;\n",
       "    }\n",
       "\n",
       "    .dataframe tbody tr th {\n",
       "        vertical-align: top;\n",
       "    }\n",
       "\n",
       "    .dataframe thead th {\n",
       "        text-align: right;\n",
       "    }\n",
       "</style>\n",
       "<table border=\"1\" class=\"dataframe\">\n",
       "  <thead>\n",
       "    <tr style=\"text-align: right;\">\n",
       "      <th></th>\n",
       "      <th>Model</th>\n",
       "      <th>Dataset</th>\n",
       "      <th>log_loss</th>\n",
       "      <th>auc</th>\n",
       "    </tr>\n",
       "  </thead>\n",
       "  <tbody>\n",
       "    <tr>\n",
       "      <th>0</th>\n",
       "      <td>Logisic Regression</td>\n",
       "      <td>Normal</td>\n",
       "      <td>0.541973</td>\n",
       "      <td>0.812374</td>\n",
       "    </tr>\n",
       "    <tr>\n",
       "      <th>6</th>\n",
       "      <td>Random Forest Classifier</td>\n",
       "      <td>Normal</td>\n",
       "      <td>3.945935</td>\n",
       "      <td>0.154439</td>\n",
       "    </tr>\n",
       "    <tr>\n",
       "      <th>7</th>\n",
       "      <td>Random Forest Classifier</td>\n",
       "      <td>Normal</td>\n",
       "      <td>0.133004</td>\n",
       "      <td>0.845561</td>\n",
       "    </tr>\n",
       "    <tr>\n",
       "      <th>9</th>\n",
       "      <td>XGBoost Classifer</td>\n",
       "      <td>Normal</td>\n",
       "      <td>0.133004</td>\n",
       "      <td>0.845561</td>\n",
       "    </tr>\n",
       "  </tbody>\n",
       "</table>\n",
       "</div>"
      ],
      "text/plain": [
       "                      Model Dataset  log_loss       auc\n",
       "0        Logisic Regression  Normal  0.541973  0.812374\n",
       "6  Random Forest Classifier  Normal  3.945935  0.154439\n",
       "7  Random Forest Classifier  Normal  0.133004  0.845561\n",
       "9         XGBoost Classifer  Normal  0.133004  0.845561"
      ]
     },
     "execution_count": 83,
     "metadata": {},
     "output_type": "execute_result"
    }
   ],
   "source": [
    "result_df"
   ]
  },
  {
   "cell_type": "code",
   "execution_count": null,
   "metadata": {},
   "outputs": [],
   "source": []
  }
 ],
 "metadata": {
  "accelerator": "GPU",
  "colab": {
   "authorship_tag": "ABX9TyNHdncc+IVViXKJcw2MwOs1",
   "include_colab_link": true,
   "mount_file_id": "1EfbKaY2u80z-i8X3ZlqIzr0fdHA3XDmC",
   "name": "Modelling_Normal.ipynb",
   "provenance": []
  },
  "environment": {
   "name": "common-cpu.m48",
   "type": "gcloud",
   "uri": "gcr.io/deeplearning-platform-release/base-cpu:m48"
  },
  "kernelspec": {
   "display_name": "Python 3",
   "language": "python",
   "name": "python3"
  },
  "language_info": {
   "codemirror_mode": {
    "name": "ipython",
    "version": 3
   },
   "file_extension": ".py",
   "mimetype": "text/x-python",
   "name": "python",
   "nbconvert_exporter": "python",
   "pygments_lexer": "ipython3",
   "version": "3.7.6"
  }
 },
 "nbformat": 4,
 "nbformat_minor": 4
}
