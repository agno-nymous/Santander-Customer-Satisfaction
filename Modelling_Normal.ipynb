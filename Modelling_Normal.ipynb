{
  "nbformat": 4,
  "nbformat_minor": 0,
  "metadata": {
    "colab": {
      "name": "Modelling_Normal.ipynb",
      "provenance": [],
      "collapsed_sections": [],
      "include_colab_link": true
    },
    "environment": {
      "name": "common-cpu.m48",
      "type": "gcloud",
      "uri": "gcr.io/deeplearning-platform-release/base-cpu:m48"
    },
    "kernelspec": {
      "display_name": "Python 3",
      "language": "python",
      "name": "python3"
    },
    "language_info": {
      "codemirror_mode": {
        "name": "ipython",
        "version": 3
      },
      "file_extension": ".py",
      "mimetype": "text/x-python",
      "name": "python",
      "nbconvert_exporter": "python",
      "pygments_lexer": "ipython3",
      "version": "3.7.6"
    }
  },
  "cells": [
    {
      "cell_type": "markdown",
      "metadata": {
        "id": "view-in-github",
        "colab_type": "text"
      },
      "source": [
        "<a href=\"https://colab.research.google.com/github/ashishthomaschempolil/Santander-Customer-Satisfaction/blob/master/Modelling_Normal.ipynb\" target=\"_parent\"><img src=\"https://colab.research.google.com/assets/colab-badge.svg\" alt=\"Open In Colab\"/></a>"
      ]
    },
    {
      "cell_type": "code",
      "metadata": {
        "id": "95HJJrXKE0JA",
        "colab_type": "code",
        "colab": {
          "base_uri": "https://localhost:8080/",
          "height": 121
        },
        "outputId": "0c79b990-1009-44dc-9c29-ca21c5c50ac9"
      },
      "source": [
        "from google.colab import drive\n",
        "drive.mount('/content/drive')"
      ],
      "execution_count": 1,
      "outputs": [
        {
          "output_type": "stream",
          "text": [
            "Go to this URL in a browser: https://accounts.google.com/o/oauth2/auth?client_id=947318989803-6bn6qk8qdgf4n4g3pfee6491hc0brc4i.apps.googleusercontent.com&redirect_uri=urn%3aietf%3awg%3aoauth%3a2.0%3aoob&response_type=code&scope=email%20https%3a%2f%2fwww.googleapis.com%2fauth%2fdocs.test%20https%3a%2f%2fwww.googleapis.com%2fauth%2fdrive%20https%3a%2f%2fwww.googleapis.com%2fauth%2fdrive.photos.readonly%20https%3a%2f%2fwww.googleapis.com%2fauth%2fpeopleapi.readonly\n",
            "\n",
            "Enter your authorization code:\n",
            "··········\n",
            "Mounted at /content/drive\n"
          ],
          "name": "stdout"
        }
      ]
    },
    {
      "cell_type": "code",
      "metadata": {
        "colab_type": "code",
        "id": "QVQr_7USbczr",
        "colab": {}
      },
      "source": [
        "import warnings\n",
        "warnings.filterwarnings(\"ignore\")\n",
        "import pandas as pd\n",
        "import numpy as np\n",
        "%matplotlib inline\n",
        "import matplotlib.pyplot as plt\n",
        "import seaborn as sns\n",
        "sns.set(palette='muted',style='whitegrid')\n",
        "import sklearn\n",
        "from sklearn import metrics,ensemble,model_selection,linear_model,tree,calibration\n",
        "import xgboost as xgb\n",
        "import lightgbm as lgb\n",
        "import scipy\n",
        "import random\n",
        "from tqdm import tqdm\n",
        "import os\n",
        "np.random.seed(13154)"
      ],
      "execution_count": 34,
      "outputs": []
    },
    {
      "cell_type": "code",
      "metadata": {
        "colab_type": "code",
        "id": "hRB4PxAYa5xu",
        "colab": {
          "base_uri": "https://localhost:8080/",
          "height": 218
        },
        "outputId": "ab14a1fb-3bc6-4dad-c763-71e31fef1c31"
      },
      "source": [
        "file = [k for k in os.listdir('/content/drive/My Drive/Santander_Customer_Satisfaction') if (('train' in k)|('test' in k))&('X' not in k)] #getting all the necessary files for modelling\n",
        "file"
      ],
      "execution_count": 3,
      "outputs": [
        {
          "output_type": "execute_result",
          "data": {
            "text/plain": [
              "['train_Normal.pkl',\n",
              " 'test_Normal.pkl',\n",
              " 'train_Normal with Response encoding.pkl',\n",
              " 'test_Normal with Response encoding.pkl',\n",
              " 'train_Normal with One Hot Encoding.pkl',\n",
              " 'test_Normal with One Hot Encoding.pkl',\n",
              " 'train_Log Transformed.pkl',\n",
              " 'test_Log Transformed.pkl',\n",
              " 'train_Log Transformed with Response encoding.pkl',\n",
              " 'test_Log Transformed with Response encoding.pkl',\n",
              " 'train_Log Transformed with One Hot Encoding.pkl',\n",
              " 'test_Log Transformed with One Hot Encoding.pkl']"
            ]
          },
          "metadata": {
            "tags": []
          },
          "execution_count": 3
        }
      ]
    },
    {
      "cell_type": "code",
      "metadata": {
        "colab_type": "code",
        "id": "mV0hmG66S7ZC",
        "colab": {
          "base_uri": "https://localhost:8080/",
          "height": 34
        },
        "outputId": "e35b5008-f66c-4aed-dfdb-1e1d41febcf3"
      },
      "source": [
        "file_path = '/content/drive/My Drive/Santander_Customer_Satisfaction/'\n",
        "train_file = file_path+file[0] #Normal\n",
        "test_file = file_path+file[1]\n",
        "dataset= \"Normal\"\n",
        "train = pd.read_pickle(train_file)\n",
        "test = pd.read_pickle(test_file)\n",
        "X_train = train.drop(['ID','TARGET'],axis=1)\n",
        "y_train = train['TARGET'].values\n",
        "X_test = test.drop('ID',axis=1)\n",
        "del train,test\n",
        "X_train,X_val,y_train,y_val = model_selection.train_test_split(X_train,y_train,stratify=y_train,test_size=0.15)\n",
        "X_train.shape,X_val.shape,X_test.shape"
      ],
      "execution_count": 4,
      "outputs": [
        {
          "output_type": "execute_result",
          "data": {
            "text/plain": [
              "((64617, 358), (11403, 358), (75818, 358))"
            ]
          },
          "metadata": {
            "tags": []
          },
          "execution_count": 4
        }
      ]
    },
    {
      "cell_type": "code",
      "metadata": {
        "colab_type": "code",
        "id": "v4yLi9O_CtFR",
        "colab": {}
      },
      "source": [
        "global i\n",
        "i=0\n",
        "def plot_auc(y_true,y_pred,label,dataset=dataset):\n",
        "  \"\"\"\n",
        "  Plots auc curve when y_true and y_pred are given\n",
        "  dataset is string which tells which dataset were used.\n",
        "  label: tells which model was used\n",
        "  If label is a list plots all the auc curve for all labels (here y_pred will be a list of lists )\n",
        "  \"\"\"\n",
        "  \n",
        "  \n",
        "  if (type(label)!=list) & (type(label)!=np.array):\n",
        "    print(\"\\t\\t %s on %s dataset \\t\\t \\n\"%(label,dataset))\n",
        "    fpr,tpr,threshold = metrics.roc_curve(y_true,y_pred)\n",
        "    auc = metrics.roc_auc_score(y_true,y_pred)\n",
        "    log_loss = metrics.log_loss(y_true,y_pred)\n",
        "    label_1 = label+' AUC=%.3f'%(auc)\n",
        "\n",
        "    #plotting tpr vs fpr\n",
        "    sns.lineplot(fpr,tpr,label=label_1)\n",
        "    x=np.arange(0,1.1,0.1)\n",
        "    sns.lineplot(x,x,label=\"AUC=0.5\")\n",
        "    plt.title(\"ROC on %s dataset\"%(dataset))\n",
        "    plt.xlabel('False Positive Rate')\n",
        "    plt.ylabel(\"True Positive Rate\")\n",
        "    plt.legend(bbox_to_anchor=(1.05, 1), loc=2, borderaxespad=0.) #legend box outside graph\n",
        "    plt.show()\n",
        "    print(\"The log loss and auc was found to be %.3f and %.3f for %s on %s dataset.\"%(log_loss,auc,label,dataset))\n",
        "    #creating a dataframe of the result\n",
        "    result_dict = {\"Model\":label,'Dataset':dataset,'log_loss':log_loss,'auc':auc}\n",
        "    \n",
        "    return pd.DataFrame(result_dict,index=[i])\n",
        "\n",
        "\n",
        "    \n",
        "    \n",
        "\n",
        "  else:\n",
        "    plt.figure(figsize=(12,8))\n",
        "    for i,y in enumerate(y_pred):\n",
        "      fpr,tpr,threshold = metrics.roc_curve(y_true,y)\n",
        "      auc = metrics.roc_auc_score(y_true,y)\n",
        "      label_ = label[i]+' AUC=%.3f'%(auc)\n",
        "      #plotting tpr vs fpr\n",
        "      sns.lineplot(fpr,tpr,label=label_)\n",
        "\n",
        "    x=np.arange(0,1.1,0.1)\n",
        "    sns.lineplot(x,x,label=\"AUC=0.5\")\n",
        "    plt.title(\"Combined ROC\")\n",
        "    plt.xlabel('False Positive Rate')\n",
        "    plt.ylabel(\"True Positive Rate\")\n",
        "    plt.legend(bbox_to_anchor=(1.05, 1), loc=2, borderaxespad=0.) #legend box outside graph\n",
        "    plt.show()\n",
        "\n",
        "\n",
        "  \n"
      ],
      "execution_count": 115,
      "outputs": []
    },
    {
      "cell_type": "markdown",
      "metadata": {
        "colab_type": "text",
        "id": "vvLQsSsVAsUA"
      },
      "source": [
        "# Modeling"
      ]
    },
    {
      "cell_type": "code",
      "metadata": {
        "colab_type": "code",
        "id": "spCK7X7beIiy",
        "colab": {}
      },
      "source": [
        "def find_best_params(model,params,cv=10,n_jobs=-1):\n",
        "  \"\"\"\n",
        "  Funcion which implements Random Seacrh CV and returns best model\n",
        "  \"\"\"\n",
        "  random_cv = model_selection.RandomizedSearchCV(model,param_distributions=params,scoring='roc_auc',n_jobs=n_jobs,cv=cv,verbose=2)\n",
        "  random_cv.fit(X_train,y_train)\n",
        "  print(\"The best auc score was %.3f\"%(random_cv.best_score_))\n",
        "  print(\"The best params were: %s\"%(random_cv.best_params_))\n",
        "  return random_cv.best_estimator_"
      ],
      "execution_count": 6,
      "outputs": []
    },
    {
      "cell_type": "markdown",
      "metadata": {
        "colab_type": "text",
        "id": "uLh2j2XvAxeO"
      },
      "source": [
        "# Logistic Regression"
      ]
    },
    {
      "cell_type": "code",
      "metadata": {
        "colab_type": "code",
        "id": "nsbNtvxAYB2O",
        "colab": {}
      },
      "source": [
        "model = linear_model.LogisticRegression(class_weight='balanced')\n",
        "params = {'penalty':['l2','l1'], 'C':[10.**i for i in np.arange(-3,3,1)], \n",
        "          'fit_intercept':[True,False] ,\n",
        "          }\n"
      ],
      "execution_count": null,
      "outputs": []
    },
    {
      "cell_type": "code",
      "metadata": {
        "colab_type": "code",
        "id": "mXTZa5oPYB2R",
        "colab": {
          "base_uri": "https://localhost:8080/",
          "height": 235
        },
        "outputId": "23601b3a-1860-4c22-e707-011f007b493c"
      },
      "source": [
        "%%time\n",
        "find_best_params(model,params)"
      ],
      "execution_count": null,
      "outputs": [
        {
          "output_type": "stream",
          "text": [
            "Fitting 10 folds for each of 10 candidates, totalling 100 fits\n"
          ],
          "name": "stdout"
        },
        {
          "output_type": "stream",
          "text": [
            "[Parallel(n_jobs=-1)]: Using backend LokyBackend with 4 concurrent workers.\n",
            "[Parallel(n_jobs=-1)]: Done  33 tasks      | elapsed:   28.8s\n",
            "[Parallel(n_jobs=-1)]: Done 100 out of 100 | elapsed:  1.7min finished\n"
          ],
          "name": "stderr"
        },
        {
          "output_type": "stream",
          "text": [
            "The best auc score was 0.798\n",
            "The best params were: {'penalty': 'l2', 'fit_intercept': True, 'C': 0.001}\n",
            "CPU times: user 8.86 s, sys: 288 ms, total: 9.15 s\n",
            "Wall time: 1min 42s\n"
          ],
          "name": "stdout"
        },
        {
          "output_type": "execute_result",
          "data": {
            "text/plain": [
              "LogisticRegression(C=0.001, class_weight='balanced')"
            ]
          },
          "metadata": {
            "tags": []
          },
          "execution_count": 13
        }
      ]
    },
    {
      "cell_type": "code",
      "metadata": {
        "colab_type": "code",
        "id": "eYp1oCU5YB2U",
        "colab": {
          "base_uri": "https://localhost:8080/",
          "height": 101
        },
        "outputId": "74441dce-ed45-4553-e65f-d9bac14f04cd"
      },
      "source": [
        "model = linear_model.LogisticRegression(C=0.001, class_weight='balanced')\n",
        "\n",
        "model.fit(X_train,y_train)"
      ],
      "execution_count": 7,
      "outputs": [
        {
          "output_type": "execute_result",
          "data": {
            "text/plain": [
              "LogisticRegression(C=0.001, class_weight='balanced', dual=False,\n",
              "                   fit_intercept=True, intercept_scaling=1, l1_ratio=None,\n",
              "                   max_iter=100, multi_class='auto', n_jobs=None, penalty='l2',\n",
              "                   random_state=None, solver='lbfgs', tol=0.0001, verbose=0,\n",
              "                   warm_start=False)"
            ]
          },
          "metadata": {
            "tags": []
          },
          "execution_count": 7
        }
      ]
    },
    {
      "cell_type": "code",
      "metadata": {
        "colab_type": "code",
        "id": "DlDUHTI-YB2X",
        "colab": {
          "base_uri": "https://localhost:8080/",
          "height": 351
        },
        "outputId": "85086dc5-eb8e-497a-d357-a6a8558ffe83"
      },
      "source": [
        "i=0\n",
        "labels=[] #storing all labels\n",
        "y_preds = [] #storing all y_pred\n",
        "y_pred = model.predict_proba(X_val)[:,1]\n",
        "label=\"Logisic Regression\"\n",
        "labels.append(label)\n",
        "y_preds.append(y_pred)\n",
        "result = plot_auc(y_val,y_pred,label,dataset)\n",
        "result_df = result\n",
        "del result"
      ],
      "execution_count": 8,
      "outputs": [
        {
          "output_type": "stream",
          "text": [
            "\t\t Logisic Regression on Normal dataset \t\t \n",
            "\n"
          ],
          "name": "stdout"
        },
        {
          "output_type": "display_data",
          "data": {
            "image/png": "[encoded data removed]",
            "text/plain": [
              "<Figure size 432x288 with 1 Axes>"
            ]
          },
          "metadata": {
            "tags": []
          }
        },
        {
          "output_type": "stream",
          "text": [
            "The log loss and auc was found to be 0.542 and 0.812 for Logisic Regression on Normal dataset.\n"
          ],
          "name": "stdout"
        }
      ]
    },
    {
      "cell_type": "markdown",
      "metadata": {
        "colab_type": "text",
        "id": "0y9PvYUNX-t2"
      },
      "source": [
        "# Decision Trees"
      ]
    },
    {
      "cell_type": "code",
      "metadata": {
        "colab_type": "code",
        "id": "0kVyDscneGv3",
        "colab": {}
      },
      "source": [
        "model = tree.DecisionTreeClassifier(class_weight='balanced')\n",
        "params = { \n",
        "          'max_depth':[10,100,500,1000,-1], \n",
        "         'min_samples_split':[2,5,10,100,500], \n",
        "          'min_samples_leaf':[1,3,5,7,10],\n",
        "          'max_leaf_nodes':[100,500,1000,5000,-1] \n",
        "          }\n"
      ],
      "execution_count": null,
      "outputs": []
    },
    {
      "cell_type": "code",
      "metadata": {
        "colab_type": "code",
        "id": "OWmU9ZdnjHEk",
        "colab": {
          "base_uri": "https://localhost:8080/",
          "height": 252
        },
        "outputId": "e46384cc-d67c-42d7-ce49-b9b8932b3fd1"
      },
      "source": [
        "%%time\n",
        "find_best_params(model,params)"
      ],
      "execution_count": null,
      "outputs": [
        {
          "output_type": "stream",
          "text": [
            "Fitting 10 folds for each of 10 candidates, totalling 100 fits\n"
          ],
          "name": "stdout"
        },
        {
          "output_type": "stream",
          "text": [
            "[Parallel(n_jobs=10)]: Using backend LokyBackend with 10 concurrent workers.\n",
            "[Parallel(n_jobs=10)]: Done  21 tasks      | elapsed:  2.0min\n",
            "[Parallel(n_jobs=10)]: Done 100 out of 100 | elapsed:  5.7min finished\n"
          ],
          "name": "stderr"
        },
        {
          "output_type": "stream",
          "text": [
            "The best auc score was 0.762\n",
            "The best params were: {'min_samples_split': 5, 'min_samples_leaf': 10, 'max_leaf_nodes': 500, 'max_depth': 10}\n",
            "CPU times: user 5.23 s, sys: 392 ms, total: 5.62 s\n",
            "Wall time: 5min 44s\n"
          ],
          "name": "stdout"
        },
        {
          "output_type": "execute_result",
          "data": {
            "text/plain": [
              "DecisionTreeClassifier(ccp_alpha=0.0, class_weight='balanced', criterion='gini',\n",
              "                       max_depth=10, max_features=None, max_leaf_nodes=500,\n",
              "                       min_impurity_decrease=0.0, min_impurity_split=None,\n",
              "                       min_samples_leaf=10, min_samples_split=5,\n",
              "                       min_weight_fraction_leaf=0.0, presort='deprecated',\n",
              "                       random_state=None, splitter='best')"
            ]
          },
          "metadata": {
            "tags": []
          },
          "execution_count": 13
        }
      ]
    },
    {
      "cell_type": "code",
      "metadata": {
        "colab_type": "code",
        "id": "11n9ZcTNirnF",
        "colab": {
          "base_uri": "https://localhost:8080/",
          "height": 118
        },
        "outputId": "321357a1-d137-4c9d-e547-9cb975c8c2a9"
      },
      "source": [
        "model = tree.DecisionTreeClassifier(ccp_alpha=0.0, class_weight='balanced', criterion='gini',\n",
        "                       max_depth=10, max_features=None, max_leaf_nodes=500,\n",
        "                       min_impurity_decrease=0.0, min_impurity_split=None,\n",
        "                       min_samples_leaf=10, min_samples_split=5,\n",
        "                       min_weight_fraction_leaf=0.0, presort='deprecated',\n",
        "                      splitter='best')\n",
        "\n",
        "model.fit(X_train,y_train)"
      ],
      "execution_count": 9,
      "outputs": [
        {
          "output_type": "execute_result",
          "data": {
            "text/plain": [
              "DecisionTreeClassifier(ccp_alpha=0.0, class_weight='balanced', criterion='gini',\n",
              "                       max_depth=10, max_features=None, max_leaf_nodes=500,\n",
              "                       min_impurity_decrease=0.0, min_impurity_split=None,\n",
              "                       min_samples_leaf=10, min_samples_split=5,\n",
              "                       min_weight_fraction_leaf=0.0, presort='deprecated',\n",
              "                       random_state=None, splitter='best')"
            ]
          },
          "metadata": {
            "tags": []
          },
          "execution_count": 9
        }
      ]
    },
    {
      "cell_type": "code",
      "metadata": {
        "colab_type": "code",
        "id": "IqO7PiHUhFIR",
        "colab": {
          "base_uri": "https://localhost:8080/",
          "height": 269
        },
        "outputId": "c70c75ba-0f79-4fe4-f60c-dbd458aaa6d3"
      },
      "source": [
        "cc_model = calibration.CalibratedClassifierCV(model,cv='prefit')\n",
        "cc_model.fit(X_train,y_train)"
      ],
      "execution_count": 10,
      "outputs": [
        {
          "output_type": "execute_result",
          "data": {
            "text/plain": [
              "CalibratedClassifierCV(base_estimator=DecisionTreeClassifier(ccp_alpha=0.0,\n",
              "                                                             class_weight='balanced',\n",
              "                                                             criterion='gini',\n",
              "                                                             max_depth=10,\n",
              "                                                             max_features=None,\n",
              "                                                             max_leaf_nodes=500,\n",
              "                                                             min_impurity_decrease=0.0,\n",
              "                                                             min_impurity_split=None,\n",
              "                                                             min_samples_leaf=10,\n",
              "                                                             min_samples_split=5,\n",
              "                                                             min_weight_fraction_leaf=0.0,\n",
              "                                                             presort='deprecated',\n",
              "                                                             random_state=None,\n",
              "                                                             splitter='best'),\n",
              "                       cv='prefit', method='sigmoid')"
            ]
          },
          "metadata": {
            "tags": []
          },
          "execution_count": 10
        }
      ]
    },
    {
      "cell_type": "code",
      "metadata": {
        "colab_type": "code",
        "id": "CIxYiOfoih44",
        "colab": {
          "base_uri": "https://localhost:8080/",
          "height": 351
        },
        "outputId": "55d35b04-d37e-4ffb-8ec5-cca367044a27"
      },
      "source": [
        "i+=1\n",
        "y_pred = cc_model.predict_proba(X_val)[:,1]\n",
        "label=\"Decision Tree Classifier\"\n",
        "labels.append(label)\n",
        "y_preds.append(y_pred)\n",
        "result = plot_auc(y_val,y_pred,label)\n",
        "result_df = result_df.append(result)\n",
        "del result"
      ],
      "execution_count": 11,
      "outputs": [
        {
          "output_type": "stream",
          "text": [
            "\t\t Decision Tree Classifier on Normal dataset \t\t \n",
            "\n"
          ],
          "name": "stdout"
        },
        {
          "output_type": "display_data",
          "data": {
            "image/png": "[encoded data removed]",
            "text/plain": [
              "<Figure size 432x288 with 1 Axes>"
            ]
          },
          "metadata": {
            "tags": []
          }
        },
        {
          "output_type": "stream",
          "text": [
            "The log loss and auc was found to be 0.149 and 0.770 for Decision Tree Classifier on Normal dataset.\n"
          ],
          "name": "stdout"
        }
      ]
    },
    {
      "cell_type": "code",
      "metadata": {
        "colab_type": "code",
        "id": "qusVRO8HdpHW",
        "colab": {
          "base_uri": "https://localhost:8080/",
          "height": 106
        },
        "outputId": "4aa6ad22-05b6-4b91-a83c-b8b582e039a8"
      },
      "source": [
        "result_df"
      ],
      "execution_count": 12,
      "outputs": [
        {
          "output_type": "execute_result",
          "data": {
            "text/html": [
              "<div>\n",
              "<style scoped>\n",
              "    .dataframe tbody tr th:only-of-type {\n",
              "        vertical-align: middle;\n",
              "    }\n",
              "\n",
              "    .dataframe tbody tr th {\n",
              "        vertical-align: top;\n",
              "    }\n",
              "\n",
              "    .dataframe thead th {\n",
              "        text-align: right;\n",
              "    }\n",
              "</style>\n",
              "<table border=\"1\" class=\"dataframe\">\n",
              "  <thead>\n",
              "    <tr style=\"text-align: right;\">\n",
              "      <th></th>\n",
              "      <th>Model</th>\n",
              "      <th>Dataset</th>\n",
              "      <th>log_loss</th>\n",
              "      <th>auc</th>\n",
              "    </tr>\n",
              "  </thead>\n",
              "  <tbody>\n",
              "    <tr>\n",
              "      <th>0</th>\n",
              "      <td>Logisic Regression</td>\n",
              "      <td>Normal</td>\n",
              "      <td>0.541973</td>\n",
              "      <td>0.812374</td>\n",
              "    </tr>\n",
              "    <tr>\n",
              "      <th>1</th>\n",
              "      <td>Decision Tree Classifier</td>\n",
              "      <td>Normal</td>\n",
              "      <td>0.149154</td>\n",
              "      <td>0.769659</td>\n",
              "    </tr>\n",
              "  </tbody>\n",
              "</table>\n",
              "</div>"
            ],
            "text/plain": [
              "                      Model Dataset  log_loss       auc\n",
              "0        Logisic Regression  Normal  0.541973  0.812374\n",
              "1  Decision Tree Classifier  Normal  0.149154  0.769659"
            ]
          },
          "metadata": {
            "tags": []
          },
          "execution_count": 12
        }
      ]
    },
    {
      "cell_type": "markdown",
      "metadata": {
        "colab_type": "text",
        "id": "msPtDUHT0sQN"
      },
      "source": [
        "# Random Forest"
      ]
    },
    {
      "cell_type": "code",
      "metadata": {
        "colab_type": "code",
        "id": "OwHc1zRG0sQP",
        "colab": {}
      },
      "source": [
        "model = ensemble.RandomForestClassifier(class_weight='balanced')\n",
        "params = { 'n_estimators':[500,1000,2000],\n",
        "          'max_depth':[500,1000,2000], \n",
        "         'min_samples_split':[100,500,1000],\n",
        "          'min_samples_leaf':[3,5,7],\n",
        "          'max_leaf_nodes':[100,250,500] \n",
        "          }\n"
      ],
      "execution_count": null,
      "outputs": []
    },
    {
      "cell_type": "code",
      "metadata": {
        "colab_type": "code",
        "id": "zDOPEuJy0sQS",
        "colab": {
          "base_uri": "https://localhost:8080/",
          "height": 286
        },
        "outputId": "94c7526f-1f67-42f9-c523-b711885da048"
      },
      "source": [
        "%%time\n",
        "find_best_params(model,params,cv=3)"
      ],
      "execution_count": null,
      "outputs": [
        {
          "output_type": "stream",
          "text": [
            "Fitting 3 folds for each of 10 candidates, totalling 30 fits\n"
          ],
          "name": "stdout"
        },
        {
          "output_type": "stream",
          "text": [
            "[Parallel(n_jobs=10)]: Using backend LokyBackend with 10 concurrent workers.\n",
            "[Parallel(n_jobs=10)]: Done  27 out of  30 | elapsed: 54.3min remaining:  6.0min\n",
            "[Parallel(n_jobs=10)]: Done  30 out of  30 | elapsed: 54.6min finished\n"
          ],
          "name": "stderr"
        },
        {
          "output_type": "stream",
          "text": [
            "The best auc score was 0.817\n",
            "The best params were: {'n_estimators': 2000, 'min_samples_split': 500, 'min_samples_leaf': 3, 'max_leaf_nodes': 250, 'max_depth': 2000}\n",
            "CPU times: user 6min 5s, sys: 1.17 s, total: 6min 6s\n",
            "Wall time: 1h 44s\n"
          ],
          "name": "stdout"
        },
        {
          "output_type": "execute_result",
          "data": {
            "text/plain": [
              "RandomForestClassifier(bootstrap=True, ccp_alpha=0.0, class_weight='balanced',\n",
              "                       criterion='gini', max_depth=2000, max_features='auto',\n",
              "                       max_leaf_nodes=250, max_samples=None,\n",
              "                       min_impurity_decrease=0.0, min_impurity_split=None,\n",
              "                       min_samples_leaf=3, min_samples_split=500,\n",
              "                       min_weight_fraction_leaf=0.0, n_estimators=2000,\n",
              "                       n_jobs=None, oob_score=False, random_state=None,\n",
              "                       verbose=0, warm_start=False)"
            ]
          },
          "metadata": {
            "tags": []
          },
          "execution_count": 20
        }
      ]
    },
    {
      "cell_type": "code",
      "metadata": {
        "colab_type": "code",
        "id": "RBeRKL7R0sQW",
        "colab": {
          "base_uri": "https://localhost:8080/",
          "height": 151
        },
        "outputId": "c479ec81-9dc5-4c11-b90a-27ea743d431d"
      },
      "source": [
        "model = ensemble.RandomForestClassifier(bootstrap=True, ccp_alpha=0.0, class_weight='balanced',\n",
        "                       criterion='gini', max_depth=2000, max_features='auto',\n",
        "                       max_leaf_nodes=250, max_samples=None,\n",
        "                       min_impurity_decrease=0.0, min_impurity_split=None,\n",
        "                       min_samples_leaf=3, min_samples_split=500,\n",
        "                       min_weight_fraction_leaf=0.0, n_estimators=2000,\n",
        "                       n_jobs=10, oob_score=False,\n",
        "                       verbose=0, warm_start=False)\n",
        "\n",
        "\n",
        "model.fit(X_train,y_train)"
      ],
      "execution_count": 13,
      "outputs": [
        {
          "output_type": "execute_result",
          "data": {
            "text/plain": [
              "RandomForestClassifier(bootstrap=True, ccp_alpha=0.0, class_weight='balanced',\n",
              "                       criterion='gini', max_depth=2000, max_features='auto',\n",
              "                       max_leaf_nodes=250, max_samples=None,\n",
              "                       min_impurity_decrease=0.0, min_impurity_split=None,\n",
              "                       min_samples_leaf=3, min_samples_split=500,\n",
              "                       min_weight_fraction_leaf=0.0, n_estimators=2000,\n",
              "                       n_jobs=10, oob_score=False, random_state=None, verbose=0,\n",
              "                       warm_start=False)"
            ]
          },
          "metadata": {
            "tags": []
          },
          "execution_count": 13
        }
      ]
    },
    {
      "cell_type": "code",
      "metadata": {
        "colab_type": "code",
        "id": "oJLF56Ts0sQY",
        "colab": {
          "base_uri": "https://localhost:8080/",
          "height": 353
        },
        "outputId": "b4e68eae-e41b-4e61-fcc1-f3ae0c4085d5"
      },
      "source": [
        "cc_model = calibration.CalibratedClassifierCV(model,cv='prefit')\n",
        "cc_model.fit(X_train,y_train)"
      ],
      "execution_count": 14,
      "outputs": [
        {
          "output_type": "execute_result",
          "data": {
            "text/plain": [
              "CalibratedClassifierCV(base_estimator=RandomForestClassifier(bootstrap=True,\n",
              "                                                             ccp_alpha=0.0,\n",
              "                                                             class_weight='balanced',\n",
              "                                                             criterion='gini',\n",
              "                                                             max_depth=2000,\n",
              "                                                             max_features='auto',\n",
              "                                                             max_leaf_nodes=250,\n",
              "                                                             max_samples=None,\n",
              "                                                             min_impurity_decrease=0.0,\n",
              "                                                             min_impurity_split=None,\n",
              "                                                             min_samples_leaf=3,\n",
              "                                                             min_samples_split=500,\n",
              "                                                             min_weight_fraction_leaf=0.0,\n",
              "                                                             n_estimators=2000,\n",
              "                                                             n_jobs=10,\n",
              "                                                             oob_score=False,\n",
              "                                                             random_state=None,\n",
              "                                                             verbose=0,\n",
              "                                                             warm_start=False),\n",
              "                       cv='prefit', method='sigmoid')"
            ]
          },
          "metadata": {
            "tags": []
          },
          "execution_count": 14
        }
      ]
    },
    {
      "cell_type": "code",
      "metadata": {
        "colab_type": "code",
        "id": "4Jct69qq0sQa",
        "colab": {
          "base_uri": "https://localhost:8080/",
          "height": 351
        },
        "outputId": "b4d794a7-af4c-412c-f71e-62b502a44f7b"
      },
      "source": [
        "i+=1\n",
        "y_pred = cc_model.predict_proba(X_val)[:,1]\n",
        "label=\"Random Forest Classifier\"\n",
        "labels.append(label)\n",
        "y_preds.append(y_pred)\n",
        "result = plot_auc(y_val,y_pred,label)\n",
        "result_df = result_df.append(result)\n",
        "del result"
      ],
      "execution_count": 15,
      "outputs": [
        {
          "output_type": "stream",
          "text": [
            "\t\t Random Forest Classifier on Normal dataset \t\t \n",
            "\n"
          ],
          "name": "stdout"
        },
        {
          "output_type": "display_data",
          "data": {
            "image/png": "[encoded data removed]",
            "text/plain": [
              "<Figure size 432x288 with 1 Axes>"
            ]
          },
          "metadata": {
            "tags": []
          }
        },
        {
          "output_type": "stream",
          "text": [
            "The log loss and auc was found to be 0.138 and 0.832 for Random Forest Classifier on Normal dataset.\n"
          ],
          "name": "stdout"
        }
      ]
    },
    {
      "cell_type": "code",
      "metadata": {
        "colab_type": "code",
        "id": "0igsmQs_0sQd",
        "colab": {
          "base_uri": "https://localhost:8080/",
          "height": 136
        },
        "outputId": "1104a762-3aae-4962-e3cd-9c70d9c21a47"
      },
      "source": [
        "result_df"
      ],
      "execution_count": 16,
      "outputs": [
        {
          "output_type": "execute_result",
          "data": {
            "text/html": [
              "<div>\n",
              "<style scoped>\n",
              "    .dataframe tbody tr th:only-of-type {\n",
              "        vertical-align: middle;\n",
              "    }\n",
              "\n",
              "    .dataframe tbody tr th {\n",
              "        vertical-align: top;\n",
              "    }\n",
              "\n",
              "    .dataframe thead th {\n",
              "        text-align: right;\n",
              "    }\n",
              "</style>\n",
              "<table border=\"1\" class=\"dataframe\">\n",
              "  <thead>\n",
              "    <tr style=\"text-align: right;\">\n",
              "      <th></th>\n",
              "      <th>Model</th>\n",
              "      <th>Dataset</th>\n",
              "      <th>log_loss</th>\n",
              "      <th>auc</th>\n",
              "    </tr>\n",
              "  </thead>\n",
              "  <tbody>\n",
              "    <tr>\n",
              "      <th>0</th>\n",
              "      <td>Logisic Regression</td>\n",
              "      <td>Normal</td>\n",
              "      <td>0.541973</td>\n",
              "      <td>0.812374</td>\n",
              "    </tr>\n",
              "    <tr>\n",
              "      <th>1</th>\n",
              "      <td>Decision Tree Classifier</td>\n",
              "      <td>Normal</td>\n",
              "      <td>0.149154</td>\n",
              "      <td>0.769659</td>\n",
              "    </tr>\n",
              "    <tr>\n",
              "      <th>2</th>\n",
              "      <td>Random Forest Classifier</td>\n",
              "      <td>Normal</td>\n",
              "      <td>0.137582</td>\n",
              "      <td>0.832027</td>\n",
              "    </tr>\n",
              "  </tbody>\n",
              "</table>\n",
              "</div>"
            ],
            "text/plain": [
              "                      Model Dataset  log_loss       auc\n",
              "0        Logisic Regression  Normal  0.541973  0.812374\n",
              "1  Decision Tree Classifier  Normal  0.149154  0.769659\n",
              "2  Random Forest Classifier  Normal  0.137582  0.832027"
            ]
          },
          "metadata": {
            "tags": []
          },
          "execution_count": 16
        }
      ]
    },
    {
      "cell_type": "markdown",
      "metadata": {
        "colab_type": "text",
        "id": "U85-m-LIEmmc"
      },
      "source": [
        "# XGB Classifier"
      ]
    },
    {
      "cell_type": "code",
      "metadata": {
        "colab_type": "code",
        "id": "Ssc-G7LSEmme",
        "colab": {}
      },
      "source": [
        "model = xgb.XGBClassifier(n_jobs=-1,\n",
        "                      nthread=-1,\n",
        "                      scale_pos_weight=1,\n",
        "                      learning_rate=0.1,  \n",
        "                      colsample_bytree = 0.5,\n",
        "                      subsample = 0.9,\n",
        "                      objective='binary:logistic', \n",
        "                      n_estimators=100,\n",
        "                      reg_alpha = 0.3,\n",
        "                      max_depth=5, \n",
        "                      gamma=5,\n",
        "                     )\n",
        "#validation_0-auc:0.84556"
      ],
      "execution_count": 130,
      "outputs": []
    },
    {
      "cell_type": "code",
      "metadata": {
        "id": "T0CEyW37Dai9",
        "colab_type": "code",
        "colab": {
          "base_uri": "https://localhost:8080/",
          "height": 1000
        },
        "outputId": "aaa671ec-6f48-4448-a36c-f4dc8de8ee07"
      },
      "source": [
        "#https://towardsdatascience.com/fine-tuning-xgboost-in-python-like-a-boss-b4543ed8b1e\n",
        "\"\"\"\n",
        "manually changed each parameters 1 by 1 and compared the validation auc\n",
        "and selected the best parameter value\n",
        "\"\"\"\n",
        "eval_metric = ['auc','error']\n",
        "%time model.fit(X_train,y_train,eval_set=[(X_val,y_val)],eval_metric=eval_metric,verbose=True)"
      ],
      "execution_count": 131,
      "outputs": [
        {
          "output_type": "stream",
          "text": [
            "[0]\tvalidation_0-auc:0.738439\tvalidation_0-error:0.039726\n",
            "[1]\tvalidation_0-auc:0.814115\tvalidation_0-error:0.039551\n",
            "[2]\tvalidation_0-auc:0.810379\tvalidation_0-error:0.039551\n",
            "[3]\tvalidation_0-auc:0.821142\tvalidation_0-error:0.039551\n",
            "[4]\tvalidation_0-auc:0.818471\tvalidation_0-error:0.039551\n",
            "[5]\tvalidation_0-auc:0.818156\tvalidation_0-error:0.039551\n",
            "[6]\tvalidation_0-auc:0.819139\tvalidation_0-error:0.039551\n",
            "[7]\tvalidation_0-auc:0.819947\tvalidation_0-error:0.039551\n",
            "[8]\tvalidation_0-auc:0.81811\tvalidation_0-error:0.039551\n",
            "[9]\tvalidation_0-auc:0.816234\tvalidation_0-error:0.039551\n",
            "[10]\tvalidation_0-auc:0.818551\tvalidation_0-error:0.039551\n",
            "[11]\tvalidation_0-auc:0.821835\tvalidation_0-error:0.039551\n",
            "[12]\tvalidation_0-auc:0.822149\tvalidation_0-error:0.039551\n",
            "[13]\tvalidation_0-auc:0.822641\tvalidation_0-error:0.039551\n",
            "[14]\tvalidation_0-auc:0.821571\tvalidation_0-error:0.039551\n",
            "[15]\tvalidation_0-auc:0.821215\tvalidation_0-error:0.039551\n",
            "[16]\tvalidation_0-auc:0.825202\tvalidation_0-error:0.039551\n",
            "[17]\tvalidation_0-auc:0.823662\tvalidation_0-error:0.039551\n",
            "[18]\tvalidation_0-auc:0.822708\tvalidation_0-error:0.039551\n",
            "[19]\tvalidation_0-auc:0.822221\tvalidation_0-error:0.039551\n",
            "[20]\tvalidation_0-auc:0.82503\tvalidation_0-error:0.039551\n",
            "[21]\tvalidation_0-auc:0.829291\tvalidation_0-error:0.039551\n",
            "[22]\tvalidation_0-auc:0.828558\tvalidation_0-error:0.039551\n",
            "[23]\tvalidation_0-auc:0.827747\tvalidation_0-error:0.039551\n",
            "[24]\tvalidation_0-auc:0.827911\tvalidation_0-error:0.039551\n",
            "[25]\tvalidation_0-auc:0.830199\tvalidation_0-error:0.039551\n",
            "[26]\tvalidation_0-auc:0.831637\tvalidation_0-error:0.039551\n",
            "[27]\tvalidation_0-auc:0.833293\tvalidation_0-error:0.039551\n",
            "[28]\tvalidation_0-auc:0.834172\tvalidation_0-error:0.039551\n",
            "[29]\tvalidation_0-auc:0.835273\tvalidation_0-error:0.039551\n",
            "[30]\tvalidation_0-auc:0.835845\tvalidation_0-error:0.039551\n",
            "[31]\tvalidation_0-auc:0.836155\tvalidation_0-error:0.039551\n",
            "[32]\tvalidation_0-auc:0.836328\tvalidation_0-error:0.039551\n",
            "[33]\tvalidation_0-auc:0.837221\tvalidation_0-error:0.039551\n",
            "[34]\tvalidation_0-auc:0.837505\tvalidation_0-error:0.039551\n",
            "[35]\tvalidation_0-auc:0.837775\tvalidation_0-error:0.039551\n",
            "[36]\tvalidation_0-auc:0.839054\tvalidation_0-error:0.039551\n",
            "[37]\tvalidation_0-auc:0.838877\tvalidation_0-error:0.039551\n",
            "[38]\tvalidation_0-auc:0.838992\tvalidation_0-error:0.039551\n",
            "[39]\tvalidation_0-auc:0.838596\tvalidation_0-error:0.039551\n",
            "[40]\tvalidation_0-auc:0.839209\tvalidation_0-error:0.039551\n",
            "[41]\tvalidation_0-auc:0.839457\tvalidation_0-error:0.039551\n",
            "[42]\tvalidation_0-auc:0.83935\tvalidation_0-error:0.039551\n",
            "[43]\tvalidation_0-auc:0.839644\tvalidation_0-error:0.039551\n",
            "[44]\tvalidation_0-auc:0.839105\tvalidation_0-error:0.039551\n",
            "[45]\tvalidation_0-auc:0.838803\tvalidation_0-error:0.039551\n",
            "[46]\tvalidation_0-auc:0.839239\tvalidation_0-error:0.039551\n",
            "[47]\tvalidation_0-auc:0.839674\tvalidation_0-error:0.039551\n",
            "[48]\tvalidation_0-auc:0.839681\tvalidation_0-error:0.039551\n",
            "[49]\tvalidation_0-auc:0.84024\tvalidation_0-error:0.039551\n",
            "[50]\tvalidation_0-auc:0.840819\tvalidation_0-error:0.039551\n",
            "[51]\tvalidation_0-auc:0.840781\tvalidation_0-error:0.039551\n",
            "[52]\tvalidation_0-auc:0.841228\tvalidation_0-error:0.039551\n",
            "[53]\tvalidation_0-auc:0.842066\tvalidation_0-error:0.039551\n",
            "[54]\tvalidation_0-auc:0.842634\tvalidation_0-error:0.039551\n",
            "[55]\tvalidation_0-auc:0.843001\tvalidation_0-error:0.039551\n",
            "[56]\tvalidation_0-auc:0.843292\tvalidation_0-error:0.039551\n",
            "[57]\tvalidation_0-auc:0.843663\tvalidation_0-error:0.039551\n",
            "[58]\tvalidation_0-auc:0.84378\tvalidation_0-error:0.039551\n",
            "[59]\tvalidation_0-auc:0.844243\tvalidation_0-error:0.039551\n",
            "[60]\tvalidation_0-auc:0.844296\tvalidation_0-error:0.039551\n",
            "[61]\tvalidation_0-auc:0.844469\tvalidation_0-error:0.039551\n",
            "[62]\tvalidation_0-auc:0.844135\tvalidation_0-error:0.039551\n",
            "[63]\tvalidation_0-auc:0.84398\tvalidation_0-error:0.039551\n",
            "[64]\tvalidation_0-auc:0.843996\tvalidation_0-error:0.039551\n",
            "[65]\tvalidation_0-auc:0.844181\tvalidation_0-error:0.039551\n",
            "[66]\tvalidation_0-auc:0.844082\tvalidation_0-error:0.039551\n",
            "[67]\tvalidation_0-auc:0.844018\tvalidation_0-error:0.039551\n",
            "[68]\tvalidation_0-auc:0.844055\tvalidation_0-error:0.039551\n",
            "[69]\tvalidation_0-auc:0.844505\tvalidation_0-error:0.039551\n",
            "[70]\tvalidation_0-auc:0.844564\tvalidation_0-error:0.039551\n",
            "[71]\tvalidation_0-auc:0.8448\tvalidation_0-error:0.039551\n",
            "[72]\tvalidation_0-auc:0.844515\tvalidation_0-error:0.039551\n",
            "[73]\tvalidation_0-auc:0.844483\tvalidation_0-error:0.039551\n",
            "[74]\tvalidation_0-auc:0.844568\tvalidation_0-error:0.039551\n",
            "[75]\tvalidation_0-auc:0.844222\tvalidation_0-error:0.039551\n",
            "[76]\tvalidation_0-auc:0.844265\tvalidation_0-error:0.039551\n",
            "[77]\tvalidation_0-auc:0.84454\tvalidation_0-error:0.039551\n",
            "[78]\tvalidation_0-auc:0.844384\tvalidation_0-error:0.039551\n",
            "[79]\tvalidation_0-auc:0.844321\tvalidation_0-error:0.039551\n",
            "[80]\tvalidation_0-auc:0.844288\tvalidation_0-error:0.039551\n",
            "[81]\tvalidation_0-auc:0.844446\tvalidation_0-error:0.039551\n",
            "[82]\tvalidation_0-auc:0.84449\tvalidation_0-error:0.039551\n",
            "[83]\tvalidation_0-auc:0.844234\tvalidation_0-error:0.039551\n",
            "[84]\tvalidation_0-auc:0.844255\tvalidation_0-error:0.039551\n",
            "[85]\tvalidation_0-auc:0.844334\tvalidation_0-error:0.039551\n",
            "[86]\tvalidation_0-auc:0.844326\tvalidation_0-error:0.039551\n",
            "[87]\tvalidation_0-auc:0.844237\tvalidation_0-error:0.039551\n",
            "[88]\tvalidation_0-auc:0.844222\tvalidation_0-error:0.039551\n",
            "[89]\tvalidation_0-auc:0.844367\tvalidation_0-error:0.039551\n",
            "[90]\tvalidation_0-auc:0.844522\tvalidation_0-error:0.039639\n",
            "[91]\tvalidation_0-auc:0.844542\tvalidation_0-error:0.039639\n",
            "[92]\tvalidation_0-auc:0.844347\tvalidation_0-error:0.039639\n",
            "[93]\tvalidation_0-auc:0.844374\tvalidation_0-error:0.039639\n",
            "[94]\tvalidation_0-auc:0.844321\tvalidation_0-error:0.039639\n",
            "[95]\tvalidation_0-auc:0.844295\tvalidation_0-error:0.039639\n",
            "[96]\tvalidation_0-auc:0.844608\tvalidation_0-error:0.039639\n",
            "[97]\tvalidation_0-auc:0.844596\tvalidation_0-error:0.039639\n",
            "[98]\tvalidation_0-auc:0.844606\tvalidation_0-error:0.039639\n",
            "[99]\tvalidation_0-auc:0.844455\tvalidation_0-error:0.039639\n",
            "CPU times: user 1min 29s, sys: 429 ms, total: 1min 30s\n",
            "Wall time: 47.1 s\n"
          ],
          "name": "stdout"
        },
        {
          "output_type": "execute_result",
          "data": {
            "text/plain": [
              "XGBClassifier(base_score=0.5, booster='gbtree', colsample_bylevel=1,\n",
              "              colsample_bynode=1, colsample_bytree=0.5, gamma=5,\n",
              "              learning_rate=0.1, max_delta_step=0, max_depth=5,\n",
              "              min_child_weight=1, missing=None, n_estimators=100, n_jobs=-1,\n",
              "              nthread=-1, objective='binary:logistic', random_state=0,\n",
              "              reg_alpha=0.3, reg_lambda=1, scale_pos_weight=1, seed=None,\n",
              "              silent=None, subsample=0.9, verbosity=1)"
            ]
          },
          "metadata": {
            "tags": []
          },
          "execution_count": 131
        }
      ]
    },
    {
      "cell_type": "code",
      "metadata": {
        "colab_type": "code",
        "id": "FdrKrxntEmmm",
        "colab": {
          "base_uri": "https://localhost:8080/",
          "height": 202
        },
        "outputId": "9b7a310b-5760-4873-cb33-17da30f4d839"
      },
      "source": [
        "model = xgb.XGBClassifier(base_score=0.5, booster='gbtree', colsample_bylevel=1,\n",
        "              colsample_bynode=1, colsample_bytree=0.5, gamma=5, gpu_id=0,\n",
        "              importance_type='gain', interaction_constraints='',\n",
        "              learning_rate=0.1, max_delta_step=0, max_depth=5,\n",
        "              min_child_weight=1, missing=np.nan,\n",
        "              n_estimators=100, n_jobs=-1, nthread=-1, num_parallel_tree=1,\n",
        "              random_state=0, reg_alpha=0.3, reg_lambda=1, scale_pos_weight=1,\n",
        "              subsample=0.9, tree_method='exact', validate_parameters=1)\n",
        "\n",
        "%time model.fit(X_train,y_train)"
      ],
      "execution_count": 29,
      "outputs": [
        {
          "output_type": "stream",
          "text": [
            "CPU times: user 1min 27s, sys: 258 ms, total: 1min 27s\n",
            "Wall time: 44.7 s\n"
          ],
          "name": "stdout"
        },
        {
          "output_type": "execute_result",
          "data": {
            "text/plain": [
              "XGBClassifier(base_score=0.5, booster='gbtree', colsample_bylevel=1,\n",
              "              colsample_bynode=1, colsample_bytree=0.5, gamma=5, gpu_id=0,\n",
              "              interaction_constraints='', learning_rate=0.1, max_delta_step=0,\n",
              "              max_depth=5, min_child_weight=1, missing=None, n_estimators=100,\n",
              "              n_jobs=-1, nthread=-1, num_parallel_tree=1,\n",
              "              objective='binary:logistic', random_state=0, reg_alpha=0.3,\n",
              "              reg_lambda=1, scale_pos_weight=1, seed=None, silent=None,\n",
              "              subsample=0.9, tree_method='exact', validate_parameters=1,\n",
              "              verbosity=1)"
            ]
          },
          "metadata": {
            "tags": []
          },
          "execution_count": 29
        }
      ]
    },
    {
      "cell_type": "code",
      "metadata": {
        "colab_type": "code",
        "id": "EcGsADLLEmmt",
        "colab": {
          "base_uri": "https://localhost:8080/",
          "height": 351
        },
        "outputId": "3f34dbbc-14bf-4dae-ebc7-5252d46e3f4d"
      },
      "source": [
        "y_pred = model.predict_proba(X_val)[:,1]\n",
        "label=\"XGBoost Classifer\"\n",
        "labels.append(label)\n",
        "y_preds.append(y_pred)\n",
        "i+=1\n",
        "result = plot_auc(y_val,y_pred,label)\n",
        "result_df = result_df.append(result)\n",
        "del result"
      ],
      "execution_count": 32,
      "outputs": [
        {
          "output_type": "stream",
          "text": [
            "\t\t XGBoost Classifer on Normal dataset \t\t \n",
            "\n"
          ],
          "name": "stdout"
        },
        {
          "output_type": "display_data",
          "data": {
            "image/png": "[encoded data removed]",
            "text/plain": [
              "<Figure size 432x288 with 1 Axes>"
            ]
          },
          "metadata": {
            "tags": []
          }
        },
        {
          "output_type": "stream",
          "text": [
            "The log loss and auc was found to be 0.133 and 0.844 for XGBoost Classifer on Normal dataset.\n"
          ],
          "name": "stdout"
        }
      ]
    },
    {
      "cell_type": "code",
      "metadata": {
        "colab_type": "code",
        "id": "kn5XWIAPEmmx",
        "colab": {
          "base_uri": "https://localhost:8080/",
          "height": 166
        },
        "outputId": "af4a0857-4b35-4ebf-fb42-c36451d46d6e"
      },
      "source": [
        "result_df"
      ],
      "execution_count": 33,
      "outputs": [
        {
          "output_type": "execute_result",
          "data": {
            "text/html": [
              "<div>\n",
              "<style scoped>\n",
              "    .dataframe tbody tr th:only-of-type {\n",
              "        vertical-align: middle;\n",
              "    }\n",
              "\n",
              "    .dataframe tbody tr th {\n",
              "        vertical-align: top;\n",
              "    }\n",
              "\n",
              "    .dataframe thead th {\n",
              "        text-align: right;\n",
              "    }\n",
              "</style>\n",
              "<table border=\"1\" class=\"dataframe\">\n",
              "  <thead>\n",
              "    <tr style=\"text-align: right;\">\n",
              "      <th></th>\n",
              "      <th>Model</th>\n",
              "      <th>Dataset</th>\n",
              "      <th>log_loss</th>\n",
              "      <th>auc</th>\n",
              "    </tr>\n",
              "  </thead>\n",
              "  <tbody>\n",
              "    <tr>\n",
              "      <th>0</th>\n",
              "      <td>Logisic Regression</td>\n",
              "      <td>Normal</td>\n",
              "      <td>0.541973</td>\n",
              "      <td>0.812374</td>\n",
              "    </tr>\n",
              "    <tr>\n",
              "      <th>1</th>\n",
              "      <td>Decision Tree Classifier</td>\n",
              "      <td>Normal</td>\n",
              "      <td>0.149154</td>\n",
              "      <td>0.769659</td>\n",
              "    </tr>\n",
              "    <tr>\n",
              "      <th>2</th>\n",
              "      <td>Random Forest Classifier</td>\n",
              "      <td>Normal</td>\n",
              "      <td>0.137582</td>\n",
              "      <td>0.832027</td>\n",
              "    </tr>\n",
              "    <tr>\n",
              "      <th>3</th>\n",
              "      <td>XGBoost Classifer</td>\n",
              "      <td>Normal</td>\n",
              "      <td>0.133362</td>\n",
              "      <td>0.844455</td>\n",
              "    </tr>\n",
              "  </tbody>\n",
              "</table>\n",
              "</div>"
            ],
            "text/plain": [
              "                      Model Dataset  log_loss       auc\n",
              "0        Logisic Regression  Normal  0.541973  0.812374\n",
              "1  Decision Tree Classifier  Normal  0.149154  0.769659\n",
              "2  Random Forest Classifier  Normal  0.137582  0.832027\n",
              "3         XGBoost Classifer  Normal  0.133362  0.844455"
            ]
          },
          "metadata": {
            "tags": []
          },
          "execution_count": 33
        }
      ]
    },
    {
      "cell_type": "markdown",
      "metadata": {
        "colab_type": "text",
        "id": "LeV2q75ULzvm"
      },
      "source": [
        "# LightGBM Classifier"
      ]
    },
    {
      "cell_type": "code",
      "metadata": {
        "colab_type": "code",
        "id": "32dzyVRQLzvn",
        "colab": {}
      },
      "source": [
        "model = lgb.LGBMClassifier(n_jobs=-1,\n",
        "                      nthread=-1,\n",
        "                      scale_pos_weight=1,\n",
        "                      learning_rate=0.01,  \n",
        "                      colsample_bytree = 0.5,\n",
        "                      subsample = 0.8,\n",
        "                      objective='binary', \n",
        "                      n_estimators=500,\n",
        "                      reg_alpha = 0.3,\n",
        "                      max_depth=7, \n",
        "                      gamma=5,\n",
        "                     )\n",
        "#valid_0's auc: 0.845998"
      ],
      "execution_count": 144,
      "outputs": []
    },
    {
      "cell_type": "code",
      "metadata": {
        "colab_type": "code",
        "id": "yJS6sV0qLzvr",
        "colab": {
          "base_uri": "https://localhost:8080/",
          "height": 1000
        },
        "outputId": "6a060fd9-9606-4c2b-ae85-c6797eb56de7"
      },
      "source": [
        "#https://towardsdatascience.com/fine-tuning-xgboost-in-python-like-a-boss-b4543ed8b1e\n",
        "\"\"\"\n",
        "manually changed each parameters 1 by 1 and compared the validation auc\n",
        "and selected the best parameter value\n",
        "\"\"\"\n",
        "eval_metric = ['auc','error']\n",
        "%time model.fit(X_train,y_train,eval_set=[(X_val,y_val)],eval_metric=eval_metric,verbose=True)"
      ],
      "execution_count": 141,
      "outputs": [
        {
          "output_type": "stream",
          "text": [
            "[1]\tvalid_0's binary_logloss: 0.163975\tvalid_0's auc: 0.794588\n",
            "[2]\tvalid_0's binary_logloss: 0.161881\tvalid_0's auc: 0.820176\n",
            "[3]\tvalid_0's binary_logloss: 0.160515\tvalid_0's auc: 0.825028\n",
            "[4]\tvalid_0's binary_logloss: 0.159927\tvalid_0's auc: 0.826959\n",
            "[5]\tvalid_0's binary_logloss: 0.159631\tvalid_0's auc: 0.827058\n",
            "[6]\tvalid_0's binary_logloss: 0.159736\tvalid_0's auc: 0.826822\n",
            "[7]\tvalid_0's binary_logloss: 0.159746\tvalid_0's auc: 0.82863\n",
            "[8]\tvalid_0's binary_logloss: 0.160218\tvalid_0's auc: 0.828514\n",
            "[9]\tvalid_0's binary_logloss: 0.160594\tvalid_0's auc: 0.829355\n",
            "[10]\tvalid_0's binary_logloss: 0.161187\tvalid_0's auc: 0.830235\n",
            "[11]\tvalid_0's binary_logloss: 0.162073\tvalid_0's auc: 0.83049\n",
            "[12]\tvalid_0's binary_logloss: 0.162837\tvalid_0's auc: 0.831669\n",
            "[13]\tvalid_0's binary_logloss: 0.163923\tvalid_0's auc: 0.83243\n",
            "[14]\tvalid_0's binary_logloss: 0.164881\tvalid_0's auc: 0.832882\n",
            "[15]\tvalid_0's binary_logloss: 0.166069\tvalid_0's auc: 0.832959\n",
            "[16]\tvalid_0's binary_logloss: 0.167288\tvalid_0's auc: 0.833065\n",
            "[17]\tvalid_0's binary_logloss: 0.168449\tvalid_0's auc: 0.833479\n",
            "[18]\tvalid_0's binary_logloss: 0.169831\tvalid_0's auc: 0.833643\n",
            "[19]\tvalid_0's binary_logloss: 0.171078\tvalid_0's auc: 0.834273\n",
            "[20]\tvalid_0's binary_logloss: 0.172341\tvalid_0's auc: 0.834932\n",
            "[21]\tvalid_0's binary_logloss: 0.173627\tvalid_0's auc: 0.835432\n",
            "[22]\tvalid_0's binary_logloss: 0.175162\tvalid_0's auc: 0.835403\n",
            "[23]\tvalid_0's binary_logloss: 0.1767\tvalid_0's auc: 0.835362\n",
            "[24]\tvalid_0's binary_logloss: 0.178226\tvalid_0's auc: 0.835792\n",
            "[25]\tvalid_0's binary_logloss: 0.179666\tvalid_0's auc: 0.836188\n",
            "[26]\tvalid_0's binary_logloss: 0.181154\tvalid_0's auc: 0.836542\n",
            "[27]\tvalid_0's binary_logloss: 0.18264\tvalid_0's auc: 0.836595\n",
            "[28]\tvalid_0's binary_logloss: 0.184129\tvalid_0's auc: 0.836704\n",
            "[29]\tvalid_0's binary_logloss: 0.185644\tvalid_0's auc: 0.836771\n",
            "[30]\tvalid_0's binary_logloss: 0.187297\tvalid_0's auc: 0.836911\n",
            "[31]\tvalid_0's binary_logloss: 0.18892\tvalid_0's auc: 0.837239\n",
            "[32]\tvalid_0's binary_logloss: 0.190575\tvalid_0's auc: 0.837343\n",
            "[33]\tvalid_0's binary_logloss: 0.192111\tvalid_0's auc: 0.837588\n",
            "[34]\tvalid_0's binary_logloss: 0.193705\tvalid_0's auc: 0.837572\n",
            "[35]\tvalid_0's binary_logloss: 0.195295\tvalid_0's auc: 0.83777\n",
            "[36]\tvalid_0's binary_logloss: 0.196829\tvalid_0's auc: 0.837958\n",
            "[37]\tvalid_0's binary_logloss: 0.19844\tvalid_0's auc: 0.838118\n",
            "[38]\tvalid_0's binary_logloss: 0.200048\tvalid_0's auc: 0.838086\n",
            "[39]\tvalid_0's binary_logloss: 0.20162\tvalid_0's auc: 0.838304\n",
            "[40]\tvalid_0's binary_logloss: 0.203267\tvalid_0's auc: 0.838458\n",
            "[41]\tvalid_0's binary_logloss: 0.204857\tvalid_0's auc: 0.838355\n",
            "[42]\tvalid_0's binary_logloss: 0.206554\tvalid_0's auc: 0.838499\n",
            "[43]\tvalid_0's binary_logloss: 0.208105\tvalid_0's auc: 0.838897\n",
            "[44]\tvalid_0's binary_logloss: 0.209815\tvalid_0's auc: 0.838817\n",
            "[45]\tvalid_0's binary_logloss: 0.211392\tvalid_0's auc: 0.838903\n",
            "[46]\tvalid_0's binary_logloss: 0.212987\tvalid_0's auc: 0.839054\n",
            "[47]\tvalid_0's binary_logloss: 0.214688\tvalid_0's auc: 0.839081\n",
            "[48]\tvalid_0's binary_logloss: 0.216346\tvalid_0's auc: 0.839218\n",
            "[49]\tvalid_0's binary_logloss: 0.218001\tvalid_0's auc: 0.839176\n",
            "[50]\tvalid_0's binary_logloss: 0.21968\tvalid_0's auc: 0.839326\n",
            "[51]\tvalid_0's binary_logloss: 0.22138\tvalid_0's auc: 0.839347\n",
            "[52]\tvalid_0's binary_logloss: 0.222956\tvalid_0's auc: 0.839417\n",
            "[53]\tvalid_0's binary_logloss: 0.224647\tvalid_0's auc: 0.839394\n",
            "[54]\tvalid_0's binary_logloss: 0.226306\tvalid_0's auc: 0.8395\n",
            "[55]\tvalid_0's binary_logloss: 0.227983\tvalid_0's auc: 0.839612\n",
            "[56]\tvalid_0's binary_logloss: 0.229653\tvalid_0's auc: 0.839627\n",
            "[57]\tvalid_0's binary_logloss: 0.231337\tvalid_0's auc: 0.83964\n",
            "[58]\tvalid_0's binary_logloss: 0.232886\tvalid_0's auc: 0.839796\n",
            "[59]\tvalid_0's binary_logloss: 0.234442\tvalid_0's auc: 0.840077\n",
            "[60]\tvalid_0's binary_logloss: 0.2361\tvalid_0's auc: 0.840021\n",
            "[61]\tvalid_0's binary_logloss: 0.237665\tvalid_0's auc: 0.840189\n",
            "[62]\tvalid_0's binary_logloss: 0.239217\tvalid_0's auc: 0.840192\n",
            "[63]\tvalid_0's binary_logloss: 0.240811\tvalid_0's auc: 0.840178\n",
            "[64]\tvalid_0's binary_logloss: 0.2424\tvalid_0's auc: 0.840237\n",
            "[65]\tvalid_0's binary_logloss: 0.243928\tvalid_0's auc: 0.840234\n",
            "[66]\tvalid_0's binary_logloss: 0.245454\tvalid_0's auc: 0.840425\n",
            "[67]\tvalid_0's binary_logloss: 0.247069\tvalid_0's auc: 0.840472\n",
            "[68]\tvalid_0's binary_logloss: 0.248676\tvalid_0's auc: 0.840495\n",
            "[69]\tvalid_0's binary_logloss: 0.250248\tvalid_0's auc: 0.840375\n",
            "[70]\tvalid_0's binary_logloss: 0.251809\tvalid_0's auc: 0.840506\n",
            "[71]\tvalid_0's binary_logloss: 0.25339\tvalid_0's auc: 0.840529\n",
            "[72]\tvalid_0's binary_logloss: 0.254904\tvalid_0's auc: 0.84072\n",
            "[73]\tvalid_0's binary_logloss: 0.256373\tvalid_0's auc: 0.840744\n",
            "[74]\tvalid_0's binary_logloss: 0.257925\tvalid_0's auc: 0.840679\n",
            "[75]\tvalid_0's binary_logloss: 0.259488\tvalid_0's auc: 0.840656\n",
            "[76]\tvalid_0's binary_logloss: 0.261063\tvalid_0's auc: 0.840603\n",
            "[77]\tvalid_0's binary_logloss: 0.262556\tvalid_0's auc: 0.840614\n",
            "[78]\tvalid_0's binary_logloss: 0.264022\tvalid_0's auc: 0.840603\n",
            "[79]\tvalid_0's binary_logloss: 0.265507\tvalid_0's auc: 0.840614\n",
            "[80]\tvalid_0's binary_logloss: 0.266932\tvalid_0's auc: 0.840649\n",
            "[81]\tvalid_0's binary_logloss: 0.268459\tvalid_0's auc: 0.84076\n",
            "[82]\tvalid_0's binary_logloss: 0.269953\tvalid_0's auc: 0.840734\n",
            "[83]\tvalid_0's binary_logloss: 0.271364\tvalid_0's auc: 0.840699\n",
            "[84]\tvalid_0's binary_logloss: 0.2728\tvalid_0's auc: 0.84071\n",
            "[85]\tvalid_0's binary_logloss: 0.274195\tvalid_0's auc: 0.840705\n",
            "[86]\tvalid_0's binary_logloss: 0.275645\tvalid_0's auc: 0.840749\n",
            "[87]\tvalid_0's binary_logloss: 0.277089\tvalid_0's auc: 0.840689\n",
            "[88]\tvalid_0's binary_logloss: 0.278487\tvalid_0's auc: 0.840697\n",
            "[89]\tvalid_0's binary_logloss: 0.279937\tvalid_0's auc: 0.84072\n",
            "[90]\tvalid_0's binary_logloss: 0.281363\tvalid_0's auc: 0.840663\n",
            "[91]\tvalid_0's binary_logloss: 0.282794\tvalid_0's auc: 0.840687\n",
            "[92]\tvalid_0's binary_logloss: 0.284134\tvalid_0's auc: 0.840743\n",
            "[93]\tvalid_0's binary_logloss: 0.285524\tvalid_0's auc: 0.84087\n",
            "[94]\tvalid_0's binary_logloss: 0.286941\tvalid_0's auc: 0.840935\n",
            "[95]\tvalid_0's binary_logloss: 0.288264\tvalid_0's auc: 0.841035\n",
            "[96]\tvalid_0's binary_logloss: 0.289689\tvalid_0's auc: 0.840916\n",
            "[97]\tvalid_0's binary_logloss: 0.291032\tvalid_0's auc: 0.840993\n",
            "[98]\tvalid_0's binary_logloss: 0.292421\tvalid_0's auc: 0.840958\n",
            "[99]\tvalid_0's binary_logloss: 0.293767\tvalid_0's auc: 0.841039\n",
            "[100]\tvalid_0's binary_logloss: 0.29512\tvalid_0's auc: 0.841028\n",
            "[101]\tvalid_0's binary_logloss: 0.296416\tvalid_0's auc: 0.841083\n",
            "[102]\tvalid_0's binary_logloss: 0.297767\tvalid_0's auc: 0.841077\n",
            "[103]\tvalid_0's binary_logloss: 0.29904\tvalid_0's auc: 0.841228\n",
            "[104]\tvalid_0's binary_logloss: 0.300306\tvalid_0's auc: 0.841355\n",
            "[105]\tvalid_0's binary_logloss: 0.30158\tvalid_0's auc: 0.841337\n",
            "[106]\tvalid_0's binary_logloss: 0.302874\tvalid_0's auc: 0.841334\n",
            "[107]\tvalid_0's binary_logloss: 0.304129\tvalid_0's auc: 0.841436\n",
            "[108]\tvalid_0's binary_logloss: 0.30543\tvalid_0's auc: 0.841444\n",
            "[109]\tvalid_0's binary_logloss: 0.306646\tvalid_0's auc: 0.84158\n",
            "[110]\tvalid_0's binary_logloss: 0.307905\tvalid_0's auc: 0.841487\n",
            "[111]\tvalid_0's binary_logloss: 0.309139\tvalid_0's auc: 0.841498\n",
            "[112]\tvalid_0's binary_logloss: 0.310332\tvalid_0's auc: 0.841692\n",
            "[113]\tvalid_0's binary_logloss: 0.311578\tvalid_0's auc: 0.841653\n",
            "[114]\tvalid_0's binary_logloss: 0.312837\tvalid_0's auc: 0.841668\n",
            "[115]\tvalid_0's binary_logloss: 0.314066\tvalid_0's auc: 0.841709\n",
            "[116]\tvalid_0's binary_logloss: 0.315293\tvalid_0's auc: 0.841744\n",
            "[117]\tvalid_0's binary_logloss: 0.31645\tvalid_0's auc: 0.841802\n",
            "[118]\tvalid_0's binary_logloss: 0.317725\tvalid_0's auc: 0.841771\n",
            "[119]\tvalid_0's binary_logloss: 0.318888\tvalid_0's auc: 0.841738\n",
            "[120]\tvalid_0's binary_logloss: 0.32003\tvalid_0's auc: 0.841848\n",
            "[121]\tvalid_0's binary_logloss: 0.321217\tvalid_0's auc: 0.841899\n",
            "[122]\tvalid_0's binary_logloss: 0.322314\tvalid_0's auc: 0.841909\n",
            "[123]\tvalid_0's binary_logloss: 0.323479\tvalid_0's auc: 0.841973\n",
            "[124]\tvalid_0's binary_logloss: 0.324616\tvalid_0's auc: 0.842074\n",
            "[125]\tvalid_0's binary_logloss: 0.325763\tvalid_0's auc: 0.842104\n",
            "[126]\tvalid_0's binary_logloss: 0.326918\tvalid_0's auc: 0.842082\n",
            "[127]\tvalid_0's binary_logloss: 0.328002\tvalid_0's auc: 0.842232\n",
            "[128]\tvalid_0's binary_logloss: 0.329162\tvalid_0's auc: 0.842216\n",
            "[129]\tvalid_0's binary_logloss: 0.330261\tvalid_0's auc: 0.842253\n",
            "[130]\tvalid_0's binary_logloss: 0.33132\tvalid_0's auc: 0.84231\n",
            "[131]\tvalid_0's binary_logloss: 0.332435\tvalid_0's auc: 0.842317\n",
            "[132]\tvalid_0's binary_logloss: 0.333511\tvalid_0's auc: 0.842347\n",
            "[133]\tvalid_0's binary_logloss: 0.334611\tvalid_0's auc: 0.842279\n",
            "[134]\tvalid_0's binary_logloss: 0.335644\tvalid_0's auc: 0.842287\n",
            "[135]\tvalid_0's binary_logloss: 0.336715\tvalid_0's auc: 0.842296\n",
            "[136]\tvalid_0's binary_logloss: 0.337778\tvalid_0's auc: 0.842407\n",
            "[137]\tvalid_0's binary_logloss: 0.338836\tvalid_0's auc: 0.842418\n",
            "[138]\tvalid_0's binary_logloss: 0.339922\tvalid_0's auc: 0.842413\n",
            "[139]\tvalid_0's binary_logloss: 0.340963\tvalid_0's auc: 0.842513\n",
            "[140]\tvalid_0's binary_logloss: 0.342003\tvalid_0's auc: 0.842468\n",
            "[141]\tvalid_0's binary_logloss: 0.343006\tvalid_0's auc: 0.842524\n",
            "[142]\tvalid_0's binary_logloss: 0.344\tvalid_0's auc: 0.84255\n",
            "[143]\tvalid_0's binary_logloss: 0.344966\tvalid_0's auc: 0.842571\n",
            "[144]\tvalid_0's binary_logloss: 0.345925\tvalid_0's auc: 0.842615\n",
            "[145]\tvalid_0's binary_logloss: 0.346921\tvalid_0's auc: 0.84272\n",
            "[146]\tvalid_0's binary_logloss: 0.347957\tvalid_0's auc: 0.842676\n",
            "[147]\tvalid_0's binary_logloss: 0.348877\tvalid_0's auc: 0.842747\n",
            "[148]\tvalid_0's binary_logloss: 0.349838\tvalid_0's auc: 0.842736\n",
            "[149]\tvalid_0's binary_logloss: 0.350775\tvalid_0's auc: 0.842795\n",
            "[150]\tvalid_0's binary_logloss: 0.351726\tvalid_0's auc: 0.842819\n",
            "[151]\tvalid_0's binary_logloss: 0.352634\tvalid_0's auc: 0.842888\n",
            "[152]\tvalid_0's binary_logloss: 0.353575\tvalid_0's auc: 0.842818\n",
            "[153]\tvalid_0's binary_logloss: 0.354482\tvalid_0's auc: 0.842902\n",
            "[154]\tvalid_0's binary_logloss: 0.355434\tvalid_0's auc: 0.842846\n",
            "[155]\tvalid_0's binary_logloss: 0.35637\tvalid_0's auc: 0.842856\n",
            "[156]\tvalid_0's binary_logloss: 0.357287\tvalid_0's auc: 0.842929\n",
            "[157]\tvalid_0's binary_logloss: 0.358174\tvalid_0's auc: 0.842911\n",
            "[158]\tvalid_0's binary_logloss: 0.359071\tvalid_0's auc: 0.842986\n",
            "[159]\tvalid_0's binary_logloss: 0.359966\tvalid_0's auc: 0.842943\n",
            "[160]\tvalid_0's binary_logloss: 0.360855\tvalid_0's auc: 0.842947\n",
            "[161]\tvalid_0's binary_logloss: 0.361702\tvalid_0's auc: 0.842963\n",
            "[162]\tvalid_0's binary_logloss: 0.362604\tvalid_0's auc: 0.842935\n",
            "[163]\tvalid_0's binary_logloss: 0.363464\tvalid_0's auc: 0.842894\n",
            "[164]\tvalid_0's binary_logloss: 0.364317\tvalid_0's auc: 0.842892\n",
            "[165]\tvalid_0's binary_logloss: 0.365149\tvalid_0's auc: 0.842947\n",
            "[166]\tvalid_0's binary_logloss: 0.365991\tvalid_0's auc: 0.842953\n",
            "[167]\tvalid_0's binary_logloss: 0.366833\tvalid_0's auc: 0.842963\n",
            "[168]\tvalid_0's binary_logloss: 0.367682\tvalid_0's auc: 0.842938\n",
            "[169]\tvalid_0's binary_logloss: 0.368508\tvalid_0's auc: 0.842798\n",
            "[170]\tvalid_0's binary_logloss: 0.369353\tvalid_0's auc: 0.84277\n",
            "[171]\tvalid_0's binary_logloss: 0.37015\tvalid_0's auc: 0.842876\n",
            "[172]\tvalid_0's binary_logloss: 0.370925\tvalid_0's auc: 0.84294\n",
            "[173]\tvalid_0's binary_logloss: 0.371747\tvalid_0's auc: 0.842982\n",
            "[174]\tvalid_0's binary_logloss: 0.372499\tvalid_0's auc: 0.843049\n",
            "[175]\tvalid_0's binary_logloss: 0.373317\tvalid_0's auc: 0.843013\n",
            "[176]\tvalid_0's binary_logloss: 0.374097\tvalid_0's auc: 0.842999\n",
            "[177]\tvalid_0's binary_logloss: 0.374863\tvalid_0's auc: 0.842993\n",
            "[178]\tvalid_0's binary_logloss: 0.375615\tvalid_0's auc: 0.843067\n",
            "[179]\tvalid_0's binary_logloss: 0.376331\tvalid_0's auc: 0.843078\n",
            "[180]\tvalid_0's binary_logloss: 0.37708\tvalid_0's auc: 0.843098\n",
            "[181]\tvalid_0's binary_logloss: 0.377832\tvalid_0's auc: 0.843102\n",
            "[182]\tvalid_0's binary_logloss: 0.378543\tvalid_0's auc: 0.843141\n",
            "[183]\tvalid_0's binary_logloss: 0.37926\tvalid_0's auc: 0.843234\n",
            "[184]\tvalid_0's binary_logloss: 0.380012\tvalid_0's auc: 0.843225\n",
            "[185]\tvalid_0's binary_logloss: 0.380718\tvalid_0's auc: 0.843207\n",
            "[186]\tvalid_0's binary_logloss: 0.381438\tvalid_0's auc: 0.843181\n",
            "[187]\tvalid_0's binary_logloss: 0.382141\tvalid_0's auc: 0.843209\n",
            "[188]\tvalid_0's binary_logloss: 0.382798\tvalid_0's auc: 0.843216\n",
            "[189]\tvalid_0's binary_logloss: 0.383462\tvalid_0's auc: 0.843184\n",
            "[190]\tvalid_0's binary_logloss: 0.384154\tvalid_0's auc: 0.843221\n",
            "[191]\tvalid_0's binary_logloss: 0.384833\tvalid_0's auc: 0.843242\n",
            "[192]\tvalid_0's binary_logloss: 0.385502\tvalid_0's auc: 0.843215\n",
            "[193]\tvalid_0's binary_logloss: 0.386193\tvalid_0's auc: 0.843239\n",
            "[194]\tvalid_0's binary_logloss: 0.386836\tvalid_0's auc: 0.84323\n",
            "[195]\tvalid_0's binary_logloss: 0.387464\tvalid_0's auc: 0.843276\n",
            "[196]\tvalid_0's binary_logloss: 0.388107\tvalid_0's auc: 0.84322\n",
            "[197]\tvalid_0's binary_logloss: 0.388775\tvalid_0's auc: 0.843237\n",
            "[198]\tvalid_0's binary_logloss: 0.389414\tvalid_0's auc: 0.843289\n",
            "[199]\tvalid_0's binary_logloss: 0.390033\tvalid_0's auc: 0.843295\n",
            "[200]\tvalid_0's binary_logloss: 0.390651\tvalid_0's auc: 0.843324\n",
            "[201]\tvalid_0's binary_logloss: 0.391259\tvalid_0's auc: 0.843273\n",
            "[202]\tvalid_0's binary_logloss: 0.391866\tvalid_0's auc: 0.843278\n",
            "[203]\tvalid_0's binary_logloss: 0.392485\tvalid_0's auc: 0.843284\n",
            "[204]\tvalid_0's binary_logloss: 0.393095\tvalid_0's auc: 0.843231\n",
            "[205]\tvalid_0's binary_logloss: 0.393657\tvalid_0's auc: 0.843337\n",
            "[206]\tvalid_0's binary_logloss: 0.394273\tvalid_0's auc: 0.843337\n",
            "[207]\tvalid_0's binary_logloss: 0.394844\tvalid_0's auc: 0.843292\n",
            "[208]\tvalid_0's binary_logloss: 0.395432\tvalid_0's auc: 0.843303\n",
            "[209]\tvalid_0's binary_logloss: 0.395971\tvalid_0's auc: 0.843388\n",
            "[210]\tvalid_0's binary_logloss: 0.396566\tvalid_0's auc: 0.843356\n",
            "[211]\tvalid_0's binary_logloss: 0.397153\tvalid_0's auc: 0.843293\n",
            "[212]\tvalid_0's binary_logloss: 0.397726\tvalid_0's auc: 0.843253\n",
            "[213]\tvalid_0's binary_logloss: 0.39826\tvalid_0's auc: 0.843328\n",
            "[214]\tvalid_0's binary_logloss: 0.398809\tvalid_0's auc: 0.843199\n",
            "[215]\tvalid_0's binary_logloss: 0.399338\tvalid_0's auc: 0.843256\n",
            "[216]\tvalid_0's binary_logloss: 0.399884\tvalid_0's auc: 0.843278\n",
            "[217]\tvalid_0's binary_logloss: 0.400437\tvalid_0's auc: 0.843243\n",
            "[218]\tvalid_0's binary_logloss: 0.401003\tvalid_0's auc: 0.843202\n",
            "[219]\tvalid_0's binary_logloss: 0.401542\tvalid_0's auc: 0.843156\n",
            "[220]\tvalid_0's binary_logloss: 0.402043\tvalid_0's auc: 0.843153\n",
            "[221]\tvalid_0's binary_logloss: 0.402563\tvalid_0's auc: 0.843104\n",
            "[222]\tvalid_0's binary_logloss: 0.403038\tvalid_0's auc: 0.84314\n",
            "[223]\tvalid_0's binary_logloss: 0.403571\tvalid_0's auc: 0.8431\n",
            "[224]\tvalid_0's binary_logloss: 0.404029\tvalid_0's auc: 0.843074\n",
            "[225]\tvalid_0's binary_logloss: 0.40454\tvalid_0's auc: 0.84303\n",
            "[226]\tvalid_0's binary_logloss: 0.405031\tvalid_0's auc: 0.84311\n",
            "[227]\tvalid_0's binary_logloss: 0.405531\tvalid_0's auc: 0.84303\n",
            "[228]\tvalid_0's binary_logloss: 0.405986\tvalid_0's auc: 0.842972\n",
            "[229]\tvalid_0's binary_logloss: 0.406466\tvalid_0's auc: 0.842942\n",
            "[230]\tvalid_0's binary_logloss: 0.406978\tvalid_0's auc: 0.842955\n",
            "[231]\tvalid_0's binary_logloss: 0.407474\tvalid_0's auc: 0.842978\n",
            "[232]\tvalid_0's binary_logloss: 0.407919\tvalid_0's auc: 0.842951\n",
            "[233]\tvalid_0's binary_logloss: 0.408378\tvalid_0's auc: 0.842979\n",
            "[234]\tvalid_0's binary_logloss: 0.40884\tvalid_0's auc: 0.843051\n",
            "[235]\tvalid_0's binary_logloss: 0.409328\tvalid_0's auc: 0.84305\n",
            "[236]\tvalid_0's binary_logloss: 0.409787\tvalid_0's auc: 0.843064\n",
            "[237]\tvalid_0's binary_logloss: 0.410246\tvalid_0's auc: 0.843068\n",
            "[238]\tvalid_0's binary_logloss: 0.41069\tvalid_0's auc: 0.843009\n",
            "[239]\tvalid_0's binary_logloss: 0.411146\tvalid_0's auc: 0.843081\n",
            "[240]\tvalid_0's binary_logloss: 0.411601\tvalid_0's auc: 0.843092\n",
            "[241]\tvalid_0's binary_logloss: 0.412038\tvalid_0's auc: 0.84313\n",
            "[242]\tvalid_0's binary_logloss: 0.412485\tvalid_0's auc: 0.843128\n",
            "[243]\tvalid_0's binary_logloss: 0.412871\tvalid_0's auc: 0.843116\n",
            "[244]\tvalid_0's binary_logloss: 0.413283\tvalid_0's auc: 0.84301\n",
            "[245]\tvalid_0's binary_logloss: 0.413692\tvalid_0's auc: 0.843\n",
            "[246]\tvalid_0's binary_logloss: 0.414076\tvalid_0's auc: 0.843063\n",
            "[247]\tvalid_0's binary_logloss: 0.414473\tvalid_0's auc: 0.843098\n",
            "[248]\tvalid_0's binary_logloss: 0.41489\tvalid_0's auc: 0.843095\n",
            "[249]\tvalid_0's binary_logloss: 0.415294\tvalid_0's auc: 0.843111\n",
            "[250]\tvalid_0's binary_logloss: 0.415718\tvalid_0's auc: 0.843071\n",
            "[251]\tvalid_0's binary_logloss: 0.416097\tvalid_0's auc: 0.84308\n",
            "[252]\tvalid_0's binary_logloss: 0.416482\tvalid_0's auc: 0.843054\n",
            "[253]\tvalid_0's binary_logloss: 0.416865\tvalid_0's auc: 0.843067\n",
            "[254]\tvalid_0's binary_logloss: 0.41725\tvalid_0's auc: 0.843109\n",
            "[255]\tvalid_0's binary_logloss: 0.417645\tvalid_0's auc: 0.84306\n",
            "[256]\tvalid_0's binary_logloss: 0.418011\tvalid_0's auc: 0.843086\n",
            "[257]\tvalid_0's binary_logloss: 0.418377\tvalid_0's auc: 0.843062\n",
            "[258]\tvalid_0's binary_logloss: 0.418741\tvalid_0's auc: 0.843076\n",
            "[259]\tvalid_0's binary_logloss: 0.419126\tvalid_0's auc: 0.843082\n",
            "[260]\tvalid_0's binary_logloss: 0.419489\tvalid_0's auc: 0.843081\n",
            "[261]\tvalid_0's binary_logloss: 0.419835\tvalid_0's auc: 0.843058\n",
            "[262]\tvalid_0's binary_logloss: 0.420182\tvalid_0's auc: 0.843087\n",
            "[263]\tvalid_0's binary_logloss: 0.420502\tvalid_0's auc: 0.843162\n",
            "[264]\tvalid_0's binary_logloss: 0.420843\tvalid_0's auc: 0.843155\n",
            "[265]\tvalid_0's binary_logloss: 0.421156\tvalid_0's auc: 0.843162\n",
            "[266]\tvalid_0's binary_logloss: 0.421467\tvalid_0's auc: 0.843114\n",
            "[267]\tvalid_0's binary_logloss: 0.421805\tvalid_0's auc: 0.843124\n",
            "[268]\tvalid_0's binary_logloss: 0.422117\tvalid_0's auc: 0.84318\n",
            "[269]\tvalid_0's binary_logloss: 0.422429\tvalid_0's auc: 0.843109\n",
            "[270]\tvalid_0's binary_logloss: 0.422741\tvalid_0's auc: 0.843068\n",
            "[271]\tvalid_0's binary_logloss: 0.423073\tvalid_0's auc: 0.843045\n",
            "[272]\tvalid_0's binary_logloss: 0.423372\tvalid_0's auc: 0.843074\n",
            "[273]\tvalid_0's binary_logloss: 0.423681\tvalid_0's auc: 0.843096\n",
            "[274]\tvalid_0's binary_logloss: 0.423972\tvalid_0's auc: 0.843191\n",
            "[275]\tvalid_0's binary_logloss: 0.424274\tvalid_0's auc: 0.843193\n",
            "[276]\tvalid_0's binary_logloss: 0.424562\tvalid_0's auc: 0.8432\n",
            "[277]\tvalid_0's binary_logloss: 0.424853\tvalid_0's auc: 0.843198\n",
            "[278]\tvalid_0's binary_logloss: 0.425116\tvalid_0's auc: 0.843206\n",
            "[279]\tvalid_0's binary_logloss: 0.425381\tvalid_0's auc: 0.843222\n",
            "[280]\tvalid_0's binary_logloss: 0.425654\tvalid_0's auc: 0.843237\n",
            "[281]\tvalid_0's binary_logloss: 0.425953\tvalid_0's auc: 0.843246\n",
            "[282]\tvalid_0's binary_logloss: 0.426252\tvalid_0's auc: 0.843243\n",
            "[283]\tvalid_0's binary_logloss: 0.426503\tvalid_0's auc: 0.843258\n",
            "[284]\tvalid_0's binary_logloss: 0.426738\tvalid_0's auc: 0.843224\n",
            "[285]\tvalid_0's binary_logloss: 0.426994\tvalid_0's auc: 0.843193\n",
            "[286]\tvalid_0's binary_logloss: 0.427268\tvalid_0's auc: 0.843223\n",
            "[287]\tvalid_0's binary_logloss: 0.427534\tvalid_0's auc: 0.843233\n",
            "[288]\tvalid_0's binary_logloss: 0.427798\tvalid_0's auc: 0.843263\n",
            "[289]\tvalid_0's binary_logloss: 0.428067\tvalid_0's auc: 0.843255\n",
            "[290]\tvalid_0's binary_logloss: 0.428302\tvalid_0's auc: 0.843279\n",
            "[291]\tvalid_0's binary_logloss: 0.428565\tvalid_0's auc: 0.843218\n",
            "[292]\tvalid_0's binary_logloss: 0.428807\tvalid_0's auc: 0.843223\n",
            "[293]\tvalid_0's binary_logloss: 0.429051\tvalid_0's auc: 0.843178\n",
            "[294]\tvalid_0's binary_logloss: 0.429293\tvalid_0's auc: 0.843179\n",
            "[295]\tvalid_0's binary_logloss: 0.429531\tvalid_0's auc: 0.843144\n",
            "[296]\tvalid_0's binary_logloss: 0.429771\tvalid_0's auc: 0.843124\n",
            "[297]\tvalid_0's binary_logloss: 0.430004\tvalid_0's auc: 0.843107\n",
            "[298]\tvalid_0's binary_logloss: 0.430227\tvalid_0's auc: 0.843119\n",
            "[299]\tvalid_0's binary_logloss: 0.430443\tvalid_0's auc: 0.843091\n",
            "[300]\tvalid_0's binary_logloss: 0.430654\tvalid_0's auc: 0.843092\n",
            "[301]\tvalid_0's binary_logloss: 0.43089\tvalid_0's auc: 0.843128\n",
            "[302]\tvalid_0's binary_logloss: 0.431081\tvalid_0's auc: 0.843082\n",
            "[303]\tvalid_0's binary_logloss: 0.431304\tvalid_0's auc: 0.8431\n",
            "[304]\tvalid_0's binary_logloss: 0.431533\tvalid_0's auc: 0.843125\n",
            "[305]\tvalid_0's binary_logloss: 0.431743\tvalid_0's auc: 0.843137\n",
            "[306]\tvalid_0's binary_logloss: 0.431965\tvalid_0's auc: 0.843137\n",
            "[307]\tvalid_0's binary_logloss: 0.432148\tvalid_0's auc: 0.843151\n",
            "[308]\tvalid_0's binary_logloss: 0.432346\tvalid_0's auc: 0.84319\n",
            "[309]\tvalid_0's binary_logloss: 0.432538\tvalid_0's auc: 0.843151\n",
            "[310]\tvalid_0's binary_logloss: 0.432718\tvalid_0's auc: 0.843115\n",
            "[311]\tvalid_0's binary_logloss: 0.432891\tvalid_0's auc: 0.843121\n",
            "[312]\tvalid_0's binary_logloss: 0.433064\tvalid_0's auc: 0.843114\n",
            "[313]\tvalid_0's binary_logloss: 0.43324\tvalid_0's auc: 0.843139\n",
            "[314]\tvalid_0's binary_logloss: 0.433422\tvalid_0's auc: 0.843137\n",
            "[315]\tvalid_0's binary_logloss: 0.433624\tvalid_0's auc: 0.843136\n",
            "[316]\tvalid_0's binary_logloss: 0.433833\tvalid_0's auc: 0.843141\n",
            "[317]\tvalid_0's binary_logloss: 0.434006\tvalid_0's auc: 0.843176\n",
            "[318]\tvalid_0's binary_logloss: 0.434191\tvalid_0's auc: 0.843142\n",
            "[319]\tvalid_0's binary_logloss: 0.434369\tvalid_0's auc: 0.843118\n",
            "[320]\tvalid_0's binary_logloss: 0.4345\tvalid_0's auc: 0.84313\n",
            "[321]\tvalid_0's binary_logloss: 0.434681\tvalid_0's auc: 0.843097\n",
            "[322]\tvalid_0's binary_logloss: 0.434826\tvalid_0's auc: 0.84317\n",
            "[323]\tvalid_0's binary_logloss: 0.435035\tvalid_0's auc: 0.843166\n",
            "[324]\tvalid_0's binary_logloss: 0.435213\tvalid_0's auc: 0.843136\n",
            "[325]\tvalid_0's binary_logloss: 0.435417\tvalid_0's auc: 0.843081\n",
            "[326]\tvalid_0's binary_logloss: 0.435601\tvalid_0's auc: 0.843036\n",
            "[327]\tvalid_0's binary_logloss: 0.435755\tvalid_0's auc: 0.843042\n",
            "[328]\tvalid_0's binary_logloss: 0.435905\tvalid_0's auc: 0.843057\n",
            "[329]\tvalid_0's binary_logloss: 0.436106\tvalid_0's auc: 0.843026\n",
            "[330]\tvalid_0's binary_logloss: 0.436285\tvalid_0's auc: 0.842988\n",
            "[331]\tvalid_0's binary_logloss: 0.436449\tvalid_0's auc: 0.842988\n",
            "[332]\tvalid_0's binary_logloss: 0.43659\tvalid_0's auc: 0.842912\n",
            "[333]\tvalid_0's binary_logloss: 0.4367\tvalid_0's auc: 0.842883\n",
            "[334]\tvalid_0's binary_logloss: 0.436847\tvalid_0's auc: 0.842879\n",
            "[335]\tvalid_0's binary_logloss: 0.436977\tvalid_0's auc: 0.842859\n",
            "[336]\tvalid_0's binary_logloss: 0.437097\tvalid_0's auc: 0.842857\n",
            "[337]\tvalid_0's binary_logloss: 0.437211\tvalid_0's auc: 0.84286\n",
            "[338]\tvalid_0's binary_logloss: 0.437366\tvalid_0's auc: 0.842825\n",
            "[339]\tvalid_0's binary_logloss: 0.437488\tvalid_0's auc: 0.842836\n",
            "[340]\tvalid_0's binary_logloss: 0.437617\tvalid_0's auc: 0.842823\n",
            "[341]\tvalid_0's binary_logloss: 0.43774\tvalid_0's auc: 0.842774\n",
            "[342]\tvalid_0's binary_logloss: 0.437833\tvalid_0's auc: 0.842777\n",
            "[343]\tvalid_0's binary_logloss: 0.437943\tvalid_0's auc: 0.842768\n",
            "[344]\tvalid_0's binary_logloss: 0.438072\tvalid_0's auc: 0.842746\n",
            "[345]\tvalid_0's binary_logloss: 0.438207\tvalid_0's auc: 0.842755\n",
            "[346]\tvalid_0's binary_logloss: 0.438329\tvalid_0's auc: 0.842717\n",
            "[347]\tvalid_0's binary_logloss: 0.438469\tvalid_0's auc: 0.842725\n",
            "[348]\tvalid_0's binary_logloss: 0.438555\tvalid_0's auc: 0.84279\n",
            "[349]\tvalid_0's binary_logloss: 0.438658\tvalid_0's auc: 0.842823\n",
            "[350]\tvalid_0's binary_logloss: 0.438766\tvalid_0's auc: 0.842808\n",
            "[351]\tvalid_0's binary_logloss: 0.438847\tvalid_0's auc: 0.842833\n",
            "[352]\tvalid_0's binary_logloss: 0.438933\tvalid_0's auc: 0.842806\n",
            "[353]\tvalid_0's binary_logloss: 0.439021\tvalid_0's auc: 0.842783\n",
            "[354]\tvalid_0's binary_logloss: 0.439161\tvalid_0's auc: 0.842731\n",
            "[355]\tvalid_0's binary_logloss: 0.439287\tvalid_0's auc: 0.84271\n",
            "[356]\tvalid_0's binary_logloss: 0.43941\tvalid_0's auc: 0.842709\n",
            "[357]\tvalid_0's binary_logloss: 0.439542\tvalid_0's auc: 0.842607\n",
            "[358]\tvalid_0's binary_logloss: 0.439686\tvalid_0's auc: 0.842599\n",
            "[359]\tvalid_0's binary_logloss: 0.439748\tvalid_0's auc: 0.842636\n",
            "[360]\tvalid_0's binary_logloss: 0.439819\tvalid_0's auc: 0.84265\n",
            "[361]\tvalid_0's binary_logloss: 0.439952\tvalid_0's auc: 0.842608\n",
            "[362]\tvalid_0's binary_logloss: 0.440021\tvalid_0's auc: 0.84263\n",
            "[363]\tvalid_0's binary_logloss: 0.440109\tvalid_0's auc: 0.842535\n",
            "[364]\tvalid_0's binary_logloss: 0.440171\tvalid_0's auc: 0.842582\n",
            "[365]\tvalid_0's binary_logloss: 0.440276\tvalid_0's auc: 0.842584\n",
            "[366]\tvalid_0's binary_logloss: 0.440378\tvalid_0's auc: 0.842595\n",
            "[367]\tvalid_0's binary_logloss: 0.440446\tvalid_0's auc: 0.84258\n",
            "[368]\tvalid_0's binary_logloss: 0.440509\tvalid_0's auc: 0.842612\n",
            "[369]\tvalid_0's binary_logloss: 0.440593\tvalid_0's auc: 0.842632\n",
            "[370]\tvalid_0's binary_logloss: 0.440656\tvalid_0's auc: 0.842586\n",
            "[371]\tvalid_0's binary_logloss: 0.440725\tvalid_0's auc: 0.842516\n",
            "[372]\tvalid_0's binary_logloss: 0.440778\tvalid_0's auc: 0.842507\n",
            "[373]\tvalid_0's binary_logloss: 0.440852\tvalid_0's auc: 0.842538\n",
            "[374]\tvalid_0's binary_logloss: 0.440905\tvalid_0's auc: 0.842618\n",
            "[375]\tvalid_0's binary_logloss: 0.440958\tvalid_0's auc: 0.842594\n",
            "[376]\tvalid_0's binary_logloss: 0.441004\tvalid_0's auc: 0.842557\n",
            "[377]\tvalid_0's binary_logloss: 0.441082\tvalid_0's auc: 0.84263\n",
            "[378]\tvalid_0's binary_logloss: 0.441142\tvalid_0's auc: 0.842683\n",
            "[379]\tvalid_0's binary_logloss: 0.441191\tvalid_0's auc: 0.842595\n",
            "[380]\tvalid_0's binary_logloss: 0.441227\tvalid_0's auc: 0.842523\n",
            "[381]\tvalid_0's binary_logloss: 0.441338\tvalid_0's auc: 0.84252\n",
            "[382]\tvalid_0's binary_logloss: 0.441466\tvalid_0's auc: 0.842481\n",
            "[383]\tvalid_0's binary_logloss: 0.441516\tvalid_0's auc: 0.842486\n",
            "[384]\tvalid_0's binary_logloss: 0.441573\tvalid_0's auc: 0.842512\n",
            "[385]\tvalid_0's binary_logloss: 0.441633\tvalid_0's auc: 0.842554\n",
            "[386]\tvalid_0's binary_logloss: 0.441713\tvalid_0's auc: 0.842536\n",
            "[387]\tvalid_0's binary_logloss: 0.441755\tvalid_0's auc: 0.842544\n",
            "[388]\tvalid_0's binary_logloss: 0.441814\tvalid_0's auc: 0.842564\n",
            "[389]\tvalid_0's binary_logloss: 0.441864\tvalid_0's auc: 0.842608\n",
            "[390]\tvalid_0's binary_logloss: 0.441917\tvalid_0's auc: 0.842597\n",
            "[391]\tvalid_0's binary_logloss: 0.441947\tvalid_0's auc: 0.842572\n",
            "[392]\tvalid_0's binary_logloss: 0.442008\tvalid_0's auc: 0.842589\n",
            "[393]\tvalid_0's binary_logloss: 0.442052\tvalid_0's auc: 0.842572\n",
            "[394]\tvalid_0's binary_logloss: 0.442093\tvalid_0's auc: 0.842564\n",
            "[395]\tvalid_0's binary_logloss: 0.442166\tvalid_0's auc: 0.842503\n",
            "[396]\tvalid_0's binary_logloss: 0.44219\tvalid_0's auc: 0.842448\n",
            "[397]\tvalid_0's binary_logloss: 0.442229\tvalid_0's auc: 0.842462\n",
            "[398]\tvalid_0's binary_logloss: 0.442233\tvalid_0's auc: 0.842504\n",
            "[399]\tvalid_0's binary_logloss: 0.442292\tvalid_0's auc: 0.84252\n",
            "[400]\tvalid_0's binary_logloss: 0.442321\tvalid_0's auc: 0.842507\n",
            "[401]\tvalid_0's binary_logloss: 0.442324\tvalid_0's auc: 0.842489\n",
            "[402]\tvalid_0's binary_logloss: 0.442407\tvalid_0's auc: 0.842505\n",
            "[403]\tvalid_0's binary_logloss: 0.442422\tvalid_0's auc: 0.842533\n",
            "[404]\tvalid_0's binary_logloss: 0.442429\tvalid_0's auc: 0.842537\n",
            "[405]\tvalid_0's binary_logloss: 0.442455\tvalid_0's auc: 0.842539\n",
            "[406]\tvalid_0's binary_logloss: 0.44253\tvalid_0's auc: 0.842562\n",
            "[407]\tvalid_0's binary_logloss: 0.442557\tvalid_0's auc: 0.842582\n",
            "[408]\tvalid_0's binary_logloss: 0.442574\tvalid_0's auc: 0.842597\n",
            "[409]\tvalid_0's binary_logloss: 0.442653\tvalid_0's auc: 0.842574\n",
            "[410]\tvalid_0's binary_logloss: 0.442735\tvalid_0's auc: 0.842578\n",
            "[411]\tvalid_0's binary_logloss: 0.442824\tvalid_0's auc: 0.842549\n",
            "[412]\tvalid_0's binary_logloss: 0.44288\tvalid_0's auc: 0.842537\n",
            "[413]\tvalid_0's binary_logloss: 0.442881\tvalid_0's auc: 0.842513\n",
            "[414]\tvalid_0's binary_logloss: 0.442886\tvalid_0's auc: 0.842508\n",
            "[415]\tvalid_0's binary_logloss: 0.442932\tvalid_0's auc: 0.842531\n",
            "[416]\tvalid_0's binary_logloss: 0.44295\tvalid_0's auc: 0.842545\n",
            "[417]\tvalid_0's binary_logloss: 0.44298\tvalid_0's auc: 0.842498\n",
            "[418]\tvalid_0's binary_logloss: 0.443035\tvalid_0's auc: 0.842465\n",
            "[419]\tvalid_0's binary_logloss: 0.443026\tvalid_0's auc: 0.842455\n",
            "[420]\tvalid_0's binary_logloss: 0.443073\tvalid_0's auc: 0.84242\n",
            "[421]\tvalid_0's binary_logloss: 0.443041\tvalid_0's auc: 0.842473\n",
            "[422]\tvalid_0's binary_logloss: 0.443097\tvalid_0's auc: 0.84245\n",
            "[423]\tvalid_0's binary_logloss: 0.443084\tvalid_0's auc: 0.842489\n",
            "[424]\tvalid_0's binary_logloss: 0.443076\tvalid_0's auc: 0.842451\n",
            "[425]\tvalid_0's binary_logloss: 0.443141\tvalid_0's auc: 0.842398\n",
            "[426]\tvalid_0's binary_logloss: 0.443185\tvalid_0's auc: 0.842425\n",
            "[427]\tvalid_0's binary_logloss: 0.44318\tvalid_0's auc: 0.842431\n",
            "[428]\tvalid_0's binary_logloss: 0.443172\tvalid_0's auc: 0.842442\n",
            "[429]\tvalid_0's binary_logloss: 0.443162\tvalid_0's auc: 0.842411\n",
            "[430]\tvalid_0's binary_logloss: 0.443208\tvalid_0's auc: 0.842365\n",
            "[431]\tvalid_0's binary_logloss: 0.443198\tvalid_0's auc: 0.842349\n",
            "[432]\tvalid_0's binary_logloss: 0.443209\tvalid_0's auc: 0.842324\n",
            "[433]\tvalid_0's binary_logloss: 0.44327\tvalid_0's auc: 0.842318\n",
            "[434]\tvalid_0's binary_logloss: 0.443247\tvalid_0's auc: 0.842347\n",
            "[435]\tvalid_0's binary_logloss: 0.443242\tvalid_0's auc: 0.842321\n",
            "[436]\tvalid_0's binary_logloss: 0.44327\tvalid_0's auc: 0.842277\n",
            "[437]\tvalid_0's binary_logloss: 0.443335\tvalid_0's auc: 0.842267\n",
            "[438]\tvalid_0's binary_logloss: 0.443327\tvalid_0's auc: 0.842263\n",
            "[439]\tvalid_0's binary_logloss: 0.443282\tvalid_0's auc: 0.842262\n",
            "[440]\tvalid_0's binary_logloss: 0.443239\tvalid_0's auc: 0.842258\n",
            "[441]\tvalid_0's binary_logloss: 0.443227\tvalid_0's auc: 0.842181\n",
            "[442]\tvalid_0's binary_logloss: 0.443224\tvalid_0's auc: 0.842178\n",
            "[443]\tvalid_0's binary_logloss: 0.443275\tvalid_0's auc: 0.842143\n",
            "[444]\tvalid_0's binary_logloss: 0.443324\tvalid_0's auc: 0.84216\n",
            "[445]\tvalid_0's binary_logloss: 0.443274\tvalid_0's auc: 0.8422\n",
            "[446]\tvalid_0's binary_logloss: 0.443267\tvalid_0's auc: 0.842208\n",
            "[447]\tvalid_0's binary_logloss: 0.443276\tvalid_0's auc: 0.842221\n",
            "[448]\tvalid_0's binary_logloss: 0.44326\tvalid_0's auc: 0.842185\n",
            "[449]\tvalid_0's binary_logloss: 0.443225\tvalid_0's auc: 0.842163\n",
            "[450]\tvalid_0's binary_logloss: 0.443199\tvalid_0's auc: 0.842168\n",
            "[451]\tvalid_0's binary_logloss: 0.443199\tvalid_0's auc: 0.842192\n",
            "[452]\tvalid_0's binary_logloss: 0.443147\tvalid_0's auc: 0.84219\n",
            "[453]\tvalid_0's binary_logloss: 0.443123\tvalid_0's auc: 0.842172\n",
            "[454]\tvalid_0's binary_logloss: 0.44316\tvalid_0's auc: 0.842163\n",
            "[455]\tvalid_0's binary_logloss: 0.443208\tvalid_0's auc: 0.842151\n",
            "[456]\tvalid_0's binary_logloss: 0.443235\tvalid_0's auc: 0.84215\n",
            "[457]\tvalid_0's binary_logloss: 0.443208\tvalid_0's auc: 0.84217\n",
            "[458]\tvalid_0's binary_logloss: 0.443242\tvalid_0's auc: 0.842136\n",
            "[459]\tvalid_0's binary_logloss: 0.443212\tvalid_0's auc: 0.842181\n",
            "[460]\tvalid_0's binary_logloss: 0.44317\tvalid_0's auc: 0.842191\n",
            "[461]\tvalid_0's binary_logloss: 0.443212\tvalid_0's auc: 0.842184\n",
            "[462]\tvalid_0's binary_logloss: 0.443197\tvalid_0's auc: 0.8422\n",
            "[463]\tvalid_0's binary_logloss: 0.443152\tvalid_0's auc: 0.842194\n",
            "[464]\tvalid_0's binary_logloss: 0.443169\tvalid_0's auc: 0.842171\n",
            "[465]\tvalid_0's binary_logloss: 0.443124\tvalid_0's auc: 0.842148\n",
            "[466]\tvalid_0's binary_logloss: 0.443159\tvalid_0's auc: 0.842102\n",
            "[467]\tvalid_0's binary_logloss: 0.443128\tvalid_0's auc: 0.842101\n",
            "[468]\tvalid_0's binary_logloss: 0.443118\tvalid_0's auc: 0.842065\n",
            "[469]\tvalid_0's binary_logloss: 0.443137\tvalid_0's auc: 0.842022\n",
            "[470]\tvalid_0's binary_logloss: 0.443081\tvalid_0's auc: 0.842065\n",
            "[471]\tvalid_0's binary_logloss: 0.443033\tvalid_0's auc: 0.842078\n",
            "[472]\tvalid_0's binary_logloss: 0.443008\tvalid_0's auc: 0.842091\n",
            "[473]\tvalid_0's binary_logloss: 0.442984\tvalid_0's auc: 0.842074\n",
            "[474]\tvalid_0's binary_logloss: 0.443011\tvalid_0's auc: 0.842077\n",
            "[475]\tvalid_0's binary_logloss: 0.442947\tvalid_0's auc: 0.842115\n",
            "[476]\tvalid_0's binary_logloss: 0.44293\tvalid_0's auc: 0.842077\n",
            "[477]\tvalid_0's binary_logloss: 0.442879\tvalid_0's auc: 0.842066\n",
            "[478]\tvalid_0's binary_logloss: 0.442901\tvalid_0's auc: 0.842062\n",
            "[479]\tvalid_0's binary_logloss: 0.442932\tvalid_0's auc: 0.842067\n",
            "[480]\tvalid_0's binary_logloss: 0.442911\tvalid_0's auc: 0.842077\n",
            "[481]\tvalid_0's binary_logloss: 0.442923\tvalid_0's auc: 0.842059\n",
            "[482]\tvalid_0's binary_logloss: 0.44288\tvalid_0's auc: 0.842022\n",
            "[483]\tvalid_0's binary_logloss: 0.442886\tvalid_0's auc: 0.842005\n",
            "[484]\tvalid_0's binary_logloss: 0.442918\tvalid_0's auc: 0.84198\n",
            "[485]\tvalid_0's binary_logloss: 0.442884\tvalid_0's auc: 0.841977\n",
            "[486]\tvalid_0's binary_logloss: 0.442837\tvalid_0's auc: 0.841966\n",
            "[487]\tvalid_0's binary_logloss: 0.442766\tvalid_0's auc: 0.841941\n",
            "[488]\tvalid_0's binary_logloss: 0.442722\tvalid_0's auc: 0.841903\n",
            "[489]\tvalid_0's binary_logloss: 0.442694\tvalid_0's auc: 0.841894\n",
            "[490]\tvalid_0's binary_logloss: 0.442655\tvalid_0's auc: 0.841881\n",
            "[491]\tvalid_0's binary_logloss: 0.442674\tvalid_0's auc: 0.841863\n",
            "[492]\tvalid_0's binary_logloss: 0.442654\tvalid_0's auc: 0.841881\n",
            "[493]\tvalid_0's binary_logloss: 0.442668\tvalid_0's auc: 0.84186\n",
            "[494]\tvalid_0's binary_logloss: 0.442635\tvalid_0's auc: 0.84185\n",
            "[495]\tvalid_0's binary_logloss: 0.442656\tvalid_0's auc: 0.841823\n",
            "[496]\tvalid_0's binary_logloss: 0.44264\tvalid_0's auc: 0.84184\n",
            "[497]\tvalid_0's binary_logloss: 0.442583\tvalid_0's auc: 0.841842\n",
            "[498]\tvalid_0's binary_logloss: 0.442498\tvalid_0's auc: 0.841862\n",
            "[499]\tvalid_0's binary_logloss: 0.442496\tvalid_0's auc: 0.841837\n",
            "[500]\tvalid_0's binary_logloss: 0.442442\tvalid_0's auc: 0.841849\n",
            "CPU times: user 1min 16s, sys: 420 ms, total: 1min 16s\n",
            "Wall time: 41 s\n"
          ],
          "name": "stdout"
        },
        {
          "output_type": "execute_result",
          "data": {
            "text/plain": [
              "LGBMClassifier(boosting_type='gbdt', class_weight=None, colsample_bytree=0.5,\n",
              "               gamma=5, importance_type='split', learning_rate=0.01,\n",
              "               max_depth=7, min_child_samples=20, min_child_weight=0.001,\n",
              "               min_split_gain=0.0, n_estimators=500, n_jobs=-1, nthread=-1,\n",
              "               num_leaves=31, objective='binary', random_state=None,\n",
              "               reg_alpha=0.3, reg_lambda=0.0,\n",
              "               scale_pos_weight=24.270629644114198, silent=True, subsample=0.8,\n",
              "               subsample_for_bin=200000, subsample_freq=0)"
            ]
          },
          "metadata": {
            "tags": []
          },
          "execution_count": 141
        }
      ]
    },
    {
      "cell_type": "code",
      "metadata": {
        "id": "kqk0J6-69Qsv",
        "colab_type": "code",
        "colab": {
          "base_uri": "https://localhost:8080/",
          "height": 386
        },
        "outputId": "b16ad4c1-f43e-4569-d82d-4aae247fdb10"
      },
      "source": [
        "cc_model = calibration.CalibratedClassifierCV(model,cv='prefit')\n",
        "cc_model.fit(X_train.values,y_train)"
      ],
      "execution_count": 142,
      "outputs": [
        {
          "output_type": "execute_result",
          "data": {
            "text/plain": [
              "CalibratedClassifierCV(base_estimator=LGBMClassifier(boosting_type='gbdt',\n",
              "                                                     class_weight=None,\n",
              "                                                     colsample_bytree=0.5,\n",
              "                                                     gamma=5,\n",
              "                                                     importance_type='split',\n",
              "                                                     learning_rate=0.01,\n",
              "                                                     max_depth=7,\n",
              "                                                     min_child_samples=20,\n",
              "                                                     min_child_weight=0.001,\n",
              "                                                     min_split_gain=0.0,\n",
              "                                                     n_estimators=500,\n",
              "                                                     n_jobs=-1, nthread=-1,\n",
              "                                                     num_leaves=31,\n",
              "                                                     objective='binary',\n",
              "                                                     random_state=None,\n",
              "                                                     reg_alpha=0.3,\n",
              "                                                     reg_lambda=0.0,\n",
              "                                                     scale_pos_weight=24.270629644114198,\n",
              "                                                     silent=True, subsample=0.8,\n",
              "                                                     subsample_for_bin=200000,\n",
              "                                                     subsample_freq=0),\n",
              "                       cv='prefit', method='sigmoid')"
            ]
          },
          "metadata": {
            "tags": []
          },
          "execution_count": 142
        }
      ]
    },
    {
      "cell_type": "code",
      "metadata": {
        "colab_type": "code",
        "id": "HQjYoebnLzvv",
        "colab": {
          "base_uri": "https://localhost:8080/",
          "height": 168
        },
        "outputId": "172815c7-eb63-439f-dfbe-2e65474b7d2d"
      },
      "source": [
        "model = lgb.LGBMClassifier(n_jobs=-1,\n",
        "                      nthread=-1,\n",
        "                      scale_pos_weight=y_train.sum(),\n",
        "                      learning_rate=0.01,  \n",
        "                      colsample_bytree = 0.5,\n",
        "                      subsample = 0.8,\n",
        "                      objective='binary', \n",
        "                      n_estimators=500,\n",
        "                      reg_alpha = 0.3,\n",
        "                      max_depth=7, \n",
        "                      gamma=5,\n",
        "                     )\n",
        "\n",
        "%time model.fit(X_train,y_train)"
      ],
      "execution_count": 101,
      "outputs": [
        {
          "output_type": "stream",
          "text": [
            "CPU times: user 1min 9s, sys: 230 ms, total: 1min 9s\n",
            "Wall time: 36.1 s\n"
          ],
          "name": "stdout"
        },
        {
          "output_type": "execute_result",
          "data": {
            "text/plain": [
              "LGBMClassifier(boosting_type='gbdt', class_weight=None, colsample_bytree=0.5,\n",
              "               gamma=5, importance_type='split', learning_rate=0.01,\n",
              "               max_depth=7, min_child_samples=20, min_child_weight=0.001,\n",
              "               min_split_gain=0.0, n_estimators=500, n_jobs=-1, nthread=-1,\n",
              "               num_leaves=31, objective='binary', random_state=None,\n",
              "               reg_alpha=0.3, reg_lambda=0.0, scale_pos_weight=1, silent=True,\n",
              "               subsample=0.8, subsample_for_bin=200000, subsample_freq=0)"
            ]
          },
          "metadata": {
            "tags": []
          },
          "execution_count": 101
        }
      ]
    },
    {
      "cell_type": "code",
      "metadata": {
        "colab_type": "code",
        "id": "k_CEadVqLzvy",
        "colab": {
          "base_uri": "https://localhost:8080/",
          "height": 351
        },
        "outputId": "23a6092f-2435-435c-cc36-2d184e92798d"
      },
      "source": [
        "y_pred = model.predict_proba(X_val)[:,1]\n",
        "label=\"LightGBM Classifer\"\n",
        "labels.append(label)\n",
        "y_preds.append(y_pred)\n",
        "i+=1\n",
        "result = plot_auc(y_val,y_pred,label)\n",
        "result_df = result_df.append(result)\n",
        "del result"
      ],
      "execution_count": 102,
      "outputs": [
        {
          "output_type": "stream",
          "text": [
            "\t\t LightGBM Classifer on Normal dataset \t\t \n",
            "\n"
          ],
          "name": "stdout"
        },
        {
          "output_type": "display_data",
          "data": {
            "image/png": "[encoded data removed]",
            "text/plain": [
              "<Figure size 432x288 with 1 Axes>"
            ]
          },
          "metadata": {
            "tags": []
          }
        },
        {
          "output_type": "stream",
          "text": [
            "The log loss and auc was found to be 0.133 and 0.846 for LightGBM Classifer on Normal dataset.\n"
          ],
          "name": "stdout"
        }
      ]
    },
    {
      "cell_type": "code",
      "metadata": {
        "colab_type": "code",
        "id": "BF22prvpLzv1",
        "colab": {
          "base_uri": "https://localhost:8080/",
          "height": 195
        },
        "outputId": "e7363766-8e16-40ab-cc97-2f610001af3a"
      },
      "source": [
        "result_df"
      ],
      "execution_count": 103,
      "outputs": [
        {
          "output_type": "execute_result",
          "data": {
            "text/html": [
              "<div>\n",
              "<style scoped>\n",
              "    .dataframe tbody tr th:only-of-type {\n",
              "        vertical-align: middle;\n",
              "    }\n",
              "\n",
              "    .dataframe tbody tr th {\n",
              "        vertical-align: top;\n",
              "    }\n",
              "\n",
              "    .dataframe thead th {\n",
              "        text-align: right;\n",
              "    }\n",
              "</style>\n",
              "<table border=\"1\" class=\"dataframe\">\n",
              "  <thead>\n",
              "    <tr style=\"text-align: right;\">\n",
              "      <th></th>\n",
              "      <th>Model</th>\n",
              "      <th>Dataset</th>\n",
              "      <th>log_loss</th>\n",
              "      <th>auc</th>\n",
              "    </tr>\n",
              "  </thead>\n",
              "  <tbody>\n",
              "    <tr>\n",
              "      <th>0</th>\n",
              "      <td>Logisic Regression</td>\n",
              "      <td>Normal</td>\n",
              "      <td>0.541973</td>\n",
              "      <td>0.812374</td>\n",
              "    </tr>\n",
              "    <tr>\n",
              "      <th>1</th>\n",
              "      <td>Decision Tree Classifier</td>\n",
              "      <td>Normal</td>\n",
              "      <td>0.149154</td>\n",
              "      <td>0.769659</td>\n",
              "    </tr>\n",
              "    <tr>\n",
              "      <th>2</th>\n",
              "      <td>Random Forest Classifier</td>\n",
              "      <td>Normal</td>\n",
              "      <td>0.137582</td>\n",
              "      <td>0.832027</td>\n",
              "    </tr>\n",
              "    <tr>\n",
              "      <th>3</th>\n",
              "      <td>XGBoost Classifer</td>\n",
              "      <td>Normal</td>\n",
              "      <td>0.133362</td>\n",
              "      <td>0.844455</td>\n",
              "    </tr>\n",
              "    <tr>\n",
              "      <th>4</th>\n",
              "      <td>LightGBM Classifer</td>\n",
              "      <td>Normal</td>\n",
              "      <td>0.133201</td>\n",
              "      <td>0.845998</td>\n",
              "    </tr>\n",
              "  </tbody>\n",
              "</table>\n",
              "</div>"
            ],
            "text/plain": [
              "                      Model Dataset  log_loss       auc\n",
              "0        Logisic Regression  Normal  0.541973  0.812374\n",
              "1  Decision Tree Classifier  Normal  0.149154  0.769659\n",
              "2  Random Forest Classifier  Normal  0.137582  0.832027\n",
              "3         XGBoost Classifer  Normal  0.133362  0.844455\n",
              "4        LightGBM Classifer  Normal  0.133201  0.845998"
            ]
          },
          "metadata": {
            "tags": []
          },
          "execution_count": 103
        }
      ]
    },
    {
      "cell_type": "code",
      "metadata": {
        "id": "bfDFKhQ9DajM",
        "colab_type": "code",
        "colab": {
          "base_uri": "https://localhost:8080/",
          "height": 697
        },
        "outputId": "57fe4e69-5447-42b2-ac8b-f6a415a7a1aa"
      },
      "source": [
        "plot_auc(y_val,y_preds,labels)\n",
        "result_df"
      ],
      "execution_count": 117,
      "outputs": [
        {
          "output_type": "display_data",
          "data": {
            "image/png": "[encoded data removed]",
            "text/plain": [
              "<Figure size 864x576 with 1 Axes>"
            ]
          },
          "metadata": {
            "tags": []
          }
        },
        {
          "output_type": "execute_result",
          "data": {
            "text/html": [
              "<div>\n",
              "<style scoped>\n",
              "    .dataframe tbody tr th:only-of-type {\n",
              "        vertical-align: middle;\n",
              "    }\n",
              "\n",
              "    .dataframe tbody tr th {\n",
              "        vertical-align: top;\n",
              "    }\n",
              "\n",
              "    .dataframe thead th {\n",
              "        text-align: right;\n",
              "    }\n",
              "</style>\n",
              "<table border=\"1\" class=\"dataframe\">\n",
              "  <thead>\n",
              "    <tr style=\"text-align: right;\">\n",
              "      <th></th>\n",
              "      <th>Model</th>\n",
              "      <th>Dataset</th>\n",
              "      <th>log_loss</th>\n",
              "      <th>auc</th>\n",
              "    </tr>\n",
              "  </thead>\n",
              "  <tbody>\n",
              "    <tr>\n",
              "      <th>0</th>\n",
              "      <td>Logisic Regression</td>\n",
              "      <td>Normal</td>\n",
              "      <td>0.541973</td>\n",
              "      <td>0.812374</td>\n",
              "    </tr>\n",
              "    <tr>\n",
              "      <th>1</th>\n",
              "      <td>Decision Tree Classifier</td>\n",
              "      <td>Normal</td>\n",
              "      <td>0.149154</td>\n",
              "      <td>0.769659</td>\n",
              "    </tr>\n",
              "    <tr>\n",
              "      <th>2</th>\n",
              "      <td>Random Forest Classifier</td>\n",
              "      <td>Normal</td>\n",
              "      <td>0.137582</td>\n",
              "      <td>0.832027</td>\n",
              "    </tr>\n",
              "    <tr>\n",
              "      <th>3</th>\n",
              "      <td>XGBoost Classifer</td>\n",
              "      <td>Normal</td>\n",
              "      <td>0.133362</td>\n",
              "      <td>0.844455</td>\n",
              "    </tr>\n",
              "    <tr>\n",
              "      <th>4</th>\n",
              "      <td>LightGBM Classifer</td>\n",
              "      <td>Normal</td>\n",
              "      <td>0.133201</td>\n",
              "      <td>0.845998</td>\n",
              "    </tr>\n",
              "  </tbody>\n",
              "</table>\n",
              "</div>"
            ],
            "text/plain": [
              "                      Model Dataset  log_loss       auc\n",
              "0        Logisic Regression  Normal  0.541973  0.812374\n",
              "1  Decision Tree Classifier  Normal  0.149154  0.769659\n",
              "2  Random Forest Classifier  Normal  0.137582  0.832027\n",
              "3         XGBoost Classifer  Normal  0.133362  0.844455\n",
              "4        LightGBM Classifer  Normal  0.133201  0.845998"
            ]
          },
          "metadata": {
            "tags": []
          },
          "execution_count": 117
        }
      ]
    }
  ]
}