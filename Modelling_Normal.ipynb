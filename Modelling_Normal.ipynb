{
  "nbformat": 4,
  "nbformat_minor": 0,
  "metadata": {
    "colab": {
      "name": "Modelling_Normal.ipynb",
      "provenance": [],
      "mount_file_id": "1EfbKaY2u80z-i8X3ZlqIzr0fdHA3XDmC",
      "authorship_tag": "ABX9TyNHdncc+IVViXKJcw2MwOs1",
      "include_colab_link": true
    },
    "kernelspec": {
      "name": "python3",
      "display_name": "Python 3"
    },
    "accelerator": "GPU"
  },
  "cells": [
    {
      "cell_type": "markdown",
      "metadata": {
        "id": "view-in-github",
        "colab_type": "text"
      },
      "source": [
        "<a href=\"https://colab.research.google.com/github/ashishthomaschempolil/Santander-Customer-Satisfaction/blob/master/Modelling_Normal.ipynb\" target=\"_parent\"><img src=\"https://colab.research.google.com/assets/colab-badge.svg\" alt=\"Open In Colab\"/></a>"
      ]
    },
    {
      "cell_type": "code",
      "metadata": {
        "id": "QVQr_7USbczr",
        "colab_type": "code",
        "colab": {}
      },
      "source": [
        "import warnings\n",
        "warnings.filterwarnings(\"ignore\")\n",
        "import pandas as pd\n",
        "import numpy as np\n",
        "%matplotlib inline\n",
        "import matplotlib.pyplot as plt\n",
        "import seaborn as sns\n",
        "sns.set(palette='muted',style='whitegrid')\n",
        "import sklearn\n",
        "from sklearn import metrics,ensemble,model_selection,linear_model,tree,calibration\n",
        "import xgboost as xgb\n",
        "import scipy\n",
        "import random\n",
        "from tqdm import tqdm\n",
        "import os\n",
        "np.random.seed(13154)"
      ],
      "execution_count": 1,
      "outputs": []
    },
    {
      "cell_type": "code",
      "metadata": {
        "id": "hRB4PxAYa5xu",
        "colab_type": "code",
        "colab": {
          "base_uri": "https://localhost:8080/",
          "height": 218
        },
        "outputId": "067b910f-fa2f-40f7-b081-947cddd61c65"
      },
      "source": [
        "file = [k for k in os.listdir('/content/drive/My Drive/Santander_Customer_Satisfaction') if (('train' in k)|('test' in k))&('X' not in k)] #getting all the necessary files for modelling\n",
        "file"
      ],
      "execution_count": 2,
      "outputs": [
        {
          "output_type": "execute_result",
          "data": {
            "text/plain": [
              "['train_Normal.pkl',\n",
              " 'test_Normal.pkl',\n",
              " 'train_Normal with Response encoding.pkl',\n",
              " 'test_Normal with Response encoding.pkl',\n",
              " 'train_Normal with One Hot Encoding.pkl',\n",
              " 'test_Normal with One Hot Encoding.pkl',\n",
              " 'train_Log Transformed.pkl',\n",
              " 'test_Log Transformed.pkl',\n",
              " 'train_Log Transformed with Response encoding.pkl',\n",
              " 'test_Log Transformed with Response encoding.pkl',\n",
              " 'train_Log Transformed with One Hot Encoding.pkl',\n",
              " 'test_Log Transformed with One Hot Encoding.pkl']"
            ]
          },
          "metadata": {
            "tags": []
          },
          "execution_count": 2
        }
      ]
    },
    {
      "cell_type": "code",
      "metadata": {
        "id": "mV0hmG66S7ZC",
        "colab_type": "code",
        "colab": {
          "base_uri": "https://localhost:8080/",
          "height": 34
        },
        "outputId": "23fb9f87-ccba-4b82-e266-b886f5b2cb85"
      },
      "source": [
        "file_path = '/content/drive/My Drive/Santander_Customer_Satisfaction/'\n",
        "train_file = file_path+file[0] #Normal\n",
        "test_file = file_path+file[1]\n",
        "dataset= \"Normal\"\n",
        "train = pd.read_pickle(train_file)\n",
        "test = pd.read_pickle(test_file)\n",
        "X_train = train.drop(['ID','TARGET'],axis=1)\n",
        "y_train = train['TARGET'].values\n",
        "X_test = test.drop('ID',axis=1)\n",
        "del train,test\n",
        "X_train,X_val,y_train,y_val = model_selection.train_test_split(X_train,y_train,stratify=y_train,test_size=0.15)\n",
        "X_train.shape,X_val.shape,X_test.shape"
      ],
      "execution_count": 3,
      "outputs": [
        {
          "output_type": "execute_result",
          "data": {
            "text/plain": [
              "((64617, 358), (11403, 358), (75818, 358))"
            ]
          },
          "metadata": {
            "tags": []
          },
          "execution_count": 3
        }
      ]
    },
    {
      "cell_type": "code",
      "metadata": {
        "id": "v4yLi9O_CtFR",
        "colab_type": "code",
        "colab": {}
      },
      "source": [
        "global i\n",
        "i=0\n",
        "def plot_auc(y_true,y_pred,label,dataset=dataset):\n",
        "  \"\"\"\n",
        "  Plots auc curve when y_true and y_pred are given\n",
        "  dataset is string which tells which dataset were used.\n",
        "  label: tells which model was used\n",
        "  \"\"\"\n",
        "  print(\"\\t\\t %s on %s dataset \\t\\t \\n\"%(label,dataset))\n",
        "  \n",
        "  if (type(label)!=list) & (type(label)!=np.array):\n",
        "    fpr,tpr,threshold = metrics.roc_curve(y_true,y_pred)\n",
        "    auc = metrics.roc_auc_score(y_true,y_pred)\n",
        "    log_loss = metrics.log_loss(y_true,y_pred)\n",
        "    label_1 = label+' AUC=%.3f'%(auc)\n",
        "\n",
        "    #plotting tpr vs fpr\n",
        "    sns.lineplot(fpr,tpr,label=label_1)\n",
        "    x=np.arange(0,1.1,0.1)\n",
        "    sns.lineplot(x,x,label=\"AUC=0.5\")\n",
        "    plt.title(\"ROC on %s dataset\"%(dataset))\n",
        "    plt.xlabel('False Positive Rate')\n",
        "    plt.ylabel(\"True Positive Rate\")\n",
        "    plt.legend(bbox_to_anchor=(1.05, 1), loc=2, borderaxespad=0.) #legend box outside graph\n",
        "    plt.show()\n",
        "    print(\"The log loss and auc was found to be %.3f and %.3f for %s on %s dataset.\"%(log_loss,auc,label,dataset))\n",
        "    #creating a dataframe of the result\n",
        "    result_dict = {\"Model\":label,'Dataset':dataset,'log_loss':log_loss,'auc':auc}\n",
        "    \n",
        "    return pd.DataFrame(result_dict,index=[i])\n",
        "\n",
        "\n",
        "    \n",
        "    \n",
        "\n",
        "  else:\n",
        "    for y in y_pred:\n",
        "      if (type(label)!=list) & (type(label)!=np.array):\n",
        "        fpr,tpr,threshold = metrics.roc_curve(y_true,y_pred)\n",
        "        auc = metrics.roc_auc_score(y_true,y_pred)\n",
        "        label = label+' AUC=%.3f'%(auc)\n",
        "        #plotting tpr vs fpr\n",
        "        sns.lineplot(fpr,tpr,label=label)\n",
        "\n",
        "    x=np.arange(0,1.1,0.1)\n",
        "    sns.lineplot(x,x,label=\"AUC=0.5\")\n",
        "    plt.title(\"ROC on %s dataset\"%(dataset))\n",
        "    plt.xlabel('False Positive Rate')\n",
        "    plt.ylabel(\"True Positive Rate\")\n",
        "    plt.legend(bbox_to_anchor=(1.05, 1), loc=2, borderaxespad=0.) #legend box outside graph\n",
        "    plt.show()\n",
        "\n",
        "\n",
        "  \n"
      ],
      "execution_count": 4,
      "outputs": []
    },
    {
      "cell_type": "markdown",
      "metadata": {
        "id": "vvLQsSsVAsUA",
        "colab_type": "text"
      },
      "source": [
        "# Modeling"
      ]
    },
    {
      "cell_type": "code",
      "metadata": {
        "id": "spCK7X7beIiy",
        "colab_type": "code",
        "colab": {}
      },
      "source": [
        "def find_best_params(model,params,cv=10,n_jobs=10):\n",
        "  \"\"\"\n",
        "  Funcion which implements Random Seacrh CV and returns best model\n",
        "  \"\"\"\n",
        "  random_cv = model_selection.RandomizedSearchCV(model,param_distributions=params,scoring='roc_auc',n_jobs=n_jobs,cv=cv,verbose=2)\n",
        "  random_cv.fit(X_train,y_train)\n",
        "  print(\"The best auc score was %.3f\"%(random_cv.best_score_))\n",
        "  print(\"The best params were: %s\"%(random_cv.best_params_))\n",
        "  return random_cv.best_estimator_"
      ],
      "execution_count": 25,
      "outputs": []
    },
    {
      "cell_type": "markdown",
      "metadata": {
        "id": "uLh2j2XvAxeO",
        "colab_type": "text"
      },
      "source": [
        "# Logistic Regression"
      ]
    },
    {
      "cell_type": "code",
      "metadata": {
        "colab_type": "code",
        "id": "nsbNtvxAYB2O",
        "colab": {}
      },
      "source": [
        "model = linear_model.LogisticRegression(class_weight='balanced')\n",
        "params = {'penalty':['l2','l1'], 'C':[10.**i for i in np.arange(-3,3,1)], \n",
        "          'fit_intercept':[True,False] ,\n",
        "          }\n"
      ],
      "execution_count": 6,
      "outputs": []
    },
    {
      "cell_type": "code",
      "metadata": {
        "colab_type": "code",
        "id": "mXTZa5oPYB2R",
        "colab": {
          "base_uri": "https://localhost:8080/",
          "height": 235
        },
        "outputId": "23601b3a-1860-4c22-e707-011f007b493c"
      },
      "source": [
        "%%time\n",
        "find_best_params(model,params)"
      ],
      "execution_count": 7,
      "outputs": [
        {
          "output_type": "stream",
          "text": [
            "Fitting 10 folds for each of 10 candidates, totalling 100 fits\n"
          ],
          "name": "stdout"
        },
        {
          "output_type": "stream",
          "text": [
            "[Parallel(n_jobs=10)]: Using backend LokyBackend with 10 concurrent workers.\n",
            "[Parallel(n_jobs=10)]: Done  21 tasks      | elapsed:    6.9s\n",
            "[Parallel(n_jobs=10)]: Done 100 out of 100 | elapsed:  3.0min finished\n"
          ],
          "name": "stderr"
        },
        {
          "output_type": "stream",
          "text": [
            "The best auc score was 0.797\n",
            "The best params were: {'penalty': 'l2', 'fit_intercept': False, 'C': 0.001}\n",
            "CPU times: user 7.17 s, sys: 1.09 s, total: 8.25 s\n",
            "Wall time: 3min 3s\n"
          ],
          "name": "stdout"
        },
        {
          "output_type": "execute_result",
          "data": {
            "text/plain": [
              "LogisticRegression(C=0.001, class_weight='balanced', dual=False,\n",
              "                   fit_intercept=False, intercept_scaling=1, l1_ratio=None,\n",
              "                   max_iter=100, multi_class='auto', n_jobs=None, penalty='l2',\n",
              "                   random_state=None, solver='lbfgs', tol=0.0001, verbose=0,\n",
              "                   warm_start=False)"
            ]
          },
          "metadata": {
            "tags": []
          },
          "execution_count": 7
        }
      ]
    },
    {
      "cell_type": "code",
      "metadata": {
        "colab_type": "code",
        "id": "eYp1oCU5YB2U",
        "colab": {
          "base_uri": "https://localhost:8080/",
          "height": 101
        },
        "outputId": "c73c9a3e-5ff4-4041-8cf2-b98e30a1e70d"
      },
      "source": [
        "model = linear_model.LogisticRegression(C=0.001, class_weight='balanced', dual=False,\n",
        "                   fit_intercept=False, intercept_scaling=1, l1_ratio=None,\n",
        "                   max_iter=100, multi_class='auto', n_jobs=10, penalty='l2',\n",
        "                  solver='lbfgs', tol=0.0001, verbose=0,\n",
        "                   warm_start=False)\n",
        "\n",
        "model.fit(X_train,y_train)"
      ],
      "execution_count": 8,
      "outputs": [
        {
          "output_type": "execute_result",
          "data": {
            "text/plain": [
              "LogisticRegression(C=0.001, class_weight='balanced', dual=False,\n",
              "                   fit_intercept=True, intercept_scaling=1, l1_ratio=None,\n",
              "                   max_iter=100, multi_class='auto', n_jobs=-1, penalty='l2',\n",
              "                   random_state=None, solver='lbfgs', tol=0.0001, verbose=0,\n",
              "                   warm_start=False)"
            ]
          },
          "metadata": {
            "tags": []
          },
          "execution_count": 8
        }
      ]
    },
    {
      "cell_type": "code",
      "metadata": {
        "colab_type": "code",
        "id": "DlDUHTI-YB2X",
        "colab": {
          "base_uri": "https://localhost:8080/",
          "height": 351
        },
        "outputId": "fbdd29ea-3327-475a-f748-a8e03ad0dd69"
      },
      "source": [
        "i=0\n",
        "y_pred = model.predict_proba(X_val)[:,1]\n",
        "label=\"Logisic Regression\"\n",
        "result = plot_auc(y_val,y_pred,label,dataset)\n",
        "result_df = result\n",
        "del result"
      ],
      "execution_count": 9,
      "outputs": [
        {
          "output_type": "stream",
          "text": [
            "\t\t Logisic Regression on Normal dataset \t\t \n",
            "\n"
          ],
          "name": "stdout"
        },
        {
          "output_type": "display_data",
          "data": {
            "image/png": "[encoded data removed]",
            "text/plain": [
              "<Figure size 432x288 with 1 Axes>"
            ]
          },
          "metadata": {
            "tags": [],
            "needs_background": "light"
          }
        },
        {
          "output_type": "stream",
          "text": [
            "The log loss and auc was found to be 0.542 and 0.812 for Logisic Regression on Normal dataset.\n"
          ],
          "name": "stdout"
        }
      ]
    },
    {
      "cell_type": "markdown",
      "metadata": {
        "id": "0y9PvYUNX-t2",
        "colab_type": "text"
      },
      "source": [
        "# Decision Trees"
      ]
    },
    {
      "cell_type": "code",
      "metadata": {
        "id": "0kVyDscneGv3",
        "colab_type": "code",
        "colab": {}
      },
      "source": [
        "model = tree.DecisionTreeClassifier(class_weight='balanced')\n",
        "params = { \n",
        "          'max_depth':[10,100,500,1000,-1], \n",
        "         'min_samples_split':[2,5,10,100,500], \n",
        "          'min_samples_leaf':[1,3,5,7,10],\n",
        "          'max_leaf_nodes':[100,500,1000,5000,-1] \n",
        "          }\n"
      ],
      "execution_count": 12,
      "outputs": []
    },
    {
      "cell_type": "code",
      "metadata": {
        "id": "OWmU9ZdnjHEk",
        "colab_type": "code",
        "colab": {
          "base_uri": "https://localhost:8080/",
          "height": 252
        },
        "outputId": "e46384cc-d67c-42d7-ce49-b9b8932b3fd1"
      },
      "source": [
        "%%time\n",
        "find_best_params(model,params)"
      ],
      "execution_count": 13,
      "outputs": [
        {
          "output_type": "stream",
          "text": [
            "Fitting 10 folds for each of 10 candidates, totalling 100 fits\n"
          ],
          "name": "stdout"
        },
        {
          "output_type": "stream",
          "text": [
            "[Parallel(n_jobs=10)]: Using backend LokyBackend with 10 concurrent workers.\n",
            "[Parallel(n_jobs=10)]: Done  21 tasks      | elapsed:  2.0min\n",
            "[Parallel(n_jobs=10)]: Done 100 out of 100 | elapsed:  5.7min finished\n"
          ],
          "name": "stderr"
        },
        {
          "output_type": "stream",
          "text": [
            "The best auc score was 0.762\n",
            "The best params were: {'min_samples_split': 5, 'min_samples_leaf': 10, 'max_leaf_nodes': 500, 'max_depth': 10}\n",
            "CPU times: user 5.23 s, sys: 392 ms, total: 5.62 s\n",
            "Wall time: 5min 44s\n"
          ],
          "name": "stdout"
        },
        {
          "output_type": "execute_result",
          "data": {
            "text/plain": [
              "DecisionTreeClassifier(ccp_alpha=0.0, class_weight='balanced', criterion='gini',\n",
              "                       max_depth=10, max_features=None, max_leaf_nodes=500,\n",
              "                       min_impurity_decrease=0.0, min_impurity_split=None,\n",
              "                       min_samples_leaf=10, min_samples_split=5,\n",
              "                       min_weight_fraction_leaf=0.0, presort='deprecated',\n",
              "                       random_state=None, splitter='best')"
            ]
          },
          "metadata": {
            "tags": []
          },
          "execution_count": 13
        }
      ]
    },
    {
      "cell_type": "code",
      "metadata": {
        "id": "11n9ZcTNirnF",
        "colab_type": "code",
        "colab": {
          "base_uri": "https://localhost:8080/",
          "height": 118
        },
        "outputId": "f95325ea-5ee4-4776-9bcb-b7db5660d235"
      },
      "source": [
        "model = tree.DecisionTreeClassifier(ccp_alpha=0.0, class_weight='balanced', criterion='gini',\n",
        "                       max_depth=10, max_features=None, max_leaf_nodes=500,\n",
        "                       min_impurity_decrease=0.0, min_impurity_split=None,\n",
        "                       min_samples_leaf=10, min_samples_split=5,\n",
        "                       min_weight_fraction_leaf=0.0, presort='deprecated',\n",
        "                      splitter='best')\n",
        "\n",
        "model.fit(X_train,y_train)"
      ],
      "execution_count": 14,
      "outputs": [
        {
          "output_type": "execute_result",
          "data": {
            "text/plain": [
              "DecisionTreeClassifier(ccp_alpha=0.0, class_weight='balanced', criterion='gini',\n",
              "                       max_depth=10, max_features=None, max_leaf_nodes=500,\n",
              "                       min_impurity_decrease=0.0, min_impurity_split=None,\n",
              "                       min_samples_leaf=10, min_samples_split=5,\n",
              "                       min_weight_fraction_leaf=0.0, presort='deprecated',\n",
              "                       random_state=None, splitter='best')"
            ]
          },
          "metadata": {
            "tags": []
          },
          "execution_count": 14
        }
      ]
    },
    {
      "cell_type": "code",
      "metadata": {
        "id": "IqO7PiHUhFIR",
        "colab_type": "code",
        "colab": {
          "base_uri": "https://localhost:8080/",
          "height": 269
        },
        "outputId": "2002f946-7aa8-4beb-a3f6-869046636927"
      },
      "source": [
        "cc_model = calibration.CalibratedClassifierCV(model,cv='prefit')\n",
        "cc_model.fit(X_train,y_train)"
      ],
      "execution_count": 15,
      "outputs": [
        {
          "output_type": "execute_result",
          "data": {
            "text/plain": [
              "CalibratedClassifierCV(base_estimator=DecisionTreeClassifier(ccp_alpha=0.0,\n",
              "                                                             class_weight='balanced',\n",
              "                                                             criterion='gini',\n",
              "                                                             max_depth=10,\n",
              "                                                             max_features=None,\n",
              "                                                             max_leaf_nodes=500,\n",
              "                                                             min_impurity_decrease=0.0,\n",
              "                                                             min_impurity_split=None,\n",
              "                                                             min_samples_leaf=10,\n",
              "                                                             min_samples_split=5,\n",
              "                                                             min_weight_fraction_leaf=0.0,\n",
              "                                                             presort='deprecated',\n",
              "                                                             random_state=None,\n",
              "                                                             splitter='best'),\n",
              "                       cv='prefit', method='sigmoid')"
            ]
          },
          "metadata": {
            "tags": []
          },
          "execution_count": 15
        }
      ]
    },
    {
      "cell_type": "code",
      "metadata": {
        "id": "CIxYiOfoih44",
        "colab_type": "code",
        "colab": {
          "base_uri": "https://localhost:8080/",
          "height": 351
        },
        "outputId": "22d05bcb-ce60-4dc3-c118-3e0b7860f102"
      },
      "source": [
        "i+=1\n",
        "y_pred = cc_model.predict_proba(X_val)[:,1]\n",
        "label=\"Decision Tree Classifier\"\n",
        "result = plot_auc(y_val,y_pred,label)\n",
        "result_df = result_df.append(result)\n",
        "del result"
      ],
      "execution_count": 16,
      "outputs": [
        {
          "output_type": "stream",
          "text": [
            "\t\t Decision Tree Classifier on Normal dataset \t\t \n",
            "\n"
          ],
          "name": "stdout"
        },
        {
          "output_type": "display_data",
          "data": {
            "image/png": "[encoded data removed]",
            "text/plain": [
              "<Figure size 432x288 with 1 Axes>"
            ]
          },
          "metadata": {
            "tags": [],
            "needs_background": "light"
          }
        },
        {
          "output_type": "stream",
          "text": [
            "The log loss and auc was found to be 0.150 and 0.768 for Decision Tree Classifier on Normal dataset.\n"
          ],
          "name": "stdout"
        }
      ]
    },
    {
      "cell_type": "code",
      "metadata": {
        "id": "qusVRO8HdpHW",
        "colab_type": "code",
        "colab": {
          "base_uri": "https://localhost:8080/",
          "height": 106
        },
        "outputId": "5afb927a-d275-40e7-d4c6-dd1180856704"
      },
      "source": [
        "result_df"
      ],
      "execution_count": 17,
      "outputs": [
        {
          "output_type": "execute_result",
          "data": {
            "text/html": [
              "<div>\n",
              "<style scoped>\n",
              "    .dataframe tbody tr th:only-of-type {\n",
              "        vertical-align: middle;\n",
              "    }\n",
              "\n",
              "    .dataframe tbody tr th {\n",
              "        vertical-align: top;\n",
              "    }\n",
              "\n",
              "    .dataframe thead th {\n",
              "        text-align: right;\n",
              "    }\n",
              "</style>\n",
              "<table border=\"1\" class=\"dataframe\">\n",
              "  <thead>\n",
              "    <tr style=\"text-align: right;\">\n",
              "      <th></th>\n",
              "      <th>Model</th>\n",
              "      <th>Dataset</th>\n",
              "      <th>log_loss</th>\n",
              "      <th>auc</th>\n",
              "    </tr>\n",
              "  </thead>\n",
              "  <tbody>\n",
              "    <tr>\n",
              "      <th>0</th>\n",
              "      <td>Logisic Regression</td>\n",
              "      <td>Normal</td>\n",
              "      <td>0.541973</td>\n",
              "      <td>0.812374</td>\n",
              "    </tr>\n",
              "    <tr>\n",
              "      <th>1</th>\n",
              "      <td>Decision Tree Classifier</td>\n",
              "      <td>Normal</td>\n",
              "      <td>0.149580</td>\n",
              "      <td>0.767621</td>\n",
              "    </tr>\n",
              "  </tbody>\n",
              "</table>\n",
              "</div>"
            ],
            "text/plain": [
              "                      Model Dataset  log_loss       auc\n",
              "0        Logisic Regression  Normal  0.541973  0.812374\n",
              "1  Decision Tree Classifier  Normal  0.149580  0.767621"
            ]
          },
          "metadata": {
            "tags": []
          },
          "execution_count": 17
        }
      ]
    },
    {
      "cell_type": "markdown",
      "metadata": {
        "colab_type": "text",
        "id": "msPtDUHT0sQN"
      },
      "source": [
        "# Random Forest"
      ]
    },
    {
      "cell_type": "code",
      "metadata": {
        "colab_type": "code",
        "id": "OwHc1zRG0sQP",
        "colab": {}
      },
      "source": [
        "model = ensemble.RandomForestClassifier(class_weight='balanced')\n",
        "params = { 'n_estimators':[500,1000,2000],\n",
        "          'max_depth':[500,1000,2000], \n",
        "         'min_samples_split':[100,500,1000],\n",
        "          'min_samples_leaf':[3,5,7],\n",
        "          'max_leaf_nodes':[100,250,500] \n",
        "          }\n"
      ],
      "execution_count": 19,
      "outputs": []
    },
    {
      "cell_type": "code",
      "metadata": {
        "colab_type": "code",
        "id": "zDOPEuJy0sQS",
        "colab": {
          "base_uri": "https://localhost:8080/",
          "height": 286
        },
        "outputId": "94c7526f-1f67-42f9-c523-b711885da048"
      },
      "source": [
        "%%time\n",
        "find_best_params(model,params,cv=3)"
      ],
      "execution_count": 20,
      "outputs": [
        {
          "output_type": "stream",
          "text": [
            "Fitting 3 folds for each of 10 candidates, totalling 30 fits\n"
          ],
          "name": "stdout"
        },
        {
          "output_type": "stream",
          "text": [
            "[Parallel(n_jobs=10)]: Using backend LokyBackend with 10 concurrent workers.\n",
            "[Parallel(n_jobs=10)]: Done  27 out of  30 | elapsed: 54.3min remaining:  6.0min\n",
            "[Parallel(n_jobs=10)]: Done  30 out of  30 | elapsed: 54.6min finished\n"
          ],
          "name": "stderr"
        },
        {
          "output_type": "stream",
          "text": [
            "The best auc score was 0.817\n",
            "The best params were: {'n_estimators': 2000, 'min_samples_split': 500, 'min_samples_leaf': 3, 'max_leaf_nodes': 250, 'max_depth': 2000}\n",
            "CPU times: user 6min 5s, sys: 1.17 s, total: 6min 6s\n",
            "Wall time: 1h 44s\n"
          ],
          "name": "stdout"
        },
        {
          "output_type": "execute_result",
          "data": {
            "text/plain": [
              "RandomForestClassifier(bootstrap=True, ccp_alpha=0.0, class_weight='balanced',\n",
              "                       criterion='gini', max_depth=2000, max_features='auto',\n",
              "                       max_leaf_nodes=250, max_samples=None,\n",
              "                       min_impurity_decrease=0.0, min_impurity_split=None,\n",
              "                       min_samples_leaf=3, min_samples_split=500,\n",
              "                       min_weight_fraction_leaf=0.0, n_estimators=2000,\n",
              "                       n_jobs=None, oob_score=False, random_state=None,\n",
              "                       verbose=0, warm_start=False)"
            ]
          },
          "metadata": {
            "tags": []
          },
          "execution_count": 20
        }
      ]
    },
    {
      "cell_type": "code",
      "metadata": {
        "colab_type": "code",
        "id": "RBeRKL7R0sQW",
        "colab": {
          "base_uri": "https://localhost:8080/",
          "height": 151
        },
        "outputId": "f34cae1d-274a-4d36-c1b5-fd962309440e"
      },
      "source": [
        "model = ensemble.RandomForestClassifier(bootstrap=True, ccp_alpha=0.0, class_weight='balanced',\n",
        "                       criterion='gini', max_depth=2000, max_features='auto',\n",
        "                       max_leaf_nodes=250, max_samples=None,\n",
        "                       min_impurity_decrease=0.0, min_impurity_split=None,\n",
        "                       min_samples_leaf=3, min_samples_split=500,\n",
        "                       min_weight_fraction_leaf=0.0, n_estimators=2000,\n",
        "                       n_jobs=10, oob_score=False,\n",
        "                       verbose=0, warm_start=False)\n",
        "\n",
        "\n",
        "model.fit(X_train,y_train)"
      ],
      "execution_count": 21,
      "outputs": [
        {
          "output_type": "execute_result",
          "data": {
            "text/plain": [
              "RandomForestClassifier(bootstrap=True, ccp_alpha=0.0, class_weight='balanced',\n",
              "                       criterion='gini', max_depth=2000, max_features='auto',\n",
              "                       max_leaf_nodes=250, max_samples=None,\n",
              "                       min_impurity_decrease=0.0, min_impurity_split=None,\n",
              "                       min_samples_leaf=3, min_samples_split=500,\n",
              "                       min_weight_fraction_leaf=0.0, n_estimators=2000,\n",
              "                       n_jobs=10, oob_score=False, random_state=None, verbose=0,\n",
              "                       warm_start=False)"
            ]
          },
          "metadata": {
            "tags": []
          },
          "execution_count": 21
        }
      ]
    },
    {
      "cell_type": "code",
      "metadata": {
        "colab_type": "code",
        "id": "oJLF56Ts0sQY",
        "colab": {
          "base_uri": "https://localhost:8080/",
          "height": 353
        },
        "outputId": "4ca142fc-30d3-4bc6-90a1-2c830148f635"
      },
      "source": [
        "cc_model = calibration.CalibratedClassifierCV(model,cv='prefit')\n",
        "cc_model.fit(X_train,y_train)"
      ],
      "execution_count": 22,
      "outputs": [
        {
          "output_type": "execute_result",
          "data": {
            "text/plain": [
              "CalibratedClassifierCV(base_estimator=RandomForestClassifier(bootstrap=True,\n",
              "                                                             ccp_alpha=0.0,\n",
              "                                                             class_weight='balanced',\n",
              "                                                             criterion='gini',\n",
              "                                                             max_depth=2000,\n",
              "                                                             max_features='auto',\n",
              "                                                             max_leaf_nodes=250,\n",
              "                                                             max_samples=None,\n",
              "                                                             min_impurity_decrease=0.0,\n",
              "                                                             min_impurity_split=None,\n",
              "                                                             min_samples_leaf=3,\n",
              "                                                             min_samples_split=500,\n",
              "                                                             min_weight_fraction_leaf=0.0,\n",
              "                                                             n_estimators=2000,\n",
              "                                                             n_jobs=10,\n",
              "                                                             oob_score=False,\n",
              "                                                             random_state=None,\n",
              "                                                             verbose=0,\n",
              "                                                             warm_start=False),\n",
              "                       cv='prefit', method='sigmoid')"
            ]
          },
          "metadata": {
            "tags": []
          },
          "execution_count": 22
        }
      ]
    },
    {
      "cell_type": "code",
      "metadata": {
        "colab_type": "code",
        "id": "4Jct69qq0sQa",
        "colab": {
          "base_uri": "https://localhost:8080/",
          "height": 351
        },
        "outputId": "584c0bb8-1a71-4b35-fa93-79363fab1a97"
      },
      "source": [
        "i+=1\n",
        "y_pred = cc_model.predict_proba(X_val)[:,1]\n",
        "label=\"Random Forest Classifier\"\n",
        "result = plot_auc(y_val,y_pred,label)\n",
        "result_df = result_df.append(result)\n",
        "del result"
      ],
      "execution_count": 23,
      "outputs": [
        {
          "output_type": "stream",
          "text": [
            "\t\t Random Forest Classifier on Normal dataset \t\t \n",
            "\n"
          ],
          "name": "stdout"
        },
        {
          "output_type": "display_data",
          "data": {
            "image/png": "[encoded data removed]",
            "text/plain": [
              "<Figure size 432x288 with 1 Axes>"
            ]
          },
          "metadata": {
            "tags": [],
            "needs_background": "light"
          }
        },
        {
          "output_type": "stream",
          "text": [
            "The log loss and auc was found to be 0.138 and 0.832 for Random Forest Classifier on Normal dataset.\n"
          ],
          "name": "stdout"
        }
      ]
    },
    {
      "cell_type": "code",
      "metadata": {
        "colab_type": "code",
        "id": "0igsmQs_0sQd",
        "colab": {
          "base_uri": "https://localhost:8080/",
          "height": 136
        },
        "outputId": "dfebb0f0-e4f8-400b-8b4c-f802fbdc898e"
      },
      "source": [
        "result_df"
      ],
      "execution_count": 24,
      "outputs": [
        {
          "output_type": "execute_result",
          "data": {
            "text/html": [
              "<div>\n",
              "<style scoped>\n",
              "    .dataframe tbody tr th:only-of-type {\n",
              "        vertical-align: middle;\n",
              "    }\n",
              "\n",
              "    .dataframe tbody tr th {\n",
              "        vertical-align: top;\n",
              "    }\n",
              "\n",
              "    .dataframe thead th {\n",
              "        text-align: right;\n",
              "    }\n",
              "</style>\n",
              "<table border=\"1\" class=\"dataframe\">\n",
              "  <thead>\n",
              "    <tr style=\"text-align: right;\">\n",
              "      <th></th>\n",
              "      <th>Model</th>\n",
              "      <th>Dataset</th>\n",
              "      <th>log_loss</th>\n",
              "      <th>auc</th>\n",
              "    </tr>\n",
              "  </thead>\n",
              "  <tbody>\n",
              "    <tr>\n",
              "      <th>0</th>\n",
              "      <td>Logisic Regression</td>\n",
              "      <td>Normal</td>\n",
              "      <td>0.541973</td>\n",
              "      <td>0.812374</td>\n",
              "    </tr>\n",
              "    <tr>\n",
              "      <th>1</th>\n",
              "      <td>Decision Tree Classifier</td>\n",
              "      <td>Normal</td>\n",
              "      <td>0.149580</td>\n",
              "      <td>0.767621</td>\n",
              "    </tr>\n",
              "    <tr>\n",
              "      <th>2</th>\n",
              "      <td>Random Forest Classifier</td>\n",
              "      <td>Normal</td>\n",
              "      <td>0.137510</td>\n",
              "      <td>0.832309</td>\n",
              "    </tr>\n",
              "  </tbody>\n",
              "</table>\n",
              "</div>"
            ],
            "text/plain": [
              "                      Model Dataset  log_loss       auc\n",
              "0        Logisic Regression  Normal  0.541973  0.812374\n",
              "1  Decision Tree Classifier  Normal  0.149580  0.767621\n",
              "2  Random Forest Classifier  Normal  0.137510  0.832309"
            ]
          },
          "metadata": {
            "tags": []
          },
          "execution_count": 24
        }
      ]
    },
    {
      "cell_type": "markdown",
      "metadata": {
        "colab_type": "text",
        "id": "U85-m-LIEmmc"
      },
      "source": [
        "# XGB Classifier"
      ]
    },
    {
      "cell_type": "code",
      "metadata": {
        "colab_type": "code",
        "id": "Ssc-G7LSEmme",
        "colab": {}
      },
      "source": [
        "model = xgb.XGBClassifier()\n",
        "params = { 'n_estimators':[500,1000,2000],\n",
        "          'max_depth':[500,1000], \n",
        "         'min_samples_split':[100,500,1000],\n",
        "          'min_samples_leaf':[3,5,7],\n",
        "          'max_leaf_nodes':[100,250,500] \n",
        "          }\n"
      ],
      "execution_count": 26,
      "outputs": []
    },
    {
      "cell_type": "code",
      "metadata": {
        "colab_type": "code",
        "id": "_bdRS0XNEmmj",
        "colab": {
          "base_uri": "https://localhost:8080/",
          "height": 50
        },
        "outputId": "3a7a1921-9490-4016-c529-fad8879b51a9"
      },
      "source": [
        "%%time\n",
        "find_best_params(model,params,cv=3,n_jobs=15)"
      ],
      "execution_count": null,
      "outputs": [
        {
          "output_type": "stream",
          "text": [
            "Fitting 3 folds for each of 10 candidates, totalling 30 fits\n"
          ],
          "name": "stdout"
        },
        {
          "output_type": "stream",
          "text": [
            "[Parallel(n_jobs=15)]: Using backend LokyBackend with 15 concurrent workers.\n"
          ],
          "name": "stderr"
        }
      ]
    },
    {
      "cell_type": "code",
      "metadata": {
        "colab_type": "code",
        "id": "FdrKrxntEmmm",
        "colab": {
          "base_uri": "https://localhost:8080/",
          "height": 151
        },
        "outputId": "f445d5b0-73ef-445a-f2d2-ce839b2d8954"
      },
      "source": [
        "#{'n_estimators': 1000, 'min_samples_split': 500, 'min_samples_leaf': 5, 'max_leaf_nodes': 100, 'max_depth': 1000}\n",
        "model = ensemble.RandomForestClassifier(bootstrap=True, ccp_alpha=0.0, class_weight='balanced',\n",
        "                       criterion='gini', max_depth=1000, max_features='auto',\n",
        "                       max_leaf_nodes=250, max_samples=None,\n",
        "                       min_impurity_decrease=0.0, min_impurity_split=None,\n",
        "                       min_samples_leaf=5, min_samples_split=1000,\n",
        "                       min_weight_fraction_leaf=0.0, n_estimators=2000,\n",
        "                       n_jobs=-1, oob_score=False, random_state=None,\n",
        "                       verbose=0, warm_start=False)\n",
        "\n",
        "#RandomForestClassifier(bootstrap=True, ccp_alpha=0.0, class_weight='balanced',\n",
        "#                        criterion='gini', max_depth=1000, max_features='auto',\n",
        "#                        max_leaf_nodes=100, max_samples=None,\n",
        "#                        min_impurity_decrease=0.0, min_impurity_split=None,\n",
        "#                        min_samples_leaf=5, min_samples_split=500,\n",
        "#                        min_weight_fraction_leaf=0.0, n_estimators=1000,\n",
        "#                        n_jobs=-1, oob_score=False, random_state=None,\n",
        "#                        verbose=0, warm_start=False)\n",
        "\n",
        "model.fit(X_train,y_train)"
      ],
      "execution_count": null,
      "outputs": [
        {
          "output_type": "execute_result",
          "data": {
            "text/plain": [
              "RandomForestClassifier(bootstrap=True, ccp_alpha=0.0, class_weight='balanced',\n",
              "                       criterion='gini', max_depth=1000, max_features='auto',\n",
              "                       max_leaf_nodes=250, max_samples=None,\n",
              "                       min_impurity_decrease=0.0, min_impurity_split=None,\n",
              "                       min_samples_leaf=5, min_samples_split=1000,\n",
              "                       min_weight_fraction_leaf=0.0, n_estimators=2000,\n",
              "                       n_jobs=-1, oob_score=False, random_state=None, verbose=0,\n",
              "                       warm_start=False)"
            ]
          },
          "metadata": {
            "tags": []
          },
          "execution_count": 6
        }
      ]
    },
    {
      "cell_type": "code",
      "metadata": {
        "colab_type": "code",
        "id": "s97EEmfnEmmq",
        "colab": {
          "base_uri": "https://localhost:8080/",
          "height": 353
        },
        "outputId": "c1806225-2c74-4823-f6d5-a3630be13163"
      },
      "source": [
        "cc_model = calibration.CalibratedClassifierCV(model,cv='prefit')\n",
        "cc_model.fit(X_train,y_train)"
      ],
      "execution_count": null,
      "outputs": [
        {
          "output_type": "execute_result",
          "data": {
            "text/plain": [
              "CalibratedClassifierCV(base_estimator=RandomForestClassifier(bootstrap=True,\n",
              "                                                             ccp_alpha=0.0,\n",
              "                                                             class_weight='balanced',\n",
              "                                                             criterion='gini',\n",
              "                                                             max_depth=1000,\n",
              "                                                             max_features='auto',\n",
              "                                                             max_leaf_nodes=250,\n",
              "                                                             max_samples=None,\n",
              "                                                             min_impurity_decrease=0.0,\n",
              "                                                             min_impurity_split=None,\n",
              "                                                             min_samples_leaf=5,\n",
              "                                                             min_samples_split=1000,\n",
              "                                                             min_weight_fraction_leaf=0.0,\n",
              "                                                             n_estimators=2000,\n",
              "                                                             n_jobs=-1,\n",
              "                                                             oob_score=False,\n",
              "                                                             random_state=None,\n",
              "                                                             verbose=0,\n",
              "                                                             warm_start=False),\n",
              "                       cv='prefit', method='sigmoid')"
            ]
          },
          "metadata": {
            "tags": []
          },
          "execution_count": 7
        }
      ]
    },
    {
      "cell_type": "code",
      "metadata": {
        "colab_type": "code",
        "id": "EcGsADLLEmmt",
        "colab": {
          "base_uri": "https://localhost:8080/",
          "height": 351
        },
        "outputId": "192e6382-5ea4-4a59-9b49-858d7627f918"
      },
      "source": [
        "i+=1\n",
        "y_pred = cc_model.predict_proba(X_val)[:,1]\n",
        "label=\"Random Forest Classifier\"\n",
        "result = plot_auc(y_val,y_pred,label)\n",
        "result_df = result_df.append(result)\n",
        "del result"
      ],
      "execution_count": null,
      "outputs": [
        {
          "output_type": "stream",
          "text": [
            "\t\t Random Forest Classifier on Normal dataset \t\t \n",
            "\n"
          ],
          "name": "stdout"
        },
        {
          "output_type": "display_data",
          "data": {
            "image/png": "[encoded data removed]",
            "text/plain": [
              "<Figure size 432x288 with 1 Axes>"
            ]
          },
          "metadata": {
            "tags": [],
            "needs_background": "light"
          }
        },
        {
          "output_type": "stream",
          "text": [
            "The log loss and auc was found to be 0.138 and 0.830 for Random Forest Classifier on Normal dataset.\n"
          ],
          "name": "stdout"
        }
      ]
    },
    {
      "cell_type": "code",
      "metadata": {
        "colab_type": "code",
        "id": "kn5XWIAPEmmx",
        "colab": {
          "base_uri": "https://localhost:8080/",
          "height": 106
        },
        "outputId": "809cd56c-ea3f-4a4d-aa4c-ca0e37453406"
      },
      "source": [
        "result_df"
      ],
      "execution_count": null,
      "outputs": [
        {
          "output_type": "execute_result",
          "data": {
            "text/html": [
              "<div>\n",
              "<style scoped>\n",
              "    .dataframe tbody tr th:only-of-type {\n",
              "        vertical-align: middle;\n",
              "    }\n",
              "\n",
              "    .dataframe tbody tr th {\n",
              "        vertical-align: top;\n",
              "    }\n",
              "\n",
              "    .dataframe thead th {\n",
              "        text-align: right;\n",
              "    }\n",
              "</style>\n",
              "<table border=\"1\" class=\"dataframe\">\n",
              "  <thead>\n",
              "    <tr style=\"text-align: right;\">\n",
              "      <th></th>\n",
              "      <th>Model</th>\n",
              "      <th>Dataset</th>\n",
              "      <th>log_loss</th>\n",
              "      <th>auc</th>\n",
              "    </tr>\n",
              "  </thead>\n",
              "  <tbody>\n",
              "    <tr>\n",
              "      <th>0</th>\n",
              "      <td>Logisic Regression</td>\n",
              "      <td>Normal</td>\n",
              "      <td>0.538715</td>\n",
              "      <td>0.809177</td>\n",
              "    </tr>\n",
              "    <tr>\n",
              "      <th>1</th>\n",
              "      <td>Decision Tree Classifier</td>\n",
              "      <td>Normal</td>\n",
              "      <td>0.147555</td>\n",
              "      <td>0.794187</td>\n",
              "    </tr>\n",
              "  </tbody>\n",
              "</table>\n",
              "</div>"
            ],
            "text/plain": [
              "                      Model Dataset  log_loss       auc\n",
              "0        Logisic Regression  Normal  0.538715  0.809177\n",
              "1  Decision Tree Classifier  Normal  0.147555  0.794187"
            ]
          },
          "metadata": {
            "tags": []
          },
          "execution_count": 159
        }
      ]
    }
  ]
}