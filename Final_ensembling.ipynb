{
 "cells": [
  {
   "cell_type": "markdown",
   "metadata": {
    "colab_type": "text",
    "id": "CvTTAYQnjtMy"
   },
   "source": [
    "# **Strategy**\n",
    "We will get best models from each dataset that are created and fitting on all the train dataset(ie including the validation dataset) and also try ensembling them. The best models obtained were(from best to worst validation AUC):\n",
    "\n",
    "\n",
    "1.   XGBoost(all features) on Log with OHE dataset\n",
    "2.   XGBoost(top 250 features) on Log with RE dataset\n",
    "3.   XGBoost(top 250 features) on Normal with OHE dataset\n",
    "4.   XGBoost(top 250 features) on Normal dataset\n",
    "5.   XGBoost(top 250 features) on Normal with RE dataset\n",
    "6.   XGBoost(all features) on Log dataset\n",
    "\n",
    "OHE: One Hot Encoding\n",
    "\n",
    "RE: Response Encoding\n",
    "\n",
    "\n",
    "\n"
   ]
  },
  {
   "cell_type": "code",
   "execution_count": 1,
   "metadata": {
    "colab": {},
    "colab_type": "code",
    "id": "oTjrSnWxj4Mw"
   },
   "outputs": [],
   "source": [
    "import joblib #for loading pickle files\n",
    "import warnings\n",
    "warnings.filterwarnings(\"ignore\")\n",
    "import pandas as pd\n",
    "import numpy as np\n",
    "%matplotlib inline\n",
    "import matplotlib.pyplot as plt\n",
    "import seaborn as sns\n",
    "sns.set(palette='muted',style='whitegrid')\n",
    "import sklearn\n",
    "from sklearn import metrics,ensemble,model_selection,linear_model,tree,calibration\n",
    "import xgboost as xgb\n",
    "import lightgbm as lgb \n",
    "import scipy\n",
    "import random\n",
    "from tqdm import tqdm\n",
    "import os\n",
    "np.random.seed(13154)"
   ]
  },
  {
   "cell_type": "markdown",
   "metadata": {
    "colab_type": "text",
    "id": "y8BQrTMgtOzH"
   },
   "source": [
    "# **Methods**"
   ]
  },
  {
   "cell_type": "code",
   "execution_count": 2,
   "metadata": {
    "colab": {},
    "colab_type": "code",
    "id": "JacX_BFD2Iov"
   },
   "outputs": [],
   "source": [
    "def return_model(model,X_train,X_val,X_test,y_train,y_val):\n",
    "  \"\"\"\n",
    "  Getting the train,test and validation dataset and model\n",
    "  Fits the model on combined train+validation dataset and returns\n",
    "  y_test and y_pred(of combined dataset).\n",
    "  \"\"\"\n",
    "  X  =X_train.append(X_val).reset_index().drop('index',axis=1)\n",
    "  y =np.append(y_train,y_val)\n",
    "  \n",
    "  #fitting\n",
    "  model.fit(X,y)\n",
    "  y_pred = model.predict_proba(X)[:,1]\n",
    "  y_test = model.predict_proba(X_test)[:,1]\n",
    "  return y_pred,y_test"
   ]
  },
  {
   "cell_type": "code",
   "execution_count": 3,
   "metadata": {
    "colab": {},
    "colab_type": "code",
    "id": "XxkN_wGR6v8M"
   },
   "outputs": [],
   "source": [
    "df = {}\n",
    "test_df = {}\n",
    "def produce_y(y_pred,y_test,label):\n",
    "  \"\"\"\n",
    "  given a label, adds the value of y_pred and y_test\n",
    "  to the df and test_df dictionary\n",
    "  \"\"\"\n",
    "  df[label] = y_pred\n",
    "  test_df[label] = y_test"
   ]
  },
  {
   "cell_type": "code",
   "execution_count": 4,
   "metadata": {
    "colab": {},
    "colab_type": "code",
    "id": "fK8agmE4zUSd"
   },
   "outputs": [],
   "source": [
    "def find_best_params(X_train,y_train,model,params,cv=5,n_jobs=-1):\n",
    "  \"\"\"\n",
    "  Funcion which implements Random Seacrh CV and returns best model with maximum score auc\n",
    "  \"\"\"\n",
    "  random_cv = model_selection.RandomizedSearchCV(model,param_distributions=params,scoring='roc_auc',n_jobs=n_jobs,cv=cv,verbose=2)\n",
    "  random_cv.fit(X_train,y_train)\n",
    "  print(\"The best auc score was %.3f\"%(random_cv.best_score_))\n",
    "  print(\"The best params were: %s\"%(random_cv.best_params_))\n",
    "  return random_cv.best_estimator_"
   ]
  },
  {
   "cell_type": "code",
   "execution_count": 5,
   "metadata": {
    "colab": {},
    "colab_type": "code",
    "id": "BzFa7Vu11mKe"
   },
   "outputs": [],
   "source": [
    "def plot_auc(y_true,y_pred,label):\n",
    "  \"\"\"\n",
    "  Plots auc curve when y_true and y_pred are given\n",
    "  label: tells which model was used\n",
    "  If label is a list plots all the auc curve for all labels (here y_pred will be a list of lists )\n",
    "  \"\"\"\n",
    "  \n",
    "  \n",
    "  if (type(label)!=list) & (type(label)!=np.array):\n",
    "    print(\"\\t\\t %s \\t\\t \\n\"%(label))\n",
    "    fpr,tpr,threshold = metrics.roc_curve(y_true,y_pred) #getting true positive rate, false positive rate\n",
    "    auc = metrics.roc_auc_score(y_true,y_pred) #getting auc score\n",
    "    log_loss = metrics.log_loss(y_true,y_pred) #getting logloss\n",
    "    label_1 = label+' AUC=%.3f'%(auc)\n",
    "\n",
    "    #plotting tpr vs fpr\n",
    "    sns.lineplot(fpr,tpr,label=label_1)\n",
    "    x=np.arange(0,1.1,0.1) #auc=0.5 line \n",
    "    sns.lineplot(x,x,label=\"AUC=0.5\")\n",
    "    plt.title(\"ROC\")\n",
    "    plt.xlabel('False Positive Rate')\n",
    "    plt.ylabel(\"True Positive Rate\")\n",
    "    plt.legend(bbox_to_anchor=(1.05, 1), loc=2, borderaxespad=0.) #legend box outside graph\n",
    "    plt.show()\n",
    "    print(\"The log loss and auc was found to be %.3f and %.3f for %s.\"%(log_loss,auc,label))\n",
    "    # #creating a dataframe of the result\n",
    "    # result_dict = {\"Model\":label,'log_loss':log_loss,'auc':auc}\n",
    "    \n",
    "    # return pd.DataFrame(result_dict,index=[i])\n",
    "\n",
    "  else:\n",
    "    plt.figure(figsize=(12,8))\n",
    "    for k,y in enumerate(y_pred):\n",
    "      fpr,tpr,threshold = metrics.roc_curve(y_true,y)\n",
    "      auc = metrics.roc_auc_score(y_true,y)\n",
    "      label_ = label[k]+' AUC=%.3f'%(auc)\n",
    "      #plotting tpr vs fpr\n",
    "      sns.lineplot(fpr,tpr,label=label_)\n",
    "\n",
    "    x=np.arange(0,1.1,0.1)\n",
    "    sns.lineplot(x,x,label=\"AUC=0.5\")\n",
    "    plt.title(\"Combined ROC\")\n",
    "    plt.xlabel('False Positive Rate')\n",
    "    plt.ylabel(\"True Positive Rate\")\n",
    "    plt.legend(bbox_to_anchor=(1.05, 1), loc=2, borderaxespad=0.) #legend box outside graph\n",
    "    plt.show()"
   ]
  },
  {
   "cell_type": "code",
   "execution_count": 6,
   "metadata": {
    "colab": {},
    "colab_type": "code",
    "id": "zfgViLh9BeYL"
   },
   "outputs": [],
   "source": [
    "def create_testy(y_test):\n",
    "  \"\"\"\n",
    "  creates submission test file csv\n",
    "  \"\"\"\n",
    "  test = pd.read_pickle('/content/drive/My Drive/applied ai assignment/X_test_2.pkl')\n",
    "  feat = test.columns\n",
    "  feat_to_drop = set(test.columns)-{'ID'}\n",
    "  test.drop(feat_to_drop,axis=1,inplace=True)\n",
    "  test['TARGET'] = y_test\n",
    "  test.to_csv('./test.csv',index=False)"
   ]
  },
  {
   "cell_type": "code",
   "execution_count": 15,
   "metadata": {
    "colab": {},
    "colab_type": "code",
    "id": "RX2BxxZAiJrT"
   },
   "outputs": [],
   "source": [
    "def plot_feature_importance(df,feat_imp,label,top=20,size=(6,6)):\n",
    "    \"\"\"\n",
    "    getting most important top features if df and feature_importance array is passed\n",
    "    \"\"\"\n",
    "    top_indices = np.argsort(feat_imp)[::-1][:top] #getting the indices with top feature importace\n",
    "    most_important_feat = df.columns[top_indices] #getiing the columns names\n",
    "    plt.figure(figsize=size)\n",
    "    sns.barplot(x=feat_imp[top_indices],y=most_important_feat) #plotting feature importance \n",
    "    plt.title('Feature Importance '+label)\n",
    "    plt.xlabel('Importance')\n",
    "    plt.ylabel(\"Feature names\")\n",
    "    plt.show()"
   ]
  },
  {
   "cell_type": "code",
   "execution_count": 7,
   "metadata": {
    "colab": {},
    "colab_type": "code",
    "id": "igy3o9OSk2H1"
   },
   "outputs": [],
   "source": [
    "filepath = '/content/drive/My Drive/Santander_Customer_Satisfaction/best_models' #for loading dataset files"
   ]
  },
  {
   "cell_type": "code",
   "execution_count": 8,
   "metadata": {
    "colab": {},
    "colab_type": "code",
    "id": "uxv3jtfvs_5g"
   },
   "outputs": [],
   "source": [
    "#y\n",
    "y_train = joblib.load(os.path.join(filepath,'y_train.pkl'))\n",
    "y_val = joblib.load(os.path.join(filepath,'y_val.pkl'))\n",
    "y = np.append(y_train,y_val)"
   ]
  },
  {
   "cell_type": "markdown",
   "metadata": {
    "colab_type": "text",
    "id": "HDf2494Juzfc"
   },
   "source": [
    "## **XGBoost(all features) on Log with OHE dataset**"
   ]
  },
  {
   "cell_type": "code",
   "execution_count": null,
   "metadata": {
    "colab": {},
    "colab_type": "code",
    "id": "dnp-eXYcvJp_"
   },
   "outputs": [],
   "source": [
    "label = \"log ohe xgb\"\n",
    "#train\n",
    "file_name = 'log_train_ohe.pkl'\n",
    "X_train = pd.read_pickle(os.path.join(filepath,file_name))\n",
    "\n",
    "#val\n",
    "file_name = 'log_val_ohe.pkl'\n",
    "X_val = pd.read_pickle(os.path.join(filepath,file_name))\n",
    "\n",
    "#test\n",
    "file_name = 'log_test_ohe.pkl'\n",
    "X_test = pd.read_pickle(os.path.join(filepath,file_name))\n",
    "\n",
    "\n",
    "\n",
    "#model\n",
    "model = xgb.XGBClassifier(n_jobs=-1,\n",
    "                      nthread=-1,\n",
    "                      scale_pos_weight=1,\n",
    "                      learning_rate=0.02,  \n",
    "                      colsample_bytree = 0.7,\n",
    "                      subsample = 0.8,\n",
    "                      objective='binary:logistic', \n",
    "                      n_estimators=500,\n",
    "                      reg_alpha = 0.,\n",
    "                      max_depth=5, random_state=42\n",
    "                     )\n",
    "\n",
    "\n",
    "y_pred,y_test = return_model(model,X_train,X_val,X_test,y_train,y_val) #fitting the model on train data and the producing y_pred and y_test\n",
    "produce_y(y_pred,y_test,label) #updating it on df and test_df"
   ]
  },
  {
   "cell_type": "markdown",
   "metadata": {
    "colab_type": "text",
    "id": "W8ws_f0cu2JQ"
   },
   "source": [
    "## **XGBoost(top 250 features) on Log with RE dataset**"
   ]
  },
  {
   "cell_type": "code",
   "execution_count": null,
   "metadata": {
    "colab": {},
    "colab_type": "code",
    "id": "BjoERK4AvKsn"
   },
   "outputs": [],
   "source": [
    "label = \"log re(top 250) xgb\"\n",
    "\n",
    "#train\n",
    "file_name = 'log_train_re_250.pkl'\n",
    "X_train = pd.read_pickle(os.path.join(filepath,file_name))\n",
    "\n",
    "#val\n",
    "file_name = 'log_val_re_250.pkl'\n",
    "X_val = pd.read_pickle(os.path.join(filepath,file_name))\n",
    "\n",
    "#test\n",
    "file_name = 'log_test_re_250.pkl'\n",
    "X_test = pd.read_pickle(os.path.join(filepath,file_name))\n",
    "\n",
    "\n",
    "\n",
    "#model\n",
    "model = xgb.XGBClassifier(n_jobs=-1,\n",
    "                      nthread=-1,\n",
    "                      scale_pos_weight=1,\n",
    "                      learning_rate=0.01,  \n",
    "                      colsample_bytree = 0.6,\n",
    "                      subsample = 0.7,\n",
    "                      objective='binary:logistic', \n",
    "                      n_estimators=945,\n",
    "                      reg_alpha = 0.1,\n",
    "                      max_depth=6,\n",
    "                      gamma=0,\n",
    "                     )\n",
    "\n",
    "\n",
    "y_pred,y_test = return_model(model,X_train,X_val,X_test,y_train,y_val)\n",
    "produce_y(y_pred,y_test,label)"
   ]
  },
  {
   "cell_type": "markdown",
   "metadata": {
    "colab_type": "text",
    "id": "ZokgB7SCu8ko"
   },
   "source": [
    "## **XGBoost(top 250 features) on Normal with OHE dataset**"
   ]
  },
  {
   "cell_type": "code",
   "execution_count": null,
   "metadata": {
    "colab": {},
    "colab_type": "code",
    "id": "GiXwhe9DvLUI"
   },
   "outputs": [],
   "source": [
    "label = \"normal ohe(top 250) xgb\"\n",
    "\n",
    "#train\n",
    "file_name = 'normal_train_ohe_250.pkl'\n",
    "X_train = pd.read_pickle(os.path.join(filepath,file_name))\n",
    "\n",
    "#val\n",
    "file_name = 'normal_val_ohe_250.pkl'\n",
    "X_val = pd.read_pickle(os.path.join(filepath,file_name))\n",
    "\n",
    "#test\n",
    "file_name = 'normal_test_ohe_250.pkl'\n",
    "X_test = pd.read_pickle(os.path.join(filepath,file_name))\n",
    "\n",
    "\n",
    "\n",
    "#model\n",
    "model = xgb.XGBClassifier(n_jobs=-1,\n",
    "                      nthread=-1,\n",
    "                      scale_pos_weight=1,\n",
    "                      learning_rate=0.01,  \n",
    "                      colsample_bytree = 0.6, \n",
    "                      subsample = 0.7,\n",
    "                      objective='binary:logistic', \n",
    "                      n_estimators=710,\n",
    "                      reg_alpha = 0.3,\n",
    "                      max_depth=6, \n",
    "                      gamma=0, random_state=42\n",
    "                     )\n",
    "y_pred,y_test = return_model(model,X_train,X_val,X_test,y_train,y_val)\n",
    "produce_y(y_pred,y_test,label)\n"
   ]
  },
  {
   "cell_type": "markdown",
   "metadata": {
    "colab_type": "text",
    "id": "u8gl741vu_gA"
   },
   "source": [
    "## **XGBoost(top 250 features) on Normal dataset**"
   ]
  },
  {
   "cell_type": "code",
   "execution_count": null,
   "metadata": {
    "colab": {},
    "colab_type": "code",
    "id": "kCjV5l0yu1oa"
   },
   "outputs": [],
   "source": [
    "label = \"normal (top 250) xgb\"\n",
    "#train\n",
    "file_name = 'normal_train_250.pkl'\n",
    "X_train = pd.read_pickle(os.path.join(filepath,file_name))\n",
    "\n",
    "#val\n",
    "file_name = 'normal_val_250.pkl'\n",
    "X_val = pd.read_pickle(os.path.join(filepath,file_name))\n",
    "\n",
    "#test\n",
    "file_name = 'normal_test_250.pkl'\n",
    "X_test = pd.read_pickle(os.path.join(filepath,file_name))\n",
    "\n",
    "\n",
    "#model\n",
    "model = xgb.XGBClassifier(n_jobs=-1,\n",
    "                      nthread=-1,\n",
    "                      scale_pos_weight=1,\n",
    "                      learning_rate=0.01,  \n",
    "                      colsample_bytree = 0.8, \n",
    "                      subsample = 0.7,\n",
    "                      objective='binary:logistic', \n",
    "                      n_estimators=801,\n",
    "                      reg_alpha = 0.3,\n",
    "                      max_depth=6, \n",
    "                      gamma=0,random_state=42\n",
    "                     )\n",
    "\n",
    "y_pred,y_test = return_model(model,X_train,X_val,X_test,y_train,y_val)\n",
    "produce_y(y_pred,y_test,label)"
   ]
  },
  {
   "cell_type": "markdown",
   "metadata": {
    "colab_type": "text",
    "id": "mrT55dVe1FGs"
   },
   "source": [
    "## **XGBoost(top 250 features) on Normal with RE dataset**"
   ]
  },
  {
   "cell_type": "code",
   "execution_count": null,
   "metadata": {
    "colab": {
     "base_uri": "https://localhost:8080/",
     "height": 51
    },
    "colab_type": "code",
    "id": "9Uv_T3_w1FGt",
    "outputId": "bd3c95fd-6e66-46c1-8063-794a8ccd158f"
   },
   "outputs": [
    {
     "name": "stdout",
     "output_type": "stream",
     "text": [
      "CPU times: user 15min 13s, sys: 732 ms, total: 15min 13s\n",
      "Wall time: 7min 49s\n"
     ]
    }
   ],
   "source": [
    "%%time\n",
    "label = \"normal re(top 250) xgb\"\n",
    "#train\n",
    "file_name = 'normal_train_re_250.pkl'\n",
    "X_train = pd.read_pickle(os.path.join(filepath,file_name))\n",
    "\n",
    "#val\n",
    "file_name = 'normal_val_re_250.pkl'\n",
    "X_val = pd.read_pickle(os.path.join(filepath,file_name))\n",
    "\n",
    "#test\n",
    "file_name = 'normal_test_re_250.pkl'\n",
    "X_test = pd.read_pickle(os.path.join(filepath,file_name))\n",
    "\n",
    "\n",
    "#model\n",
    "model = xgb.XGBClassifier(n_jobs=-1,\n",
    "                      nthread=-1,\n",
    "                      scale_pos_weight=1,\n",
    "                      learning_rate=0.01,  \n",
    "                      colsample_bytree = 0.8, \n",
    "                      subsample = 0.7,\n",
    "                      objective='binary:logistic', \n",
    "                      n_estimators=865,\n",
    "                      reg_alpha = 0.3,\n",
    "                      max_depth=5, \n",
    "                      gamma=1,\n",
    "                      random_state=42\n",
    "                     )\n",
    "\n",
    "y_pred,y_test = return_model(model,X_train,X_val,X_test,y_train,y_val)\n",
    "produce_y(y_pred,y_test,label)"
   ]
  },
  {
   "cell_type": "markdown",
   "metadata": {
    "colab_type": "text",
    "id": "p6TxW6_Y1Egs"
   },
   "source": [
    "## **XGBoost(all features) on Log dataset**\n",
    "\n"
   ]
  },
  {
   "cell_type": "code",
   "execution_count": null,
   "metadata": {
    "colab": {
     "base_uri": "https://localhost:8080/",
     "height": 51
    },
    "colab_type": "code",
    "id": "_i19VGel1Egu",
    "outputId": "48d81282-12e0-4187-8d11-9e9c31afcff6"
   },
   "outputs": [
    {
     "name": "stdout",
     "output_type": "stream",
     "text": [
      "CPU times: user 13min 13s, sys: 878 ms, total: 13min 14s\n",
      "Wall time: 6min 48s\n"
     ]
    }
   ],
   "source": [
    "%%time\n",
    "label = \"log xgb\"\n",
    "#train\n",
    "file_name = 'log_train.pkl'\n",
    "X_train = pd.read_pickle(os.path.join(filepath,file_name))\n",
    "\n",
    "#val\n",
    "file_name = 'log_val.pkl'\n",
    "X_val = pd.read_pickle(os.path.join(filepath,file_name))\n",
    "\n",
    "#test\n",
    "file_name = 'log_test.pkl'\n",
    "X_test = pd.read_pickle(os.path.join(filepath,file_name))\n",
    "\n",
    "\n",
    "#model\n",
    "model = xgb.XGBClassifier(n_jobs=-1,\n",
    "                      nthread=-1,\n",
    "                      scale_pos_weight=1,\n",
    "                      learning_rate=0.01,  \n",
    "                      colsample_bytree = 0.5,\n",
    "                      subsample = 0.9,\n",
    "                      objective='binary:logistic', \n",
    "                      n_estimators=750,\n",
    "                      reg_alpha = 0.2,\n",
    "                      max_depth=6, \n",
    "                      gamma=0, random_state=42\n",
    "                     )\n",
    "\n",
    "y_pred,y_test = return_model(model,X_train,X_val,X_test,y_train,y_val)\n",
    "produce_y(y_pred,y_test,label)"
   ]
  },
  {
   "cell_type": "code",
   "execution_count": null,
   "metadata": {
    "colab": {},
    "colab_type": "code",
    "id": "klhs97Jm1CCO"
   },
   "outputs": [],
   "source": [
    "df = pd.DataFrame(df)\n",
    "test_df = pd.DataFrame(test_df)"
   ]
  },
  {
   "cell_type": "code",
   "execution_count": 9,
   "metadata": {
    "colab": {},
    "colab_type": "code",
    "id": "7hde39c3To0q"
   },
   "outputs": [],
   "source": [
    "# df.to_pickle(os.path.join(filepath,'df.pkl'))\n",
    "# test_df.to_pickle(os.path.join(filepath,'test_df.pkl'))\n",
    "df = pd.read_pickle(os.path.join(filepath,'df.pkl'))\n",
    "test_df = pd.read_pickle(os.path.join(filepath,'test_df.pkl'))"
   ]
  },
  {
   "cell_type": "code",
   "execution_count": null,
   "metadata": {
    "colab": {
     "base_uri": "https://localhost:8080/",
     "height": 68
    },
    "colab_type": "code",
    "id": "gFaF1n-C8nIk",
    "outputId": "afe62009-5868-4b76-9701-1fcafb43db06"
   },
   "outputs": [
    {
     "data": {
      "text/plain": [
       "Index(['log ohe xgb', 'log re(top 250) xgb', 'normal ohe(top 250) xgb',\n",
       "       'normal (top 250) xgb', 'normal re(top 250) xgb', 'log xgb'],\n",
       "      dtype='object')"
      ]
     },
     "execution_count": 31,
     "metadata": {
      "tags": []
     },
     "output_type": "execute_result"
    }
   ],
   "source": [
    "test_df.columns"
   ]
  },
  {
   "cell_type": "code",
   "execution_count": null,
   "metadata": {
    "colab": {},
    "colab_type": "code",
    "id": "QXS8LbLn-mw7"
   },
   "outputs": [],
   "source": [
    "create_testy(test_df['log ohe xgb'].values) #0.81851"
   ]
  },
  {
   "cell_type": "code",
   "execution_count": null,
   "metadata": {
    "colab": {},
    "colab_type": "code",
    "id": "Ol-RD904CEXJ"
   },
   "outputs": [],
   "source": [
    "create_testy(test_df['log re(top 250) xgb'].values) #0.82734"
   ]
  },
  {
   "cell_type": "code",
   "execution_count": null,
   "metadata": {
    "colab": {},
    "colab_type": "code",
    "id": "LnrDnGXEELGm"
   },
   "outputs": [],
   "source": [
    "create_testy(test_df['normal ohe(top 250) xgb'].values) #0.81560"
   ]
  },
  {
   "cell_type": "code",
   "execution_count": null,
   "metadata": {
    "colab": {},
    "colab_type": "code",
    "id": "UNqbvdS6LCXl"
   },
   "outputs": [],
   "source": [
    "create_testy(test_df['normal (top 250) xgb'].values) #0.81952"
   ]
  },
  {
   "cell_type": "code",
   "execution_count": null,
   "metadata": {
    "colab": {},
    "colab_type": "code",
    "id": "JS1E8KnBqGXi"
   },
   "outputs": [],
   "source": [
    "create_testy(test_df['normal re(top 250) xgb'].values) #0.82713"
   ]
  },
  {
   "cell_type": "code",
   "execution_count": null,
   "metadata": {
    "colab": {},
    "colab_type": "code",
    "id": "gxY45VcoLU6R"
   },
   "outputs": [],
   "source": [
    "create_testy(test_df[ 'log xgb'].values) #0.81131"
   ]
  },
  {
   "cell_type": "code",
   "execution_count": null,
   "metadata": {
    "colab": {
     "base_uri": "https://localhost:8080/",
     "height": 235
    },
    "colab_type": "code",
    "id": "CTFQp00uqgyQ",
    "outputId": "4ed98836-144f-47df-98ab-29514b30c641"
   },
   "outputs": [
    {
     "data": {
      "text/html": [
       "<div>\n",
       "<style scoped>\n",
       "    .dataframe tbody tr th:only-of-type {\n",
       "        vertical-align: middle;\n",
       "    }\n",
       "\n",
       "    .dataframe tbody tr th {\n",
       "        vertical-align: top;\n",
       "    }\n",
       "\n",
       "    .dataframe thead th {\n",
       "        text-align: right;\n",
       "    }\n",
       "</style>\n",
       "<table border=\"1\" class=\"dataframe\">\n",
       "  <thead>\n",
       "    <tr style=\"text-align: right;\">\n",
       "      <th></th>\n",
       "      <th>model</th>\n",
       "      <th>kaggle public scoure(AUC)</th>\n",
       "    </tr>\n",
       "  </thead>\n",
       "  <tbody>\n",
       "    <tr>\n",
       "      <th>0</th>\n",
       "      <td>log ohe xgb</td>\n",
       "      <td>0.81851</td>\n",
       "    </tr>\n",
       "    <tr>\n",
       "      <th>1</th>\n",
       "      <td>log re(top 250) xgb</td>\n",
       "      <td>0.82734</td>\n",
       "    </tr>\n",
       "    <tr>\n",
       "      <th>2</th>\n",
       "      <td>normal ohe(top 250) xgb</td>\n",
       "      <td>0.81560</td>\n",
       "    </tr>\n",
       "    <tr>\n",
       "      <th>3</th>\n",
       "      <td>normal (top 250) xgb</td>\n",
       "      <td>0.81952</td>\n",
       "    </tr>\n",
       "    <tr>\n",
       "      <th>4</th>\n",
       "      <td>normal re(top 250) xgb</td>\n",
       "      <td>0.82713</td>\n",
       "    </tr>\n",
       "    <tr>\n",
       "      <th>5</th>\n",
       "      <td>log xgb</td>\n",
       "      <td>0.81131</td>\n",
       "    </tr>\n",
       "  </tbody>\n",
       "</table>\n",
       "</div>"
      ],
      "text/plain": [
       "                     model  kaggle public scoure(AUC)\n",
       "0              log ohe xgb                    0.81851\n",
       "1      log re(top 250) xgb                    0.82734\n",
       "2  normal ohe(top 250) xgb                    0.81560\n",
       "3     normal (top 250) xgb                    0.81952\n",
       "4   normal re(top 250) xgb                    0.82713\n",
       "5                  log xgb                    0.81131"
      ]
     },
     "execution_count": 86,
     "metadata": {
      "tags": []
     },
     "output_type": "execute_result"
    }
   ],
   "source": [
    "result_df = {}\n",
    "result_df['model'] = test_df.columns\n",
    "result_df['kaggle public scoure(AUC)'] = [0.81851,0.82734,0.81560,0.81952,0.82713,0.81131]\n",
    "result_df =pd.DataFrame(result_df)\n",
    "result_df #df with descending kaggle public auc"
   ]
  },
  {
   "cell_type": "markdown",
   "metadata": {
    "colab_type": "text",
    "id": "zC7vpv2plP9b"
   },
   "source": [
    "# **Stacking**"
   ]
  },
  {
   "cell_type": "markdown",
   "metadata": {
    "colab_type": "text",
    "id": "dG41ugfqQn2w"
   },
   "source": [
    "Stacking a logistic regression model as meta classifier."
   ]
  },
  {
   "cell_type": "code",
   "execution_count": 10,
   "metadata": {
    "colab": {},
    "colab_type": "code",
    "id": "MjU5GaNfllz7"
   },
   "outputs": [],
   "source": [
    "model = linear_model.LogisticRegression(class_weight='balanced')\n",
    "params = {'penalty':['l2','l1'], 'C':[10.**i for i in np.arange(-3,3,1)], \n",
    "          'fit_intercept':[True,False] ,\n",
    "          }"
   ]
  },
  {
   "cell_type": "code",
   "execution_count": 11,
   "metadata": {
    "colab": {
     "base_uri": "https://localhost:8080/",
     "height": 204
    },
    "colab_type": "code",
    "id": "p5hhp00Sknyn",
    "outputId": "d4be752f-c5c9-46a8-b617-48e68dd9ce04"
   },
   "outputs": [
    {
     "name": "stdout",
     "output_type": "stream",
     "text": [
      "Fitting 10 folds for each of 10 candidates, totalling 100 fits\n"
     ]
    },
    {
     "name": "stderr",
     "output_type": "stream",
     "text": [
      "[Parallel(n_jobs=-1)]: Using backend LokyBackend with 2 concurrent workers.\n",
      "[Parallel(n_jobs=-1)]: Done  95 tasks      | elapsed:    6.4s\n",
      "[Parallel(n_jobs=-1)]: Done 100 out of 100 | elapsed:    7.5s finished\n"
     ]
    },
    {
     "name": "stdout",
     "output_type": "stream",
     "text": [
      "The best auc score was 0.912\n",
      "The best params were: {'penalty': 'l2', 'fit_intercept': True, 'C': 1.0}\n"
     ]
    },
    {
     "data": {
      "text/plain": [
       "LogisticRegression(C=1.0, class_weight='balanced', dual=False,\n",
       "                   fit_intercept=True, intercept_scaling=1, l1_ratio=None,\n",
       "                   max_iter=100, multi_class='auto', n_jobs=None, penalty='l2',\n",
       "                   random_state=None, solver='lbfgs', tol=0.0001, verbose=0,\n",
       "                   warm_start=False)"
      ]
     },
     "execution_count": 11,
     "metadata": {
      "tags": []
     },
     "output_type": "execute_result"
    }
   ],
   "source": [
    "find_best_params(df,y,model,params,cv=10)"
   ]
  },
  {
   "cell_type": "code",
   "execution_count": null,
   "metadata": {
    "colab": {},
    "colab_type": "code",
    "id": "JBUPvhSBl6yq"
   },
   "outputs": [],
   "source": [
    "#logistic resgresion meta classifier\n",
    "model = linear_model.LogisticRegression(class_weight='balanced',penalty='l2',fit_intercept=True,C=1.0)\n",
    "model.fit(df,y)\n",
    "y_test = model.predict_proba(test_df)[:,1] #0.82310\n",
    "result_df.loc[6,'model'] = 'Stacking (logistic Regression)'\n",
    "result_df.loc[6,'kaggle public scoure(AUC)'] = 0.82310"
   ]
  },
  {
   "cell_type": "markdown",
   "metadata": {
    "colab_type": "text",
    "id": "MmgX4A11QkqT"
   },
   "source": [
    "# **Ensembling**"
   ]
  },
  {
   "cell_type": "markdown",
   "metadata": {
    "colab_type": "text",
    "id": "Ygc--neLQvtP"
   },
   "source": [
    "We will take simple average of result of the two best model we got ie 'log re(top 250) xgb' and 'normal re(top 250) xgb'."
   ]
  },
  {
   "cell_type": "code",
   "execution_count": null,
   "metadata": {
    "colab": {},
    "colab_type": "code",
    "id": "ldrkwLPYnG9p"
   },
   "outputs": [],
   "source": [
    "y_test = test_df.loc[:,['log re(top 250) xgb','normal re(top 250) xgb']].mean(axis=1)\n",
    "create_testy(y_test)#0.82746"
   ]
  },
  {
   "cell_type": "code",
   "execution_count": null,
   "metadata": {
    "colab": {},
    "colab_type": "code",
    "id": "8UGua1BGQD0y"
   },
   "outputs": [],
   "source": [
    "result_df.loc[7,'model'] = 'Ensembling(Simple average of two best models)'\n",
    "result_df.loc[7,'kaggle public scoure(AUC)'] = 0.82746"
   ]
  },
  {
   "cell_type": "code",
   "execution_count": null,
   "metadata": {
    "colab": {
     "base_uri": "https://localhost:8080/",
     "height": 297
    },
    "colab_type": "code",
    "id": "5IuuMeImmFeo",
    "outputId": "9935b1b0-2304-4eff-b018-82484fae08b3"
   },
   "outputs": [
    {
     "data": {
      "text/html": [
       "<div>\n",
       "<style scoped>\n",
       "    .dataframe tbody tr th:only-of-type {\n",
       "        vertical-align: middle;\n",
       "    }\n",
       "\n",
       "    .dataframe tbody tr th {\n",
       "        vertical-align: top;\n",
       "    }\n",
       "\n",
       "    .dataframe thead th {\n",
       "        text-align: right;\n",
       "    }\n",
       "</style>\n",
       "<table border=\"1\" class=\"dataframe\">\n",
       "  <thead>\n",
       "    <tr style=\"text-align: right;\">\n",
       "      <th></th>\n",
       "      <th>model</th>\n",
       "      <th>kaggle public scoure(AUC)</th>\n",
       "    </tr>\n",
       "  </thead>\n",
       "  <tbody>\n",
       "    <tr>\n",
       "      <th>0</th>\n",
       "      <td>Ensembling(Average of two best models)</td>\n",
       "      <td>0.82746</td>\n",
       "    </tr>\n",
       "    <tr>\n",
       "      <th>1</th>\n",
       "      <td>log re(top 250) xgb</td>\n",
       "      <td>0.82734</td>\n",
       "    </tr>\n",
       "    <tr>\n",
       "      <th>2</th>\n",
       "      <td>normal re(top 250) xgb</td>\n",
       "      <td>0.82713</td>\n",
       "    </tr>\n",
       "    <tr>\n",
       "      <th>3</th>\n",
       "      <td>Stacking (logistic Regression)</td>\n",
       "      <td>0.82310</td>\n",
       "    </tr>\n",
       "    <tr>\n",
       "      <th>4</th>\n",
       "      <td>normal (top 250) xgb</td>\n",
       "      <td>0.81952</td>\n",
       "    </tr>\n",
       "    <tr>\n",
       "      <th>5</th>\n",
       "      <td>log ohe xgb</td>\n",
       "      <td>0.81851</td>\n",
       "    </tr>\n",
       "    <tr>\n",
       "      <th>6</th>\n",
       "      <td>normal ohe(top 250) xgb</td>\n",
       "      <td>0.81560</td>\n",
       "    </tr>\n",
       "    <tr>\n",
       "      <th>7</th>\n",
       "      <td>log xgb</td>\n",
       "      <td>0.81131</td>\n",
       "    </tr>\n",
       "  </tbody>\n",
       "</table>\n",
       "</div>"
      ],
      "text/plain": [
       "                                    model  kaggle public scoure(AUC)\n",
       "0  Ensembling(Average of two best models)                    0.82746\n",
       "1                     log re(top 250) xgb                    0.82734\n",
       "2                  normal re(top 250) xgb                    0.82713\n",
       "3          Stacking (logistic Regression)                    0.82310\n",
       "4                    normal (top 250) xgb                    0.81952\n",
       "5                             log ohe xgb                    0.81851\n",
       "6                 normal ohe(top 250) xgb                    0.81560\n",
       "7                                 log xgb                    0.81131"
      ]
     },
     "execution_count": 90,
     "metadata": {
      "tags": []
     },
     "output_type": "execute_result"
    }
   ],
   "source": [
    "result_df = result_df.sort_values(by='kaggle public scoure(AUC)',ascending=False).reset_index(drop=True)\n",
    "result_df"
   ]
  },
  {
   "cell_type": "markdown",
   "metadata": {
    "colab_type": "text",
    "id": "zvmhloKZcdQ0"
   },
   "source": [
    "# **Data interpretability**\n"
   ]
  },
  {
   "cell_type": "code",
   "execution_count": 19,
   "metadata": {
    "colab": {
     "base_uri": "https://localhost:8080/",
     "height": 410
    },
    "colab_type": "code",
    "id": "-qqWtnpMcjjh",
    "outputId": "646b26e8-9a55-47cd-c176-1d35a658431b"
   },
   "outputs": [
    {
     "data": {
      "image/png": "[encoded data removed]",
      "text/plain": [
       "<Figure size 432x432 with 1 Axes>"
      ]
     },
     "metadata": {
      "needs_background": "light",
      "tags": []
     },
     "output_type": "display_data"
    }
   ],
   "source": [
    "#log re top 250\n",
    "#train\n",
    "label = 'log re top 250 xgb'\n",
    "file_name = 'log_train_re_250.pkl'\n",
    "X_train = pd.read_pickle(os.path.join(filepath,file_name))\n",
    "\n",
    "#val\n",
    "file_name = 'log_val_re_250.pkl'\n",
    "X_val = pd.read_pickle(os.path.join(filepath,file_name))\n",
    "\n",
    "#test\n",
    "file_name = 'log_test_re_250.pkl'\n",
    "X_test = pd.read_pickle(os.path.join(filepath,file_name))\n",
    "\n",
    "\n",
    "\n",
    "#model\n",
    "model = xgb.XGBClassifier(n_jobs=-1,\n",
    "                      nthread=-1,\n",
    "                      scale_pos_weight=1,\n",
    "                      learning_rate=0.01,  \n",
    "                      colsample_bytree = 0.6,\n",
    "                      subsample = 0.7,\n",
    "                      objective='binary:logistic', \n",
    "                      n_estimators=945,\n",
    "                      reg_alpha = 0.1,\n",
    "                      max_depth=6,\n",
    "                      gamma=0,\n",
    "                     )\n",
    "X = X_train.append(X_val)\n",
    "#plotting top 20 features with highest imoprtance\n",
    "model.fit(X,y)\n",
    "\n",
    "plot_feature_importance(X,model.feature_importances_,label)"
   ]
  },
  {
   "cell_type": "code",
   "execution_count": 20,
   "metadata": {
    "colab": {
     "base_uri": "https://localhost:8080/",
     "height": 410
    },
    "colab_type": "code",
    "id": "P-NBxVGvi1Xi",
    "outputId": "cf7c2c6f-ea92-4849-f525-2b89c31a20a6"
   },
   "outputs": [
    {
     "data": {
      "image/png": "[encoded data removed]",
      "text/plain": [
       "<Figure size 432x432 with 1 Axes>"
      ]
     },
     "metadata": {
      "needs_background": "light",
      "tags": []
     },
     "output_type": "display_data"
    }
   ],
   "source": [
    "#normal re top 250\n",
    "#train\n",
    "label = \"normal re(top 250) xgb\"\n",
    "#train\n",
    "file_name = 'normal_train_re_250.pkl'\n",
    "X_train = pd.read_pickle(os.path.join(filepath,file_name))\n",
    "\n",
    "#val\n",
    "file_name = 'normal_val_re_250.pkl'\n",
    "X_val = pd.read_pickle(os.path.join(filepath,file_name))\n",
    "\n",
    "#test\n",
    "file_name = 'normal_test_re_250.pkl'\n",
    "X_test = pd.read_pickle(os.path.join(filepath,file_name))\n",
    "\n",
    "\n",
    "#model\n",
    "model = xgb.XGBClassifier(n_jobs=-1,\n",
    "                      nthread=-1,\n",
    "                      scale_pos_weight=1,\n",
    "                      learning_rate=0.01,  \n",
    "                      colsample_bytree = 0.8, \n",
    "                      subsample = 0.7,\n",
    "                      objective='binary:logistic', \n",
    "                      n_estimators=865,\n",
    "                      reg_alpha = 0.3,\n",
    "                      max_depth=5, \n",
    "                      gamma=1,\n",
    "                      random_state=42\n",
    "                     )\n",
    "X = X_train.append(X_val)\n",
    "#plotting top 20 features with highest imoprtance\n",
    "model.fit(X,y)\n",
    "\n",
    "plot_feature_importance(X,model.feature_importances_,label)"
   ]
  },
  {
   "cell_type": "markdown",
   "metadata": {},
   "source": [
    "# **Conclusion**"
   ]
  },
  {
   "cell_type": "markdown",
   "metadata": {},
   "source": [
    "We can see from the result dataframe above that XGB model fitted on Log transformed Response Encoded (top 250 features) dataset and XGB model fitted on Normal response encoded (top 250 features) performed very well. The simple average ensembling of these 2 models were able to achieve a kaggle public AUC score of 0.82746 which would rank in 83rd overall out of 5,115 teams (top 1.6%). These three top models would be in the top 5%.\n",
    "\n",
    "And also from the feature importance plot of the two models of the ensemble used, we can see that in both the models, the common feature which had highest importance was 'var15'(represents 'age') which implies that age is an important factor that determines whether a customer is satisfied or not. "
   ]
  },
  {
   "attachments": {
    "image.png": {
     "image/png": "[encoded data removed]"
    }
   },
   "cell_type": "markdown",
   "metadata": {},
   "source": [
    "![image.png](attachment:image.png)"
   ]
  },
  {
   "attachments": {
    "Screenshot_1.png": {
     "image/png": "[encoded data removed]"
    }
   },
   "cell_type": "markdown",
   "metadata": {},
   "source": [
    "![Screenshot_1.png](attachment:Screenshot_1.png)"
   ]
  }
 ],
 "metadata": {
  "colab": {
   "collapsed_sections": [],
   "name": "Final_ensembling.ipynb",
   "provenance": [],
   "toc_visible": true
  },
  "kernelspec": {
   "display_name": "Python 3",
   "language": "python",
   "name": "python3"
  },
  "language_info": {
   "codemirror_mode": {
    "name": "ipython",
    "version": 3
   },
   "file_extension": ".py",
   "mimetype": "text/x-python",
   "name": "python",
   "nbconvert_exporter": "python",
   "pygments_lexer": "ipython3",
   "version": "3.7.3"
  }
 },
 "nbformat": 4,
 "nbformat_minor": 1
}
