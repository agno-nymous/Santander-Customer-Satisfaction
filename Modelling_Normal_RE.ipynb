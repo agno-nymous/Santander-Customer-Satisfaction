{
  "nbformat": 4,
  "nbformat_minor": 0,
  "metadata": {
    "colab": {
      "name": "Modelling_Normal_RE.ipynb",
      "provenance": [],
      "collapsed_sections": [
        "vvLQsSsVAsUA",
        "uLh2j2XvAxeO",
        "0y9PvYUNX-t2",
        "msPtDUHT0sQN",
        "GZqVnGrga8Tu",
        "xA9bSzUARRZ_",
        "LeV2q75ULzvm",
        "DXPMkhFs0nZp",
        "_EASzpf21O7L",
        "ARz9jBqc1O7c",
        "XGpFgTtG5vny",
        "LECmbx42-V2m"
      ],
      "toc_visible": true,
      "mount_file_id": "1rq84Um8lCPYGC_GfNTm02hG7VTom3oXh",
      "authorship_tag": "ABX9TyO1MPxWaIxklITxKx8ok5Lp",
      "include_colab_link": true
    },
    "kernelspec": {
      "name": "python3",
      "display_name": "Python 3"
    }
  },
  "cells": [
    {
      "cell_type": "markdown",
      "metadata": {
        "id": "view-in-github",
        "colab_type": "text"
      },
      "source": [
        "<a href=\"https://colab.research.google.com/github/ashishthomaschempolil/Santander-Customer-Satisfaction/blob/new_1/Modelling_Normal_RE.ipynb\" target=\"_parent\"><img src=\"https://colab.research.google.com/assets/colab-badge.svg\" alt=\"Open In Colab\"/></a>"
      ]
    },
    {
      "cell_type": "code",
      "metadata": {
        "id": "QVQr_7USbczr",
        "colab_type": "code",
        "colab": {}
      },
      "source": [
        "import warnings\n",
        "warnings.filterwarnings(\"ignore\")\n",
        "import pandas as pd\n",
        "import numpy as np\n",
        "%matplotlib inline\n",
        "import matplotlib.pyplot as plt\n",
        "import seaborn as sns\n",
        "sns.set(palette='muted',style='whitegrid')\n",
        "import sklearn\n",
        "from sklearn import metrics,ensemble,model_selection,linear_model,tree,calibration\n",
        "import xgboost as xgb\n",
        "import lightgbm as lgb\n",
        "import scipy\n",
        "import random\n",
        "from tqdm import tqdm\n",
        "import os\n",
        "np.random.seed(13154)"
      ],
      "execution_count": null,
      "outputs": []
    },
    {
      "cell_type": "code",
      "metadata": {
        "id": "hRB4PxAYa5xu",
        "colab_type": "code",
        "colab": {
          "base_uri": "https://localhost:8080/",
          "height": 221
        },
        "outputId": "697de7be-df62-4270-faca-522d8f8bdbbb"
      },
      "source": [
        "file = [k for k in os.listdir('/content/drive/My Drive/Santander_Customer_Satisfaction') if (('train' in k)|('test' in k))&('X' not in k)] #getting all the necessary files for modelling\n",
        "file"
      ],
      "execution_count": null,
      "outputs": [
        {
          "output_type": "execute_result",
          "data": {
            "text/plain": [
              "['train_Normal.pkl',\n",
              " 'test_Normal.pkl',\n",
              " 'train_Normal with Response encoding.pkl',\n",
              " 'test_Normal with Response encoding.pkl',\n",
              " 'train_Normal with One Hot Encoding.pkl',\n",
              " 'test_Normal with One Hot Encoding.pkl',\n",
              " 'train_Log Transformed.pkl',\n",
              " 'test_Log Transformed.pkl',\n",
              " 'train_Log Transformed with Response encoding.pkl',\n",
              " 'test_Log Transformed with Response encoding.pkl',\n",
              " 'train_Log Transformed with One Hot Encoding.pkl',\n",
              " 'test_Log Transformed with One Hot Encoding.pkl']"
            ]
          },
          "metadata": {
            "tags": []
          },
          "execution_count": 2
        }
      ]
    },
    {
      "cell_type": "code",
      "metadata": {
        "id": "mV0hmG66S7ZC",
        "colab_type": "code",
        "colab": {
          "base_uri": "https://localhost:8080/",
          "height": 34
        },
        "outputId": "197fc266-0d86-40ee-f4c5-132a1bb14e9c"
      },
      "source": [
        "file_path = '/content/drive/My Drive/Santander_Customer_Satisfaction/'\n",
        "train_file = file_path+'train_Normal with Response encoding.pkl' #Normal with RE\n",
        "test_file = file_path+'test_Normal with Response encoding.pkl'\n",
        "dataset= \"Normal with Response Encoding\"\n",
        "train = pd.read_pickle(train_file)\n",
        "test = pd.read_pickle(test_file)\n",
        "X_train = train.drop(['ID','TARGET'],axis=1)\n",
        "y_train = train['TARGET'].values\n",
        "X_test = test.drop('ID',axis=1)\n",
        "del train,test\n",
        "X_train,X_val,y_train,y_val = model_selection.train_test_split(X_train,y_train,stratify=y_train,test_size=0.15)\n",
        "X_train.shape,X_val.shape,X_test.shape"
      ],
      "execution_count": null,
      "outputs": [
        {
          "output_type": "execute_result",
          "data": {
            "text/plain": [
              "((64617, 374), (11403, 374), (75818, 374))"
            ]
          },
          "metadata": {
            "tags": []
          },
          "execution_count": 3
        }
      ]
    },
    {
      "cell_type": "code",
      "metadata": {
        "id": "v4yLi9O_CtFR",
        "colab_type": "code",
        "colab": {}
      },
      "source": [
        "global i\n",
        "i=0\n",
        "def plot_auc(y_true,y_pred,label,dataset=dataset):\n",
        "  \"\"\"\n",
        "  Plots auc curve when y_true and y_pred are given\n",
        "  dataset is string which tells which dataset were used.\n",
        "  label: tells which model was used\n",
        "  If label is a list plots all the auc curve for all labels (here y_pred will be a list of lists )\n",
        "  \"\"\"\n",
        "  \n",
        "  \n",
        "  if (type(label)!=list) & (type(label)!=np.array):\n",
        "    print(\"\\t\\t %s on %s dataset \\t\\t \\n\"%(label,dataset))\n",
        "    fpr,tpr,threshold = metrics.roc_curve(y_true,y_pred) #getting true positive rate, false positive rate\n",
        "    auc = metrics.roc_auc_score(y_true,y_pred) #getting auc score\n",
        "    log_loss = metrics.log_loss(y_true,y_pred) #getting logloss\n",
        "    label_1 = label+' AUC=%.3f'%(auc)\n",
        "\n",
        "    #plotting tpr vs fpr\n",
        "    sns.lineplot(fpr,tpr,label=label_1)\n",
        "    x=np.arange(0,1.1,0.1) #auc=0.5 line \n",
        "    sns.lineplot(x,x,label=\"AUC=0.5\")\n",
        "    plt.title(\"ROC on %s dataset\"%(dataset))\n",
        "    plt.xlabel('False Positive Rate')\n",
        "    plt.ylabel(\"True Positive Rate\")\n",
        "    plt.legend(bbox_to_anchor=(1.05, 1), loc=2, borderaxespad=0.) #legend box outside graph\n",
        "    plt.show()\n",
        "    print(\"The log loss and auc was found to be %.3f and %.3f for %s on %s dataset.\"%(log_loss,auc,label,dataset))\n",
        "    #creating a dataframe of the result\n",
        "    result_dict = {\"Model\":label,'Dataset':dataset,'log_loss':log_loss,'auc':auc}\n",
        "    \n",
        "    return pd.DataFrame(result_dict,index=[i])\n",
        "\n",
        "  else:\n",
        "    plt.figure(figsize=(12,8))\n",
        "    for k,y in enumerate(y_pred):\n",
        "      fpr,tpr,threshold = metrics.roc_curve(y_true,y)\n",
        "      auc = metrics.roc_auc_score(y_true,y)\n",
        "      label_ = label[k]+' AUC=%.3f'%(auc)\n",
        "      #plotting tpr vs fpr\n",
        "      sns.lineplot(fpr,tpr,label=label_)\n",
        "\n",
        "    x=np.arange(0,1.1,0.1)\n",
        "    sns.lineplot(x,x,label=\"AUC=0.5\")\n",
        "    plt.title(\"Combined ROC\")\n",
        "    plt.xlabel('False Positive Rate')\n",
        "    plt.ylabel(\"True Positive Rate\")\n",
        "    plt.legend(bbox_to_anchor=(1.05, 1), loc=2, borderaxespad=0.) #legend box outside graph\n",
        "    plt.show()"
      ],
      "execution_count": null,
      "outputs": []
    },
    {
      "cell_type": "code",
      "metadata": {
        "id": "spCK7X7beIiy",
        "colab_type": "code",
        "colab": {}
      },
      "source": [
        "def find_best_params(model,params,cv=10,n_jobs=-1,X_train=X_train):\n",
        "  \"\"\"\n",
        "  Funcion which implements Random Seacrh CV and returns best model\n",
        "  \"\"\"\n",
        "  random_cv = model_selection.RandomizedSearchCV(model,param_distributions=params,scoring='roc_auc',n_jobs=n_jobs,cv=cv,verbose=2)\n",
        "  random_cv.fit(X_train,y_train)\n",
        "  print(\"The best auc score was %.3f\"%(random_cv.best_score_))\n",
        "  print(\"The best params were: %s\"%(random_cv.best_params_))\n",
        "  return random_cv.best_estimator_"
      ],
      "execution_count": null,
      "outputs": []
    },
    {
      "cell_type": "code",
      "metadata": {
        "id": "9Mho8KPmabxm",
        "colab_type": "code",
        "colab": {}
      },
      "source": [
        "def plot_feature_importance(df,feat_imp,top=20,size=(6,6)):\n",
        "    \"\"\"\n",
        "    getting most important top features if df and feature_importance array is passed\n",
        "    \"\"\"\n",
        "    top_indices = np.argsort(feat_imp)[::-1][:top] #getting the indices with top feature importace\n",
        "    most_important_feat = df.columns[top_indices] #getiing the columns names\n",
        "    plt.figure(figsize=size)\n",
        "    sns.barplot(x=feat_imp[top_indices],y=most_important_feat) #plotting feature importance \n",
        "    plt.title('Feature Importance')\n",
        "    plt.xlabel('Importance')\n",
        "    plt.ylabel(\"Feature names\")\n",
        "    plt.show()"
      ],
      "execution_count": null,
      "outputs": []
    },
    {
      "cell_type": "code",
      "metadata": {
        "id": "VaQtOvkvfNeO",
        "colab_type": "code",
        "colab": {}
      },
      "source": [
        "def get_top_features(df,feat_imp,top=50):\n",
        "  \"\"\"\n",
        "  gets the top features.\n",
        "  if top is of integer dtype it will return top features,\n",
        "  if top is between 0 and 1, it will return features that have at least feature importance value= top\n",
        "  \"\"\"\n",
        "  if (top>0.)&(top<=1.): #getting the features that have feature importance value greater than top\n",
        "    feature_to_consider = [1 if i>=top else 0 for i in feat_imp]\n",
        "    most_important_feat = [i  for i,j in zip(df.columns,feature_to_consider) if (j==1)]#getiing the columns names\n",
        "  else:\n",
        "    top_indices = np.argsort(feat_imp)[::-1][:top] #getting the indices with top feature importace\n",
        "    most_important_feat = df.columns[top_indices] #getiing the columns names\n",
        "  return most_important_feat    "
      ],
      "execution_count": null,
      "outputs": []
    },
    {
      "cell_type": "markdown",
      "metadata": {
        "id": "vvLQsSsVAsUA",
        "colab_type": "text"
      },
      "source": [
        "# Modeling"
      ]
    },
    {
      "cell_type": "markdown",
      "metadata": {
        "id": "uLh2j2XvAxeO",
        "colab_type": "text"
      },
      "source": [
        "# Logistic Regression"
      ]
    },
    {
      "cell_type": "code",
      "metadata": {
        "colab_type": "code",
        "id": "nsbNtvxAYB2O",
        "colab": {}
      },
      "source": [
        "model = linear_model.LogisticRegression(class_weight='balanced')\n",
        "params = {'penalty':['l2','l1'], 'C':[10.**i for i in np.arange(-3,3,1)], \n",
        "          'fit_intercept':[True,False] ,\n",
        "          }\n"
      ],
      "execution_count": null,
      "outputs": []
    },
    {
      "cell_type": "code",
      "metadata": {
        "colab_type": "code",
        "id": "mXTZa5oPYB2R",
        "colab": {
          "base_uri": "https://localhost:8080/",
          "height": 238
        },
        "outputId": "f47fdf92-bb28-475f-be7f-4a30abfa4cbd"
      },
      "source": [
        "%%time\n",
        "find_best_params(model,params)"
      ],
      "execution_count": null,
      "outputs": [
        {
          "output_type": "stream",
          "text": [
            "Fitting 10 folds for each of 10 candidates, totalling 100 fits\n"
          ],
          "name": "stdout"
        },
        {
          "output_type": "stream",
          "text": [
            "[Parallel(n_jobs=-1)]: Using backend LokyBackend with 2 concurrent workers.\n",
            "[Parallel(n_jobs=-1)]: Done  37 tasks      | elapsed:  1.2min\n",
            "[Parallel(n_jobs=-1)]: Done 100 out of 100 | elapsed:  4.0min finished\n"
          ],
          "name": "stderr"
        },
        {
          "output_type": "stream",
          "text": [
            "The best auc score was 0.811\n",
            "The best params were: {'penalty': 'l2', 'fit_intercept': True, 'C': 0.001}\n",
            "CPU times: user 12.7 s, sys: 1.24 s, total: 13.9 s\n",
            "Wall time: 4min 8s\n"
          ],
          "name": "stdout"
        },
        {
          "output_type": "execute_result",
          "data": {
            "text/plain": [
              "LogisticRegression(C=0.001, class_weight='balanced', dual=False,\n",
              "                   fit_intercept=True, intercept_scaling=1, l1_ratio=None,\n",
              "                   max_iter=100, multi_class='auto', n_jobs=None, penalty='l2',\n",
              "                   random_state=None, solver='lbfgs', tol=0.0001, verbose=0,\n",
              "                   warm_start=False)"
            ]
          },
          "metadata": {
            "tags": []
          },
          "execution_count": 9
        }
      ]
    },
    {
      "cell_type": "code",
      "metadata": {
        "colab_type": "code",
        "id": "eYp1oCU5YB2U",
        "colab": {
          "base_uri": "https://localhost:8080/",
          "height": 102
        },
        "outputId": "0c8c8f51-906b-4f00-fd0a-3541e0c2fc82"
      },
      "source": [
        "model = linear_model.LogisticRegression(C=0.001, class_weight='balanced', dual=False,\n",
        "                   fit_intercept=True, intercept_scaling=1, l1_ratio=None,\n",
        "                   max_iter=100, multi_class='auto', n_jobs=-1, penalty='l2',\n",
        "                  solver='lbfgs', tol=0.0001, verbose=0,\n",
        "                   warm_start=False)\n",
        "\n",
        "model.fit(X_train,y_train)"
      ],
      "execution_count": null,
      "outputs": [
        {
          "output_type": "execute_result",
          "data": {
            "text/plain": [
              "LogisticRegression(C=0.001, class_weight='balanced', dual=False,\n",
              "                   fit_intercept=True, intercept_scaling=1, l1_ratio=None,\n",
              "                   max_iter=100, multi_class='auto', n_jobs=-1, penalty='l2',\n",
              "                   random_state=None, solver='lbfgs', tol=0.0001, verbose=0,\n",
              "                   warm_start=False)"
            ]
          },
          "metadata": {
            "tags": []
          },
          "execution_count": 10
        }
      ]
    },
    {
      "cell_type": "code",
      "metadata": {
        "colab_type": "code",
        "id": "DlDUHTI-YB2X",
        "colab": {
          "base_uri": "https://localhost:8080/",
          "height": 352
        },
        "outputId": "38086c28-c524-491a-c8e7-445e76491bae"
      },
      "source": [
        "labels=[] #storing all labels\n",
        "y_preds = [] #storing all y_pred\n",
        "y_pred = model.predict_proba(X_val)[:,1]\n",
        "label=\"Logisic Regression\"\n",
        "labels.append(label)\n",
        "y_preds.append(y_pred)\n",
        "result = plot_auc(y_val,y_pred,label,dataset)\n",
        "result_df = result\n",
        "del result"
      ],
      "execution_count": null,
      "outputs": [
        {
          "output_type": "stream",
          "text": [
            "\t\t Logisic Regression on Normal with Response Encoding dataset \t\t \n",
            "\n"
          ],
          "name": "stdout"
        },
        {
          "output_type": "display_data",
          "data": {
            "image/png": "[encoded data removed]",
            "text/plain": [
              "<Figure size 432x288 with 1 Axes>"
            ]
          },
          "metadata": {
            "tags": [],
            "needs_background": "light"
          }
        },
        {
          "output_type": "stream",
          "text": [
            "The log loss and auc was found to be 0.524 and 0.824 for Logisic Regression on Normal with Response Encoding dataset.\n"
          ],
          "name": "stdout"
        }
      ]
    },
    {
      "cell_type": "code",
      "metadata": {
        "id": "Hh6_qnWsBOVa",
        "colab_type": "code",
        "colab": {
          "base_uri": "https://localhost:8080/",
          "height": 80
        },
        "outputId": "da7b40c8-0585-4c62-e1c1-25b4726ad501"
      },
      "source": [
        "result_df"
      ],
      "execution_count": null,
      "outputs": [
        {
          "output_type": "execute_result",
          "data": {
            "text/html": [
              "<div>\n",
              "<style scoped>\n",
              "    .dataframe tbody tr th:only-of-type {\n",
              "        vertical-align: middle;\n",
              "    }\n",
              "\n",
              "    .dataframe tbody tr th {\n",
              "        vertical-align: top;\n",
              "    }\n",
              "\n",
              "    .dataframe thead th {\n",
              "        text-align: right;\n",
              "    }\n",
              "</style>\n",
              "<table border=\"1\" class=\"dataframe\">\n",
              "  <thead>\n",
              "    <tr style=\"text-align: right;\">\n",
              "      <th></th>\n",
              "      <th>Model</th>\n",
              "      <th>Dataset</th>\n",
              "      <th>log_loss</th>\n",
              "      <th>auc</th>\n",
              "    </tr>\n",
              "  </thead>\n",
              "  <tbody>\n",
              "    <tr>\n",
              "      <th>0</th>\n",
              "      <td>Logisic Regression</td>\n",
              "      <td>Normal with Response Encoding</td>\n",
              "      <td>0.523996</td>\n",
              "      <td>0.823515</td>\n",
              "    </tr>\n",
              "  </tbody>\n",
              "</table>\n",
              "</div>"
            ],
            "text/plain": [
              "                Model                        Dataset  log_loss       auc\n",
              "0  Logisic Regression  Normal with Response Encoding  0.523996  0.823515"
            ]
          },
          "metadata": {
            "tags": []
          },
          "execution_count": 12
        }
      ]
    },
    {
      "cell_type": "markdown",
      "metadata": {
        "id": "0y9PvYUNX-t2",
        "colab_type": "text"
      },
      "source": [
        "# Decision Trees"
      ]
    },
    {
      "cell_type": "code",
      "metadata": {
        "id": "0kVyDscneGv3",
        "colab_type": "code",
        "colab": {}
      },
      "source": [
        "model = tree.DecisionTreeClassifier(class_weight='balanced')\n",
        "params = { \n",
        "          'max_depth':[10,100,500,1000,-1], \n",
        "         'min_samples_split':[2,5,10,100,500], \n",
        "          'min_samples_leaf':[1,3,5,7,10],\n",
        "          'max_leaf_nodes':[100,500,1000,5000,-1] \n",
        "          }\n"
      ],
      "execution_count": null,
      "outputs": []
    },
    {
      "cell_type": "code",
      "metadata": {
        "id": "OWmU9ZdnjHEk",
        "colab_type": "code",
        "colab": {
          "base_uri": "https://localhost:8080/",
          "height": 51
        },
        "outputId": "5e8261c9-6509-45b5-a750-331252f17b20"
      },
      "source": [
        "%%time\n",
        "# find_best_params(model,params)"
      ],
      "execution_count": null,
      "outputs": [
        {
          "output_type": "stream",
          "text": [
            "CPU times: user 3 µs, sys: 0 ns, total: 3 µs\n",
            "Wall time: 7.39 µs\n"
          ],
          "name": "stdout"
        }
      ]
    },
    {
      "cell_type": "code",
      "metadata": {
        "id": "11n9ZcTNirnF",
        "colab_type": "code",
        "colab": {
          "base_uri": "https://localhost:8080/"
        },
        "outputId": "27037a5d-595d-41fd-d2e3-ae577f86ebae"
      },
      "source": [
        "model = tree.DecisionTreeClassifier(ccp_alpha=0.0, class_weight='balanced', criterion='gini',\n",
        "                       max_depth=10, max_features=None, max_leaf_nodes=5000,\n",
        "                       min_impurity_decrease=0.0, min_impurity_split=None,\n",
        "                       min_samples_leaf=5, min_samples_split=5,\n",
        "                       min_weight_fraction_leaf=0.0, presort='deprecated',\n",
        "                      splitter='best')\n",
        "\n",
        "model.fit(X_train,y_train)"
      ],
      "execution_count": null,
      "outputs": [
        {
          "output_type": "execute_result",
          "data": {
            "text/plain": [
              "DecisionTreeClassifier(ccp_alpha=0.0, class_weight='balanced', criterion='gini',\n",
              "                       max_depth=10, max_features=None, max_leaf_nodes=5000,\n",
              "                       min_impurity_decrease=0.0, min_impurity_split=None,\n",
              "                       min_samples_leaf=5, min_samples_split=5,\n",
              "                       min_weight_fraction_leaf=0.0, presort='deprecated',\n",
              "                       random_state=None, splitter='best')"
            ]
          },
          "metadata": {
            "tags": []
          },
          "execution_count": 15
        }
      ]
    },
    {
      "cell_type": "code",
      "metadata": {
        "id": "IqO7PiHUhFIR",
        "colab_type": "code",
        "colab": {
          "base_uri": "https://localhost:8080/"
        },
        "outputId": "22fce3f8-6a34-4b28-8ed8-89271e891de6"
      },
      "source": [
        "cc_model = calibration.CalibratedClassifierCV(model,cv='prefit')\n",
        "cc_model.fit(X_train,y_train)"
      ],
      "execution_count": null,
      "outputs": [
        {
          "output_type": "execute_result",
          "data": {
            "text/plain": [
              "CalibratedClassifierCV(base_estimator=DecisionTreeClassifier(ccp_alpha=0.0,\n",
              "                                                             class_weight='balanced',\n",
              "                                                             criterion='gini',\n",
              "                                                             max_depth=10,\n",
              "                                                             max_features=None,\n",
              "                                                             max_leaf_nodes=5000,\n",
              "                                                             min_impurity_decrease=0.0,\n",
              "                                                             min_impurity_split=None,\n",
              "                                                             min_samples_leaf=5,\n",
              "                                                             min_samples_split=5,\n",
              "                                                             min_weight_fraction_leaf=0.0,\n",
              "                                                             presort='deprecated',\n",
              "                                                             random_state=None,\n",
              "                                                             splitter='best'),\n",
              "                       cv='prefit', method='sigmoid')"
            ]
          },
          "metadata": {
            "tags": []
          },
          "execution_count": 16
        }
      ]
    },
    {
      "cell_type": "code",
      "metadata": {
        "id": "CIxYiOfoih44",
        "colab_type": "code",
        "colab": {
          "base_uri": "https://localhost:8080/"
        },
        "outputId": "05684a6c-bfad-4a0e-88a5-811474b0116f"
      },
      "source": [
        "i+=1\n",
        "y_pred = cc_model.predict_proba(X_val)[:,1]\n",
        "label=\"Decision Tree Classifier\"\n",
        "labels.append(label)\n",
        "y_preds.append(y_pred)\n",
        "result = plot_auc(y_val,y_pred,label)\n",
        "result_df = result_df.append(result)\n",
        "del result"
      ],
      "execution_count": null,
      "outputs": [
        {
          "output_type": "stream",
          "text": [
            "\t\t Decision Tree Classifier on Normal with Response Encoding dataset \t\t \n",
            "\n"
          ],
          "name": "stdout"
        },
        {
          "output_type": "display_data",
          "data": {
            "image/png": "[encoded data removed]",
            "text/plain": [
              "<Figure size 432x288 with 1 Axes>"
            ]
          },
          "metadata": {
            "tags": [],
            "needs_background": "light"
          }
        },
        {
          "output_type": "stream",
          "text": [
            "The log loss and auc was found to be 0.149 and 0.770 for Decision Tree Classifier on Normal with Response Encoding dataset.\n"
          ],
          "name": "stdout"
        }
      ]
    },
    {
      "cell_type": "code",
      "metadata": {
        "id": "qusVRO8HdpHW",
        "colab_type": "code",
        "colab": {
          "base_uri": "https://localhost:8080/"
        },
        "outputId": "19c44146-6058-44bb-a28c-d1d90b0d97cf"
      },
      "source": [
        "result_df"
      ],
      "execution_count": null,
      "outputs": [
        {
          "output_type": "execute_result",
          "data": {
            "text/html": [
              "<div>\n",
              "<style scoped>\n",
              "    .dataframe tbody tr th:only-of-type {\n",
              "        vertical-align: middle;\n",
              "    }\n",
              "\n",
              "    .dataframe tbody tr th {\n",
              "        vertical-align: top;\n",
              "    }\n",
              "\n",
              "    .dataframe thead th {\n",
              "        text-align: right;\n",
              "    }\n",
              "</style>\n",
              "<table border=\"1\" class=\"dataframe\">\n",
              "  <thead>\n",
              "    <tr style=\"text-align: right;\">\n",
              "      <th></th>\n",
              "      <th>Model</th>\n",
              "      <th>Dataset</th>\n",
              "      <th>log_loss</th>\n",
              "      <th>auc</th>\n",
              "    </tr>\n",
              "  </thead>\n",
              "  <tbody>\n",
              "    <tr>\n",
              "      <th>0</th>\n",
              "      <td>Logisic Regression</td>\n",
              "      <td>Normal with Response Encoding</td>\n",
              "      <td>0.523996</td>\n",
              "      <td>0.823515</td>\n",
              "    </tr>\n",
              "    <tr>\n",
              "      <th>1</th>\n",
              "      <td>Decision Tree Classifier</td>\n",
              "      <td>Normal with Response Encoding</td>\n",
              "      <td>0.149110</td>\n",
              "      <td>0.769599</td>\n",
              "    </tr>\n",
              "  </tbody>\n",
              "</table>\n",
              "</div>"
            ],
            "text/plain": [
              "                      Model                        Dataset  log_loss       auc\n",
              "0        Logisic Regression  Normal with Response Encoding  0.523996  0.823515\n",
              "1  Decision Tree Classifier  Normal with Response Encoding  0.149110  0.769599"
            ]
          },
          "metadata": {
            "tags": []
          },
          "execution_count": 18
        }
      ]
    },
    {
      "cell_type": "markdown",
      "metadata": {
        "colab_type": "text",
        "id": "msPtDUHT0sQN"
      },
      "source": [
        "# Random Forest"
      ]
    },
    {
      "cell_type": "code",
      "metadata": {
        "colab_type": "code",
        "id": "OwHc1zRG0sQP",
        "colab": {}
      },
      "source": [
        "model = ensemble.RandomForestClassifier(class_weight='balanced')\n",
        "params = { 'n_estimators':[1000,2000],\n",
        "          'max_depth':[500,1000], \n",
        "         'min_samples_split':[100,500],\n",
        "          'min_samples_leaf':[3,5],\n",
        "          'max_leaf_nodes':[100,500] \n",
        "          }\n"
      ],
      "execution_count": null,
      "outputs": []
    },
    {
      "cell_type": "code",
      "metadata": {
        "colab_type": "code",
        "id": "zDOPEuJy0sQS",
        "colab": {
          "base_uri": "https://localhost:8080/",
          "height": 272
        },
        "outputId": "b114df07-a3c0-4c69-ee3e-8b76f5a346e2"
      },
      "source": [
        "%%time\n",
        "find_best_params(model,params,cv=3)"
      ],
      "execution_count": null,
      "outputs": [
        {
          "output_type": "stream",
          "text": [
            "Fitting 3 folds for each of 10 candidates, totalling 30 fits\n"
          ],
          "name": "stdout"
        },
        {
          "output_type": "stream",
          "text": [
            "[Parallel(n_jobs=-1)]: Using backend LokyBackend with 2 concurrent workers.\n",
            "[Parallel(n_jobs=-1)]: Done  30 out of  30 | elapsed: 75.3min finished\n"
          ],
          "name": "stderr"
        },
        {
          "output_type": "stream",
          "text": [
            "The best auc score was 0.820\n",
            "The best params were: {'n_estimators': 1000, 'min_samples_split': 500, 'min_samples_leaf': 3, 'max_leaf_nodes': 500, 'max_depth': 1000}\n",
            "CPU times: user 3min 21s, sys: 476 ms, total: 3min 22s\n",
            "Wall time: 1h 18min 40s\n"
          ],
          "name": "stdout"
        },
        {
          "output_type": "execute_result",
          "data": {
            "text/plain": [
              "RandomForestClassifier(bootstrap=True, ccp_alpha=0.0, class_weight='balanced',\n",
              "                       criterion='gini', max_depth=1000, max_features='auto',\n",
              "                       max_leaf_nodes=500, max_samples=None,\n",
              "                       min_impurity_decrease=0.0, min_impurity_split=None,\n",
              "                       min_samples_leaf=3, min_samples_split=500,\n",
              "                       min_weight_fraction_leaf=0.0, n_estimators=1000,\n",
              "                       n_jobs=None, oob_score=False, random_state=None,\n",
              "                       verbose=0, warm_start=False)"
            ]
          },
          "metadata": {
            "tags": []
          },
          "execution_count": 13
        }
      ]
    },
    {
      "cell_type": "code",
      "metadata": {
        "colab_type": "code",
        "id": "RBeRKL7R0sQW",
        "colab": {
          "base_uri": "https://localhost:8080/",
          "height": 187
        },
        "outputId": "7365b368-04a5-44cf-94f7-2cee9982325a"
      },
      "source": [
        "model = ensemble.RandomForestClassifier(bootstrap=True, ccp_alpha=0.0, class_weight='balanced',\n",
        "                       criterion='gini', max_depth=1000, max_features='auto',\n",
        "                       max_leaf_nodes=500, max_samples=None,\n",
        "                       min_impurity_decrease=0.0, min_impurity_split=None,\n",
        "                       min_samples_leaf=3, min_samples_split=500,\n",
        "                       min_weight_fraction_leaf=0.0, n_estimators=2000,\n",
        "                       n_jobs=-1, oob_score=False,\n",
        "                       verbose=0, warm_start=False)\n",
        "\n",
        "%time model.fit(X_train,y_train)"
      ],
      "execution_count": null,
      "outputs": [
        {
          "output_type": "stream",
          "text": [
            "CPU times: user 11min 21s, sys: 2.3 s, total: 11min 24s\n",
            "Wall time: 5min 51s\n"
          ],
          "name": "stdout"
        },
        {
          "output_type": "execute_result",
          "data": {
            "text/plain": [
              "RandomForestClassifier(bootstrap=True, ccp_alpha=0.0, class_weight='balanced',\n",
              "                       criterion='gini', max_depth=1000, max_features='auto',\n",
              "                       max_leaf_nodes=500, max_samples=None,\n",
              "                       min_impurity_decrease=0.0, min_impurity_split=None,\n",
              "                       min_samples_leaf=3, min_samples_split=500,\n",
              "                       min_weight_fraction_leaf=0.0, n_estimators=2000,\n",
              "                       n_jobs=-1, oob_score=False, random_state=None, verbose=0,\n",
              "                       warm_start=False)"
            ]
          },
          "metadata": {
            "tags": []
          },
          "execution_count": 16
        }
      ]
    },
    {
      "cell_type": "code",
      "metadata": {
        "colab_type": "code",
        "id": "oJLF56Ts0sQY",
        "colab": {
          "base_uri": "https://localhost:8080/",
          "height": 357
        },
        "outputId": "8c7bd12a-4757-4bd0-e5bf-6c9730197fe7"
      },
      "source": [
        "cc_model = calibration.CalibratedClassifierCV(model,cv='prefit')\n",
        "cc_model.fit(X_train,y_train)"
      ],
      "execution_count": null,
      "outputs": [
        {
          "output_type": "execute_result",
          "data": {
            "text/plain": [
              "CalibratedClassifierCV(base_estimator=RandomForestClassifier(bootstrap=True,\n",
              "                                                             ccp_alpha=0.0,\n",
              "                                                             class_weight='balanced',\n",
              "                                                             criterion='gini',\n",
              "                                                             max_depth=1000,\n",
              "                                                             max_features='auto',\n",
              "                                                             max_leaf_nodes=500,\n",
              "                                                             max_samples=None,\n",
              "                                                             min_impurity_decrease=0.0,\n",
              "                                                             min_impurity_split=None,\n",
              "                                                             min_samples_leaf=3,\n",
              "                                                             min_samples_split=500,\n",
              "                                                             min_weight_fraction_leaf=0.0,\n",
              "                                                             n_estimators=2000,\n",
              "                                                             n_jobs=-1,\n",
              "                                                             oob_score=False,\n",
              "                                                             random_state=None,\n",
              "                                                             verbose=0,\n",
              "                                                             warm_start=False),\n",
              "                       cv='prefit', method='sigmoid')"
            ]
          },
          "metadata": {
            "tags": []
          },
          "execution_count": 17
        }
      ]
    },
    {
      "cell_type": "code",
      "metadata": {
        "colab_type": "code",
        "id": "4Jct69qq0sQa",
        "colab": {
          "base_uri": "https://localhost:8080/",
          "height": 352
        },
        "outputId": "51f5a522-ed96-420b-a0fb-50f10eff9b1f"
      },
      "source": [
        "i+=1\n",
        "y_pred = cc_model.predict_proba(X_val)[:,1]\n",
        "label=\"Random Forest Classifier\"\n",
        "labels.append(label)\n",
        "y_preds.append(y_pred)\n",
        "result = plot_auc(y_val,y_pred,label,dataset)\n",
        "result_df = result_df.append(result)\n",
        "del result"
      ],
      "execution_count": null,
      "outputs": [
        {
          "output_type": "stream",
          "text": [
            "\t\t Random Forest Classifier on Normal with Response Encoding dataset \t\t \n",
            "\n"
          ],
          "name": "stdout"
        },
        {
          "output_type": "display_data",
          "data": {
            "image/png": "[encoded data removed]",
            "text/plain": [
              "<Figure size 432x288 with 1 Axes>"
            ]
          },
          "metadata": {
            "tags": [],
            "needs_background": "light"
          }
        },
        {
          "output_type": "stream",
          "text": [
            "The log loss and auc was found to be 0.137 and 0.836 for Random Forest Classifier on Normal with Response Encoding dataset.\n"
          ],
          "name": "stdout"
        }
      ]
    },
    {
      "cell_type": "code",
      "metadata": {
        "colab_type": "code",
        "id": "0igsmQs_0sQd",
        "colab": {
          "base_uri": "https://localhost:8080/",
          "height": 142
        },
        "outputId": "062f59fc-6fa5-49fe-dbb4-a0f85f1371f7"
      },
      "source": [
        "result_df"
      ],
      "execution_count": null,
      "outputs": [
        {
          "output_type": "execute_result",
          "data": {
            "text/html": [
              "<div>\n",
              "<style scoped>\n",
              "    .dataframe tbody tr th:only-of-type {\n",
              "        vertical-align: middle;\n",
              "    }\n",
              "\n",
              "    .dataframe tbody tr th {\n",
              "        vertical-align: top;\n",
              "    }\n",
              "\n",
              "    .dataframe thead th {\n",
              "        text-align: right;\n",
              "    }\n",
              "</style>\n",
              "<table border=\"1\" class=\"dataframe\">\n",
              "  <thead>\n",
              "    <tr style=\"text-align: right;\">\n",
              "      <th></th>\n",
              "      <th>Model</th>\n",
              "      <th>Dataset</th>\n",
              "      <th>log_loss</th>\n",
              "      <th>auc</th>\n",
              "    </tr>\n",
              "  </thead>\n",
              "  <tbody>\n",
              "    <tr>\n",
              "      <th>0</th>\n",
              "      <td>Logisic Regression</td>\n",
              "      <td>Normal with Response Encoding</td>\n",
              "      <td>0.523996</td>\n",
              "      <td>0.823515</td>\n",
              "    </tr>\n",
              "    <tr>\n",
              "      <th>1</th>\n",
              "      <td>Decision Tree Classifier</td>\n",
              "      <td>Normal with Response Encoding</td>\n",
              "      <td>0.149110</td>\n",
              "      <td>0.769599</td>\n",
              "    </tr>\n",
              "    <tr>\n",
              "      <th>2</th>\n",
              "      <td>Random Forest Classifier</td>\n",
              "      <td>Normal with Response Encoding</td>\n",
              "      <td>0.136829</td>\n",
              "      <td>0.836315</td>\n",
              "    </tr>\n",
              "  </tbody>\n",
              "</table>\n",
              "</div>"
            ],
            "text/plain": [
              "                      Model                        Dataset  log_loss       auc\n",
              "0        Logisic Regression  Normal with Response Encoding  0.523996  0.823515\n",
              "1  Decision Tree Classifier  Normal with Response Encoding  0.149110  0.769599\n",
              "2  Random Forest Classifier  Normal with Response Encoding  0.136829  0.836315"
            ]
          },
          "metadata": {
            "tags": []
          },
          "execution_count": 24
        }
      ]
    },
    {
      "cell_type": "markdown",
      "metadata": {
        "id": "GZqVnGrga8Tu",
        "colab_type": "text"
      },
      "source": [
        "# Selecting top features"
      ]
    },
    {
      "cell_type": "code",
      "metadata": {
        "id": "tFB132azbBQS",
        "colab_type": "code",
        "colab": {
          "base_uri": "https://localhost:8080/",
          "height": 736
        },
        "outputId": "fee45316-56db-40f4-fea8-346ce448d79d"
      },
      "source": [
        "plot_feature_importance(X_train,model.feature_importances_,top=50,size=(7,12))"
      ],
      "execution_count": null,
      "outputs": [
        {
          "output_type": "display_data",
          "data": {
            "image/png": "[encoded data removed]",
            "text/plain": [
              "<Figure size 504x864 with 1 Axes>"
            ]
          },
          "metadata": {
            "tags": [],
            "needs_background": "light"
          }
        }
      ]
    },
    {
      "cell_type": "markdown",
      "metadata": {
        "id": "XxwkRX5gnXWi",
        "colab_type": "text"
      },
      "source": [
        "We will create new datasets with less features."
      ]
    },
    {
      "cell_type": "code",
      "metadata": {
        "id": "CfArYVshrZNh",
        "colab_type": "code",
        "colab": {
          "base_uri": "https://localhost:8080/",
          "height": 34
        },
        "outputId": "2b1b60ee-54b9-4b04-f033-c9d3aeab7b83"
      },
      "source": [
        "#getting top k features\n",
        "top=250\n",
        "features = get_top_features(X_train,model.feature_importances_,top=top)\n",
        "print(\"Taking top %i features\"%(top))\n",
        "X_train_200 = X_train[features].copy()\n",
        "X_val_200 = X_val[features].copy()\n",
        "X_test_200 = X_test[features].copy()"
      ],
      "execution_count": null,
      "outputs": [
        {
          "output_type": "stream",
          "text": [
            "Taking top 250 features\n"
          ],
          "name": "stdout"
        }
      ]
    },
    {
      "cell_type": "markdown",
      "metadata": {
        "colab_type": "text",
        "id": "xA9bSzUARRZ_"
      },
      "source": [
        "# XGB Classifier"
      ]
    },
    {
      "cell_type": "code",
      "metadata": {
        "colab_type": "code",
        "id": "3UWwclfyRRaC",
        "colab": {}
      },
      "source": [
        "model = xgb.XGBClassifier(n_jobs=-1,\n",
        "                      nthread=-1,\n",
        "                      scale_pos_weight=1,\n",
        "                      learning_rate=0.02,  \n",
        "                      colsample_bytree = 0.5,\n",
        "                      subsample = 0.9,\n",
        "                      objective='binary:logistic', \n",
        "                      n_estimators=301,\n",
        "                      reg_alpha = 0.3,\n",
        "                      max_depth=5, \n",
        "                      gamma=5,\n",
        "                      random_state=42\n",
        "                     )\n"
      ],
      "execution_count": null,
      "outputs": []
    },
    {
      "cell_type": "code",
      "metadata": {
        "id": "T0CEyW37Dai9",
        "colab_type": "code",
        "colab": {
          "base_uri": "https://localhost:8080/",
          "height": 1000
        },
        "outputId": "3f158cb4-0845-464f-d1ba-ae1a1af3c308"
      },
      "source": [
        "#https://towardsdatascience.com/fine-tuning-xgboost-in-python-like-a-boss-b4543ed8b1e\n",
        "\"\"\"\n",
        "manually changed each parameters 1 by 1 and compared the validation auc\n",
        "and selected the best parameter value\n",
        "\"\"\"\n",
        "eval_metric = ['auc','error']\n",
        "%time model.fit(X_train,y_train,eval_set=[(X_val,y_val)],eval_metric=eval_metric,verbose=True)"
      ],
      "execution_count": null,
      "outputs": [
        {
          "output_type": "stream",
          "text": [
            "[0]\tvalidation_0-auc:0.808495\tvalidation_0-error:0.039551\n",
            "[1]\tvalidation_0-auc:0.810294\tvalidation_0-error:0.039551\n",
            "[2]\tvalidation_0-auc:0.81366\tvalidation_0-error:0.039551\n",
            "[3]\tvalidation_0-auc:0.815861\tvalidation_0-error:0.039551\n",
            "[4]\tvalidation_0-auc:0.815493\tvalidation_0-error:0.039551\n",
            "[5]\tvalidation_0-auc:0.819946\tvalidation_0-error:0.039551\n",
            "[6]\tvalidation_0-auc:0.818774\tvalidation_0-error:0.039551\n",
            "[7]\tvalidation_0-auc:0.818047\tvalidation_0-error:0.039551\n",
            "[8]\tvalidation_0-auc:0.817864\tvalidation_0-error:0.039551\n",
            "[9]\tvalidation_0-auc:0.819897\tvalidation_0-error:0.039551\n",
            "[10]\tvalidation_0-auc:0.81771\tvalidation_0-error:0.039551\n",
            "[11]\tvalidation_0-auc:0.820205\tvalidation_0-error:0.039551\n",
            "[12]\tvalidation_0-auc:0.820502\tvalidation_0-error:0.039551\n",
            "[13]\tvalidation_0-auc:0.821995\tvalidation_0-error:0.039551\n",
            "[14]\tvalidation_0-auc:0.822118\tvalidation_0-error:0.039551\n",
            "[15]\tvalidation_0-auc:0.824068\tvalidation_0-error:0.039551\n",
            "[16]\tvalidation_0-auc:0.822585\tvalidation_0-error:0.039551\n",
            "[17]\tvalidation_0-auc:0.823451\tvalidation_0-error:0.039551\n",
            "[18]\tvalidation_0-auc:0.823644\tvalidation_0-error:0.039551\n",
            "[19]\tvalidation_0-auc:0.823173\tvalidation_0-error:0.039551\n",
            "[20]\tvalidation_0-auc:0.822466\tvalidation_0-error:0.039551\n",
            "[21]\tvalidation_0-auc:0.823177\tvalidation_0-error:0.039551\n",
            "[22]\tvalidation_0-auc:0.823359\tvalidation_0-error:0.039551\n",
            "[23]\tvalidation_0-auc:0.823537\tvalidation_0-error:0.039551\n",
            "[24]\tvalidation_0-auc:0.823866\tvalidation_0-error:0.039551\n",
            "[25]\tvalidation_0-auc:0.823872\tvalidation_0-error:0.039551\n",
            "[26]\tvalidation_0-auc:0.823551\tvalidation_0-error:0.039551\n",
            "[27]\tvalidation_0-auc:0.823646\tvalidation_0-error:0.039551\n",
            "[28]\tvalidation_0-auc:0.82497\tvalidation_0-error:0.039551\n",
            "[29]\tvalidation_0-auc:0.825182\tvalidation_0-error:0.039551\n",
            "[30]\tvalidation_0-auc:0.82505\tvalidation_0-error:0.039551\n",
            "[31]\tvalidation_0-auc:0.82509\tvalidation_0-error:0.039551\n",
            "[32]\tvalidation_0-auc:0.824789\tvalidation_0-error:0.039551\n",
            "[33]\tvalidation_0-auc:0.825102\tvalidation_0-error:0.039551\n",
            "[34]\tvalidation_0-auc:0.82478\tvalidation_0-error:0.039551\n",
            "[35]\tvalidation_0-auc:0.825454\tvalidation_0-error:0.039551\n",
            "[36]\tvalidation_0-auc:0.824934\tvalidation_0-error:0.039551\n",
            "[37]\tvalidation_0-auc:0.825259\tvalidation_0-error:0.039551\n",
            "[38]\tvalidation_0-auc:0.82527\tvalidation_0-error:0.039551\n",
            "[39]\tvalidation_0-auc:0.825285\tvalidation_0-error:0.039551\n",
            "[40]\tvalidation_0-auc:0.824697\tvalidation_0-error:0.039551\n",
            "[41]\tvalidation_0-auc:0.824437\tvalidation_0-error:0.039551\n",
            "[42]\tvalidation_0-auc:0.824922\tvalidation_0-error:0.039551\n",
            "[43]\tvalidation_0-auc:0.824837\tvalidation_0-error:0.039551\n",
            "[44]\tvalidation_0-auc:0.82603\tvalidation_0-error:0.039551\n",
            "[45]\tvalidation_0-auc:0.826818\tvalidation_0-error:0.039551\n",
            "[46]\tvalidation_0-auc:0.827084\tvalidation_0-error:0.039551\n",
            "[47]\tvalidation_0-auc:0.82738\tvalidation_0-error:0.039551\n",
            "[48]\tvalidation_0-auc:0.827452\tvalidation_0-error:0.039551\n",
            "[49]\tvalidation_0-auc:0.827421\tvalidation_0-error:0.039551\n",
            "[50]\tvalidation_0-auc:0.827958\tvalidation_0-error:0.039551\n",
            "[51]\tvalidation_0-auc:0.828341\tvalidation_0-error:0.039551\n",
            "[52]\tvalidation_0-auc:0.828001\tvalidation_0-error:0.039551\n",
            "[53]\tvalidation_0-auc:0.828216\tvalidation_0-error:0.039551\n",
            "[54]\tvalidation_0-auc:0.828387\tvalidation_0-error:0.039551\n",
            "[55]\tvalidation_0-auc:0.828123\tvalidation_0-error:0.039551\n",
            "[56]\tvalidation_0-auc:0.828346\tvalidation_0-error:0.039551\n",
            "[57]\tvalidation_0-auc:0.828617\tvalidation_0-error:0.039551\n",
            "[58]\tvalidation_0-auc:0.828353\tvalidation_0-error:0.039551\n",
            "[59]\tvalidation_0-auc:0.828681\tvalidation_0-error:0.039551\n",
            "[60]\tvalidation_0-auc:0.828711\tvalidation_0-error:0.039551\n",
            "[61]\tvalidation_0-auc:0.829128\tvalidation_0-error:0.039551\n",
            "[62]\tvalidation_0-auc:0.82992\tvalidation_0-error:0.039551\n",
            "[63]\tvalidation_0-auc:0.829949\tvalidation_0-error:0.039551\n",
            "[64]\tvalidation_0-auc:0.830168\tvalidation_0-error:0.039551\n",
            "[65]\tvalidation_0-auc:0.830214\tvalidation_0-error:0.039551\n",
            "[66]\tvalidation_0-auc:0.830805\tvalidation_0-error:0.039551\n",
            "[67]\tvalidation_0-auc:0.83111\tvalidation_0-error:0.039551\n",
            "[68]\tvalidation_0-auc:0.831255\tvalidation_0-error:0.039551\n",
            "[69]\tvalidation_0-auc:0.831025\tvalidation_0-error:0.039551\n",
            "[70]\tvalidation_0-auc:0.83143\tvalidation_0-error:0.039551\n",
            "[71]\tvalidation_0-auc:0.831802\tvalidation_0-error:0.039551\n",
            "[72]\tvalidation_0-auc:0.831777\tvalidation_0-error:0.039551\n",
            "[73]\tvalidation_0-auc:0.831829\tvalidation_0-error:0.039551\n",
            "[74]\tvalidation_0-auc:0.831964\tvalidation_0-error:0.039551\n",
            "[75]\tvalidation_0-auc:0.832187\tvalidation_0-error:0.039551\n",
            "[76]\tvalidation_0-auc:0.832346\tvalidation_0-error:0.039551\n",
            "[77]\tvalidation_0-auc:0.832293\tvalidation_0-error:0.039551\n",
            "[78]\tvalidation_0-auc:0.83277\tvalidation_0-error:0.039551\n",
            "[79]\tvalidation_0-auc:0.832578\tvalidation_0-error:0.039551\n",
            "[80]\tvalidation_0-auc:0.832958\tvalidation_0-error:0.039551\n",
            "[81]\tvalidation_0-auc:0.833233\tvalidation_0-error:0.039551\n",
            "[82]\tvalidation_0-auc:0.833312\tvalidation_0-error:0.039551\n",
            "[83]\tvalidation_0-auc:0.833081\tvalidation_0-error:0.039551\n",
            "[84]\tvalidation_0-auc:0.833123\tvalidation_0-error:0.039551\n",
            "[85]\tvalidation_0-auc:0.833139\tvalidation_0-error:0.039551\n",
            "[86]\tvalidation_0-auc:0.833318\tvalidation_0-error:0.039551\n",
            "[87]\tvalidation_0-auc:0.833137\tvalidation_0-error:0.039551\n",
            "[88]\tvalidation_0-auc:0.833691\tvalidation_0-error:0.039551\n",
            "[89]\tvalidation_0-auc:0.833322\tvalidation_0-error:0.039551\n",
            "[90]\tvalidation_0-auc:0.833834\tvalidation_0-error:0.039551\n",
            "[91]\tvalidation_0-auc:0.834009\tvalidation_0-error:0.039551\n",
            "[92]\tvalidation_0-auc:0.833944\tvalidation_0-error:0.039551\n",
            "[93]\tvalidation_0-auc:0.834016\tvalidation_0-error:0.039551\n",
            "[94]\tvalidation_0-auc:0.833996\tvalidation_0-error:0.039551\n",
            "[95]\tvalidation_0-auc:0.834073\tvalidation_0-error:0.039551\n",
            "[96]\tvalidation_0-auc:0.834095\tvalidation_0-error:0.039551\n",
            "[97]\tvalidation_0-auc:0.83387\tvalidation_0-error:0.039551\n",
            "[98]\tvalidation_0-auc:0.83386\tvalidation_0-error:0.039551\n",
            "[99]\tvalidation_0-auc:0.834023\tvalidation_0-error:0.039551\n",
            "[100]\tvalidation_0-auc:0.833919\tvalidation_0-error:0.039551\n",
            "[101]\tvalidation_0-auc:0.834134\tvalidation_0-error:0.039551\n",
            "[102]\tvalidation_0-auc:0.834484\tvalidation_0-error:0.039551\n",
            "[103]\tvalidation_0-auc:0.834167\tvalidation_0-error:0.039551\n",
            "[104]\tvalidation_0-auc:0.834053\tvalidation_0-error:0.039551\n",
            "[105]\tvalidation_0-auc:0.833898\tvalidation_0-error:0.039551\n",
            "[106]\tvalidation_0-auc:0.83399\tvalidation_0-error:0.039551\n",
            "[107]\tvalidation_0-auc:0.833883\tvalidation_0-error:0.039551\n",
            "[108]\tvalidation_0-auc:0.833918\tvalidation_0-error:0.039551\n",
            "[109]\tvalidation_0-auc:0.833973\tvalidation_0-error:0.039551\n",
            "[110]\tvalidation_0-auc:0.834088\tvalidation_0-error:0.039551\n",
            "[111]\tvalidation_0-auc:0.834242\tvalidation_0-error:0.039551\n",
            "[112]\tvalidation_0-auc:0.834271\tvalidation_0-error:0.039551\n",
            "[113]\tvalidation_0-auc:0.834225\tvalidation_0-error:0.039551\n",
            "[114]\tvalidation_0-auc:0.834143\tvalidation_0-error:0.039551\n",
            "[115]\tvalidation_0-auc:0.834394\tvalidation_0-error:0.039551\n",
            "[116]\tvalidation_0-auc:0.834359\tvalidation_0-error:0.039551\n",
            "[117]\tvalidation_0-auc:0.834625\tvalidation_0-error:0.039551\n",
            "[118]\tvalidation_0-auc:0.834471\tvalidation_0-error:0.039551\n",
            "[119]\tvalidation_0-auc:0.834675\tvalidation_0-error:0.039551\n",
            "[120]\tvalidation_0-auc:0.834515\tvalidation_0-error:0.039551\n",
            "[121]\tvalidation_0-auc:0.834614\tvalidation_0-error:0.039551\n",
            "[122]\tvalidation_0-auc:0.834638\tvalidation_0-error:0.039551\n",
            "[123]\tvalidation_0-auc:0.834307\tvalidation_0-error:0.039551\n",
            "[124]\tvalidation_0-auc:0.834435\tvalidation_0-error:0.039551\n",
            "[125]\tvalidation_0-auc:0.834628\tvalidation_0-error:0.039551\n",
            "[126]\tvalidation_0-auc:0.834449\tvalidation_0-error:0.039551\n",
            "[127]\tvalidation_0-auc:0.834592\tvalidation_0-error:0.039551\n",
            "[128]\tvalidation_0-auc:0.834845\tvalidation_0-error:0.039551\n",
            "[129]\tvalidation_0-auc:0.835123\tvalidation_0-error:0.039551\n",
            "[130]\tvalidation_0-auc:0.83509\tvalidation_0-error:0.039551\n",
            "[131]\tvalidation_0-auc:0.835082\tvalidation_0-error:0.039551\n",
            "[132]\tvalidation_0-auc:0.835205\tvalidation_0-error:0.039551\n",
            "[133]\tvalidation_0-auc:0.835421\tvalidation_0-error:0.039551\n",
            "[134]\tvalidation_0-auc:0.835506\tvalidation_0-error:0.039551\n",
            "[135]\tvalidation_0-auc:0.835535\tvalidation_0-error:0.039551\n",
            "[136]\tvalidation_0-auc:0.835866\tvalidation_0-error:0.039551\n",
            "[137]\tvalidation_0-auc:0.835883\tvalidation_0-error:0.039551\n",
            "[138]\tvalidation_0-auc:0.83606\tvalidation_0-error:0.039551\n",
            "[139]\tvalidation_0-auc:0.836175\tvalidation_0-error:0.039551\n",
            "[140]\tvalidation_0-auc:0.836113\tvalidation_0-error:0.039551\n",
            "[141]\tvalidation_0-auc:0.836044\tvalidation_0-error:0.039551\n",
            "[142]\tvalidation_0-auc:0.836263\tvalidation_0-error:0.039551\n",
            "[143]\tvalidation_0-auc:0.836404\tvalidation_0-error:0.039551\n",
            "[144]\tvalidation_0-auc:0.836548\tvalidation_0-error:0.039551\n",
            "[145]\tvalidation_0-auc:0.836918\tvalidation_0-error:0.039551\n",
            "[146]\tvalidation_0-auc:0.836853\tvalidation_0-error:0.039551\n",
            "[147]\tvalidation_0-auc:0.837005\tvalidation_0-error:0.039551\n",
            "[148]\tvalidation_0-auc:0.837285\tvalidation_0-error:0.039551\n",
            "[149]\tvalidation_0-auc:0.83738\tvalidation_0-error:0.039551\n",
            "[150]\tvalidation_0-auc:0.837429\tvalidation_0-error:0.039551\n",
            "[151]\tvalidation_0-auc:0.837792\tvalidation_0-error:0.039551\n",
            "[152]\tvalidation_0-auc:0.837751\tvalidation_0-error:0.039551\n",
            "[153]\tvalidation_0-auc:0.838067\tvalidation_0-error:0.039551\n",
            "[154]\tvalidation_0-auc:0.837956\tvalidation_0-error:0.039551\n",
            "[155]\tvalidation_0-auc:0.83801\tvalidation_0-error:0.039551\n",
            "[156]\tvalidation_0-auc:0.838008\tvalidation_0-error:0.039551\n",
            "[157]\tvalidation_0-auc:0.838043\tvalidation_0-error:0.039551\n",
            "[158]\tvalidation_0-auc:0.838075\tvalidation_0-error:0.039551\n",
            "[159]\tvalidation_0-auc:0.838141\tvalidation_0-error:0.039551\n",
            "[160]\tvalidation_0-auc:0.838101\tvalidation_0-error:0.039551\n",
            "[161]\tvalidation_0-auc:0.838011\tvalidation_0-error:0.039551\n",
            "[162]\tvalidation_0-auc:0.837935\tvalidation_0-error:0.039551\n",
            "[163]\tvalidation_0-auc:0.837996\tvalidation_0-error:0.039551\n",
            "[164]\tvalidation_0-auc:0.838069\tvalidation_0-error:0.039551\n",
            "[165]\tvalidation_0-auc:0.838192\tvalidation_0-error:0.039551\n",
            "[166]\tvalidation_0-auc:0.838171\tvalidation_0-error:0.039551\n",
            "[167]\tvalidation_0-auc:0.838293\tvalidation_0-error:0.039551\n",
            "[168]\tvalidation_0-auc:0.838554\tvalidation_0-error:0.039551\n",
            "[169]\tvalidation_0-auc:0.838463\tvalidation_0-error:0.039551\n",
            "[170]\tvalidation_0-auc:0.838667\tvalidation_0-error:0.039551\n",
            "[171]\tvalidation_0-auc:0.838597\tvalidation_0-error:0.039551\n",
            "[172]\tvalidation_0-auc:0.838739\tvalidation_0-error:0.039551\n",
            "[173]\tvalidation_0-auc:0.838776\tvalidation_0-error:0.039551\n",
            "[174]\tvalidation_0-auc:0.838911\tvalidation_0-error:0.039551\n",
            "[175]\tvalidation_0-auc:0.839068\tvalidation_0-error:0.039551\n",
            "[176]\tvalidation_0-auc:0.839122\tvalidation_0-error:0.039551\n",
            "[177]\tvalidation_0-auc:0.839178\tvalidation_0-error:0.039551\n",
            "[178]\tvalidation_0-auc:0.839419\tvalidation_0-error:0.039551\n",
            "[179]\tvalidation_0-auc:0.839421\tvalidation_0-error:0.039551\n",
            "[180]\tvalidation_0-auc:0.839584\tvalidation_0-error:0.039551\n",
            "[181]\tvalidation_0-auc:0.839683\tvalidation_0-error:0.039551\n",
            "[182]\tvalidation_0-auc:0.839889\tvalidation_0-error:0.039551\n",
            "[183]\tvalidation_0-auc:0.839935\tvalidation_0-error:0.039551\n",
            "[184]\tvalidation_0-auc:0.839973\tvalidation_0-error:0.039551\n",
            "[185]\tvalidation_0-auc:0.840155\tvalidation_0-error:0.039551\n",
            "[186]\tvalidation_0-auc:0.840122\tvalidation_0-error:0.039551\n",
            "[187]\tvalidation_0-auc:0.840092\tvalidation_0-error:0.039551\n",
            "[188]\tvalidation_0-auc:0.840247\tvalidation_0-error:0.039551\n",
            "[189]\tvalidation_0-auc:0.840327\tvalidation_0-error:0.039551\n",
            "[190]\tvalidation_0-auc:0.840439\tvalidation_0-error:0.039551\n",
            "[191]\tvalidation_0-auc:0.84041\tvalidation_0-error:0.039551\n",
            "[192]\tvalidation_0-auc:0.840359\tvalidation_0-error:0.039551\n",
            "[193]\tvalidation_0-auc:0.840418\tvalidation_0-error:0.039551\n",
            "[194]\tvalidation_0-auc:0.840442\tvalidation_0-error:0.039551\n",
            "[195]\tvalidation_0-auc:0.840609\tvalidation_0-error:0.039551\n",
            "[196]\tvalidation_0-auc:0.840785\tvalidation_0-error:0.039551\n",
            "[197]\tvalidation_0-auc:0.840733\tvalidation_0-error:0.039551\n",
            "[198]\tvalidation_0-auc:0.840799\tvalidation_0-error:0.039551\n",
            "[199]\tvalidation_0-auc:0.840816\tvalidation_0-error:0.039551\n",
            "[200]\tvalidation_0-auc:0.840932\tvalidation_0-error:0.039551\n",
            "[201]\tvalidation_0-auc:0.841063\tvalidation_0-error:0.039551\n",
            "[202]\tvalidation_0-auc:0.841073\tvalidation_0-error:0.039551\n",
            "[203]\tvalidation_0-auc:0.841127\tvalidation_0-error:0.039551\n",
            "[204]\tvalidation_0-auc:0.84119\tvalidation_0-error:0.039551\n",
            "[205]\tvalidation_0-auc:0.841337\tvalidation_0-error:0.039551\n",
            "[206]\tvalidation_0-auc:0.841394\tvalidation_0-error:0.039551\n",
            "[207]\tvalidation_0-auc:0.841391\tvalidation_0-error:0.039551\n",
            "[208]\tvalidation_0-auc:0.841417\tvalidation_0-error:0.039551\n",
            "[209]\tvalidation_0-auc:0.841449\tvalidation_0-error:0.039551\n",
            "[210]\tvalidation_0-auc:0.84142\tvalidation_0-error:0.039551\n",
            "[211]\tvalidation_0-auc:0.841408\tvalidation_0-error:0.039551\n",
            "[212]\tvalidation_0-auc:0.841431\tvalidation_0-error:0.039551\n",
            "[213]\tvalidation_0-auc:0.841421\tvalidation_0-error:0.039551\n",
            "[214]\tvalidation_0-auc:0.841494\tvalidation_0-error:0.039551\n",
            "[215]\tvalidation_0-auc:0.841635\tvalidation_0-error:0.039551\n",
            "[216]\tvalidation_0-auc:0.841675\tvalidation_0-error:0.039551\n",
            "[217]\tvalidation_0-auc:0.841789\tvalidation_0-error:0.039551\n",
            "[218]\tvalidation_0-auc:0.841808\tvalidation_0-error:0.039551\n",
            "[219]\tvalidation_0-auc:0.841824\tvalidation_0-error:0.039551\n",
            "[220]\tvalidation_0-auc:0.841655\tvalidation_0-error:0.039551\n",
            "[221]\tvalidation_0-auc:0.841678\tvalidation_0-error:0.039551\n",
            "[222]\tvalidation_0-auc:0.841723\tvalidation_0-error:0.039551\n",
            "[223]\tvalidation_0-auc:0.841814\tvalidation_0-error:0.039551\n",
            "[224]\tvalidation_0-auc:0.842122\tvalidation_0-error:0.039551\n",
            "[225]\tvalidation_0-auc:0.842117\tvalidation_0-error:0.039551\n",
            "[226]\tvalidation_0-auc:0.842309\tvalidation_0-error:0.039551\n",
            "[227]\tvalidation_0-auc:0.842324\tvalidation_0-error:0.039551\n",
            "[228]\tvalidation_0-auc:0.842401\tvalidation_0-error:0.039551\n",
            "[229]\tvalidation_0-auc:0.84251\tvalidation_0-error:0.039551\n",
            "[230]\tvalidation_0-auc:0.842526\tvalidation_0-error:0.039551\n",
            "[231]\tvalidation_0-auc:0.842533\tvalidation_0-error:0.039551\n",
            "[232]\tvalidation_0-auc:0.842569\tvalidation_0-error:0.039551\n",
            "[233]\tvalidation_0-auc:0.842567\tvalidation_0-error:0.039551\n",
            "[234]\tvalidation_0-auc:0.842655\tvalidation_0-error:0.039551\n",
            "[235]\tvalidation_0-auc:0.842655\tvalidation_0-error:0.039551\n",
            "[236]\tvalidation_0-auc:0.842773\tvalidation_0-error:0.039551\n",
            "[237]\tvalidation_0-auc:0.842802\tvalidation_0-error:0.039551\n",
            "[238]\tvalidation_0-auc:0.842837\tvalidation_0-error:0.039551\n",
            "[239]\tvalidation_0-auc:0.842978\tvalidation_0-error:0.039551\n",
            "[240]\tvalidation_0-auc:0.84304\tvalidation_0-error:0.039551\n",
            "[241]\tvalidation_0-auc:0.843046\tvalidation_0-error:0.039551\n",
            "[242]\tvalidation_0-auc:0.842982\tvalidation_0-error:0.039551\n",
            "[243]\tvalidation_0-auc:0.843073\tvalidation_0-error:0.039551\n",
            "[244]\tvalidation_0-auc:0.843037\tvalidation_0-error:0.039551\n",
            "[245]\tvalidation_0-auc:0.843088\tvalidation_0-error:0.039551\n",
            "[246]\tvalidation_0-auc:0.84311\tvalidation_0-error:0.039551\n",
            "[247]\tvalidation_0-auc:0.843219\tvalidation_0-error:0.039551\n",
            "[248]\tvalidation_0-auc:0.84332\tvalidation_0-error:0.039551\n",
            "[249]\tvalidation_0-auc:0.843411\tvalidation_0-error:0.039551\n",
            "[250]\tvalidation_0-auc:0.843352\tvalidation_0-error:0.039551\n",
            "[251]\tvalidation_0-auc:0.843325\tvalidation_0-error:0.039551\n",
            "[252]\tvalidation_0-auc:0.843333\tvalidation_0-error:0.039551\n",
            "[253]\tvalidation_0-auc:0.843341\tvalidation_0-error:0.039551\n",
            "[254]\tvalidation_0-auc:0.843415\tvalidation_0-error:0.039551\n",
            "[255]\tvalidation_0-auc:0.843514\tvalidation_0-error:0.039551\n",
            "[256]\tvalidation_0-auc:0.843468\tvalidation_0-error:0.039551\n",
            "[257]\tvalidation_0-auc:0.84347\tvalidation_0-error:0.039551\n",
            "[258]\tvalidation_0-auc:0.843448\tvalidation_0-error:0.039551\n",
            "[259]\tvalidation_0-auc:0.843469\tvalidation_0-error:0.039551\n",
            "[260]\tvalidation_0-auc:0.843574\tvalidation_0-error:0.039551\n",
            "[261]\tvalidation_0-auc:0.843805\tvalidation_0-error:0.039551\n",
            "[262]\tvalidation_0-auc:0.843797\tvalidation_0-error:0.039551\n",
            "[263]\tvalidation_0-auc:0.843773\tvalidation_0-error:0.039551\n",
            "[264]\tvalidation_0-auc:0.84382\tvalidation_0-error:0.039551\n",
            "[265]\tvalidation_0-auc:0.843815\tvalidation_0-error:0.039551\n",
            "[266]\tvalidation_0-auc:0.843861\tvalidation_0-error:0.039551\n",
            "[267]\tvalidation_0-auc:0.843976\tvalidation_0-error:0.039551\n",
            "[268]\tvalidation_0-auc:0.843936\tvalidation_0-error:0.039551\n",
            "[269]\tvalidation_0-auc:0.843994\tvalidation_0-error:0.039551\n",
            "[270]\tvalidation_0-auc:0.84408\tvalidation_0-error:0.039551\n",
            "[271]\tvalidation_0-auc:0.844085\tvalidation_0-error:0.039551\n",
            "[272]\tvalidation_0-auc:0.844056\tvalidation_0-error:0.039551\n",
            "[273]\tvalidation_0-auc:0.844111\tvalidation_0-error:0.039551\n",
            "[274]\tvalidation_0-auc:0.844161\tvalidation_0-error:0.039551\n",
            "[275]\tvalidation_0-auc:0.844236\tvalidation_0-error:0.039551\n",
            "[276]\tvalidation_0-auc:0.844294\tvalidation_0-error:0.039551\n",
            "[277]\tvalidation_0-auc:0.844283\tvalidation_0-error:0.039551\n",
            "[278]\tvalidation_0-auc:0.844367\tvalidation_0-error:0.039551\n",
            "[279]\tvalidation_0-auc:0.844373\tvalidation_0-error:0.039551\n",
            "[280]\tvalidation_0-auc:0.844531\tvalidation_0-error:0.039551\n",
            "[281]\tvalidation_0-auc:0.844573\tvalidation_0-error:0.039551\n",
            "[282]\tvalidation_0-auc:0.844587\tvalidation_0-error:0.039551\n",
            "[283]\tvalidation_0-auc:0.844636\tvalidation_0-error:0.039551\n",
            "[284]\tvalidation_0-auc:0.844734\tvalidation_0-error:0.039551\n",
            "[285]\tvalidation_0-auc:0.844755\tvalidation_0-error:0.039551\n",
            "[286]\tvalidation_0-auc:0.844802\tvalidation_0-error:0.039551\n",
            "[287]\tvalidation_0-auc:0.844763\tvalidation_0-error:0.039551\n",
            "[288]\tvalidation_0-auc:0.844816\tvalidation_0-error:0.039551\n",
            "[289]\tvalidation_0-auc:0.844784\tvalidation_0-error:0.039551\n",
            "[290]\tvalidation_0-auc:0.844799\tvalidation_0-error:0.039551\n",
            "[291]\tvalidation_0-auc:0.844765\tvalidation_0-error:0.039551\n",
            "[292]\tvalidation_0-auc:0.844782\tvalidation_0-error:0.039551\n",
            "[293]\tvalidation_0-auc:0.844832\tvalidation_0-error:0.039551\n",
            "[294]\tvalidation_0-auc:0.844906\tvalidation_0-error:0.039551\n",
            "[295]\tvalidation_0-auc:0.844821\tvalidation_0-error:0.039551\n",
            "[296]\tvalidation_0-auc:0.844969\tvalidation_0-error:0.039551\n",
            "[297]\tvalidation_0-auc:0.845004\tvalidation_0-error:0.039551\n",
            "[298]\tvalidation_0-auc:0.845053\tvalidation_0-error:0.039551\n",
            "[299]\tvalidation_0-auc:0.845045\tvalidation_0-error:0.039551\n",
            "[300]\tvalidation_0-auc:0.845052\tvalidation_0-error:0.039551\n",
            "CPU times: user 4min 1s, sys: 992 ms, total: 4min 2s\n",
            "Wall time: 2min 5s\n"
          ],
          "name": "stdout"
        },
        {
          "output_type": "execute_result",
          "data": {
            "text/plain": [
              "XGBClassifier(base_score=0.5, booster='gbtree', colsample_bylevel=1,\n",
              "              colsample_bynode=1, colsample_bytree=0.5, gamma=5,\n",
              "              learning_rate=0.02, max_delta_step=0, max_depth=5,\n",
              "              min_child_weight=1, missing=None, n_estimators=301, n_jobs=-1,\n",
              "              nthread=-1, objective='binary:logistic', random_state=0,\n",
              "              reg_alpha=0.3, reg_lambda=1, scale_pos_weight=1, seed=None,\n",
              "              silent=None, subsample=0.9, verbosity=1)"
            ]
          },
          "metadata": {
            "tags": []
          },
          "execution_count": 28
        }
      ]
    },
    {
      "cell_type": "code",
      "metadata": {
        "colab_type": "code",
        "id": "q3LRv6T8RRaN",
        "colab": {
          "base_uri": "https://localhost:8080/",
          "height": 352
        },
        "outputId": "408e999b-73d8-4541-a2d9-4d836a644105"
      },
      "source": [
        "y_pred = model.predict_proba(X_val)[:,1]\n",
        "label=\"XGBoost Classifer\"\n",
        "labels.append(label)\n",
        "y_preds.append(y_pred)\n",
        "i+=1\n",
        "result = plot_auc(y_val,y_pred,label)\n",
        "result_df = result_df.append(result)\n",
        "del result"
      ],
      "execution_count": null,
      "outputs": [
        {
          "output_type": "stream",
          "text": [
            "\t\t XGBoost Classifer on Normal with Response Encoding dataset \t\t \n",
            "\n"
          ],
          "name": "stdout"
        },
        {
          "output_type": "display_data",
          "data": {
            "image/png": "[encoded data removed]",
            "text/plain": [
              "<Figure size 432x288 with 1 Axes>"
            ]
          },
          "metadata": {
            "tags": [],
            "needs_background": "light"
          }
        },
        {
          "output_type": "stream",
          "text": [
            "The log loss and auc was found to be 0.134 and 0.845 for XGBoost Classifer on Normal with Response Encoding dataset.\n"
          ],
          "name": "stdout"
        }
      ]
    },
    {
      "cell_type": "code",
      "metadata": {
        "colab_type": "code",
        "id": "qUwaU5nuRRaR",
        "colab": {
          "base_uri": "https://localhost:8080/",
          "height": 173
        },
        "outputId": "31155738-e818-45f1-ad0b-10dd8567e491"
      },
      "source": [
        "result_df"
      ],
      "execution_count": null,
      "outputs": [
        {
          "output_type": "execute_result",
          "data": {
            "text/html": [
              "<div>\n",
              "<style scoped>\n",
              "    .dataframe tbody tr th:only-of-type {\n",
              "        vertical-align: middle;\n",
              "    }\n",
              "\n",
              "    .dataframe tbody tr th {\n",
              "        vertical-align: top;\n",
              "    }\n",
              "\n",
              "    .dataframe thead th {\n",
              "        text-align: right;\n",
              "    }\n",
              "</style>\n",
              "<table border=\"1\" class=\"dataframe\">\n",
              "  <thead>\n",
              "    <tr style=\"text-align: right;\">\n",
              "      <th></th>\n",
              "      <th>Model</th>\n",
              "      <th>Dataset</th>\n",
              "      <th>log_loss</th>\n",
              "      <th>auc</th>\n",
              "    </tr>\n",
              "  </thead>\n",
              "  <tbody>\n",
              "    <tr>\n",
              "      <th>0</th>\n",
              "      <td>Logisic Regression</td>\n",
              "      <td>Normal with Response Encoding</td>\n",
              "      <td>0.523996</td>\n",
              "      <td>0.823515</td>\n",
              "    </tr>\n",
              "    <tr>\n",
              "      <th>1</th>\n",
              "      <td>Decision Tree Classifier</td>\n",
              "      <td>Normal with Response Encoding</td>\n",
              "      <td>0.149110</td>\n",
              "      <td>0.769599</td>\n",
              "    </tr>\n",
              "    <tr>\n",
              "      <th>2</th>\n",
              "      <td>Random Forest Classifier</td>\n",
              "      <td>Normal with Response Encoding</td>\n",
              "      <td>0.136829</td>\n",
              "      <td>0.836315</td>\n",
              "    </tr>\n",
              "    <tr>\n",
              "      <th>3</th>\n",
              "      <td>XGBoost Classifer</td>\n",
              "      <td>Normal with Response Encoding</td>\n",
              "      <td>0.133739</td>\n",
              "      <td>0.845052</td>\n",
              "    </tr>\n",
              "  </tbody>\n",
              "</table>\n",
              "</div>"
            ],
            "text/plain": [
              "                      Model                        Dataset  log_loss       auc\n",
              "0        Logisic Regression  Normal with Response Encoding  0.523996  0.823515\n",
              "1  Decision Tree Classifier  Normal with Response Encoding  0.149110  0.769599\n",
              "2  Random Forest Classifier  Normal with Response Encoding  0.136829  0.836315\n",
              "3         XGBoost Classifer  Normal with Response Encoding  0.133739  0.845052"
            ]
          },
          "metadata": {
            "tags": []
          },
          "execution_count": 30
        }
      ]
    },
    {
      "cell_type": "markdown",
      "metadata": {
        "colab_type": "text",
        "id": "LeV2q75ULzvm"
      },
      "source": [
        "# LightGBM Classifier"
      ]
    },
    {
      "cell_type": "code",
      "metadata": {
        "colab_type": "code",
        "id": "32dzyVRQLzvn",
        "colab": {}
      },
      "source": [
        "model = lgb.LGBMClassifier(n_jobs=-1,\n",
        "                      nthread=-1,\n",
        "                      scale_pos_weight=1,\n",
        "                      learning_rate=0.01,  \n",
        "                      colsample_bytree = 0.5,\n",
        "                      subsample = 0.8,\n",
        "                      objective='binary', \n",
        "                      n_estimators=227,\n",
        "                      reg_alpha = 0.3,\n",
        "                      max_depth=7, \n",
        "                      gamma=5,\n",
        "                      random_state=42\n",
        "                     )"
      ],
      "execution_count": null,
      "outputs": []
    },
    {
      "cell_type": "code",
      "metadata": {
        "colab_type": "code",
        "id": "yJS6sV0qLzvr",
        "colab": {
          "base_uri": "https://localhost:8080/",
          "height": 1000
        },
        "outputId": "fa325440-0775-4e4d-9887-94281f8b101d"
      },
      "source": [
        "#https://towardsdatascience.com/fine-tuning-xgboost-in-python-like-a-boss-b4543ed8b1e\n",
        "\"\"\"\n",
        "manually changed each parameters 1 by 1 and compared the validation auc\n",
        "and selected the best parameter value\n",
        "\"\"\"\n",
        "eval_metric = ['auc','error']\n",
        "%time model.fit(X_train,y_train,eval_set=[(X_val,y_val)],eval_metric=eval_metric,verbose=True)"
      ],
      "execution_count": null,
      "outputs": [
        {
          "output_type": "stream",
          "text": [
            "[1]\tvalid_0's auc: 0.778931\tvalid_0's binary_logloss: 0.16587\n",
            "[2]\tvalid_0's auc: 0.807186\tvalid_0's binary_logloss: 0.165194\n",
            "[3]\tvalid_0's auc: 0.820545\tvalid_0's binary_logloss: 0.164477\n",
            "[4]\tvalid_0's auc: 0.824886\tvalid_0's binary_logloss: 0.163797\n",
            "[5]\tvalid_0's auc: 0.822005\tvalid_0's binary_logloss: 0.163291\n",
            "[6]\tvalid_0's auc: 0.825354\tvalid_0's binary_logloss: 0.162639\n",
            "[7]\tvalid_0's auc: 0.828435\tvalid_0's binary_logloss: 0.162055\n",
            "[8]\tvalid_0's auc: 0.829837\tvalid_0's binary_logloss: 0.16149\n",
            "[9]\tvalid_0's auc: 0.832309\tvalid_0's binary_logloss: 0.160885\n",
            "[10]\tvalid_0's auc: 0.831846\tvalid_0's binary_logloss: 0.160385\n",
            "[11]\tvalid_0's auc: 0.83124\tvalid_0's binary_logloss: 0.159887\n",
            "[12]\tvalid_0's auc: 0.832192\tvalid_0's binary_logloss: 0.159423\n",
            "[13]\tvalid_0's auc: 0.832026\tvalid_0's binary_logloss: 0.159011\n",
            "[14]\tvalid_0's auc: 0.832345\tvalid_0's binary_logloss: 0.158563\n",
            "[15]\tvalid_0's auc: 0.834205\tvalid_0's binary_logloss: 0.158048\n",
            "[16]\tvalid_0's auc: 0.833866\tvalid_0's binary_logloss: 0.157677\n",
            "[17]\tvalid_0's auc: 0.833776\tvalid_0's binary_logloss: 0.157274\n",
            "[18]\tvalid_0's auc: 0.83468\tvalid_0's binary_logloss: 0.156797\n",
            "[19]\tvalid_0's auc: 0.835396\tvalid_0's binary_logloss: 0.156377\n",
            "[20]\tvalid_0's auc: 0.835977\tvalid_0's binary_logloss: 0.155954\n",
            "[21]\tvalid_0's auc: 0.836253\tvalid_0's binary_logloss: 0.15552\n",
            "[22]\tvalid_0's auc: 0.836007\tvalid_0's binary_logloss: 0.15517\n",
            "[23]\tvalid_0's auc: 0.836099\tvalid_0's binary_logloss: 0.15477\n",
            "[24]\tvalid_0's auc: 0.836764\tvalid_0's binary_logloss: 0.154385\n",
            "[25]\tvalid_0's auc: 0.836732\tvalid_0's binary_logloss: 0.154027\n",
            "[26]\tvalid_0's auc: 0.836701\tvalid_0's binary_logloss: 0.153707\n",
            "[27]\tvalid_0's auc: 0.836631\tvalid_0's binary_logloss: 0.153358\n",
            "[28]\tvalid_0's auc: 0.836454\tvalid_0's binary_logloss: 0.153067\n",
            "[29]\tvalid_0's auc: 0.837259\tvalid_0's binary_logloss: 0.15273\n",
            "[30]\tvalid_0's auc: 0.837161\tvalid_0's binary_logloss: 0.152385\n",
            "[31]\tvalid_0's auc: 0.837247\tvalid_0's binary_logloss: 0.152068\n",
            "[32]\tvalid_0's auc: 0.837371\tvalid_0's binary_logloss: 0.151807\n",
            "[33]\tvalid_0's auc: 0.837383\tvalid_0's binary_logloss: 0.151517\n",
            "[34]\tvalid_0's auc: 0.837346\tvalid_0's binary_logloss: 0.151272\n",
            "[35]\tvalid_0's auc: 0.837695\tvalid_0's binary_logloss: 0.150989\n",
            "[36]\tvalid_0's auc: 0.83757\tvalid_0's binary_logloss: 0.150753\n",
            "[37]\tvalid_0's auc: 0.837705\tvalid_0's binary_logloss: 0.150463\n",
            "[38]\tvalid_0's auc: 0.838209\tvalid_0's binary_logloss: 0.150166\n",
            "[39]\tvalid_0's auc: 0.83836\tvalid_0's binary_logloss: 0.149895\n",
            "[40]\tvalid_0's auc: 0.838351\tvalid_0's binary_logloss: 0.149638\n",
            "[41]\tvalid_0's auc: 0.838552\tvalid_0's binary_logloss: 0.149363\n",
            "[42]\tvalid_0's auc: 0.838374\tvalid_0's binary_logloss: 0.14916\n",
            "[43]\tvalid_0's auc: 0.838075\tvalid_0's binary_logloss: 0.148923\n",
            "[44]\tvalid_0's auc: 0.83803\tvalid_0's binary_logloss: 0.148725\n",
            "[45]\tvalid_0's auc: 0.83821\tvalid_0's binary_logloss: 0.148494\n",
            "[46]\tvalid_0's auc: 0.83813\tvalid_0's binary_logloss: 0.148259\n",
            "[47]\tvalid_0's auc: 0.837923\tvalid_0's binary_logloss: 0.14809\n",
            "[48]\tvalid_0's auc: 0.83778\tvalid_0's binary_logloss: 0.147897\n",
            "[49]\tvalid_0's auc: 0.837816\tvalid_0's binary_logloss: 0.147673\n",
            "[50]\tvalid_0's auc: 0.837968\tvalid_0's binary_logloss: 0.147462\n",
            "[51]\tvalid_0's auc: 0.837887\tvalid_0's binary_logloss: 0.147254\n",
            "[52]\tvalid_0's auc: 0.837911\tvalid_0's binary_logloss: 0.147057\n",
            "[53]\tvalid_0's auc: 0.838079\tvalid_0's binary_logloss: 0.146855\n",
            "[54]\tvalid_0's auc: 0.83783\tvalid_0's binary_logloss: 0.146708\n",
            "[55]\tvalid_0's auc: 0.837946\tvalid_0's binary_logloss: 0.146509\n",
            "[56]\tvalid_0's auc: 0.838058\tvalid_0's binary_logloss: 0.146323\n",
            "[57]\tvalid_0's auc: 0.83824\tvalid_0's binary_logloss: 0.146129\n",
            "[58]\tvalid_0's auc: 0.838606\tvalid_0's binary_logloss: 0.145935\n",
            "[59]\tvalid_0's auc: 0.838728\tvalid_0's binary_logloss: 0.145742\n",
            "[60]\tvalid_0's auc: 0.838584\tvalid_0's binary_logloss: 0.14561\n",
            "[61]\tvalid_0's auc: 0.838435\tvalid_0's binary_logloss: 0.145408\n",
            "[62]\tvalid_0's auc: 0.838726\tvalid_0's binary_logloss: 0.145218\n",
            "[63]\tvalid_0's auc: 0.838893\tvalid_0's binary_logloss: 0.14503\n",
            "[64]\tvalid_0's auc: 0.83904\tvalid_0's binary_logloss: 0.14487\n",
            "[65]\tvalid_0's auc: 0.839098\tvalid_0's binary_logloss: 0.144735\n",
            "[66]\tvalid_0's auc: 0.839238\tvalid_0's binary_logloss: 0.144568\n",
            "[67]\tvalid_0's auc: 0.839163\tvalid_0's binary_logloss: 0.14442\n",
            "[68]\tvalid_0's auc: 0.839239\tvalid_0's binary_logloss: 0.144267\n",
            "[69]\tvalid_0's auc: 0.839227\tvalid_0's binary_logloss: 0.144097\n",
            "[70]\tvalid_0's auc: 0.839235\tvalid_0's binary_logloss: 0.143943\n",
            "[71]\tvalid_0's auc: 0.839268\tvalid_0's binary_logloss: 0.143812\n",
            "[72]\tvalid_0's auc: 0.839369\tvalid_0's binary_logloss: 0.143658\n",
            "[73]\tvalid_0's auc: 0.839686\tvalid_0's binary_logloss: 0.143487\n",
            "[74]\tvalid_0's auc: 0.839842\tvalid_0's binary_logloss: 0.143331\n",
            "[75]\tvalid_0's auc: 0.839712\tvalid_0's binary_logloss: 0.143206\n",
            "[76]\tvalid_0's auc: 0.839831\tvalid_0's binary_logloss: 0.143071\n",
            "[77]\tvalid_0's auc: 0.839898\tvalid_0's binary_logloss: 0.142929\n",
            "[78]\tvalid_0's auc: 0.839885\tvalid_0's binary_logloss: 0.14278\n",
            "[79]\tvalid_0's auc: 0.839944\tvalid_0's binary_logloss: 0.142651\n",
            "[80]\tvalid_0's auc: 0.840137\tvalid_0's binary_logloss: 0.142518\n",
            "[81]\tvalid_0's auc: 0.840207\tvalid_0's binary_logloss: 0.142389\n",
            "[82]\tvalid_0's auc: 0.840187\tvalid_0's binary_logloss: 0.142274\n",
            "[83]\tvalid_0's auc: 0.840377\tvalid_0's binary_logloss: 0.142174\n",
            "[84]\tvalid_0's auc: 0.840494\tvalid_0's binary_logloss: 0.142054\n",
            "[85]\tvalid_0's auc: 0.840182\tvalid_0's binary_logloss: 0.141973\n",
            "[86]\tvalid_0's auc: 0.840158\tvalid_0's binary_logloss: 0.141886\n",
            "[87]\tvalid_0's auc: 0.84059\tvalid_0's binary_logloss: 0.141763\n",
            "[88]\tvalid_0's auc: 0.840744\tvalid_0's binary_logloss: 0.141635\n",
            "[89]\tvalid_0's auc: 0.840755\tvalid_0's binary_logloss: 0.141509\n",
            "[90]\tvalid_0's auc: 0.840735\tvalid_0's binary_logloss: 0.141434\n",
            "[91]\tvalid_0's auc: 0.840738\tvalid_0's binary_logloss: 0.141327\n",
            "[92]\tvalid_0's auc: 0.840778\tvalid_0's binary_logloss: 0.141204\n",
            "[93]\tvalid_0's auc: 0.840733\tvalid_0's binary_logloss: 0.141093\n",
            "[94]\tvalid_0's auc: 0.840829\tvalid_0's binary_logloss: 0.140979\n",
            "[95]\tvalid_0's auc: 0.840896\tvalid_0's binary_logloss: 0.140894\n",
            "[96]\tvalid_0's auc: 0.840881\tvalid_0's binary_logloss: 0.140788\n",
            "[97]\tvalid_0's auc: 0.840991\tvalid_0's binary_logloss: 0.140674\n",
            "[98]\tvalid_0's auc: 0.840945\tvalid_0's binary_logloss: 0.140595\n",
            "[99]\tvalid_0's auc: 0.841027\tvalid_0's binary_logloss: 0.140501\n",
            "[100]\tvalid_0's auc: 0.840924\tvalid_0's binary_logloss: 0.140414\n",
            "[101]\tvalid_0's auc: 0.841022\tvalid_0's binary_logloss: 0.140324\n",
            "[102]\tvalid_0's auc: 0.841096\tvalid_0's binary_logloss: 0.140218\n",
            "[103]\tvalid_0's auc: 0.841197\tvalid_0's binary_logloss: 0.140112\n",
            "[104]\tvalid_0's auc: 0.841388\tvalid_0's binary_logloss: 0.140003\n",
            "[105]\tvalid_0's auc: 0.841587\tvalid_0's binary_logloss: 0.139899\n",
            "[106]\tvalid_0's auc: 0.841744\tvalid_0's binary_logloss: 0.139824\n",
            "[107]\tvalid_0's auc: 0.841758\tvalid_0's binary_logloss: 0.139726\n",
            "[108]\tvalid_0's auc: 0.841739\tvalid_0's binary_logloss: 0.139633\n",
            "[109]\tvalid_0's auc: 0.841826\tvalid_0's binary_logloss: 0.139537\n",
            "[110]\tvalid_0's auc: 0.842029\tvalid_0's binary_logloss: 0.13944\n",
            "[111]\tvalid_0's auc: 0.841972\tvalid_0's binary_logloss: 0.139373\n",
            "[112]\tvalid_0's auc: 0.842029\tvalid_0's binary_logloss: 0.139294\n",
            "[113]\tvalid_0's auc: 0.842178\tvalid_0's binary_logloss: 0.139234\n",
            "[114]\tvalid_0's auc: 0.842278\tvalid_0's binary_logloss: 0.139158\n",
            "[115]\tvalid_0's auc: 0.842227\tvalid_0's binary_logloss: 0.139078\n",
            "[116]\tvalid_0's auc: 0.842465\tvalid_0's binary_logloss: 0.138983\n",
            "[117]\tvalid_0's auc: 0.842469\tvalid_0's binary_logloss: 0.138923\n",
            "[118]\tvalid_0's auc: 0.842398\tvalid_0's binary_logloss: 0.138874\n",
            "[119]\tvalid_0's auc: 0.842468\tvalid_0's binary_logloss: 0.138795\n",
            "[120]\tvalid_0's auc: 0.842572\tvalid_0's binary_logloss: 0.138723\n",
            "[121]\tvalid_0's auc: 0.842601\tvalid_0's binary_logloss: 0.138637\n",
            "[122]\tvalid_0's auc: 0.842645\tvalid_0's binary_logloss: 0.138575\n",
            "[123]\tvalid_0's auc: 0.842613\tvalid_0's binary_logloss: 0.13851\n",
            "[124]\tvalid_0's auc: 0.842621\tvalid_0's binary_logloss: 0.138438\n",
            "[125]\tvalid_0's auc: 0.842647\tvalid_0's binary_logloss: 0.138369\n",
            "[126]\tvalid_0's auc: 0.842718\tvalid_0's binary_logloss: 0.138321\n",
            "[127]\tvalid_0's auc: 0.842831\tvalid_0's binary_logloss: 0.138244\n",
            "[128]\tvalid_0's auc: 0.842768\tvalid_0's binary_logloss: 0.138178\n",
            "[129]\tvalid_0's auc: 0.8427\tvalid_0's binary_logloss: 0.138113\n",
            "[130]\tvalid_0's auc: 0.842671\tvalid_0's binary_logloss: 0.138074\n",
            "[131]\tvalid_0's auc: 0.842699\tvalid_0's binary_logloss: 0.138009\n",
            "[132]\tvalid_0's auc: 0.842808\tvalid_0's binary_logloss: 0.137945\n",
            "[133]\tvalid_0's auc: 0.842899\tvalid_0's binary_logloss: 0.137891\n",
            "[134]\tvalid_0's auc: 0.843057\tvalid_0's binary_logloss: 0.137833\n",
            "[135]\tvalid_0's auc: 0.843133\tvalid_0's binary_logloss: 0.137779\n",
            "[136]\tvalid_0's auc: 0.843189\tvalid_0's binary_logloss: 0.137712\n",
            "[137]\tvalid_0's auc: 0.843236\tvalid_0's binary_logloss: 0.137649\n",
            "[138]\tvalid_0's auc: 0.843253\tvalid_0's binary_logloss: 0.137592\n",
            "[139]\tvalid_0's auc: 0.843279\tvalid_0's binary_logloss: 0.137531\n",
            "[140]\tvalid_0's auc: 0.843313\tvalid_0's binary_logloss: 0.137475\n",
            "[141]\tvalid_0's auc: 0.843321\tvalid_0's binary_logloss: 0.137419\n",
            "[142]\tvalid_0's auc: 0.843403\tvalid_0's binary_logloss: 0.137371\n",
            "[143]\tvalid_0's auc: 0.843369\tvalid_0's binary_logloss: 0.137326\n",
            "[144]\tvalid_0's auc: 0.843335\tvalid_0's binary_logloss: 0.137287\n",
            "[145]\tvalid_0's auc: 0.843424\tvalid_0's binary_logloss: 0.137221\n",
            "[146]\tvalid_0's auc: 0.843428\tvalid_0's binary_logloss: 0.13718\n",
            "[147]\tvalid_0's auc: 0.84346\tvalid_0's binary_logloss: 0.137133\n",
            "[148]\tvalid_0's auc: 0.843607\tvalid_0's binary_logloss: 0.137062\n",
            "[149]\tvalid_0's auc: 0.843663\tvalid_0's binary_logloss: 0.137011\n",
            "[150]\tvalid_0's auc: 0.843638\tvalid_0's binary_logloss: 0.136974\n",
            "[151]\tvalid_0's auc: 0.843648\tvalid_0's binary_logloss: 0.136927\n",
            "[152]\tvalid_0's auc: 0.843739\tvalid_0's binary_logloss: 0.136889\n",
            "[153]\tvalid_0's auc: 0.843689\tvalid_0's binary_logloss: 0.136862\n",
            "[154]\tvalid_0's auc: 0.843739\tvalid_0's binary_logloss: 0.136819\n",
            "[155]\tvalid_0's auc: 0.843708\tvalid_0's binary_logloss: 0.136771\n",
            "[156]\tvalid_0's auc: 0.843791\tvalid_0's binary_logloss: 0.136722\n",
            "[157]\tvalid_0's auc: 0.843832\tvalid_0's binary_logloss: 0.136668\n",
            "[158]\tvalid_0's auc: 0.843932\tvalid_0's binary_logloss: 0.136608\n",
            "[159]\tvalid_0's auc: 0.843963\tvalid_0's binary_logloss: 0.136561\n",
            "[160]\tvalid_0's auc: 0.844024\tvalid_0's binary_logloss: 0.136517\n",
            "[161]\tvalid_0's auc: 0.844064\tvalid_0's binary_logloss: 0.13647\n",
            "[162]\tvalid_0's auc: 0.844359\tvalid_0's binary_logloss: 0.136409\n",
            "[163]\tvalid_0's auc: 0.844374\tvalid_0's binary_logloss: 0.136371\n",
            "[164]\tvalid_0's auc: 0.844498\tvalid_0's binary_logloss: 0.136317\n",
            "[165]\tvalid_0's auc: 0.844505\tvalid_0's binary_logloss: 0.136286\n",
            "[166]\tvalid_0's auc: 0.844469\tvalid_0's binary_logloss: 0.13624\n",
            "[167]\tvalid_0's auc: 0.844468\tvalid_0's binary_logloss: 0.136209\n",
            "[168]\tvalid_0's auc: 0.844577\tvalid_0's binary_logloss: 0.136163\n",
            "[169]\tvalid_0's auc: 0.844561\tvalid_0's binary_logloss: 0.136129\n",
            "[170]\tvalid_0's auc: 0.844504\tvalid_0's binary_logloss: 0.136092\n",
            "[171]\tvalid_0's auc: 0.844676\tvalid_0's binary_logloss: 0.13606\n",
            "[172]\tvalid_0's auc: 0.84479\tvalid_0's binary_logloss: 0.136008\n",
            "[173]\tvalid_0's auc: 0.844833\tvalid_0's binary_logloss: 0.135965\n",
            "[174]\tvalid_0's auc: 0.844798\tvalid_0's binary_logloss: 0.135936\n",
            "[175]\tvalid_0's auc: 0.844878\tvalid_0's binary_logloss: 0.1359\n",
            "[176]\tvalid_0's auc: 0.844806\tvalid_0's binary_logloss: 0.135876\n",
            "[177]\tvalid_0's auc: 0.844751\tvalid_0's binary_logloss: 0.135844\n",
            "[178]\tvalid_0's auc: 0.844676\tvalid_0's binary_logloss: 0.135811\n",
            "[179]\tvalid_0's auc: 0.844623\tvalid_0's binary_logloss: 0.135789\n",
            "[180]\tvalid_0's auc: 0.844645\tvalid_0's binary_logloss: 0.135764\n",
            "[181]\tvalid_0's auc: 0.844676\tvalid_0's binary_logloss: 0.135726\n",
            "[182]\tvalid_0's auc: 0.844724\tvalid_0's binary_logloss: 0.135688\n",
            "[183]\tvalid_0's auc: 0.844706\tvalid_0's binary_logloss: 0.135658\n",
            "[184]\tvalid_0's auc: 0.844612\tvalid_0's binary_logloss: 0.135634\n",
            "[185]\tvalid_0's auc: 0.844613\tvalid_0's binary_logloss: 0.135615\n",
            "[186]\tvalid_0's auc: 0.844605\tvalid_0's binary_logloss: 0.135583\n",
            "[187]\tvalid_0's auc: 0.844599\tvalid_0's binary_logloss: 0.135556\n",
            "[188]\tvalid_0's auc: 0.844576\tvalid_0's binary_logloss: 0.135524\n",
            "[189]\tvalid_0's auc: 0.844572\tvalid_0's binary_logloss: 0.135497\n",
            "[190]\tvalid_0's auc: 0.844609\tvalid_0's binary_logloss: 0.135464\n",
            "[191]\tvalid_0's auc: 0.844707\tvalid_0's binary_logloss: 0.135432\n",
            "[192]\tvalid_0's auc: 0.844728\tvalid_0's binary_logloss: 0.135412\n",
            "[193]\tvalid_0's auc: 0.84477\tvalid_0's binary_logloss: 0.135373\n",
            "[194]\tvalid_0's auc: 0.844757\tvalid_0's binary_logloss: 0.135337\n",
            "[195]\tvalid_0's auc: 0.844738\tvalid_0's binary_logloss: 0.135312\n",
            "[196]\tvalid_0's auc: 0.844883\tvalid_0's binary_logloss: 0.135271\n",
            "[197]\tvalid_0's auc: 0.844888\tvalid_0's binary_logloss: 0.135243\n",
            "[198]\tvalid_0's auc: 0.844924\tvalid_0's binary_logloss: 0.135208\n",
            "[199]\tvalid_0's auc: 0.845035\tvalid_0's binary_logloss: 0.135175\n",
            "[200]\tvalid_0's auc: 0.845095\tvalid_0's binary_logloss: 0.135149\n",
            "[201]\tvalid_0's auc: 0.845058\tvalid_0's binary_logloss: 0.135119\n",
            "[202]\tvalid_0's auc: 0.845091\tvalid_0's binary_logloss: 0.135101\n",
            "[203]\tvalid_0's auc: 0.845216\tvalid_0's binary_logloss: 0.135063\n",
            "[204]\tvalid_0's auc: 0.845214\tvalid_0's binary_logloss: 0.135034\n",
            "[205]\tvalid_0's auc: 0.845293\tvalid_0's binary_logloss: 0.135006\n",
            "[206]\tvalid_0's auc: 0.845314\tvalid_0's binary_logloss: 0.134977\n",
            "[207]\tvalid_0's auc: 0.845275\tvalid_0's binary_logloss: 0.134955\n",
            "[208]\tvalid_0's auc: 0.845287\tvalid_0's binary_logloss: 0.134928\n",
            "[209]\tvalid_0's auc: 0.845342\tvalid_0's binary_logloss: 0.134898\n",
            "[210]\tvalid_0's auc: 0.845336\tvalid_0's binary_logloss: 0.134877\n",
            "[211]\tvalid_0's auc: 0.84531\tvalid_0's binary_logloss: 0.134854\n",
            "[212]\tvalid_0's auc: 0.845335\tvalid_0's binary_logloss: 0.134837\n",
            "[213]\tvalid_0's auc: 0.845338\tvalid_0's binary_logloss: 0.134819\n",
            "[214]\tvalid_0's auc: 0.845332\tvalid_0's binary_logloss: 0.134798\n",
            "[215]\tvalid_0's auc: 0.845366\tvalid_0's binary_logloss: 0.134774\n",
            "[216]\tvalid_0's auc: 0.84535\tvalid_0's binary_logloss: 0.134751\n",
            "[217]\tvalid_0's auc: 0.845352\tvalid_0's binary_logloss: 0.134724\n",
            "[218]\tvalid_0's auc: 0.845344\tvalid_0's binary_logloss: 0.134702\n",
            "[219]\tvalid_0's auc: 0.845343\tvalid_0's binary_logloss: 0.134685\n",
            "[220]\tvalid_0's auc: 0.845297\tvalid_0's binary_logloss: 0.134669\n",
            "[221]\tvalid_0's auc: 0.845297\tvalid_0's binary_logloss: 0.134647\n",
            "[222]\tvalid_0's auc: 0.845401\tvalid_0's binary_logloss: 0.13462\n",
            "[223]\tvalid_0's auc: 0.845345\tvalid_0's binary_logloss: 0.134604\n",
            "[224]\tvalid_0's auc: 0.845363\tvalid_0's binary_logloss: 0.134581\n",
            "[225]\tvalid_0's auc: 0.845387\tvalid_0's binary_logloss: 0.134564\n",
            "[226]\tvalid_0's auc: 0.845392\tvalid_0's binary_logloss: 0.134545\n",
            "[227]\tvalid_0's auc: 0.845469\tvalid_0's binary_logloss: 0.13452\n",
            "CPU times: user 37 s, sys: 318 ms, total: 37.3 s\n",
            "Wall time: 20 s\n"
          ],
          "name": "stdout"
        },
        {
          "output_type": "execute_result",
          "data": {
            "text/plain": [
              "LGBMClassifier(boosting_type='gbdt', class_weight=None, colsample_bytree=0.5,\n",
              "               gamma=5, importance_type='split', learning_rate=0.01,\n",
              "               max_depth=7, min_child_samples=20, min_child_weight=0.001,\n",
              "               min_split_gain=0.0, n_estimators=227, n_jobs=-1, nthread=-1,\n",
              "               num_leaves=31, objective='binary', random_state=None,\n",
              "               reg_alpha=0.3, reg_lambda=0.0, scale_pos_weight=1, silent=True,\n",
              "               subsample=0.8, subsample_for_bin=200000, subsample_freq=0)"
            ]
          },
          "metadata": {
            "tags": []
          },
          "execution_count": 32
        }
      ]
    },
    {
      "cell_type": "code",
      "metadata": {
        "colab_type": "code",
        "id": "k_CEadVqLzvy",
        "colab": {
          "base_uri": "https://localhost:8080/",
          "height": 352
        },
        "outputId": "b40ab0ad-aec5-468d-941a-cf0072237e40"
      },
      "source": [
        "y_pred = model.predict_proba(X_val)[:,1]\n",
        "label=\"LightGBM Classifer\"\n",
        "labels.append(label)\n",
        "y_preds.append(y_pred)\n",
        "i+=1\n",
        "result = plot_auc(y_val,y_pred,label)\n",
        "result_df = result_df.append(result)\n",
        "del result"
      ],
      "execution_count": null,
      "outputs": [
        {
          "output_type": "stream",
          "text": [
            "\t\t LightGBM Classifer on Normal with Response Encoding dataset \t\t \n",
            "\n"
          ],
          "name": "stdout"
        },
        {
          "output_type": "display_data",
          "data": {
            "image/png": "[encoded data removed]",
            "text/plain": [
              "<Figure size 432x288 with 1 Axes>"
            ]
          },
          "metadata": {
            "tags": [],
            "needs_background": "light"
          }
        },
        {
          "output_type": "stream",
          "text": [
            "The log loss and auc was found to be 0.135 and 0.845 for LightGBM Classifer on Normal with Response Encoding dataset.\n"
          ],
          "name": "stdout"
        }
      ]
    },
    {
      "cell_type": "code",
      "metadata": {
        "colab_type": "code",
        "id": "BF22prvpLzv1",
        "colab": {
          "base_uri": "https://localhost:8080/",
          "height": 204
        },
        "outputId": "1c853c5a-250a-4d52-800d-135a414e5c67"
      },
      "source": [
        "result_df"
      ],
      "execution_count": null,
      "outputs": [
        {
          "output_type": "execute_result",
          "data": {
            "text/html": [
              "<div>\n",
              "<style scoped>\n",
              "    .dataframe tbody tr th:only-of-type {\n",
              "        vertical-align: middle;\n",
              "    }\n",
              "\n",
              "    .dataframe tbody tr th {\n",
              "        vertical-align: top;\n",
              "    }\n",
              "\n",
              "    .dataframe thead th {\n",
              "        text-align: right;\n",
              "    }\n",
              "</style>\n",
              "<table border=\"1\" class=\"dataframe\">\n",
              "  <thead>\n",
              "    <tr style=\"text-align: right;\">\n",
              "      <th></th>\n",
              "      <th>Model</th>\n",
              "      <th>Dataset</th>\n",
              "      <th>log_loss</th>\n",
              "      <th>auc</th>\n",
              "    </tr>\n",
              "  </thead>\n",
              "  <tbody>\n",
              "    <tr>\n",
              "      <th>0</th>\n",
              "      <td>Logisic Regression</td>\n",
              "      <td>Normal with Response Encoding</td>\n",
              "      <td>0.523996</td>\n",
              "      <td>0.823515</td>\n",
              "    </tr>\n",
              "    <tr>\n",
              "      <th>1</th>\n",
              "      <td>Decision Tree Classifier</td>\n",
              "      <td>Normal with Response Encoding</td>\n",
              "      <td>0.149110</td>\n",
              "      <td>0.769599</td>\n",
              "    </tr>\n",
              "    <tr>\n",
              "      <th>2</th>\n",
              "      <td>Random Forest Classifier</td>\n",
              "      <td>Normal with Response Encoding</td>\n",
              "      <td>0.136829</td>\n",
              "      <td>0.836315</td>\n",
              "    </tr>\n",
              "    <tr>\n",
              "      <th>3</th>\n",
              "      <td>XGBoost Classifer</td>\n",
              "      <td>Normal with Response Encoding</td>\n",
              "      <td>0.133739</td>\n",
              "      <td>0.845052</td>\n",
              "    </tr>\n",
              "    <tr>\n",
              "      <th>4</th>\n",
              "      <td>LightGBM Classifer</td>\n",
              "      <td>Normal with Response Encoding</td>\n",
              "      <td>0.134520</td>\n",
              "      <td>0.845469</td>\n",
              "    </tr>\n",
              "  </tbody>\n",
              "</table>\n",
              "</div>"
            ],
            "text/plain": [
              "                      Model                        Dataset  log_loss       auc\n",
              "0        Logisic Regression  Normal with Response Encoding  0.523996  0.823515\n",
              "1  Decision Tree Classifier  Normal with Response Encoding  0.149110  0.769599\n",
              "2  Random Forest Classifier  Normal with Response Encoding  0.136829  0.836315\n",
              "3         XGBoost Classifer  Normal with Response Encoding  0.133739  0.845052\n",
              "4        LightGBM Classifer  Normal with Response Encoding  0.134520  0.845469"
            ]
          },
          "metadata": {
            "tags": []
          },
          "execution_count": 34
        }
      ]
    },
    {
      "cell_type": "markdown",
      "metadata": {
        "colab_type": "text",
        "id": "LECmbx42-V2m"
      },
      "source": [
        "# Random Forest (top 250)"
      ]
    },
    {
      "cell_type": "code",
      "metadata": {
        "colab_type": "code",
        "id": "CUgv74lV-V2n",
        "colab": {}
      },
      "source": [
        "model = ensemble.RandomForestClassifier(class_weight='balanced')\n",
        "params = { 'n_estimators':[1000,2000],\n",
        "          'max_depth':[500,1000], \n",
        "         'min_samples_split':[100,500],\n",
        "          'min_samples_leaf':[3,5],\n",
        "          'max_leaf_nodes':[100,250] \n",
        "          }\n"
      ],
      "execution_count": null,
      "outputs": []
    },
    {
      "cell_type": "code",
      "metadata": {
        "colab_type": "code",
        "id": "eCt8L0AV-V2q",
        "colab": {
          "base_uri": "https://localhost:8080/",
          "height": 272
        },
        "outputId": "2e7adac8-5600-469f-c3f2-f5285281f4ed"
      },
      "source": [
        "%%time\n",
        "find_best_params(model,params,cv=3,X_train=X_train_200)"
      ],
      "execution_count": 20,
      "outputs": [
        {
          "output_type": "stream",
          "text": [
            "Fitting 3 folds for each of 10 candidates, totalling 30 fits\n"
          ],
          "name": "stdout"
        },
        {
          "output_type": "stream",
          "text": [
            "[Parallel(n_jobs=-1)]: Using backend LokyBackend with 2 concurrent workers.\n",
            "[Parallel(n_jobs=-1)]: Done  30 out of  30 | elapsed: 66.0min finished\n"
          ],
          "name": "stderr"
        },
        {
          "output_type": "stream",
          "text": [
            "The best auc score was 0.822\n",
            "The best params were: {'n_estimators': 2000, 'min_samples_split': 500, 'min_samples_leaf': 3, 'max_leaf_nodes': 250, 'max_depth': 500}\n",
            "CPU times: user 6min 10s, sys: 915 ms, total: 6min 11s\n",
            "Wall time: 1h 12min 13s\n"
          ],
          "name": "stdout"
        },
        {
          "output_type": "execute_result",
          "data": {
            "text/plain": [
              "RandomForestClassifier(bootstrap=True, ccp_alpha=0.0, class_weight='balanced',\n",
              "                       criterion='gini', max_depth=500, max_features='auto',\n",
              "                       max_leaf_nodes=250, max_samples=None,\n",
              "                       min_impurity_decrease=0.0, min_impurity_split=None,\n",
              "                       min_samples_leaf=3, min_samples_split=500,\n",
              "                       min_weight_fraction_leaf=0.0, n_estimators=2000,\n",
              "                       n_jobs=None, oob_score=False, random_state=None,\n",
              "                       verbose=0, warm_start=False)"
            ]
          },
          "metadata": {
            "tags": []
          },
          "execution_count": 20
        }
      ]
    },
    {
      "cell_type": "code",
      "metadata": {
        "colab_type": "code",
        "id": "DVdFANOy-V2u",
        "colab": {
          "base_uri": "https://localhost:8080/",
          "height": 153
        },
        "outputId": "917d1c3b-9dae-446c-c05b-29ad3b3a8fb9"
      },
      "source": [
        "model = ensemble.RandomForestClassifier(bootstrap=True, ccp_alpha=0.0, class_weight='balanced',\n",
        "                       criterion='gini', max_depth=500, max_features='auto',\n",
        "                       max_leaf_nodes=250, max_samples=None,\n",
        "                       min_impurity_decrease=0.0, min_impurity_split=None,\n",
        "                       min_samples_leaf=3, min_samples_split=500,\n",
        "                       min_weight_fraction_leaf=0.0, n_estimators=2000,\n",
        "                       n_jobs=-1, oob_score=False,\n",
        "                       verbose=0, warm_start=False)\n",
        "\n",
        "model.fit(X_train_200,y_train)"
      ],
      "execution_count": null,
      "outputs": [
        {
          "output_type": "execute_result",
          "data": {
            "text/plain": [
              "RandomForestClassifier(bootstrap=True, ccp_alpha=0.0, class_weight='balanced',\n",
              "                       criterion='gini', max_depth=500, max_features='auto',\n",
              "                       max_leaf_nodes=250, max_samples=None,\n",
              "                       min_impurity_decrease=0.0, min_impurity_split=None,\n",
              "                       min_samples_leaf=3, min_samples_split=500,\n",
              "                       min_weight_fraction_leaf=0.0, n_estimators=2000,\n",
              "                       n_jobs=-1, oob_score=False, random_state=None, verbose=0,\n",
              "                       warm_start=False)"
            ]
          },
          "metadata": {
            "tags": []
          },
          "execution_count": 37
        }
      ]
    },
    {
      "cell_type": "code",
      "metadata": {
        "colab_type": "code",
        "id": "okg4Xksh-V2y",
        "colab": {
          "base_uri": "https://localhost:8080/",
          "height": 357
        },
        "outputId": "000ca9b0-7596-4227-a14a-73934b624c41"
      },
      "source": [
        "cc_model = calibration.CalibratedClassifierCV(model,cv='prefit')\n",
        "cc_model.fit(X_train_200,y_train)"
      ],
      "execution_count": null,
      "outputs": [
        {
          "output_type": "execute_result",
          "data": {
            "text/plain": [
              "CalibratedClassifierCV(base_estimator=RandomForestClassifier(bootstrap=True,\n",
              "                                                             ccp_alpha=0.0,\n",
              "                                                             class_weight='balanced',\n",
              "                                                             criterion='gini',\n",
              "                                                             max_depth=500,\n",
              "                                                             max_features='auto',\n",
              "                                                             max_leaf_nodes=250,\n",
              "                                                             max_samples=None,\n",
              "                                                             min_impurity_decrease=0.0,\n",
              "                                                             min_impurity_split=None,\n",
              "                                                             min_samples_leaf=3,\n",
              "                                                             min_samples_split=500,\n",
              "                                                             min_weight_fraction_leaf=0.0,\n",
              "                                                             n_estimators=2000,\n",
              "                                                             n_jobs=-1,\n",
              "                                                             oob_score=False,\n",
              "                                                             random_state=None,\n",
              "                                                             verbose=0,\n",
              "                                                             warm_start=False),\n",
              "                       cv='prefit', method='sigmoid')"
            ]
          },
          "metadata": {
            "tags": []
          },
          "execution_count": 38
        }
      ]
    },
    {
      "cell_type": "code",
      "metadata": {
        "colab_type": "code",
        "id": "5eSsmef9-V21",
        "colab": {
          "base_uri": "https://localhost:8080/",
          "height": 352
        },
        "outputId": "9c908579-ebd1-4fae-821e-3685f082662c"
      },
      "source": [
        "i+=1\n",
        "y_pred = cc_model.predict_proba(X_val_200)[:,1]\n",
        "label=\"Random Forest Classifier (top 250)\"\n",
        "labels.append(label)\n",
        "y_preds.append(y_pred)\n",
        "result = plot_auc(y_val,y_pred,label,dataset)\n",
        "result_df = result_df.append(result)\n",
        "del result"
      ],
      "execution_count": null,
      "outputs": [
        {
          "output_type": "stream",
          "text": [
            "\t\t Random Forest Classifier (top 250) on Normal with Response Encoding dataset \t\t \n",
            "\n"
          ],
          "name": "stdout"
        },
        {
          "output_type": "display_data",
          "data": {
            "image/png": "[encoded data removed]",
            "text/plain": [
              "<Figure size 432x288 with 1 Axes>"
            ]
          },
          "metadata": {
            "tags": [],
            "needs_background": "light"
          }
        },
        {
          "output_type": "stream",
          "text": [
            "The log loss and auc was found to be 0.136 and 0.837 for Random Forest Classifier (top 250) on Normal with Response Encoding dataset.\n"
          ],
          "name": "stdout"
        }
      ]
    },
    {
      "cell_type": "code",
      "metadata": {
        "colab_type": "code",
        "id": "8Mo702Rt-V23",
        "colab": {
          "base_uri": "https://localhost:8080/",
          "height": 235
        },
        "outputId": "14f89e36-57b0-40be-e77c-ce2a0cc496d8"
      },
      "source": [
        "result_df"
      ],
      "execution_count": null,
      "outputs": [
        {
          "output_type": "execute_result",
          "data": {
            "text/html": [
              "<div>\n",
              "<style scoped>\n",
              "    .dataframe tbody tr th:only-of-type {\n",
              "        vertical-align: middle;\n",
              "    }\n",
              "\n",
              "    .dataframe tbody tr th {\n",
              "        vertical-align: top;\n",
              "    }\n",
              "\n",
              "    .dataframe thead th {\n",
              "        text-align: right;\n",
              "    }\n",
              "</style>\n",
              "<table border=\"1\" class=\"dataframe\">\n",
              "  <thead>\n",
              "    <tr style=\"text-align: right;\">\n",
              "      <th></th>\n",
              "      <th>Model</th>\n",
              "      <th>Dataset</th>\n",
              "      <th>log_loss</th>\n",
              "      <th>auc</th>\n",
              "    </tr>\n",
              "  </thead>\n",
              "  <tbody>\n",
              "    <tr>\n",
              "      <th>0</th>\n",
              "      <td>Logisic Regression</td>\n",
              "      <td>Normal with Response Encoding</td>\n",
              "      <td>0.523996</td>\n",
              "      <td>0.823515</td>\n",
              "    </tr>\n",
              "    <tr>\n",
              "      <th>1</th>\n",
              "      <td>Decision Tree Classifier</td>\n",
              "      <td>Normal with Response Encoding</td>\n",
              "      <td>0.149110</td>\n",
              "      <td>0.769599</td>\n",
              "    </tr>\n",
              "    <tr>\n",
              "      <th>2</th>\n",
              "      <td>Random Forest Classifier</td>\n",
              "      <td>Normal with Response Encoding</td>\n",
              "      <td>0.136829</td>\n",
              "      <td>0.836315</td>\n",
              "    </tr>\n",
              "    <tr>\n",
              "      <th>3</th>\n",
              "      <td>XGBoost Classifer</td>\n",
              "      <td>Normal with Response Encoding</td>\n",
              "      <td>0.133739</td>\n",
              "      <td>0.845052</td>\n",
              "    </tr>\n",
              "    <tr>\n",
              "      <th>4</th>\n",
              "      <td>LightGBM Classifer</td>\n",
              "      <td>Normal with Response Encoding</td>\n",
              "      <td>0.134520</td>\n",
              "      <td>0.845469</td>\n",
              "    </tr>\n",
              "    <tr>\n",
              "      <th>5</th>\n",
              "      <td>Random Forest Classifier (top 250)</td>\n",
              "      <td>Normal with Response Encoding</td>\n",
              "      <td>0.136440</td>\n",
              "      <td>0.837497</td>\n",
              "    </tr>\n",
              "  </tbody>\n",
              "</table>\n",
              "</div>"
            ],
            "text/plain": [
              "                                Model  ...       auc\n",
              "0                  Logisic Regression  ...  0.823515\n",
              "1            Decision Tree Classifier  ...  0.769599\n",
              "2            Random Forest Classifier  ...  0.836315\n",
              "3                   XGBoost Classifer  ...  0.845052\n",
              "4                  LightGBM Classifer  ...  0.845469\n",
              "5  Random Forest Classifier (top 250)  ...  0.837497\n",
              "\n",
              "[6 rows x 4 columns]"
            ]
          },
          "metadata": {
            "tags": []
          },
          "execution_count": 40
        }
      ]
    },
    {
      "cell_type": "markdown",
      "metadata": {
        "colab_type": "text",
        "id": "i-y4IONn-V26"
      },
      "source": [
        "# XGB Classifier (top 250)"
      ]
    },
    {
      "cell_type": "code",
      "metadata": {
        "colab_type": "code",
        "id": "Gjg5rhGa-V27",
        "colab": {}
      },
      "source": [
        "model = xgb.XGBClassifier(n_jobs=-1,\n",
        "                      nthread=-1,\n",
        "                      scale_pos_weight=1,\n",
        "                      learning_rate=0.01,  \n",
        "                      colsample_bytree = 0.8, \n",
        "                      subsample = 0.7,\n",
        "                      objective='binary:logistic', \n",
        "                      n_estimators=865,\n",
        "                      reg_alpha = 0.3,\n",
        "                      max_depth=5, \n",
        "                      gamma=1,\n",
        "                      random_state=42\n",
        "                     )\n"
      ],
      "execution_count": null,
      "outputs": []
    },
    {
      "cell_type": "code",
      "metadata": {
        "colab_type": "code",
        "id": "8Q0dR9Kt-V2-",
        "colab": {
          "base_uri": "https://localhost:8080/",
          "height": 1000
        },
        "outputId": "d418014d-2860-41a5-bf89-0e8659fa06be"
      },
      "source": [
        "#https://towardsdatascience.com/fine-tuning-xgboost-in-python-like-a-boss-b4543ed8b1e\n",
        "\"\"\"\n",
        "manually changed each parameters 1 by 1 and compared the validation auc\n",
        "and selected the best parameter value\n",
        "\"\"\"\n",
        "eval_metric = ['auc','error']\n",
        "%time model.fit(X_train_200,y_train,eval_set=[(X_val_200,y_val)],eval_metric=eval_metric,verbose=True)"
      ],
      "execution_count": null,
      "outputs": [
        {
          "output_type": "stream",
          "text": [
            "[0]\tvalidation_0-auc:0.802858\tvalidation_0-error:0.039726\n",
            "[1]\tvalidation_0-auc:0.809126\tvalidation_0-error:0.039639\n",
            "[2]\tvalidation_0-auc:0.813553\tvalidation_0-error:0.039551\n",
            "[3]\tvalidation_0-auc:0.815445\tvalidation_0-error:0.039551\n",
            "[4]\tvalidation_0-auc:0.820435\tvalidation_0-error:0.039551\n",
            "[5]\tvalidation_0-auc:0.824176\tvalidation_0-error:0.039551\n",
            "[6]\tvalidation_0-auc:0.82459\tvalidation_0-error:0.039551\n",
            "[7]\tvalidation_0-auc:0.824298\tvalidation_0-error:0.039551\n",
            "[8]\tvalidation_0-auc:0.824797\tvalidation_0-error:0.039551\n",
            "[9]\tvalidation_0-auc:0.825743\tvalidation_0-error:0.039551\n",
            "[10]\tvalidation_0-auc:0.826107\tvalidation_0-error:0.039551\n",
            "[11]\tvalidation_0-auc:0.826179\tvalidation_0-error:0.039551\n",
            "[12]\tvalidation_0-auc:0.826059\tvalidation_0-error:0.039551\n",
            "[13]\tvalidation_0-auc:0.826039\tvalidation_0-error:0.039551\n",
            "[14]\tvalidation_0-auc:0.82635\tvalidation_0-error:0.039551\n",
            "[15]\tvalidation_0-auc:0.826357\tvalidation_0-error:0.039551\n",
            "[16]\tvalidation_0-auc:0.826251\tvalidation_0-error:0.039551\n",
            "[17]\tvalidation_0-auc:0.825965\tvalidation_0-error:0.039551\n",
            "[18]\tvalidation_0-auc:0.82593\tvalidation_0-error:0.039551\n",
            "[19]\tvalidation_0-auc:0.826123\tvalidation_0-error:0.039551\n",
            "[20]\tvalidation_0-auc:0.825758\tvalidation_0-error:0.039551\n",
            "[21]\tvalidation_0-auc:0.82563\tvalidation_0-error:0.039551\n",
            "[22]\tvalidation_0-auc:0.825869\tvalidation_0-error:0.039551\n",
            "[23]\tvalidation_0-auc:0.82577\tvalidation_0-error:0.039551\n",
            "[24]\tvalidation_0-auc:0.825901\tvalidation_0-error:0.039551\n",
            "[25]\tvalidation_0-auc:0.825894\tvalidation_0-error:0.039551\n",
            "[26]\tvalidation_0-auc:0.826051\tvalidation_0-error:0.039551\n",
            "[27]\tvalidation_0-auc:0.825848\tvalidation_0-error:0.039551\n",
            "[28]\tvalidation_0-auc:0.825758\tvalidation_0-error:0.039551\n",
            "[29]\tvalidation_0-auc:0.825779\tvalidation_0-error:0.039551\n",
            "[30]\tvalidation_0-auc:0.826117\tvalidation_0-error:0.039551\n",
            "[31]\tvalidation_0-auc:0.825971\tvalidation_0-error:0.039551\n",
            "[32]\tvalidation_0-auc:0.826163\tvalidation_0-error:0.039551\n",
            "[33]\tvalidation_0-auc:0.826309\tvalidation_0-error:0.039551\n",
            "[34]\tvalidation_0-auc:0.825719\tvalidation_0-error:0.039551\n",
            "[35]\tvalidation_0-auc:0.825957\tvalidation_0-error:0.039551\n",
            "[36]\tvalidation_0-auc:0.825916\tvalidation_0-error:0.039551\n",
            "[37]\tvalidation_0-auc:0.826349\tvalidation_0-error:0.039551\n",
            "[38]\tvalidation_0-auc:0.826348\tvalidation_0-error:0.039551\n",
            "[39]\tvalidation_0-auc:0.8267\tvalidation_0-error:0.039551\n",
            "[40]\tvalidation_0-auc:0.826704\tvalidation_0-error:0.039551\n",
            "[41]\tvalidation_0-auc:0.826638\tvalidation_0-error:0.039551\n",
            "[42]\tvalidation_0-auc:0.826647\tvalidation_0-error:0.039551\n",
            "[43]\tvalidation_0-auc:0.826956\tvalidation_0-error:0.039551\n",
            "[44]\tvalidation_0-auc:0.826995\tvalidation_0-error:0.039551\n",
            "[45]\tvalidation_0-auc:0.827123\tvalidation_0-error:0.039551\n",
            "[46]\tvalidation_0-auc:0.827167\tvalidation_0-error:0.039551\n",
            "[47]\tvalidation_0-auc:0.827198\tvalidation_0-error:0.039551\n",
            "[48]\tvalidation_0-auc:0.82778\tvalidation_0-error:0.039551\n",
            "[49]\tvalidation_0-auc:0.828004\tvalidation_0-error:0.039551\n",
            "[50]\tvalidation_0-auc:0.827978\tvalidation_0-error:0.039551\n",
            "[51]\tvalidation_0-auc:0.828172\tvalidation_0-error:0.039551\n",
            "[52]\tvalidation_0-auc:0.828167\tvalidation_0-error:0.039551\n",
            "[53]\tvalidation_0-auc:0.828357\tvalidation_0-error:0.039551\n",
            "[54]\tvalidation_0-auc:0.828378\tvalidation_0-error:0.039551\n",
            "[55]\tvalidation_0-auc:0.828747\tvalidation_0-error:0.039551\n",
            "[56]\tvalidation_0-auc:0.828797\tvalidation_0-error:0.039551\n",
            "[57]\tvalidation_0-auc:0.828846\tvalidation_0-error:0.039551\n",
            "[58]\tvalidation_0-auc:0.828751\tvalidation_0-error:0.039551\n",
            "[59]\tvalidation_0-auc:0.828681\tvalidation_0-error:0.039551\n",
            "[60]\tvalidation_0-auc:0.829071\tvalidation_0-error:0.039551\n",
            "[61]\tvalidation_0-auc:0.829214\tvalidation_0-error:0.039551\n",
            "[62]\tvalidation_0-auc:0.82902\tvalidation_0-error:0.039551\n",
            "[63]\tvalidation_0-auc:0.828941\tvalidation_0-error:0.039551\n",
            "[64]\tvalidation_0-auc:0.82883\tvalidation_0-error:0.039551\n",
            "[65]\tvalidation_0-auc:0.828919\tvalidation_0-error:0.039551\n",
            "[66]\tvalidation_0-auc:0.82892\tvalidation_0-error:0.039551\n",
            "[67]\tvalidation_0-auc:0.829186\tvalidation_0-error:0.039551\n",
            "[68]\tvalidation_0-auc:0.829421\tvalidation_0-error:0.039551\n",
            "[69]\tvalidation_0-auc:0.829494\tvalidation_0-error:0.039551\n",
            "[70]\tvalidation_0-auc:0.829501\tvalidation_0-error:0.039551\n",
            "[71]\tvalidation_0-auc:0.829524\tvalidation_0-error:0.039551\n",
            "[72]\tvalidation_0-auc:0.82951\tvalidation_0-error:0.039551\n",
            "[73]\tvalidation_0-auc:0.829489\tvalidation_0-error:0.039551\n",
            "[74]\tvalidation_0-auc:0.829356\tvalidation_0-error:0.039551\n",
            "[75]\tvalidation_0-auc:0.829469\tvalidation_0-error:0.039551\n",
            "[76]\tvalidation_0-auc:0.82954\tvalidation_0-error:0.039551\n",
            "[77]\tvalidation_0-auc:0.82961\tvalidation_0-error:0.039551\n",
            "[78]\tvalidation_0-auc:0.829416\tvalidation_0-error:0.039551\n",
            "[79]\tvalidation_0-auc:0.829195\tvalidation_0-error:0.039551\n",
            "[80]\tvalidation_0-auc:0.82927\tvalidation_0-error:0.039551\n",
            "[81]\tvalidation_0-auc:0.82923\tvalidation_0-error:0.039551\n",
            "[82]\tvalidation_0-auc:0.829425\tvalidation_0-error:0.039551\n",
            "[83]\tvalidation_0-auc:0.829722\tvalidation_0-error:0.039551\n",
            "[84]\tvalidation_0-auc:0.829691\tvalidation_0-error:0.039551\n",
            "[85]\tvalidation_0-auc:0.830007\tvalidation_0-error:0.039551\n",
            "[86]\tvalidation_0-auc:0.830016\tvalidation_0-error:0.039551\n",
            "[87]\tvalidation_0-auc:0.829873\tvalidation_0-error:0.039551\n",
            "[88]\tvalidation_0-auc:0.830179\tvalidation_0-error:0.039551\n",
            "[89]\tvalidation_0-auc:0.830307\tvalidation_0-error:0.039551\n",
            "[90]\tvalidation_0-auc:0.83028\tvalidation_0-error:0.039551\n",
            "[91]\tvalidation_0-auc:0.830565\tvalidation_0-error:0.039551\n",
            "[92]\tvalidation_0-auc:0.830712\tvalidation_0-error:0.039551\n",
            "[93]\tvalidation_0-auc:0.830748\tvalidation_0-error:0.039551\n",
            "[94]\tvalidation_0-auc:0.830865\tvalidation_0-error:0.039551\n",
            "[95]\tvalidation_0-auc:0.830795\tvalidation_0-error:0.039551\n",
            "[96]\tvalidation_0-auc:0.830874\tvalidation_0-error:0.039551\n",
            "[97]\tvalidation_0-auc:0.830949\tvalidation_0-error:0.039551\n",
            "[98]\tvalidation_0-auc:0.830977\tvalidation_0-error:0.039551\n",
            "[99]\tvalidation_0-auc:0.831144\tvalidation_0-error:0.039551\n",
            "[100]\tvalidation_0-auc:0.831204\tvalidation_0-error:0.039551\n",
            "[101]\tvalidation_0-auc:0.831119\tvalidation_0-error:0.039551\n",
            "[102]\tvalidation_0-auc:0.831329\tvalidation_0-error:0.039551\n",
            "[103]\tvalidation_0-auc:0.831388\tvalidation_0-error:0.039551\n",
            "[104]\tvalidation_0-auc:0.831426\tvalidation_0-error:0.039551\n",
            "[105]\tvalidation_0-auc:0.831448\tvalidation_0-error:0.039551\n",
            "[106]\tvalidation_0-auc:0.83151\tvalidation_0-error:0.039551\n",
            "[107]\tvalidation_0-auc:0.831551\tvalidation_0-error:0.039551\n",
            "[108]\tvalidation_0-auc:0.831545\tvalidation_0-error:0.039551\n",
            "[109]\tvalidation_0-auc:0.83159\tvalidation_0-error:0.039551\n",
            "[110]\tvalidation_0-auc:0.83151\tvalidation_0-error:0.039551\n",
            "[111]\tvalidation_0-auc:0.831449\tvalidation_0-error:0.039551\n",
            "[112]\tvalidation_0-auc:0.831491\tvalidation_0-error:0.039551\n",
            "[113]\tvalidation_0-auc:0.831524\tvalidation_0-error:0.039551\n",
            "[114]\tvalidation_0-auc:0.831553\tvalidation_0-error:0.039551\n",
            "[115]\tvalidation_0-auc:0.831628\tvalidation_0-error:0.039551\n",
            "[116]\tvalidation_0-auc:0.831722\tvalidation_0-error:0.039551\n",
            "[117]\tvalidation_0-auc:0.831887\tvalidation_0-error:0.039551\n",
            "[118]\tvalidation_0-auc:0.831851\tvalidation_0-error:0.039551\n",
            "[119]\tvalidation_0-auc:0.831852\tvalidation_0-error:0.039551\n",
            "[120]\tvalidation_0-auc:0.832011\tvalidation_0-error:0.039551\n",
            "[121]\tvalidation_0-auc:0.832072\tvalidation_0-error:0.039551\n",
            "[122]\tvalidation_0-auc:0.83199\tvalidation_0-error:0.039551\n",
            "[123]\tvalidation_0-auc:0.831988\tvalidation_0-error:0.039551\n",
            "[124]\tvalidation_0-auc:0.83194\tvalidation_0-error:0.039551\n",
            "[125]\tvalidation_0-auc:0.832008\tvalidation_0-error:0.039551\n",
            "[126]\tvalidation_0-auc:0.832137\tvalidation_0-error:0.039551\n",
            "[127]\tvalidation_0-auc:0.832147\tvalidation_0-error:0.039551\n",
            "[128]\tvalidation_0-auc:0.832172\tvalidation_0-error:0.039551\n",
            "[129]\tvalidation_0-auc:0.832084\tvalidation_0-error:0.039551\n",
            "[130]\tvalidation_0-auc:0.832401\tvalidation_0-error:0.039551\n",
            "[131]\tvalidation_0-auc:0.832554\tvalidation_0-error:0.039551\n",
            "[132]\tvalidation_0-auc:0.83261\tvalidation_0-error:0.039551\n",
            "[133]\tvalidation_0-auc:0.832669\tvalidation_0-error:0.039551\n",
            "[134]\tvalidation_0-auc:0.832806\tvalidation_0-error:0.039551\n",
            "[135]\tvalidation_0-auc:0.832737\tvalidation_0-error:0.039551\n",
            "[136]\tvalidation_0-auc:0.83275\tvalidation_0-error:0.039551\n",
            "[137]\tvalidation_0-auc:0.832836\tvalidation_0-error:0.039551\n",
            "[138]\tvalidation_0-auc:0.832753\tvalidation_0-error:0.039551\n",
            "[139]\tvalidation_0-auc:0.832778\tvalidation_0-error:0.039551\n",
            "[140]\tvalidation_0-auc:0.832725\tvalidation_0-error:0.039551\n",
            "[141]\tvalidation_0-auc:0.832748\tvalidation_0-error:0.039551\n",
            "[142]\tvalidation_0-auc:0.832814\tvalidation_0-error:0.039551\n",
            "[143]\tvalidation_0-auc:0.832834\tvalidation_0-error:0.039551\n",
            "[144]\tvalidation_0-auc:0.832819\tvalidation_0-error:0.039551\n",
            "[145]\tvalidation_0-auc:0.832885\tvalidation_0-error:0.039551\n",
            "[146]\tvalidation_0-auc:0.832904\tvalidation_0-error:0.039551\n",
            "[147]\tvalidation_0-auc:0.8332\tvalidation_0-error:0.039551\n",
            "[148]\tvalidation_0-auc:0.833255\tvalidation_0-error:0.039551\n",
            "[149]\tvalidation_0-auc:0.833633\tvalidation_0-error:0.039551\n",
            "[150]\tvalidation_0-auc:0.83364\tvalidation_0-error:0.039551\n",
            "[151]\tvalidation_0-auc:0.833674\tvalidation_0-error:0.039551\n",
            "[152]\tvalidation_0-auc:0.833883\tvalidation_0-error:0.039551\n",
            "[153]\tvalidation_0-auc:0.833913\tvalidation_0-error:0.039551\n",
            "[154]\tvalidation_0-auc:0.834026\tvalidation_0-error:0.039551\n",
            "[155]\tvalidation_0-auc:0.834046\tvalidation_0-error:0.039551\n",
            "[156]\tvalidation_0-auc:0.834018\tvalidation_0-error:0.039551\n",
            "[157]\tvalidation_0-auc:0.83385\tvalidation_0-error:0.039551\n",
            "[158]\tvalidation_0-auc:0.833763\tvalidation_0-error:0.039551\n",
            "[159]\tvalidation_0-auc:0.833585\tvalidation_0-error:0.039551\n",
            "[160]\tvalidation_0-auc:0.833597\tvalidation_0-error:0.039551\n",
            "[161]\tvalidation_0-auc:0.83363\tvalidation_0-error:0.039551\n",
            "[162]\tvalidation_0-auc:0.83369\tvalidation_0-error:0.039551\n",
            "[163]\tvalidation_0-auc:0.833811\tvalidation_0-error:0.039551\n",
            "[164]\tvalidation_0-auc:0.833965\tvalidation_0-error:0.039551\n",
            "[165]\tvalidation_0-auc:0.833947\tvalidation_0-error:0.039551\n",
            "[166]\tvalidation_0-auc:0.834051\tvalidation_0-error:0.039551\n",
            "[167]\tvalidation_0-auc:0.834039\tvalidation_0-error:0.039551\n",
            "[168]\tvalidation_0-auc:0.834071\tvalidation_0-error:0.039551\n",
            "[169]\tvalidation_0-auc:0.834197\tvalidation_0-error:0.039551\n",
            "[170]\tvalidation_0-auc:0.834165\tvalidation_0-error:0.039551\n",
            "[171]\tvalidation_0-auc:0.834115\tvalidation_0-error:0.039551\n",
            "[172]\tvalidation_0-auc:0.834195\tvalidation_0-error:0.039551\n",
            "[173]\tvalidation_0-auc:0.83414\tvalidation_0-error:0.039551\n",
            "[174]\tvalidation_0-auc:0.834249\tvalidation_0-error:0.039551\n",
            "[175]\tvalidation_0-auc:0.834225\tvalidation_0-error:0.039551\n",
            "[176]\tvalidation_0-auc:0.834296\tvalidation_0-error:0.039551\n",
            "[177]\tvalidation_0-auc:0.834306\tvalidation_0-error:0.039551\n",
            "[178]\tvalidation_0-auc:0.83444\tvalidation_0-error:0.039551\n",
            "[179]\tvalidation_0-auc:0.834567\tvalidation_0-error:0.039551\n",
            "[180]\tvalidation_0-auc:0.834677\tvalidation_0-error:0.039551\n",
            "[181]\tvalidation_0-auc:0.83461\tvalidation_0-error:0.039551\n",
            "[182]\tvalidation_0-auc:0.83454\tvalidation_0-error:0.039551\n",
            "[183]\tvalidation_0-auc:0.834495\tvalidation_0-error:0.039551\n",
            "[184]\tvalidation_0-auc:0.834438\tvalidation_0-error:0.039551\n",
            "[185]\tvalidation_0-auc:0.834468\tvalidation_0-error:0.039551\n",
            "[186]\tvalidation_0-auc:0.834554\tvalidation_0-error:0.039551\n",
            "[187]\tvalidation_0-auc:0.834827\tvalidation_0-error:0.039551\n",
            "[188]\tvalidation_0-auc:0.834826\tvalidation_0-error:0.039551\n",
            "[189]\tvalidation_0-auc:0.834908\tvalidation_0-error:0.039551\n",
            "[190]\tvalidation_0-auc:0.835064\tvalidation_0-error:0.039551\n",
            "[191]\tvalidation_0-auc:0.835067\tvalidation_0-error:0.039551\n",
            "[192]\tvalidation_0-auc:0.834938\tvalidation_0-error:0.039551\n",
            "[193]\tvalidation_0-auc:0.834981\tvalidation_0-error:0.039551\n",
            "[194]\tvalidation_0-auc:0.835267\tvalidation_0-error:0.039551\n",
            "[195]\tvalidation_0-auc:0.835384\tvalidation_0-error:0.039551\n",
            "[196]\tvalidation_0-auc:0.835718\tvalidation_0-error:0.039551\n",
            "[197]\tvalidation_0-auc:0.835727\tvalidation_0-error:0.039551\n",
            "[198]\tvalidation_0-auc:0.835593\tvalidation_0-error:0.039551\n",
            "[199]\tvalidation_0-auc:0.835654\tvalidation_0-error:0.039551\n",
            "[200]\tvalidation_0-auc:0.835774\tvalidation_0-error:0.039551\n",
            "[201]\tvalidation_0-auc:0.835836\tvalidation_0-error:0.039551\n",
            "[202]\tvalidation_0-auc:0.835949\tvalidation_0-error:0.039551\n",
            "[203]\tvalidation_0-auc:0.835906\tvalidation_0-error:0.039551\n",
            "[204]\tvalidation_0-auc:0.836162\tvalidation_0-error:0.039551\n",
            "[205]\tvalidation_0-auc:0.836384\tvalidation_0-error:0.039551\n",
            "[206]\tvalidation_0-auc:0.836367\tvalidation_0-error:0.039551\n",
            "[207]\tvalidation_0-auc:0.836354\tvalidation_0-error:0.039551\n",
            "[208]\tvalidation_0-auc:0.836444\tvalidation_0-error:0.039551\n",
            "[209]\tvalidation_0-auc:0.836479\tvalidation_0-error:0.039551\n",
            "[210]\tvalidation_0-auc:0.836517\tvalidation_0-error:0.039551\n",
            "[211]\tvalidation_0-auc:0.836575\tvalidation_0-error:0.039551\n",
            "[212]\tvalidation_0-auc:0.836631\tvalidation_0-error:0.039551\n",
            "[213]\tvalidation_0-auc:0.83668\tvalidation_0-error:0.039551\n",
            "[214]\tvalidation_0-auc:0.836666\tvalidation_0-error:0.039551\n",
            "[215]\tvalidation_0-auc:0.836824\tvalidation_0-error:0.039551\n",
            "[216]\tvalidation_0-auc:0.836633\tvalidation_0-error:0.039551\n",
            "[217]\tvalidation_0-auc:0.836596\tvalidation_0-error:0.039551\n",
            "[218]\tvalidation_0-auc:0.83657\tvalidation_0-error:0.039551\n",
            "[219]\tvalidation_0-auc:0.836715\tvalidation_0-error:0.039551\n",
            "[220]\tvalidation_0-auc:0.836778\tvalidation_0-error:0.039551\n",
            "[221]\tvalidation_0-auc:0.836903\tvalidation_0-error:0.039551\n",
            "[222]\tvalidation_0-auc:0.837082\tvalidation_0-error:0.039551\n",
            "[223]\tvalidation_0-auc:0.837045\tvalidation_0-error:0.039551\n",
            "[224]\tvalidation_0-auc:0.837111\tvalidation_0-error:0.039551\n",
            "[225]\tvalidation_0-auc:0.837147\tvalidation_0-error:0.039551\n",
            "[226]\tvalidation_0-auc:0.83717\tvalidation_0-error:0.039551\n",
            "[227]\tvalidation_0-auc:0.837069\tvalidation_0-error:0.039551\n",
            "[228]\tvalidation_0-auc:0.837082\tvalidation_0-error:0.039551\n",
            "[229]\tvalidation_0-auc:0.837017\tvalidation_0-error:0.039551\n",
            "[230]\tvalidation_0-auc:0.837196\tvalidation_0-error:0.039551\n",
            "[231]\tvalidation_0-auc:0.837115\tvalidation_0-error:0.039551\n",
            "[232]\tvalidation_0-auc:0.837016\tvalidation_0-error:0.039551\n",
            "[233]\tvalidation_0-auc:0.837008\tvalidation_0-error:0.039551\n",
            "[234]\tvalidation_0-auc:0.837254\tvalidation_0-error:0.039551\n",
            "[235]\tvalidation_0-auc:0.837163\tvalidation_0-error:0.039551\n",
            "[236]\tvalidation_0-auc:0.837178\tvalidation_0-error:0.039551\n",
            "[237]\tvalidation_0-auc:0.837298\tvalidation_0-error:0.039551\n",
            "[238]\tvalidation_0-auc:0.837308\tvalidation_0-error:0.039551\n",
            "[239]\tvalidation_0-auc:0.83723\tvalidation_0-error:0.039551\n",
            "[240]\tvalidation_0-auc:0.837311\tvalidation_0-error:0.039551\n",
            "[241]\tvalidation_0-auc:0.837246\tvalidation_0-error:0.039551\n",
            "[242]\tvalidation_0-auc:0.837603\tvalidation_0-error:0.039551\n",
            "[243]\tvalidation_0-auc:0.837547\tvalidation_0-error:0.039551\n",
            "[244]\tvalidation_0-auc:0.837532\tvalidation_0-error:0.039551\n",
            "[245]\tvalidation_0-auc:0.837478\tvalidation_0-error:0.039551\n",
            "[246]\tvalidation_0-auc:0.837578\tvalidation_0-error:0.039551\n",
            "[247]\tvalidation_0-auc:0.837547\tvalidation_0-error:0.039551\n",
            "[248]\tvalidation_0-auc:0.837454\tvalidation_0-error:0.039551\n",
            "[249]\tvalidation_0-auc:0.837416\tvalidation_0-error:0.039551\n",
            "[250]\tvalidation_0-auc:0.837527\tvalidation_0-error:0.039551\n",
            "[251]\tvalidation_0-auc:0.837763\tvalidation_0-error:0.039551\n",
            "[252]\tvalidation_0-auc:0.837651\tvalidation_0-error:0.039551\n",
            "[253]\tvalidation_0-auc:0.83785\tvalidation_0-error:0.039551\n",
            "[254]\tvalidation_0-auc:0.837729\tvalidation_0-error:0.039551\n",
            "[255]\tvalidation_0-auc:0.83781\tvalidation_0-error:0.039551\n",
            "[256]\tvalidation_0-auc:0.837818\tvalidation_0-error:0.039551\n",
            "[257]\tvalidation_0-auc:0.837806\tvalidation_0-error:0.039551\n",
            "[258]\tvalidation_0-auc:0.837992\tvalidation_0-error:0.039551\n",
            "[259]\tvalidation_0-auc:0.838168\tvalidation_0-error:0.039551\n",
            "[260]\tvalidation_0-auc:0.838176\tvalidation_0-error:0.039551\n",
            "[261]\tvalidation_0-auc:0.838203\tvalidation_0-error:0.039551\n",
            "[262]\tvalidation_0-auc:0.838221\tvalidation_0-error:0.039551\n",
            "[263]\tvalidation_0-auc:0.838346\tvalidation_0-error:0.039551\n",
            "[264]\tvalidation_0-auc:0.838352\tvalidation_0-error:0.039551\n",
            "[265]\tvalidation_0-auc:0.838444\tvalidation_0-error:0.039551\n",
            "[266]\tvalidation_0-auc:0.838582\tvalidation_0-error:0.039551\n",
            "[267]\tvalidation_0-auc:0.838643\tvalidation_0-error:0.039551\n",
            "[268]\tvalidation_0-auc:0.838638\tvalidation_0-error:0.039551\n",
            "[269]\tvalidation_0-auc:0.838753\tvalidation_0-error:0.039551\n",
            "[270]\tvalidation_0-auc:0.83878\tvalidation_0-error:0.039551\n",
            "[271]\tvalidation_0-auc:0.838756\tvalidation_0-error:0.039551\n",
            "[272]\tvalidation_0-auc:0.838755\tvalidation_0-error:0.039551\n",
            "[273]\tvalidation_0-auc:0.838703\tvalidation_0-error:0.039551\n",
            "[274]\tvalidation_0-auc:0.838906\tvalidation_0-error:0.039551\n",
            "[275]\tvalidation_0-auc:0.838959\tvalidation_0-error:0.039551\n",
            "[276]\tvalidation_0-auc:0.839034\tvalidation_0-error:0.039551\n",
            "[277]\tvalidation_0-auc:0.839074\tvalidation_0-error:0.039551\n",
            "[278]\tvalidation_0-auc:0.839144\tvalidation_0-error:0.039551\n",
            "[279]\tvalidation_0-auc:0.839043\tvalidation_0-error:0.039551\n",
            "[280]\tvalidation_0-auc:0.839083\tvalidation_0-error:0.039551\n",
            "[281]\tvalidation_0-auc:0.839228\tvalidation_0-error:0.039551\n",
            "[282]\tvalidation_0-auc:0.839334\tvalidation_0-error:0.039551\n",
            "[283]\tvalidation_0-auc:0.839374\tvalidation_0-error:0.039551\n",
            "[284]\tvalidation_0-auc:0.839773\tvalidation_0-error:0.039551\n",
            "[285]\tvalidation_0-auc:0.83982\tvalidation_0-error:0.039551\n",
            "[286]\tvalidation_0-auc:0.839879\tvalidation_0-error:0.039551\n",
            "[287]\tvalidation_0-auc:0.83976\tvalidation_0-error:0.039551\n",
            "[288]\tvalidation_0-auc:0.839828\tvalidation_0-error:0.039551\n",
            "[289]\tvalidation_0-auc:0.839939\tvalidation_0-error:0.039551\n",
            "[290]\tvalidation_0-auc:0.839968\tvalidation_0-error:0.039551\n",
            "[291]\tvalidation_0-auc:0.840092\tvalidation_0-error:0.039551\n",
            "[292]\tvalidation_0-auc:0.840181\tvalidation_0-error:0.039551\n",
            "[293]\tvalidation_0-auc:0.840283\tvalidation_0-error:0.039551\n",
            "[294]\tvalidation_0-auc:0.840371\tvalidation_0-error:0.039551\n",
            "[295]\tvalidation_0-auc:0.840328\tvalidation_0-error:0.039551\n",
            "[296]\tvalidation_0-auc:0.840337\tvalidation_0-error:0.039551\n",
            "[297]\tvalidation_0-auc:0.840352\tvalidation_0-error:0.039551\n",
            "[298]\tvalidation_0-auc:0.840415\tvalidation_0-error:0.039551\n",
            "[299]\tvalidation_0-auc:0.840416\tvalidation_0-error:0.039551\n",
            "[300]\tvalidation_0-auc:0.840475\tvalidation_0-error:0.039551\n",
            "[301]\tvalidation_0-auc:0.840527\tvalidation_0-error:0.039551\n",
            "[302]\tvalidation_0-auc:0.840548\tvalidation_0-error:0.039551\n",
            "[303]\tvalidation_0-auc:0.84059\tvalidation_0-error:0.039551\n",
            "[304]\tvalidation_0-auc:0.840586\tvalidation_0-error:0.039551\n",
            "[305]\tvalidation_0-auc:0.840649\tvalidation_0-error:0.039551\n",
            "[306]\tvalidation_0-auc:0.840624\tvalidation_0-error:0.039551\n",
            "[307]\tvalidation_0-auc:0.840566\tvalidation_0-error:0.039551\n",
            "[308]\tvalidation_0-auc:0.840485\tvalidation_0-error:0.039551\n",
            "[309]\tvalidation_0-auc:0.840328\tvalidation_0-error:0.039551\n",
            "[310]\tvalidation_0-auc:0.84022\tvalidation_0-error:0.039551\n",
            "[311]\tvalidation_0-auc:0.840308\tvalidation_0-error:0.039551\n",
            "[312]\tvalidation_0-auc:0.840271\tvalidation_0-error:0.039551\n",
            "[313]\tvalidation_0-auc:0.840261\tvalidation_0-error:0.039551\n",
            "[314]\tvalidation_0-auc:0.840388\tvalidation_0-error:0.039551\n",
            "[315]\tvalidation_0-auc:0.840371\tvalidation_0-error:0.039551\n",
            "[316]\tvalidation_0-auc:0.840444\tvalidation_0-error:0.039551\n",
            "[317]\tvalidation_0-auc:0.840426\tvalidation_0-error:0.039551\n",
            "[318]\tvalidation_0-auc:0.840472\tvalidation_0-error:0.039551\n",
            "[319]\tvalidation_0-auc:0.840533\tvalidation_0-error:0.039551\n",
            "[320]\tvalidation_0-auc:0.840558\tvalidation_0-error:0.039551\n",
            "[321]\tvalidation_0-auc:0.840585\tvalidation_0-error:0.039551\n",
            "[322]\tvalidation_0-auc:0.84065\tvalidation_0-error:0.039551\n",
            "[323]\tvalidation_0-auc:0.84062\tvalidation_0-error:0.039551\n",
            "[324]\tvalidation_0-auc:0.840628\tvalidation_0-error:0.039551\n",
            "[325]\tvalidation_0-auc:0.840691\tvalidation_0-error:0.039551\n",
            "[326]\tvalidation_0-auc:0.840706\tvalidation_0-error:0.039551\n",
            "[327]\tvalidation_0-auc:0.840746\tvalidation_0-error:0.039551\n",
            "[328]\tvalidation_0-auc:0.840778\tvalidation_0-error:0.039551\n",
            "[329]\tvalidation_0-auc:0.840875\tvalidation_0-error:0.039551\n",
            "[330]\tvalidation_0-auc:0.840929\tvalidation_0-error:0.039551\n",
            "[331]\tvalidation_0-auc:0.840947\tvalidation_0-error:0.039551\n",
            "[332]\tvalidation_0-auc:0.840906\tvalidation_0-error:0.039551\n",
            "[333]\tvalidation_0-auc:0.840995\tvalidation_0-error:0.039551\n",
            "[334]\tvalidation_0-auc:0.841059\tvalidation_0-error:0.039551\n",
            "[335]\tvalidation_0-auc:0.841136\tvalidation_0-error:0.039551\n",
            "[336]\tvalidation_0-auc:0.841258\tvalidation_0-error:0.039551\n",
            "[337]\tvalidation_0-auc:0.841265\tvalidation_0-error:0.039551\n",
            "[338]\tvalidation_0-auc:0.841394\tvalidation_0-error:0.039551\n",
            "[339]\tvalidation_0-auc:0.841531\tvalidation_0-error:0.039551\n",
            "[340]\tvalidation_0-auc:0.841376\tvalidation_0-error:0.039551\n",
            "[341]\tvalidation_0-auc:0.841458\tvalidation_0-error:0.039551\n",
            "[342]\tvalidation_0-auc:0.84154\tvalidation_0-error:0.039551\n",
            "[343]\tvalidation_0-auc:0.841509\tvalidation_0-error:0.039551\n",
            "[344]\tvalidation_0-auc:0.841412\tvalidation_0-error:0.039551\n",
            "[345]\tvalidation_0-auc:0.841383\tvalidation_0-error:0.039551\n",
            "[346]\tvalidation_0-auc:0.841496\tvalidation_0-error:0.039551\n",
            "[347]\tvalidation_0-auc:0.841538\tvalidation_0-error:0.039551\n",
            "[348]\tvalidation_0-auc:0.841589\tvalidation_0-error:0.039551\n",
            "[349]\tvalidation_0-auc:0.841582\tvalidation_0-error:0.039551\n",
            "[350]\tvalidation_0-auc:0.841627\tvalidation_0-error:0.039551\n",
            "[351]\tvalidation_0-auc:0.841563\tvalidation_0-error:0.039551\n",
            "[352]\tvalidation_0-auc:0.841603\tvalidation_0-error:0.039551\n",
            "[353]\tvalidation_0-auc:0.841633\tvalidation_0-error:0.039551\n",
            "[354]\tvalidation_0-auc:0.841687\tvalidation_0-error:0.039551\n",
            "[355]\tvalidation_0-auc:0.841713\tvalidation_0-error:0.039551\n",
            "[356]\tvalidation_0-auc:0.841737\tvalidation_0-error:0.039551\n",
            "[357]\tvalidation_0-auc:0.841747\tvalidation_0-error:0.039551\n",
            "[358]\tvalidation_0-auc:0.841969\tvalidation_0-error:0.039551\n",
            "[359]\tvalidation_0-auc:0.841982\tvalidation_0-error:0.039551\n",
            "[360]\tvalidation_0-auc:0.841932\tvalidation_0-error:0.039551\n",
            "[361]\tvalidation_0-auc:0.841897\tvalidation_0-error:0.039551\n",
            "[362]\tvalidation_0-auc:0.841918\tvalidation_0-error:0.039551\n",
            "[363]\tvalidation_0-auc:0.841941\tvalidation_0-error:0.039551\n",
            "[364]\tvalidation_0-auc:0.842013\tvalidation_0-error:0.039551\n",
            "[365]\tvalidation_0-auc:0.84202\tvalidation_0-error:0.039551\n",
            "[366]\tvalidation_0-auc:0.842013\tvalidation_0-error:0.039551\n",
            "[367]\tvalidation_0-auc:0.842041\tvalidation_0-error:0.039551\n",
            "[368]\tvalidation_0-auc:0.842036\tvalidation_0-error:0.039551\n",
            "[369]\tvalidation_0-auc:0.842018\tvalidation_0-error:0.039551\n",
            "[370]\tvalidation_0-auc:0.842066\tvalidation_0-error:0.039551\n",
            "[371]\tvalidation_0-auc:0.842068\tvalidation_0-error:0.039551\n",
            "[372]\tvalidation_0-auc:0.842038\tvalidation_0-error:0.039551\n",
            "[373]\tvalidation_0-auc:0.842001\tvalidation_0-error:0.039551\n",
            "[374]\tvalidation_0-auc:0.841977\tvalidation_0-error:0.039551\n",
            "[375]\tvalidation_0-auc:0.842031\tvalidation_0-error:0.039551\n",
            "[376]\tvalidation_0-auc:0.842022\tvalidation_0-error:0.039551\n",
            "[377]\tvalidation_0-auc:0.842076\tvalidation_0-error:0.039551\n",
            "[378]\tvalidation_0-auc:0.842051\tvalidation_0-error:0.039551\n",
            "[379]\tvalidation_0-auc:0.841943\tvalidation_0-error:0.039551\n",
            "[380]\tvalidation_0-auc:0.841969\tvalidation_0-error:0.039551\n",
            "[381]\tvalidation_0-auc:0.842122\tvalidation_0-error:0.039551\n",
            "[382]\tvalidation_0-auc:0.842108\tvalidation_0-error:0.039551\n",
            "[383]\tvalidation_0-auc:0.842125\tvalidation_0-error:0.039551\n",
            "[384]\tvalidation_0-auc:0.842161\tvalidation_0-error:0.039551\n",
            "[385]\tvalidation_0-auc:0.842232\tvalidation_0-error:0.039551\n",
            "[386]\tvalidation_0-auc:0.842216\tvalidation_0-error:0.039551\n",
            "[387]\tvalidation_0-auc:0.842249\tvalidation_0-error:0.039551\n",
            "[388]\tvalidation_0-auc:0.842116\tvalidation_0-error:0.039551\n",
            "[389]\tvalidation_0-auc:0.841928\tvalidation_0-error:0.039551\n",
            "[390]\tvalidation_0-auc:0.841955\tvalidation_0-error:0.039551\n",
            "[391]\tvalidation_0-auc:0.841982\tvalidation_0-error:0.039551\n",
            "[392]\tvalidation_0-auc:0.841972\tvalidation_0-error:0.039551\n",
            "[393]\tvalidation_0-auc:0.841968\tvalidation_0-error:0.039551\n",
            "[394]\tvalidation_0-auc:0.842046\tvalidation_0-error:0.039551\n",
            "[395]\tvalidation_0-auc:0.842068\tvalidation_0-error:0.039551\n",
            "[396]\tvalidation_0-auc:0.842129\tvalidation_0-error:0.039551\n",
            "[397]\tvalidation_0-auc:0.842128\tvalidation_0-error:0.039551\n",
            "[398]\tvalidation_0-auc:0.842085\tvalidation_0-error:0.039551\n",
            "[399]\tvalidation_0-auc:0.842064\tvalidation_0-error:0.039551\n",
            "[400]\tvalidation_0-auc:0.842099\tvalidation_0-error:0.039551\n",
            "[401]\tvalidation_0-auc:0.842076\tvalidation_0-error:0.039551\n",
            "[402]\tvalidation_0-auc:0.842112\tvalidation_0-error:0.039551\n",
            "[403]\tvalidation_0-auc:0.84212\tvalidation_0-error:0.039551\n",
            "[404]\tvalidation_0-auc:0.842079\tvalidation_0-error:0.039551\n",
            "[405]\tvalidation_0-auc:0.842133\tvalidation_0-error:0.039551\n",
            "[406]\tvalidation_0-auc:0.842177\tvalidation_0-error:0.039551\n",
            "[407]\tvalidation_0-auc:0.842195\tvalidation_0-error:0.039551\n",
            "[408]\tvalidation_0-auc:0.842244\tvalidation_0-error:0.039551\n",
            "[409]\tvalidation_0-auc:0.842293\tvalidation_0-error:0.039551\n",
            "[410]\tvalidation_0-auc:0.842269\tvalidation_0-error:0.039551\n",
            "[411]\tvalidation_0-auc:0.842274\tvalidation_0-error:0.039551\n",
            "[412]\tvalidation_0-auc:0.842308\tvalidation_0-error:0.039551\n",
            "[413]\tvalidation_0-auc:0.842261\tvalidation_0-error:0.039551\n",
            "[414]\tvalidation_0-auc:0.842356\tvalidation_0-error:0.039551\n",
            "[415]\tvalidation_0-auc:0.842426\tvalidation_0-error:0.039551\n",
            "[416]\tvalidation_0-auc:0.842526\tvalidation_0-error:0.039551\n",
            "[417]\tvalidation_0-auc:0.842497\tvalidation_0-error:0.039551\n",
            "[418]\tvalidation_0-auc:0.842633\tvalidation_0-error:0.039551\n",
            "[419]\tvalidation_0-auc:0.84263\tvalidation_0-error:0.039551\n",
            "[420]\tvalidation_0-auc:0.842656\tvalidation_0-error:0.039551\n",
            "[421]\tvalidation_0-auc:0.842672\tvalidation_0-error:0.039551\n",
            "[422]\tvalidation_0-auc:0.842691\tvalidation_0-error:0.039551\n",
            "[423]\tvalidation_0-auc:0.842678\tvalidation_0-error:0.039551\n",
            "[424]\tvalidation_0-auc:0.8427\tvalidation_0-error:0.039551\n",
            "[425]\tvalidation_0-auc:0.842727\tvalidation_0-error:0.039551\n",
            "[426]\tvalidation_0-auc:0.842769\tvalidation_0-error:0.039551\n",
            "[427]\tvalidation_0-auc:0.842876\tvalidation_0-error:0.039551\n",
            "[428]\tvalidation_0-auc:0.842854\tvalidation_0-error:0.039551\n",
            "[429]\tvalidation_0-auc:0.842918\tvalidation_0-error:0.039551\n",
            "[430]\tvalidation_0-auc:0.842927\tvalidation_0-error:0.039551\n",
            "[431]\tvalidation_0-auc:0.842918\tvalidation_0-error:0.039551\n",
            "[432]\tvalidation_0-auc:0.842886\tvalidation_0-error:0.039551\n",
            "[433]\tvalidation_0-auc:0.842881\tvalidation_0-error:0.039551\n",
            "[434]\tvalidation_0-auc:0.842916\tvalidation_0-error:0.039551\n",
            "[435]\tvalidation_0-auc:0.842917\tvalidation_0-error:0.039551\n",
            "[436]\tvalidation_0-auc:0.842963\tvalidation_0-error:0.039551\n",
            "[437]\tvalidation_0-auc:0.843014\tvalidation_0-error:0.039551\n",
            "[438]\tvalidation_0-auc:0.843056\tvalidation_0-error:0.039551\n",
            "[439]\tvalidation_0-auc:0.84306\tvalidation_0-error:0.039551\n",
            "[440]\tvalidation_0-auc:0.843073\tvalidation_0-error:0.039551\n",
            "[441]\tvalidation_0-auc:0.843095\tvalidation_0-error:0.039551\n",
            "[442]\tvalidation_0-auc:0.843124\tvalidation_0-error:0.039551\n",
            "[443]\tvalidation_0-auc:0.843177\tvalidation_0-error:0.039551\n",
            "[444]\tvalidation_0-auc:0.843236\tvalidation_0-error:0.039551\n",
            "[445]\tvalidation_0-auc:0.84324\tvalidation_0-error:0.039551\n",
            "[446]\tvalidation_0-auc:0.843316\tvalidation_0-error:0.039551\n",
            "[447]\tvalidation_0-auc:0.843308\tvalidation_0-error:0.039551\n",
            "[448]\tvalidation_0-auc:0.843307\tvalidation_0-error:0.039551\n",
            "[449]\tvalidation_0-auc:0.843306\tvalidation_0-error:0.039551\n",
            "[450]\tvalidation_0-auc:0.843279\tvalidation_0-error:0.039551\n",
            "[451]\tvalidation_0-auc:0.843335\tvalidation_0-error:0.039551\n",
            "[452]\tvalidation_0-auc:0.843271\tvalidation_0-error:0.039551\n",
            "[453]\tvalidation_0-auc:0.843278\tvalidation_0-error:0.039551\n",
            "[454]\tvalidation_0-auc:0.843297\tvalidation_0-error:0.039551\n",
            "[455]\tvalidation_0-auc:0.843323\tvalidation_0-error:0.039551\n",
            "[456]\tvalidation_0-auc:0.843339\tvalidation_0-error:0.039551\n",
            "[457]\tvalidation_0-auc:0.843351\tvalidation_0-error:0.039551\n",
            "[458]\tvalidation_0-auc:0.84336\tvalidation_0-error:0.039551\n",
            "[459]\tvalidation_0-auc:0.843345\tvalidation_0-error:0.039551\n",
            "[460]\tvalidation_0-auc:0.84332\tvalidation_0-error:0.039551\n",
            "[461]\tvalidation_0-auc:0.843315\tvalidation_0-error:0.039551\n",
            "[462]\tvalidation_0-auc:0.843345\tvalidation_0-error:0.039551\n",
            "[463]\tvalidation_0-auc:0.843382\tvalidation_0-error:0.039551\n",
            "[464]\tvalidation_0-auc:0.843386\tvalidation_0-error:0.039551\n",
            "[465]\tvalidation_0-auc:0.843393\tvalidation_0-error:0.039551\n",
            "[466]\tvalidation_0-auc:0.843414\tvalidation_0-error:0.039551\n",
            "[467]\tvalidation_0-auc:0.843496\tvalidation_0-error:0.039551\n",
            "[468]\tvalidation_0-auc:0.843473\tvalidation_0-error:0.039551\n",
            "[469]\tvalidation_0-auc:0.843452\tvalidation_0-error:0.039551\n",
            "[470]\tvalidation_0-auc:0.843494\tvalidation_0-error:0.039551\n",
            "[471]\tvalidation_0-auc:0.843526\tvalidation_0-error:0.039551\n",
            "[472]\tvalidation_0-auc:0.843532\tvalidation_0-error:0.039551\n",
            "[473]\tvalidation_0-auc:0.843507\tvalidation_0-error:0.039551\n",
            "[474]\tvalidation_0-auc:0.843513\tvalidation_0-error:0.039551\n",
            "[475]\tvalidation_0-auc:0.843519\tvalidation_0-error:0.039551\n",
            "[476]\tvalidation_0-auc:0.843537\tvalidation_0-error:0.039551\n",
            "[477]\tvalidation_0-auc:0.84358\tvalidation_0-error:0.039551\n",
            "[478]\tvalidation_0-auc:0.843607\tvalidation_0-error:0.039551\n",
            "[479]\tvalidation_0-auc:0.843625\tvalidation_0-error:0.039551\n",
            "[480]\tvalidation_0-auc:0.843655\tvalidation_0-error:0.039551\n",
            "[481]\tvalidation_0-auc:0.843711\tvalidation_0-error:0.039551\n",
            "[482]\tvalidation_0-auc:0.843715\tvalidation_0-error:0.039551\n",
            "[483]\tvalidation_0-auc:0.843759\tvalidation_0-error:0.039551\n",
            "[484]\tvalidation_0-auc:0.843924\tvalidation_0-error:0.039551\n",
            "[485]\tvalidation_0-auc:0.843914\tvalidation_0-error:0.039551\n",
            "[486]\tvalidation_0-auc:0.843945\tvalidation_0-error:0.039551\n",
            "[487]\tvalidation_0-auc:0.843951\tvalidation_0-error:0.039551\n",
            "[488]\tvalidation_0-auc:0.843962\tvalidation_0-error:0.039551\n",
            "[489]\tvalidation_0-auc:0.843941\tvalidation_0-error:0.039551\n",
            "[490]\tvalidation_0-auc:0.843937\tvalidation_0-error:0.039551\n",
            "[491]\tvalidation_0-auc:0.843893\tvalidation_0-error:0.039551\n",
            "[492]\tvalidation_0-auc:0.84388\tvalidation_0-error:0.039551\n",
            "[493]\tvalidation_0-auc:0.843888\tvalidation_0-error:0.039551\n",
            "[494]\tvalidation_0-auc:0.843891\tvalidation_0-error:0.039551\n",
            "[495]\tvalidation_0-auc:0.843871\tvalidation_0-error:0.039551\n",
            "[496]\tvalidation_0-auc:0.843875\tvalidation_0-error:0.039551\n",
            "[497]\tvalidation_0-auc:0.843875\tvalidation_0-error:0.039551\n",
            "[498]\tvalidation_0-auc:0.843875\tvalidation_0-error:0.039551\n",
            "[499]\tvalidation_0-auc:0.843895\tvalidation_0-error:0.039551\n",
            "[500]\tvalidation_0-auc:0.843935\tvalidation_0-error:0.039551\n",
            "[501]\tvalidation_0-auc:0.843941\tvalidation_0-error:0.039551\n",
            "[502]\tvalidation_0-auc:0.843965\tvalidation_0-error:0.039551\n",
            "[503]\tvalidation_0-auc:0.84399\tvalidation_0-error:0.039551\n",
            "[504]\tvalidation_0-auc:0.843993\tvalidation_0-error:0.039551\n",
            "[505]\tvalidation_0-auc:0.844036\tvalidation_0-error:0.039551\n",
            "[506]\tvalidation_0-auc:0.844025\tvalidation_0-error:0.039551\n",
            "[507]\tvalidation_0-auc:0.844157\tvalidation_0-error:0.039551\n",
            "[508]\tvalidation_0-auc:0.844104\tvalidation_0-error:0.039551\n",
            "[509]\tvalidation_0-auc:0.844152\tvalidation_0-error:0.039551\n",
            "[510]\tvalidation_0-auc:0.844137\tvalidation_0-error:0.039551\n",
            "[511]\tvalidation_0-auc:0.844161\tvalidation_0-error:0.039551\n",
            "[512]\tvalidation_0-auc:0.844183\tvalidation_0-error:0.039551\n",
            "[513]\tvalidation_0-auc:0.844209\tvalidation_0-error:0.039551\n",
            "[514]\tvalidation_0-auc:0.844228\tvalidation_0-error:0.039551\n",
            "[515]\tvalidation_0-auc:0.844257\tvalidation_0-error:0.039551\n",
            "[516]\tvalidation_0-auc:0.844329\tvalidation_0-error:0.039551\n",
            "[517]\tvalidation_0-auc:0.844318\tvalidation_0-error:0.039551\n",
            "[518]\tvalidation_0-auc:0.844342\tvalidation_0-error:0.039551\n",
            "[519]\tvalidation_0-auc:0.844343\tvalidation_0-error:0.039551\n",
            "[520]\tvalidation_0-auc:0.84436\tvalidation_0-error:0.039551\n",
            "[521]\tvalidation_0-auc:0.844363\tvalidation_0-error:0.039551\n",
            "[522]\tvalidation_0-auc:0.844366\tvalidation_0-error:0.039551\n",
            "[523]\tvalidation_0-auc:0.844374\tvalidation_0-error:0.039551\n",
            "[524]\tvalidation_0-auc:0.844379\tvalidation_0-error:0.039551\n",
            "[525]\tvalidation_0-auc:0.844396\tvalidation_0-error:0.039551\n",
            "[526]\tvalidation_0-auc:0.844379\tvalidation_0-error:0.039551\n",
            "[527]\tvalidation_0-auc:0.844423\tvalidation_0-error:0.039551\n",
            "[528]\tvalidation_0-auc:0.844411\tvalidation_0-error:0.039551\n",
            "[529]\tvalidation_0-auc:0.844392\tvalidation_0-error:0.039551\n",
            "[530]\tvalidation_0-auc:0.844412\tvalidation_0-error:0.039551\n",
            "[531]\tvalidation_0-auc:0.844431\tvalidation_0-error:0.039551\n",
            "[532]\tvalidation_0-auc:0.844429\tvalidation_0-error:0.039551\n",
            "[533]\tvalidation_0-auc:0.844456\tvalidation_0-error:0.039551\n",
            "[534]\tvalidation_0-auc:0.844459\tvalidation_0-error:0.039551\n",
            "[535]\tvalidation_0-auc:0.84446\tvalidation_0-error:0.039551\n",
            "[536]\tvalidation_0-auc:0.844477\tvalidation_0-error:0.039551\n",
            "[537]\tvalidation_0-auc:0.844476\tvalidation_0-error:0.039551\n",
            "[538]\tvalidation_0-auc:0.844477\tvalidation_0-error:0.039551\n",
            "[539]\tvalidation_0-auc:0.844476\tvalidation_0-error:0.039551\n",
            "[540]\tvalidation_0-auc:0.844472\tvalidation_0-error:0.039551\n",
            "[541]\tvalidation_0-auc:0.84446\tvalidation_0-error:0.039551\n",
            "[542]\tvalidation_0-auc:0.844468\tvalidation_0-error:0.039551\n",
            "[543]\tvalidation_0-auc:0.844484\tvalidation_0-error:0.039551\n",
            "[544]\tvalidation_0-auc:0.844556\tvalidation_0-error:0.039551\n",
            "[545]\tvalidation_0-auc:0.84458\tvalidation_0-error:0.039551\n",
            "[546]\tvalidation_0-auc:0.844612\tvalidation_0-error:0.039551\n",
            "[547]\tvalidation_0-auc:0.84464\tvalidation_0-error:0.039551\n",
            "[548]\tvalidation_0-auc:0.84463\tvalidation_0-error:0.039551\n",
            "[549]\tvalidation_0-auc:0.844621\tvalidation_0-error:0.039551\n",
            "[550]\tvalidation_0-auc:0.844618\tvalidation_0-error:0.039551\n",
            "[551]\tvalidation_0-auc:0.844588\tvalidation_0-error:0.039551\n",
            "[552]\tvalidation_0-auc:0.844611\tvalidation_0-error:0.039551\n",
            "[553]\tvalidation_0-auc:0.844595\tvalidation_0-error:0.039551\n",
            "[554]\tvalidation_0-auc:0.844599\tvalidation_0-error:0.039551\n",
            "[555]\tvalidation_0-auc:0.844629\tvalidation_0-error:0.039551\n",
            "[556]\tvalidation_0-auc:0.844609\tvalidation_0-error:0.039551\n",
            "[557]\tvalidation_0-auc:0.844628\tvalidation_0-error:0.039551\n",
            "[558]\tvalidation_0-auc:0.84464\tvalidation_0-error:0.039551\n",
            "[559]\tvalidation_0-auc:0.844695\tvalidation_0-error:0.039551\n",
            "[560]\tvalidation_0-auc:0.844681\tvalidation_0-error:0.039551\n",
            "[561]\tvalidation_0-auc:0.844686\tvalidation_0-error:0.039551\n",
            "[562]\tvalidation_0-auc:0.844698\tvalidation_0-error:0.039551\n",
            "[563]\tvalidation_0-auc:0.844743\tvalidation_0-error:0.039551\n",
            "[564]\tvalidation_0-auc:0.844775\tvalidation_0-error:0.039551\n",
            "[565]\tvalidation_0-auc:0.844763\tvalidation_0-error:0.039551\n",
            "[566]\tvalidation_0-auc:0.844792\tvalidation_0-error:0.039551\n",
            "[567]\tvalidation_0-auc:0.844754\tvalidation_0-error:0.039551\n",
            "[568]\tvalidation_0-auc:0.844777\tvalidation_0-error:0.039551\n",
            "[569]\tvalidation_0-auc:0.844765\tvalidation_0-error:0.039551\n",
            "[570]\tvalidation_0-auc:0.844746\tvalidation_0-error:0.039551\n",
            "[571]\tvalidation_0-auc:0.844776\tvalidation_0-error:0.039551\n",
            "[572]\tvalidation_0-auc:0.844797\tvalidation_0-error:0.039551\n",
            "[573]\tvalidation_0-auc:0.844811\tvalidation_0-error:0.039551\n",
            "[574]\tvalidation_0-auc:0.844791\tvalidation_0-error:0.039551\n",
            "[575]\tvalidation_0-auc:0.844829\tvalidation_0-error:0.039551\n",
            "[576]\tvalidation_0-auc:0.844839\tvalidation_0-error:0.039551\n",
            "[577]\tvalidation_0-auc:0.844811\tvalidation_0-error:0.039551\n",
            "[578]\tvalidation_0-auc:0.844787\tvalidation_0-error:0.039551\n",
            "[579]\tvalidation_0-auc:0.844846\tvalidation_0-error:0.039551\n",
            "[580]\tvalidation_0-auc:0.844866\tvalidation_0-error:0.039551\n",
            "[581]\tvalidation_0-auc:0.844771\tvalidation_0-error:0.039551\n",
            "[582]\tvalidation_0-auc:0.84479\tvalidation_0-error:0.039551\n",
            "[583]\tvalidation_0-auc:0.844836\tvalidation_0-error:0.039551\n",
            "[584]\tvalidation_0-auc:0.844898\tvalidation_0-error:0.039551\n",
            "[585]\tvalidation_0-auc:0.84489\tvalidation_0-error:0.039551\n",
            "[586]\tvalidation_0-auc:0.844896\tvalidation_0-error:0.039551\n",
            "[587]\tvalidation_0-auc:0.844947\tvalidation_0-error:0.039551\n",
            "[588]\tvalidation_0-auc:0.844909\tvalidation_0-error:0.039551\n",
            "[589]\tvalidation_0-auc:0.84495\tvalidation_0-error:0.039551\n",
            "[590]\tvalidation_0-auc:0.84493\tvalidation_0-error:0.039551\n",
            "[591]\tvalidation_0-auc:0.844948\tvalidation_0-error:0.039551\n",
            "[592]\tvalidation_0-auc:0.844914\tvalidation_0-error:0.039551\n",
            "[593]\tvalidation_0-auc:0.844934\tvalidation_0-error:0.039551\n",
            "[594]\tvalidation_0-auc:0.844966\tvalidation_0-error:0.039551\n",
            "[595]\tvalidation_0-auc:0.844994\tvalidation_0-error:0.039551\n",
            "[596]\tvalidation_0-auc:0.845007\tvalidation_0-error:0.039551\n",
            "[597]\tvalidation_0-auc:0.845067\tvalidation_0-error:0.039551\n",
            "[598]\tvalidation_0-auc:0.845104\tvalidation_0-error:0.039551\n",
            "[599]\tvalidation_0-auc:0.845088\tvalidation_0-error:0.039551\n",
            "[600]\tvalidation_0-auc:0.84512\tvalidation_0-error:0.039551\n",
            "[601]\tvalidation_0-auc:0.845119\tvalidation_0-error:0.039551\n",
            "[602]\tvalidation_0-auc:0.845167\tvalidation_0-error:0.039551\n",
            "[603]\tvalidation_0-auc:0.845147\tvalidation_0-error:0.039551\n",
            "[604]\tvalidation_0-auc:0.84515\tvalidation_0-error:0.039551\n",
            "[605]\tvalidation_0-auc:0.845175\tvalidation_0-error:0.039551\n",
            "[606]\tvalidation_0-auc:0.845172\tvalidation_0-error:0.039551\n",
            "[607]\tvalidation_0-auc:0.845169\tvalidation_0-error:0.039551\n",
            "[608]\tvalidation_0-auc:0.845205\tvalidation_0-error:0.039551\n",
            "[609]\tvalidation_0-auc:0.845213\tvalidation_0-error:0.039551\n",
            "[610]\tvalidation_0-auc:0.845194\tvalidation_0-error:0.039551\n",
            "[611]\tvalidation_0-auc:0.845237\tvalidation_0-error:0.039551\n",
            "[612]\tvalidation_0-auc:0.84529\tvalidation_0-error:0.039551\n",
            "[613]\tvalidation_0-auc:0.845316\tvalidation_0-error:0.039551\n",
            "[614]\tvalidation_0-auc:0.8453\tvalidation_0-error:0.039551\n",
            "[615]\tvalidation_0-auc:0.845309\tvalidation_0-error:0.039551\n",
            "[616]\tvalidation_0-auc:0.845325\tvalidation_0-error:0.039551\n",
            "[617]\tvalidation_0-auc:0.845377\tvalidation_0-error:0.039551\n",
            "[618]\tvalidation_0-auc:0.845401\tvalidation_0-error:0.039551\n",
            "[619]\tvalidation_0-auc:0.845378\tvalidation_0-error:0.039551\n",
            "[620]\tvalidation_0-auc:0.845329\tvalidation_0-error:0.039551\n",
            "[621]\tvalidation_0-auc:0.845287\tvalidation_0-error:0.039551\n",
            "[622]\tvalidation_0-auc:0.845295\tvalidation_0-error:0.039551\n",
            "[623]\tvalidation_0-auc:0.84533\tvalidation_0-error:0.039551\n",
            "[624]\tvalidation_0-auc:0.845335\tvalidation_0-error:0.039551\n",
            "[625]\tvalidation_0-auc:0.845379\tvalidation_0-error:0.039551\n",
            "[626]\tvalidation_0-auc:0.84542\tvalidation_0-error:0.039551\n",
            "[627]\tvalidation_0-auc:0.845483\tvalidation_0-error:0.039551\n",
            "[628]\tvalidation_0-auc:0.845461\tvalidation_0-error:0.039551\n",
            "[629]\tvalidation_0-auc:0.845453\tvalidation_0-error:0.039551\n",
            "[630]\tvalidation_0-auc:0.845402\tvalidation_0-error:0.039551\n",
            "[631]\tvalidation_0-auc:0.84537\tvalidation_0-error:0.039551\n",
            "[632]\tvalidation_0-auc:0.845377\tvalidation_0-error:0.039551\n",
            "[633]\tvalidation_0-auc:0.845392\tvalidation_0-error:0.039551\n",
            "[634]\tvalidation_0-auc:0.845353\tvalidation_0-error:0.039551\n",
            "[635]\tvalidation_0-auc:0.84538\tvalidation_0-error:0.039551\n",
            "[636]\tvalidation_0-auc:0.845421\tvalidation_0-error:0.039551\n",
            "[637]\tvalidation_0-auc:0.845453\tvalidation_0-error:0.039551\n",
            "[638]\tvalidation_0-auc:0.845508\tvalidation_0-error:0.039551\n",
            "[639]\tvalidation_0-auc:0.845522\tvalidation_0-error:0.039551\n",
            "[640]\tvalidation_0-auc:0.845543\tvalidation_0-error:0.039551\n",
            "[641]\tvalidation_0-auc:0.845524\tvalidation_0-error:0.039551\n",
            "[642]\tvalidation_0-auc:0.845551\tvalidation_0-error:0.039551\n",
            "[643]\tvalidation_0-auc:0.845575\tvalidation_0-error:0.039551\n",
            "[644]\tvalidation_0-auc:0.845568\tvalidation_0-error:0.039551\n",
            "[645]\tvalidation_0-auc:0.845558\tvalidation_0-error:0.039551\n",
            "[646]\tvalidation_0-auc:0.845582\tvalidation_0-error:0.039551\n",
            "[647]\tvalidation_0-auc:0.845569\tvalidation_0-error:0.039551\n",
            "[648]\tvalidation_0-auc:0.845549\tvalidation_0-error:0.039551\n",
            "[649]\tvalidation_0-auc:0.84557\tvalidation_0-error:0.039551\n",
            "[650]\tvalidation_0-auc:0.845582\tvalidation_0-error:0.039551\n",
            "[651]\tvalidation_0-auc:0.84557\tvalidation_0-error:0.039551\n",
            "[652]\tvalidation_0-auc:0.84557\tvalidation_0-error:0.039551\n",
            "[653]\tvalidation_0-auc:0.845605\tvalidation_0-error:0.039551\n",
            "[654]\tvalidation_0-auc:0.845606\tvalidation_0-error:0.039551\n",
            "[655]\tvalidation_0-auc:0.845619\tvalidation_0-error:0.039551\n",
            "[656]\tvalidation_0-auc:0.845606\tvalidation_0-error:0.039551\n",
            "[657]\tvalidation_0-auc:0.845601\tvalidation_0-error:0.039551\n",
            "[658]\tvalidation_0-auc:0.845562\tvalidation_0-error:0.039551\n",
            "[659]\tvalidation_0-auc:0.845559\tvalidation_0-error:0.039551\n",
            "[660]\tvalidation_0-auc:0.845571\tvalidation_0-error:0.039551\n",
            "[661]\tvalidation_0-auc:0.845539\tvalidation_0-error:0.039551\n",
            "[662]\tvalidation_0-auc:0.845542\tvalidation_0-error:0.039551\n",
            "[663]\tvalidation_0-auc:0.845572\tvalidation_0-error:0.039551\n",
            "[664]\tvalidation_0-auc:0.845598\tvalidation_0-error:0.039551\n",
            "[665]\tvalidation_0-auc:0.845657\tvalidation_0-error:0.039551\n",
            "[666]\tvalidation_0-auc:0.845682\tvalidation_0-error:0.039551\n",
            "[667]\tvalidation_0-auc:0.845686\tvalidation_0-error:0.039551\n",
            "[668]\tvalidation_0-auc:0.845645\tvalidation_0-error:0.039551\n",
            "[669]\tvalidation_0-auc:0.8456\tvalidation_0-error:0.039551\n",
            "[670]\tvalidation_0-auc:0.845641\tvalidation_0-error:0.039551\n",
            "[671]\tvalidation_0-auc:0.845669\tvalidation_0-error:0.039551\n",
            "[672]\tvalidation_0-auc:0.845692\tvalidation_0-error:0.039551\n",
            "[673]\tvalidation_0-auc:0.845711\tvalidation_0-error:0.039551\n",
            "[674]\tvalidation_0-auc:0.845643\tvalidation_0-error:0.039551\n",
            "[675]\tvalidation_0-auc:0.845693\tvalidation_0-error:0.039551\n",
            "[676]\tvalidation_0-auc:0.845688\tvalidation_0-error:0.039551\n",
            "[677]\tvalidation_0-auc:0.845663\tvalidation_0-error:0.039551\n",
            "[678]\tvalidation_0-auc:0.845677\tvalidation_0-error:0.039551\n",
            "[679]\tvalidation_0-auc:0.845659\tvalidation_0-error:0.039551\n",
            "[680]\tvalidation_0-auc:0.845679\tvalidation_0-error:0.039551\n",
            "[681]\tvalidation_0-auc:0.845685\tvalidation_0-error:0.039551\n",
            "[682]\tvalidation_0-auc:0.845698\tvalidation_0-error:0.039551\n",
            "[683]\tvalidation_0-auc:0.845671\tvalidation_0-error:0.039551\n",
            "[684]\tvalidation_0-auc:0.845665\tvalidation_0-error:0.039551\n",
            "[685]\tvalidation_0-auc:0.845653\tvalidation_0-error:0.039551\n",
            "[686]\tvalidation_0-auc:0.84566\tvalidation_0-error:0.039551\n",
            "[687]\tvalidation_0-auc:0.845617\tvalidation_0-error:0.039551\n",
            "[688]\tvalidation_0-auc:0.845631\tvalidation_0-error:0.039551\n",
            "[689]\tvalidation_0-auc:0.845702\tvalidation_0-error:0.039551\n",
            "[690]\tvalidation_0-auc:0.845711\tvalidation_0-error:0.039551\n",
            "[691]\tvalidation_0-auc:0.845755\tvalidation_0-error:0.039551\n",
            "[692]\tvalidation_0-auc:0.845743\tvalidation_0-error:0.039551\n",
            "[693]\tvalidation_0-auc:0.845661\tvalidation_0-error:0.039551\n",
            "[694]\tvalidation_0-auc:0.845673\tvalidation_0-error:0.039551\n",
            "[695]\tvalidation_0-auc:0.845679\tvalidation_0-error:0.039551\n",
            "[696]\tvalidation_0-auc:0.845659\tvalidation_0-error:0.039551\n",
            "[697]\tvalidation_0-auc:0.845653\tvalidation_0-error:0.039551\n",
            "[698]\tvalidation_0-auc:0.845618\tvalidation_0-error:0.039551\n",
            "[699]\tvalidation_0-auc:0.845668\tvalidation_0-error:0.039551\n",
            "[700]\tvalidation_0-auc:0.845778\tvalidation_0-error:0.039551\n",
            "[701]\tvalidation_0-auc:0.845761\tvalidation_0-error:0.039551\n",
            "[702]\tvalidation_0-auc:0.845741\tvalidation_0-error:0.039551\n",
            "[703]\tvalidation_0-auc:0.84571\tvalidation_0-error:0.039551\n",
            "[704]\tvalidation_0-auc:0.845698\tvalidation_0-error:0.039551\n",
            "[705]\tvalidation_0-auc:0.845722\tvalidation_0-error:0.039551\n",
            "[706]\tvalidation_0-auc:0.845723\tvalidation_0-error:0.039551\n",
            "[707]\tvalidation_0-auc:0.845678\tvalidation_0-error:0.039551\n",
            "[708]\tvalidation_0-auc:0.845649\tvalidation_0-error:0.039551\n",
            "[709]\tvalidation_0-auc:0.845668\tvalidation_0-error:0.039551\n",
            "[710]\tvalidation_0-auc:0.845695\tvalidation_0-error:0.039551\n",
            "[711]\tvalidation_0-auc:0.845687\tvalidation_0-error:0.039551\n",
            "[712]\tvalidation_0-auc:0.845713\tvalidation_0-error:0.039551\n",
            "[713]\tvalidation_0-auc:0.845687\tvalidation_0-error:0.039551\n",
            "[714]\tvalidation_0-auc:0.845701\tvalidation_0-error:0.039551\n",
            "[715]\tvalidation_0-auc:0.845702\tvalidation_0-error:0.039551\n",
            "[716]\tvalidation_0-auc:0.845729\tvalidation_0-error:0.039551\n",
            "[717]\tvalidation_0-auc:0.845697\tvalidation_0-error:0.039551\n",
            "[718]\tvalidation_0-auc:0.845704\tvalidation_0-error:0.039551\n",
            "[719]\tvalidation_0-auc:0.845739\tvalidation_0-error:0.039551\n",
            "[720]\tvalidation_0-auc:0.845737\tvalidation_0-error:0.039551\n",
            "[721]\tvalidation_0-auc:0.845742\tvalidation_0-error:0.039551\n",
            "[722]\tvalidation_0-auc:0.845696\tvalidation_0-error:0.039551\n",
            "[723]\tvalidation_0-auc:0.845667\tvalidation_0-error:0.039551\n",
            "[724]\tvalidation_0-auc:0.845649\tvalidation_0-error:0.039551\n",
            "[725]\tvalidation_0-auc:0.845662\tvalidation_0-error:0.039551\n",
            "[726]\tvalidation_0-auc:0.845686\tvalidation_0-error:0.039551\n",
            "[727]\tvalidation_0-auc:0.845695\tvalidation_0-error:0.039551\n",
            "[728]\tvalidation_0-auc:0.845653\tvalidation_0-error:0.039551\n",
            "[729]\tvalidation_0-auc:0.845676\tvalidation_0-error:0.039551\n",
            "[730]\tvalidation_0-auc:0.845649\tvalidation_0-error:0.039551\n",
            "[731]\tvalidation_0-auc:0.845691\tvalidation_0-error:0.039551\n",
            "[732]\tvalidation_0-auc:0.845772\tvalidation_0-error:0.039551\n",
            "[733]\tvalidation_0-auc:0.845782\tvalidation_0-error:0.039551\n",
            "[734]\tvalidation_0-auc:0.845764\tvalidation_0-error:0.039551\n",
            "[735]\tvalidation_0-auc:0.845763\tvalidation_0-error:0.039551\n",
            "[736]\tvalidation_0-auc:0.84579\tvalidation_0-error:0.039551\n",
            "[737]\tvalidation_0-auc:0.845833\tvalidation_0-error:0.039551\n",
            "[738]\tvalidation_0-auc:0.845807\tvalidation_0-error:0.039551\n",
            "[739]\tvalidation_0-auc:0.845787\tvalidation_0-error:0.039551\n",
            "[740]\tvalidation_0-auc:0.845748\tvalidation_0-error:0.039551\n",
            "[741]\tvalidation_0-auc:0.845756\tvalidation_0-error:0.039551\n",
            "[742]\tvalidation_0-auc:0.845805\tvalidation_0-error:0.039551\n",
            "[743]\tvalidation_0-auc:0.845794\tvalidation_0-error:0.039551\n",
            "[744]\tvalidation_0-auc:0.845836\tvalidation_0-error:0.039551\n",
            "[745]\tvalidation_0-auc:0.845841\tvalidation_0-error:0.039551\n",
            "[746]\tvalidation_0-auc:0.845862\tvalidation_0-error:0.039551\n",
            "[747]\tvalidation_0-auc:0.84587\tvalidation_0-error:0.039551\n",
            "[748]\tvalidation_0-auc:0.845835\tvalidation_0-error:0.039551\n",
            "[749]\tvalidation_0-auc:0.845815\tvalidation_0-error:0.039551\n",
            "[750]\tvalidation_0-auc:0.845824\tvalidation_0-error:0.039551\n",
            "[751]\tvalidation_0-auc:0.845869\tvalidation_0-error:0.039551\n",
            "[752]\tvalidation_0-auc:0.845833\tvalidation_0-error:0.039551\n",
            "[753]\tvalidation_0-auc:0.845852\tvalidation_0-error:0.039551\n",
            "[754]\tvalidation_0-auc:0.845883\tvalidation_0-error:0.039551\n",
            "[755]\tvalidation_0-auc:0.845873\tvalidation_0-error:0.039551\n",
            "[756]\tvalidation_0-auc:0.84587\tvalidation_0-error:0.039551\n",
            "[757]\tvalidation_0-auc:0.845867\tvalidation_0-error:0.039551\n",
            "[758]\tvalidation_0-auc:0.845864\tvalidation_0-error:0.039551\n",
            "[759]\tvalidation_0-auc:0.845871\tvalidation_0-error:0.039551\n",
            "[760]\tvalidation_0-auc:0.845861\tvalidation_0-error:0.039551\n",
            "[761]\tvalidation_0-auc:0.845862\tvalidation_0-error:0.039551\n",
            "[762]\tvalidation_0-auc:0.845894\tvalidation_0-error:0.039551\n",
            "[763]\tvalidation_0-auc:0.845879\tvalidation_0-error:0.039551\n",
            "[764]\tvalidation_0-auc:0.845891\tvalidation_0-error:0.039551\n",
            "[765]\tvalidation_0-auc:0.845911\tvalidation_0-error:0.039551\n",
            "[766]\tvalidation_0-auc:0.845911\tvalidation_0-error:0.039551\n",
            "[767]\tvalidation_0-auc:0.845932\tvalidation_0-error:0.039551\n",
            "[768]\tvalidation_0-auc:0.845914\tvalidation_0-error:0.039551\n",
            "[769]\tvalidation_0-auc:0.845931\tvalidation_0-error:0.039551\n",
            "[770]\tvalidation_0-auc:0.845918\tvalidation_0-error:0.039551\n",
            "[771]\tvalidation_0-auc:0.845917\tvalidation_0-error:0.039551\n",
            "[772]\tvalidation_0-auc:0.845924\tvalidation_0-error:0.039551\n",
            "[773]\tvalidation_0-auc:0.845946\tvalidation_0-error:0.039551\n",
            "[774]\tvalidation_0-auc:0.846\tvalidation_0-error:0.039551\n",
            "[775]\tvalidation_0-auc:0.84604\tvalidation_0-error:0.039551\n",
            "[776]\tvalidation_0-auc:0.846049\tvalidation_0-error:0.039551\n",
            "[777]\tvalidation_0-auc:0.846082\tvalidation_0-error:0.039551\n",
            "[778]\tvalidation_0-auc:0.846036\tvalidation_0-error:0.039551\n",
            "[779]\tvalidation_0-auc:0.845999\tvalidation_0-error:0.039551\n",
            "[780]\tvalidation_0-auc:0.845972\tvalidation_0-error:0.039551\n",
            "[781]\tvalidation_0-auc:0.845976\tvalidation_0-error:0.039551\n",
            "[782]\tvalidation_0-auc:0.845926\tvalidation_0-error:0.039551\n",
            "[783]\tvalidation_0-auc:0.845924\tvalidation_0-error:0.039551\n",
            "[784]\tvalidation_0-auc:0.845908\tvalidation_0-error:0.039551\n",
            "[785]\tvalidation_0-auc:0.845902\tvalidation_0-error:0.039551\n",
            "[786]\tvalidation_0-auc:0.84593\tvalidation_0-error:0.039551\n",
            "[787]\tvalidation_0-auc:0.845894\tvalidation_0-error:0.039551\n",
            "[788]\tvalidation_0-auc:0.845908\tvalidation_0-error:0.039551\n",
            "[789]\tvalidation_0-auc:0.845898\tvalidation_0-error:0.039551\n",
            "[790]\tvalidation_0-auc:0.845953\tvalidation_0-error:0.039551\n",
            "[791]\tvalidation_0-auc:0.84589\tvalidation_0-error:0.039551\n",
            "[792]\tvalidation_0-auc:0.845903\tvalidation_0-error:0.039551\n",
            "[793]\tvalidation_0-auc:0.845843\tvalidation_0-error:0.039551\n",
            "[794]\tvalidation_0-auc:0.845845\tvalidation_0-error:0.039551\n",
            "[795]\tvalidation_0-auc:0.845848\tvalidation_0-error:0.039551\n",
            "[796]\tvalidation_0-auc:0.845839\tvalidation_0-error:0.039551\n",
            "[797]\tvalidation_0-auc:0.845841\tvalidation_0-error:0.039551\n",
            "[798]\tvalidation_0-auc:0.845807\tvalidation_0-error:0.039551\n",
            "[799]\tvalidation_0-auc:0.845834\tvalidation_0-error:0.039551\n",
            "[800]\tvalidation_0-auc:0.845829\tvalidation_0-error:0.039551\n",
            "[801]\tvalidation_0-auc:0.845816\tvalidation_0-error:0.039551\n",
            "[802]\tvalidation_0-auc:0.845817\tvalidation_0-error:0.039551\n",
            "[803]\tvalidation_0-auc:0.845814\tvalidation_0-error:0.039551\n",
            "[804]\tvalidation_0-auc:0.845805\tvalidation_0-error:0.039551\n",
            "[805]\tvalidation_0-auc:0.845777\tvalidation_0-error:0.039551\n",
            "[806]\tvalidation_0-auc:0.845754\tvalidation_0-error:0.039551\n",
            "[807]\tvalidation_0-auc:0.845752\tvalidation_0-error:0.039551\n",
            "[808]\tvalidation_0-auc:0.845774\tvalidation_0-error:0.039551\n",
            "[809]\tvalidation_0-auc:0.845786\tvalidation_0-error:0.039551\n",
            "[810]\tvalidation_0-auc:0.845778\tvalidation_0-error:0.039551\n",
            "[811]\tvalidation_0-auc:0.845789\tvalidation_0-error:0.039551\n",
            "[812]\tvalidation_0-auc:0.845807\tvalidation_0-error:0.039551\n",
            "[813]\tvalidation_0-auc:0.845814\tvalidation_0-error:0.039551\n",
            "[814]\tvalidation_0-auc:0.845798\tvalidation_0-error:0.039551\n",
            "[815]\tvalidation_0-auc:0.845772\tvalidation_0-error:0.039551\n",
            "[816]\tvalidation_0-auc:0.845848\tvalidation_0-error:0.039551\n",
            "[817]\tvalidation_0-auc:0.845827\tvalidation_0-error:0.039551\n",
            "[818]\tvalidation_0-auc:0.845809\tvalidation_0-error:0.039551\n",
            "[819]\tvalidation_0-auc:0.845812\tvalidation_0-error:0.039551\n",
            "[820]\tvalidation_0-auc:0.845824\tvalidation_0-error:0.039551\n",
            "[821]\tvalidation_0-auc:0.845862\tvalidation_0-error:0.039551\n",
            "[822]\tvalidation_0-auc:0.845886\tvalidation_0-error:0.039551\n",
            "[823]\tvalidation_0-auc:0.845918\tvalidation_0-error:0.039551\n",
            "[824]\tvalidation_0-auc:0.845891\tvalidation_0-error:0.039551\n",
            "[825]\tvalidation_0-auc:0.845896\tvalidation_0-error:0.039551\n",
            "[826]\tvalidation_0-auc:0.845899\tvalidation_0-error:0.039551\n",
            "[827]\tvalidation_0-auc:0.845888\tvalidation_0-error:0.039551\n",
            "[828]\tvalidation_0-auc:0.845926\tvalidation_0-error:0.039551\n",
            "[829]\tvalidation_0-auc:0.845899\tvalidation_0-error:0.039551\n",
            "[830]\tvalidation_0-auc:0.845925\tvalidation_0-error:0.039551\n",
            "[831]\tvalidation_0-auc:0.845934\tvalidation_0-error:0.039551\n",
            "[832]\tvalidation_0-auc:0.845897\tvalidation_0-error:0.039551\n",
            "[833]\tvalidation_0-auc:0.845874\tvalidation_0-error:0.039551\n",
            "[834]\tvalidation_0-auc:0.845876\tvalidation_0-error:0.039551\n",
            "[835]\tvalidation_0-auc:0.845854\tvalidation_0-error:0.039551\n",
            "[836]\tvalidation_0-auc:0.84586\tvalidation_0-error:0.039551\n",
            "[837]\tvalidation_0-auc:0.845855\tvalidation_0-error:0.039551\n",
            "[838]\tvalidation_0-auc:0.845881\tvalidation_0-error:0.039551\n",
            "[839]\tvalidation_0-auc:0.845865\tvalidation_0-error:0.039551\n",
            "[840]\tvalidation_0-auc:0.845885\tvalidation_0-error:0.039551\n",
            "[841]\tvalidation_0-auc:0.84586\tvalidation_0-error:0.039551\n",
            "[842]\tvalidation_0-auc:0.845909\tvalidation_0-error:0.039551\n",
            "[843]\tvalidation_0-auc:0.845927\tvalidation_0-error:0.039551\n",
            "[844]\tvalidation_0-auc:0.845949\tvalidation_0-error:0.039551\n",
            "[845]\tvalidation_0-auc:0.845926\tvalidation_0-error:0.039551\n",
            "[846]\tvalidation_0-auc:0.845931\tvalidation_0-error:0.039551\n",
            "[847]\tvalidation_0-auc:0.845895\tvalidation_0-error:0.039551\n",
            "[848]\tvalidation_0-auc:0.845912\tvalidation_0-error:0.039551\n",
            "[849]\tvalidation_0-auc:0.845901\tvalidation_0-error:0.039551\n",
            "[850]\tvalidation_0-auc:0.845893\tvalidation_0-error:0.039551\n",
            "[851]\tvalidation_0-auc:0.84584\tvalidation_0-error:0.039551\n",
            "[852]\tvalidation_0-auc:0.845836\tvalidation_0-error:0.039551\n",
            "[853]\tvalidation_0-auc:0.845843\tvalidation_0-error:0.039551\n",
            "[854]\tvalidation_0-auc:0.845832\tvalidation_0-error:0.039551\n",
            "[855]\tvalidation_0-auc:0.845823\tvalidation_0-error:0.039551\n",
            "[856]\tvalidation_0-auc:0.845824\tvalidation_0-error:0.039551\n",
            "[857]\tvalidation_0-auc:0.845799\tvalidation_0-error:0.039551\n",
            "[858]\tvalidation_0-auc:0.845775\tvalidation_0-error:0.039551\n",
            "[859]\tvalidation_0-auc:0.84576\tvalidation_0-error:0.039551\n",
            "[860]\tvalidation_0-auc:0.845747\tvalidation_0-error:0.039551\n",
            "[861]\tvalidation_0-auc:0.845723\tvalidation_0-error:0.039551\n",
            "[862]\tvalidation_0-auc:0.845754\tvalidation_0-error:0.039551\n",
            "[863]\tvalidation_0-auc:0.845744\tvalidation_0-error:0.039551\n",
            "[864]\tvalidation_0-auc:0.84576\tvalidation_0-error:0.039551\n",
            "CPU times: user 12min 59s, sys: 1.39 s, total: 13min 1s\n",
            "Wall time: 6min 41s\n"
          ],
          "name": "stdout"
        },
        {
          "output_type": "execute_result",
          "data": {
            "text/plain": [
              "XGBClassifier(base_score=0.5, booster='gbtree', colsample_bylevel=1,\n",
              "              colsample_bynode=1, colsample_bytree=0.8, gamma=1,\n",
              "              learning_rate=0.01, max_delta_step=0, max_depth=5,\n",
              "              min_child_weight=1, missing=None, n_estimators=865, n_jobs=-1,\n",
              "              nthread=-1, objective='binary:logistic', random_state=42,\n",
              "              reg_alpha=0.3, reg_lambda=1, scale_pos_weight=1, seed=None,\n",
              "              silent=None, subsample=0.7, verbosity=1)"
            ]
          },
          "metadata": {
            "tags": []
          },
          "execution_count": 42
        }
      ]
    },
    {
      "cell_type": "code",
      "metadata": {
        "colab_type": "code",
        "id": "9ZI4N9TM-V3D",
        "colab": {
          "base_uri": "https://localhost:8080/",
          "height": 352
        },
        "outputId": "c9822e25-df42-4fcb-9ff0-709416ea2b0f"
      },
      "source": [
        "y_pred = model.predict_proba(X_val_200)[:,1]\n",
        "label=\"XGBoost Classifer(top 250)\"\n",
        "labels.append(label)\n",
        "y_preds.append(y_pred)\n",
        "i+=1\n",
        "result = plot_auc(y_val,y_pred,label)\n",
        "result_df = result_df.append(result)\n",
        "del result"
      ],
      "execution_count": null,
      "outputs": [
        {
          "output_type": "stream",
          "text": [
            "\t\t XGBoost Classifer(top 250) on Normal with Response Encoding dataset \t\t \n",
            "\n"
          ],
          "name": "stdout"
        },
        {
          "output_type": "display_data",
          "data": {
            "image/png": "[encoded data removed]",
            "text/plain": [
              "<Figure size 432x288 with 1 Axes>"
            ]
          },
          "metadata": {
            "tags": [],
            "needs_background": "light"
          }
        },
        {
          "output_type": "stream",
          "text": [
            "The log loss and auc was found to be 0.133 and 0.846 for XGBoost Classifer(top 250) on Normal with Response Encoding dataset.\n"
          ],
          "name": "stdout"
        }
      ]
    },
    {
      "cell_type": "code",
      "metadata": {
        "colab_type": "code",
        "id": "LN2FW-s2-V3G",
        "colab": {
          "base_uri": "https://localhost:8080/",
          "height": 266
        },
        "outputId": "e4656801-fb6e-4092-8a2b-681a1ed19eae"
      },
      "source": [
        "result_df"
      ],
      "execution_count": null,
      "outputs": [
        {
          "output_type": "execute_result",
          "data": {
            "text/html": [
              "<div>\n",
              "<style scoped>\n",
              "    .dataframe tbody tr th:only-of-type {\n",
              "        vertical-align: middle;\n",
              "    }\n",
              "\n",
              "    .dataframe tbody tr th {\n",
              "        vertical-align: top;\n",
              "    }\n",
              "\n",
              "    .dataframe thead th {\n",
              "        text-align: right;\n",
              "    }\n",
              "</style>\n",
              "<table border=\"1\" class=\"dataframe\">\n",
              "  <thead>\n",
              "    <tr style=\"text-align: right;\">\n",
              "      <th></th>\n",
              "      <th>Model</th>\n",
              "      <th>Dataset</th>\n",
              "      <th>log_loss</th>\n",
              "      <th>auc</th>\n",
              "    </tr>\n",
              "  </thead>\n",
              "  <tbody>\n",
              "    <tr>\n",
              "      <th>0</th>\n",
              "      <td>Logisic Regression</td>\n",
              "      <td>Normal with Response Encoding</td>\n",
              "      <td>0.523996</td>\n",
              "      <td>0.823515</td>\n",
              "    </tr>\n",
              "    <tr>\n",
              "      <th>1</th>\n",
              "      <td>Decision Tree Classifier</td>\n",
              "      <td>Normal with Response Encoding</td>\n",
              "      <td>0.149110</td>\n",
              "      <td>0.769599</td>\n",
              "    </tr>\n",
              "    <tr>\n",
              "      <th>2</th>\n",
              "      <td>Random Forest Classifier</td>\n",
              "      <td>Normal with Response Encoding</td>\n",
              "      <td>0.136829</td>\n",
              "      <td>0.836315</td>\n",
              "    </tr>\n",
              "    <tr>\n",
              "      <th>3</th>\n",
              "      <td>XGBoost Classifer</td>\n",
              "      <td>Normal with Response Encoding</td>\n",
              "      <td>0.133739</td>\n",
              "      <td>0.845052</td>\n",
              "    </tr>\n",
              "    <tr>\n",
              "      <th>4</th>\n",
              "      <td>LightGBM Classifer</td>\n",
              "      <td>Normal with Response Encoding</td>\n",
              "      <td>0.134520</td>\n",
              "      <td>0.845469</td>\n",
              "    </tr>\n",
              "    <tr>\n",
              "      <th>5</th>\n",
              "      <td>Random Forest Classifier (top 250)</td>\n",
              "      <td>Normal with Response Encoding</td>\n",
              "      <td>0.136440</td>\n",
              "      <td>0.837497</td>\n",
              "    </tr>\n",
              "    <tr>\n",
              "      <th>6</th>\n",
              "      <td>XGBoost Classifer(top 250)</td>\n",
              "      <td>Normal with Response Encoding</td>\n",
              "      <td>0.133050</td>\n",
              "      <td>0.845760</td>\n",
              "    </tr>\n",
              "  </tbody>\n",
              "</table>\n",
              "</div>"
            ],
            "text/plain": [
              "                                Model  ...       auc\n",
              "0                  Logisic Regression  ...  0.823515\n",
              "1            Decision Tree Classifier  ...  0.769599\n",
              "2            Random Forest Classifier  ...  0.836315\n",
              "3                   XGBoost Classifer  ...  0.845052\n",
              "4                  LightGBM Classifer  ...  0.845469\n",
              "5  Random Forest Classifier (top 250)  ...  0.837497\n",
              "6          XGBoost Classifer(top 250)  ...  0.845760\n",
              "\n",
              "[7 rows x 4 columns]"
            ]
          },
          "metadata": {
            "tags": []
          },
          "execution_count": 44
        }
      ]
    },
    {
      "cell_type": "markdown",
      "metadata": {
        "colab_type": "text",
        "id": "mYW7_x88-V3J"
      },
      "source": [
        "# LightGBM Classifier (top 250)"
      ]
    },
    {
      "cell_type": "code",
      "metadata": {
        "colab_type": "code",
        "id": "EYaevQf8-V3J",
        "colab": {}
      },
      "source": [
        "model = lgb.LGBMClassifier(n_jobs=-1,\n",
        "                      nthread=-1,\n",
        "                      scale_pos_weight=1,\n",
        "                      learning_rate=0.01,  \n",
        "                      colsample_bytree = 0.5,\n",
        "                      subsample = 1,\n",
        "                      objective='binary', \n",
        "                      n_estimators=447,\n",
        "                      reg_alpha = 0,\n",
        "                      max_depth=7,\n",
        "                      gamma=5,\n",
        "                      random_state=42\n",
        "                     )"
      ],
      "execution_count": null,
      "outputs": []
    },
    {
      "cell_type": "code",
      "metadata": {
        "colab_type": "code",
        "id": "JhKg3-Lv-V3M",
        "colab": {
          "base_uri": "https://localhost:8080/",
          "height": 1000
        },
        "outputId": "5fe9a400-a9eb-465c-c904-f7e4dddd1654"
      },
      "source": [
        "#https://towardsdatascience.com/fine-tuning-xgboost-in-python-like-a-boss-b4543ed8b1e\n",
        "\"\"\"\n",
        "manually changed each parameters 1 by 1 and compared the validation auc\n",
        "and selected the best parameter value\n",
        "\"\"\"\n",
        "eval_metric = ['auc','error']\n",
        "%time model.fit(X_train_200,y_train,eval_set=[(X_val_200,y_val)],eval_metric=eval_metric,verbose=True)"
      ],
      "execution_count": null,
      "outputs": [
        {
          "output_type": "stream",
          "text": [
            "[1]\tvalid_0's auc: 0.808366\tvalid_0's binary_logloss: 0.165786\n",
            "[2]\tvalid_0's auc: 0.816347\tvalid_0's binary_logloss: 0.165143\n",
            "[3]\tvalid_0's auc: 0.818707\tvalid_0's binary_logloss: 0.164478\n",
            "[4]\tvalid_0's auc: 0.81881\tvalid_0's binary_logloss: 0.163828\n",
            "[5]\tvalid_0's auc: 0.823873\tvalid_0's binary_logloss: 0.163312\n",
            "[6]\tvalid_0's auc: 0.823931\tvalid_0's binary_logloss: 0.162781\n",
            "[7]\tvalid_0's auc: 0.825442\tvalid_0's binary_logloss: 0.162189\n",
            "[8]\tvalid_0's auc: 0.829788\tvalid_0's binary_logloss: 0.161575\n",
            "[9]\tvalid_0's auc: 0.830491\tvalid_0's binary_logloss: 0.161072\n",
            "[10]\tvalid_0's auc: 0.83084\tvalid_0's binary_logloss: 0.160553\n",
            "[11]\tvalid_0's auc: 0.831279\tvalid_0's binary_logloss: 0.160053\n",
            "[12]\tvalid_0's auc: 0.832585\tvalid_0's binary_logloss: 0.159541\n",
            "[13]\tvalid_0's auc: 0.833993\tvalid_0's binary_logloss: 0.159033\n",
            "[14]\tvalid_0's auc: 0.834333\tvalid_0's binary_logloss: 0.15858\n",
            "[15]\tvalid_0's auc: 0.834601\tvalid_0's binary_logloss: 0.158128\n",
            "[16]\tvalid_0's auc: 0.835515\tvalid_0's binary_logloss: 0.157675\n",
            "[17]\tvalid_0's auc: 0.835605\tvalid_0's binary_logloss: 0.157238\n",
            "[18]\tvalid_0's auc: 0.836244\tvalid_0's binary_logloss: 0.156802\n",
            "[19]\tvalid_0's auc: 0.836408\tvalid_0's binary_logloss: 0.156401\n",
            "[20]\tvalid_0's auc: 0.83653\tvalid_0's binary_logloss: 0.156011\n",
            "[21]\tvalid_0's auc: 0.836213\tvalid_0's binary_logloss: 0.155652\n",
            "[22]\tvalid_0's auc: 0.835584\tvalid_0's binary_logloss: 0.1553\n",
            "[23]\tvalid_0's auc: 0.835829\tvalid_0's binary_logloss: 0.154941\n",
            "[24]\tvalid_0's auc: 0.835723\tvalid_0's binary_logloss: 0.154623\n",
            "[25]\tvalid_0's auc: 0.835542\tvalid_0's binary_logloss: 0.154283\n",
            "[26]\tvalid_0's auc: 0.83546\tvalid_0's binary_logloss: 0.153939\n",
            "[27]\tvalid_0's auc: 0.835543\tvalid_0's binary_logloss: 0.153614\n",
            "[28]\tvalid_0's auc: 0.836095\tvalid_0's binary_logloss: 0.153291\n",
            "[29]\tvalid_0's auc: 0.835728\tvalid_0's binary_logloss: 0.152967\n",
            "[30]\tvalid_0's auc: 0.835932\tvalid_0's binary_logloss: 0.152659\n",
            "[31]\tvalid_0's auc: 0.83576\tvalid_0's binary_logloss: 0.152361\n",
            "[32]\tvalid_0's auc: 0.835739\tvalid_0's binary_logloss: 0.152075\n",
            "[33]\tvalid_0's auc: 0.835385\tvalid_0's binary_logloss: 0.151815\n",
            "[34]\tvalid_0's auc: 0.835715\tvalid_0's binary_logloss: 0.151549\n",
            "[35]\tvalid_0's auc: 0.836224\tvalid_0's binary_logloss: 0.151299\n",
            "[36]\tvalid_0's auc: 0.836482\tvalid_0's binary_logloss: 0.15101\n",
            "[37]\tvalid_0's auc: 0.83672\tvalid_0's binary_logloss: 0.150714\n",
            "[38]\tvalid_0's auc: 0.836998\tvalid_0's binary_logloss: 0.150444\n",
            "[39]\tvalid_0's auc: 0.837232\tvalid_0's binary_logloss: 0.150159\n",
            "[40]\tvalid_0's auc: 0.837258\tvalid_0's binary_logloss: 0.149887\n",
            "[41]\tvalid_0's auc: 0.837272\tvalid_0's binary_logloss: 0.149635\n",
            "[42]\tvalid_0's auc: 0.837137\tvalid_0's binary_logloss: 0.149391\n",
            "[43]\tvalid_0's auc: 0.837325\tvalid_0's binary_logloss: 0.149194\n",
            "[44]\tvalid_0's auc: 0.837352\tvalid_0's binary_logloss: 0.148972\n",
            "[45]\tvalid_0's auc: 0.837307\tvalid_0's binary_logloss: 0.148781\n",
            "[46]\tvalid_0's auc: 0.837451\tvalid_0's binary_logloss: 0.148552\n",
            "[47]\tvalid_0's auc: 0.83745\tvalid_0's binary_logloss: 0.14837\n",
            "[48]\tvalid_0's auc: 0.837225\tvalid_0's binary_logloss: 0.148148\n",
            "[49]\tvalid_0's auc: 0.836987\tvalid_0's binary_logloss: 0.147948\n",
            "[50]\tvalid_0's auc: 0.836997\tvalid_0's binary_logloss: 0.147745\n",
            "[51]\tvalid_0's auc: 0.837\tvalid_0's binary_logloss: 0.147536\n",
            "[52]\tvalid_0's auc: 0.837028\tvalid_0's binary_logloss: 0.147369\n",
            "[53]\tvalid_0's auc: 0.836982\tvalid_0's binary_logloss: 0.147169\n",
            "[54]\tvalid_0's auc: 0.836995\tvalid_0's binary_logloss: 0.146965\n",
            "[55]\tvalid_0's auc: 0.83704\tvalid_0's binary_logloss: 0.146761\n",
            "[56]\tvalid_0's auc: 0.837034\tvalid_0's binary_logloss: 0.146569\n",
            "[57]\tvalid_0's auc: 0.837006\tvalid_0's binary_logloss: 0.146376\n",
            "[58]\tvalid_0's auc: 0.837427\tvalid_0's binary_logloss: 0.146172\n",
            "[59]\tvalid_0's auc: 0.837343\tvalid_0's binary_logloss: 0.146007\n",
            "[60]\tvalid_0's auc: 0.837397\tvalid_0's binary_logloss: 0.145827\n",
            "[61]\tvalid_0's auc: 0.837564\tvalid_0's binary_logloss: 0.14565\n",
            "[62]\tvalid_0's auc: 0.83749\tvalid_0's binary_logloss: 0.145474\n",
            "[63]\tvalid_0's auc: 0.837549\tvalid_0's binary_logloss: 0.145298\n",
            "[64]\tvalid_0's auc: 0.837535\tvalid_0's binary_logloss: 0.145119\n",
            "[65]\tvalid_0's auc: 0.837744\tvalid_0's binary_logloss: 0.144978\n",
            "[66]\tvalid_0's auc: 0.837976\tvalid_0's binary_logloss: 0.144804\n",
            "[67]\tvalid_0's auc: 0.838045\tvalid_0's binary_logloss: 0.144641\n",
            "[68]\tvalid_0's auc: 0.838077\tvalid_0's binary_logloss: 0.144521\n",
            "[69]\tvalid_0's auc: 0.837881\tvalid_0's binary_logloss: 0.144408\n",
            "[70]\tvalid_0's auc: 0.837946\tvalid_0's binary_logloss: 0.144254\n",
            "[71]\tvalid_0's auc: 0.838081\tvalid_0's binary_logloss: 0.144104\n",
            "[72]\tvalid_0's auc: 0.838131\tvalid_0's binary_logloss: 0.143964\n",
            "[73]\tvalid_0's auc: 0.83808\tvalid_0's binary_logloss: 0.143858\n",
            "[74]\tvalid_0's auc: 0.838189\tvalid_0's binary_logloss: 0.143728\n",
            "[75]\tvalid_0's auc: 0.838293\tvalid_0's binary_logloss: 0.143609\n",
            "[76]\tvalid_0's auc: 0.838367\tvalid_0's binary_logloss: 0.143461\n",
            "[77]\tvalid_0's auc: 0.83848\tvalid_0's binary_logloss: 0.143313\n",
            "[78]\tvalid_0's auc: 0.838454\tvalid_0's binary_logloss: 0.14316\n",
            "[79]\tvalid_0's auc: 0.838524\tvalid_0's binary_logloss: 0.143026\n",
            "[80]\tvalid_0's auc: 0.838758\tvalid_0's binary_logloss: 0.142893\n",
            "[81]\tvalid_0's auc: 0.838766\tvalid_0's binary_logloss: 0.142797\n",
            "[82]\tvalid_0's auc: 0.838718\tvalid_0's binary_logloss: 0.14271\n",
            "[83]\tvalid_0's auc: 0.838779\tvalid_0's binary_logloss: 0.142565\n",
            "[84]\tvalid_0's auc: 0.838925\tvalid_0's binary_logloss: 0.142424\n",
            "[85]\tvalid_0's auc: 0.838921\tvalid_0's binary_logloss: 0.14231\n",
            "[86]\tvalid_0's auc: 0.839182\tvalid_0's binary_logloss: 0.142177\n",
            "[87]\tvalid_0's auc: 0.839123\tvalid_0's binary_logloss: 0.14206\n",
            "[88]\tvalid_0's auc: 0.839392\tvalid_0's binary_logloss: 0.141931\n",
            "[89]\tvalid_0's auc: 0.839477\tvalid_0's binary_logloss: 0.141815\n",
            "[90]\tvalid_0's auc: 0.839529\tvalid_0's binary_logloss: 0.141711\n",
            "[91]\tvalid_0's auc: 0.839563\tvalid_0's binary_logloss: 0.141584\n",
            "[92]\tvalid_0's auc: 0.839722\tvalid_0's binary_logloss: 0.141479\n",
            "[93]\tvalid_0's auc: 0.839688\tvalid_0's binary_logloss: 0.141383\n",
            "[94]\tvalid_0's auc: 0.840058\tvalid_0's binary_logloss: 0.141272\n",
            "[95]\tvalid_0's auc: 0.83999\tvalid_0's binary_logloss: 0.141178\n",
            "[96]\tvalid_0's auc: 0.84025\tvalid_0's binary_logloss: 0.141071\n",
            "[97]\tvalid_0's auc: 0.840227\tvalid_0's binary_logloss: 0.140961\n",
            "[98]\tvalid_0's auc: 0.840458\tvalid_0's binary_logloss: 0.140851\n",
            "[99]\tvalid_0's auc: 0.840243\tvalid_0's binary_logloss: 0.140751\n",
            "[100]\tvalid_0's auc: 0.840315\tvalid_0's binary_logloss: 0.140648\n",
            "[101]\tvalid_0's auc: 0.840365\tvalid_0's binary_logloss: 0.140558\n",
            "[102]\tvalid_0's auc: 0.840389\tvalid_0's binary_logloss: 0.140475\n",
            "[103]\tvalid_0's auc: 0.840394\tvalid_0's binary_logloss: 0.140402\n",
            "[104]\tvalid_0's auc: 0.840409\tvalid_0's binary_logloss: 0.140331\n",
            "[105]\tvalid_0's auc: 0.840416\tvalid_0's binary_logloss: 0.140251\n",
            "[106]\tvalid_0's auc: 0.840477\tvalid_0's binary_logloss: 0.140155\n",
            "[107]\tvalid_0's auc: 0.840598\tvalid_0's binary_logloss: 0.140065\n",
            "[108]\tvalid_0's auc: 0.840707\tvalid_0's binary_logloss: 0.139967\n",
            "[109]\tvalid_0's auc: 0.840665\tvalid_0's binary_logloss: 0.139904\n",
            "[110]\tvalid_0's auc: 0.840819\tvalid_0's binary_logloss: 0.139816\n",
            "[111]\tvalid_0's auc: 0.840917\tvalid_0's binary_logloss: 0.13972\n",
            "[112]\tvalid_0's auc: 0.840924\tvalid_0's binary_logloss: 0.139641\n",
            "[113]\tvalid_0's auc: 0.841027\tvalid_0's binary_logloss: 0.139572\n",
            "[114]\tvalid_0's auc: 0.841016\tvalid_0's binary_logloss: 0.139504\n",
            "[115]\tvalid_0's auc: 0.840935\tvalid_0's binary_logloss: 0.139444\n",
            "[116]\tvalid_0's auc: 0.840962\tvalid_0's binary_logloss: 0.139376\n",
            "[117]\tvalid_0's auc: 0.841075\tvalid_0's binary_logloss: 0.139297\n",
            "[118]\tvalid_0's auc: 0.841254\tvalid_0's binary_logloss: 0.139227\n",
            "[119]\tvalid_0's auc: 0.841264\tvalid_0's binary_logloss: 0.139154\n",
            "[120]\tvalid_0's auc: 0.841238\tvalid_0's binary_logloss: 0.139086\n",
            "[121]\tvalid_0's auc: 0.841306\tvalid_0's binary_logloss: 0.138993\n",
            "[122]\tvalid_0's auc: 0.841237\tvalid_0's binary_logloss: 0.138934\n",
            "[123]\tvalid_0's auc: 0.841251\tvalid_0's binary_logloss: 0.138856\n",
            "[124]\tvalid_0's auc: 0.841224\tvalid_0's binary_logloss: 0.13878\n",
            "[125]\tvalid_0's auc: 0.841262\tvalid_0's binary_logloss: 0.138713\n",
            "[126]\tvalid_0's auc: 0.841347\tvalid_0's binary_logloss: 0.138654\n",
            "[127]\tvalid_0's auc: 0.841418\tvalid_0's binary_logloss: 0.138582\n",
            "[128]\tvalid_0's auc: 0.841548\tvalid_0's binary_logloss: 0.138537\n",
            "[129]\tvalid_0's auc: 0.841665\tvalid_0's binary_logloss: 0.138472\n",
            "[130]\tvalid_0's auc: 0.841576\tvalid_0's binary_logloss: 0.138416\n",
            "[131]\tvalid_0's auc: 0.841619\tvalid_0's binary_logloss: 0.138363\n",
            "[132]\tvalid_0's auc: 0.841598\tvalid_0's binary_logloss: 0.138309\n",
            "[133]\tvalid_0's auc: 0.841671\tvalid_0's binary_logloss: 0.138244\n",
            "[134]\tvalid_0's auc: 0.841644\tvalid_0's binary_logloss: 0.138204\n",
            "[135]\tvalid_0's auc: 0.841677\tvalid_0's binary_logloss: 0.138154\n",
            "[136]\tvalid_0's auc: 0.841684\tvalid_0's binary_logloss: 0.138106\n",
            "[137]\tvalid_0's auc: 0.841748\tvalid_0's binary_logloss: 0.138042\n",
            "[138]\tvalid_0's auc: 0.841795\tvalid_0's binary_logloss: 0.137986\n",
            "[139]\tvalid_0's auc: 0.841768\tvalid_0's binary_logloss: 0.137945\n",
            "[140]\tvalid_0's auc: 0.841945\tvalid_0's binary_logloss: 0.13789\n",
            "[141]\tvalid_0's auc: 0.841892\tvalid_0's binary_logloss: 0.13784\n",
            "[142]\tvalid_0's auc: 0.841889\tvalid_0's binary_logloss: 0.137808\n",
            "[143]\tvalid_0's auc: 0.841886\tvalid_0's binary_logloss: 0.137752\n",
            "[144]\tvalid_0's auc: 0.841923\tvalid_0's binary_logloss: 0.137694\n",
            "[145]\tvalid_0's auc: 0.84199\tvalid_0's binary_logloss: 0.137646\n",
            "[146]\tvalid_0's auc: 0.842076\tvalid_0's binary_logloss: 0.137603\n",
            "[147]\tvalid_0's auc: 0.84209\tvalid_0's binary_logloss: 0.137552\n",
            "[148]\tvalid_0's auc: 0.842086\tvalid_0's binary_logloss: 0.137503\n",
            "[149]\tvalid_0's auc: 0.842127\tvalid_0's binary_logloss: 0.137446\n",
            "[150]\tvalid_0's auc: 0.842248\tvalid_0's binary_logloss: 0.137398\n",
            "[151]\tvalid_0's auc: 0.84228\tvalid_0's binary_logloss: 0.137351\n",
            "[152]\tvalid_0's auc: 0.842393\tvalid_0's binary_logloss: 0.137297\n",
            "[153]\tvalid_0's auc: 0.842463\tvalid_0's binary_logloss: 0.137248\n",
            "[154]\tvalid_0's auc: 0.842533\tvalid_0's binary_logloss: 0.137207\n",
            "[155]\tvalid_0's auc: 0.84246\tvalid_0's binary_logloss: 0.137168\n",
            "[156]\tvalid_0's auc: 0.842518\tvalid_0's binary_logloss: 0.137106\n",
            "[157]\tvalid_0's auc: 0.842581\tvalid_0's binary_logloss: 0.137053\n",
            "[158]\tvalid_0's auc: 0.842618\tvalid_0's binary_logloss: 0.137009\n",
            "[159]\tvalid_0's auc: 0.842597\tvalid_0's binary_logloss: 0.136969\n",
            "[160]\tvalid_0's auc: 0.842668\tvalid_0's binary_logloss: 0.13692\n",
            "[161]\tvalid_0's auc: 0.842814\tvalid_0's binary_logloss: 0.136878\n",
            "[162]\tvalid_0's auc: 0.842895\tvalid_0's binary_logloss: 0.136838\n",
            "[163]\tvalid_0's auc: 0.842904\tvalid_0's binary_logloss: 0.136793\n",
            "[164]\tvalid_0's auc: 0.842994\tvalid_0's binary_logloss: 0.136753\n",
            "[165]\tvalid_0's auc: 0.842993\tvalid_0's binary_logloss: 0.136705\n",
            "[166]\tvalid_0's auc: 0.84312\tvalid_0's binary_logloss: 0.136666\n",
            "[167]\tvalid_0's auc: 0.843143\tvalid_0's binary_logloss: 0.136623\n",
            "[168]\tvalid_0's auc: 0.84311\tvalid_0's binary_logloss: 0.13659\n",
            "[169]\tvalid_0's auc: 0.843136\tvalid_0's binary_logloss: 0.136556\n",
            "[170]\tvalid_0's auc: 0.843127\tvalid_0's binary_logloss: 0.136525\n",
            "[171]\tvalid_0's auc: 0.843134\tvalid_0's binary_logloss: 0.136483\n",
            "[172]\tvalid_0's auc: 0.843073\tvalid_0's binary_logloss: 0.136456\n",
            "[173]\tvalid_0's auc: 0.843055\tvalid_0's binary_logloss: 0.136426\n",
            "[174]\tvalid_0's auc: 0.843048\tvalid_0's binary_logloss: 0.136377\n",
            "[175]\tvalid_0's auc: 0.843068\tvalid_0's binary_logloss: 0.136342\n",
            "[176]\tvalid_0's auc: 0.843092\tvalid_0's binary_logloss: 0.136309\n",
            "[177]\tvalid_0's auc: 0.84312\tvalid_0's binary_logloss: 0.136275\n",
            "[178]\tvalid_0's auc: 0.843245\tvalid_0's binary_logloss: 0.136229\n",
            "[179]\tvalid_0's auc: 0.8433\tvalid_0's binary_logloss: 0.136191\n",
            "[180]\tvalid_0's auc: 0.843341\tvalid_0's binary_logloss: 0.136144\n",
            "[181]\tvalid_0's auc: 0.843314\tvalid_0's binary_logloss: 0.136118\n",
            "[182]\tvalid_0's auc: 0.843373\tvalid_0's binary_logloss: 0.136086\n",
            "[183]\tvalid_0's auc: 0.843377\tvalid_0's binary_logloss: 0.136051\n",
            "[184]\tvalid_0's auc: 0.843491\tvalid_0's binary_logloss: 0.136014\n",
            "[185]\tvalid_0's auc: 0.843473\tvalid_0's binary_logloss: 0.135991\n",
            "[186]\tvalid_0's auc: 0.843464\tvalid_0's binary_logloss: 0.135957\n",
            "[187]\tvalid_0's auc: 0.843496\tvalid_0's binary_logloss: 0.135932\n",
            "[188]\tvalid_0's auc: 0.843559\tvalid_0's binary_logloss: 0.135909\n",
            "[189]\tvalid_0's auc: 0.843598\tvalid_0's binary_logloss: 0.135868\n",
            "[190]\tvalid_0's auc: 0.843606\tvalid_0's binary_logloss: 0.13583\n",
            "[191]\tvalid_0's auc: 0.843683\tvalid_0's binary_logloss: 0.135793\n",
            "[192]\tvalid_0's auc: 0.843639\tvalid_0's binary_logloss: 0.135763\n",
            "[193]\tvalid_0's auc: 0.843626\tvalid_0's binary_logloss: 0.135739\n",
            "[194]\tvalid_0's auc: 0.843733\tvalid_0's binary_logloss: 0.135708\n",
            "[195]\tvalid_0's auc: 0.843697\tvalid_0's binary_logloss: 0.135688\n",
            "[196]\tvalid_0's auc: 0.843703\tvalid_0's binary_logloss: 0.135662\n",
            "[197]\tvalid_0's auc: 0.843643\tvalid_0's binary_logloss: 0.135631\n",
            "[198]\tvalid_0's auc: 0.843632\tvalid_0's binary_logloss: 0.135602\n",
            "[199]\tvalid_0's auc: 0.843688\tvalid_0's binary_logloss: 0.135569\n",
            "[200]\tvalid_0's auc: 0.843723\tvalid_0's binary_logloss: 0.135549\n",
            "[201]\tvalid_0's auc: 0.843871\tvalid_0's binary_logloss: 0.135515\n",
            "[202]\tvalid_0's auc: 0.843887\tvalid_0's binary_logloss: 0.135487\n",
            "[203]\tvalid_0's auc: 0.843939\tvalid_0's binary_logloss: 0.135459\n",
            "[204]\tvalid_0's auc: 0.844009\tvalid_0's binary_logloss: 0.135431\n",
            "[205]\tvalid_0's auc: 0.843949\tvalid_0's binary_logloss: 0.135408\n",
            "[206]\tvalid_0's auc: 0.843938\tvalid_0's binary_logloss: 0.135381\n",
            "[207]\tvalid_0's auc: 0.843959\tvalid_0's binary_logloss: 0.135362\n",
            "[208]\tvalid_0's auc: 0.844037\tvalid_0's binary_logloss: 0.135336\n",
            "[209]\tvalid_0's auc: 0.844055\tvalid_0's binary_logloss: 0.135309\n",
            "[210]\tvalid_0's auc: 0.84401\tvalid_0's binary_logloss: 0.135293\n",
            "[211]\tvalid_0's auc: 0.844021\tvalid_0's binary_logloss: 0.135273\n",
            "[212]\tvalid_0's auc: 0.844014\tvalid_0's binary_logloss: 0.135253\n",
            "[213]\tvalid_0's auc: 0.843997\tvalid_0's binary_logloss: 0.135226\n",
            "[214]\tvalid_0's auc: 0.843992\tvalid_0's binary_logloss: 0.135209\n",
            "[215]\tvalid_0's auc: 0.843944\tvalid_0's binary_logloss: 0.135182\n",
            "[216]\tvalid_0's auc: 0.843913\tvalid_0's binary_logloss: 0.135169\n",
            "[217]\tvalid_0's auc: 0.843956\tvalid_0's binary_logloss: 0.135141\n",
            "[218]\tvalid_0's auc: 0.843962\tvalid_0's binary_logloss: 0.135117\n",
            "[219]\tvalid_0's auc: 0.843992\tvalid_0's binary_logloss: 0.135102\n",
            "[220]\tvalid_0's auc: 0.844059\tvalid_0's binary_logloss: 0.135077\n",
            "[221]\tvalid_0's auc: 0.844093\tvalid_0's binary_logloss: 0.135053\n",
            "[222]\tvalid_0's auc: 0.844123\tvalid_0's binary_logloss: 0.135033\n",
            "[223]\tvalid_0's auc: 0.844123\tvalid_0's binary_logloss: 0.135011\n",
            "[224]\tvalid_0's auc: 0.844179\tvalid_0's binary_logloss: 0.134996\n",
            "[225]\tvalid_0's auc: 0.844174\tvalid_0's binary_logloss: 0.134977\n",
            "[226]\tvalid_0's auc: 0.844119\tvalid_0's binary_logloss: 0.134963\n",
            "[227]\tvalid_0's auc: 0.844111\tvalid_0's binary_logloss: 0.134943\n",
            "[228]\tvalid_0's auc: 0.844184\tvalid_0's binary_logloss: 0.134925\n",
            "[229]\tvalid_0's auc: 0.844219\tvalid_0's binary_logloss: 0.134906\n",
            "[230]\tvalid_0's auc: 0.844229\tvalid_0's binary_logloss: 0.134882\n",
            "[231]\tvalid_0's auc: 0.844266\tvalid_0's binary_logloss: 0.134863\n",
            "[232]\tvalid_0's auc: 0.844328\tvalid_0's binary_logloss: 0.134849\n",
            "[233]\tvalid_0's auc: 0.844381\tvalid_0's binary_logloss: 0.134826\n",
            "[234]\tvalid_0's auc: 0.844342\tvalid_0's binary_logloss: 0.134811\n",
            "[235]\tvalid_0's auc: 0.844287\tvalid_0's binary_logloss: 0.134805\n",
            "[236]\tvalid_0's auc: 0.844364\tvalid_0's binary_logloss: 0.134782\n",
            "[237]\tvalid_0's auc: 0.844293\tvalid_0's binary_logloss: 0.134773\n",
            "[238]\tvalid_0's auc: 0.844338\tvalid_0's binary_logloss: 0.13475\n",
            "[239]\tvalid_0's auc: 0.844308\tvalid_0's binary_logloss: 0.134739\n",
            "[240]\tvalid_0's auc: 0.844333\tvalid_0's binary_logloss: 0.134719\n",
            "[241]\tvalid_0's auc: 0.844347\tvalid_0's binary_logloss: 0.134706\n",
            "[242]\tvalid_0's auc: 0.844377\tvalid_0's binary_logloss: 0.134687\n",
            "[243]\tvalid_0's auc: 0.844411\tvalid_0's binary_logloss: 0.134672\n",
            "[244]\tvalid_0's auc: 0.844462\tvalid_0's binary_logloss: 0.134645\n",
            "[245]\tvalid_0's auc: 0.844568\tvalid_0's binary_logloss: 0.134628\n",
            "[246]\tvalid_0's auc: 0.844544\tvalid_0's binary_logloss: 0.134612\n",
            "[247]\tvalid_0's auc: 0.844629\tvalid_0's binary_logloss: 0.134591\n",
            "[248]\tvalid_0's auc: 0.844617\tvalid_0's binary_logloss: 0.134578\n",
            "[249]\tvalid_0's auc: 0.844644\tvalid_0's binary_logloss: 0.134556\n",
            "[250]\tvalid_0's auc: 0.844671\tvalid_0's binary_logloss: 0.13454\n",
            "[251]\tvalid_0's auc: 0.844703\tvalid_0's binary_logloss: 0.134524\n",
            "[252]\tvalid_0's auc: 0.844722\tvalid_0's binary_logloss: 0.134507\n",
            "[253]\tvalid_0's auc: 0.844694\tvalid_0's binary_logloss: 0.134494\n",
            "[254]\tvalid_0's auc: 0.844662\tvalid_0's binary_logloss: 0.134481\n",
            "[255]\tvalid_0's auc: 0.844648\tvalid_0's binary_logloss: 0.134476\n",
            "[256]\tvalid_0's auc: 0.844696\tvalid_0's binary_logloss: 0.134454\n",
            "[257]\tvalid_0's auc: 0.844745\tvalid_0's binary_logloss: 0.134435\n",
            "[258]\tvalid_0's auc: 0.844745\tvalid_0's binary_logloss: 0.134419\n",
            "[259]\tvalid_0's auc: 0.844732\tvalid_0's binary_logloss: 0.134407\n",
            "[260]\tvalid_0's auc: 0.84476\tvalid_0's binary_logloss: 0.134392\n",
            "[261]\tvalid_0's auc: 0.844763\tvalid_0's binary_logloss: 0.134378\n",
            "[262]\tvalid_0's auc: 0.844717\tvalid_0's binary_logloss: 0.134371\n",
            "[263]\tvalid_0's auc: 0.844731\tvalid_0's binary_logloss: 0.134352\n",
            "[264]\tvalid_0's auc: 0.844729\tvalid_0's binary_logloss: 0.13434\n",
            "[265]\tvalid_0's auc: 0.844739\tvalid_0's binary_logloss: 0.134323\n",
            "[266]\tvalid_0's auc: 0.844767\tvalid_0's binary_logloss: 0.134309\n",
            "[267]\tvalid_0's auc: 0.844773\tvalid_0's binary_logloss: 0.134295\n",
            "[268]\tvalid_0's auc: 0.844783\tvalid_0's binary_logloss: 0.134275\n",
            "[269]\tvalid_0's auc: 0.844773\tvalid_0's binary_logloss: 0.134264\n",
            "[270]\tvalid_0's auc: 0.844746\tvalid_0's binary_logloss: 0.134256\n",
            "[271]\tvalid_0's auc: 0.84475\tvalid_0's binary_logloss: 0.134239\n",
            "[272]\tvalid_0's auc: 0.844758\tvalid_0's binary_logloss: 0.134224\n",
            "[273]\tvalid_0's auc: 0.844775\tvalid_0's binary_logloss: 0.134213\n",
            "[274]\tvalid_0's auc: 0.844837\tvalid_0's binary_logloss: 0.134204\n",
            "[275]\tvalid_0's auc: 0.844838\tvalid_0's binary_logloss: 0.13419\n",
            "[276]\tvalid_0's auc: 0.844908\tvalid_0's binary_logloss: 0.134171\n",
            "[277]\tvalid_0's auc: 0.844879\tvalid_0's binary_logloss: 0.134165\n",
            "[278]\tvalid_0's auc: 0.844849\tvalid_0's binary_logloss: 0.134168\n",
            "[279]\tvalid_0's auc: 0.844828\tvalid_0's binary_logloss: 0.134163\n",
            "[280]\tvalid_0's auc: 0.844774\tvalid_0's binary_logloss: 0.134155\n",
            "[281]\tvalid_0's auc: 0.844728\tvalid_0's binary_logloss: 0.134149\n",
            "[282]\tvalid_0's auc: 0.844801\tvalid_0's binary_logloss: 0.13413\n",
            "[283]\tvalid_0's auc: 0.844855\tvalid_0's binary_logloss: 0.134119\n",
            "[284]\tvalid_0's auc: 0.844888\tvalid_0's binary_logloss: 0.134104\n",
            "[285]\tvalid_0's auc: 0.844962\tvalid_0's binary_logloss: 0.134082\n",
            "[286]\tvalid_0's auc: 0.845016\tvalid_0's binary_logloss: 0.134065\n",
            "[287]\tvalid_0's auc: 0.845026\tvalid_0's binary_logloss: 0.134055\n",
            "[288]\tvalid_0's auc: 0.845054\tvalid_0's binary_logloss: 0.134042\n",
            "[289]\tvalid_0's auc: 0.844996\tvalid_0's binary_logloss: 0.134039\n",
            "[290]\tvalid_0's auc: 0.845004\tvalid_0's binary_logloss: 0.134032\n",
            "[291]\tvalid_0's auc: 0.845003\tvalid_0's binary_logloss: 0.13403\n",
            "[292]\tvalid_0's auc: 0.84507\tvalid_0's binary_logloss: 0.134012\n",
            "[293]\tvalid_0's auc: 0.844986\tvalid_0's binary_logloss: 0.134009\n",
            "[294]\tvalid_0's auc: 0.844966\tvalid_0's binary_logloss: 0.133999\n",
            "[295]\tvalid_0's auc: 0.844906\tvalid_0's binary_logloss: 0.133996\n",
            "[296]\tvalid_0's auc: 0.844949\tvalid_0's binary_logloss: 0.133989\n",
            "[297]\tvalid_0's auc: 0.844945\tvalid_0's binary_logloss: 0.133982\n",
            "[298]\tvalid_0's auc: 0.844997\tvalid_0's binary_logloss: 0.133966\n",
            "[299]\tvalid_0's auc: 0.844999\tvalid_0's binary_logloss: 0.13396\n",
            "[300]\tvalid_0's auc: 0.845035\tvalid_0's binary_logloss: 0.133945\n",
            "[301]\tvalid_0's auc: 0.845019\tvalid_0's binary_logloss: 0.133937\n",
            "[302]\tvalid_0's auc: 0.845084\tvalid_0's binary_logloss: 0.133922\n",
            "[303]\tvalid_0's auc: 0.845068\tvalid_0's binary_logloss: 0.133913\n",
            "[304]\tvalid_0's auc: 0.845056\tvalid_0's binary_logloss: 0.133912\n",
            "[305]\tvalid_0's auc: 0.845048\tvalid_0's binary_logloss: 0.133902\n",
            "[306]\tvalid_0's auc: 0.845117\tvalid_0's binary_logloss: 0.133886\n",
            "[307]\tvalid_0's auc: 0.845146\tvalid_0's binary_logloss: 0.133883\n",
            "[308]\tvalid_0's auc: 0.845201\tvalid_0's binary_logloss: 0.133867\n",
            "[309]\tvalid_0's auc: 0.845165\tvalid_0's binary_logloss: 0.133865\n",
            "[310]\tvalid_0's auc: 0.845186\tvalid_0's binary_logloss: 0.133853\n",
            "[311]\tvalid_0's auc: 0.845153\tvalid_0's binary_logloss: 0.133846\n",
            "[312]\tvalid_0's auc: 0.845216\tvalid_0's binary_logloss: 0.133828\n",
            "[313]\tvalid_0's auc: 0.845194\tvalid_0's binary_logloss: 0.133823\n",
            "[314]\tvalid_0's auc: 0.845208\tvalid_0's binary_logloss: 0.133814\n",
            "[315]\tvalid_0's auc: 0.84521\tvalid_0's binary_logloss: 0.133818\n",
            "[316]\tvalid_0's auc: 0.845282\tvalid_0's binary_logloss: 0.133801\n",
            "[317]\tvalid_0's auc: 0.845277\tvalid_0's binary_logloss: 0.133786\n",
            "[318]\tvalid_0's auc: 0.845295\tvalid_0's binary_logloss: 0.133776\n",
            "[319]\tvalid_0's auc: 0.845298\tvalid_0's binary_logloss: 0.133769\n",
            "[320]\tvalid_0's auc: 0.845315\tvalid_0's binary_logloss: 0.133761\n",
            "[321]\tvalid_0's auc: 0.84531\tvalid_0's binary_logloss: 0.13376\n",
            "[322]\tvalid_0's auc: 0.845328\tvalid_0's binary_logloss: 0.13375\n",
            "[323]\tvalid_0's auc: 0.845354\tvalid_0's binary_logloss: 0.133741\n",
            "[324]\tvalid_0's auc: 0.845277\tvalid_0's binary_logloss: 0.133742\n",
            "[325]\tvalid_0's auc: 0.845257\tvalid_0's binary_logloss: 0.133736\n",
            "[326]\tvalid_0's auc: 0.845252\tvalid_0's binary_logloss: 0.133732\n",
            "[327]\tvalid_0's auc: 0.845225\tvalid_0's binary_logloss: 0.133727\n",
            "[328]\tvalid_0's auc: 0.845233\tvalid_0's binary_logloss: 0.133728\n",
            "[329]\tvalid_0's auc: 0.845276\tvalid_0's binary_logloss: 0.133726\n",
            "[330]\tvalid_0's auc: 0.84527\tvalid_0's binary_logloss: 0.133717\n",
            "[331]\tvalid_0's auc: 0.845283\tvalid_0's binary_logloss: 0.133706\n",
            "[332]\tvalid_0's auc: 0.845248\tvalid_0's binary_logloss: 0.133704\n",
            "[333]\tvalid_0's auc: 0.845249\tvalid_0's binary_logloss: 0.133701\n",
            "[334]\tvalid_0's auc: 0.845234\tvalid_0's binary_logloss: 0.133693\n",
            "[335]\tvalid_0's auc: 0.845192\tvalid_0's binary_logloss: 0.133693\n",
            "[336]\tvalid_0's auc: 0.8452\tvalid_0's binary_logloss: 0.133685\n",
            "[337]\tvalid_0's auc: 0.845205\tvalid_0's binary_logloss: 0.133677\n",
            "[338]\tvalid_0's auc: 0.845236\tvalid_0's binary_logloss: 0.133668\n",
            "[339]\tvalid_0's auc: 0.845228\tvalid_0's binary_logloss: 0.133665\n",
            "[340]\tvalid_0's auc: 0.845136\tvalid_0's binary_logloss: 0.133662\n",
            "[341]\tvalid_0's auc: 0.845081\tvalid_0's binary_logloss: 0.133656\n",
            "[342]\tvalid_0's auc: 0.845131\tvalid_0's binary_logloss: 0.133638\n",
            "[343]\tvalid_0's auc: 0.845247\tvalid_0's binary_logloss: 0.133638\n",
            "[344]\tvalid_0's auc: 0.845255\tvalid_0's binary_logloss: 0.133632\n",
            "[345]\tvalid_0's auc: 0.845238\tvalid_0's binary_logloss: 0.133623\n",
            "[346]\tvalid_0's auc: 0.845268\tvalid_0's binary_logloss: 0.133623\n",
            "[347]\tvalid_0's auc: 0.845263\tvalid_0's binary_logloss: 0.133621\n",
            "[348]\tvalid_0's auc: 0.84528\tvalid_0's binary_logloss: 0.133612\n",
            "[349]\tvalid_0's auc: 0.845221\tvalid_0's binary_logloss: 0.133611\n",
            "[350]\tvalid_0's auc: 0.845255\tvalid_0's binary_logloss: 0.133596\n",
            "[351]\tvalid_0's auc: 0.845286\tvalid_0's binary_logloss: 0.133589\n",
            "[352]\tvalid_0's auc: 0.845285\tvalid_0's binary_logloss: 0.133584\n",
            "[353]\tvalid_0's auc: 0.8453\tvalid_0's binary_logloss: 0.133584\n",
            "[354]\tvalid_0's auc: 0.84529\tvalid_0's binary_logloss: 0.133585\n",
            "[355]\tvalid_0's auc: 0.845323\tvalid_0's binary_logloss: 0.133573\n",
            "[356]\tvalid_0's auc: 0.845365\tvalid_0's binary_logloss: 0.13356\n",
            "[357]\tvalid_0's auc: 0.84546\tvalid_0's binary_logloss: 0.133553\n",
            "[358]\tvalid_0's auc: 0.84548\tvalid_0's binary_logloss: 0.133538\n",
            "[359]\tvalid_0's auc: 0.845441\tvalid_0's binary_logloss: 0.133536\n",
            "[360]\tvalid_0's auc: 0.845409\tvalid_0's binary_logloss: 0.133538\n",
            "[361]\tvalid_0's auc: 0.845365\tvalid_0's binary_logloss: 0.133539\n",
            "[362]\tvalid_0's auc: 0.845361\tvalid_0's binary_logloss: 0.133538\n",
            "[363]\tvalid_0's auc: 0.845323\tvalid_0's binary_logloss: 0.133543\n",
            "[364]\tvalid_0's auc: 0.845279\tvalid_0's binary_logloss: 0.133542\n",
            "[365]\tvalid_0's auc: 0.845338\tvalid_0's binary_logloss: 0.133529\n",
            "[366]\tvalid_0's auc: 0.845388\tvalid_0's binary_logloss: 0.133526\n",
            "[367]\tvalid_0's auc: 0.845353\tvalid_0's binary_logloss: 0.133525\n",
            "[368]\tvalid_0's auc: 0.845354\tvalid_0's binary_logloss: 0.133517\n",
            "[369]\tvalid_0's auc: 0.845317\tvalid_0's binary_logloss: 0.133518\n",
            "[370]\tvalid_0's auc: 0.845275\tvalid_0's binary_logloss: 0.133513\n",
            "[371]\tvalid_0's auc: 0.845273\tvalid_0's binary_logloss: 0.133511\n",
            "[372]\tvalid_0's auc: 0.845268\tvalid_0's binary_logloss: 0.133506\n",
            "[373]\tvalid_0's auc: 0.845243\tvalid_0's binary_logloss: 0.133511\n",
            "[374]\tvalid_0's auc: 0.845196\tvalid_0's binary_logloss: 0.133517\n",
            "[375]\tvalid_0's auc: 0.845166\tvalid_0's binary_logloss: 0.133518\n",
            "[376]\tvalid_0's auc: 0.845322\tvalid_0's binary_logloss: 0.133503\n",
            "[377]\tvalid_0's auc: 0.845341\tvalid_0's binary_logloss: 0.133497\n",
            "[378]\tvalid_0's auc: 0.845326\tvalid_0's binary_logloss: 0.133497\n",
            "[379]\tvalid_0's auc: 0.84532\tvalid_0's binary_logloss: 0.133501\n",
            "[380]\tvalid_0's auc: 0.845316\tvalid_0's binary_logloss: 0.133489\n",
            "[381]\tvalid_0's auc: 0.845366\tvalid_0's binary_logloss: 0.133481\n",
            "[382]\tvalid_0's auc: 0.845327\tvalid_0's binary_logloss: 0.133483\n",
            "[383]\tvalid_0's auc: 0.845273\tvalid_0's binary_logloss: 0.133485\n",
            "[384]\tvalid_0's auc: 0.845249\tvalid_0's binary_logloss: 0.133481\n",
            "[385]\tvalid_0's auc: 0.845241\tvalid_0's binary_logloss: 0.133475\n",
            "[386]\tvalid_0's auc: 0.845297\tvalid_0's binary_logloss: 0.133468\n",
            "[387]\tvalid_0's auc: 0.845281\tvalid_0's binary_logloss: 0.133464\n",
            "[388]\tvalid_0's auc: 0.845333\tvalid_0's binary_logloss: 0.133461\n",
            "[389]\tvalid_0's auc: 0.845379\tvalid_0's binary_logloss: 0.133454\n",
            "[390]\tvalid_0's auc: 0.845361\tvalid_0's binary_logloss: 0.133456\n",
            "[391]\tvalid_0's auc: 0.845413\tvalid_0's binary_logloss: 0.133451\n",
            "[392]\tvalid_0's auc: 0.845372\tvalid_0's binary_logloss: 0.133446\n",
            "[393]\tvalid_0's auc: 0.845426\tvalid_0's binary_logloss: 0.13344\n",
            "[394]\tvalid_0's auc: 0.845391\tvalid_0's binary_logloss: 0.133439\n",
            "[395]\tvalid_0's auc: 0.84539\tvalid_0's binary_logloss: 0.133436\n",
            "[396]\tvalid_0's auc: 0.845332\tvalid_0's binary_logloss: 0.133437\n",
            "[397]\tvalid_0's auc: 0.84533\tvalid_0's binary_logloss: 0.133438\n",
            "[398]\tvalid_0's auc: 0.845313\tvalid_0's binary_logloss: 0.133434\n",
            "[399]\tvalid_0's auc: 0.8453\tvalid_0's binary_logloss: 0.133436\n",
            "[400]\tvalid_0's auc: 0.845301\tvalid_0's binary_logloss: 0.133441\n",
            "[401]\tvalid_0's auc: 0.845283\tvalid_0's binary_logloss: 0.133445\n",
            "[402]\tvalid_0's auc: 0.845361\tvalid_0's binary_logloss: 0.133434\n",
            "[403]\tvalid_0's auc: 0.845326\tvalid_0's binary_logloss: 0.133426\n",
            "[404]\tvalid_0's auc: 0.845288\tvalid_0's binary_logloss: 0.133421\n",
            "[405]\tvalid_0's auc: 0.845365\tvalid_0's binary_logloss: 0.133412\n",
            "[406]\tvalid_0's auc: 0.845377\tvalid_0's binary_logloss: 0.133407\n",
            "[407]\tvalid_0's auc: 0.8454\tvalid_0's binary_logloss: 0.133402\n",
            "[408]\tvalid_0's auc: 0.845399\tvalid_0's binary_logloss: 0.1334\n",
            "[409]\tvalid_0's auc: 0.845449\tvalid_0's binary_logloss: 0.133393\n",
            "[410]\tvalid_0's auc: 0.845419\tvalid_0's binary_logloss: 0.133391\n",
            "[411]\tvalid_0's auc: 0.845423\tvalid_0's binary_logloss: 0.133386\n",
            "[412]\tvalid_0's auc: 0.845474\tvalid_0's binary_logloss: 0.133383\n",
            "[413]\tvalid_0's auc: 0.845455\tvalid_0's binary_logloss: 0.133381\n",
            "[414]\tvalid_0's auc: 0.845437\tvalid_0's binary_logloss: 0.133375\n",
            "[415]\tvalid_0's auc: 0.845462\tvalid_0's binary_logloss: 0.133369\n",
            "[416]\tvalid_0's auc: 0.845483\tvalid_0's binary_logloss: 0.133368\n",
            "[417]\tvalid_0's auc: 0.845532\tvalid_0's binary_logloss: 0.13336\n",
            "[418]\tvalid_0's auc: 0.845551\tvalid_0's binary_logloss: 0.133358\n",
            "[419]\tvalid_0's auc: 0.845529\tvalid_0's binary_logloss: 0.13335\n",
            "[420]\tvalid_0's auc: 0.845573\tvalid_0's binary_logloss: 0.133346\n",
            "[421]\tvalid_0's auc: 0.845622\tvalid_0's binary_logloss: 0.13334\n",
            "[422]\tvalid_0's auc: 0.845653\tvalid_0's binary_logloss: 0.133339\n",
            "[423]\tvalid_0's auc: 0.845629\tvalid_0's binary_logloss: 0.13334\n",
            "[424]\tvalid_0's auc: 0.845593\tvalid_0's binary_logloss: 0.13334\n",
            "[425]\tvalid_0's auc: 0.845561\tvalid_0's binary_logloss: 0.133336\n",
            "[426]\tvalid_0's auc: 0.845523\tvalid_0's binary_logloss: 0.133337\n",
            "[427]\tvalid_0's auc: 0.845486\tvalid_0's binary_logloss: 0.133339\n",
            "[428]\tvalid_0's auc: 0.845494\tvalid_0's binary_logloss: 0.133342\n",
            "[429]\tvalid_0's auc: 0.845488\tvalid_0's binary_logloss: 0.133344\n",
            "[430]\tvalid_0's auc: 0.845499\tvalid_0's binary_logloss: 0.133346\n",
            "[431]\tvalid_0's auc: 0.845509\tvalid_0's binary_logloss: 0.133344\n",
            "[432]\tvalid_0's auc: 0.845485\tvalid_0's binary_logloss: 0.133342\n",
            "[433]\tvalid_0's auc: 0.845506\tvalid_0's binary_logloss: 0.133337\n",
            "[434]\tvalid_0's auc: 0.845489\tvalid_0's binary_logloss: 0.133342\n",
            "[435]\tvalid_0's auc: 0.845474\tvalid_0's binary_logloss: 0.133344\n",
            "[436]\tvalid_0's auc: 0.845549\tvalid_0's binary_logloss: 0.133334\n",
            "[437]\tvalid_0's auc: 0.845541\tvalid_0's binary_logloss: 0.133333\n",
            "[438]\tvalid_0's auc: 0.845511\tvalid_0's binary_logloss: 0.133331\n",
            "[439]\tvalid_0's auc: 0.845537\tvalid_0's binary_logloss: 0.133325\n",
            "[440]\tvalid_0's auc: 0.84555\tvalid_0's binary_logloss: 0.133324\n",
            "[441]\tvalid_0's auc: 0.845585\tvalid_0's binary_logloss: 0.13332\n",
            "[442]\tvalid_0's auc: 0.845572\tvalid_0's binary_logloss: 0.133321\n",
            "[443]\tvalid_0's auc: 0.845547\tvalid_0's binary_logloss: 0.13332\n",
            "[444]\tvalid_0's auc: 0.845521\tvalid_0's binary_logloss: 0.133324\n",
            "[445]\tvalid_0's auc: 0.845589\tvalid_0's binary_logloss: 0.133321\n",
            "[446]\tvalid_0's auc: 0.845576\tvalid_0's binary_logloss: 0.133314\n",
            "[447]\tvalid_0's auc: 0.845569\tvalid_0's binary_logloss: 0.133313\n",
            "CPU times: user 44.4 s, sys: 216 ms, total: 44.6 s\n",
            "Wall time: 23.4 s\n"
          ],
          "name": "stdout"
        },
        {
          "output_type": "execute_result",
          "data": {
            "text/plain": [
              "LGBMClassifier(boosting_type='gbdt', class_weight=None, colsample_bytree=0.5,\n",
              "               gamma=5, importance_type='split', learning_rate=0.01,\n",
              "               max_depth=7, min_child_samples=20, min_child_weight=0.001,\n",
              "               min_split_gain=0.0, n_estimators=447, n_jobs=-1, nthread=-1,\n",
              "               num_leaves=31, objective='binary', random_state=None,\n",
              "               reg_alpha=0, reg_lambda=0.0, scale_pos_weight=1, silent=True,\n",
              "               subsample=1, subsample_for_bin=200000, subsample_freq=0)"
            ]
          },
          "metadata": {
            "tags": []
          },
          "execution_count": 46
        }
      ]
    },
    {
      "cell_type": "code",
      "metadata": {
        "colab_type": "code",
        "id": "OFf2WKQC-V3R",
        "colab": {
          "base_uri": "https://localhost:8080/",
          "height": 352
        },
        "outputId": "3280d7b8-b114-483e-8b79-05fc0b6dba52"
      },
      "source": [
        "y_pred = model.predict_proba(X_val_200)[:,1]\n",
        "label=\"LightGBM Classifer(top 250)\"\n",
        "labels.append(label)\n",
        "y_preds.append(y_pred)\n",
        "i+=1\n",
        "result = plot_auc(y_val,y_pred,label)\n",
        "result_df = result_df.append(result)\n",
        "del result"
      ],
      "execution_count": null,
      "outputs": [
        {
          "output_type": "stream",
          "text": [
            "\t\t LightGBM Classifer(top 250) on Normal with Response Encoding dataset \t\t \n",
            "\n"
          ],
          "name": "stdout"
        },
        {
          "output_type": "display_data",
          "data": {
            "image/png": "[encoded data removed]",
            "text/plain": [
              "<Figure size 432x288 with 1 Axes>"
            ]
          },
          "metadata": {
            "tags": [],
            "needs_background": "light"
          }
        },
        {
          "output_type": "stream",
          "text": [
            "The log loss and auc was found to be 0.133 and 0.846 for LightGBM Classifer(top 250) on Normal with Response Encoding dataset.\n"
          ],
          "name": "stdout"
        }
      ]
    },
    {
      "cell_type": "markdown",
      "metadata": {
        "id": "F8r0vIjs9i27",
        "colab_type": "text"
      },
      "source": [
        "# Combined"
      ]
    },
    {
      "cell_type": "code",
      "metadata": {
        "id": "bfDFKhQ9DajM",
        "colab_type": "code",
        "colab": {
          "base_uri": "https://localhost:8080/",
          "height": 518
        },
        "outputId": "0dd3602c-3185-4d72-a48d-7ed80ea5459e"
      },
      "source": [
        "plot_auc(y_val,y_preds,labels)"
      ],
      "execution_count": null,
      "outputs": [
        {
          "output_type": "display_data",
          "data": {
            "image/png": "[encoded data removed]",
            "text/plain": [
              "<Figure size 864x576 with 1 Axes>"
            ]
          },
          "metadata": {
            "tags": [],
            "needs_background": "light"
          }
        }
      ]
    },
    {
      "cell_type": "code",
      "metadata": {
        "id": "FWJqDqYVCUJv",
        "colab_type": "code",
        "colab": {
          "base_uri": "https://localhost:8080/",
          "height": 297
        },
        "outputId": "9b94c1d8-f282-4b89-8e05-7deaf33c9ccf"
      },
      "source": [
        "result_df.sort_values(by='auc',ascending=False)"
      ],
      "execution_count": null,
      "outputs": [
        {
          "output_type": "execute_result",
          "data": {
            "text/html": [
              "<div>\n",
              "<style scoped>\n",
              "    .dataframe tbody tr th:only-of-type {\n",
              "        vertical-align: middle;\n",
              "    }\n",
              "\n",
              "    .dataframe tbody tr th {\n",
              "        vertical-align: top;\n",
              "    }\n",
              "\n",
              "    .dataframe thead th {\n",
              "        text-align: right;\n",
              "    }\n",
              "</style>\n",
              "<table border=\"1\" class=\"dataframe\">\n",
              "  <thead>\n",
              "    <tr style=\"text-align: right;\">\n",
              "      <th></th>\n",
              "      <th>Model</th>\n",
              "      <th>Dataset</th>\n",
              "      <th>log_loss</th>\n",
              "      <th>auc</th>\n",
              "    </tr>\n",
              "  </thead>\n",
              "  <tbody>\n",
              "    <tr>\n",
              "      <th>6</th>\n",
              "      <td>XGBoost Classifer(top 250)</td>\n",
              "      <td>Normal with Response Encoding</td>\n",
              "      <td>0.133050</td>\n",
              "      <td>0.845760</td>\n",
              "    </tr>\n",
              "    <tr>\n",
              "      <th>7</th>\n",
              "      <td>LightGBM Classifer(top 250)</td>\n",
              "      <td>Normal with Response Encoding</td>\n",
              "      <td>0.133313</td>\n",
              "      <td>0.845569</td>\n",
              "    </tr>\n",
              "    <tr>\n",
              "      <th>4</th>\n",
              "      <td>LightGBM Classifer</td>\n",
              "      <td>Normal with Response Encoding</td>\n",
              "      <td>0.134520</td>\n",
              "      <td>0.845469</td>\n",
              "    </tr>\n",
              "    <tr>\n",
              "      <th>3</th>\n",
              "      <td>XGBoost Classifer</td>\n",
              "      <td>Normal with Response Encoding</td>\n",
              "      <td>0.133739</td>\n",
              "      <td>0.845052</td>\n",
              "    </tr>\n",
              "    <tr>\n",
              "      <th>5</th>\n",
              "      <td>Random Forest Classifier (top 250)</td>\n",
              "      <td>Normal with Response Encoding</td>\n",
              "      <td>0.136440</td>\n",
              "      <td>0.837497</td>\n",
              "    </tr>\n",
              "    <tr>\n",
              "      <th>2</th>\n",
              "      <td>Random Forest Classifier</td>\n",
              "      <td>Normal with Response Encoding</td>\n",
              "      <td>0.136829</td>\n",
              "      <td>0.836315</td>\n",
              "    </tr>\n",
              "    <tr>\n",
              "      <th>0</th>\n",
              "      <td>Logisic Regression</td>\n",
              "      <td>Normal with Response Encoding</td>\n",
              "      <td>0.523996</td>\n",
              "      <td>0.823515</td>\n",
              "    </tr>\n",
              "    <tr>\n",
              "      <th>1</th>\n",
              "      <td>Decision Tree Classifier</td>\n",
              "      <td>Normal with Response Encoding</td>\n",
              "      <td>0.149110</td>\n",
              "      <td>0.769599</td>\n",
              "    </tr>\n",
              "  </tbody>\n",
              "</table>\n",
              "</div>"
            ],
            "text/plain": [
              "                                Model  ...       auc\n",
              "6          XGBoost Classifer(top 250)  ...  0.845760\n",
              "7         LightGBM Classifer(top 250)  ...  0.845569\n",
              "4                  LightGBM Classifer  ...  0.845469\n",
              "3                   XGBoost Classifer  ...  0.845052\n",
              "5  Random Forest Classifier (top 250)  ...  0.837497\n",
              "2            Random Forest Classifier  ...  0.836315\n",
              "0                  Logisic Regression  ...  0.823515\n",
              "1            Decision Tree Classifier  ...  0.769599\n",
              "\n",
              "[8 rows x 4 columns]"
            ]
          },
          "metadata": {
            "tags": []
          },
          "execution_count": 49
        }
      ]
    },
    {
      "cell_type": "markdown",
      "metadata": {
        "colab_type": "text",
        "id": "lF-jgX2JfCuI"
      },
      "source": [
        "# Saving all the datasets created"
      ]
    },
    {
      "cell_type": "code",
      "metadata": {
        "id": "EH0NANEcmKmJ",
        "colab_type": "code",
        "colab": {}
      },
      "source": [
        "import joblib\n",
        "filename = 'normal_train_re.pkl'\n",
        "X_train.to_pickle(os.path.join(file_path,'best_models',filename))\n",
        "\n",
        "filename = 'normal_val_re.pkl'\n",
        "X_val.to_pickle(os.path.join(file_path,'best_models',filename))\n",
        "\n",
        "filename = 'normal_test_re.pkl'\n",
        "X_test.to_pickle(os.path.join(file_path,'best_models',filename))\n",
        "\n",
        "filename = 'normal_train_re_250.pkl'\n",
        "X_train_200.to_pickle(os.path.join(file_path,'best_models',filename))\n",
        "\n",
        "filename = 'normal_val_re_250.pkl'\n",
        "X_val_200.to_pickle(os.path.join(file_path,'best_models',filename))\n",
        "\n",
        "filename = 'normal_test_re_250.pkl'\n",
        "X_test_200.to_pickle(os.path.join(file_path,'best_models',filename))"
      ],
      "execution_count": null,
      "outputs": []
    }
  ]
}