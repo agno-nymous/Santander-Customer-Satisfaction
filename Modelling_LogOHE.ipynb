{
  "nbformat": 4,
  "nbformat_minor": 0,
  "metadata": {
    "colab": {
      "name": "Modelling_LogOHE.ipynb",
      "provenance": [],
      "collapsed_sections": [
        "msPtDUHT0sQN",
        "xA9bSzUARRZ_",
        "LeV2q75ULzvm",
        "DXPMkhFs0nZp",
        "_EASzpf21O7L",
        "ARz9jBqc1O7c",
        "XGpFgTtG5vny",
        "sLrWIZbL5voJ",
        "f5NpSdZE5voY",
        "LECmbx42-V2m",
        "i-y4IONn-V26",
        "mYW7_x88-V3J",
        "F8r0vIjs9i27"
      ],
      "toc_visible": true,
      "mount_file_id": "1GH7JzsW61nC2voCQGG-8K-fvS4uiQXqs",
      "authorship_tag": "ABX9TyMvWOpV/TrUfZT0dBIMP0Ny",
      "include_colab_link": true
    },
    "kernelspec": {
      "name": "python3",
      "display_name": "Python 3"
    }
  },
  "cells": [
    {
      "cell_type": "markdown",
      "metadata": {
        "id": "view-in-github",
        "colab_type": "text"
      },
      "source": [
        "<a href=\"https://colab.research.google.com/github/ashishthomaschempolil/Santander-Customer-Satisfaction/blob/new_1/Modelling_LogOHE.ipynb\" target=\"_parent\"><img src=\"https://colab.research.google.com/assets/colab-badge.svg\" alt=\"Open In Colab\"/></a>"
      ]
    },
    {
      "cell_type": "code",
      "metadata": {
        "id": "QVQr_7USbczr",
        "colab_type": "code",
        "colab": {}
      },
      "source": [
        "import warnings\n",
        "warnings.filterwarnings(\"ignore\")\n",
        "import pandas as pd\n",
        "import numpy as np\n",
        "%matplotlib inline\n",
        "import matplotlib.pyplot as plt\n",
        "import seaborn as sns\n",
        "sns.set(palette='muted',style='whitegrid')\n",
        "import sklearn\n",
        "from sklearn import metrics,ensemble,model_selection,linear_model,tree,calibration\n",
        "import xgboost as xgb\n",
        "import lightgbm as lgb\n",
        "import scipy\n",
        "import random\n",
        "from tqdm import tqdm\n",
        "import os\n",
        "np.random.seed(13154)"
      ],
      "execution_count": 1,
      "outputs": []
    },
    {
      "cell_type": "code",
      "metadata": {
        "id": "hRB4PxAYa5xu",
        "colab_type": "code",
        "colab": {
          "base_uri": "https://localhost:8080/",
          "height": 221
        },
        "outputId": "b7d203ba-e6bd-4fdf-99da-183105721fc8"
      },
      "source": [
        "file = [k for k in os.listdir('/content/drive/My Drive/Santander_Customer_Satisfaction') if (('train' in k)|('test' in k))&('X' not in k)] #getting all the necessary files for modelling\n",
        "file"
      ],
      "execution_count": 2,
      "outputs": [
        {
          "output_type": "execute_result",
          "data": {
            "text/plain": [
              "['train_Normal.pkl',\n",
              " 'test_Normal.pkl',\n",
              " 'train_Normal with Response encoding.pkl',\n",
              " 'test_Normal with Response encoding.pkl',\n",
              " 'train_Normal with One Hot Encoding.pkl',\n",
              " 'test_Normal with One Hot Encoding.pkl',\n",
              " 'train_Log Transformed.pkl',\n",
              " 'test_Log Transformed.pkl',\n",
              " 'train_Log Transformed with Response encoding.pkl',\n",
              " 'test_Log Transformed with Response encoding.pkl',\n",
              " 'train_Log Transformed with One Hot Encoding.pkl',\n",
              " 'test_Log Transformed with One Hot Encoding.pkl']"
            ]
          },
          "metadata": {
            "tags": []
          },
          "execution_count": 2
        }
      ]
    },
    {
      "cell_type": "code",
      "metadata": {
        "id": "mV0hmG66S7ZC",
        "colab_type": "code",
        "colab": {
          "base_uri": "https://localhost:8080/",
          "height": 34
        },
        "outputId": "a6eb9c3e-68f5-48cc-f021-2519fe0e3174"
      },
      "source": [
        "file_path = '/content/drive/My Drive/Santander_Customer_Satisfaction/'\n",
        "train_file = file_path+'train_Log Transformed with One Hot Encoding.pkl' #log transformed\n",
        "test_file = file_path+ 'test_Log Transformed with One Hot Encoding.pkl'\n",
        "dataset= \"Log Transformed OHE\"\n",
        "train = pd.read_pickle(train_file)\n",
        "test = pd.read_pickle(test_file)\n",
        "X_train = train.drop(['ID','TARGET'],axis=1)\n",
        "y_train = train['TARGET'].values\n",
        "X_test = test.drop('ID',axis=1)\n",
        "del train,test\n",
        "X_train,X_val,y_train,y_val = model_selection.train_test_split(X_train,y_train,stratify=y_train,test_size=0.15)\n",
        "X_train.shape,X_val.shape,X_test.shape"
      ],
      "execution_count": 3,
      "outputs": [
        {
          "output_type": "execute_result",
          "data": {
            "text/plain": [
              "((64617, 446), (11403, 446), (75818, 446))"
            ]
          },
          "metadata": {
            "tags": []
          },
          "execution_count": 3
        }
      ]
    },
    {
      "cell_type": "code",
      "metadata": {
        "id": "v4yLi9O_CtFR",
        "colab_type": "code",
        "colab": {}
      },
      "source": [
        "global i\n",
        "i=0\n",
        "def plot_auc(y_true,y_pred,label,dataset=dataset):\n",
        "  \"\"\"\n",
        "  Plots auc curve when y_true and y_pred are given\n",
        "  dataset is string which tells which dataset were used.\n",
        "  label: tells which model was used\n",
        "  If label is a list plots all the auc curve for all labels (here y_pred will be a list of lists )\n",
        "  \"\"\"\n",
        "  \n",
        "  \n",
        "  if (type(label)!=list) & (type(label)!=np.array):\n",
        "    print(\"\\t\\t %s on %s dataset \\t\\t \\n\"%(label,dataset))\n",
        "    fpr,tpr,threshold = metrics.roc_curve(y_true,y_pred) #getting true positive rate, false positive rate\n",
        "    auc = metrics.roc_auc_score(y_true,y_pred) #getting auc score\n",
        "    log_loss = metrics.log_loss(y_true,y_pred) #getting logloss\n",
        "    label_1 = label+' AUC=%.3f'%(auc)\n",
        "\n",
        "    #plotting tpr vs fpr\n",
        "    sns.lineplot(fpr,tpr,label=label_1)\n",
        "    x=np.arange(0,1.1,0.1) #auc=0.5 line \n",
        "    sns.lineplot(x,x,label=\"AUC=0.5\")\n",
        "    plt.title(\"ROC on %s dataset\"%(dataset))\n",
        "    plt.xlabel('False Positive Rate')\n",
        "    plt.ylabel(\"True Positive Rate\")\n",
        "    plt.legend(bbox_to_anchor=(1.05, 1), loc=2, borderaxespad=0.) #legend box outside graph\n",
        "    plt.show()\n",
        "    print(\"The log loss and auc was found to be %.3f and %.3f for %s on %s dataset.\"%(log_loss,auc,label,dataset))\n",
        "    #creating a dataframe of the result\n",
        "    result_dict = {\"Model\":label,'Dataset':dataset,'log_loss':log_loss,'auc':auc}\n",
        "    \n",
        "    return pd.DataFrame(result_dict,index=[i])\n",
        "\n",
        "  else:\n",
        "    plt.figure(figsize=(12,8))\n",
        "    for k,y in enumerate(y_pred):\n",
        "      fpr,tpr,threshold = metrics.roc_curve(y_true,y)\n",
        "      auc = metrics.roc_auc_score(y_true,y)\n",
        "      label_ = label[k]+' AUC=%.3f'%(auc)\n",
        "      #plotting tpr vs fpr\n",
        "      sns.lineplot(fpr,tpr,label=label_)\n",
        "\n",
        "    x=np.arange(0,1.1,0.1)\n",
        "    sns.lineplot(x,x,label=\"AUC=0.5\")\n",
        "    plt.title(\"Combined ROC\")\n",
        "    plt.xlabel('False Positive Rate')\n",
        "    plt.ylabel(\"True Positive Rate\")\n",
        "    plt.legend(bbox_to_anchor=(1.05, 1), loc=2, borderaxespad=0.) #legend box outside graph\n",
        "    plt.show()"
      ],
      "execution_count": 4,
      "outputs": []
    },
    {
      "cell_type": "code",
      "metadata": {
        "id": "spCK7X7beIiy",
        "colab_type": "code",
        "colab": {}
      },
      "source": [
        "def find_best_params(model,params,cv=10,n_jobs=-1,X_train=X_train):\n",
        "  \"\"\"\n",
        "  Funcion which implements Random Seacrh CV and returns best model\n",
        "  \"\"\"\n",
        "  random_cv = model_selection.RandomizedSearchCV(model,param_distributions=params,scoring='roc_auc',n_jobs=n_jobs,cv=cv,verbose=2)\n",
        "  random_cv.fit(X_train,y_train)\n",
        "  print(\"The best auc score was %.3f\"%(random_cv.best_score_))\n",
        "  print(\"The best params were: %s\"%(random_cv.best_params_))\n",
        "  return random_cv.best_estimator_"
      ],
      "execution_count": 5,
      "outputs": []
    },
    {
      "cell_type": "code",
      "metadata": {
        "id": "9Mho8KPmabxm",
        "colab_type": "code",
        "colab": {}
      },
      "source": [
        "def plot_feature_importance(df,feat_imp,top=20,size=(6,6)):\n",
        "    \"\"\"\n",
        "    getting most important top features if df and feature_importance array is passed\n",
        "    \"\"\"\n",
        "    top_indices = np.argsort(feat_imp)[::-1][:top] #getting the indices with top feature importace\n",
        "    most_important_feat = df.columns[top_indices] #getiing the columns names\n",
        "    plt.figure(figsize=size)\n",
        "    sns.barplot(x=feat_imp[top_indices],y=most_important_feat) #plotting feature importance \n",
        "    plt.title('Feature Importance')\n",
        "    plt.xlabel('Importance')\n",
        "    plt.ylabel(\"Feature names\")\n",
        "    plt.show()"
      ],
      "execution_count": 6,
      "outputs": []
    },
    {
      "cell_type": "code",
      "metadata": {
        "id": "VaQtOvkvfNeO",
        "colab_type": "code",
        "colab": {}
      },
      "source": [
        "def get_top_features(df,feat_imp,top=50):\n",
        "  \"\"\"\n",
        "  gets the top features.\n",
        "  if top is of integer dtype it will return top features,\n",
        "  if top is between 0 and 1, it will return features that have at least feature importance value= top\n",
        "  \"\"\"\n",
        "  if (top>0.)&(top<=1.): #getting the features that have feature importance value greater than top\n",
        "    feature_to_consider = [1 if i>=top else 0 for i in feat_imp]\n",
        "    most_important_feat = [i  for i,j in zip(df.columns,feature_to_consider) if (j==1)]#getiing the columns names\n",
        "  else:\n",
        "    top_indices = np.argsort(feat_imp)[::-1][:top] #getting the indices with top feature importace\n",
        "    most_important_feat = df.columns[top_indices] #getiing the columns names\n",
        "  return most_important_feat    "
      ],
      "execution_count": 7,
      "outputs": []
    },
    {
      "cell_type": "markdown",
      "metadata": {
        "id": "vvLQsSsVAsUA",
        "colab_type": "text"
      },
      "source": [
        "# Modeling"
      ]
    },
    {
      "cell_type": "markdown",
      "metadata": {
        "id": "uLh2j2XvAxeO",
        "colab_type": "text"
      },
      "source": [
        "# Logistic Regression"
      ]
    },
    {
      "cell_type": "code",
      "metadata": {
        "colab_type": "code",
        "id": "nsbNtvxAYB2O",
        "colab": {}
      },
      "source": [
        "model = linear_model.LogisticRegression(class_weight='balanced')\n",
        "params = {'penalty':['l2','l1'], 'C':[10.**i for i in np.arange(-3,3,1)], \n",
        "          'fit_intercept':[True,False] ,\n",
        "          }\n"
      ],
      "execution_count": 9,
      "outputs": []
    },
    {
      "cell_type": "code",
      "metadata": {
        "colab_type": "code",
        "id": "mXTZa5oPYB2R",
        "colab": {
          "base_uri": "https://localhost:8080/",
          "height": 238
        },
        "outputId": "9fc167e2-2be5-4bc4-a7c1-8b4e6387cdbf"
      },
      "source": [
        "%%time\n",
        "find_best_params(model,params)"
      ],
      "execution_count": 10,
      "outputs": [
        {
          "output_type": "stream",
          "text": [
            "Fitting 10 folds for each of 10 candidates, totalling 100 fits\n"
          ],
          "name": "stdout"
        },
        {
          "output_type": "stream",
          "text": [
            "[Parallel(n_jobs=-1)]: Using backend LokyBackend with 2 concurrent workers.\n",
            "[Parallel(n_jobs=-1)]: Done  37 tasks      | elapsed:  1.5min\n",
            "[Parallel(n_jobs=-1)]: Done 100 out of 100 | elapsed:  4.6min finished\n"
          ],
          "name": "stderr"
        },
        {
          "output_type": "stream",
          "text": [
            "The best auc score was 0.812\n",
            "The best params were: {'penalty': 'l2', 'fit_intercept': True, 'C': 0.001}\n",
            "CPU times: user 10.9 s, sys: 1.28 s, total: 12.2 s\n",
            "Wall time: 4min 43s\n"
          ],
          "name": "stdout"
        },
        {
          "output_type": "execute_result",
          "data": {
            "text/plain": [
              "LogisticRegression(C=0.001, class_weight='balanced', dual=False,\n",
              "                   fit_intercept=True, intercept_scaling=1, l1_ratio=None,\n",
              "                   max_iter=100, multi_class='auto', n_jobs=None, penalty='l2',\n",
              "                   random_state=None, solver='lbfgs', tol=0.0001, verbose=0,\n",
              "                   warm_start=False)"
            ]
          },
          "metadata": {
            "tags": []
          },
          "execution_count": 10
        }
      ]
    },
    {
      "cell_type": "code",
      "metadata": {
        "colab_type": "code",
        "id": "eYp1oCU5YB2U",
        "colab": {
          "base_uri": "https://localhost:8080/",
          "height": 102
        },
        "outputId": "a565bdda-4b26-46a5-eb18-e7d40ea008b2"
      },
      "source": [
        "model = linear_model.LogisticRegression(C=0.001, class_weight='balanced', dual=False,\n",
        "                   fit_intercept=True, intercept_scaling=1, l1_ratio=None,\n",
        "                   max_iter=100, multi_class='auto', n_jobs=None, penalty='l2',\n",
        "                   solver='lbfgs', tol=0.0001, verbose=0,\n",
        "                   warm_start=False)\n",
        "\n",
        "model.fit(X_train,y_train)"
      ],
      "execution_count": null,
      "outputs": [
        {
          "output_type": "execute_result",
          "data": {
            "text/plain": [
              "LogisticRegression(C=0.001, class_weight='balanced', dual=False,\n",
              "                   fit_intercept=True, intercept_scaling=1, l1_ratio=None,\n",
              "                   max_iter=100, multi_class='auto', n_jobs=None, penalty='l2',\n",
              "                   random_state=None, solver='lbfgs', tol=0.0001, verbose=0,\n",
              "                   warm_start=False)"
            ]
          },
          "metadata": {
            "tags": []
          },
          "execution_count": 10
        }
      ]
    },
    {
      "cell_type": "code",
      "metadata": {
        "colab_type": "code",
        "id": "DlDUHTI-YB2X",
        "colab": {
          "base_uri": "https://localhost:8080/",
          "height": 352
        },
        "outputId": "d82ce181-a2da-4778-cc76-eb36d9ff7923"
      },
      "source": [
        "labels=[] #storing all labels\n",
        "y_preds = [] #storing all y_pred\n",
        "y_pred = model.predict_proba(X_val)[:,1]\n",
        "label=\"Logisic Regression\"\n",
        "labels.append(label)\n",
        "y_preds.append(y_pred)\n",
        "result = plot_auc(y_val,y_pred,label,dataset)\n",
        "result_df = result\n",
        "del result"
      ],
      "execution_count": null,
      "outputs": [
        {
          "output_type": "stream",
          "text": [
            "\t\t Logisic Regression on Log Transformed OHE dataset \t\t \n",
            "\n"
          ],
          "name": "stdout"
        },
        {
          "output_type": "display_data",
          "data": {
            "image/png": "[encoded data removed]",
            "text/plain": [
              "<Figure size 432x288 with 1 Axes>"
            ]
          },
          "metadata": {
            "tags": [],
            "needs_background": "light"
          }
        },
        {
          "output_type": "stream",
          "text": [
            "The log loss and auc was found to be 0.519 and 0.824 for Logisic Regression on Log Transformed OHE dataset.\n"
          ],
          "name": "stdout"
        }
      ]
    },
    {
      "cell_type": "code",
      "metadata": {
        "id": "Hh6_qnWsBOVa",
        "colab_type": "code",
        "colab": {
          "base_uri": "https://localhost:8080/",
          "height": 80
        },
        "outputId": "aabdae23-ffe1-4664-f1b7-d20a2a5b3a9b"
      },
      "source": [
        "result_df"
      ],
      "execution_count": null,
      "outputs": [
        {
          "output_type": "execute_result",
          "data": {
            "text/html": [
              "<div>\n",
              "<style scoped>\n",
              "    .dataframe tbody tr th:only-of-type {\n",
              "        vertical-align: middle;\n",
              "    }\n",
              "\n",
              "    .dataframe tbody tr th {\n",
              "        vertical-align: top;\n",
              "    }\n",
              "\n",
              "    .dataframe thead th {\n",
              "        text-align: right;\n",
              "    }\n",
              "</style>\n",
              "<table border=\"1\" class=\"dataframe\">\n",
              "  <thead>\n",
              "    <tr style=\"text-align: right;\">\n",
              "      <th></th>\n",
              "      <th>Model</th>\n",
              "      <th>Dataset</th>\n",
              "      <th>log_loss</th>\n",
              "      <th>auc</th>\n",
              "    </tr>\n",
              "  </thead>\n",
              "  <tbody>\n",
              "    <tr>\n",
              "      <th>0</th>\n",
              "      <td>Logisic Regression</td>\n",
              "      <td>Log Transformed OHE</td>\n",
              "      <td>0.518796</td>\n",
              "      <td>0.824365</td>\n",
              "    </tr>\n",
              "  </tbody>\n",
              "</table>\n",
              "</div>"
            ],
            "text/plain": [
              "                Model              Dataset  log_loss       auc\n",
              "0  Logisic Regression  Log Transformed OHE  0.518796  0.824365"
            ]
          },
          "metadata": {
            "tags": []
          },
          "execution_count": 12
        }
      ]
    },
    {
      "cell_type": "markdown",
      "metadata": {
        "id": "0y9PvYUNX-t2",
        "colab_type": "text"
      },
      "source": [
        "# Decision Trees"
      ]
    },
    {
      "cell_type": "code",
      "metadata": {
        "id": "0kVyDscneGv3",
        "colab_type": "code",
        "colab": {}
      },
      "source": [
        "model = tree.DecisionTreeClassifier(class_weight='balanced')\n",
        "params = { \n",
        "          'max_depth':[10,100,500,1000,-1], \n",
        "         'min_samples_split':[2,5,10,100,500], \n",
        "          'min_samples_leaf':[1,3,5,7,10],\n",
        "          'max_leaf_nodes':[100,500,1000,5000,-1] \n",
        "          }\n"
      ],
      "execution_count": 11,
      "outputs": []
    },
    {
      "cell_type": "code",
      "metadata": {
        "id": "OWmU9ZdnjHEk",
        "colab_type": "code",
        "colab": {
          "base_uri": "https://localhost:8080/",
          "height": 255
        },
        "outputId": "66ac63d8-6c39-48e6-8b9f-a8a23a9100b8"
      },
      "source": [
        "%%time\n",
        "find_best_params(model,params)"
      ],
      "execution_count": 12,
      "outputs": [
        {
          "output_type": "stream",
          "text": [
            "Fitting 10 folds for each of 10 candidates, totalling 100 fits\n"
          ],
          "name": "stdout"
        },
        {
          "output_type": "stream",
          "text": [
            "[Parallel(n_jobs=-1)]: Using backend LokyBackend with 2 concurrent workers.\n",
            "[Parallel(n_jobs=-1)]: Done  37 tasks      | elapsed:  1.9min\n",
            "[Parallel(n_jobs=-1)]: Done 100 out of 100 | elapsed:  6.4min finished\n"
          ],
          "name": "stderr"
        },
        {
          "output_type": "stream",
          "text": [
            "The best auc score was 0.790\n",
            "The best params were: {'min_samples_split': 500, 'min_samples_leaf': 1, 'max_leaf_nodes': 100, 'max_depth': 1000}\n",
            "CPU times: user 5.57 s, sys: 253 ms, total: 5.82 s\n",
            "Wall time: 6min 27s\n"
          ],
          "name": "stdout"
        },
        {
          "output_type": "execute_result",
          "data": {
            "text/plain": [
              "DecisionTreeClassifier(ccp_alpha=0.0, class_weight='balanced', criterion='gini',\n",
              "                       max_depth=1000, max_features=None, max_leaf_nodes=100,\n",
              "                       min_impurity_decrease=0.0, min_impurity_split=None,\n",
              "                       min_samples_leaf=1, min_samples_split=500,\n",
              "                       min_weight_fraction_leaf=0.0, presort='deprecated',\n",
              "                       random_state=None, splitter='best')"
            ]
          },
          "metadata": {
            "tags": []
          },
          "execution_count": 12
        }
      ]
    },
    {
      "cell_type": "code",
      "metadata": {
        "id": "11n9ZcTNirnF",
        "colab_type": "code",
        "colab": {
          "base_uri": "https://localhost:8080/",
          "height": 119
        },
        "outputId": "6085c8d4-6b8b-4548-de1a-95f0b83f0f0a"
      },
      "source": [
        "model = tree.DecisionTreeClassifier(ccp_alpha=0.0, class_weight='balanced', criterion='gini',\n",
        "                       max_depth=1000, max_features=None, max_leaf_nodes=100,\n",
        "                       min_impurity_decrease=0.0, min_impurity_split=None,\n",
        "                       min_samples_leaf=1, min_samples_split=500,\n",
        "                       min_weight_fraction_leaf=0.0, presort='deprecated',\n",
        "                        splitter='best')\n",
        "\n",
        "model.fit(X_train,y_train)"
      ],
      "execution_count": null,
      "outputs": [
        {
          "output_type": "execute_result",
          "data": {
            "text/plain": [
              "DecisionTreeClassifier(ccp_alpha=0.0, class_weight='balanced', criterion='gini',\n",
              "                       max_depth=1000, max_features=None, max_leaf_nodes=100,\n",
              "                       min_impurity_decrease=0.0, min_impurity_split=None,\n",
              "                       min_samples_leaf=1, min_samples_split=500,\n",
              "                       min_weight_fraction_leaf=0.0, presort='deprecated',\n",
              "                       random_state=None, splitter='best')"
            ]
          },
          "metadata": {
            "tags": []
          },
          "execution_count": 15
        }
      ]
    },
    {
      "cell_type": "code",
      "metadata": {
        "id": "IqO7PiHUhFIR",
        "colab_type": "code",
        "colab": {
          "base_uri": "https://localhost:8080/",
          "height": 272
        },
        "outputId": "2b8aa2ff-4d3e-4c64-fb94-138c5a1f22ec"
      },
      "source": [
        "cc_model = calibration.CalibratedClassifierCV(model,cv='prefit')\n",
        "cc_model.fit(X_train,y_train)"
      ],
      "execution_count": null,
      "outputs": [
        {
          "output_type": "execute_result",
          "data": {
            "text/plain": [
              "CalibratedClassifierCV(base_estimator=DecisionTreeClassifier(ccp_alpha=0.0,\n",
              "                                                             class_weight='balanced',\n",
              "                                                             criterion='gini',\n",
              "                                                             max_depth=1000,\n",
              "                                                             max_features=None,\n",
              "                                                             max_leaf_nodes=100,\n",
              "                                                             min_impurity_decrease=0.0,\n",
              "                                                             min_impurity_split=None,\n",
              "                                                             min_samples_leaf=1,\n",
              "                                                             min_samples_split=500,\n",
              "                                                             min_weight_fraction_leaf=0.0,\n",
              "                                                             presort='deprecated',\n",
              "                                                             random_state=None,\n",
              "                                                             splitter='best'),\n",
              "                       cv='prefit', method='sigmoid')"
            ]
          },
          "metadata": {
            "tags": []
          },
          "execution_count": 16
        }
      ]
    },
    {
      "cell_type": "code",
      "metadata": {
        "id": "CIxYiOfoih44",
        "colab_type": "code",
        "colab": {
          "base_uri": "https://localhost:8080/",
          "height": 352
        },
        "outputId": "db5e381d-a79b-41ab-d43d-2965c707cdfb"
      },
      "source": [
        "i+=1\n",
        "y_pred = cc_model.predict_proba(X_val)[:,1]\n",
        "label=\"Decision Tree Classifier\"\n",
        "labels.append(label)\n",
        "y_preds.append(y_pred)\n",
        "result = plot_auc(y_val,y_pred,label)\n",
        "result_df = result_df.append(result)\n",
        "del result"
      ],
      "execution_count": null,
      "outputs": [
        {
          "output_type": "stream",
          "text": [
            "\t\t Decision Tree Classifier on Log Transformed OHE dataset \t\t \n",
            "\n"
          ],
          "name": "stdout"
        },
        {
          "output_type": "display_data",
          "data": {
            "image/png": "[encoded data removed]",
            "text/plain": [
              "<Figure size 432x288 with 1 Axes>"
            ]
          },
          "metadata": {
            "tags": [],
            "needs_background": "light"
          }
        },
        {
          "output_type": "stream",
          "text": [
            "The log loss and auc was found to be 0.141 and 0.808 for Decision Tree Classifier on Log Transformed OHE dataset.\n"
          ],
          "name": "stdout"
        }
      ]
    },
    {
      "cell_type": "code",
      "metadata": {
        "id": "qusVRO8HdpHW",
        "colab_type": "code",
        "colab": {
          "base_uri": "https://localhost:8080/",
          "height": 111
        },
        "outputId": "1f4ef967-c14f-4325-a11e-8b34687106ae"
      },
      "source": [
        "result_df"
      ],
      "execution_count": null,
      "outputs": [
        {
          "output_type": "execute_result",
          "data": {
            "text/html": [
              "<div>\n",
              "<style scoped>\n",
              "    .dataframe tbody tr th:only-of-type {\n",
              "        vertical-align: middle;\n",
              "    }\n",
              "\n",
              "    .dataframe tbody tr th {\n",
              "        vertical-align: top;\n",
              "    }\n",
              "\n",
              "    .dataframe thead th {\n",
              "        text-align: right;\n",
              "    }\n",
              "</style>\n",
              "<table border=\"1\" class=\"dataframe\">\n",
              "  <thead>\n",
              "    <tr style=\"text-align: right;\">\n",
              "      <th></th>\n",
              "      <th>Model</th>\n",
              "      <th>Dataset</th>\n",
              "      <th>log_loss</th>\n",
              "      <th>auc</th>\n",
              "    </tr>\n",
              "  </thead>\n",
              "  <tbody>\n",
              "    <tr>\n",
              "      <th>0</th>\n",
              "      <td>Logisic Regression</td>\n",
              "      <td>Log Transformed OHE</td>\n",
              "      <td>0.518796</td>\n",
              "      <td>0.824365</td>\n",
              "    </tr>\n",
              "    <tr>\n",
              "      <th>1</th>\n",
              "      <td>Decision Tree Classifier</td>\n",
              "      <td>Log Transformed OHE</td>\n",
              "      <td>0.140781</td>\n",
              "      <td>0.807561</td>\n",
              "    </tr>\n",
              "  </tbody>\n",
              "</table>\n",
              "</div>"
            ],
            "text/plain": [
              "                      Model              Dataset  log_loss       auc\n",
              "0        Logisic Regression  Log Transformed OHE  0.518796  0.824365\n",
              "1  Decision Tree Classifier  Log Transformed OHE  0.140781  0.807561"
            ]
          },
          "metadata": {
            "tags": []
          },
          "execution_count": 18
        }
      ]
    },
    {
      "cell_type": "markdown",
      "metadata": {
        "colab_type": "text",
        "id": "msPtDUHT0sQN"
      },
      "source": [
        "# Random Forest"
      ]
    },
    {
      "cell_type": "code",
      "metadata": {
        "colab_type": "code",
        "id": "OwHc1zRG0sQP",
        "colab": {}
      },
      "source": [
        "model = ensemble.RandomForestClassifier(class_weight='balanced')\n",
        "params = { 'n_estimators':[1000,2000],\n",
        "          'max_depth':[500,1000], \n",
        "         'min_samples_split':[100,500],\n",
        "          'min_samples_leaf':[3,5],\n",
        "          'max_leaf_nodes':[100,250] \n",
        "          }\n"
      ],
      "execution_count": 13,
      "outputs": []
    },
    {
      "cell_type": "code",
      "metadata": {
        "colab_type": "code",
        "id": "zDOPEuJy0sQS",
        "colab": {
          "base_uri": "https://localhost:8080/",
          "height": 272
        },
        "outputId": "f0120747-2b9c-4796-9037-091ea233188c"
      },
      "source": [
        "%%time\n",
        "find_best_params(model,params,cv=3)"
      ],
      "execution_count": 14,
      "outputs": [
        {
          "output_type": "stream",
          "text": [
            "Fitting 3 folds for each of 10 candidates, totalling 30 fits\n"
          ],
          "name": "stdout"
        },
        {
          "output_type": "stream",
          "text": [
            "[Parallel(n_jobs=-1)]: Using backend LokyBackend with 2 concurrent workers.\n",
            "[Parallel(n_jobs=-1)]: Done  30 out of  30 | elapsed: 75.3min finished\n"
          ],
          "name": "stderr"
        },
        {
          "output_type": "stream",
          "text": [
            "The best auc score was 0.818\n",
            "The best params were: {'n_estimators': 1000, 'min_samples_split': 500, 'min_samples_leaf': 3, 'max_leaf_nodes': 250, 'max_depth': 500}\n",
            "CPU times: user 3min 26s, sys: 674 ms, total: 3min 27s\n",
            "Wall time: 1h 18min 43s\n"
          ],
          "name": "stdout"
        },
        {
          "output_type": "execute_result",
          "data": {
            "text/plain": [
              "RandomForestClassifier(bootstrap=True, ccp_alpha=0.0, class_weight='balanced',\n",
              "                       criterion='gini', max_depth=500, max_features='auto',\n",
              "                       max_leaf_nodes=250, max_samples=None,\n",
              "                       min_impurity_decrease=0.0, min_impurity_split=None,\n",
              "                       min_samples_leaf=3, min_samples_split=500,\n",
              "                       min_weight_fraction_leaf=0.0, n_estimators=1000,\n",
              "                       n_jobs=None, oob_score=False, random_state=None,\n",
              "                       verbose=0, warm_start=False)"
            ]
          },
          "metadata": {
            "tags": []
          },
          "execution_count": 14
        }
      ]
    },
    {
      "cell_type": "code",
      "metadata": {
        "colab_type": "code",
        "id": "RBeRKL7R0sQW",
        "colab": {
          "base_uri": "https://localhost:8080/",
          "height": 187
        },
        "outputId": "94ec514f-5f02-496d-a984-1f30b1d2016e"
      },
      "source": [
        "model = ensemble.RandomForestClassifier(bootstrap=True, ccp_alpha=0.0, class_weight='balanced',\n",
        "                       criterion='gini', max_depth=500, max_features='auto',\n",
        "                       max_leaf_nodes=250, max_samples=None,\n",
        "                       min_impurity_decrease=0.0, min_impurity_split=None,\n",
        "                       min_samples_leaf=3, min_samples_split=500,\n",
        "                       min_weight_fraction_leaf=0.0, n_estimators=1000,\n",
        "                       n_jobs=-1, oob_score=False,\n",
        "                       verbose=0, warm_start=False)\n",
        "\n",
        "%time model.fit(X_train,y_train)"
      ],
      "execution_count": 16,
      "outputs": [
        {
          "output_type": "stream",
          "text": [
            "CPU times: user 5min 17s, sys: 2.08 s, total: 5min 19s\n",
            "Wall time: 2min 42s\n"
          ],
          "name": "stdout"
        },
        {
          "output_type": "execute_result",
          "data": {
            "text/plain": [
              "RandomForestClassifier(bootstrap=True, ccp_alpha=0.0, class_weight='balanced',\n",
              "                       criterion='gini', max_depth=500, max_features='auto',\n",
              "                       max_leaf_nodes=250, max_samples=None,\n",
              "                       min_impurity_decrease=0.0, min_impurity_split=None,\n",
              "                       min_samples_leaf=3, min_samples_split=500,\n",
              "                       min_weight_fraction_leaf=0.0, n_estimators=1000,\n",
              "                       n_jobs=-1, oob_score=False, random_state=None, verbose=0,\n",
              "                       warm_start=False)"
            ]
          },
          "metadata": {
            "tags": []
          },
          "execution_count": 16
        }
      ]
    },
    {
      "cell_type": "code",
      "metadata": {
        "colab_type": "code",
        "id": "oJLF56Ts0sQY",
        "colab": {
          "base_uri": "https://localhost:8080/",
          "height": 357
        },
        "outputId": "6a78a307-66dc-4ce1-d233-af3fda2a7353"
      },
      "source": [
        "cc_model = calibration.CalibratedClassifierCV(model,cv='prefit')\n",
        "cc_model.fit(X_train,y_train)"
      ],
      "execution_count": null,
      "outputs": [
        {
          "output_type": "execute_result",
          "data": {
            "text/plain": [
              "CalibratedClassifierCV(base_estimator=RandomForestClassifier(bootstrap=True,\n",
              "                                                             ccp_alpha=0.0,\n",
              "                                                             class_weight='balanced',\n",
              "                                                             criterion='gini',\n",
              "                                                             max_depth=500,\n",
              "                                                             max_features='auto',\n",
              "                                                             max_leaf_nodes=250,\n",
              "                                                             max_samples=None,\n",
              "                                                             min_impurity_decrease=0.0,\n",
              "                                                             min_impurity_split=None,\n",
              "                                                             min_samples_leaf=3,\n",
              "                                                             min_samples_split=500,\n",
              "                                                             min_weight_fraction_leaf=0.0,\n",
              "                                                             n_estimators=1000,\n",
              "                                                             n_jobs=-1,\n",
              "                                                             oob_score=False,\n",
              "                                                             random_state=None,\n",
              "                                                             verbose=0,\n",
              "                                                             warm_start=False),\n",
              "                       cv='prefit', method='sigmoid')"
            ]
          },
          "metadata": {
            "tags": []
          },
          "execution_count": 22
        }
      ]
    },
    {
      "cell_type": "code",
      "metadata": {
        "colab_type": "code",
        "id": "4Jct69qq0sQa",
        "colab": {
          "base_uri": "https://localhost:8080/",
          "height": 352
        },
        "outputId": "aa29265f-1ac6-43f9-b6ff-9ce79918232e"
      },
      "source": [
        "i+=1\n",
        "y_pred = cc_model.predict_proba(X_val)[:,1]\n",
        "label=\"Random Forest Classifier\"\n",
        "labels.append(label)\n",
        "y_preds.append(y_pred)\n",
        "result = plot_auc(y_val,y_pred,label,dataset)\n",
        "result_df = result_df.append(result)\n",
        "del result"
      ],
      "execution_count": null,
      "outputs": [
        {
          "output_type": "stream",
          "text": [
            "\t\t Random Forest Classifier on Log Transformed OHE dataset \t\t \n",
            "\n"
          ],
          "name": "stdout"
        },
        {
          "output_type": "display_data",
          "data": {
            "image/png": "[encoded data removed]",
            "text/plain": [
              "<Figure size 432x288 with 1 Axes>"
            ]
          },
          "metadata": {
            "tags": [],
            "needs_background": "light"
          }
        },
        {
          "output_type": "stream",
          "text": [
            "The log loss and auc was found to be 0.137 and 0.833 for Random Forest Classifier on Log Transformed OHE dataset.\n"
          ],
          "name": "stdout"
        }
      ]
    },
    {
      "cell_type": "code",
      "metadata": {
        "colab_type": "code",
        "id": "0igsmQs_0sQd",
        "colab": {
          "base_uri": "https://localhost:8080/",
          "height": 142
        },
        "outputId": "3bb21412-939f-40a3-94e2-656846324b4e"
      },
      "source": [
        "result_df"
      ],
      "execution_count": null,
      "outputs": [
        {
          "output_type": "execute_result",
          "data": {
            "text/html": [
              "<div>\n",
              "<style scoped>\n",
              "    .dataframe tbody tr th:only-of-type {\n",
              "        vertical-align: middle;\n",
              "    }\n",
              "\n",
              "    .dataframe tbody tr th {\n",
              "        vertical-align: top;\n",
              "    }\n",
              "\n",
              "    .dataframe thead th {\n",
              "        text-align: right;\n",
              "    }\n",
              "</style>\n",
              "<table border=\"1\" class=\"dataframe\">\n",
              "  <thead>\n",
              "    <tr style=\"text-align: right;\">\n",
              "      <th></th>\n",
              "      <th>Model</th>\n",
              "      <th>Dataset</th>\n",
              "      <th>log_loss</th>\n",
              "      <th>auc</th>\n",
              "    </tr>\n",
              "  </thead>\n",
              "  <tbody>\n",
              "    <tr>\n",
              "      <th>0</th>\n",
              "      <td>Logisic Regression</td>\n",
              "      <td>Log Transformed OHE</td>\n",
              "      <td>0.518796</td>\n",
              "      <td>0.824365</td>\n",
              "    </tr>\n",
              "    <tr>\n",
              "      <th>1</th>\n",
              "      <td>Decision Tree Classifier</td>\n",
              "      <td>Log Transformed OHE</td>\n",
              "      <td>0.140781</td>\n",
              "      <td>0.807561</td>\n",
              "    </tr>\n",
              "    <tr>\n",
              "      <th>2</th>\n",
              "      <td>Random Forest Classifier</td>\n",
              "      <td>Log Transformed OHE</td>\n",
              "      <td>0.137307</td>\n",
              "      <td>0.833055</td>\n",
              "    </tr>\n",
              "  </tbody>\n",
              "</table>\n",
              "</div>"
            ],
            "text/plain": [
              "                      Model              Dataset  log_loss       auc\n",
              "0        Logisic Regression  Log Transformed OHE  0.518796  0.824365\n",
              "1  Decision Tree Classifier  Log Transformed OHE  0.140781  0.807561\n",
              "2  Random Forest Classifier  Log Transformed OHE  0.137307  0.833055"
            ]
          },
          "metadata": {
            "tags": []
          },
          "execution_count": 24
        }
      ]
    },
    {
      "cell_type": "markdown",
      "metadata": {
        "id": "GZqVnGrga8Tu",
        "colab_type": "text"
      },
      "source": [
        "# Selecting top features"
      ]
    },
    {
      "cell_type": "code",
      "metadata": {
        "id": "tFB132azbBQS",
        "colab_type": "code",
        "colab": {
          "base_uri": "https://localhost:8080/",
          "height": 736
        },
        "outputId": "2750b90f-1f35-4bdf-81f2-9b16370458de"
      },
      "source": [
        "plot_feature_importance(X_train,model.feature_importances_,top=50,size=(7,12))"
      ],
      "execution_count": null,
      "outputs": [
        {
          "output_type": "display_data",
          "data": {
            "image/png": "[encoded data removed]",
            "text/plain": [
              "<Figure size 504x864 with 1 Axes>"
            ]
          },
          "metadata": {
            "tags": [],
            "needs_background": "light"
          }
        }
      ]
    },
    {
      "cell_type": "markdown",
      "metadata": {
        "id": "XxwkRX5gnXWi",
        "colab_type": "text"
      },
      "source": [
        "We will create new datasets with less features."
      ]
    },
    {
      "cell_type": "code",
      "metadata": {
        "id": "CfArYVshrZNh",
        "colab_type": "code",
        "colab": {
          "base_uri": "https://localhost:8080/",
          "height": 34
        },
        "outputId": "80c73e81-23b0-44e2-c9d6-70dabf640a8c"
      },
      "source": [
        "#getting top k features\n",
        "top=250\n",
        "features = get_top_features(X_train,model.feature_importances_,top=top)\n",
        "print(\"Taking top %i features\"%(top))\n",
        "X_train_200 = X_train[features].copy()\n",
        "X_val_200 = X_val[features].copy()\n",
        "X_test_200 = X_test[features].copy()"
      ],
      "execution_count": 17,
      "outputs": [
        {
          "output_type": "stream",
          "text": [
            "Taking top 250 features\n"
          ],
          "name": "stdout"
        }
      ]
    },
    {
      "cell_type": "markdown",
      "metadata": {
        "colab_type": "text",
        "id": "xA9bSzUARRZ_"
      },
      "source": [
        "# XGB Classifier"
      ]
    },
    {
      "cell_type": "code",
      "metadata": {
        "colab_type": "code",
        "id": "3UWwclfyRRaC",
        "colab": {}
      },
      "source": [
        "model = xgb.XGBClassifier(n_jobs=-1,\n",
        "                      nthread=-1,\n",
        "                      scale_pos_weight=1,\n",
        "                      learning_rate=0.02,  \n",
        "                      colsample_bytree = 0.7,\n",
        "                      subsample = 0.8,\n",
        "                      objective='binary:logistic', \n",
        "                      n_estimators=500,\n",
        "                      reg_alpha = 0.,\n",
        "                      max_depth=5, random_state=42\n",
        "                     )\n"
      ],
      "execution_count": null,
      "outputs": []
    },
    {
      "cell_type": "code",
      "metadata": {
        "id": "T0CEyW37Dai9",
        "colab_type": "code",
        "colab": {
          "base_uri": "https://localhost:8080/",
          "height": 1000
        },
        "outputId": "0bada34a-fb9a-4996-d67b-81ef4da5c5d6"
      },
      "source": [
        "#https://towardsdatascience.com/fine-tuning-xgboost-in-python-like-a-boss-b4543ed8b1e\n",
        "\"\"\"\n",
        "manually changed each parameters 1 by 1 and compared the validation auc\n",
        "and selected the best parameter value\n",
        "\"\"\"\n",
        "eval_metric = ['auc','error']\n",
        "%time model.fit(X_train,y_train,eval_set=[(X_val,y_val)],eval_metric=eval_metric,verbose=True)"
      ],
      "execution_count": null,
      "outputs": [
        {
          "output_type": "stream",
          "text": [
            "[0]\tvalidation_0-auc:0.79463\tvalidation_0-error:0.040077\n",
            "[1]\tvalidation_0-auc:0.813516\tvalidation_0-error:0.039551\n",
            "[2]\tvalidation_0-auc:0.821514\tvalidation_0-error:0.039551\n",
            "[3]\tvalidation_0-auc:0.81602\tvalidation_0-error:0.039551\n",
            "[4]\tvalidation_0-auc:0.819795\tvalidation_0-error:0.039551\n",
            "[5]\tvalidation_0-auc:0.825273\tvalidation_0-error:0.039551\n",
            "[6]\tvalidation_0-auc:0.825925\tvalidation_0-error:0.039551\n",
            "[7]\tvalidation_0-auc:0.826827\tvalidation_0-error:0.039551\n",
            "[8]\tvalidation_0-auc:0.828134\tvalidation_0-error:0.039551\n",
            "[9]\tvalidation_0-auc:0.828406\tvalidation_0-error:0.039551\n",
            "[10]\tvalidation_0-auc:0.828002\tvalidation_0-error:0.039551\n",
            "[11]\tvalidation_0-auc:0.827996\tvalidation_0-error:0.039551\n",
            "[12]\tvalidation_0-auc:0.827338\tvalidation_0-error:0.039551\n",
            "[13]\tvalidation_0-auc:0.827359\tvalidation_0-error:0.039551\n",
            "[14]\tvalidation_0-auc:0.82799\tvalidation_0-error:0.039551\n",
            "[15]\tvalidation_0-auc:0.828445\tvalidation_0-error:0.039551\n",
            "[16]\tvalidation_0-auc:0.829067\tvalidation_0-error:0.039551\n",
            "[17]\tvalidation_0-auc:0.829773\tvalidation_0-error:0.039551\n",
            "[18]\tvalidation_0-auc:0.829834\tvalidation_0-error:0.039551\n",
            "[19]\tvalidation_0-auc:0.830052\tvalidation_0-error:0.039551\n",
            "[20]\tvalidation_0-auc:0.829588\tvalidation_0-error:0.039551\n",
            "[21]\tvalidation_0-auc:0.829721\tvalidation_0-error:0.039551\n",
            "[22]\tvalidation_0-auc:0.829287\tvalidation_0-error:0.039551\n",
            "[23]\tvalidation_0-auc:0.829026\tvalidation_0-error:0.039551\n",
            "[24]\tvalidation_0-auc:0.828949\tvalidation_0-error:0.039551\n",
            "[25]\tvalidation_0-auc:0.829307\tvalidation_0-error:0.039551\n",
            "[26]\tvalidation_0-auc:0.828474\tvalidation_0-error:0.039551\n",
            "[27]\tvalidation_0-auc:0.828469\tvalidation_0-error:0.039551\n",
            "[28]\tvalidation_0-auc:0.828281\tvalidation_0-error:0.039551\n",
            "[29]\tvalidation_0-auc:0.828349\tvalidation_0-error:0.039551\n",
            "[30]\tvalidation_0-auc:0.828561\tvalidation_0-error:0.039551\n",
            "[31]\tvalidation_0-auc:0.828757\tvalidation_0-error:0.039551\n",
            "[32]\tvalidation_0-auc:0.828558\tvalidation_0-error:0.039551\n",
            "[33]\tvalidation_0-auc:0.828624\tvalidation_0-error:0.039551\n",
            "[34]\tvalidation_0-auc:0.828618\tvalidation_0-error:0.039551\n",
            "[35]\tvalidation_0-auc:0.828673\tvalidation_0-error:0.039551\n",
            "[36]\tvalidation_0-auc:0.828574\tvalidation_0-error:0.039551\n",
            "[37]\tvalidation_0-auc:0.828775\tvalidation_0-error:0.039551\n",
            "[38]\tvalidation_0-auc:0.828871\tvalidation_0-error:0.039551\n",
            "[39]\tvalidation_0-auc:0.82877\tvalidation_0-error:0.039551\n",
            "[40]\tvalidation_0-auc:0.828576\tvalidation_0-error:0.039551\n",
            "[41]\tvalidation_0-auc:0.828887\tvalidation_0-error:0.039551\n",
            "[42]\tvalidation_0-auc:0.829324\tvalidation_0-error:0.039551\n",
            "[43]\tvalidation_0-auc:0.82932\tvalidation_0-error:0.039551\n",
            "[44]\tvalidation_0-auc:0.829566\tvalidation_0-error:0.039551\n",
            "[45]\tvalidation_0-auc:0.829514\tvalidation_0-error:0.039551\n",
            "[46]\tvalidation_0-auc:0.829922\tvalidation_0-error:0.039551\n",
            "[47]\tvalidation_0-auc:0.829994\tvalidation_0-error:0.039551\n",
            "[48]\tvalidation_0-auc:0.830051\tvalidation_0-error:0.039551\n",
            "[49]\tvalidation_0-auc:0.830093\tvalidation_0-error:0.039551\n",
            "[50]\tvalidation_0-auc:0.830391\tvalidation_0-error:0.039551\n",
            "[51]\tvalidation_0-auc:0.830142\tvalidation_0-error:0.039551\n",
            "[52]\tvalidation_0-auc:0.830268\tvalidation_0-error:0.039551\n",
            "[53]\tvalidation_0-auc:0.8306\tvalidation_0-error:0.039551\n",
            "[54]\tvalidation_0-auc:0.830987\tvalidation_0-error:0.039551\n",
            "[55]\tvalidation_0-auc:0.831124\tvalidation_0-error:0.039551\n",
            "[56]\tvalidation_0-auc:0.831373\tvalidation_0-error:0.039551\n",
            "[57]\tvalidation_0-auc:0.831428\tvalidation_0-error:0.039551\n",
            "[58]\tvalidation_0-auc:0.831473\tvalidation_0-error:0.039551\n",
            "[59]\tvalidation_0-auc:0.831626\tvalidation_0-error:0.039551\n",
            "[60]\tvalidation_0-auc:0.831633\tvalidation_0-error:0.039551\n",
            "[61]\tvalidation_0-auc:0.831672\tvalidation_0-error:0.039551\n",
            "[62]\tvalidation_0-auc:0.831694\tvalidation_0-error:0.039551\n",
            "[63]\tvalidation_0-auc:0.831644\tvalidation_0-error:0.039551\n",
            "[64]\tvalidation_0-auc:0.831896\tvalidation_0-error:0.039551\n",
            "[65]\tvalidation_0-auc:0.831964\tvalidation_0-error:0.039551\n",
            "[66]\tvalidation_0-auc:0.832111\tvalidation_0-error:0.039551\n",
            "[67]\tvalidation_0-auc:0.832143\tvalidation_0-error:0.039551\n",
            "[68]\tvalidation_0-auc:0.832164\tvalidation_0-error:0.039551\n",
            "[69]\tvalidation_0-auc:0.832058\tvalidation_0-error:0.039551\n",
            "[70]\tvalidation_0-auc:0.832023\tvalidation_0-error:0.039551\n",
            "[71]\tvalidation_0-auc:0.832029\tvalidation_0-error:0.039551\n",
            "[72]\tvalidation_0-auc:0.831846\tvalidation_0-error:0.039551\n",
            "[73]\tvalidation_0-auc:0.832003\tvalidation_0-error:0.039551\n",
            "[74]\tvalidation_0-auc:0.832159\tvalidation_0-error:0.039551\n",
            "[75]\tvalidation_0-auc:0.832254\tvalidation_0-error:0.039551\n",
            "[76]\tvalidation_0-auc:0.832189\tvalidation_0-error:0.039551\n",
            "[77]\tvalidation_0-auc:0.832359\tvalidation_0-error:0.039551\n",
            "[78]\tvalidation_0-auc:0.832518\tvalidation_0-error:0.039551\n",
            "[79]\tvalidation_0-auc:0.832643\tvalidation_0-error:0.039551\n",
            "[80]\tvalidation_0-auc:0.832708\tvalidation_0-error:0.039551\n",
            "[81]\tvalidation_0-auc:0.83301\tvalidation_0-error:0.039551\n",
            "[82]\tvalidation_0-auc:0.833378\tvalidation_0-error:0.039551\n",
            "[83]\tvalidation_0-auc:0.83355\tvalidation_0-error:0.039551\n",
            "[84]\tvalidation_0-auc:0.833471\tvalidation_0-error:0.039551\n",
            "[85]\tvalidation_0-auc:0.833621\tvalidation_0-error:0.039551\n",
            "[86]\tvalidation_0-auc:0.833865\tvalidation_0-error:0.039551\n",
            "[87]\tvalidation_0-auc:0.833979\tvalidation_0-error:0.039551\n",
            "[88]\tvalidation_0-auc:0.833996\tvalidation_0-error:0.039551\n",
            "[89]\tvalidation_0-auc:0.833927\tvalidation_0-error:0.039551\n",
            "[90]\tvalidation_0-auc:0.834325\tvalidation_0-error:0.039551\n",
            "[91]\tvalidation_0-auc:0.834575\tvalidation_0-error:0.039551\n",
            "[92]\tvalidation_0-auc:0.834658\tvalidation_0-error:0.039551\n",
            "[93]\tvalidation_0-auc:0.834953\tvalidation_0-error:0.039551\n",
            "[94]\tvalidation_0-auc:0.835099\tvalidation_0-error:0.039551\n",
            "[95]\tvalidation_0-auc:0.835277\tvalidation_0-error:0.039551\n",
            "[96]\tvalidation_0-auc:0.835371\tvalidation_0-error:0.039551\n",
            "[97]\tvalidation_0-auc:0.835471\tvalidation_0-error:0.039551\n",
            "[98]\tvalidation_0-auc:0.835445\tvalidation_0-error:0.039551\n",
            "[99]\tvalidation_0-auc:0.835406\tvalidation_0-error:0.039551\n",
            "[100]\tvalidation_0-auc:0.835562\tvalidation_0-error:0.039551\n",
            "[101]\tvalidation_0-auc:0.835595\tvalidation_0-error:0.039551\n",
            "[102]\tvalidation_0-auc:0.83578\tvalidation_0-error:0.039551\n",
            "[103]\tvalidation_0-auc:0.835718\tvalidation_0-error:0.039551\n",
            "[104]\tvalidation_0-auc:0.835532\tvalidation_0-error:0.039551\n",
            "[105]\tvalidation_0-auc:0.83575\tvalidation_0-error:0.039551\n",
            "[106]\tvalidation_0-auc:0.836051\tvalidation_0-error:0.039551\n",
            "[107]\tvalidation_0-auc:0.836454\tvalidation_0-error:0.039551\n",
            "[108]\tvalidation_0-auc:0.836311\tvalidation_0-error:0.039551\n",
            "[109]\tvalidation_0-auc:0.836363\tvalidation_0-error:0.039551\n",
            "[110]\tvalidation_0-auc:0.836335\tvalidation_0-error:0.039551\n",
            "[111]\tvalidation_0-auc:0.836415\tvalidation_0-error:0.039551\n",
            "[112]\tvalidation_0-auc:0.836691\tvalidation_0-error:0.039551\n",
            "[113]\tvalidation_0-auc:0.836563\tvalidation_0-error:0.039551\n",
            "[114]\tvalidation_0-auc:0.836619\tvalidation_0-error:0.039551\n",
            "[115]\tvalidation_0-auc:0.836548\tvalidation_0-error:0.039551\n",
            "[116]\tvalidation_0-auc:0.836948\tvalidation_0-error:0.039551\n",
            "[117]\tvalidation_0-auc:0.837021\tvalidation_0-error:0.039551\n",
            "[118]\tvalidation_0-auc:0.837089\tvalidation_0-error:0.039551\n",
            "[119]\tvalidation_0-auc:0.837271\tvalidation_0-error:0.039551\n",
            "[120]\tvalidation_0-auc:0.837214\tvalidation_0-error:0.039551\n",
            "[121]\tvalidation_0-auc:0.837225\tvalidation_0-error:0.039551\n",
            "[122]\tvalidation_0-auc:0.837467\tvalidation_0-error:0.039551\n",
            "[123]\tvalidation_0-auc:0.837498\tvalidation_0-error:0.039551\n",
            "[124]\tvalidation_0-auc:0.837632\tvalidation_0-error:0.039551\n",
            "[125]\tvalidation_0-auc:0.837748\tvalidation_0-error:0.039551\n",
            "[126]\tvalidation_0-auc:0.837878\tvalidation_0-error:0.039551\n",
            "[127]\tvalidation_0-auc:0.837856\tvalidation_0-error:0.039551\n",
            "[128]\tvalidation_0-auc:0.837822\tvalidation_0-error:0.039551\n",
            "[129]\tvalidation_0-auc:0.837946\tvalidation_0-error:0.039551\n",
            "[130]\tvalidation_0-auc:0.837916\tvalidation_0-error:0.039551\n",
            "[131]\tvalidation_0-auc:0.837931\tvalidation_0-error:0.039551\n",
            "[132]\tvalidation_0-auc:0.838104\tvalidation_0-error:0.039551\n",
            "[133]\tvalidation_0-auc:0.83808\tvalidation_0-error:0.039551\n",
            "[134]\tvalidation_0-auc:0.838138\tvalidation_0-error:0.039551\n",
            "[135]\tvalidation_0-auc:0.838302\tvalidation_0-error:0.039551\n",
            "[136]\tvalidation_0-auc:0.838202\tvalidation_0-error:0.039551\n",
            "[137]\tvalidation_0-auc:0.838315\tvalidation_0-error:0.039551\n",
            "[138]\tvalidation_0-auc:0.838286\tvalidation_0-error:0.039551\n",
            "[139]\tvalidation_0-auc:0.838445\tvalidation_0-error:0.039551\n",
            "[140]\tvalidation_0-auc:0.838793\tvalidation_0-error:0.039551\n",
            "[141]\tvalidation_0-auc:0.838783\tvalidation_0-error:0.039551\n",
            "[142]\tvalidation_0-auc:0.838936\tvalidation_0-error:0.039551\n",
            "[143]\tvalidation_0-auc:0.838912\tvalidation_0-error:0.039551\n",
            "[144]\tvalidation_0-auc:0.839014\tvalidation_0-error:0.039551\n",
            "[145]\tvalidation_0-auc:0.839129\tvalidation_0-error:0.039551\n",
            "[146]\tvalidation_0-auc:0.83903\tvalidation_0-error:0.039551\n",
            "[147]\tvalidation_0-auc:0.839326\tvalidation_0-error:0.039551\n",
            "[148]\tvalidation_0-auc:0.839265\tvalidation_0-error:0.039551\n",
            "[149]\tvalidation_0-auc:0.839451\tvalidation_0-error:0.039551\n",
            "[150]\tvalidation_0-auc:0.83943\tvalidation_0-error:0.039551\n",
            "[151]\tvalidation_0-auc:0.839662\tvalidation_0-error:0.039551\n",
            "[152]\tvalidation_0-auc:0.839938\tvalidation_0-error:0.039551\n",
            "[153]\tvalidation_0-auc:0.840046\tvalidation_0-error:0.039551\n",
            "[154]\tvalidation_0-auc:0.840258\tvalidation_0-error:0.039551\n",
            "[155]\tvalidation_0-auc:0.840293\tvalidation_0-error:0.039551\n",
            "[156]\tvalidation_0-auc:0.840274\tvalidation_0-error:0.039551\n",
            "[157]\tvalidation_0-auc:0.840348\tvalidation_0-error:0.039551\n",
            "[158]\tvalidation_0-auc:0.840326\tvalidation_0-error:0.039551\n",
            "[159]\tvalidation_0-auc:0.840651\tvalidation_0-error:0.039551\n",
            "[160]\tvalidation_0-auc:0.840708\tvalidation_0-error:0.039551\n",
            "[161]\tvalidation_0-auc:0.840801\tvalidation_0-error:0.039551\n",
            "[162]\tvalidation_0-auc:0.840981\tvalidation_0-error:0.039551\n",
            "[163]\tvalidation_0-auc:0.840903\tvalidation_0-error:0.039551\n",
            "[164]\tvalidation_0-auc:0.840939\tvalidation_0-error:0.039551\n",
            "[165]\tvalidation_0-auc:0.841045\tvalidation_0-error:0.039551\n",
            "[166]\tvalidation_0-auc:0.841318\tvalidation_0-error:0.039551\n",
            "[167]\tvalidation_0-auc:0.841605\tvalidation_0-error:0.039551\n",
            "[168]\tvalidation_0-auc:0.841755\tvalidation_0-error:0.039551\n",
            "[169]\tvalidation_0-auc:0.841882\tvalidation_0-error:0.039551\n",
            "[170]\tvalidation_0-auc:0.841886\tvalidation_0-error:0.039551\n",
            "[171]\tvalidation_0-auc:0.842177\tvalidation_0-error:0.039551\n",
            "[172]\tvalidation_0-auc:0.842205\tvalidation_0-error:0.039551\n",
            "[173]\tvalidation_0-auc:0.842191\tvalidation_0-error:0.039551\n",
            "[174]\tvalidation_0-auc:0.842305\tvalidation_0-error:0.039551\n",
            "[175]\tvalidation_0-auc:0.842295\tvalidation_0-error:0.039551\n",
            "[176]\tvalidation_0-auc:0.842366\tvalidation_0-error:0.039551\n",
            "[177]\tvalidation_0-auc:0.84226\tvalidation_0-error:0.039551\n",
            "[178]\tvalidation_0-auc:0.84233\tvalidation_0-error:0.039551\n",
            "[179]\tvalidation_0-auc:0.842266\tvalidation_0-error:0.039551\n",
            "[180]\tvalidation_0-auc:0.842451\tvalidation_0-error:0.039551\n",
            "[181]\tvalidation_0-auc:0.842491\tvalidation_0-error:0.039551\n",
            "[182]\tvalidation_0-auc:0.842626\tvalidation_0-error:0.039551\n",
            "[183]\tvalidation_0-auc:0.84267\tvalidation_0-error:0.039551\n",
            "[184]\tvalidation_0-auc:0.842751\tvalidation_0-error:0.039551\n",
            "[185]\tvalidation_0-auc:0.842959\tvalidation_0-error:0.039551\n",
            "[186]\tvalidation_0-auc:0.842907\tvalidation_0-error:0.039551\n",
            "[187]\tvalidation_0-auc:0.843081\tvalidation_0-error:0.039551\n",
            "[188]\tvalidation_0-auc:0.843122\tvalidation_0-error:0.039551\n",
            "[189]\tvalidation_0-auc:0.843123\tvalidation_0-error:0.039551\n",
            "[190]\tvalidation_0-auc:0.843177\tvalidation_0-error:0.039551\n",
            "[191]\tvalidation_0-auc:0.84315\tvalidation_0-error:0.039551\n",
            "[192]\tvalidation_0-auc:0.843071\tvalidation_0-error:0.039551\n",
            "[193]\tvalidation_0-auc:0.843075\tvalidation_0-error:0.039551\n",
            "[194]\tvalidation_0-auc:0.843082\tvalidation_0-error:0.039551\n",
            "[195]\tvalidation_0-auc:0.843225\tvalidation_0-error:0.039551\n",
            "[196]\tvalidation_0-auc:0.843392\tvalidation_0-error:0.039551\n",
            "[197]\tvalidation_0-auc:0.843443\tvalidation_0-error:0.039551\n",
            "[198]\tvalidation_0-auc:0.84346\tvalidation_0-error:0.039551\n",
            "[199]\tvalidation_0-auc:0.843535\tvalidation_0-error:0.039551\n",
            "[200]\tvalidation_0-auc:0.843715\tvalidation_0-error:0.039551\n",
            "[201]\tvalidation_0-auc:0.843721\tvalidation_0-error:0.039551\n",
            "[202]\tvalidation_0-auc:0.843872\tvalidation_0-error:0.039551\n",
            "[203]\tvalidation_0-auc:0.843976\tvalidation_0-error:0.039551\n",
            "[204]\tvalidation_0-auc:0.843959\tvalidation_0-error:0.039551\n",
            "[205]\tvalidation_0-auc:0.844004\tvalidation_0-error:0.039551\n",
            "[206]\tvalidation_0-auc:0.843981\tvalidation_0-error:0.039551\n",
            "[207]\tvalidation_0-auc:0.84396\tvalidation_0-error:0.039551\n",
            "[208]\tvalidation_0-auc:0.844028\tvalidation_0-error:0.039551\n",
            "[209]\tvalidation_0-auc:0.84412\tvalidation_0-error:0.039551\n",
            "[210]\tvalidation_0-auc:0.844057\tvalidation_0-error:0.039551\n",
            "[211]\tvalidation_0-auc:0.844204\tvalidation_0-error:0.039551\n",
            "[212]\tvalidation_0-auc:0.844286\tvalidation_0-error:0.039551\n",
            "[213]\tvalidation_0-auc:0.844338\tvalidation_0-error:0.039551\n",
            "[214]\tvalidation_0-auc:0.844354\tvalidation_0-error:0.039551\n",
            "[215]\tvalidation_0-auc:0.844422\tvalidation_0-error:0.039551\n",
            "[216]\tvalidation_0-auc:0.844436\tvalidation_0-error:0.039551\n",
            "[217]\tvalidation_0-auc:0.844445\tvalidation_0-error:0.039551\n",
            "[218]\tvalidation_0-auc:0.844507\tvalidation_0-error:0.039551\n",
            "[219]\tvalidation_0-auc:0.844601\tvalidation_0-error:0.039551\n",
            "[220]\tvalidation_0-auc:0.844697\tvalidation_0-error:0.039551\n",
            "[221]\tvalidation_0-auc:0.844765\tvalidation_0-error:0.039551\n",
            "[222]\tvalidation_0-auc:0.84475\tvalidation_0-error:0.039551\n",
            "[223]\tvalidation_0-auc:0.844767\tvalidation_0-error:0.039551\n",
            "[224]\tvalidation_0-auc:0.844917\tvalidation_0-error:0.039551\n",
            "[225]\tvalidation_0-auc:0.844994\tvalidation_0-error:0.039551\n",
            "[226]\tvalidation_0-auc:0.84499\tvalidation_0-error:0.039551\n",
            "[227]\tvalidation_0-auc:0.844923\tvalidation_0-error:0.039551\n",
            "[228]\tvalidation_0-auc:0.845004\tvalidation_0-error:0.039551\n",
            "[229]\tvalidation_0-auc:0.844995\tvalidation_0-error:0.039551\n",
            "[230]\tvalidation_0-auc:0.844943\tvalidation_0-error:0.039551\n",
            "[231]\tvalidation_0-auc:0.844956\tvalidation_0-error:0.039551\n",
            "[232]\tvalidation_0-auc:0.844898\tvalidation_0-error:0.039551\n",
            "[233]\tvalidation_0-auc:0.844895\tvalidation_0-error:0.039551\n",
            "[234]\tvalidation_0-auc:0.844968\tvalidation_0-error:0.039551\n",
            "[235]\tvalidation_0-auc:0.845004\tvalidation_0-error:0.039551\n",
            "[236]\tvalidation_0-auc:0.845034\tvalidation_0-error:0.039551\n",
            "[237]\tvalidation_0-auc:0.845088\tvalidation_0-error:0.039551\n",
            "[238]\tvalidation_0-auc:0.845214\tvalidation_0-error:0.039551\n",
            "[239]\tvalidation_0-auc:0.845219\tvalidation_0-error:0.039551\n",
            "[240]\tvalidation_0-auc:0.845279\tvalidation_0-error:0.039551\n",
            "[241]\tvalidation_0-auc:0.845341\tvalidation_0-error:0.039551\n",
            "[242]\tvalidation_0-auc:0.845373\tvalidation_0-error:0.039551\n",
            "[243]\tvalidation_0-auc:0.845357\tvalidation_0-error:0.039551\n",
            "[244]\tvalidation_0-auc:0.845392\tvalidation_0-error:0.039551\n",
            "[245]\tvalidation_0-auc:0.845402\tvalidation_0-error:0.039551\n",
            "[246]\tvalidation_0-auc:0.845399\tvalidation_0-error:0.039551\n",
            "[247]\tvalidation_0-auc:0.845453\tvalidation_0-error:0.039551\n",
            "[248]\tvalidation_0-auc:0.845507\tvalidation_0-error:0.039551\n",
            "[249]\tvalidation_0-auc:0.845543\tvalidation_0-error:0.039551\n",
            "[250]\tvalidation_0-auc:0.845478\tvalidation_0-error:0.039551\n",
            "[251]\tvalidation_0-auc:0.845502\tvalidation_0-error:0.039551\n",
            "[252]\tvalidation_0-auc:0.845386\tvalidation_0-error:0.039551\n",
            "[253]\tvalidation_0-auc:0.845396\tvalidation_0-error:0.039551\n",
            "[254]\tvalidation_0-auc:0.845393\tvalidation_0-error:0.039551\n",
            "[255]\tvalidation_0-auc:0.845401\tvalidation_0-error:0.039551\n",
            "[256]\tvalidation_0-auc:0.845407\tvalidation_0-error:0.039551\n",
            "[257]\tvalidation_0-auc:0.845518\tvalidation_0-error:0.039551\n",
            "[258]\tvalidation_0-auc:0.845428\tvalidation_0-error:0.039551\n",
            "[259]\tvalidation_0-auc:0.845459\tvalidation_0-error:0.039551\n",
            "[260]\tvalidation_0-auc:0.845444\tvalidation_0-error:0.039551\n",
            "[261]\tvalidation_0-auc:0.845569\tvalidation_0-error:0.039551\n",
            "[262]\tvalidation_0-auc:0.845565\tvalidation_0-error:0.039551\n",
            "[263]\tvalidation_0-auc:0.845639\tvalidation_0-error:0.039551\n",
            "[264]\tvalidation_0-auc:0.845744\tvalidation_0-error:0.039551\n",
            "[265]\tvalidation_0-auc:0.845789\tvalidation_0-error:0.039551\n",
            "[266]\tvalidation_0-auc:0.845868\tvalidation_0-error:0.039551\n",
            "[267]\tvalidation_0-auc:0.845966\tvalidation_0-error:0.039551\n",
            "[268]\tvalidation_0-auc:0.846066\tvalidation_0-error:0.039551\n",
            "[269]\tvalidation_0-auc:0.84613\tvalidation_0-error:0.039551\n",
            "[270]\tvalidation_0-auc:0.846183\tvalidation_0-error:0.039551\n",
            "[271]\tvalidation_0-auc:0.846185\tvalidation_0-error:0.039551\n",
            "[272]\tvalidation_0-auc:0.846252\tvalidation_0-error:0.039551\n",
            "[273]\tvalidation_0-auc:0.846284\tvalidation_0-error:0.039551\n",
            "[274]\tvalidation_0-auc:0.846285\tvalidation_0-error:0.039551\n",
            "[275]\tvalidation_0-auc:0.846301\tvalidation_0-error:0.039551\n",
            "[276]\tvalidation_0-auc:0.846313\tvalidation_0-error:0.039551\n",
            "[277]\tvalidation_0-auc:0.846416\tvalidation_0-error:0.039551\n",
            "[278]\tvalidation_0-auc:0.84664\tvalidation_0-error:0.039551\n",
            "[279]\tvalidation_0-auc:0.84652\tvalidation_0-error:0.039551\n",
            "[280]\tvalidation_0-auc:0.846638\tvalidation_0-error:0.039551\n",
            "[281]\tvalidation_0-auc:0.846629\tvalidation_0-error:0.039551\n",
            "[282]\tvalidation_0-auc:0.84656\tvalidation_0-error:0.039551\n",
            "[283]\tvalidation_0-auc:0.846574\tvalidation_0-error:0.039551\n",
            "[284]\tvalidation_0-auc:0.846685\tvalidation_0-error:0.039551\n",
            "[285]\tvalidation_0-auc:0.846873\tvalidation_0-error:0.039551\n",
            "[286]\tvalidation_0-auc:0.846887\tvalidation_0-error:0.039551\n",
            "[287]\tvalidation_0-auc:0.846903\tvalidation_0-error:0.039551\n",
            "[288]\tvalidation_0-auc:0.846912\tvalidation_0-error:0.039551\n",
            "[289]\tvalidation_0-auc:0.846886\tvalidation_0-error:0.039551\n",
            "[290]\tvalidation_0-auc:0.846872\tvalidation_0-error:0.039551\n",
            "[291]\tvalidation_0-auc:0.846866\tvalidation_0-error:0.039551\n",
            "[292]\tvalidation_0-auc:0.846903\tvalidation_0-error:0.039551\n",
            "[293]\tvalidation_0-auc:0.846934\tvalidation_0-error:0.039551\n",
            "[294]\tvalidation_0-auc:0.846916\tvalidation_0-error:0.039551\n",
            "[295]\tvalidation_0-auc:0.846878\tvalidation_0-error:0.039551\n",
            "[296]\tvalidation_0-auc:0.84692\tvalidation_0-error:0.039551\n",
            "[297]\tvalidation_0-auc:0.846826\tvalidation_0-error:0.039551\n",
            "[298]\tvalidation_0-auc:0.846816\tvalidation_0-error:0.039639\n",
            "[299]\tvalidation_0-auc:0.846892\tvalidation_0-error:0.039639\n",
            "[300]\tvalidation_0-auc:0.84696\tvalidation_0-error:0.039639\n",
            "[301]\tvalidation_0-auc:0.846958\tvalidation_0-error:0.039639\n",
            "[302]\tvalidation_0-auc:0.846928\tvalidation_0-error:0.039639\n",
            "[303]\tvalidation_0-auc:0.846851\tvalidation_0-error:0.039639\n",
            "[304]\tvalidation_0-auc:0.846949\tvalidation_0-error:0.039639\n",
            "[305]\tvalidation_0-auc:0.846944\tvalidation_0-error:0.039639\n",
            "[306]\tvalidation_0-auc:0.847107\tvalidation_0-error:0.039639\n",
            "[307]\tvalidation_0-auc:0.847076\tvalidation_0-error:0.039639\n",
            "[308]\tvalidation_0-auc:0.847124\tvalidation_0-error:0.039639\n",
            "[309]\tvalidation_0-auc:0.847195\tvalidation_0-error:0.039639\n",
            "[310]\tvalidation_0-auc:0.847162\tvalidation_0-error:0.039639\n",
            "[311]\tvalidation_0-auc:0.847171\tvalidation_0-error:0.039639\n",
            "[312]\tvalidation_0-auc:0.847201\tvalidation_0-error:0.039639\n",
            "[313]\tvalidation_0-auc:0.847209\tvalidation_0-error:0.039639\n",
            "[314]\tvalidation_0-auc:0.847207\tvalidation_0-error:0.039639\n",
            "[315]\tvalidation_0-auc:0.847187\tvalidation_0-error:0.039639\n",
            "[316]\tvalidation_0-auc:0.847185\tvalidation_0-error:0.039639\n",
            "[317]\tvalidation_0-auc:0.84724\tvalidation_0-error:0.039639\n",
            "[318]\tvalidation_0-auc:0.84727\tvalidation_0-error:0.039639\n",
            "[319]\tvalidation_0-auc:0.8473\tvalidation_0-error:0.039639\n",
            "[320]\tvalidation_0-auc:0.847258\tvalidation_0-error:0.039639\n",
            "[321]\tvalidation_0-auc:0.847257\tvalidation_0-error:0.039639\n",
            "[322]\tvalidation_0-auc:0.847249\tvalidation_0-error:0.039639\n",
            "[323]\tvalidation_0-auc:0.847176\tvalidation_0-error:0.039639\n",
            "[324]\tvalidation_0-auc:0.847226\tvalidation_0-error:0.039639\n",
            "[325]\tvalidation_0-auc:0.847242\tvalidation_0-error:0.039639\n",
            "[326]\tvalidation_0-auc:0.8472\tvalidation_0-error:0.039639\n",
            "[327]\tvalidation_0-auc:0.847204\tvalidation_0-error:0.039639\n",
            "[328]\tvalidation_0-auc:0.847275\tvalidation_0-error:0.039639\n",
            "[329]\tvalidation_0-auc:0.847267\tvalidation_0-error:0.039639\n",
            "[330]\tvalidation_0-auc:0.847201\tvalidation_0-error:0.039639\n",
            "[331]\tvalidation_0-auc:0.847184\tvalidation_0-error:0.039639\n",
            "[332]\tvalidation_0-auc:0.847233\tvalidation_0-error:0.039639\n",
            "[333]\tvalidation_0-auc:0.847255\tvalidation_0-error:0.039639\n",
            "[334]\tvalidation_0-auc:0.847343\tvalidation_0-error:0.039639\n",
            "[335]\tvalidation_0-auc:0.847334\tvalidation_0-error:0.039639\n",
            "[336]\tvalidation_0-auc:0.847344\tvalidation_0-error:0.039639\n",
            "[337]\tvalidation_0-auc:0.847393\tvalidation_0-error:0.039639\n",
            "[338]\tvalidation_0-auc:0.847389\tvalidation_0-error:0.039639\n",
            "[339]\tvalidation_0-auc:0.847435\tvalidation_0-error:0.039639\n",
            "[340]\tvalidation_0-auc:0.847437\tvalidation_0-error:0.039639\n",
            "[341]\tvalidation_0-auc:0.847439\tvalidation_0-error:0.039639\n",
            "[342]\tvalidation_0-auc:0.847447\tvalidation_0-error:0.039639\n",
            "[343]\tvalidation_0-auc:0.847418\tvalidation_0-error:0.039639\n",
            "[344]\tvalidation_0-auc:0.847571\tvalidation_0-error:0.039639\n",
            "[345]\tvalidation_0-auc:0.847547\tvalidation_0-error:0.039639\n",
            "[346]\tvalidation_0-auc:0.847498\tvalidation_0-error:0.039639\n",
            "[347]\tvalidation_0-auc:0.847462\tvalidation_0-error:0.039639\n",
            "[348]\tvalidation_0-auc:0.847438\tvalidation_0-error:0.039639\n",
            "[349]\tvalidation_0-auc:0.847466\tvalidation_0-error:0.039639\n",
            "[350]\tvalidation_0-auc:0.847509\tvalidation_0-error:0.039639\n",
            "[351]\tvalidation_0-auc:0.847608\tvalidation_0-error:0.039639\n",
            "[352]\tvalidation_0-auc:0.84759\tvalidation_0-error:0.039639\n",
            "[353]\tvalidation_0-auc:0.847649\tvalidation_0-error:0.039639\n",
            "[354]\tvalidation_0-auc:0.847606\tvalidation_0-error:0.039639\n",
            "[355]\tvalidation_0-auc:0.847638\tvalidation_0-error:0.039639\n",
            "[356]\tvalidation_0-auc:0.847622\tvalidation_0-error:0.039639\n",
            "[357]\tvalidation_0-auc:0.847597\tvalidation_0-error:0.039639\n",
            "[358]\tvalidation_0-auc:0.847665\tvalidation_0-error:0.039639\n",
            "[359]\tvalidation_0-auc:0.847685\tvalidation_0-error:0.039639\n",
            "[360]\tvalidation_0-auc:0.847663\tvalidation_0-error:0.039639\n",
            "[361]\tvalidation_0-auc:0.847726\tvalidation_0-error:0.039639\n",
            "[362]\tvalidation_0-auc:0.847712\tvalidation_0-error:0.039639\n",
            "[363]\tvalidation_0-auc:0.84778\tvalidation_0-error:0.039639\n",
            "[364]\tvalidation_0-auc:0.847778\tvalidation_0-error:0.039639\n",
            "[365]\tvalidation_0-auc:0.84779\tvalidation_0-error:0.039639\n",
            "[366]\tvalidation_0-auc:0.84784\tvalidation_0-error:0.039639\n",
            "[367]\tvalidation_0-auc:0.84783\tvalidation_0-error:0.039639\n",
            "[368]\tvalidation_0-auc:0.847853\tvalidation_0-error:0.039639\n",
            "[369]\tvalidation_0-auc:0.84795\tvalidation_0-error:0.039639\n",
            "[370]\tvalidation_0-auc:0.847921\tvalidation_0-error:0.039639\n",
            "[371]\tvalidation_0-auc:0.847842\tvalidation_0-error:0.039639\n",
            "[372]\tvalidation_0-auc:0.847831\tvalidation_0-error:0.039639\n",
            "[373]\tvalidation_0-auc:0.847922\tvalidation_0-error:0.039639\n",
            "[374]\tvalidation_0-auc:0.847867\tvalidation_0-error:0.039639\n",
            "[375]\tvalidation_0-auc:0.847974\tvalidation_0-error:0.039639\n",
            "[376]\tvalidation_0-auc:0.848052\tvalidation_0-error:0.039639\n",
            "[377]\tvalidation_0-auc:0.848036\tvalidation_0-error:0.039639\n",
            "[378]\tvalidation_0-auc:0.848025\tvalidation_0-error:0.039639\n",
            "[379]\tvalidation_0-auc:0.848072\tvalidation_0-error:0.039639\n",
            "[380]\tvalidation_0-auc:0.848108\tvalidation_0-error:0.039639\n",
            "[381]\tvalidation_0-auc:0.848108\tvalidation_0-error:0.039639\n",
            "[382]\tvalidation_0-auc:0.848099\tvalidation_0-error:0.039639\n",
            "[383]\tvalidation_0-auc:0.848089\tvalidation_0-error:0.039639\n",
            "[384]\tvalidation_0-auc:0.848108\tvalidation_0-error:0.039639\n",
            "[385]\tvalidation_0-auc:0.848191\tvalidation_0-error:0.039639\n",
            "[386]\tvalidation_0-auc:0.848166\tvalidation_0-error:0.039639\n",
            "[387]\tvalidation_0-auc:0.848229\tvalidation_0-error:0.039639\n",
            "[388]\tvalidation_0-auc:0.848246\tvalidation_0-error:0.039639\n",
            "[389]\tvalidation_0-auc:0.848144\tvalidation_0-error:0.039639\n",
            "[390]\tvalidation_0-auc:0.848174\tvalidation_0-error:0.039639\n",
            "[391]\tvalidation_0-auc:0.848135\tvalidation_0-error:0.039639\n",
            "[392]\tvalidation_0-auc:0.848119\tvalidation_0-error:0.039639\n",
            "[393]\tvalidation_0-auc:0.848119\tvalidation_0-error:0.039639\n",
            "[394]\tvalidation_0-auc:0.848165\tvalidation_0-error:0.039639\n",
            "[395]\tvalidation_0-auc:0.8482\tvalidation_0-error:0.039639\n",
            "[396]\tvalidation_0-auc:0.848221\tvalidation_0-error:0.039639\n",
            "[397]\tvalidation_0-auc:0.848317\tvalidation_0-error:0.039639\n",
            "[398]\tvalidation_0-auc:0.84834\tvalidation_0-error:0.039639\n",
            "[399]\tvalidation_0-auc:0.848328\tvalidation_0-error:0.039639\n",
            "[400]\tvalidation_0-auc:0.848265\tvalidation_0-error:0.039639\n",
            "[401]\tvalidation_0-auc:0.848365\tvalidation_0-error:0.039639\n",
            "[402]\tvalidation_0-auc:0.848385\tvalidation_0-error:0.039639\n",
            "[403]\tvalidation_0-auc:0.848369\tvalidation_0-error:0.039639\n",
            "[404]\tvalidation_0-auc:0.848412\tvalidation_0-error:0.039639\n",
            "[405]\tvalidation_0-auc:0.848428\tvalidation_0-error:0.039639\n",
            "[406]\tvalidation_0-auc:0.848487\tvalidation_0-error:0.039639\n",
            "[407]\tvalidation_0-auc:0.848525\tvalidation_0-error:0.039639\n",
            "[408]\tvalidation_0-auc:0.848545\tvalidation_0-error:0.039639\n",
            "[409]\tvalidation_0-auc:0.848465\tvalidation_0-error:0.039639\n",
            "[410]\tvalidation_0-auc:0.84846\tvalidation_0-error:0.039639\n",
            "[411]\tvalidation_0-auc:0.848419\tvalidation_0-error:0.039639\n",
            "[412]\tvalidation_0-auc:0.848368\tvalidation_0-error:0.039639\n",
            "[413]\tvalidation_0-auc:0.848378\tvalidation_0-error:0.039639\n",
            "[414]\tvalidation_0-auc:0.84836\tvalidation_0-error:0.039639\n",
            "[415]\tvalidation_0-auc:0.848375\tvalidation_0-error:0.039639\n",
            "[416]\tvalidation_0-auc:0.848407\tvalidation_0-error:0.039639\n",
            "[417]\tvalidation_0-auc:0.848488\tvalidation_0-error:0.039639\n",
            "[418]\tvalidation_0-auc:0.848454\tvalidation_0-error:0.039639\n",
            "[419]\tvalidation_0-auc:0.848413\tvalidation_0-error:0.039639\n",
            "[420]\tvalidation_0-auc:0.848384\tvalidation_0-error:0.039639\n",
            "[421]\tvalidation_0-auc:0.848495\tvalidation_0-error:0.039639\n",
            "[422]\tvalidation_0-auc:0.848471\tvalidation_0-error:0.039639\n",
            "[423]\tvalidation_0-auc:0.848515\tvalidation_0-error:0.039639\n",
            "[424]\tvalidation_0-auc:0.848422\tvalidation_0-error:0.039639\n",
            "[425]\tvalidation_0-auc:0.848401\tvalidation_0-error:0.039639\n",
            "[426]\tvalidation_0-auc:0.848445\tvalidation_0-error:0.039639\n",
            "[427]\tvalidation_0-auc:0.848416\tvalidation_0-error:0.039639\n",
            "[428]\tvalidation_0-auc:0.848407\tvalidation_0-error:0.039639\n",
            "[429]\tvalidation_0-auc:0.84842\tvalidation_0-error:0.039639\n",
            "[430]\tvalidation_0-auc:0.848342\tvalidation_0-error:0.039639\n",
            "[431]\tvalidation_0-auc:0.848363\tvalidation_0-error:0.039639\n",
            "[432]\tvalidation_0-auc:0.848411\tvalidation_0-error:0.039639\n",
            "[433]\tvalidation_0-auc:0.848418\tvalidation_0-error:0.039639\n",
            "[434]\tvalidation_0-auc:0.848386\tvalidation_0-error:0.039639\n",
            "[435]\tvalidation_0-auc:0.848383\tvalidation_0-error:0.039639\n",
            "[436]\tvalidation_0-auc:0.848365\tvalidation_0-error:0.039639\n",
            "[437]\tvalidation_0-auc:0.848398\tvalidation_0-error:0.039639\n",
            "[438]\tvalidation_0-auc:0.848431\tvalidation_0-error:0.039639\n",
            "[439]\tvalidation_0-auc:0.848464\tvalidation_0-error:0.039639\n",
            "[440]\tvalidation_0-auc:0.848392\tvalidation_0-error:0.039639\n",
            "[441]\tvalidation_0-auc:0.848368\tvalidation_0-error:0.039639\n",
            "[442]\tvalidation_0-auc:0.848368\tvalidation_0-error:0.039639\n",
            "[443]\tvalidation_0-auc:0.848336\tvalidation_0-error:0.039639\n",
            "[444]\tvalidation_0-auc:0.848325\tvalidation_0-error:0.039639\n",
            "[445]\tvalidation_0-auc:0.848294\tvalidation_0-error:0.039639\n",
            "[446]\tvalidation_0-auc:0.848316\tvalidation_0-error:0.039639\n",
            "[447]\tvalidation_0-auc:0.84836\tvalidation_0-error:0.039639\n",
            "[448]\tvalidation_0-auc:0.848397\tvalidation_0-error:0.039639\n",
            "[449]\tvalidation_0-auc:0.848431\tvalidation_0-error:0.039639\n",
            "[450]\tvalidation_0-auc:0.848403\tvalidation_0-error:0.039639\n",
            "[451]\tvalidation_0-auc:0.8484\tvalidation_0-error:0.039639\n",
            "[452]\tvalidation_0-auc:0.848334\tvalidation_0-error:0.039639\n",
            "[453]\tvalidation_0-auc:0.848295\tvalidation_0-error:0.039639\n",
            "[454]\tvalidation_0-auc:0.848346\tvalidation_0-error:0.039639\n",
            "[455]\tvalidation_0-auc:0.848429\tvalidation_0-error:0.039639\n",
            "[456]\tvalidation_0-auc:0.848445\tvalidation_0-error:0.039639\n",
            "[457]\tvalidation_0-auc:0.848403\tvalidation_0-error:0.039639\n",
            "[458]\tvalidation_0-auc:0.848394\tvalidation_0-error:0.039639\n",
            "[459]\tvalidation_0-auc:0.848401\tvalidation_0-error:0.039639\n",
            "[460]\tvalidation_0-auc:0.848357\tvalidation_0-error:0.039639\n",
            "[461]\tvalidation_0-auc:0.848321\tvalidation_0-error:0.039639\n",
            "[462]\tvalidation_0-auc:0.848276\tvalidation_0-error:0.039639\n",
            "[463]\tvalidation_0-auc:0.848261\tvalidation_0-error:0.039639\n",
            "[464]\tvalidation_0-auc:0.848275\tvalidation_0-error:0.039639\n",
            "[465]\tvalidation_0-auc:0.848329\tvalidation_0-error:0.039639\n",
            "[466]\tvalidation_0-auc:0.848352\tvalidation_0-error:0.039639\n",
            "[467]\tvalidation_0-auc:0.84835\tvalidation_0-error:0.039639\n",
            "[468]\tvalidation_0-auc:0.848308\tvalidation_0-error:0.039639\n",
            "[469]\tvalidation_0-auc:0.848332\tvalidation_0-error:0.039639\n",
            "[470]\tvalidation_0-auc:0.848336\tvalidation_0-error:0.039639\n",
            "[471]\tvalidation_0-auc:0.848318\tvalidation_0-error:0.039639\n",
            "[472]\tvalidation_0-auc:0.848269\tvalidation_0-error:0.039639\n",
            "[473]\tvalidation_0-auc:0.848295\tvalidation_0-error:0.039639\n",
            "[474]\tvalidation_0-auc:0.848279\tvalidation_0-error:0.039639\n",
            "[475]\tvalidation_0-auc:0.848244\tvalidation_0-error:0.039639\n",
            "[476]\tvalidation_0-auc:0.848247\tvalidation_0-error:0.039639\n",
            "[477]\tvalidation_0-auc:0.84823\tvalidation_0-error:0.039639\n",
            "[478]\tvalidation_0-auc:0.848249\tvalidation_0-error:0.039639\n",
            "[479]\tvalidation_0-auc:0.848267\tvalidation_0-error:0.039639\n",
            "[480]\tvalidation_0-auc:0.848235\tvalidation_0-error:0.039639\n",
            "[481]\tvalidation_0-auc:0.848247\tvalidation_0-error:0.039639\n",
            "[482]\tvalidation_0-auc:0.848293\tvalidation_0-error:0.039639\n",
            "[483]\tvalidation_0-auc:0.848303\tvalidation_0-error:0.039639\n",
            "[484]\tvalidation_0-auc:0.848297\tvalidation_0-error:0.039639\n",
            "[485]\tvalidation_0-auc:0.848265\tvalidation_0-error:0.039639\n",
            "[486]\tvalidation_0-auc:0.848243\tvalidation_0-error:0.039639\n",
            "[487]\tvalidation_0-auc:0.84817\tvalidation_0-error:0.039639\n",
            "[488]\tvalidation_0-auc:0.848294\tvalidation_0-error:0.039639\n",
            "[489]\tvalidation_0-auc:0.848322\tvalidation_0-error:0.039639\n",
            "[490]\tvalidation_0-auc:0.848338\tvalidation_0-error:0.039639\n",
            "[491]\tvalidation_0-auc:0.848327\tvalidation_0-error:0.039639\n",
            "[492]\tvalidation_0-auc:0.848277\tvalidation_0-error:0.039639\n",
            "[493]\tvalidation_0-auc:0.848298\tvalidation_0-error:0.039639\n",
            "[494]\tvalidation_0-auc:0.848293\tvalidation_0-error:0.039639\n",
            "[495]\tvalidation_0-auc:0.848249\tvalidation_0-error:0.039639\n",
            "[496]\tvalidation_0-auc:0.848222\tvalidation_0-error:0.039639\n",
            "[497]\tvalidation_0-auc:0.848205\tvalidation_0-error:0.039639\n",
            "[498]\tvalidation_0-auc:0.848205\tvalidation_0-error:0.039639\n",
            "[499]\tvalidation_0-auc:0.84814\tvalidation_0-error:0.039639\n",
            "CPU times: user 10min 46s, sys: 2.3 s, total: 10min 49s\n",
            "Wall time: 5min 33s\n"
          ],
          "name": "stdout"
        },
        {
          "output_type": "execute_result",
          "data": {
            "text/plain": [
              "XGBClassifier(base_score=0.5, booster='gbtree', colsample_bylevel=1,\n",
              "              colsample_bynode=1, colsample_bytree=0.7, gamma=0,\n",
              "              learning_rate=0.02, max_delta_step=0, max_depth=5,\n",
              "              min_child_weight=1, missing=None, n_estimators=500, n_jobs=-1,\n",
              "              nthread=-1, objective='binary:logistic', random_state=42,\n",
              "              reg_alpha=0.0, reg_lambda=1, scale_pos_weight=1, seed=None,\n",
              "              silent=None, subsample=0.8, verbosity=1)"
            ]
          },
          "metadata": {
            "tags": []
          },
          "execution_count": 28
        }
      ]
    },
    {
      "cell_type": "code",
      "metadata": {
        "colab_type": "code",
        "id": "q3LRv6T8RRaN",
        "colab": {
          "base_uri": "https://localhost:8080/",
          "height": 352
        },
        "outputId": "93985592-854e-40a3-ef47-80d7e8fbc5af"
      },
      "source": [
        "y_pred = model.predict_proba(X_val)[:,1]\n",
        "label=\"XGBoost Classifer\"\n",
        "labels.append(label)\n",
        "y_preds.append(y_pred)\n",
        "i+=1\n",
        "result = plot_auc(y_val,y_pred,label)\n",
        "result_df = result_df.append(result)\n",
        "del result"
      ],
      "execution_count": null,
      "outputs": [
        {
          "output_type": "stream",
          "text": [
            "\t\t XGBoost Classifer on Log Transformed OHE dataset \t\t \n",
            "\n"
          ],
          "name": "stdout"
        },
        {
          "output_type": "display_data",
          "data": {
            "image/png": "[encoded data removed]",
            "text/plain": [
              "<Figure size 432x288 with 1 Axes>"
            ]
          },
          "metadata": {
            "tags": [],
            "needs_background": "light"
          }
        },
        {
          "output_type": "stream",
          "text": [
            "The log loss and auc was found to be 0.133 and 0.848 for XGBoost Classifer on Log Transformed OHE dataset.\n"
          ],
          "name": "stdout"
        }
      ]
    },
    {
      "cell_type": "code",
      "metadata": {
        "colab_type": "code",
        "id": "qUwaU5nuRRaR",
        "colab": {
          "base_uri": "https://localhost:8080/",
          "height": 173
        },
        "outputId": "e12d870d-cc74-49d7-ad9d-616b6cae6d66"
      },
      "source": [
        "result_df"
      ],
      "execution_count": null,
      "outputs": [
        {
          "output_type": "execute_result",
          "data": {
            "text/html": [
              "<div>\n",
              "<style scoped>\n",
              "    .dataframe tbody tr th:only-of-type {\n",
              "        vertical-align: middle;\n",
              "    }\n",
              "\n",
              "    .dataframe tbody tr th {\n",
              "        vertical-align: top;\n",
              "    }\n",
              "\n",
              "    .dataframe thead th {\n",
              "        text-align: right;\n",
              "    }\n",
              "</style>\n",
              "<table border=\"1\" class=\"dataframe\">\n",
              "  <thead>\n",
              "    <tr style=\"text-align: right;\">\n",
              "      <th></th>\n",
              "      <th>Model</th>\n",
              "      <th>Dataset</th>\n",
              "      <th>log_loss</th>\n",
              "      <th>auc</th>\n",
              "    </tr>\n",
              "  </thead>\n",
              "  <tbody>\n",
              "    <tr>\n",
              "      <th>0</th>\n",
              "      <td>Logisic Regression</td>\n",
              "      <td>Log Transformed OHE</td>\n",
              "      <td>0.518796</td>\n",
              "      <td>0.824365</td>\n",
              "    </tr>\n",
              "    <tr>\n",
              "      <th>1</th>\n",
              "      <td>Decision Tree Classifier</td>\n",
              "      <td>Log Transformed OHE</td>\n",
              "      <td>0.140781</td>\n",
              "      <td>0.807561</td>\n",
              "    </tr>\n",
              "    <tr>\n",
              "      <th>2</th>\n",
              "      <td>Random Forest Classifier</td>\n",
              "      <td>Log Transformed OHE</td>\n",
              "      <td>0.137307</td>\n",
              "      <td>0.833055</td>\n",
              "    </tr>\n",
              "    <tr>\n",
              "      <th>3</th>\n",
              "      <td>XGBoost Classifer</td>\n",
              "      <td>Log Transformed OHE</td>\n",
              "      <td>0.132556</td>\n",
              "      <td>0.848140</td>\n",
              "    </tr>\n",
              "  </tbody>\n",
              "</table>\n",
              "</div>"
            ],
            "text/plain": [
              "                      Model              Dataset  log_loss       auc\n",
              "0        Logisic Regression  Log Transformed OHE  0.518796  0.824365\n",
              "1  Decision Tree Classifier  Log Transformed OHE  0.140781  0.807561\n",
              "2  Random Forest Classifier  Log Transformed OHE  0.137307  0.833055\n",
              "3         XGBoost Classifer  Log Transformed OHE  0.132556  0.848140"
            ]
          },
          "metadata": {
            "tags": []
          },
          "execution_count": 30
        }
      ]
    },
    {
      "cell_type": "markdown",
      "metadata": {
        "colab_type": "text",
        "id": "LeV2q75ULzvm"
      },
      "source": [
        "# LightGBM Classifier"
      ]
    },
    {
      "cell_type": "code",
      "metadata": {
        "colab_type": "code",
        "id": "32dzyVRQLzvn",
        "colab": {}
      },
      "source": [
        "model = lgb.LGBMClassifier(n_jobs=-1,\n",
        "                      nthread=-1,\n",
        "                      scale_pos_weight=1,\n",
        "                      learning_rate=0.02,  \n",
        "                      colsample_bytree = 0.5,\n",
        "                      subsample = 0.8,\n",
        "                      objective='binary', \n",
        "                      n_estimators=375,\n",
        "                      reg_alpha = 0.4,\n",
        "                      max_depth=7, random_state=42\n",
        "                     )\n"
      ],
      "execution_count": null,
      "outputs": []
    },
    {
      "cell_type": "code",
      "metadata": {
        "colab_type": "code",
        "id": "yJS6sV0qLzvr",
        "colab": {
          "base_uri": "https://localhost:8080/"
        },
        "outputId": "474ecbf0-3ec9-40a8-af88-718ef58ef2c8"
      },
      "source": [
        "#https://towardsdatascience.com/fine-tuning-xgboost-in-python-like-a-boss-b4543ed8b1e\n",
        "\"\"\"\n",
        "manually changed each parameters 1 by 1 and compared the validation auc\n",
        "and selected the best parameter value\n",
        "\"\"\"\n",
        "eval_metric = ['auc','error']\n",
        "%time model.fit(X_train,y_train,eval_set=[(X_val,y_val)],eval_metric=eval_metric,verbose=True)"
      ],
      "execution_count": null,
      "outputs": [
        {
          "output_type": "stream",
          "text": [
            "[1]\tvalid_0's binary_logloss: 0.165085\tvalid_0's auc: 0.810082\n",
            "[2]\tvalid_0's binary_logloss: 0.163658\tvalid_0's auc: 0.823313\n",
            "[3]\tvalid_0's binary_logloss: 0.162379\tvalid_0's auc: 0.829139\n",
            "[4]\tvalid_0's binary_logloss: 0.161199\tvalid_0's auc: 0.831986\n",
            "[5]\tvalid_0's binary_logloss: 0.160181\tvalid_0's auc: 0.831197\n",
            "[6]\tvalid_0's binary_logloss: 0.1592\tvalid_0's auc: 0.831021\n",
            "[7]\tvalid_0's binary_logloss: 0.158278\tvalid_0's auc: 0.830839\n",
            "[8]\tvalid_0's binary_logloss: 0.157376\tvalid_0's auc: 0.832998\n",
            "[9]\tvalid_0's binary_logloss: 0.156542\tvalid_0's auc: 0.832405\n",
            "[10]\tvalid_0's binary_logloss: 0.155621\tvalid_0's auc: 0.83574\n",
            "[11]\tvalid_0's binary_logloss: 0.154904\tvalid_0's auc: 0.835664\n",
            "[12]\tvalid_0's binary_logloss: 0.154269\tvalid_0's auc: 0.834922\n",
            "[13]\tvalid_0's binary_logloss: 0.153575\tvalid_0's auc: 0.835171\n",
            "[14]\tvalid_0's binary_logloss: 0.152954\tvalid_0's auc: 0.835756\n",
            "[15]\tvalid_0's binary_logloss: 0.152418\tvalid_0's auc: 0.835846\n",
            "[16]\tvalid_0's binary_logloss: 0.151853\tvalid_0's auc: 0.836478\n",
            "[17]\tvalid_0's binary_logloss: 0.151357\tvalid_0's auc: 0.836065\n",
            "[18]\tvalid_0's binary_logloss: 0.150736\tvalid_0's auc: 0.836805\n",
            "[19]\tvalid_0's binary_logloss: 0.150281\tvalid_0's auc: 0.836463\n",
            "[20]\tvalid_0's binary_logloss: 0.14976\tvalid_0's auc: 0.836405\n",
            "[21]\tvalid_0's binary_logloss: 0.149258\tvalid_0's auc: 0.836904\n",
            "[22]\tvalid_0's binary_logloss: 0.14883\tvalid_0's auc: 0.836535\n",
            "[23]\tvalid_0's binary_logloss: 0.148431\tvalid_0's auc: 0.83625\n",
            "[24]\tvalid_0's binary_logloss: 0.148051\tvalid_0's auc: 0.835749\n",
            "[25]\tvalid_0's binary_logloss: 0.147612\tvalid_0's auc: 0.835979\n",
            "[26]\tvalid_0's binary_logloss: 0.147254\tvalid_0's auc: 0.835906\n",
            "[27]\tvalid_0's binary_logloss: 0.146912\tvalid_0's auc: 0.835601\n",
            "[28]\tvalid_0's binary_logloss: 0.146488\tvalid_0's auc: 0.835947\n",
            "[29]\tvalid_0's binary_logloss: 0.146131\tvalid_0's auc: 0.836189\n",
            "[30]\tvalid_0's binary_logloss: 0.14575\tvalid_0's auc: 0.836384\n",
            "[31]\tvalid_0's binary_logloss: 0.145374\tvalid_0's auc: 0.836978\n",
            "[32]\tvalid_0's binary_logloss: 0.145066\tvalid_0's auc: 0.837283\n",
            "[33]\tvalid_0's binary_logloss: 0.144743\tvalid_0's auc: 0.837423\n",
            "[34]\tvalid_0's binary_logloss: 0.144478\tvalid_0's auc: 0.837404\n",
            "[35]\tvalid_0's binary_logloss: 0.144234\tvalid_0's auc: 0.837365\n",
            "[36]\tvalid_0's binary_logloss: 0.144009\tvalid_0's auc: 0.837395\n",
            "[37]\tvalid_0's binary_logloss: 0.143762\tvalid_0's auc: 0.837583\n",
            "[38]\tvalid_0's binary_logloss: 0.143461\tvalid_0's auc: 0.837614\n",
            "[39]\tvalid_0's binary_logloss: 0.143164\tvalid_0's auc: 0.837922\n",
            "[40]\tvalid_0's binary_logloss: 0.142972\tvalid_0's auc: 0.83779\n",
            "[41]\tvalid_0's binary_logloss: 0.1427\tvalid_0's auc: 0.838039\n",
            "[42]\tvalid_0's binary_logloss: 0.14246\tvalid_0's auc: 0.838373\n",
            "[43]\tvalid_0's binary_logloss: 0.142257\tvalid_0's auc: 0.838541\n",
            "[44]\tvalid_0's binary_logloss: 0.141992\tvalid_0's auc: 0.838737\n",
            "[45]\tvalid_0's binary_logloss: 0.141755\tvalid_0's auc: 0.839253\n",
            "[46]\tvalid_0's binary_logloss: 0.141535\tvalid_0's auc: 0.839461\n",
            "[47]\tvalid_0's binary_logloss: 0.141307\tvalid_0's auc: 0.839746\n",
            "[48]\tvalid_0's binary_logloss: 0.141147\tvalid_0's auc: 0.839793\n",
            "[49]\tvalid_0's binary_logloss: 0.14098\tvalid_0's auc: 0.839489\n",
            "[50]\tvalid_0's binary_logloss: 0.14082\tvalid_0's auc: 0.839414\n",
            "[51]\tvalid_0's binary_logloss: 0.140623\tvalid_0's auc: 0.839593\n",
            "[52]\tvalid_0's binary_logloss: 0.140452\tvalid_0's auc: 0.839701\n",
            "[53]\tvalid_0's binary_logloss: 0.140336\tvalid_0's auc: 0.839799\n",
            "[54]\tvalid_0's binary_logloss: 0.140147\tvalid_0's auc: 0.839899\n",
            "[55]\tvalid_0's binary_logloss: 0.140018\tvalid_0's auc: 0.840109\n",
            "[56]\tvalid_0's binary_logloss: 0.139841\tvalid_0's auc: 0.840196\n",
            "[57]\tvalid_0's binary_logloss: 0.139728\tvalid_0's auc: 0.840415\n",
            "[58]\tvalid_0's binary_logloss: 0.139597\tvalid_0's auc: 0.840523\n",
            "[59]\tvalid_0's binary_logloss: 0.139478\tvalid_0's auc: 0.840482\n",
            "[60]\tvalid_0's binary_logloss: 0.139338\tvalid_0's auc: 0.840355\n",
            "[61]\tvalid_0's binary_logloss: 0.139233\tvalid_0's auc: 0.840501\n",
            "[62]\tvalid_0's binary_logloss: 0.139095\tvalid_0's auc: 0.840745\n",
            "[63]\tvalid_0's binary_logloss: 0.138949\tvalid_0's auc: 0.840747\n",
            "[64]\tvalid_0's binary_logloss: 0.138796\tvalid_0's auc: 0.840819\n",
            "[65]\tvalid_0's binary_logloss: 0.138647\tvalid_0's auc: 0.840979\n",
            "[66]\tvalid_0's binary_logloss: 0.138515\tvalid_0's auc: 0.841084\n",
            "[67]\tvalid_0's binary_logloss: 0.138385\tvalid_0's auc: 0.841391\n",
            "[68]\tvalid_0's binary_logloss: 0.138264\tvalid_0's auc: 0.84153\n",
            "[69]\tvalid_0's binary_logloss: 0.138174\tvalid_0's auc: 0.841388\n",
            "[70]\tvalid_0's binary_logloss: 0.138077\tvalid_0's auc: 0.841404\n",
            "[71]\tvalid_0's binary_logloss: 0.137957\tvalid_0's auc: 0.84146\n",
            "[72]\tvalid_0's binary_logloss: 0.137827\tvalid_0's auc: 0.841669\n",
            "[73]\tvalid_0's binary_logloss: 0.137719\tvalid_0's auc: 0.84187\n",
            "[74]\tvalid_0's binary_logloss: 0.137614\tvalid_0's auc: 0.841918\n",
            "[75]\tvalid_0's binary_logloss: 0.137515\tvalid_0's auc: 0.841954\n",
            "[76]\tvalid_0's binary_logloss: 0.137409\tvalid_0's auc: 0.842148\n",
            "[77]\tvalid_0's binary_logloss: 0.137305\tvalid_0's auc: 0.842082\n",
            "[78]\tvalid_0's binary_logloss: 0.137193\tvalid_0's auc: 0.842643\n",
            "[79]\tvalid_0's binary_logloss: 0.13712\tvalid_0's auc: 0.842622\n",
            "[80]\tvalid_0's binary_logloss: 0.137062\tvalid_0's auc: 0.842639\n",
            "[81]\tvalid_0's binary_logloss: 0.136986\tvalid_0's auc: 0.842763\n",
            "[82]\tvalid_0's binary_logloss: 0.136917\tvalid_0's auc: 0.842877\n",
            "[83]\tvalid_0's binary_logloss: 0.136863\tvalid_0's auc: 0.842857\n",
            "[84]\tvalid_0's binary_logloss: 0.136775\tvalid_0's auc: 0.842954\n",
            "[85]\tvalid_0's binary_logloss: 0.136698\tvalid_0's auc: 0.843029\n",
            "[86]\tvalid_0's binary_logloss: 0.136623\tvalid_0's auc: 0.843087\n",
            "[87]\tvalid_0's binary_logloss: 0.136553\tvalid_0's auc: 0.843021\n",
            "[88]\tvalid_0's binary_logloss: 0.136485\tvalid_0's auc: 0.843109\n",
            "[89]\tvalid_0's binary_logloss: 0.136407\tvalid_0's auc: 0.843183\n",
            "[90]\tvalid_0's binary_logloss: 0.136347\tvalid_0's auc: 0.843137\n",
            "[91]\tvalid_0's binary_logloss: 0.136325\tvalid_0's auc: 0.843016\n",
            "[92]\tvalid_0's binary_logloss: 0.136262\tvalid_0's auc: 0.843056\n",
            "[93]\tvalid_0's binary_logloss: 0.136188\tvalid_0's auc: 0.843225\n",
            "[94]\tvalid_0's binary_logloss: 0.136128\tvalid_0's auc: 0.843269\n",
            "[95]\tvalid_0's binary_logloss: 0.136047\tvalid_0's auc: 0.843444\n",
            "[96]\tvalid_0's binary_logloss: 0.136\tvalid_0's auc: 0.843468\n",
            "[97]\tvalid_0's binary_logloss: 0.135934\tvalid_0's auc: 0.843593\n",
            "[98]\tvalid_0's binary_logloss: 0.135869\tvalid_0's auc: 0.843582\n",
            "[99]\tvalid_0's binary_logloss: 0.13583\tvalid_0's auc: 0.843492\n",
            "[100]\tvalid_0's binary_logloss: 0.13577\tvalid_0's auc: 0.843574\n",
            "[101]\tvalid_0's binary_logloss: 0.135705\tvalid_0's auc: 0.843611\n",
            "[102]\tvalid_0's binary_logloss: 0.135639\tvalid_0's auc: 0.843667\n",
            "[103]\tvalid_0's binary_logloss: 0.135574\tvalid_0's auc: 0.843709\n",
            "[104]\tvalid_0's binary_logloss: 0.135488\tvalid_0's auc: 0.843698\n",
            "[105]\tvalid_0's binary_logloss: 0.135453\tvalid_0's auc: 0.84363\n",
            "[106]\tvalid_0's binary_logloss: 0.135406\tvalid_0's auc: 0.843565\n",
            "[107]\tvalid_0's binary_logloss: 0.135341\tvalid_0's auc: 0.84366\n",
            "[108]\tvalid_0's binary_logloss: 0.135294\tvalid_0's auc: 0.843788\n",
            "[109]\tvalid_0's binary_logloss: 0.135255\tvalid_0's auc: 0.843787\n",
            "[110]\tvalid_0's binary_logloss: 0.135214\tvalid_0's auc: 0.84367\n",
            "[111]\tvalid_0's binary_logloss: 0.135172\tvalid_0's auc: 0.843736\n",
            "[112]\tvalid_0's binary_logloss: 0.135132\tvalid_0's auc: 0.843721\n",
            "[113]\tvalid_0's binary_logloss: 0.135094\tvalid_0's auc: 0.843769\n",
            "[114]\tvalid_0's binary_logloss: 0.135058\tvalid_0's auc: 0.843707\n",
            "[115]\tvalid_0's binary_logloss: 0.135031\tvalid_0's auc: 0.843767\n",
            "[116]\tvalid_0's binary_logloss: 0.134976\tvalid_0's auc: 0.843897\n",
            "[117]\tvalid_0's binary_logloss: 0.134943\tvalid_0's auc: 0.844008\n",
            "[118]\tvalid_0's binary_logloss: 0.134895\tvalid_0's auc: 0.84404\n",
            "[119]\tvalid_0's binary_logloss: 0.134841\tvalid_0's auc: 0.844162\n",
            "[120]\tvalid_0's binary_logloss: 0.134795\tvalid_0's auc: 0.844151\n",
            "[121]\tvalid_0's binary_logloss: 0.134759\tvalid_0's auc: 0.844261\n",
            "[122]\tvalid_0's binary_logloss: 0.134757\tvalid_0's auc: 0.844064\n",
            "[123]\tvalid_0's binary_logloss: 0.134712\tvalid_0's auc: 0.844194\n",
            "[124]\tvalid_0's binary_logloss: 0.134694\tvalid_0's auc: 0.844132\n",
            "[125]\tvalid_0's binary_logloss: 0.134666\tvalid_0's auc: 0.844222\n",
            "[126]\tvalid_0's binary_logloss: 0.134627\tvalid_0's auc: 0.844267\n",
            "[127]\tvalid_0's binary_logloss: 0.1346\tvalid_0's auc: 0.844272\n",
            "[128]\tvalid_0's binary_logloss: 0.13458\tvalid_0's auc: 0.844314\n",
            "[129]\tvalid_0's binary_logloss: 0.134544\tvalid_0's auc: 0.844355\n",
            "[130]\tvalid_0's binary_logloss: 0.134516\tvalid_0's auc: 0.844362\n",
            "[131]\tvalid_0's binary_logloss: 0.134494\tvalid_0's auc: 0.844407\n",
            "[132]\tvalid_0's binary_logloss: 0.134467\tvalid_0's auc: 0.844415\n",
            "[133]\tvalid_0's binary_logloss: 0.134454\tvalid_0's auc: 0.844419\n",
            "[134]\tvalid_0's binary_logloss: 0.134406\tvalid_0's auc: 0.8446\n",
            "[135]\tvalid_0's binary_logloss: 0.13439\tvalid_0's auc: 0.844563\n",
            "[136]\tvalid_0's binary_logloss: 0.134378\tvalid_0's auc: 0.84462\n",
            "[137]\tvalid_0's binary_logloss: 0.134357\tvalid_0's auc: 0.844608\n",
            "[138]\tvalid_0's binary_logloss: 0.134318\tvalid_0's auc: 0.844733\n",
            "[139]\tvalid_0's binary_logloss: 0.134295\tvalid_0's auc: 0.844629\n",
            "[140]\tvalid_0's binary_logloss: 0.134291\tvalid_0's auc: 0.844589\n",
            "[141]\tvalid_0's binary_logloss: 0.134238\tvalid_0's auc: 0.844705\n",
            "[142]\tvalid_0's binary_logloss: 0.134211\tvalid_0's auc: 0.844708\n",
            "[143]\tvalid_0's binary_logloss: 0.134211\tvalid_0's auc: 0.84471\n",
            "[144]\tvalid_0's binary_logloss: 0.13417\tvalid_0's auc: 0.844843\n",
            "[145]\tvalid_0's binary_logloss: 0.134149\tvalid_0's auc: 0.844866\n",
            "[146]\tvalid_0's binary_logloss: 0.134106\tvalid_0's auc: 0.844919\n",
            "[147]\tvalid_0's binary_logloss: 0.134093\tvalid_0's auc: 0.844908\n",
            "[148]\tvalid_0's binary_logloss: 0.134077\tvalid_0's auc: 0.844908\n",
            "[149]\tvalid_0's binary_logloss: 0.134046\tvalid_0's auc: 0.845005\n",
            "[150]\tvalid_0's binary_logloss: 0.134015\tvalid_0's auc: 0.845023\n",
            "[151]\tvalid_0's binary_logloss: 0.133981\tvalid_0's auc: 0.845126\n",
            "[152]\tvalid_0's binary_logloss: 0.133963\tvalid_0's auc: 0.845142\n",
            "[153]\tvalid_0's binary_logloss: 0.13394\tvalid_0's auc: 0.845177\n",
            "[154]\tvalid_0's binary_logloss: 0.133921\tvalid_0's auc: 0.845181\n",
            "[155]\tvalid_0's binary_logloss: 0.133908\tvalid_0's auc: 0.845158\n",
            "[156]\tvalid_0's binary_logloss: 0.13389\tvalid_0's auc: 0.84515\n",
            "[157]\tvalid_0's binary_logloss: 0.133872\tvalid_0's auc: 0.845239\n",
            "[158]\tvalid_0's binary_logloss: 0.133868\tvalid_0's auc: 0.845251\n",
            "[159]\tvalid_0's binary_logloss: 0.133844\tvalid_0's auc: 0.845332\n",
            "[160]\tvalid_0's binary_logloss: 0.133794\tvalid_0's auc: 0.845461\n",
            "[161]\tvalid_0's binary_logloss: 0.133761\tvalid_0's auc: 0.845592\n",
            "[162]\tvalid_0's binary_logloss: 0.133722\tvalid_0's auc: 0.845763\n",
            "[163]\tvalid_0's binary_logloss: 0.133709\tvalid_0's auc: 0.84575\n",
            "[164]\tvalid_0's binary_logloss: 0.133688\tvalid_0's auc: 0.84576\n",
            "[165]\tvalid_0's binary_logloss: 0.13368\tvalid_0's auc: 0.845745\n",
            "[166]\tvalid_0's binary_logloss: 0.133672\tvalid_0's auc: 0.845695\n",
            "[167]\tvalid_0's binary_logloss: 0.133671\tvalid_0's auc: 0.845627\n",
            "[168]\tvalid_0's binary_logloss: 0.133661\tvalid_0's auc: 0.845595\n",
            "[169]\tvalid_0's binary_logloss: 0.133644\tvalid_0's auc: 0.845626\n",
            "[170]\tvalid_0's binary_logloss: 0.133628\tvalid_0's auc: 0.845625\n",
            "[171]\tvalid_0's binary_logloss: 0.133614\tvalid_0's auc: 0.845686\n",
            "[172]\tvalid_0's binary_logloss: 0.133607\tvalid_0's auc: 0.845658\n",
            "[173]\tvalid_0's binary_logloss: 0.133581\tvalid_0's auc: 0.845769\n",
            "[174]\tvalid_0's binary_logloss: 0.133582\tvalid_0's auc: 0.845779\n",
            "[175]\tvalid_0's binary_logloss: 0.133576\tvalid_0's auc: 0.845723\n",
            "[176]\tvalid_0's binary_logloss: 0.133557\tvalid_0's auc: 0.845806\n",
            "[177]\tvalid_0's binary_logloss: 0.133555\tvalid_0's auc: 0.845767\n",
            "[178]\tvalid_0's binary_logloss: 0.133542\tvalid_0's auc: 0.845805\n",
            "[179]\tvalid_0's binary_logloss: 0.133535\tvalid_0's auc: 0.845782\n",
            "[180]\tvalid_0's binary_logloss: 0.133533\tvalid_0's auc: 0.845747\n",
            "[181]\tvalid_0's binary_logloss: 0.133516\tvalid_0's auc: 0.845807\n",
            "[182]\tvalid_0's binary_logloss: 0.133505\tvalid_0's auc: 0.845794\n",
            "[183]\tvalid_0's binary_logloss: 0.133484\tvalid_0's auc: 0.845787\n",
            "[184]\tvalid_0's binary_logloss: 0.133477\tvalid_0's auc: 0.845786\n",
            "[185]\tvalid_0's binary_logloss: 0.133453\tvalid_0's auc: 0.845894\n",
            "[186]\tvalid_0's binary_logloss: 0.133443\tvalid_0's auc: 0.84588\n",
            "[187]\tvalid_0's binary_logloss: 0.133423\tvalid_0's auc: 0.845964\n",
            "[188]\tvalid_0's binary_logloss: 0.133397\tvalid_0's auc: 0.846031\n",
            "[189]\tvalid_0's binary_logloss: 0.133379\tvalid_0's auc: 0.846072\n",
            "[190]\tvalid_0's binary_logloss: 0.133376\tvalid_0's auc: 0.846107\n",
            "[191]\tvalid_0's binary_logloss: 0.133352\tvalid_0's auc: 0.846212\n",
            "[192]\tvalid_0's binary_logloss: 0.13334\tvalid_0's auc: 0.846315\n",
            "[193]\tvalid_0's binary_logloss: 0.133332\tvalid_0's auc: 0.846296\n",
            "[194]\tvalid_0's binary_logloss: 0.133314\tvalid_0's auc: 0.846359\n",
            "[195]\tvalid_0's binary_logloss: 0.133306\tvalid_0's auc: 0.8464\n",
            "[196]\tvalid_0's binary_logloss: 0.13329\tvalid_0's auc: 0.846428\n",
            "[197]\tvalid_0's binary_logloss: 0.133294\tvalid_0's auc: 0.846425\n",
            "[198]\tvalid_0's binary_logloss: 0.133278\tvalid_0's auc: 0.846509\n",
            "[199]\tvalid_0's binary_logloss: 0.133258\tvalid_0's auc: 0.846568\n",
            "[200]\tvalid_0's binary_logloss: 0.133249\tvalid_0's auc: 0.846569\n",
            "[201]\tvalid_0's binary_logloss: 0.133245\tvalid_0's auc: 0.846559\n",
            "[202]\tvalid_0's binary_logloss: 0.133234\tvalid_0's auc: 0.84656\n",
            "[203]\tvalid_0's binary_logloss: 0.133234\tvalid_0's auc: 0.84657\n",
            "[204]\tvalid_0's binary_logloss: 0.133229\tvalid_0's auc: 0.84653\n",
            "[205]\tvalid_0's binary_logloss: 0.13321\tvalid_0's auc: 0.846565\n",
            "[206]\tvalid_0's binary_logloss: 0.13321\tvalid_0's auc: 0.846567\n",
            "[207]\tvalid_0's binary_logloss: 0.133199\tvalid_0's auc: 0.846608\n",
            "[208]\tvalid_0's binary_logloss: 0.133186\tvalid_0's auc: 0.846623\n",
            "[209]\tvalid_0's binary_logloss: 0.133163\tvalid_0's auc: 0.846692\n",
            "[210]\tvalid_0's binary_logloss: 0.133158\tvalid_0's auc: 0.846589\n",
            "[211]\tvalid_0's binary_logloss: 0.133168\tvalid_0's auc: 0.846559\n",
            "[212]\tvalid_0's binary_logloss: 0.133166\tvalid_0's auc: 0.846516\n",
            "[213]\tvalid_0's binary_logloss: 0.133139\tvalid_0's auc: 0.846721\n",
            "[214]\tvalid_0's binary_logloss: 0.133137\tvalid_0's auc: 0.846643\n",
            "[215]\tvalid_0's binary_logloss: 0.133135\tvalid_0's auc: 0.846605\n",
            "[216]\tvalid_0's binary_logloss: 0.133133\tvalid_0's auc: 0.846584\n",
            "[217]\tvalid_0's binary_logloss: 0.133126\tvalid_0's auc: 0.846607\n",
            "[218]\tvalid_0's binary_logloss: 0.133125\tvalid_0's auc: 0.84657\n",
            "[219]\tvalid_0's binary_logloss: 0.133126\tvalid_0's auc: 0.846537\n",
            "[220]\tvalid_0's binary_logloss: 0.133115\tvalid_0's auc: 0.846563\n",
            "[221]\tvalid_0's binary_logloss: 0.133099\tvalid_0's auc: 0.846645\n",
            "[222]\tvalid_0's binary_logloss: 0.133089\tvalid_0's auc: 0.846703\n",
            "[223]\tvalid_0's binary_logloss: 0.133084\tvalid_0's auc: 0.846661\n",
            "[224]\tvalid_0's binary_logloss: 0.133085\tvalid_0's auc: 0.846668\n",
            "[225]\tvalid_0's binary_logloss: 0.133089\tvalid_0's auc: 0.846665\n",
            "[226]\tvalid_0's binary_logloss: 0.133083\tvalid_0's auc: 0.846716\n",
            "[227]\tvalid_0's binary_logloss: 0.133073\tvalid_0's auc: 0.846845\n",
            "[228]\tvalid_0's binary_logloss: 0.133061\tvalid_0's auc: 0.846893\n",
            "[229]\tvalid_0's binary_logloss: 0.13305\tvalid_0's auc: 0.846914\n",
            "[230]\tvalid_0's binary_logloss: 0.133043\tvalid_0's auc: 0.846882\n",
            "[231]\tvalid_0's binary_logloss: 0.133031\tvalid_0's auc: 0.846948\n",
            "[232]\tvalid_0's binary_logloss: 0.133028\tvalid_0's auc: 0.846958\n",
            "[233]\tvalid_0's binary_logloss: 0.133019\tvalid_0's auc: 0.846935\n",
            "[234]\tvalid_0's binary_logloss: 0.133008\tvalid_0's auc: 0.846972\n",
            "[235]\tvalid_0's binary_logloss: 0.133006\tvalid_0's auc: 0.84694\n",
            "[236]\tvalid_0's binary_logloss: 0.133013\tvalid_0's auc: 0.846903\n",
            "[237]\tvalid_0's binary_logloss: 0.133003\tvalid_0's auc: 0.846891\n",
            "[238]\tvalid_0's binary_logloss: 0.132996\tvalid_0's auc: 0.846883\n",
            "[239]\tvalid_0's binary_logloss: 0.132991\tvalid_0's auc: 0.846897\n",
            "[240]\tvalid_0's binary_logloss: 0.132985\tvalid_0's auc: 0.846868\n",
            "[241]\tvalid_0's binary_logloss: 0.132983\tvalid_0's auc: 0.846856\n",
            "[242]\tvalid_0's binary_logloss: 0.132978\tvalid_0's auc: 0.84686\n",
            "[243]\tvalid_0's binary_logloss: 0.132963\tvalid_0's auc: 0.846908\n",
            "[244]\tvalid_0's binary_logloss: 0.132964\tvalid_0's auc: 0.846912\n",
            "[245]\tvalid_0's binary_logloss: 0.132969\tvalid_0's auc: 0.846918\n",
            "[246]\tvalid_0's binary_logloss: 0.13297\tvalid_0's auc: 0.846853\n",
            "[247]\tvalid_0's binary_logloss: 0.132987\tvalid_0's auc: 0.846759\n",
            "[248]\tvalid_0's binary_logloss: 0.132986\tvalid_0's auc: 0.846735\n",
            "[249]\tvalid_0's binary_logloss: 0.132975\tvalid_0's auc: 0.846762\n",
            "[250]\tvalid_0's binary_logloss: 0.132977\tvalid_0's auc: 0.846733\n",
            "[251]\tvalid_0's binary_logloss: 0.132975\tvalid_0's auc: 0.846731\n",
            "[252]\tvalid_0's binary_logloss: 0.132973\tvalid_0's auc: 0.846755\n",
            "[253]\tvalid_0's binary_logloss: 0.132981\tvalid_0's auc: 0.846712\n",
            "[254]\tvalid_0's binary_logloss: 0.13298\tvalid_0's auc: 0.846659\n",
            "[255]\tvalid_0's binary_logloss: 0.132983\tvalid_0's auc: 0.846607\n",
            "[256]\tvalid_0's binary_logloss: 0.132988\tvalid_0's auc: 0.846596\n",
            "[257]\tvalid_0's binary_logloss: 0.132986\tvalid_0's auc: 0.846581\n",
            "[258]\tvalid_0's binary_logloss: 0.132987\tvalid_0's auc: 0.846567\n",
            "[259]\tvalid_0's binary_logloss: 0.132983\tvalid_0's auc: 0.846537\n",
            "[260]\tvalid_0's binary_logloss: 0.132978\tvalid_0's auc: 0.846575\n",
            "[261]\tvalid_0's binary_logloss: 0.132976\tvalid_0's auc: 0.846559\n",
            "[262]\tvalid_0's binary_logloss: 0.132976\tvalid_0's auc: 0.84654\n",
            "[263]\tvalid_0's binary_logloss: 0.132979\tvalid_0's auc: 0.846453\n",
            "[264]\tvalid_0's binary_logloss: 0.132967\tvalid_0's auc: 0.846508\n",
            "[265]\tvalid_0's binary_logloss: 0.132956\tvalid_0's auc: 0.846552\n",
            "[266]\tvalid_0's binary_logloss: 0.13295\tvalid_0's auc: 0.846567\n",
            "[267]\tvalid_0's binary_logloss: 0.132936\tvalid_0's auc: 0.846602\n",
            "[268]\tvalid_0's binary_logloss: 0.132935\tvalid_0's auc: 0.846613\n",
            "[269]\tvalid_0's binary_logloss: 0.132942\tvalid_0's auc: 0.846617\n",
            "[270]\tvalid_0's binary_logloss: 0.132946\tvalid_0's auc: 0.846589\n",
            "[271]\tvalid_0's binary_logloss: 0.132945\tvalid_0's auc: 0.846567\n",
            "[272]\tvalid_0's binary_logloss: 0.132943\tvalid_0's auc: 0.846543\n",
            "[273]\tvalid_0's binary_logloss: 0.132929\tvalid_0's auc: 0.846583\n",
            "[274]\tvalid_0's binary_logloss: 0.132924\tvalid_0's auc: 0.846696\n",
            "[275]\tvalid_0's binary_logloss: 0.132921\tvalid_0's auc: 0.846681\n",
            "[276]\tvalid_0's binary_logloss: 0.132929\tvalid_0's auc: 0.846616\n",
            "[277]\tvalid_0's binary_logloss: 0.132929\tvalid_0's auc: 0.846626\n",
            "[278]\tvalid_0's binary_logloss: 0.13292\tvalid_0's auc: 0.846692\n",
            "[279]\tvalid_0's binary_logloss: 0.132917\tvalid_0's auc: 0.846652\n",
            "[280]\tvalid_0's binary_logloss: 0.132921\tvalid_0's auc: 0.846608\n",
            "[281]\tvalid_0's binary_logloss: 0.132913\tvalid_0's auc: 0.846645\n",
            "[282]\tvalid_0's binary_logloss: 0.132907\tvalid_0's auc: 0.846671\n",
            "[283]\tvalid_0's binary_logloss: 0.13291\tvalid_0's auc: 0.846671\n",
            "[284]\tvalid_0's binary_logloss: 0.132914\tvalid_0's auc: 0.84662\n",
            "[285]\tvalid_0's binary_logloss: 0.132904\tvalid_0's auc: 0.846652\n",
            "[286]\tvalid_0's binary_logloss: 0.132902\tvalid_0's auc: 0.846683\n",
            "[287]\tvalid_0's binary_logloss: 0.132904\tvalid_0's auc: 0.846661\n",
            "[288]\tvalid_0's binary_logloss: 0.132911\tvalid_0's auc: 0.846659\n",
            "[289]\tvalid_0's binary_logloss: 0.13291\tvalid_0's auc: 0.846623\n",
            "[290]\tvalid_0's binary_logloss: 0.132913\tvalid_0's auc: 0.846637\n",
            "[291]\tvalid_0's binary_logloss: 0.132923\tvalid_0's auc: 0.846587\n",
            "[292]\tvalid_0's binary_logloss: 0.13292\tvalid_0's auc: 0.846603\n",
            "[293]\tvalid_0's binary_logloss: 0.132916\tvalid_0's auc: 0.846645\n",
            "[294]\tvalid_0's binary_logloss: 0.13293\tvalid_0's auc: 0.84657\n",
            "[295]\tvalid_0's binary_logloss: 0.132933\tvalid_0's auc: 0.846537\n",
            "[296]\tvalid_0's binary_logloss: 0.132936\tvalid_0's auc: 0.846481\n",
            "[297]\tvalid_0's binary_logloss: 0.132935\tvalid_0's auc: 0.846445\n",
            "[298]\tvalid_0's binary_logloss: 0.132925\tvalid_0's auc: 0.84647\n",
            "[299]\tvalid_0's binary_logloss: 0.132927\tvalid_0's auc: 0.846431\n",
            "[300]\tvalid_0's binary_logloss: 0.132928\tvalid_0's auc: 0.846442\n",
            "[301]\tvalid_0's binary_logloss: 0.132919\tvalid_0's auc: 0.846468\n",
            "[302]\tvalid_0's binary_logloss: 0.132928\tvalid_0's auc: 0.846448\n",
            "[303]\tvalid_0's binary_logloss: 0.13293\tvalid_0's auc: 0.846388\n",
            "[304]\tvalid_0's binary_logloss: 0.132934\tvalid_0's auc: 0.846315\n",
            "[305]\tvalid_0's binary_logloss: 0.132937\tvalid_0's auc: 0.846373\n",
            "[306]\tvalid_0's binary_logloss: 0.132921\tvalid_0's auc: 0.846467\n",
            "[307]\tvalid_0's binary_logloss: 0.132923\tvalid_0's auc: 0.84643\n",
            "[308]\tvalid_0's binary_logloss: 0.132935\tvalid_0's auc: 0.846383\n",
            "[309]\tvalid_0's binary_logloss: 0.132924\tvalid_0's auc: 0.84648\n",
            "[310]\tvalid_0's binary_logloss: 0.132929\tvalid_0's auc: 0.846419\n",
            "[311]\tvalid_0's binary_logloss: 0.132926\tvalid_0's auc: 0.846437\n",
            "[312]\tvalid_0's binary_logloss: 0.132923\tvalid_0's auc: 0.846478\n",
            "[313]\tvalid_0's binary_logloss: 0.132908\tvalid_0's auc: 0.84653\n",
            "[314]\tvalid_0's binary_logloss: 0.132904\tvalid_0's auc: 0.846539\n",
            "[315]\tvalid_0's binary_logloss: 0.132921\tvalid_0's auc: 0.846461\n",
            "[316]\tvalid_0's binary_logloss: 0.132917\tvalid_0's auc: 0.846434\n",
            "[317]\tvalid_0's binary_logloss: 0.132888\tvalid_0's auc: 0.846611\n",
            "[318]\tvalid_0's binary_logloss: 0.132883\tvalid_0's auc: 0.846623\n",
            "[319]\tvalid_0's binary_logloss: 0.132881\tvalid_0's auc: 0.846651\n",
            "[320]\tvalid_0's binary_logloss: 0.132883\tvalid_0's auc: 0.846609\n",
            "[321]\tvalid_0's binary_logloss: 0.132873\tvalid_0's auc: 0.846698\n",
            "[322]\tvalid_0's binary_logloss: 0.132873\tvalid_0's auc: 0.846626\n",
            "[323]\tvalid_0's binary_logloss: 0.132881\tvalid_0's auc: 0.846597\n",
            "[324]\tvalid_0's binary_logloss: 0.132878\tvalid_0's auc: 0.846593\n",
            "[325]\tvalid_0's binary_logloss: 0.132882\tvalid_0's auc: 0.846602\n",
            "[326]\tvalid_0's binary_logloss: 0.13288\tvalid_0's auc: 0.846552\n",
            "[327]\tvalid_0's binary_logloss: 0.132887\tvalid_0's auc: 0.846553\n",
            "[328]\tvalid_0's binary_logloss: 0.132888\tvalid_0's auc: 0.846508\n",
            "[329]\tvalid_0's binary_logloss: 0.132891\tvalid_0's auc: 0.846486\n",
            "[330]\tvalid_0's binary_logloss: 0.132889\tvalid_0's auc: 0.84645\n",
            "[331]\tvalid_0's binary_logloss: 0.132893\tvalid_0's auc: 0.846395\n",
            "[332]\tvalid_0's binary_logloss: 0.132893\tvalid_0's auc: 0.846376\n",
            "[333]\tvalid_0's binary_logloss: 0.132892\tvalid_0's auc: 0.846358\n",
            "[334]\tvalid_0's binary_logloss: 0.132906\tvalid_0's auc: 0.846222\n",
            "[335]\tvalid_0's binary_logloss: 0.132912\tvalid_0's auc: 0.846181\n",
            "[336]\tvalid_0's binary_logloss: 0.13291\tvalid_0's auc: 0.846205\n",
            "[337]\tvalid_0's binary_logloss: 0.13291\tvalid_0's auc: 0.846246\n",
            "[338]\tvalid_0's binary_logloss: 0.132913\tvalid_0's auc: 0.846244\n",
            "[339]\tvalid_0's binary_logloss: 0.132907\tvalid_0's auc: 0.846266\n",
            "[340]\tvalid_0's binary_logloss: 0.132893\tvalid_0's auc: 0.84633\n",
            "[341]\tvalid_0's binary_logloss: 0.132892\tvalid_0's auc: 0.846351\n",
            "[342]\tvalid_0's binary_logloss: 0.132893\tvalid_0's auc: 0.846325\n",
            "[343]\tvalid_0's binary_logloss: 0.132892\tvalid_0's auc: 0.846339\n",
            "[344]\tvalid_0's binary_logloss: 0.132897\tvalid_0's auc: 0.846346\n",
            "[345]\tvalid_0's binary_logloss: 0.132897\tvalid_0's auc: 0.846328\n",
            "[346]\tvalid_0's binary_logloss: 0.132902\tvalid_0's auc: 0.846276\n",
            "[347]\tvalid_0's binary_logloss: 0.132914\tvalid_0's auc: 0.846186\n",
            "[348]\tvalid_0's binary_logloss: 0.132922\tvalid_0's auc: 0.846167\n",
            "[349]\tvalid_0's binary_logloss: 0.132924\tvalid_0's auc: 0.846163\n",
            "[350]\tvalid_0's binary_logloss: 0.132919\tvalid_0's auc: 0.846073\n",
            "[351]\tvalid_0's binary_logloss: 0.132926\tvalid_0's auc: 0.846024\n",
            "[352]\tvalid_0's binary_logloss: 0.132921\tvalid_0's auc: 0.846049\n",
            "[353]\tvalid_0's binary_logloss: 0.132924\tvalid_0's auc: 0.846047\n",
            "[354]\tvalid_0's binary_logloss: 0.132936\tvalid_0's auc: 0.845957\n",
            "[355]\tvalid_0's binary_logloss: 0.13294\tvalid_0's auc: 0.845938\n",
            "[356]\tvalid_0's binary_logloss: 0.132943\tvalid_0's auc: 0.845871\n",
            "[357]\tvalid_0's binary_logloss: 0.132951\tvalid_0's auc: 0.84579\n",
            "[358]\tvalid_0's binary_logloss: 0.132936\tvalid_0's auc: 0.845841\n",
            "[359]\tvalid_0's binary_logloss: 0.132939\tvalid_0's auc: 0.845843\n",
            "[360]\tvalid_0's binary_logloss: 0.132944\tvalid_0's auc: 0.845818\n",
            "[361]\tvalid_0's binary_logloss: 0.132938\tvalid_0's auc: 0.845834\n",
            "[362]\tvalid_0's binary_logloss: 0.132947\tvalid_0's auc: 0.845744\n",
            "[363]\tvalid_0's binary_logloss: 0.132948\tvalid_0's auc: 0.845718\n",
            "[364]\tvalid_0's binary_logloss: 0.132953\tvalid_0's auc: 0.845713\n",
            "[365]\tvalid_0's binary_logloss: 0.132959\tvalid_0's auc: 0.845677\n",
            "[366]\tvalid_0's binary_logloss: 0.132955\tvalid_0's auc: 0.845736\n",
            "[367]\tvalid_0's binary_logloss: 0.132947\tvalid_0's auc: 0.845748\n",
            "[368]\tvalid_0's binary_logloss: 0.132946\tvalid_0's auc: 0.845758\n",
            "[369]\tvalid_0's binary_logloss: 0.132946\tvalid_0's auc: 0.84575\n",
            "[370]\tvalid_0's binary_logloss: 0.132939\tvalid_0's auc: 0.845746\n",
            "[371]\tvalid_0's binary_logloss: 0.132929\tvalid_0's auc: 0.845824\n",
            "[372]\tvalid_0's binary_logloss: 0.132938\tvalid_0's auc: 0.845735\n",
            "[373]\tvalid_0's binary_logloss: 0.132924\tvalid_0's auc: 0.845798\n",
            "[374]\tvalid_0's binary_logloss: 0.132935\tvalid_0's auc: 0.845743\n",
            "[375]\tvalid_0's binary_logloss: 0.132933\tvalid_0's auc: 0.845743\n",
            "CPU times: user 54.2 s, sys: 286 ms, total: 54.5 s\n",
            "Wall time: 29.2 s\n"
          ],
          "name": "stdout"
        },
        {
          "output_type": "execute_result",
          "data": {
            "text/plain": [
              "LGBMClassifier(boosting_type='gbdt', class_weight=None, colsample_bytree=0.5,\n",
              "               importance_type='split', learning_rate=0.02, max_depth=7,\n",
              "               min_child_samples=20, min_child_weight=0.001, min_split_gain=0.0,\n",
              "               n_estimators=375, n_jobs=-1, nthread=-1, num_leaves=31,\n",
              "               objective='binary', random_state=42, reg_alpha=0.4,\n",
              "               reg_lambda=0.0, scale_pos_weight=1, silent=True, subsample=0.8,\n",
              "               subsample_for_bin=200000, subsample_freq=0)"
            ]
          },
          "metadata": {
            "tags": []
          },
          "execution_count": 32
        }
      ]
    },
    {
      "cell_type": "code",
      "metadata": {
        "colab_type": "code",
        "id": "k_CEadVqLzvy",
        "colab": {
          "base_uri": "https://localhost:8080/"
        },
        "outputId": "b413c18d-5e65-4f4c-b208-aa78a67c9b78"
      },
      "source": [
        "y_pred = model.predict_proba(X_val)[:,1]\n",
        "label=\"LightGBM Classifer\"\n",
        "labels.append(label)\n",
        "y_preds.append(y_pred)\n",
        "i+=1\n",
        "result = plot_auc(y_val,y_pred,label)\n",
        "result_df = result_df.append(result)\n",
        "del result"
      ],
      "execution_count": null,
      "outputs": [
        {
          "output_type": "stream",
          "text": [
            "\t\t LightGBM Classifer on Log Transformed OHE dataset \t\t \n",
            "\n"
          ],
          "name": "stdout"
        },
        {
          "output_type": "display_data",
          "data": {
            "image/png": "[encoded data removed]",
            "text/plain": [
              "<Figure size 432x288 with 1 Axes>"
            ]
          },
          "metadata": {
            "tags": [],
            "needs_background": "light"
          }
        },
        {
          "output_type": "stream",
          "text": [
            "The log loss and auc was found to be 0.133 and 0.846 for LightGBM Classifer on Log Transformed OHE dataset.\n"
          ],
          "name": "stdout"
        }
      ]
    },
    {
      "cell_type": "code",
      "metadata": {
        "colab_type": "code",
        "id": "BF22prvpLzv1",
        "colab": {
          "base_uri": "https://localhost:8080/"
        },
        "outputId": "f191b5ac-2219-4835-a123-add7d9b3da34"
      },
      "source": [
        "result_df"
      ],
      "execution_count": null,
      "outputs": [
        {
          "output_type": "execute_result",
          "data": {
            "text/html": [
              "<div>\n",
              "<style scoped>\n",
              "    .dataframe tbody tr th:only-of-type {\n",
              "        vertical-align: middle;\n",
              "    }\n",
              "\n",
              "    .dataframe tbody tr th {\n",
              "        vertical-align: top;\n",
              "    }\n",
              "\n",
              "    .dataframe thead th {\n",
              "        text-align: right;\n",
              "    }\n",
              "</style>\n",
              "<table border=\"1\" class=\"dataframe\">\n",
              "  <thead>\n",
              "    <tr style=\"text-align: right;\">\n",
              "      <th></th>\n",
              "      <th>Model</th>\n",
              "      <th>Dataset</th>\n",
              "      <th>log_loss</th>\n",
              "      <th>auc</th>\n",
              "    </tr>\n",
              "  </thead>\n",
              "  <tbody>\n",
              "    <tr>\n",
              "      <th>0</th>\n",
              "      <td>Logisic Regression</td>\n",
              "      <td>Log Transformed OHE</td>\n",
              "      <td>0.518796</td>\n",
              "      <td>0.824365</td>\n",
              "    </tr>\n",
              "    <tr>\n",
              "      <th>1</th>\n",
              "      <td>Decision Tree Classifier</td>\n",
              "      <td>Log Transformed OHE</td>\n",
              "      <td>0.140781</td>\n",
              "      <td>0.807561</td>\n",
              "    </tr>\n",
              "    <tr>\n",
              "      <th>2</th>\n",
              "      <td>Random Forest Classifier</td>\n",
              "      <td>Log Transformed OHE</td>\n",
              "      <td>0.137307</td>\n",
              "      <td>0.833055</td>\n",
              "    </tr>\n",
              "    <tr>\n",
              "      <th>3</th>\n",
              "      <td>XGBoost Classifer</td>\n",
              "      <td>Log Transformed OHE</td>\n",
              "      <td>0.132556</td>\n",
              "      <td>0.848140</td>\n",
              "    </tr>\n",
              "    <tr>\n",
              "      <th>4</th>\n",
              "      <td>LightGBM Classifer</td>\n",
              "      <td>Log Transformed OHE</td>\n",
              "      <td>0.132933</td>\n",
              "      <td>0.845743</td>\n",
              "    </tr>\n",
              "  </tbody>\n",
              "</table>\n",
              "</div>"
            ],
            "text/plain": [
              "                      Model              Dataset  log_loss       auc\n",
              "0        Logisic Regression  Log Transformed OHE  0.518796  0.824365\n",
              "1  Decision Tree Classifier  Log Transformed OHE  0.140781  0.807561\n",
              "2  Random Forest Classifier  Log Transformed OHE  0.137307  0.833055\n",
              "3         XGBoost Classifer  Log Transformed OHE  0.132556  0.848140\n",
              "4        LightGBM Classifer  Log Transformed OHE  0.132933  0.845743"
            ]
          },
          "metadata": {
            "tags": []
          },
          "execution_count": 34
        }
      ]
    },
    {
      "cell_type": "markdown",
      "metadata": {
        "colab_type": "text",
        "id": "LECmbx42-V2m"
      },
      "source": [
        "# Random Forest (top 250)"
      ]
    },
    {
      "cell_type": "code",
      "metadata": {
        "colab_type": "code",
        "id": "CUgv74lV-V2n",
        "colab": {}
      },
      "source": [
        "model = ensemble.RandomForestClassifier(class_weight='balanced')\n",
        "params = { 'n_estimators':[1000,2000],\n",
        "          'max_depth':[500,1000], \n",
        "         'min_samples_split':[100,500],\n",
        "          'min_samples_leaf':[3,5],\n",
        "          'max_leaf_nodes':[100,250] \n",
        "          }\n"
      ],
      "execution_count": 18,
      "outputs": []
    },
    {
      "cell_type": "code",
      "metadata": {
        "colab_type": "code",
        "id": "eCt8L0AV-V2q",
        "colab": {
          "base_uri": "https://localhost:8080/",
          "height": 272
        },
        "outputId": "475e988f-914a-4ba0-a850-fbf621ea98ca"
      },
      "source": [
        "%%time\n",
        "find_best_params(model,params,cv=3,X_train=X_train_200)"
      ],
      "execution_count": 19,
      "outputs": [
        {
          "output_type": "stream",
          "text": [
            "Fitting 3 folds for each of 10 candidates, totalling 30 fits\n"
          ],
          "name": "stdout"
        },
        {
          "output_type": "stream",
          "text": [
            "[Parallel(n_jobs=-1)]: Using backend LokyBackend with 2 concurrent workers.\n",
            "[Parallel(n_jobs=-1)]: Done  30 out of  30 | elapsed: 62.7min finished\n"
          ],
          "name": "stderr"
        },
        {
          "output_type": "stream",
          "text": [
            "The best auc score was 0.820\n",
            "The best params were: {'n_estimators': 2000, 'min_samples_split': 500, 'min_samples_leaf': 3, 'max_leaf_nodes': 250, 'max_depth': 1000}\n",
            "CPU times: user 5min 37s, sys: 672 ms, total: 5min 38s\n",
            "Wall time: 1h 8min 17s\n"
          ],
          "name": "stdout"
        },
        {
          "output_type": "execute_result",
          "data": {
            "text/plain": [
              "RandomForestClassifier(bootstrap=True, ccp_alpha=0.0, class_weight='balanced',\n",
              "                       criterion='gini', max_depth=1000, max_features='auto',\n",
              "                       max_leaf_nodes=250, max_samples=None,\n",
              "                       min_impurity_decrease=0.0, min_impurity_split=None,\n",
              "                       min_samples_leaf=3, min_samples_split=500,\n",
              "                       min_weight_fraction_leaf=0.0, n_estimators=2000,\n",
              "                       n_jobs=None, oob_score=False, random_state=None,\n",
              "                       verbose=0, warm_start=False)"
            ]
          },
          "metadata": {
            "tags": []
          },
          "execution_count": 19
        }
      ]
    },
    {
      "cell_type": "code",
      "metadata": {
        "colab_type": "code",
        "id": "DVdFANOy-V2u",
        "colab": {
          "base_uri": "https://localhost:8080/"
        },
        "outputId": "07d26f59-6359-42fb-e4ac-675ec60b4ab7"
      },
      "source": [
        "model = ensemble.RandomForestClassifier(bootstrap=True, ccp_alpha=0.0, class_weight='balanced',\n",
        "                       criterion='gini', max_depth=500, max_features='auto',\n",
        "                       max_leaf_nodes=250, max_samples=None,\n",
        "                       min_impurity_decrease=0.0, min_impurity_split=None,\n",
        "                       min_samples_leaf=3, min_samples_split=500,\n",
        "                       min_weight_fraction_leaf=0.0, n_estimators=2000,\n",
        "                       n_jobs=-1, oob_score=False, random_state=None,\n",
        "                       verbose=0, warm_start=False)\n",
        "\n",
        "model.fit(X_train_200,y_train)"
      ],
      "execution_count": null,
      "outputs": [
        {
          "output_type": "execute_result",
          "data": {
            "text/plain": [
              "RandomForestClassifier(bootstrap=True, ccp_alpha=0.0, class_weight='balanced',\n",
              "                       criterion='gini', max_depth=500, max_features='auto',\n",
              "                       max_leaf_nodes=250, max_samples=None,\n",
              "                       min_impurity_decrease=0.0, min_impurity_split=None,\n",
              "                       min_samples_leaf=3, min_samples_split=500,\n",
              "                       min_weight_fraction_leaf=0.0, n_estimators=2000,\n",
              "                       n_jobs=-1, oob_score=False, random_state=None, verbose=0,\n",
              "                       warm_start=False)"
            ]
          },
          "metadata": {
            "tags": []
          },
          "execution_count": 37
        }
      ]
    },
    {
      "cell_type": "code",
      "metadata": {
        "colab_type": "code",
        "id": "okg4Xksh-V2y",
        "colab": {
          "base_uri": "https://localhost:8080/"
        },
        "outputId": "5f36caf2-899b-4182-e35c-174095b53b7e"
      },
      "source": [
        "cc_model = calibration.CalibratedClassifierCV(model,cv='prefit')\n",
        "cc_model.fit(X_train_200,y_train)"
      ],
      "execution_count": null,
      "outputs": [
        {
          "output_type": "execute_result",
          "data": {
            "text/plain": [
              "CalibratedClassifierCV(base_estimator=RandomForestClassifier(bootstrap=True,\n",
              "                                                             ccp_alpha=0.0,\n",
              "                                                             class_weight='balanced',\n",
              "                                                             criterion='gini',\n",
              "                                                             max_depth=500,\n",
              "                                                             max_features='auto',\n",
              "                                                             max_leaf_nodes=250,\n",
              "                                                             max_samples=None,\n",
              "                                                             min_impurity_decrease=0.0,\n",
              "                                                             min_impurity_split=None,\n",
              "                                                             min_samples_leaf=3,\n",
              "                                                             min_samples_split=500,\n",
              "                                                             min_weight_fraction_leaf=0.0,\n",
              "                                                             n_estimators=2000,\n",
              "                                                             n_jobs=-1,\n",
              "                                                             oob_score=False,\n",
              "                                                             random_state=None,\n",
              "                                                             verbose=0,\n",
              "                                                             warm_start=False),\n",
              "                       cv='prefit', method='sigmoid')"
            ]
          },
          "metadata": {
            "tags": []
          },
          "execution_count": 38
        }
      ]
    },
    {
      "cell_type": "code",
      "metadata": {
        "colab_type": "code",
        "id": "5eSsmef9-V21",
        "colab": {
          "base_uri": "https://localhost:8080/"
        },
        "outputId": "0d9a0c3f-4b5c-4285-95f9-01d89412b454"
      },
      "source": [
        "i+=1\n",
        "y_pred = cc_model.predict_proba(X_val_200)[:,1]\n",
        "label=\"Random Forest Classifier (top 250)\"\n",
        "labels.append(label)\n",
        "y_preds.append(y_pred)\n",
        "result = plot_auc(y_val,y_pred,label,dataset)\n",
        "result_df = result_df.append(result)\n",
        "del result"
      ],
      "execution_count": null,
      "outputs": [
        {
          "output_type": "stream",
          "text": [
            "\t\t Random Forest Classifier (top 250) on Log Transformed OHE dataset \t\t \n",
            "\n"
          ],
          "name": "stdout"
        },
        {
          "output_type": "display_data",
          "data": {
            "image/png": "[encoded data removed]",
            "text/plain": [
              "<Figure size 432x288 with 1 Axes>"
            ]
          },
          "metadata": {
            "tags": [],
            "needs_background": "light"
          }
        },
        {
          "output_type": "stream",
          "text": [
            "The log loss and auc was found to be 0.137 and 0.836 for Random Forest Classifier (top 250) on Log Transformed OHE dataset.\n"
          ],
          "name": "stdout"
        }
      ]
    },
    {
      "cell_type": "code",
      "metadata": {
        "colab_type": "code",
        "id": "8Mo702Rt-V23",
        "colab": {
          "base_uri": "https://localhost:8080/"
        },
        "outputId": "35f2a404-1ce4-4346-cca9-59cdf9810e19"
      },
      "source": [
        "result_df"
      ],
      "execution_count": null,
      "outputs": [
        {
          "output_type": "execute_result",
          "data": {
            "text/html": [
              "<div>\n",
              "<style scoped>\n",
              "    .dataframe tbody tr th:only-of-type {\n",
              "        vertical-align: middle;\n",
              "    }\n",
              "\n",
              "    .dataframe tbody tr th {\n",
              "        vertical-align: top;\n",
              "    }\n",
              "\n",
              "    .dataframe thead th {\n",
              "        text-align: right;\n",
              "    }\n",
              "</style>\n",
              "<table border=\"1\" class=\"dataframe\">\n",
              "  <thead>\n",
              "    <tr style=\"text-align: right;\">\n",
              "      <th></th>\n",
              "      <th>Model</th>\n",
              "      <th>Dataset</th>\n",
              "      <th>log_loss</th>\n",
              "      <th>auc</th>\n",
              "    </tr>\n",
              "  </thead>\n",
              "  <tbody>\n",
              "    <tr>\n",
              "      <th>0</th>\n",
              "      <td>Logisic Regression</td>\n",
              "      <td>Log Transformed OHE</td>\n",
              "      <td>0.518796</td>\n",
              "      <td>0.824365</td>\n",
              "    </tr>\n",
              "    <tr>\n",
              "      <th>1</th>\n",
              "      <td>Decision Tree Classifier</td>\n",
              "      <td>Log Transformed OHE</td>\n",
              "      <td>0.140781</td>\n",
              "      <td>0.807561</td>\n",
              "    </tr>\n",
              "    <tr>\n",
              "      <th>2</th>\n",
              "      <td>Random Forest Classifier</td>\n",
              "      <td>Log Transformed OHE</td>\n",
              "      <td>0.137307</td>\n",
              "      <td>0.833055</td>\n",
              "    </tr>\n",
              "    <tr>\n",
              "      <th>3</th>\n",
              "      <td>XGBoost Classifer</td>\n",
              "      <td>Log Transformed OHE</td>\n",
              "      <td>0.132556</td>\n",
              "      <td>0.848140</td>\n",
              "    </tr>\n",
              "    <tr>\n",
              "      <th>4</th>\n",
              "      <td>LightGBM Classifer</td>\n",
              "      <td>Log Transformed OHE</td>\n",
              "      <td>0.132933</td>\n",
              "      <td>0.845743</td>\n",
              "    </tr>\n",
              "    <tr>\n",
              "      <th>5</th>\n",
              "      <td>Random Forest Classifier (top 250)</td>\n",
              "      <td>Log Transformed OHE</td>\n",
              "      <td>0.136683</td>\n",
              "      <td>0.835698</td>\n",
              "    </tr>\n",
              "  </tbody>\n",
              "</table>\n",
              "</div>"
            ],
            "text/plain": [
              "                                Model              Dataset  log_loss       auc\n",
              "0                  Logisic Regression  Log Transformed OHE  0.518796  0.824365\n",
              "1            Decision Tree Classifier  Log Transformed OHE  0.140781  0.807561\n",
              "2            Random Forest Classifier  Log Transformed OHE  0.137307  0.833055\n",
              "3                   XGBoost Classifer  Log Transformed OHE  0.132556  0.848140\n",
              "4                  LightGBM Classifer  Log Transformed OHE  0.132933  0.845743\n",
              "5  Random Forest Classifier (top 250)  Log Transformed OHE  0.136683  0.835698"
            ]
          },
          "metadata": {
            "tags": []
          },
          "execution_count": 40
        }
      ]
    },
    {
      "cell_type": "markdown",
      "metadata": {
        "colab_type": "text",
        "id": "i-y4IONn-V26"
      },
      "source": [
        "# XGB Classifier (top 250)"
      ]
    },
    {
      "cell_type": "code",
      "metadata": {
        "colab_type": "code",
        "id": "Gjg5rhGa-V27",
        "colab": {}
      },
      "source": [
        "model = xgb.XGBClassifier(n_jobs=-1,\n",
        "                      nthread=-1,\n",
        "                      scale_pos_weight=1,\n",
        "                      learning_rate=0.01,  \n",
        "                      colsample_bytree = 0.8, \n",
        "                      subsample = 0.7,\n",
        "                      objective='binary:logistic', \n",
        "                      n_estimators=845,\n",
        "                      reg_alpha = 0,\n",
        "                      max_depth=6, random_state=42\n",
        "                     )"
      ],
      "execution_count": null,
      "outputs": []
    },
    {
      "cell_type": "code",
      "metadata": {
        "colab_type": "code",
        "id": "8Q0dR9Kt-V2-",
        "colab": {
          "base_uri": "https://localhost:8080/",
          "height": 1000
        },
        "outputId": "1ea75310-a158-4660-f5b6-c013bc068174"
      },
      "source": [
        "#https://towardsdatascience.com/fine-tuning-xgboost-in-python-like-a-boss-b4543ed8b1e\n",
        "\"\"\"\n",
        "manually changed each parameters 1 by 1 and compared the validation auc\n",
        "and selected the best parameter value\n",
        "\"\"\"\n",
        "eval_metric = ['auc','error']\n",
        "%time model.fit(X_train_200,y_train,eval_set=[(X_val_200,y_val)],eval_metric=eval_metric,verbose=True)"
      ],
      "execution_count": null,
      "outputs": [
        {
          "output_type": "stream",
          "text": [
            "[0]\tvalidation_0-auc:0.80189\tvalidation_0-error:0.04034\n",
            "[1]\tvalidation_0-auc:0.802263\tvalidation_0-error:0.039902\n",
            "[2]\tvalidation_0-auc:0.808059\tvalidation_0-error:0.039639\n",
            "[3]\tvalidation_0-auc:0.8174\tvalidation_0-error:0.039639\n",
            "[4]\tvalidation_0-auc:0.819699\tvalidation_0-error:0.039551\n",
            "[5]\tvalidation_0-auc:0.825406\tvalidation_0-error:0.039551\n",
            "[6]\tvalidation_0-auc:0.826812\tvalidation_0-error:0.039551\n",
            "[7]\tvalidation_0-auc:0.827184\tvalidation_0-error:0.039551\n",
            "[8]\tvalidation_0-auc:0.827395\tvalidation_0-error:0.039551\n",
            "[9]\tvalidation_0-auc:0.828242\tvalidation_0-error:0.039551\n",
            "[10]\tvalidation_0-auc:0.829061\tvalidation_0-error:0.039551\n",
            "[11]\tvalidation_0-auc:0.82857\tvalidation_0-error:0.039551\n",
            "[12]\tvalidation_0-auc:0.828526\tvalidation_0-error:0.039551\n",
            "[13]\tvalidation_0-auc:0.828826\tvalidation_0-error:0.039551\n",
            "[14]\tvalidation_0-auc:0.828514\tvalidation_0-error:0.039551\n",
            "[15]\tvalidation_0-auc:0.829195\tvalidation_0-error:0.039551\n",
            "[16]\tvalidation_0-auc:0.82963\tvalidation_0-error:0.039551\n",
            "[17]\tvalidation_0-auc:0.829943\tvalidation_0-error:0.039551\n",
            "[18]\tvalidation_0-auc:0.830086\tvalidation_0-error:0.039551\n",
            "[19]\tvalidation_0-auc:0.82994\tvalidation_0-error:0.039551\n",
            "[20]\tvalidation_0-auc:0.830524\tvalidation_0-error:0.039551\n",
            "[21]\tvalidation_0-auc:0.830608\tvalidation_0-error:0.039551\n",
            "[22]\tvalidation_0-auc:0.830238\tvalidation_0-error:0.039551\n",
            "[23]\tvalidation_0-auc:0.830413\tvalidation_0-error:0.039551\n",
            "[24]\tvalidation_0-auc:0.83023\tvalidation_0-error:0.039551\n",
            "[25]\tvalidation_0-auc:0.830981\tvalidation_0-error:0.039551\n",
            "[26]\tvalidation_0-auc:0.830758\tvalidation_0-error:0.039551\n",
            "[27]\tvalidation_0-auc:0.830477\tvalidation_0-error:0.039551\n",
            "[28]\tvalidation_0-auc:0.830652\tvalidation_0-error:0.039551\n",
            "[29]\tvalidation_0-auc:0.831124\tvalidation_0-error:0.039551\n",
            "[30]\tvalidation_0-auc:0.831217\tvalidation_0-error:0.039551\n",
            "[31]\tvalidation_0-auc:0.831649\tvalidation_0-error:0.039551\n",
            "[32]\tvalidation_0-auc:0.831754\tvalidation_0-error:0.039551\n",
            "[33]\tvalidation_0-auc:0.831837\tvalidation_0-error:0.039551\n",
            "[34]\tvalidation_0-auc:0.832194\tvalidation_0-error:0.039551\n",
            "[35]\tvalidation_0-auc:0.832241\tvalidation_0-error:0.039551\n",
            "[36]\tvalidation_0-auc:0.832356\tvalidation_0-error:0.039551\n",
            "[37]\tvalidation_0-auc:0.832754\tvalidation_0-error:0.039551\n",
            "[38]\tvalidation_0-auc:0.832619\tvalidation_0-error:0.039551\n",
            "[39]\tvalidation_0-auc:0.832401\tvalidation_0-error:0.039551\n",
            "[40]\tvalidation_0-auc:0.832505\tvalidation_0-error:0.039551\n",
            "[41]\tvalidation_0-auc:0.832814\tvalidation_0-error:0.039551\n",
            "[42]\tvalidation_0-auc:0.833153\tvalidation_0-error:0.039551\n",
            "[43]\tvalidation_0-auc:0.833173\tvalidation_0-error:0.039551\n",
            "[44]\tvalidation_0-auc:0.833187\tvalidation_0-error:0.039551\n",
            "[45]\tvalidation_0-auc:0.833308\tvalidation_0-error:0.039551\n",
            "[46]\tvalidation_0-auc:0.833006\tvalidation_0-error:0.039551\n",
            "[47]\tvalidation_0-auc:0.833008\tvalidation_0-error:0.039551\n",
            "[48]\tvalidation_0-auc:0.833176\tvalidation_0-error:0.039551\n",
            "[49]\tvalidation_0-auc:0.832872\tvalidation_0-error:0.039551\n",
            "[50]\tvalidation_0-auc:0.832988\tvalidation_0-error:0.039551\n",
            "[51]\tvalidation_0-auc:0.833129\tvalidation_0-error:0.039551\n",
            "[52]\tvalidation_0-auc:0.833154\tvalidation_0-error:0.039551\n",
            "[53]\tvalidation_0-auc:0.833189\tvalidation_0-error:0.039551\n",
            "[54]\tvalidation_0-auc:0.833927\tvalidation_0-error:0.039551\n",
            "[55]\tvalidation_0-auc:0.834082\tvalidation_0-error:0.039551\n",
            "[56]\tvalidation_0-auc:0.833735\tvalidation_0-error:0.039551\n",
            "[57]\tvalidation_0-auc:0.833621\tvalidation_0-error:0.039551\n",
            "[58]\tvalidation_0-auc:0.834255\tvalidation_0-error:0.039551\n",
            "[59]\tvalidation_0-auc:0.834065\tvalidation_0-error:0.039551\n",
            "[60]\tvalidation_0-auc:0.833965\tvalidation_0-error:0.039551\n",
            "[61]\tvalidation_0-auc:0.834052\tvalidation_0-error:0.039551\n",
            "[62]\tvalidation_0-auc:0.833968\tvalidation_0-error:0.039551\n",
            "[63]\tvalidation_0-auc:0.833779\tvalidation_0-error:0.039551\n",
            "[64]\tvalidation_0-auc:0.834314\tvalidation_0-error:0.039551\n",
            "[65]\tvalidation_0-auc:0.83455\tvalidation_0-error:0.039551\n",
            "[66]\tvalidation_0-auc:0.834624\tvalidation_0-error:0.039551\n",
            "[67]\tvalidation_0-auc:0.834658\tvalidation_0-error:0.039551\n",
            "[68]\tvalidation_0-auc:0.835124\tvalidation_0-error:0.039551\n",
            "[69]\tvalidation_0-auc:0.835042\tvalidation_0-error:0.039551\n",
            "[70]\tvalidation_0-auc:0.834899\tvalidation_0-error:0.039551\n",
            "[71]\tvalidation_0-auc:0.835218\tvalidation_0-error:0.039551\n",
            "[72]\tvalidation_0-auc:0.835304\tvalidation_0-error:0.039551\n",
            "[73]\tvalidation_0-auc:0.835085\tvalidation_0-error:0.039551\n",
            "[74]\tvalidation_0-auc:0.834876\tvalidation_0-error:0.039551\n",
            "[75]\tvalidation_0-auc:0.835142\tvalidation_0-error:0.039551\n",
            "[76]\tvalidation_0-auc:0.835141\tvalidation_0-error:0.039551\n",
            "[77]\tvalidation_0-auc:0.835126\tvalidation_0-error:0.039551\n",
            "[78]\tvalidation_0-auc:0.835113\tvalidation_0-error:0.039551\n",
            "[79]\tvalidation_0-auc:0.835073\tvalidation_0-error:0.039551\n",
            "[80]\tvalidation_0-auc:0.835278\tvalidation_0-error:0.039551\n",
            "[81]\tvalidation_0-auc:0.835108\tvalidation_0-error:0.039551\n",
            "[82]\tvalidation_0-auc:0.835202\tvalidation_0-error:0.039551\n",
            "[83]\tvalidation_0-auc:0.835409\tvalidation_0-error:0.039551\n",
            "[84]\tvalidation_0-auc:0.8354\tvalidation_0-error:0.039551\n",
            "[85]\tvalidation_0-auc:0.835452\tvalidation_0-error:0.039551\n",
            "[86]\tvalidation_0-auc:0.835684\tvalidation_0-error:0.039551\n",
            "[87]\tvalidation_0-auc:0.835448\tvalidation_0-error:0.039551\n",
            "[88]\tvalidation_0-auc:0.835154\tvalidation_0-error:0.039551\n",
            "[89]\tvalidation_0-auc:0.835368\tvalidation_0-error:0.039551\n",
            "[90]\tvalidation_0-auc:0.835555\tvalidation_0-error:0.039551\n",
            "[91]\tvalidation_0-auc:0.835927\tvalidation_0-error:0.039551\n",
            "[92]\tvalidation_0-auc:0.835988\tvalidation_0-error:0.039551\n",
            "[93]\tvalidation_0-auc:0.836049\tvalidation_0-error:0.039551\n",
            "[94]\tvalidation_0-auc:0.836164\tvalidation_0-error:0.039551\n",
            "[95]\tvalidation_0-auc:0.836044\tvalidation_0-error:0.039551\n",
            "[96]\tvalidation_0-auc:0.835925\tvalidation_0-error:0.039551\n",
            "[97]\tvalidation_0-auc:0.836242\tvalidation_0-error:0.039551\n",
            "[98]\tvalidation_0-auc:0.836311\tvalidation_0-error:0.039551\n",
            "[99]\tvalidation_0-auc:0.836065\tvalidation_0-error:0.039551\n",
            "[100]\tvalidation_0-auc:0.836\tvalidation_0-error:0.039551\n",
            "[101]\tvalidation_0-auc:0.835979\tvalidation_0-error:0.039551\n",
            "[102]\tvalidation_0-auc:0.835937\tvalidation_0-error:0.039551\n",
            "[103]\tvalidation_0-auc:0.835971\tvalidation_0-error:0.039551\n",
            "[104]\tvalidation_0-auc:0.835917\tvalidation_0-error:0.039551\n",
            "[105]\tvalidation_0-auc:0.836071\tvalidation_0-error:0.039551\n",
            "[106]\tvalidation_0-auc:0.836005\tvalidation_0-error:0.039551\n",
            "[107]\tvalidation_0-auc:0.836264\tvalidation_0-error:0.039551\n",
            "[108]\tvalidation_0-auc:0.836074\tvalidation_0-error:0.039551\n",
            "[109]\tvalidation_0-auc:0.835942\tvalidation_0-error:0.039551\n",
            "[110]\tvalidation_0-auc:0.83574\tvalidation_0-error:0.039551\n",
            "[111]\tvalidation_0-auc:0.835633\tvalidation_0-error:0.039551\n",
            "[112]\tvalidation_0-auc:0.835862\tvalidation_0-error:0.039551\n",
            "[113]\tvalidation_0-auc:0.835885\tvalidation_0-error:0.039551\n",
            "[114]\tvalidation_0-auc:0.835927\tvalidation_0-error:0.039551\n",
            "[115]\tvalidation_0-auc:0.836011\tvalidation_0-error:0.039551\n",
            "[116]\tvalidation_0-auc:0.836325\tvalidation_0-error:0.039551\n",
            "[117]\tvalidation_0-auc:0.836692\tvalidation_0-error:0.039551\n",
            "[118]\tvalidation_0-auc:0.836695\tvalidation_0-error:0.039551\n",
            "[119]\tvalidation_0-auc:0.83673\tvalidation_0-error:0.039551\n",
            "[120]\tvalidation_0-auc:0.836686\tvalidation_0-error:0.039551\n",
            "[121]\tvalidation_0-auc:0.836741\tvalidation_0-error:0.039551\n",
            "[122]\tvalidation_0-auc:0.83678\tvalidation_0-error:0.039551\n",
            "[123]\tvalidation_0-auc:0.836764\tvalidation_0-error:0.039551\n",
            "[124]\tvalidation_0-auc:0.836709\tvalidation_0-error:0.039551\n",
            "[125]\tvalidation_0-auc:0.836865\tvalidation_0-error:0.039551\n",
            "[126]\tvalidation_0-auc:0.837027\tvalidation_0-error:0.039551\n",
            "[127]\tvalidation_0-auc:0.836915\tvalidation_0-error:0.039551\n",
            "[128]\tvalidation_0-auc:0.836995\tvalidation_0-error:0.039551\n",
            "[129]\tvalidation_0-auc:0.837258\tvalidation_0-error:0.039551\n",
            "[130]\tvalidation_0-auc:0.837289\tvalidation_0-error:0.039551\n",
            "[131]\tvalidation_0-auc:0.837296\tvalidation_0-error:0.039551\n",
            "[132]\tvalidation_0-auc:0.837368\tvalidation_0-error:0.039551\n",
            "[133]\tvalidation_0-auc:0.837295\tvalidation_0-error:0.039551\n",
            "[134]\tvalidation_0-auc:0.837533\tvalidation_0-error:0.039551\n",
            "[135]\tvalidation_0-auc:0.837503\tvalidation_0-error:0.039551\n",
            "[136]\tvalidation_0-auc:0.837635\tvalidation_0-error:0.039551\n",
            "[137]\tvalidation_0-auc:0.837775\tvalidation_0-error:0.039551\n",
            "[138]\tvalidation_0-auc:0.837814\tvalidation_0-error:0.039551\n",
            "[139]\tvalidation_0-auc:0.837573\tvalidation_0-error:0.039551\n",
            "[140]\tvalidation_0-auc:0.837669\tvalidation_0-error:0.039551\n",
            "[141]\tvalidation_0-auc:0.837683\tvalidation_0-error:0.039551\n",
            "[142]\tvalidation_0-auc:0.837547\tvalidation_0-error:0.039551\n",
            "[143]\tvalidation_0-auc:0.837501\tvalidation_0-error:0.039551\n",
            "[144]\tvalidation_0-auc:0.83773\tvalidation_0-error:0.039551\n",
            "[145]\tvalidation_0-auc:0.837541\tvalidation_0-error:0.039551\n",
            "[146]\tvalidation_0-auc:0.837747\tvalidation_0-error:0.039551\n",
            "[147]\tvalidation_0-auc:0.837722\tvalidation_0-error:0.039551\n",
            "[148]\tvalidation_0-auc:0.837695\tvalidation_0-error:0.039551\n",
            "[149]\tvalidation_0-auc:0.837758\tvalidation_0-error:0.039551\n",
            "[150]\tvalidation_0-auc:0.837696\tvalidation_0-error:0.039551\n",
            "[151]\tvalidation_0-auc:0.837841\tvalidation_0-error:0.039551\n",
            "[152]\tvalidation_0-auc:0.837967\tvalidation_0-error:0.039551\n",
            "[153]\tvalidation_0-auc:0.83795\tvalidation_0-error:0.039551\n",
            "[154]\tvalidation_0-auc:0.837971\tvalidation_0-error:0.039551\n",
            "[155]\tvalidation_0-auc:0.837821\tvalidation_0-error:0.039551\n",
            "[156]\tvalidation_0-auc:0.838044\tvalidation_0-error:0.039551\n",
            "[157]\tvalidation_0-auc:0.837868\tvalidation_0-error:0.039551\n",
            "[158]\tvalidation_0-auc:0.837794\tvalidation_0-error:0.039551\n",
            "[159]\tvalidation_0-auc:0.837776\tvalidation_0-error:0.039551\n",
            "[160]\tvalidation_0-auc:0.837913\tvalidation_0-error:0.039551\n",
            "[161]\tvalidation_0-auc:0.838004\tvalidation_0-error:0.039551\n",
            "[162]\tvalidation_0-auc:0.837967\tvalidation_0-error:0.039551\n",
            "[163]\tvalidation_0-auc:0.838079\tvalidation_0-error:0.039551\n",
            "[164]\tvalidation_0-auc:0.838138\tvalidation_0-error:0.039551\n",
            "[165]\tvalidation_0-auc:0.838055\tvalidation_0-error:0.039551\n",
            "[166]\tvalidation_0-auc:0.838189\tvalidation_0-error:0.039551\n",
            "[167]\tvalidation_0-auc:0.838108\tvalidation_0-error:0.039551\n",
            "[168]\tvalidation_0-auc:0.838176\tvalidation_0-error:0.039551\n",
            "[169]\tvalidation_0-auc:0.838363\tvalidation_0-error:0.039551\n",
            "[170]\tvalidation_0-auc:0.838453\tvalidation_0-error:0.039551\n",
            "[171]\tvalidation_0-auc:0.838616\tvalidation_0-error:0.039551\n",
            "[172]\tvalidation_0-auc:0.838742\tvalidation_0-error:0.039551\n",
            "[173]\tvalidation_0-auc:0.838784\tvalidation_0-error:0.039551\n",
            "[174]\tvalidation_0-auc:0.838783\tvalidation_0-error:0.039551\n",
            "[175]\tvalidation_0-auc:0.838803\tvalidation_0-error:0.039551\n",
            "[176]\tvalidation_0-auc:0.838842\tvalidation_0-error:0.039551\n",
            "[177]\tvalidation_0-auc:0.839391\tvalidation_0-error:0.039551\n",
            "[178]\tvalidation_0-auc:0.839398\tvalidation_0-error:0.039551\n",
            "[179]\tvalidation_0-auc:0.839476\tvalidation_0-error:0.039551\n",
            "[180]\tvalidation_0-auc:0.839496\tvalidation_0-error:0.039551\n",
            "[181]\tvalidation_0-auc:0.839555\tvalidation_0-error:0.039551\n",
            "[182]\tvalidation_0-auc:0.839533\tvalidation_0-error:0.039551\n",
            "[183]\tvalidation_0-auc:0.839585\tvalidation_0-error:0.039551\n",
            "[184]\tvalidation_0-auc:0.839923\tvalidation_0-error:0.039551\n",
            "[185]\tvalidation_0-auc:0.840002\tvalidation_0-error:0.039551\n",
            "[186]\tvalidation_0-auc:0.839804\tvalidation_0-error:0.039551\n",
            "[187]\tvalidation_0-auc:0.840002\tvalidation_0-error:0.039551\n",
            "[188]\tvalidation_0-auc:0.840012\tvalidation_0-error:0.039551\n",
            "[189]\tvalidation_0-auc:0.84001\tvalidation_0-error:0.039551\n",
            "[190]\tvalidation_0-auc:0.840263\tvalidation_0-error:0.039551\n",
            "[191]\tvalidation_0-auc:0.840306\tvalidation_0-error:0.039551\n",
            "[192]\tvalidation_0-auc:0.840423\tvalidation_0-error:0.039551\n",
            "[193]\tvalidation_0-auc:0.8404\tvalidation_0-error:0.039551\n",
            "[194]\tvalidation_0-auc:0.840463\tvalidation_0-error:0.039551\n",
            "[195]\tvalidation_0-auc:0.840445\tvalidation_0-error:0.039551\n",
            "[196]\tvalidation_0-auc:0.840462\tvalidation_0-error:0.039551\n",
            "[197]\tvalidation_0-auc:0.840288\tvalidation_0-error:0.039551\n",
            "[198]\tvalidation_0-auc:0.840199\tvalidation_0-error:0.039551\n",
            "[199]\tvalidation_0-auc:0.840358\tvalidation_0-error:0.039551\n",
            "[200]\tvalidation_0-auc:0.840484\tvalidation_0-error:0.039551\n",
            "[201]\tvalidation_0-auc:0.840478\tvalidation_0-error:0.039551\n",
            "[202]\tvalidation_0-auc:0.840556\tvalidation_0-error:0.039551\n",
            "[203]\tvalidation_0-auc:0.84064\tvalidation_0-error:0.039551\n",
            "[204]\tvalidation_0-auc:0.840571\tvalidation_0-error:0.039551\n",
            "[205]\tvalidation_0-auc:0.840617\tvalidation_0-error:0.039551\n",
            "[206]\tvalidation_0-auc:0.840617\tvalidation_0-error:0.039551\n",
            "[207]\tvalidation_0-auc:0.840686\tvalidation_0-error:0.039551\n",
            "[208]\tvalidation_0-auc:0.840661\tvalidation_0-error:0.039551\n",
            "[209]\tvalidation_0-auc:0.840725\tvalidation_0-error:0.039551\n",
            "[210]\tvalidation_0-auc:0.840869\tvalidation_0-error:0.039551\n",
            "[211]\tvalidation_0-auc:0.840886\tvalidation_0-error:0.039551\n",
            "[212]\tvalidation_0-auc:0.840958\tvalidation_0-error:0.039551\n",
            "[213]\tvalidation_0-auc:0.840925\tvalidation_0-error:0.039551\n",
            "[214]\tvalidation_0-auc:0.841005\tvalidation_0-error:0.039551\n",
            "[215]\tvalidation_0-auc:0.841055\tvalidation_0-error:0.039551\n",
            "[216]\tvalidation_0-auc:0.840971\tvalidation_0-error:0.039551\n",
            "[217]\tvalidation_0-auc:0.840974\tvalidation_0-error:0.039551\n",
            "[218]\tvalidation_0-auc:0.840942\tvalidation_0-error:0.039551\n",
            "[219]\tvalidation_0-auc:0.840932\tvalidation_0-error:0.039551\n",
            "[220]\tvalidation_0-auc:0.841031\tvalidation_0-error:0.039551\n",
            "[221]\tvalidation_0-auc:0.841031\tvalidation_0-error:0.039551\n",
            "[222]\tvalidation_0-auc:0.841048\tvalidation_0-error:0.039551\n",
            "[223]\tvalidation_0-auc:0.841197\tvalidation_0-error:0.039551\n",
            "[224]\tvalidation_0-auc:0.841191\tvalidation_0-error:0.039551\n",
            "[225]\tvalidation_0-auc:0.84116\tvalidation_0-error:0.039551\n",
            "[226]\tvalidation_0-auc:0.841028\tvalidation_0-error:0.039551\n",
            "[227]\tvalidation_0-auc:0.841012\tvalidation_0-error:0.039551\n",
            "[228]\tvalidation_0-auc:0.840986\tvalidation_0-error:0.039551\n",
            "[229]\tvalidation_0-auc:0.841062\tvalidation_0-error:0.039551\n",
            "[230]\tvalidation_0-auc:0.841082\tvalidation_0-error:0.039551\n",
            "[231]\tvalidation_0-auc:0.841195\tvalidation_0-error:0.039551\n",
            "[232]\tvalidation_0-auc:0.841272\tvalidation_0-error:0.039551\n",
            "[233]\tvalidation_0-auc:0.841352\tvalidation_0-error:0.039551\n",
            "[234]\tvalidation_0-auc:0.841314\tvalidation_0-error:0.039551\n",
            "[235]\tvalidation_0-auc:0.841246\tvalidation_0-error:0.039551\n",
            "[236]\tvalidation_0-auc:0.841085\tvalidation_0-error:0.039551\n",
            "[237]\tvalidation_0-auc:0.841177\tvalidation_0-error:0.039551\n",
            "[238]\tvalidation_0-auc:0.841203\tvalidation_0-error:0.039551\n",
            "[239]\tvalidation_0-auc:0.841181\tvalidation_0-error:0.039551\n",
            "[240]\tvalidation_0-auc:0.841341\tvalidation_0-error:0.039551\n",
            "[241]\tvalidation_0-auc:0.841426\tvalidation_0-error:0.039551\n",
            "[242]\tvalidation_0-auc:0.841404\tvalidation_0-error:0.039551\n",
            "[243]\tvalidation_0-auc:0.841462\tvalidation_0-error:0.039551\n",
            "[244]\tvalidation_0-auc:0.841488\tvalidation_0-error:0.039551\n",
            "[245]\tvalidation_0-auc:0.841318\tvalidation_0-error:0.039551\n",
            "[246]\tvalidation_0-auc:0.841339\tvalidation_0-error:0.039551\n",
            "[247]\tvalidation_0-auc:0.841285\tvalidation_0-error:0.039551\n",
            "[248]\tvalidation_0-auc:0.841265\tvalidation_0-error:0.039551\n",
            "[249]\tvalidation_0-auc:0.841329\tvalidation_0-error:0.039551\n",
            "[250]\tvalidation_0-auc:0.841331\tvalidation_0-error:0.039551\n",
            "[251]\tvalidation_0-auc:0.841295\tvalidation_0-error:0.039551\n",
            "[252]\tvalidation_0-auc:0.841278\tvalidation_0-error:0.039551\n",
            "[253]\tvalidation_0-auc:0.841208\tvalidation_0-error:0.039551\n",
            "[254]\tvalidation_0-auc:0.841248\tvalidation_0-error:0.039551\n",
            "[255]\tvalidation_0-auc:0.841362\tvalidation_0-error:0.039551\n",
            "[256]\tvalidation_0-auc:0.841287\tvalidation_0-error:0.039551\n",
            "[257]\tvalidation_0-auc:0.841339\tvalidation_0-error:0.039551\n",
            "[258]\tvalidation_0-auc:0.841372\tvalidation_0-error:0.039551\n",
            "[259]\tvalidation_0-auc:0.841505\tvalidation_0-error:0.039551\n",
            "[260]\tvalidation_0-auc:0.84152\tvalidation_0-error:0.039551\n",
            "[261]\tvalidation_0-auc:0.841462\tvalidation_0-error:0.039551\n",
            "[262]\tvalidation_0-auc:0.84144\tvalidation_0-error:0.039551\n",
            "[263]\tvalidation_0-auc:0.8414\tvalidation_0-error:0.039551\n",
            "[264]\tvalidation_0-auc:0.841424\tvalidation_0-error:0.039551\n",
            "[265]\tvalidation_0-auc:0.841481\tvalidation_0-error:0.039551\n",
            "[266]\tvalidation_0-auc:0.841575\tvalidation_0-error:0.039551\n",
            "[267]\tvalidation_0-auc:0.84154\tvalidation_0-error:0.039551\n",
            "[268]\tvalidation_0-auc:0.841715\tvalidation_0-error:0.039551\n",
            "[269]\tvalidation_0-auc:0.841955\tvalidation_0-error:0.039551\n",
            "[270]\tvalidation_0-auc:0.841925\tvalidation_0-error:0.039551\n",
            "[271]\tvalidation_0-auc:0.841933\tvalidation_0-error:0.039551\n",
            "[272]\tvalidation_0-auc:0.842003\tvalidation_0-error:0.039551\n",
            "[273]\tvalidation_0-auc:0.841964\tvalidation_0-error:0.039551\n",
            "[274]\tvalidation_0-auc:0.842068\tvalidation_0-error:0.039551\n",
            "[275]\tvalidation_0-auc:0.842053\tvalidation_0-error:0.039551\n",
            "[276]\tvalidation_0-auc:0.842078\tvalidation_0-error:0.039551\n",
            "[277]\tvalidation_0-auc:0.842023\tvalidation_0-error:0.039551\n",
            "[278]\tvalidation_0-auc:0.842151\tvalidation_0-error:0.039551\n",
            "[279]\tvalidation_0-auc:0.842194\tvalidation_0-error:0.039551\n",
            "[280]\tvalidation_0-auc:0.842173\tvalidation_0-error:0.039551\n",
            "[281]\tvalidation_0-auc:0.842206\tvalidation_0-error:0.039551\n",
            "[282]\tvalidation_0-auc:0.842265\tvalidation_0-error:0.039551\n",
            "[283]\tvalidation_0-auc:0.842264\tvalidation_0-error:0.039551\n",
            "[284]\tvalidation_0-auc:0.842399\tvalidation_0-error:0.039551\n",
            "[285]\tvalidation_0-auc:0.842238\tvalidation_0-error:0.039551\n",
            "[286]\tvalidation_0-auc:0.842217\tvalidation_0-error:0.039551\n",
            "[287]\tvalidation_0-auc:0.842305\tvalidation_0-error:0.039551\n",
            "[288]\tvalidation_0-auc:0.842455\tvalidation_0-error:0.039551\n",
            "[289]\tvalidation_0-auc:0.842498\tvalidation_0-error:0.039551\n",
            "[290]\tvalidation_0-auc:0.842465\tvalidation_0-error:0.039551\n",
            "[291]\tvalidation_0-auc:0.84256\tvalidation_0-error:0.039551\n",
            "[292]\tvalidation_0-auc:0.842612\tvalidation_0-error:0.039551\n",
            "[293]\tvalidation_0-auc:0.842489\tvalidation_0-error:0.039551\n",
            "[294]\tvalidation_0-auc:0.842606\tvalidation_0-error:0.039551\n",
            "[295]\tvalidation_0-auc:0.842564\tvalidation_0-error:0.039551\n",
            "[296]\tvalidation_0-auc:0.842609\tvalidation_0-error:0.039551\n",
            "[297]\tvalidation_0-auc:0.84256\tvalidation_0-error:0.039551\n",
            "[298]\tvalidation_0-auc:0.842493\tvalidation_0-error:0.039551\n",
            "[299]\tvalidation_0-auc:0.842601\tvalidation_0-error:0.039551\n",
            "[300]\tvalidation_0-auc:0.842745\tvalidation_0-error:0.039551\n",
            "[301]\tvalidation_0-auc:0.842729\tvalidation_0-error:0.039551\n",
            "[302]\tvalidation_0-auc:0.842709\tvalidation_0-error:0.039551\n",
            "[303]\tvalidation_0-auc:0.842699\tvalidation_0-error:0.039551\n",
            "[304]\tvalidation_0-auc:0.842806\tvalidation_0-error:0.039551\n",
            "[305]\tvalidation_0-auc:0.84275\tvalidation_0-error:0.039551\n",
            "[306]\tvalidation_0-auc:0.842785\tvalidation_0-error:0.039551\n",
            "[307]\tvalidation_0-auc:0.842793\tvalidation_0-error:0.039551\n",
            "[308]\tvalidation_0-auc:0.842826\tvalidation_0-error:0.039551\n",
            "[309]\tvalidation_0-auc:0.842867\tvalidation_0-error:0.039551\n",
            "[310]\tvalidation_0-auc:0.842901\tvalidation_0-error:0.039551\n",
            "[311]\tvalidation_0-auc:0.842919\tvalidation_0-error:0.039551\n",
            "[312]\tvalidation_0-auc:0.842847\tvalidation_0-error:0.039551\n",
            "[313]\tvalidation_0-auc:0.842936\tvalidation_0-error:0.039551\n",
            "[314]\tvalidation_0-auc:0.843012\tvalidation_0-error:0.039551\n",
            "[315]\tvalidation_0-auc:0.843044\tvalidation_0-error:0.039551\n",
            "[316]\tvalidation_0-auc:0.843092\tvalidation_0-error:0.039551\n",
            "[317]\tvalidation_0-auc:0.843139\tvalidation_0-error:0.039551\n",
            "[318]\tvalidation_0-auc:0.84315\tvalidation_0-error:0.039551\n",
            "[319]\tvalidation_0-auc:0.843166\tvalidation_0-error:0.039551\n",
            "[320]\tvalidation_0-auc:0.843194\tvalidation_0-error:0.039551\n",
            "[321]\tvalidation_0-auc:0.843224\tvalidation_0-error:0.039551\n",
            "[322]\tvalidation_0-auc:0.843265\tvalidation_0-error:0.039551\n",
            "[323]\tvalidation_0-auc:0.843363\tvalidation_0-error:0.039551\n",
            "[324]\tvalidation_0-auc:0.84338\tvalidation_0-error:0.039551\n",
            "[325]\tvalidation_0-auc:0.843359\tvalidation_0-error:0.039551\n",
            "[326]\tvalidation_0-auc:0.8434\tvalidation_0-error:0.039551\n",
            "[327]\tvalidation_0-auc:0.843308\tvalidation_0-error:0.039551\n",
            "[328]\tvalidation_0-auc:0.843416\tvalidation_0-error:0.039551\n",
            "[329]\tvalidation_0-auc:0.843599\tvalidation_0-error:0.039551\n",
            "[330]\tvalidation_0-auc:0.84359\tvalidation_0-error:0.039551\n",
            "[331]\tvalidation_0-auc:0.843658\tvalidation_0-error:0.039551\n",
            "[332]\tvalidation_0-auc:0.843741\tvalidation_0-error:0.039551\n",
            "[333]\tvalidation_0-auc:0.843747\tvalidation_0-error:0.039551\n",
            "[334]\tvalidation_0-auc:0.843814\tvalidation_0-error:0.039551\n",
            "[335]\tvalidation_0-auc:0.843827\tvalidation_0-error:0.039551\n",
            "[336]\tvalidation_0-auc:0.843824\tvalidation_0-error:0.039551\n",
            "[337]\tvalidation_0-auc:0.843844\tvalidation_0-error:0.039551\n",
            "[338]\tvalidation_0-auc:0.843806\tvalidation_0-error:0.039551\n",
            "[339]\tvalidation_0-auc:0.843779\tvalidation_0-error:0.039551\n",
            "[340]\tvalidation_0-auc:0.843786\tvalidation_0-error:0.039551\n",
            "[341]\tvalidation_0-auc:0.84382\tvalidation_0-error:0.039551\n",
            "[342]\tvalidation_0-auc:0.843854\tvalidation_0-error:0.039551\n",
            "[343]\tvalidation_0-auc:0.843881\tvalidation_0-error:0.039551\n",
            "[344]\tvalidation_0-auc:0.843877\tvalidation_0-error:0.039551\n",
            "[345]\tvalidation_0-auc:0.843911\tvalidation_0-error:0.039551\n",
            "[346]\tvalidation_0-auc:0.84396\tvalidation_0-error:0.039551\n",
            "[347]\tvalidation_0-auc:0.844022\tvalidation_0-error:0.039551\n",
            "[348]\tvalidation_0-auc:0.84405\tvalidation_0-error:0.039551\n",
            "[349]\tvalidation_0-auc:0.844043\tvalidation_0-error:0.039551\n",
            "[350]\tvalidation_0-auc:0.844069\tvalidation_0-error:0.039551\n",
            "[351]\tvalidation_0-auc:0.844061\tvalidation_0-error:0.039551\n",
            "[352]\tvalidation_0-auc:0.844129\tvalidation_0-error:0.039551\n",
            "[353]\tvalidation_0-auc:0.844151\tvalidation_0-error:0.039551\n",
            "[354]\tvalidation_0-auc:0.844099\tvalidation_0-error:0.039551\n",
            "[355]\tvalidation_0-auc:0.844109\tvalidation_0-error:0.039551\n",
            "[356]\tvalidation_0-auc:0.844186\tvalidation_0-error:0.039551\n",
            "[357]\tvalidation_0-auc:0.844228\tvalidation_0-error:0.039551\n",
            "[358]\tvalidation_0-auc:0.844218\tvalidation_0-error:0.039551\n",
            "[359]\tvalidation_0-auc:0.844237\tvalidation_0-error:0.039551\n",
            "[360]\tvalidation_0-auc:0.844254\tvalidation_0-error:0.039551\n",
            "[361]\tvalidation_0-auc:0.844275\tvalidation_0-error:0.039551\n",
            "[362]\tvalidation_0-auc:0.844308\tvalidation_0-error:0.039551\n",
            "[363]\tvalidation_0-auc:0.844294\tvalidation_0-error:0.039551\n",
            "[364]\tvalidation_0-auc:0.844291\tvalidation_0-error:0.039551\n",
            "[365]\tvalidation_0-auc:0.844367\tvalidation_0-error:0.039551\n",
            "[366]\tvalidation_0-auc:0.84446\tvalidation_0-error:0.039551\n",
            "[367]\tvalidation_0-auc:0.844466\tvalidation_0-error:0.039551\n",
            "[368]\tvalidation_0-auc:0.844512\tvalidation_0-error:0.039551\n",
            "[369]\tvalidation_0-auc:0.844608\tvalidation_0-error:0.039551\n",
            "[370]\tvalidation_0-auc:0.844666\tvalidation_0-error:0.039551\n",
            "[371]\tvalidation_0-auc:0.844704\tvalidation_0-error:0.039551\n",
            "[372]\tvalidation_0-auc:0.844757\tvalidation_0-error:0.039551\n",
            "[373]\tvalidation_0-auc:0.844807\tvalidation_0-error:0.039551\n",
            "[374]\tvalidation_0-auc:0.844958\tvalidation_0-error:0.039551\n",
            "[375]\tvalidation_0-auc:0.844958\tvalidation_0-error:0.039551\n",
            "[376]\tvalidation_0-auc:0.84502\tvalidation_0-error:0.039551\n",
            "[377]\tvalidation_0-auc:0.84498\tvalidation_0-error:0.039551\n",
            "[378]\tvalidation_0-auc:0.845043\tvalidation_0-error:0.039551\n",
            "[379]\tvalidation_0-auc:0.844982\tvalidation_0-error:0.039551\n",
            "[380]\tvalidation_0-auc:0.844997\tvalidation_0-error:0.039551\n",
            "[381]\tvalidation_0-auc:0.845036\tvalidation_0-error:0.039551\n",
            "[382]\tvalidation_0-auc:0.845009\tvalidation_0-error:0.039551\n",
            "[383]\tvalidation_0-auc:0.844985\tvalidation_0-error:0.039551\n",
            "[384]\tvalidation_0-auc:0.84504\tvalidation_0-error:0.039551\n",
            "[385]\tvalidation_0-auc:0.845021\tvalidation_0-error:0.039551\n",
            "[386]\tvalidation_0-auc:0.845033\tvalidation_0-error:0.039551\n",
            "[387]\tvalidation_0-auc:0.845047\tvalidation_0-error:0.039551\n",
            "[388]\tvalidation_0-auc:0.844992\tvalidation_0-error:0.039551\n",
            "[389]\tvalidation_0-auc:0.84496\tvalidation_0-error:0.039551\n",
            "[390]\tvalidation_0-auc:0.844946\tvalidation_0-error:0.039551\n",
            "[391]\tvalidation_0-auc:0.844951\tvalidation_0-error:0.039551\n",
            "[392]\tvalidation_0-auc:0.84493\tvalidation_0-error:0.039551\n",
            "[393]\tvalidation_0-auc:0.844975\tvalidation_0-error:0.039551\n",
            "[394]\tvalidation_0-auc:0.845109\tvalidation_0-error:0.039551\n",
            "[395]\tvalidation_0-auc:0.845195\tvalidation_0-error:0.039551\n",
            "[396]\tvalidation_0-auc:0.845184\tvalidation_0-error:0.039551\n",
            "[397]\tvalidation_0-auc:0.845243\tvalidation_0-error:0.039551\n",
            "[398]\tvalidation_0-auc:0.845262\tvalidation_0-error:0.039551\n",
            "[399]\tvalidation_0-auc:0.845283\tvalidation_0-error:0.039551\n",
            "[400]\tvalidation_0-auc:0.845259\tvalidation_0-error:0.039551\n",
            "[401]\tvalidation_0-auc:0.845298\tvalidation_0-error:0.039551\n",
            "[402]\tvalidation_0-auc:0.845333\tvalidation_0-error:0.039551\n",
            "[403]\tvalidation_0-auc:0.84534\tvalidation_0-error:0.039551\n",
            "[404]\tvalidation_0-auc:0.845283\tvalidation_0-error:0.039551\n",
            "[405]\tvalidation_0-auc:0.845364\tvalidation_0-error:0.039551\n",
            "[406]\tvalidation_0-auc:0.845402\tvalidation_0-error:0.039551\n",
            "[407]\tvalidation_0-auc:0.845439\tvalidation_0-error:0.039551\n",
            "[408]\tvalidation_0-auc:0.845456\tvalidation_0-error:0.039551\n",
            "[409]\tvalidation_0-auc:0.845417\tvalidation_0-error:0.039551\n",
            "[410]\tvalidation_0-auc:0.845476\tvalidation_0-error:0.039551\n",
            "[411]\tvalidation_0-auc:0.845472\tvalidation_0-error:0.039551\n",
            "[412]\tvalidation_0-auc:0.845481\tvalidation_0-error:0.039551\n",
            "[413]\tvalidation_0-auc:0.845465\tvalidation_0-error:0.039551\n",
            "[414]\tvalidation_0-auc:0.845531\tvalidation_0-error:0.039551\n",
            "[415]\tvalidation_0-auc:0.845508\tvalidation_0-error:0.039551\n",
            "[416]\tvalidation_0-auc:0.845515\tvalidation_0-error:0.039551\n",
            "[417]\tvalidation_0-auc:0.845486\tvalidation_0-error:0.039551\n",
            "[418]\tvalidation_0-auc:0.845556\tvalidation_0-error:0.039551\n",
            "[419]\tvalidation_0-auc:0.845532\tvalidation_0-error:0.039551\n",
            "[420]\tvalidation_0-auc:0.845579\tvalidation_0-error:0.039551\n",
            "[421]\tvalidation_0-auc:0.845573\tvalidation_0-error:0.039551\n",
            "[422]\tvalidation_0-auc:0.845557\tvalidation_0-error:0.039551\n",
            "[423]\tvalidation_0-auc:0.845575\tvalidation_0-error:0.039551\n",
            "[424]\tvalidation_0-auc:0.845544\tvalidation_0-error:0.039551\n",
            "[425]\tvalidation_0-auc:0.845535\tvalidation_0-error:0.039551\n",
            "[426]\tvalidation_0-auc:0.845536\tvalidation_0-error:0.039551\n",
            "[427]\tvalidation_0-auc:0.845543\tvalidation_0-error:0.039551\n",
            "[428]\tvalidation_0-auc:0.845582\tvalidation_0-error:0.039551\n",
            "[429]\tvalidation_0-auc:0.845589\tvalidation_0-error:0.039551\n",
            "[430]\tvalidation_0-auc:0.845595\tvalidation_0-error:0.039551\n",
            "[431]\tvalidation_0-auc:0.845607\tvalidation_0-error:0.039551\n",
            "[432]\tvalidation_0-auc:0.845585\tvalidation_0-error:0.039551\n",
            "[433]\tvalidation_0-auc:0.845645\tvalidation_0-error:0.039551\n",
            "[434]\tvalidation_0-auc:0.845661\tvalidation_0-error:0.039551\n",
            "[435]\tvalidation_0-auc:0.84573\tvalidation_0-error:0.039551\n",
            "[436]\tvalidation_0-auc:0.84572\tvalidation_0-error:0.039551\n",
            "[437]\tvalidation_0-auc:0.845748\tvalidation_0-error:0.039551\n",
            "[438]\tvalidation_0-auc:0.845783\tvalidation_0-error:0.039551\n",
            "[439]\tvalidation_0-auc:0.84579\tvalidation_0-error:0.039551\n",
            "[440]\tvalidation_0-auc:0.84579\tvalidation_0-error:0.039551\n",
            "[441]\tvalidation_0-auc:0.84576\tvalidation_0-error:0.039551\n",
            "[442]\tvalidation_0-auc:0.845754\tvalidation_0-error:0.039551\n",
            "[443]\tvalidation_0-auc:0.845735\tvalidation_0-error:0.039551\n",
            "[444]\tvalidation_0-auc:0.845751\tvalidation_0-error:0.039551\n",
            "[445]\tvalidation_0-auc:0.845703\tvalidation_0-error:0.039551\n",
            "[446]\tvalidation_0-auc:0.845649\tvalidation_0-error:0.039551\n",
            "[447]\tvalidation_0-auc:0.845678\tvalidation_0-error:0.039551\n",
            "[448]\tvalidation_0-auc:0.845738\tvalidation_0-error:0.039551\n",
            "[449]\tvalidation_0-auc:0.845673\tvalidation_0-error:0.039551\n",
            "[450]\tvalidation_0-auc:0.845672\tvalidation_0-error:0.039551\n",
            "[451]\tvalidation_0-auc:0.845719\tvalidation_0-error:0.039551\n",
            "[452]\tvalidation_0-auc:0.845772\tvalidation_0-error:0.039551\n",
            "[453]\tvalidation_0-auc:0.845709\tvalidation_0-error:0.039551\n",
            "[454]\tvalidation_0-auc:0.845787\tvalidation_0-error:0.039551\n",
            "[455]\tvalidation_0-auc:0.845811\tvalidation_0-error:0.039551\n",
            "[456]\tvalidation_0-auc:0.845794\tvalidation_0-error:0.039551\n",
            "[457]\tvalidation_0-auc:0.845784\tvalidation_0-error:0.039551\n",
            "[458]\tvalidation_0-auc:0.84582\tvalidation_0-error:0.039551\n",
            "[459]\tvalidation_0-auc:0.845861\tvalidation_0-error:0.039551\n",
            "[460]\tvalidation_0-auc:0.845838\tvalidation_0-error:0.039551\n",
            "[461]\tvalidation_0-auc:0.845842\tvalidation_0-error:0.039551\n",
            "[462]\tvalidation_0-auc:0.845879\tvalidation_0-error:0.039551\n",
            "[463]\tvalidation_0-auc:0.845901\tvalidation_0-error:0.039551\n",
            "[464]\tvalidation_0-auc:0.845939\tvalidation_0-error:0.039551\n",
            "[465]\tvalidation_0-auc:0.84598\tvalidation_0-error:0.039551\n",
            "[466]\tvalidation_0-auc:0.845988\tvalidation_0-error:0.039551\n",
            "[467]\tvalidation_0-auc:0.845976\tvalidation_0-error:0.039551\n",
            "[468]\tvalidation_0-auc:0.845972\tvalidation_0-error:0.039551\n",
            "[469]\tvalidation_0-auc:0.846034\tvalidation_0-error:0.039551\n",
            "[470]\tvalidation_0-auc:0.846131\tvalidation_0-error:0.039551\n",
            "[471]\tvalidation_0-auc:0.846122\tvalidation_0-error:0.039551\n",
            "[472]\tvalidation_0-auc:0.846085\tvalidation_0-error:0.039551\n",
            "[473]\tvalidation_0-auc:0.846063\tvalidation_0-error:0.039551\n",
            "[474]\tvalidation_0-auc:0.846083\tvalidation_0-error:0.039551\n",
            "[475]\tvalidation_0-auc:0.846078\tvalidation_0-error:0.039551\n",
            "[476]\tvalidation_0-auc:0.846075\tvalidation_0-error:0.039551\n",
            "[477]\tvalidation_0-auc:0.846114\tvalidation_0-error:0.039551\n",
            "[478]\tvalidation_0-auc:0.846132\tvalidation_0-error:0.039551\n",
            "[479]\tvalidation_0-auc:0.846173\tvalidation_0-error:0.039551\n",
            "[480]\tvalidation_0-auc:0.846158\tvalidation_0-error:0.039551\n",
            "[481]\tvalidation_0-auc:0.846233\tvalidation_0-error:0.039551\n",
            "[482]\tvalidation_0-auc:0.846239\tvalidation_0-error:0.039551\n",
            "[483]\tvalidation_0-auc:0.846264\tvalidation_0-error:0.039551\n",
            "[484]\tvalidation_0-auc:0.846301\tvalidation_0-error:0.039551\n",
            "[485]\tvalidation_0-auc:0.846273\tvalidation_0-error:0.039551\n",
            "[486]\tvalidation_0-auc:0.846295\tvalidation_0-error:0.039551\n",
            "[487]\tvalidation_0-auc:0.846307\tvalidation_0-error:0.039551\n",
            "[488]\tvalidation_0-auc:0.846326\tvalidation_0-error:0.039551\n",
            "[489]\tvalidation_0-auc:0.846319\tvalidation_0-error:0.039551\n",
            "[490]\tvalidation_0-auc:0.846311\tvalidation_0-error:0.039551\n",
            "[491]\tvalidation_0-auc:0.846352\tvalidation_0-error:0.039551\n",
            "[492]\tvalidation_0-auc:0.846361\tvalidation_0-error:0.039551\n",
            "[493]\tvalidation_0-auc:0.846353\tvalidation_0-error:0.039551\n",
            "[494]\tvalidation_0-auc:0.846372\tvalidation_0-error:0.039551\n",
            "[495]\tvalidation_0-auc:0.846406\tvalidation_0-error:0.039551\n",
            "[496]\tvalidation_0-auc:0.846383\tvalidation_0-error:0.039551\n",
            "[497]\tvalidation_0-auc:0.846413\tvalidation_0-error:0.039551\n",
            "[498]\tvalidation_0-auc:0.846432\tvalidation_0-error:0.039551\n",
            "[499]\tvalidation_0-auc:0.846429\tvalidation_0-error:0.039551\n",
            "[500]\tvalidation_0-auc:0.846445\tvalidation_0-error:0.039551\n",
            "[501]\tvalidation_0-auc:0.846473\tvalidation_0-error:0.039551\n",
            "[502]\tvalidation_0-auc:0.846478\tvalidation_0-error:0.039551\n",
            "[503]\tvalidation_0-auc:0.846552\tvalidation_0-error:0.039551\n",
            "[504]\tvalidation_0-auc:0.846476\tvalidation_0-error:0.039551\n",
            "[505]\tvalidation_0-auc:0.846536\tvalidation_0-error:0.039551\n",
            "[506]\tvalidation_0-auc:0.846547\tvalidation_0-error:0.039551\n",
            "[507]\tvalidation_0-auc:0.846535\tvalidation_0-error:0.039551\n",
            "[508]\tvalidation_0-auc:0.846504\tvalidation_0-error:0.039551\n",
            "[509]\tvalidation_0-auc:0.84656\tvalidation_0-error:0.039551\n",
            "[510]\tvalidation_0-auc:0.84658\tvalidation_0-error:0.039551\n",
            "[511]\tvalidation_0-auc:0.84656\tvalidation_0-error:0.039551\n",
            "[512]\tvalidation_0-auc:0.84659\tvalidation_0-error:0.039551\n",
            "[513]\tvalidation_0-auc:0.846589\tvalidation_0-error:0.039551\n",
            "[514]\tvalidation_0-auc:0.846562\tvalidation_0-error:0.039551\n",
            "[515]\tvalidation_0-auc:0.846536\tvalidation_0-error:0.039551\n",
            "[516]\tvalidation_0-auc:0.846552\tvalidation_0-error:0.039551\n",
            "[517]\tvalidation_0-auc:0.846542\tvalidation_0-error:0.039551\n",
            "[518]\tvalidation_0-auc:0.846508\tvalidation_0-error:0.039551\n",
            "[519]\tvalidation_0-auc:0.846448\tvalidation_0-error:0.039551\n",
            "[520]\tvalidation_0-auc:0.846507\tvalidation_0-error:0.039551\n",
            "[521]\tvalidation_0-auc:0.846454\tvalidation_0-error:0.039551\n",
            "[522]\tvalidation_0-auc:0.846495\tvalidation_0-error:0.039551\n",
            "[523]\tvalidation_0-auc:0.846519\tvalidation_0-error:0.039551\n",
            "[524]\tvalidation_0-auc:0.846569\tvalidation_0-error:0.039551\n",
            "[525]\tvalidation_0-auc:0.84659\tvalidation_0-error:0.039551\n",
            "[526]\tvalidation_0-auc:0.846591\tvalidation_0-error:0.039551\n",
            "[527]\tvalidation_0-auc:0.84664\tvalidation_0-error:0.039551\n",
            "[528]\tvalidation_0-auc:0.846648\tvalidation_0-error:0.039551\n",
            "[529]\tvalidation_0-auc:0.846646\tvalidation_0-error:0.039551\n",
            "[530]\tvalidation_0-auc:0.846647\tvalidation_0-error:0.039551\n",
            "[531]\tvalidation_0-auc:0.846647\tvalidation_0-error:0.039551\n",
            "[532]\tvalidation_0-auc:0.846718\tvalidation_0-error:0.039551\n",
            "[533]\tvalidation_0-auc:0.846711\tvalidation_0-error:0.039551\n",
            "[534]\tvalidation_0-auc:0.846758\tvalidation_0-error:0.039551\n",
            "[535]\tvalidation_0-auc:0.846748\tvalidation_0-error:0.039551\n",
            "[536]\tvalidation_0-auc:0.846812\tvalidation_0-error:0.039551\n",
            "[537]\tvalidation_0-auc:0.846787\tvalidation_0-error:0.039551\n",
            "[538]\tvalidation_0-auc:0.846752\tvalidation_0-error:0.039551\n",
            "[539]\tvalidation_0-auc:0.846724\tvalidation_0-error:0.039551\n",
            "[540]\tvalidation_0-auc:0.846659\tvalidation_0-error:0.039551\n",
            "[541]\tvalidation_0-auc:0.84666\tvalidation_0-error:0.039551\n",
            "[542]\tvalidation_0-auc:0.846631\tvalidation_0-error:0.039551\n",
            "[543]\tvalidation_0-auc:0.846607\tvalidation_0-error:0.039551\n",
            "[544]\tvalidation_0-auc:0.846641\tvalidation_0-error:0.039551\n",
            "[545]\tvalidation_0-auc:0.846653\tvalidation_0-error:0.039551\n",
            "[546]\tvalidation_0-auc:0.846652\tvalidation_0-error:0.039551\n",
            "[547]\tvalidation_0-auc:0.846613\tvalidation_0-error:0.039551\n",
            "[548]\tvalidation_0-auc:0.846654\tvalidation_0-error:0.039551\n",
            "[549]\tvalidation_0-auc:0.846668\tvalidation_0-error:0.039551\n",
            "[550]\tvalidation_0-auc:0.846728\tvalidation_0-error:0.039551\n",
            "[551]\tvalidation_0-auc:0.846723\tvalidation_0-error:0.039551\n",
            "[552]\tvalidation_0-auc:0.846733\tvalidation_0-error:0.039551\n",
            "[553]\tvalidation_0-auc:0.846775\tvalidation_0-error:0.039551\n",
            "[554]\tvalidation_0-auc:0.846781\tvalidation_0-error:0.039551\n",
            "[555]\tvalidation_0-auc:0.846837\tvalidation_0-error:0.039551\n",
            "[556]\tvalidation_0-auc:0.846874\tvalidation_0-error:0.039551\n",
            "[557]\tvalidation_0-auc:0.846838\tvalidation_0-error:0.039551\n",
            "[558]\tvalidation_0-auc:0.846847\tvalidation_0-error:0.039551\n",
            "[559]\tvalidation_0-auc:0.846837\tvalidation_0-error:0.039551\n",
            "[560]\tvalidation_0-auc:0.846802\tvalidation_0-error:0.039551\n",
            "[561]\tvalidation_0-auc:0.846862\tvalidation_0-error:0.039551\n",
            "[562]\tvalidation_0-auc:0.846894\tvalidation_0-error:0.039551\n",
            "[563]\tvalidation_0-auc:0.846885\tvalidation_0-error:0.039551\n",
            "[564]\tvalidation_0-auc:0.846883\tvalidation_0-error:0.039551\n",
            "[565]\tvalidation_0-auc:0.846836\tvalidation_0-error:0.039551\n",
            "[566]\tvalidation_0-auc:0.846857\tvalidation_0-error:0.039551\n",
            "[567]\tvalidation_0-auc:0.846843\tvalidation_0-error:0.039551\n",
            "[568]\tvalidation_0-auc:0.846808\tvalidation_0-error:0.039551\n",
            "[569]\tvalidation_0-auc:0.846805\tvalidation_0-error:0.039551\n",
            "[570]\tvalidation_0-auc:0.846797\tvalidation_0-error:0.039551\n",
            "[571]\tvalidation_0-auc:0.846777\tvalidation_0-error:0.039551\n",
            "[572]\tvalidation_0-auc:0.846778\tvalidation_0-error:0.039551\n",
            "[573]\tvalidation_0-auc:0.846808\tvalidation_0-error:0.039551\n",
            "[574]\tvalidation_0-auc:0.846822\tvalidation_0-error:0.039551\n",
            "[575]\tvalidation_0-auc:0.846801\tvalidation_0-error:0.039551\n",
            "[576]\tvalidation_0-auc:0.846803\tvalidation_0-error:0.039551\n",
            "[577]\tvalidation_0-auc:0.846817\tvalidation_0-error:0.039551\n",
            "[578]\tvalidation_0-auc:0.846791\tvalidation_0-error:0.039551\n",
            "[579]\tvalidation_0-auc:0.846813\tvalidation_0-error:0.039551\n",
            "[580]\tvalidation_0-auc:0.846818\tvalidation_0-error:0.039551\n",
            "[581]\tvalidation_0-auc:0.84681\tvalidation_0-error:0.039551\n",
            "[582]\tvalidation_0-auc:0.846817\tvalidation_0-error:0.039551\n",
            "[583]\tvalidation_0-auc:0.846829\tvalidation_0-error:0.039551\n",
            "[584]\tvalidation_0-auc:0.846804\tvalidation_0-error:0.039551\n",
            "[585]\tvalidation_0-auc:0.846823\tvalidation_0-error:0.039551\n",
            "[586]\tvalidation_0-auc:0.846863\tvalidation_0-error:0.039551\n",
            "[587]\tvalidation_0-auc:0.846862\tvalidation_0-error:0.039551\n",
            "[588]\tvalidation_0-auc:0.846854\tvalidation_0-error:0.039551\n",
            "[589]\tvalidation_0-auc:0.846875\tvalidation_0-error:0.039551\n",
            "[590]\tvalidation_0-auc:0.846879\tvalidation_0-error:0.039551\n",
            "[591]\tvalidation_0-auc:0.846888\tvalidation_0-error:0.039551\n",
            "[592]\tvalidation_0-auc:0.846925\tvalidation_0-error:0.039551\n",
            "[593]\tvalidation_0-auc:0.846927\tvalidation_0-error:0.039551\n",
            "[594]\tvalidation_0-auc:0.846871\tvalidation_0-error:0.039551\n",
            "[595]\tvalidation_0-auc:0.846901\tvalidation_0-error:0.039551\n",
            "[596]\tvalidation_0-auc:0.846921\tvalidation_0-error:0.039551\n",
            "[597]\tvalidation_0-auc:0.84691\tvalidation_0-error:0.039551\n",
            "[598]\tvalidation_0-auc:0.846935\tvalidation_0-error:0.039551\n",
            "[599]\tvalidation_0-auc:0.846966\tvalidation_0-error:0.039551\n",
            "[600]\tvalidation_0-auc:0.846965\tvalidation_0-error:0.039551\n",
            "[601]\tvalidation_0-auc:0.846993\tvalidation_0-error:0.039551\n",
            "[602]\tvalidation_0-auc:0.847005\tvalidation_0-error:0.039551\n",
            "[603]\tvalidation_0-auc:0.847008\tvalidation_0-error:0.039551\n",
            "[604]\tvalidation_0-auc:0.846981\tvalidation_0-error:0.039551\n",
            "[605]\tvalidation_0-auc:0.846998\tvalidation_0-error:0.039551\n",
            "[606]\tvalidation_0-auc:0.847058\tvalidation_0-error:0.039551\n",
            "[607]\tvalidation_0-auc:0.847011\tvalidation_0-error:0.039551\n",
            "[608]\tvalidation_0-auc:0.847004\tvalidation_0-error:0.039551\n",
            "[609]\tvalidation_0-auc:0.847009\tvalidation_0-error:0.039551\n",
            "[610]\tvalidation_0-auc:0.847053\tvalidation_0-error:0.039551\n",
            "[611]\tvalidation_0-auc:0.84702\tvalidation_0-error:0.039551\n",
            "[612]\tvalidation_0-auc:0.847038\tvalidation_0-error:0.039551\n",
            "[613]\tvalidation_0-auc:0.846989\tvalidation_0-error:0.039551\n",
            "[614]\tvalidation_0-auc:0.846962\tvalidation_0-error:0.039551\n",
            "[615]\tvalidation_0-auc:0.846967\tvalidation_0-error:0.039551\n",
            "[616]\tvalidation_0-auc:0.847011\tvalidation_0-error:0.039551\n",
            "[617]\tvalidation_0-auc:0.847035\tvalidation_0-error:0.039551\n",
            "[618]\tvalidation_0-auc:0.847032\tvalidation_0-error:0.039551\n",
            "[619]\tvalidation_0-auc:0.846996\tvalidation_0-error:0.039551\n",
            "[620]\tvalidation_0-auc:0.846973\tvalidation_0-error:0.039551\n",
            "[621]\tvalidation_0-auc:0.846924\tvalidation_0-error:0.039551\n",
            "[622]\tvalidation_0-auc:0.846922\tvalidation_0-error:0.039551\n",
            "[623]\tvalidation_0-auc:0.846921\tvalidation_0-error:0.039551\n",
            "[624]\tvalidation_0-auc:0.846941\tvalidation_0-error:0.039551\n",
            "[625]\tvalidation_0-auc:0.846909\tvalidation_0-error:0.039551\n",
            "[626]\tvalidation_0-auc:0.846947\tvalidation_0-error:0.039551\n",
            "[627]\tvalidation_0-auc:0.846969\tvalidation_0-error:0.039551\n",
            "[628]\tvalidation_0-auc:0.847004\tvalidation_0-error:0.039551\n",
            "[629]\tvalidation_0-auc:0.846981\tvalidation_0-error:0.039551\n",
            "[630]\tvalidation_0-auc:0.846989\tvalidation_0-error:0.039551\n",
            "[631]\tvalidation_0-auc:0.847017\tvalidation_0-error:0.039551\n",
            "[632]\tvalidation_0-auc:0.846998\tvalidation_0-error:0.039551\n",
            "[633]\tvalidation_0-auc:0.847007\tvalidation_0-error:0.039551\n",
            "[634]\tvalidation_0-auc:0.846996\tvalidation_0-error:0.039551\n",
            "[635]\tvalidation_0-auc:0.847001\tvalidation_0-error:0.039551\n",
            "[636]\tvalidation_0-auc:0.847033\tvalidation_0-error:0.039551\n",
            "[637]\tvalidation_0-auc:0.84699\tvalidation_0-error:0.039551\n",
            "[638]\tvalidation_0-auc:0.847005\tvalidation_0-error:0.039551\n",
            "[639]\tvalidation_0-auc:0.847005\tvalidation_0-error:0.039551\n",
            "[640]\tvalidation_0-auc:0.846983\tvalidation_0-error:0.039551\n",
            "[641]\tvalidation_0-auc:0.846996\tvalidation_0-error:0.039551\n",
            "[642]\tvalidation_0-auc:0.846988\tvalidation_0-error:0.039551\n",
            "[643]\tvalidation_0-auc:0.847024\tvalidation_0-error:0.039551\n",
            "[644]\tvalidation_0-auc:0.847022\tvalidation_0-error:0.039551\n",
            "[645]\tvalidation_0-auc:0.84701\tvalidation_0-error:0.039551\n",
            "[646]\tvalidation_0-auc:0.847017\tvalidation_0-error:0.039551\n",
            "[647]\tvalidation_0-auc:0.847015\tvalidation_0-error:0.039551\n",
            "[648]\tvalidation_0-auc:0.847022\tvalidation_0-error:0.039551\n",
            "[649]\tvalidation_0-auc:0.847049\tvalidation_0-error:0.039551\n",
            "[650]\tvalidation_0-auc:0.847042\tvalidation_0-error:0.039551\n",
            "[651]\tvalidation_0-auc:0.847027\tvalidation_0-error:0.039551\n",
            "[652]\tvalidation_0-auc:0.847028\tvalidation_0-error:0.039551\n",
            "[653]\tvalidation_0-auc:0.847056\tvalidation_0-error:0.039551\n",
            "[654]\tvalidation_0-auc:0.847047\tvalidation_0-error:0.039551\n",
            "[655]\tvalidation_0-auc:0.847088\tvalidation_0-error:0.039551\n",
            "[656]\tvalidation_0-auc:0.847124\tvalidation_0-error:0.039551\n",
            "[657]\tvalidation_0-auc:0.847127\tvalidation_0-error:0.039551\n",
            "[658]\tvalidation_0-auc:0.847104\tvalidation_0-error:0.039551\n",
            "[659]\tvalidation_0-auc:0.84711\tvalidation_0-error:0.039551\n",
            "[660]\tvalidation_0-auc:0.847126\tvalidation_0-error:0.039551\n",
            "[661]\tvalidation_0-auc:0.847146\tvalidation_0-error:0.039551\n",
            "[662]\tvalidation_0-auc:0.847192\tvalidation_0-error:0.039551\n",
            "[663]\tvalidation_0-auc:0.847195\tvalidation_0-error:0.039551\n",
            "[664]\tvalidation_0-auc:0.847197\tvalidation_0-error:0.039551\n",
            "[665]\tvalidation_0-auc:0.847186\tvalidation_0-error:0.039551\n",
            "[666]\tvalidation_0-auc:0.847183\tvalidation_0-error:0.039551\n",
            "[667]\tvalidation_0-auc:0.847195\tvalidation_0-error:0.039551\n",
            "[668]\tvalidation_0-auc:0.847211\tvalidation_0-error:0.039551\n",
            "[669]\tvalidation_0-auc:0.847181\tvalidation_0-error:0.039551\n",
            "[670]\tvalidation_0-auc:0.847257\tvalidation_0-error:0.039551\n",
            "[671]\tvalidation_0-auc:0.847263\tvalidation_0-error:0.039551\n",
            "[672]\tvalidation_0-auc:0.847305\tvalidation_0-error:0.039551\n",
            "[673]\tvalidation_0-auc:0.847336\tvalidation_0-error:0.039551\n",
            "[674]\tvalidation_0-auc:0.847374\tvalidation_0-error:0.039551\n",
            "[675]\tvalidation_0-auc:0.847403\tvalidation_0-error:0.039551\n",
            "[676]\tvalidation_0-auc:0.847422\tvalidation_0-error:0.039551\n",
            "[677]\tvalidation_0-auc:0.847401\tvalidation_0-error:0.039551\n",
            "[678]\tvalidation_0-auc:0.847398\tvalidation_0-error:0.039551\n",
            "[679]\tvalidation_0-auc:0.847381\tvalidation_0-error:0.039551\n",
            "[680]\tvalidation_0-auc:0.847393\tvalidation_0-error:0.039551\n",
            "[681]\tvalidation_0-auc:0.847362\tvalidation_0-error:0.039551\n",
            "[682]\tvalidation_0-auc:0.847401\tvalidation_0-error:0.039551\n",
            "[683]\tvalidation_0-auc:0.847351\tvalidation_0-error:0.039551\n",
            "[684]\tvalidation_0-auc:0.847381\tvalidation_0-error:0.039551\n",
            "[685]\tvalidation_0-auc:0.847351\tvalidation_0-error:0.039551\n",
            "[686]\tvalidation_0-auc:0.847337\tvalidation_0-error:0.039551\n",
            "[687]\tvalidation_0-auc:0.847308\tvalidation_0-error:0.039551\n",
            "[688]\tvalidation_0-auc:0.847324\tvalidation_0-error:0.039551\n",
            "[689]\tvalidation_0-auc:0.847307\tvalidation_0-error:0.039551\n",
            "[690]\tvalidation_0-auc:0.847321\tvalidation_0-error:0.039551\n",
            "[691]\tvalidation_0-auc:0.847331\tvalidation_0-error:0.039551\n",
            "[692]\tvalidation_0-auc:0.847322\tvalidation_0-error:0.039551\n",
            "[693]\tvalidation_0-auc:0.847335\tvalidation_0-error:0.039551\n",
            "[694]\tvalidation_0-auc:0.84731\tvalidation_0-error:0.039551\n",
            "[695]\tvalidation_0-auc:0.847338\tvalidation_0-error:0.039551\n",
            "[696]\tvalidation_0-auc:0.847292\tvalidation_0-error:0.039551\n",
            "[697]\tvalidation_0-auc:0.847279\tvalidation_0-error:0.039551\n",
            "[698]\tvalidation_0-auc:0.847263\tvalidation_0-error:0.039551\n",
            "[699]\tvalidation_0-auc:0.847277\tvalidation_0-error:0.039551\n",
            "[700]\tvalidation_0-auc:0.847296\tvalidation_0-error:0.039551\n",
            "[701]\tvalidation_0-auc:0.84732\tvalidation_0-error:0.039551\n",
            "[702]\tvalidation_0-auc:0.847332\tvalidation_0-error:0.039551\n",
            "[703]\tvalidation_0-auc:0.847339\tvalidation_0-error:0.039551\n",
            "[704]\tvalidation_0-auc:0.847335\tvalidation_0-error:0.039551\n",
            "[705]\tvalidation_0-auc:0.847332\tvalidation_0-error:0.039551\n",
            "[706]\tvalidation_0-auc:0.847367\tvalidation_0-error:0.039551\n",
            "[707]\tvalidation_0-auc:0.84737\tvalidation_0-error:0.039551\n",
            "[708]\tvalidation_0-auc:0.847395\tvalidation_0-error:0.039551\n",
            "[709]\tvalidation_0-auc:0.847392\tvalidation_0-error:0.039551\n",
            "[710]\tvalidation_0-auc:0.84741\tvalidation_0-error:0.039551\n",
            "[711]\tvalidation_0-auc:0.847415\tvalidation_0-error:0.039551\n",
            "[712]\tvalidation_0-auc:0.847435\tvalidation_0-error:0.039551\n",
            "[713]\tvalidation_0-auc:0.847423\tvalidation_0-error:0.039551\n",
            "[714]\tvalidation_0-auc:0.847417\tvalidation_0-error:0.039551\n",
            "[715]\tvalidation_0-auc:0.847432\tvalidation_0-error:0.039551\n",
            "[716]\tvalidation_0-auc:0.84748\tvalidation_0-error:0.039551\n",
            "[717]\tvalidation_0-auc:0.847449\tvalidation_0-error:0.039551\n",
            "[718]\tvalidation_0-auc:0.84748\tvalidation_0-error:0.039551\n",
            "[719]\tvalidation_0-auc:0.847482\tvalidation_0-error:0.039551\n",
            "[720]\tvalidation_0-auc:0.847486\tvalidation_0-error:0.039551\n",
            "[721]\tvalidation_0-auc:0.847419\tvalidation_0-error:0.039551\n",
            "[722]\tvalidation_0-auc:0.847417\tvalidation_0-error:0.039551\n",
            "[723]\tvalidation_0-auc:0.847409\tvalidation_0-error:0.039551\n",
            "[724]\tvalidation_0-auc:0.847429\tvalidation_0-error:0.039551\n",
            "[725]\tvalidation_0-auc:0.84743\tvalidation_0-error:0.039551\n",
            "[726]\tvalidation_0-auc:0.847439\tvalidation_0-error:0.039551\n",
            "[727]\tvalidation_0-auc:0.847409\tvalidation_0-error:0.039551\n",
            "[728]\tvalidation_0-auc:0.847373\tvalidation_0-error:0.039551\n",
            "[729]\tvalidation_0-auc:0.847384\tvalidation_0-error:0.039551\n",
            "[730]\tvalidation_0-auc:0.847354\tvalidation_0-error:0.039551\n",
            "[731]\tvalidation_0-auc:0.84734\tvalidation_0-error:0.039551\n",
            "[732]\tvalidation_0-auc:0.847426\tvalidation_0-error:0.039551\n",
            "[733]\tvalidation_0-auc:0.847436\tvalidation_0-error:0.039551\n",
            "[734]\tvalidation_0-auc:0.847445\tvalidation_0-error:0.039551\n",
            "[735]\tvalidation_0-auc:0.847425\tvalidation_0-error:0.039551\n",
            "[736]\tvalidation_0-auc:0.847394\tvalidation_0-error:0.039551\n",
            "[737]\tvalidation_0-auc:0.847439\tvalidation_0-error:0.039551\n",
            "[738]\tvalidation_0-auc:0.847428\tvalidation_0-error:0.039551\n",
            "[739]\tvalidation_0-auc:0.847429\tvalidation_0-error:0.039551\n",
            "[740]\tvalidation_0-auc:0.847444\tvalidation_0-error:0.039551\n",
            "[741]\tvalidation_0-auc:0.847428\tvalidation_0-error:0.039551\n",
            "[742]\tvalidation_0-auc:0.847406\tvalidation_0-error:0.039551\n",
            "[743]\tvalidation_0-auc:0.847412\tvalidation_0-error:0.039551\n",
            "[744]\tvalidation_0-auc:0.847411\tvalidation_0-error:0.039551\n",
            "[745]\tvalidation_0-auc:0.847358\tvalidation_0-error:0.039551\n",
            "[746]\tvalidation_0-auc:0.847376\tvalidation_0-error:0.039551\n",
            "[747]\tvalidation_0-auc:0.847338\tvalidation_0-error:0.039551\n",
            "[748]\tvalidation_0-auc:0.84732\tvalidation_0-error:0.039551\n",
            "[749]\tvalidation_0-auc:0.84736\tvalidation_0-error:0.039551\n",
            "[750]\tvalidation_0-auc:0.847332\tvalidation_0-error:0.039551\n",
            "[751]\tvalidation_0-auc:0.847395\tvalidation_0-error:0.039551\n",
            "[752]\tvalidation_0-auc:0.847403\tvalidation_0-error:0.039551\n",
            "[753]\tvalidation_0-auc:0.847388\tvalidation_0-error:0.039551\n",
            "[754]\tvalidation_0-auc:0.847414\tvalidation_0-error:0.039551\n",
            "[755]\tvalidation_0-auc:0.847403\tvalidation_0-error:0.039551\n",
            "[756]\tvalidation_0-auc:0.847397\tvalidation_0-error:0.039551\n",
            "[757]\tvalidation_0-auc:0.847379\tvalidation_0-error:0.039551\n",
            "[758]\tvalidation_0-auc:0.847352\tvalidation_0-error:0.039551\n",
            "[759]\tvalidation_0-auc:0.847313\tvalidation_0-error:0.039551\n",
            "[760]\tvalidation_0-auc:0.847319\tvalidation_0-error:0.039551\n",
            "[761]\tvalidation_0-auc:0.847325\tvalidation_0-error:0.039551\n",
            "[762]\tvalidation_0-auc:0.847318\tvalidation_0-error:0.039551\n",
            "[763]\tvalidation_0-auc:0.847312\tvalidation_0-error:0.039551\n",
            "[764]\tvalidation_0-auc:0.847324\tvalidation_0-error:0.039551\n",
            "[765]\tvalidation_0-auc:0.847267\tvalidation_0-error:0.039551\n",
            "[766]\tvalidation_0-auc:0.847282\tvalidation_0-error:0.039551\n",
            "[767]\tvalidation_0-auc:0.847273\tvalidation_0-error:0.039551\n",
            "[768]\tvalidation_0-auc:0.847293\tvalidation_0-error:0.039551\n",
            "[769]\tvalidation_0-auc:0.847283\tvalidation_0-error:0.039551\n",
            "[770]\tvalidation_0-auc:0.847277\tvalidation_0-error:0.039551\n",
            "[771]\tvalidation_0-auc:0.847302\tvalidation_0-error:0.039551\n",
            "[772]\tvalidation_0-auc:0.847323\tvalidation_0-error:0.039551\n",
            "[773]\tvalidation_0-auc:0.84731\tvalidation_0-error:0.039551\n",
            "[774]\tvalidation_0-auc:0.847306\tvalidation_0-error:0.039551\n",
            "[775]\tvalidation_0-auc:0.84731\tvalidation_0-error:0.039551\n",
            "[776]\tvalidation_0-auc:0.847307\tvalidation_0-error:0.039551\n",
            "[777]\tvalidation_0-auc:0.847327\tvalidation_0-error:0.039551\n",
            "[778]\tvalidation_0-auc:0.847306\tvalidation_0-error:0.039551\n",
            "[779]\tvalidation_0-auc:0.847397\tvalidation_0-error:0.039551\n",
            "[780]\tvalidation_0-auc:0.847405\tvalidation_0-error:0.039551\n",
            "[781]\tvalidation_0-auc:0.847364\tvalidation_0-error:0.039551\n",
            "[782]\tvalidation_0-auc:0.847353\tvalidation_0-error:0.039551\n",
            "[783]\tvalidation_0-auc:0.84736\tvalidation_0-error:0.039551\n",
            "[784]\tvalidation_0-auc:0.847348\tvalidation_0-error:0.039551\n",
            "[785]\tvalidation_0-auc:0.847342\tvalidation_0-error:0.039551\n",
            "[786]\tvalidation_0-auc:0.847341\tvalidation_0-error:0.039551\n",
            "[787]\tvalidation_0-auc:0.847342\tvalidation_0-error:0.039551\n",
            "[788]\tvalidation_0-auc:0.847383\tvalidation_0-error:0.039551\n",
            "[789]\tvalidation_0-auc:0.847379\tvalidation_0-error:0.039551\n",
            "[790]\tvalidation_0-auc:0.847429\tvalidation_0-error:0.039551\n",
            "[791]\tvalidation_0-auc:0.847437\tvalidation_0-error:0.039551\n",
            "[792]\tvalidation_0-auc:0.847432\tvalidation_0-error:0.039551\n",
            "[793]\tvalidation_0-auc:0.847423\tvalidation_0-error:0.039551\n",
            "[794]\tvalidation_0-auc:0.847422\tvalidation_0-error:0.039551\n",
            "[795]\tvalidation_0-auc:0.847416\tvalidation_0-error:0.039551\n",
            "[796]\tvalidation_0-auc:0.847407\tvalidation_0-error:0.039551\n",
            "[797]\tvalidation_0-auc:0.847416\tvalidation_0-error:0.039551\n",
            "[798]\tvalidation_0-auc:0.847429\tvalidation_0-error:0.039551\n",
            "[799]\tvalidation_0-auc:0.847454\tvalidation_0-error:0.039551\n",
            "[800]\tvalidation_0-auc:0.847499\tvalidation_0-error:0.039551\n",
            "[801]\tvalidation_0-auc:0.847512\tvalidation_0-error:0.039551\n",
            "[802]\tvalidation_0-auc:0.847474\tvalidation_0-error:0.039551\n",
            "[803]\tvalidation_0-auc:0.847446\tvalidation_0-error:0.039551\n",
            "[804]\tvalidation_0-auc:0.847415\tvalidation_0-error:0.039551\n",
            "[805]\tvalidation_0-auc:0.847414\tvalidation_0-error:0.039551\n",
            "[806]\tvalidation_0-auc:0.847404\tvalidation_0-error:0.039551\n",
            "[807]\tvalidation_0-auc:0.847402\tvalidation_0-error:0.039551\n",
            "[808]\tvalidation_0-auc:0.847401\tvalidation_0-error:0.039551\n",
            "[809]\tvalidation_0-auc:0.847339\tvalidation_0-error:0.039551\n",
            "[810]\tvalidation_0-auc:0.847377\tvalidation_0-error:0.039551\n",
            "[811]\tvalidation_0-auc:0.847368\tvalidation_0-error:0.039551\n",
            "[812]\tvalidation_0-auc:0.847367\tvalidation_0-error:0.039551\n",
            "[813]\tvalidation_0-auc:0.847379\tvalidation_0-error:0.039551\n",
            "[814]\tvalidation_0-auc:0.847383\tvalidation_0-error:0.039551\n",
            "[815]\tvalidation_0-auc:0.847384\tvalidation_0-error:0.039551\n",
            "[816]\tvalidation_0-auc:0.84736\tvalidation_0-error:0.039551\n",
            "[817]\tvalidation_0-auc:0.847319\tvalidation_0-error:0.039551\n",
            "[818]\tvalidation_0-auc:0.8473\tvalidation_0-error:0.039551\n",
            "[819]\tvalidation_0-auc:0.847292\tvalidation_0-error:0.039551\n",
            "[820]\tvalidation_0-auc:0.847303\tvalidation_0-error:0.039551\n",
            "[821]\tvalidation_0-auc:0.847333\tvalidation_0-error:0.039551\n",
            "[822]\tvalidation_0-auc:0.847355\tvalidation_0-error:0.039551\n",
            "[823]\tvalidation_0-auc:0.847343\tvalidation_0-error:0.039551\n",
            "[824]\tvalidation_0-auc:0.847311\tvalidation_0-error:0.039551\n",
            "[825]\tvalidation_0-auc:0.847335\tvalidation_0-error:0.039551\n",
            "[826]\tvalidation_0-auc:0.847346\tvalidation_0-error:0.039551\n",
            "[827]\tvalidation_0-auc:0.847377\tvalidation_0-error:0.039551\n",
            "[828]\tvalidation_0-auc:0.847368\tvalidation_0-error:0.039551\n",
            "[829]\tvalidation_0-auc:0.847409\tvalidation_0-error:0.039551\n",
            "[830]\tvalidation_0-auc:0.847412\tvalidation_0-error:0.039551\n",
            "[831]\tvalidation_0-auc:0.847414\tvalidation_0-error:0.039551\n",
            "[832]\tvalidation_0-auc:0.847432\tvalidation_0-error:0.039551\n",
            "[833]\tvalidation_0-auc:0.847395\tvalidation_0-error:0.039551\n",
            "[834]\tvalidation_0-auc:0.847369\tvalidation_0-error:0.039551\n",
            "[835]\tvalidation_0-auc:0.847385\tvalidation_0-error:0.039551\n",
            "[836]\tvalidation_0-auc:0.847328\tvalidation_0-error:0.039551\n",
            "[837]\tvalidation_0-auc:0.847326\tvalidation_0-error:0.039551\n",
            "[838]\tvalidation_0-auc:0.847352\tvalidation_0-error:0.039551\n",
            "[839]\tvalidation_0-auc:0.847361\tvalidation_0-error:0.039551\n",
            "[840]\tvalidation_0-auc:0.847336\tvalidation_0-error:0.039551\n",
            "[841]\tvalidation_0-auc:0.847303\tvalidation_0-error:0.039551\n",
            "[842]\tvalidation_0-auc:0.84729\tvalidation_0-error:0.039551\n",
            "[843]\tvalidation_0-auc:0.847286\tvalidation_0-error:0.039551\n",
            "[844]\tvalidation_0-auc:0.847293\tvalidation_0-error:0.039551\n",
            "CPU times: user 15min 12s, sys: 1.44 s, total: 15min 14s\n",
            "Wall time: 7min 49s\n"
          ],
          "name": "stdout"
        },
        {
          "output_type": "execute_result",
          "data": {
            "text/plain": [
              "XGBClassifier(base_score=0.5, booster='gbtree', colsample_bylevel=1,\n",
              "              colsample_bynode=1, colsample_bytree=0.8, gamma=0,\n",
              "              learning_rate=0.01, max_delta_step=0, max_depth=6,\n",
              "              min_child_weight=1, missing=None, n_estimators=845, n_jobs=-1,\n",
              "              nthread=-1, objective='binary:logistic', random_state=42,\n",
              "              reg_alpha=0, reg_lambda=1, scale_pos_weight=1, seed=None,\n",
              "              silent=None, subsample=0.7, verbosity=1)"
            ]
          },
          "metadata": {
            "tags": []
          },
          "execution_count": 42
        }
      ]
    },
    {
      "cell_type": "code",
      "metadata": {
        "colab_type": "code",
        "id": "9ZI4N9TM-V3D",
        "colab": {
          "base_uri": "https://localhost:8080/",
          "height": 352
        },
        "outputId": "3f9fa962-0a1f-40ff-d1d4-334ea49d2f09"
      },
      "source": [
        "y_pred = model.predict_proba(X_val_200)[:,1]\n",
        "label=\"XGBoost Classifer(top 250)\"\n",
        "labels.append(label)\n",
        "y_preds.append(y_pred)\n",
        "i+=1\n",
        "result = plot_auc(y_val,y_pred,label)\n",
        "result_df = result_df.append(result)\n",
        "del result"
      ],
      "execution_count": null,
      "outputs": [
        {
          "output_type": "stream",
          "text": [
            "\t\t XGBoost Classifer(top 250) on Log Transformed OHE dataset \t\t \n",
            "\n"
          ],
          "name": "stdout"
        },
        {
          "output_type": "display_data",
          "data": {
            "image/png": "[encoded data removed]",
            "text/plain": [
              "<Figure size 432x288 with 1 Axes>"
            ]
          },
          "metadata": {
            "tags": [],
            "needs_background": "light"
          }
        },
        {
          "output_type": "stream",
          "text": [
            "The log loss and auc was found to be 0.133 and 0.847 for XGBoost Classifer(top 250) on Log Transformed OHE dataset.\n"
          ],
          "name": "stdout"
        }
      ]
    },
    {
      "cell_type": "code",
      "metadata": {
        "colab_type": "code",
        "id": "LN2FW-s2-V3G",
        "colab": {
          "base_uri": "https://localhost:8080/",
          "height": 266
        },
        "outputId": "0c304c68-c07a-422f-975c-b7026465b501"
      },
      "source": [
        "result_df"
      ],
      "execution_count": null,
      "outputs": [
        {
          "output_type": "execute_result",
          "data": {
            "text/html": [
              "<div>\n",
              "<style scoped>\n",
              "    .dataframe tbody tr th:only-of-type {\n",
              "        vertical-align: middle;\n",
              "    }\n",
              "\n",
              "    .dataframe tbody tr th {\n",
              "        vertical-align: top;\n",
              "    }\n",
              "\n",
              "    .dataframe thead th {\n",
              "        text-align: right;\n",
              "    }\n",
              "</style>\n",
              "<table border=\"1\" class=\"dataframe\">\n",
              "  <thead>\n",
              "    <tr style=\"text-align: right;\">\n",
              "      <th></th>\n",
              "      <th>Model</th>\n",
              "      <th>Dataset</th>\n",
              "      <th>log_loss</th>\n",
              "      <th>auc</th>\n",
              "    </tr>\n",
              "  </thead>\n",
              "  <tbody>\n",
              "    <tr>\n",
              "      <th>0</th>\n",
              "      <td>Logisic Regression</td>\n",
              "      <td>Log Transformed OHE</td>\n",
              "      <td>0.518796</td>\n",
              "      <td>0.824365</td>\n",
              "    </tr>\n",
              "    <tr>\n",
              "      <th>1</th>\n",
              "      <td>Decision Tree Classifier</td>\n",
              "      <td>Log Transformed OHE</td>\n",
              "      <td>0.140781</td>\n",
              "      <td>0.807561</td>\n",
              "    </tr>\n",
              "    <tr>\n",
              "      <th>2</th>\n",
              "      <td>Random Forest Classifier</td>\n",
              "      <td>Log Transformed OHE</td>\n",
              "      <td>0.137307</td>\n",
              "      <td>0.833055</td>\n",
              "    </tr>\n",
              "    <tr>\n",
              "      <th>3</th>\n",
              "      <td>XGBoost Classifer</td>\n",
              "      <td>Log Transformed OHE</td>\n",
              "      <td>0.132556</td>\n",
              "      <td>0.848140</td>\n",
              "    </tr>\n",
              "    <tr>\n",
              "      <th>4</th>\n",
              "      <td>LightGBM Classifer</td>\n",
              "      <td>Log Transformed OHE</td>\n",
              "      <td>0.132933</td>\n",
              "      <td>0.845743</td>\n",
              "    </tr>\n",
              "    <tr>\n",
              "      <th>5</th>\n",
              "      <td>Random Forest Classifier (top 250)</td>\n",
              "      <td>Log Transformed OHE</td>\n",
              "      <td>0.136683</td>\n",
              "      <td>0.835698</td>\n",
              "    </tr>\n",
              "    <tr>\n",
              "      <th>6</th>\n",
              "      <td>XGBoost Classifer(top 250)</td>\n",
              "      <td>Log Transformed OHE</td>\n",
              "      <td>0.132707</td>\n",
              "      <td>0.847293</td>\n",
              "    </tr>\n",
              "  </tbody>\n",
              "</table>\n",
              "</div>"
            ],
            "text/plain": [
              "                                Model              Dataset  log_loss       auc\n",
              "0                  Logisic Regression  Log Transformed OHE  0.518796  0.824365\n",
              "1            Decision Tree Classifier  Log Transformed OHE  0.140781  0.807561\n",
              "2            Random Forest Classifier  Log Transformed OHE  0.137307  0.833055\n",
              "3                   XGBoost Classifer  Log Transformed OHE  0.132556  0.848140\n",
              "4                  LightGBM Classifer  Log Transformed OHE  0.132933  0.845743\n",
              "5  Random Forest Classifier (top 250)  Log Transformed OHE  0.136683  0.835698\n",
              "6          XGBoost Classifer(top 250)  Log Transformed OHE  0.132707  0.847293"
            ]
          },
          "metadata": {
            "tags": []
          },
          "execution_count": 44
        }
      ]
    },
    {
      "cell_type": "markdown",
      "metadata": {
        "colab_type": "text",
        "id": "mYW7_x88-V3J"
      },
      "source": [
        "# LightGBM Classifier (top 250)"
      ]
    },
    {
      "cell_type": "code",
      "metadata": {
        "colab_type": "code",
        "id": "EYaevQf8-V3J",
        "colab": {}
      },
      "source": [
        "model = lgb.LGBMClassifier(n_jobs=-1,\n",
        "                      nthread=-1,\n",
        "                      scale_pos_weight=1,\n",
        "                      learning_rate=0.01,  \n",
        "                      colsample_bytree = 0.5,\n",
        "                      subsample = .8,\n",
        "                      objective='binary', \n",
        "                      n_estimators=447,\n",
        "                      reg_alpha = 0,\n",
        "                      max_depth=8, random_state=42\n",
        "                     )"
      ],
      "execution_count": null,
      "outputs": []
    },
    {
      "cell_type": "code",
      "metadata": {
        "colab_type": "code",
        "id": "JhKg3-Lv-V3M",
        "colab": {
          "base_uri": "https://localhost:8080/"
        },
        "outputId": "be107a06-3b6e-4f48-a239-c309c15baaea"
      },
      "source": [
        "#https://towardsdatascience.com/fine-tuning-xgboost-in-python-like-a-boss-b4543ed8b1e\n",
        "\"\"\"\n",
        "manually changed each parameters 1 by 1 and compared the validation auc\n",
        "and selected the best parameter value\n",
        "\"\"\"\n",
        "eval_metric = ['auc','error']\n",
        "%time model.fit(X_train_200,y_train,eval_set=[(X_val_200,y_val)],eval_metric=eval_metric,verbose=True)"
      ],
      "execution_count": null,
      "outputs": [
        {
          "output_type": "stream",
          "text": [
            "[1]\tvalid_0's binary_logloss: 0.165838\tvalid_0's auc: 0.787733\n",
            "[2]\tvalid_0's binary_logloss: 0.165145\tvalid_0's auc: 0.821467\n",
            "[3]\tvalid_0's binary_logloss: 0.164526\tvalid_0's auc: 0.82018\n",
            "[4]\tvalid_0's binary_logloss: 0.163872\tvalid_0's auc: 0.827189\n",
            "[5]\tvalid_0's binary_logloss: 0.163338\tvalid_0's auc: 0.825091\n",
            "[6]\tvalid_0's binary_logloss: 0.162707\tvalid_0's auc: 0.827368\n",
            "[7]\tvalid_0's binary_logloss: 0.162098\tvalid_0's auc: 0.829241\n",
            "[8]\tvalid_0's binary_logloss: 0.16155\tvalid_0's auc: 0.829214\n",
            "[9]\tvalid_0's binary_logloss: 0.160981\tvalid_0's auc: 0.829917\n",
            "[10]\tvalid_0's binary_logloss: 0.160459\tvalid_0's auc: 0.831389\n",
            "[11]\tvalid_0's binary_logloss: 0.159919\tvalid_0's auc: 0.831099\n",
            "[12]\tvalid_0's binary_logloss: 0.159395\tvalid_0's auc: 0.832813\n",
            "[13]\tvalid_0's binary_logloss: 0.158939\tvalid_0's auc: 0.832456\n",
            "[14]\tvalid_0's binary_logloss: 0.15848\tvalid_0's auc: 0.832348\n",
            "[15]\tvalid_0's binary_logloss: 0.158038\tvalid_0's auc: 0.832037\n",
            "[16]\tvalid_0's binary_logloss: 0.157584\tvalid_0's auc: 0.832139\n",
            "[17]\tvalid_0's binary_logloss: 0.157186\tvalid_0's auc: 0.832497\n",
            "[18]\tvalid_0's binary_logloss: 0.156744\tvalid_0's auc: 0.833094\n",
            "[19]\tvalid_0's binary_logloss: 0.156286\tvalid_0's auc: 0.83407\n",
            "[20]\tvalid_0's binary_logloss: 0.155889\tvalid_0's auc: 0.834904\n",
            "[21]\tvalid_0's binary_logloss: 0.155495\tvalid_0's auc: 0.834944\n",
            "[22]\tvalid_0's binary_logloss: 0.155109\tvalid_0's auc: 0.834789\n",
            "[23]\tvalid_0's binary_logloss: 0.154708\tvalid_0's auc: 0.835125\n",
            "[24]\tvalid_0's binary_logloss: 0.154391\tvalid_0's auc: 0.835035\n",
            "[25]\tvalid_0's binary_logloss: 0.154065\tvalid_0's auc: 0.834811\n",
            "[26]\tvalid_0's binary_logloss: 0.153693\tvalid_0's auc: 0.835214\n",
            "[27]\tvalid_0's binary_logloss: 0.153441\tvalid_0's auc: 0.834774\n",
            "[28]\tvalid_0's binary_logloss: 0.153115\tvalid_0's auc: 0.834964\n",
            "[29]\tvalid_0's binary_logloss: 0.152774\tvalid_0's auc: 0.835301\n",
            "[30]\tvalid_0's binary_logloss: 0.152509\tvalid_0's auc: 0.835393\n",
            "[31]\tvalid_0's binary_logloss: 0.152243\tvalid_0's auc: 0.835329\n",
            "[32]\tvalid_0's binary_logloss: 0.151974\tvalid_0's auc: 0.834852\n",
            "[33]\tvalid_0's binary_logloss: 0.151676\tvalid_0's auc: 0.835002\n",
            "[34]\tvalid_0's binary_logloss: 0.151445\tvalid_0's auc: 0.834652\n",
            "[35]\tvalid_0's binary_logloss: 0.151156\tvalid_0's auc: 0.834872\n",
            "[36]\tvalid_0's binary_logloss: 0.150845\tvalid_0's auc: 0.835231\n",
            "[37]\tvalid_0's binary_logloss: 0.15056\tvalid_0's auc: 0.835625\n",
            "[38]\tvalid_0's binary_logloss: 0.150274\tvalid_0's auc: 0.835857\n",
            "[39]\tvalid_0's binary_logloss: 0.150066\tvalid_0's auc: 0.835457\n",
            "[40]\tvalid_0's binary_logloss: 0.149813\tvalid_0's auc: 0.83583\n",
            "[41]\tvalid_0's binary_logloss: 0.149562\tvalid_0's auc: 0.835849\n",
            "[42]\tvalid_0's binary_logloss: 0.149335\tvalid_0's auc: 0.836238\n",
            "[43]\tvalid_0's binary_logloss: 0.149083\tvalid_0's auc: 0.836265\n",
            "[44]\tvalid_0's binary_logloss: 0.148884\tvalid_0's auc: 0.836318\n",
            "[45]\tvalid_0's binary_logloss: 0.148642\tvalid_0's auc: 0.836391\n",
            "[46]\tvalid_0's binary_logloss: 0.148408\tvalid_0's auc: 0.8365\n",
            "[47]\tvalid_0's binary_logloss: 0.148182\tvalid_0's auc: 0.836388\n",
            "[48]\tvalid_0's binary_logloss: 0.147985\tvalid_0's auc: 0.83654\n",
            "[49]\tvalid_0's binary_logloss: 0.147806\tvalid_0's auc: 0.836742\n",
            "[50]\tvalid_0's binary_logloss: 0.147631\tvalid_0's auc: 0.836553\n",
            "[51]\tvalid_0's binary_logloss: 0.147401\tvalid_0's auc: 0.836749\n",
            "[52]\tvalid_0's binary_logloss: 0.147191\tvalid_0's auc: 0.837\n",
            "[53]\tvalid_0's binary_logloss: 0.147024\tvalid_0's auc: 0.83684\n",
            "[54]\tvalid_0's binary_logloss: 0.146817\tvalid_0's auc: 0.837013\n",
            "[55]\tvalid_0's binary_logloss: 0.146632\tvalid_0's auc: 0.837236\n",
            "[56]\tvalid_0's binary_logloss: 0.146454\tvalid_0's auc: 0.837317\n",
            "[57]\tvalid_0's binary_logloss: 0.146281\tvalid_0's auc: 0.837276\n",
            "[58]\tvalid_0's binary_logloss: 0.146099\tvalid_0's auc: 0.837373\n",
            "[59]\tvalid_0's binary_logloss: 0.145948\tvalid_0's auc: 0.837328\n",
            "[60]\tvalid_0's binary_logloss: 0.145765\tvalid_0's auc: 0.837402\n",
            "[61]\tvalid_0's binary_logloss: 0.145583\tvalid_0's auc: 0.83756\n",
            "[62]\tvalid_0's binary_logloss: 0.145412\tvalid_0's auc: 0.837568\n",
            "[63]\tvalid_0's binary_logloss: 0.14522\tvalid_0's auc: 0.837971\n",
            "[64]\tvalid_0's binary_logloss: 0.145036\tvalid_0's auc: 0.838092\n",
            "[65]\tvalid_0's binary_logloss: 0.144876\tvalid_0's auc: 0.838369\n",
            "[66]\tvalid_0's binary_logloss: 0.144718\tvalid_0's auc: 0.838751\n",
            "[67]\tvalid_0's binary_logloss: 0.144559\tvalid_0's auc: 0.83886\n",
            "[68]\tvalid_0's binary_logloss: 0.144395\tvalid_0's auc: 0.838961\n",
            "[69]\tvalid_0's binary_logloss: 0.144264\tvalid_0's auc: 0.839067\n",
            "[70]\tvalid_0's binary_logloss: 0.144133\tvalid_0's auc: 0.83891\n",
            "[71]\tvalid_0's binary_logloss: 0.143974\tvalid_0's auc: 0.839131\n",
            "[72]\tvalid_0's binary_logloss: 0.143821\tvalid_0's auc: 0.839224\n",
            "[73]\tvalid_0's binary_logloss: 0.14368\tvalid_0's auc: 0.839621\n",
            "[74]\tvalid_0's binary_logloss: 0.143553\tvalid_0's auc: 0.83967\n",
            "[75]\tvalid_0's binary_logloss: 0.143412\tvalid_0's auc: 0.839692\n",
            "[76]\tvalid_0's binary_logloss: 0.14327\tvalid_0's auc: 0.839625\n",
            "[77]\tvalid_0's binary_logloss: 0.143136\tvalid_0's auc: 0.839722\n",
            "[78]\tvalid_0's binary_logloss: 0.143008\tvalid_0's auc: 0.839761\n",
            "[79]\tvalid_0's binary_logloss: 0.142868\tvalid_0's auc: 0.83975\n",
            "[80]\tvalid_0's binary_logloss: 0.142747\tvalid_0's auc: 0.839736\n",
            "[81]\tvalid_0's binary_logloss: 0.142629\tvalid_0's auc: 0.839924\n",
            "[82]\tvalid_0's binary_logloss: 0.142529\tvalid_0's auc: 0.839856\n",
            "[83]\tvalid_0's binary_logloss: 0.142424\tvalid_0's auc: 0.839942\n",
            "[84]\tvalid_0's binary_logloss: 0.14229\tvalid_0's auc: 0.840012\n",
            "[85]\tvalid_0's binary_logloss: 0.142173\tvalid_0's auc: 0.84006\n",
            "[86]\tvalid_0's binary_logloss: 0.142054\tvalid_0's auc: 0.840136\n",
            "[87]\tvalid_0's binary_logloss: 0.141935\tvalid_0's auc: 0.840146\n",
            "[88]\tvalid_0's binary_logloss: 0.14182\tvalid_0's auc: 0.840173\n",
            "[89]\tvalid_0's binary_logloss: 0.141705\tvalid_0's auc: 0.840246\n",
            "[90]\tvalid_0's binary_logloss: 0.141571\tvalid_0's auc: 0.840508\n",
            "[91]\tvalid_0's binary_logloss: 0.141468\tvalid_0's auc: 0.840616\n",
            "[92]\tvalid_0's binary_logloss: 0.141383\tvalid_0's auc: 0.840559\n",
            "[93]\tvalid_0's binary_logloss: 0.141283\tvalid_0's auc: 0.840555\n",
            "[94]\tvalid_0's binary_logloss: 0.141197\tvalid_0's auc: 0.840549\n",
            "[95]\tvalid_0's binary_logloss: 0.1411\tvalid_0's auc: 0.840577\n",
            "[96]\tvalid_0's binary_logloss: 0.140986\tvalid_0's auc: 0.84061\n",
            "[97]\tvalid_0's binary_logloss: 0.140905\tvalid_0's auc: 0.840537\n",
            "[98]\tvalid_0's binary_logloss: 0.140799\tvalid_0's auc: 0.840772\n",
            "[99]\tvalid_0's binary_logloss: 0.140681\tvalid_0's auc: 0.84105\n",
            "[100]\tvalid_0's binary_logloss: 0.140589\tvalid_0's auc: 0.841305\n",
            "[101]\tvalid_0's binary_logloss: 0.140477\tvalid_0's auc: 0.841655\n",
            "[102]\tvalid_0's binary_logloss: 0.140395\tvalid_0's auc: 0.841728\n",
            "[103]\tvalid_0's binary_logloss: 0.14031\tvalid_0's auc: 0.841843\n",
            "[104]\tvalid_0's binary_logloss: 0.140241\tvalid_0's auc: 0.841865\n",
            "[105]\tvalid_0's binary_logloss: 0.140149\tvalid_0's auc: 0.84197\n",
            "[106]\tvalid_0's binary_logloss: 0.140061\tvalid_0's auc: 0.842068\n",
            "[107]\tvalid_0's binary_logloss: 0.13998\tvalid_0's auc: 0.84209\n",
            "[108]\tvalid_0's binary_logloss: 0.139896\tvalid_0's auc: 0.842121\n",
            "[109]\tvalid_0's binary_logloss: 0.139818\tvalid_0's auc: 0.842097\n",
            "[110]\tvalid_0's binary_logloss: 0.139748\tvalid_0's auc: 0.841943\n",
            "[111]\tvalid_0's binary_logloss: 0.13969\tvalid_0's auc: 0.841784\n",
            "[112]\tvalid_0's binary_logloss: 0.139628\tvalid_0's auc: 0.842098\n",
            "[113]\tvalid_0's binary_logloss: 0.139549\tvalid_0's auc: 0.842222\n",
            "[114]\tvalid_0's binary_logloss: 0.139467\tvalid_0's auc: 0.842098\n",
            "[115]\tvalid_0's binary_logloss: 0.139403\tvalid_0's auc: 0.841997\n",
            "[116]\tvalid_0's binary_logloss: 0.139338\tvalid_0's auc: 0.841998\n",
            "[117]\tvalid_0's binary_logloss: 0.139286\tvalid_0's auc: 0.842021\n",
            "[118]\tvalid_0's binary_logloss: 0.139203\tvalid_0's auc: 0.842055\n",
            "[119]\tvalid_0's binary_logloss: 0.139139\tvalid_0's auc: 0.842236\n",
            "[120]\tvalid_0's binary_logloss: 0.139065\tvalid_0's auc: 0.842242\n",
            "[121]\tvalid_0's binary_logloss: 0.138992\tvalid_0's auc: 0.842304\n",
            "[122]\tvalid_0's binary_logloss: 0.138905\tvalid_0's auc: 0.842559\n",
            "[123]\tvalid_0's binary_logloss: 0.138823\tvalid_0's auc: 0.842587\n",
            "[124]\tvalid_0's binary_logloss: 0.138758\tvalid_0's auc: 0.842609\n",
            "[125]\tvalid_0's binary_logloss: 0.138685\tvalid_0's auc: 0.842586\n",
            "[126]\tvalid_0's binary_logloss: 0.138604\tvalid_0's auc: 0.842633\n",
            "[127]\tvalid_0's binary_logloss: 0.138532\tvalid_0's auc: 0.842824\n",
            "[128]\tvalid_0's binary_logloss: 0.138465\tvalid_0's auc: 0.842967\n",
            "[129]\tvalid_0's binary_logloss: 0.138383\tvalid_0's auc: 0.843274\n",
            "[130]\tvalid_0's binary_logloss: 0.13831\tvalid_0's auc: 0.843462\n",
            "[131]\tvalid_0's binary_logloss: 0.138266\tvalid_0's auc: 0.843411\n",
            "[132]\tvalid_0's binary_logloss: 0.138217\tvalid_0's auc: 0.843422\n",
            "[133]\tvalid_0's binary_logloss: 0.138152\tvalid_0's auc: 0.843497\n",
            "[134]\tvalid_0's binary_logloss: 0.138094\tvalid_0's auc: 0.843537\n",
            "[135]\tvalid_0's binary_logloss: 0.138033\tvalid_0's auc: 0.84364\n",
            "[136]\tvalid_0's binary_logloss: 0.137971\tvalid_0's auc: 0.843733\n",
            "[137]\tvalid_0's binary_logloss: 0.137911\tvalid_0's auc: 0.843724\n",
            "[138]\tvalid_0's binary_logloss: 0.137851\tvalid_0's auc: 0.843822\n",
            "[139]\tvalid_0's binary_logloss: 0.137802\tvalid_0's auc: 0.843846\n",
            "[140]\tvalid_0's binary_logloss: 0.137751\tvalid_0's auc: 0.843883\n",
            "[141]\tvalid_0's binary_logloss: 0.137716\tvalid_0's auc: 0.843817\n",
            "[142]\tvalid_0's binary_logloss: 0.137664\tvalid_0's auc: 0.843835\n",
            "[143]\tvalid_0's binary_logloss: 0.137596\tvalid_0's auc: 0.843903\n",
            "[144]\tvalid_0's binary_logloss: 0.137548\tvalid_0's auc: 0.843908\n",
            "[145]\tvalid_0's binary_logloss: 0.137496\tvalid_0's auc: 0.843874\n",
            "[146]\tvalid_0's binary_logloss: 0.137443\tvalid_0's auc: 0.84389\n",
            "[147]\tvalid_0's binary_logloss: 0.137388\tvalid_0's auc: 0.843958\n",
            "[148]\tvalid_0's binary_logloss: 0.137334\tvalid_0's auc: 0.844047\n",
            "[149]\tvalid_0's binary_logloss: 0.137279\tvalid_0's auc: 0.843991\n",
            "[150]\tvalid_0's binary_logloss: 0.137233\tvalid_0's auc: 0.844031\n",
            "[151]\tvalid_0's binary_logloss: 0.137179\tvalid_0's auc: 0.843949\n",
            "[152]\tvalid_0's binary_logloss: 0.137124\tvalid_0's auc: 0.843962\n",
            "[153]\tvalid_0's binary_logloss: 0.137082\tvalid_0's auc: 0.843896\n",
            "[154]\tvalid_0's binary_logloss: 0.137031\tvalid_0's auc: 0.843907\n",
            "[155]\tvalid_0's binary_logloss: 0.136996\tvalid_0's auc: 0.843855\n",
            "[156]\tvalid_0's binary_logloss: 0.136952\tvalid_0's auc: 0.843923\n",
            "[157]\tvalid_0's binary_logloss: 0.136897\tvalid_0's auc: 0.843889\n",
            "[158]\tvalid_0's binary_logloss: 0.13686\tvalid_0's auc: 0.843976\n",
            "[159]\tvalid_0's binary_logloss: 0.136818\tvalid_0's auc: 0.843928\n",
            "[160]\tvalid_0's binary_logloss: 0.136776\tvalid_0's auc: 0.843904\n",
            "[161]\tvalid_0's binary_logloss: 0.136725\tvalid_0's auc: 0.843999\n",
            "[162]\tvalid_0's binary_logloss: 0.136692\tvalid_0's auc: 0.843919\n",
            "[163]\tvalid_0's binary_logloss: 0.136656\tvalid_0's auc: 0.843859\n",
            "[164]\tvalid_0's binary_logloss: 0.136621\tvalid_0's auc: 0.843912\n",
            "[165]\tvalid_0's binary_logloss: 0.13658\tvalid_0's auc: 0.843953\n",
            "[166]\tvalid_0's binary_logloss: 0.136545\tvalid_0's auc: 0.843922\n",
            "[167]\tvalid_0's binary_logloss: 0.136501\tvalid_0's auc: 0.843968\n",
            "[168]\tvalid_0's binary_logloss: 0.136473\tvalid_0's auc: 0.843971\n",
            "[169]\tvalid_0's binary_logloss: 0.136428\tvalid_0's auc: 0.843946\n",
            "[170]\tvalid_0's binary_logloss: 0.136389\tvalid_0's auc: 0.843959\n",
            "[171]\tvalid_0's binary_logloss: 0.136347\tvalid_0's auc: 0.844005\n",
            "[172]\tvalid_0's binary_logloss: 0.136311\tvalid_0's auc: 0.843987\n",
            "[173]\tvalid_0's binary_logloss: 0.136272\tvalid_0's auc: 0.844022\n",
            "[174]\tvalid_0's binary_logloss: 0.136246\tvalid_0's auc: 0.843992\n",
            "[175]\tvalid_0's binary_logloss: 0.136204\tvalid_0's auc: 0.844008\n",
            "[176]\tvalid_0's binary_logloss: 0.136166\tvalid_0's auc: 0.844045\n",
            "[177]\tvalid_0's binary_logloss: 0.136122\tvalid_0's auc: 0.844099\n",
            "[178]\tvalid_0's binary_logloss: 0.136092\tvalid_0's auc: 0.844118\n",
            "[179]\tvalid_0's binary_logloss: 0.136071\tvalid_0's auc: 0.844103\n",
            "[180]\tvalid_0's binary_logloss: 0.13604\tvalid_0's auc: 0.84411\n",
            "[181]\tvalid_0's binary_logloss: 0.136006\tvalid_0's auc: 0.844104\n",
            "[182]\tvalid_0's binary_logloss: 0.135974\tvalid_0's auc: 0.844081\n",
            "[183]\tvalid_0's binary_logloss: 0.135935\tvalid_0's auc: 0.844079\n",
            "[184]\tvalid_0's binary_logloss: 0.135904\tvalid_0's auc: 0.844323\n",
            "[185]\tvalid_0's binary_logloss: 0.135869\tvalid_0's auc: 0.84426\n",
            "[186]\tvalid_0's binary_logloss: 0.135834\tvalid_0's auc: 0.844336\n",
            "[187]\tvalid_0's binary_logloss: 0.135803\tvalid_0's auc: 0.844459\n",
            "[188]\tvalid_0's binary_logloss: 0.135772\tvalid_0's auc: 0.844419\n",
            "[189]\tvalid_0's binary_logloss: 0.135739\tvalid_0's auc: 0.844465\n",
            "[190]\tvalid_0's binary_logloss: 0.135719\tvalid_0's auc: 0.844465\n",
            "[191]\tvalid_0's binary_logloss: 0.135687\tvalid_0's auc: 0.844405\n",
            "[192]\tvalid_0's binary_logloss: 0.135648\tvalid_0's auc: 0.844474\n",
            "[193]\tvalid_0's binary_logloss: 0.13561\tvalid_0's auc: 0.844733\n",
            "[194]\tvalid_0's binary_logloss: 0.135581\tvalid_0's auc: 0.844714\n",
            "[195]\tvalid_0's binary_logloss: 0.13555\tvalid_0's auc: 0.844726\n",
            "[196]\tvalid_0's binary_logloss: 0.135537\tvalid_0's auc: 0.844619\n",
            "[197]\tvalid_0's binary_logloss: 0.135512\tvalid_0's auc: 0.844636\n",
            "[198]\tvalid_0's binary_logloss: 0.13548\tvalid_0's auc: 0.844699\n",
            "[199]\tvalid_0's binary_logloss: 0.135451\tvalid_0's auc: 0.844696\n",
            "[200]\tvalid_0's binary_logloss: 0.135429\tvalid_0's auc: 0.844723\n",
            "[201]\tvalid_0's binary_logloss: 0.135402\tvalid_0's auc: 0.844661\n",
            "[202]\tvalid_0's binary_logloss: 0.135385\tvalid_0's auc: 0.844685\n",
            "[203]\tvalid_0's binary_logloss: 0.135359\tvalid_0's auc: 0.844647\n",
            "[204]\tvalid_0's binary_logloss: 0.135338\tvalid_0's auc: 0.844668\n",
            "[205]\tvalid_0's binary_logloss: 0.135315\tvalid_0's auc: 0.844759\n",
            "[206]\tvalid_0's binary_logloss: 0.135291\tvalid_0's auc: 0.844816\n",
            "[207]\tvalid_0's binary_logloss: 0.135276\tvalid_0's auc: 0.844745\n",
            "[208]\tvalid_0's binary_logloss: 0.135258\tvalid_0's auc: 0.844783\n",
            "[209]\tvalid_0's binary_logloss: 0.135244\tvalid_0's auc: 0.844789\n",
            "[210]\tvalid_0's binary_logloss: 0.135217\tvalid_0's auc: 0.844804\n",
            "[211]\tvalid_0's binary_logloss: 0.135189\tvalid_0's auc: 0.844818\n",
            "[212]\tvalid_0's binary_logloss: 0.135167\tvalid_0's auc: 0.844814\n",
            "[213]\tvalid_0's binary_logloss: 0.135141\tvalid_0's auc: 0.844743\n",
            "[214]\tvalid_0's binary_logloss: 0.135119\tvalid_0's auc: 0.844754\n",
            "[215]\tvalid_0's binary_logloss: 0.135103\tvalid_0's auc: 0.844749\n",
            "[216]\tvalid_0's binary_logloss: 0.135093\tvalid_0's auc: 0.844593\n",
            "[217]\tvalid_0's binary_logloss: 0.135073\tvalid_0's auc: 0.844593\n",
            "[218]\tvalid_0's binary_logloss: 0.135047\tvalid_0's auc: 0.844604\n",
            "[219]\tvalid_0's binary_logloss: 0.135039\tvalid_0's auc: 0.844534\n",
            "[220]\tvalid_0's binary_logloss: 0.135011\tvalid_0's auc: 0.844534\n",
            "[221]\tvalid_0's binary_logloss: 0.135005\tvalid_0's auc: 0.844501\n",
            "[222]\tvalid_0's binary_logloss: 0.134982\tvalid_0's auc: 0.84447\n",
            "[223]\tvalid_0's binary_logloss: 0.134963\tvalid_0's auc: 0.844518\n",
            "[224]\tvalid_0's binary_logloss: 0.13494\tvalid_0's auc: 0.844543\n",
            "[225]\tvalid_0's binary_logloss: 0.134922\tvalid_0's auc: 0.844536\n",
            "[226]\tvalid_0's binary_logloss: 0.1349\tvalid_0's auc: 0.844582\n",
            "[227]\tvalid_0's binary_logloss: 0.134875\tvalid_0's auc: 0.844637\n",
            "[228]\tvalid_0's binary_logloss: 0.134873\tvalid_0's auc: 0.844598\n",
            "[229]\tvalid_0's binary_logloss: 0.134846\tvalid_0's auc: 0.844604\n",
            "[230]\tvalid_0's binary_logloss: 0.134827\tvalid_0's auc: 0.844585\n",
            "[231]\tvalid_0's binary_logloss: 0.134808\tvalid_0's auc: 0.844621\n",
            "[232]\tvalid_0's binary_logloss: 0.134784\tvalid_0's auc: 0.844621\n",
            "[233]\tvalid_0's binary_logloss: 0.134765\tvalid_0's auc: 0.844692\n",
            "[234]\tvalid_0's binary_logloss: 0.134747\tvalid_0's auc: 0.844663\n",
            "[235]\tvalid_0's binary_logloss: 0.134732\tvalid_0's auc: 0.844688\n",
            "[236]\tvalid_0's binary_logloss: 0.134713\tvalid_0's auc: 0.844677\n",
            "[237]\tvalid_0's binary_logloss: 0.134695\tvalid_0's auc: 0.84472\n",
            "[238]\tvalid_0's binary_logloss: 0.134677\tvalid_0's auc: 0.844699\n",
            "[239]\tvalid_0's binary_logloss: 0.134665\tvalid_0's auc: 0.844733\n",
            "[240]\tvalid_0's binary_logloss: 0.13465\tvalid_0's auc: 0.844676\n",
            "[241]\tvalid_0's binary_logloss: 0.134637\tvalid_0's auc: 0.84462\n",
            "[242]\tvalid_0's binary_logloss: 0.134617\tvalid_0's auc: 0.844621\n",
            "[243]\tvalid_0's binary_logloss: 0.134609\tvalid_0's auc: 0.844654\n",
            "[244]\tvalid_0's binary_logloss: 0.134596\tvalid_0's auc: 0.844611\n",
            "[245]\tvalid_0's binary_logloss: 0.134586\tvalid_0's auc: 0.844747\n",
            "[246]\tvalid_0's binary_logloss: 0.134574\tvalid_0's auc: 0.844704\n",
            "[247]\tvalid_0's binary_logloss: 0.134574\tvalid_0's auc: 0.84463\n",
            "[248]\tvalid_0's binary_logloss: 0.134566\tvalid_0's auc: 0.844558\n",
            "[249]\tvalid_0's binary_logloss: 0.134542\tvalid_0's auc: 0.844653\n",
            "[250]\tvalid_0's binary_logloss: 0.134532\tvalid_0's auc: 0.844656\n",
            "[251]\tvalid_0's binary_logloss: 0.134514\tvalid_0's auc: 0.844628\n",
            "[252]\tvalid_0's binary_logloss: 0.134499\tvalid_0's auc: 0.844646\n",
            "[253]\tvalid_0's binary_logloss: 0.134472\tvalid_0's auc: 0.844783\n",
            "[254]\tvalid_0's binary_logloss: 0.134469\tvalid_0's auc: 0.844798\n",
            "[255]\tvalid_0's binary_logloss: 0.134462\tvalid_0's auc: 0.844756\n",
            "[256]\tvalid_0's binary_logloss: 0.134445\tvalid_0's auc: 0.844847\n",
            "[257]\tvalid_0's binary_logloss: 0.13444\tvalid_0's auc: 0.844762\n",
            "[258]\tvalid_0's binary_logloss: 0.134436\tvalid_0's auc: 0.844775\n",
            "[259]\tvalid_0's binary_logloss: 0.134417\tvalid_0's auc: 0.844755\n",
            "[260]\tvalid_0's binary_logloss: 0.134401\tvalid_0's auc: 0.844822\n",
            "[261]\tvalid_0's binary_logloss: 0.134395\tvalid_0's auc: 0.844738\n",
            "[262]\tvalid_0's binary_logloss: 0.134392\tvalid_0's auc: 0.844695\n",
            "[263]\tvalid_0's binary_logloss: 0.134379\tvalid_0's auc: 0.844734\n",
            "[264]\tvalid_0's binary_logloss: 0.134367\tvalid_0's auc: 0.844728\n",
            "[265]\tvalid_0's binary_logloss: 0.134353\tvalid_0's auc: 0.844733\n",
            "[266]\tvalid_0's binary_logloss: 0.134336\tvalid_0's auc: 0.844725\n",
            "[267]\tvalid_0's binary_logloss: 0.134316\tvalid_0's auc: 0.84488\n",
            "[268]\tvalid_0's binary_logloss: 0.134306\tvalid_0's auc: 0.844855\n",
            "[269]\tvalid_0's binary_logloss: 0.1343\tvalid_0's auc: 0.844805\n",
            "[270]\tvalid_0's binary_logloss: 0.134287\tvalid_0's auc: 0.84488\n",
            "[271]\tvalid_0's binary_logloss: 0.134273\tvalid_0's auc: 0.844927\n",
            "[272]\tvalid_0's binary_logloss: 0.134248\tvalid_0's auc: 0.844947\n",
            "[273]\tvalid_0's binary_logloss: 0.134227\tvalid_0's auc: 0.845053\n",
            "[274]\tvalid_0's binary_logloss: 0.134213\tvalid_0's auc: 0.845129\n",
            "[275]\tvalid_0's binary_logloss: 0.134192\tvalid_0's auc: 0.845107\n",
            "[276]\tvalid_0's binary_logloss: 0.134176\tvalid_0's auc: 0.845134\n",
            "[277]\tvalid_0's binary_logloss: 0.134159\tvalid_0's auc: 0.845271\n",
            "[278]\tvalid_0's binary_logloss: 0.134149\tvalid_0's auc: 0.845232\n",
            "[279]\tvalid_0's binary_logloss: 0.13414\tvalid_0's auc: 0.845242\n",
            "[280]\tvalid_0's binary_logloss: 0.13413\tvalid_0's auc: 0.845239\n",
            "[281]\tvalid_0's binary_logloss: 0.134121\tvalid_0's auc: 0.845223\n",
            "[282]\tvalid_0's binary_logloss: 0.134109\tvalid_0's auc: 0.845303\n",
            "[283]\tvalid_0's binary_logloss: 0.134098\tvalid_0's auc: 0.845311\n",
            "[284]\tvalid_0's binary_logloss: 0.134082\tvalid_0's auc: 0.845309\n",
            "[285]\tvalid_0's binary_logloss: 0.134066\tvalid_0's auc: 0.845331\n",
            "[286]\tvalid_0's binary_logloss: 0.134052\tvalid_0's auc: 0.845323\n",
            "[287]\tvalid_0's binary_logloss: 0.134035\tvalid_0's auc: 0.845354\n",
            "[288]\tvalid_0's binary_logloss: 0.134027\tvalid_0's auc: 0.845307\n",
            "[289]\tvalid_0's binary_logloss: 0.13402\tvalid_0's auc: 0.845364\n",
            "[290]\tvalid_0's binary_logloss: 0.134003\tvalid_0's auc: 0.84546\n",
            "[291]\tvalid_0's binary_logloss: 0.133998\tvalid_0's auc: 0.845523\n",
            "[292]\tvalid_0's binary_logloss: 0.133989\tvalid_0's auc: 0.845451\n",
            "[293]\tvalid_0's binary_logloss: 0.133978\tvalid_0's auc: 0.845496\n",
            "[294]\tvalid_0's binary_logloss: 0.13397\tvalid_0's auc: 0.845513\n",
            "[295]\tvalid_0's binary_logloss: 0.133962\tvalid_0's auc: 0.845448\n",
            "[296]\tvalid_0's binary_logloss: 0.133951\tvalid_0's auc: 0.845517\n",
            "[297]\tvalid_0's binary_logloss: 0.133938\tvalid_0's auc: 0.845539\n",
            "[298]\tvalid_0's binary_logloss: 0.133935\tvalid_0's auc: 0.845567\n",
            "[299]\tvalid_0's binary_logloss: 0.133928\tvalid_0's auc: 0.845582\n",
            "[300]\tvalid_0's binary_logloss: 0.133912\tvalid_0's auc: 0.845643\n",
            "[301]\tvalid_0's binary_logloss: 0.133909\tvalid_0's auc: 0.845617\n",
            "[302]\tvalid_0's binary_logloss: 0.133913\tvalid_0's auc: 0.845549\n",
            "[303]\tvalid_0's binary_logloss: 0.133909\tvalid_0's auc: 0.845604\n",
            "[304]\tvalid_0's binary_logloss: 0.133899\tvalid_0's auc: 0.845628\n",
            "[305]\tvalid_0's binary_logloss: 0.133894\tvalid_0's auc: 0.845625\n",
            "[306]\tvalid_0's binary_logloss: 0.133885\tvalid_0's auc: 0.845613\n",
            "[307]\tvalid_0's binary_logloss: 0.133875\tvalid_0's auc: 0.845715\n",
            "[308]\tvalid_0's binary_logloss: 0.13387\tvalid_0's auc: 0.845684\n",
            "[309]\tvalid_0's binary_logloss: 0.133859\tvalid_0's auc: 0.845691\n",
            "[310]\tvalid_0's binary_logloss: 0.133849\tvalid_0's auc: 0.845698\n",
            "[311]\tvalid_0's binary_logloss: 0.13384\tvalid_0's auc: 0.845688\n",
            "[312]\tvalid_0's binary_logloss: 0.133827\tvalid_0's auc: 0.845727\n",
            "[313]\tvalid_0's binary_logloss: 0.133826\tvalid_0's auc: 0.845704\n",
            "[314]\tvalid_0's binary_logloss: 0.133826\tvalid_0's auc: 0.845683\n",
            "[315]\tvalid_0's binary_logloss: 0.133815\tvalid_0's auc: 0.845693\n",
            "[316]\tvalid_0's binary_logloss: 0.133803\tvalid_0's auc: 0.845709\n",
            "[317]\tvalid_0's binary_logloss: 0.133801\tvalid_0's auc: 0.845701\n",
            "[318]\tvalid_0's binary_logloss: 0.133795\tvalid_0's auc: 0.845688\n",
            "[319]\tvalid_0's binary_logloss: 0.133786\tvalid_0's auc: 0.845683\n",
            "[320]\tvalid_0's binary_logloss: 0.133785\tvalid_0's auc: 0.845645\n",
            "[321]\tvalid_0's binary_logloss: 0.13378\tvalid_0's auc: 0.845689\n",
            "[322]\tvalid_0's binary_logloss: 0.133772\tvalid_0's auc: 0.845706\n",
            "[323]\tvalid_0's binary_logloss: 0.133766\tvalid_0's auc: 0.845713\n",
            "[324]\tvalid_0's binary_logloss: 0.133762\tvalid_0's auc: 0.845698\n",
            "[325]\tvalid_0's binary_logloss: 0.133759\tvalid_0's auc: 0.845678\n",
            "[326]\tvalid_0's binary_logloss: 0.13375\tvalid_0's auc: 0.845724\n",
            "[327]\tvalid_0's binary_logloss: 0.133737\tvalid_0's auc: 0.845768\n",
            "[328]\tvalid_0's binary_logloss: 0.133727\tvalid_0's auc: 0.845783\n",
            "[329]\tvalid_0's binary_logloss: 0.133718\tvalid_0's auc: 0.845834\n",
            "[330]\tvalid_0's binary_logloss: 0.133721\tvalid_0's auc: 0.845856\n",
            "[331]\tvalid_0's binary_logloss: 0.133714\tvalid_0's auc: 0.845857\n",
            "[332]\tvalid_0's binary_logloss: 0.13371\tvalid_0's auc: 0.845841\n",
            "[333]\tvalid_0's binary_logloss: 0.133707\tvalid_0's auc: 0.845838\n",
            "[334]\tvalid_0's binary_logloss: 0.133709\tvalid_0's auc: 0.845827\n",
            "[335]\tvalid_0's binary_logloss: 0.133702\tvalid_0's auc: 0.845815\n",
            "[336]\tvalid_0's binary_logloss: 0.133692\tvalid_0's auc: 0.84584\n",
            "[337]\tvalid_0's binary_logloss: 0.133682\tvalid_0's auc: 0.845881\n",
            "[338]\tvalid_0's binary_logloss: 0.13367\tvalid_0's auc: 0.845899\n",
            "[339]\tvalid_0's binary_logloss: 0.133662\tvalid_0's auc: 0.845905\n",
            "[340]\tvalid_0's binary_logloss: 0.133654\tvalid_0's auc: 0.84594\n",
            "[341]\tvalid_0's binary_logloss: 0.133657\tvalid_0's auc: 0.845908\n",
            "[342]\tvalid_0's binary_logloss: 0.133655\tvalid_0's auc: 0.845888\n",
            "[343]\tvalid_0's binary_logloss: 0.133645\tvalid_0's auc: 0.845902\n",
            "[344]\tvalid_0's binary_logloss: 0.133616\tvalid_0's auc: 0.845993\n",
            "[345]\tvalid_0's binary_logloss: 0.133612\tvalid_0's auc: 0.845987\n",
            "[346]\tvalid_0's binary_logloss: 0.133596\tvalid_0's auc: 0.846115\n",
            "[347]\tvalid_0's binary_logloss: 0.133581\tvalid_0's auc: 0.846158\n",
            "[348]\tvalid_0's binary_logloss: 0.13358\tvalid_0's auc: 0.846121\n",
            "[349]\tvalid_0's binary_logloss: 0.133567\tvalid_0's auc: 0.846187\n",
            "[350]\tvalid_0's binary_logloss: 0.133557\tvalid_0's auc: 0.846197\n",
            "[351]\tvalid_0's binary_logloss: 0.133552\tvalid_0's auc: 0.846166\n",
            "[352]\tvalid_0's binary_logloss: 0.13354\tvalid_0's auc: 0.846189\n",
            "[353]\tvalid_0's binary_logloss: 0.133528\tvalid_0's auc: 0.846261\n",
            "[354]\tvalid_0's binary_logloss: 0.133526\tvalid_0's auc: 0.84626\n",
            "[355]\tvalid_0's binary_logloss: 0.133515\tvalid_0's auc: 0.846291\n",
            "[356]\tvalid_0's binary_logloss: 0.133513\tvalid_0's auc: 0.846248\n",
            "[357]\tvalid_0's binary_logloss: 0.133499\tvalid_0's auc: 0.846244\n",
            "[358]\tvalid_0's binary_logloss: 0.133504\tvalid_0's auc: 0.846208\n",
            "[359]\tvalid_0's binary_logloss: 0.133504\tvalid_0's auc: 0.846169\n",
            "[360]\tvalid_0's binary_logloss: 0.133502\tvalid_0's auc: 0.846133\n",
            "[361]\tvalid_0's binary_logloss: 0.133496\tvalid_0's auc: 0.846139\n",
            "[362]\tvalid_0's binary_logloss: 0.133488\tvalid_0's auc: 0.846114\n",
            "[363]\tvalid_0's binary_logloss: 0.133474\tvalid_0's auc: 0.846198\n",
            "[364]\tvalid_0's binary_logloss: 0.133466\tvalid_0's auc: 0.846221\n",
            "[365]\tvalid_0's binary_logloss: 0.133463\tvalid_0's auc: 0.846228\n",
            "[366]\tvalid_0's binary_logloss: 0.133459\tvalid_0's auc: 0.846226\n",
            "[367]\tvalid_0's binary_logloss: 0.133455\tvalid_0's auc: 0.846233\n",
            "[368]\tvalid_0's binary_logloss: 0.133447\tvalid_0's auc: 0.846269\n",
            "[369]\tvalid_0's binary_logloss: 0.133433\tvalid_0's auc: 0.846304\n",
            "[370]\tvalid_0's binary_logloss: 0.133432\tvalid_0's auc: 0.846314\n",
            "[371]\tvalid_0's binary_logloss: 0.133423\tvalid_0's auc: 0.846334\n",
            "[372]\tvalid_0's binary_logloss: 0.133423\tvalid_0's auc: 0.846267\n",
            "[373]\tvalid_0's binary_logloss: 0.133424\tvalid_0's auc: 0.846243\n",
            "[374]\tvalid_0's binary_logloss: 0.133414\tvalid_0's auc: 0.846253\n",
            "[375]\tvalid_0's binary_logloss: 0.133407\tvalid_0's auc: 0.84626\n",
            "[376]\tvalid_0's binary_logloss: 0.133399\tvalid_0's auc: 0.846282\n",
            "[377]\tvalid_0's binary_logloss: 0.133392\tvalid_0's auc: 0.846317\n",
            "[378]\tvalid_0's binary_logloss: 0.133382\tvalid_0's auc: 0.846346\n",
            "[379]\tvalid_0's binary_logloss: 0.13338\tvalid_0's auc: 0.846343\n",
            "[380]\tvalid_0's binary_logloss: 0.133378\tvalid_0's auc: 0.846301\n",
            "[381]\tvalid_0's binary_logloss: 0.133369\tvalid_0's auc: 0.846343\n",
            "[382]\tvalid_0's binary_logloss: 0.133366\tvalid_0's auc: 0.846359\n",
            "[383]\tvalid_0's binary_logloss: 0.133363\tvalid_0's auc: 0.846329\n",
            "[384]\tvalid_0's binary_logloss: 0.133361\tvalid_0's auc: 0.846305\n",
            "[385]\tvalid_0's binary_logloss: 0.133356\tvalid_0's auc: 0.846299\n",
            "[386]\tvalid_0's binary_logloss: 0.13335\tvalid_0's auc: 0.84629\n",
            "[387]\tvalid_0's binary_logloss: 0.133342\tvalid_0's auc: 0.846306\n",
            "[388]\tvalid_0's binary_logloss: 0.13334\tvalid_0's auc: 0.846306\n",
            "[389]\tvalid_0's binary_logloss: 0.133315\tvalid_0's auc: 0.846367\n",
            "[390]\tvalid_0's binary_logloss: 0.133314\tvalid_0's auc: 0.846366\n",
            "[391]\tvalid_0's binary_logloss: 0.133309\tvalid_0's auc: 0.846357\n",
            "[392]\tvalid_0's binary_logloss: 0.133311\tvalid_0's auc: 0.846374\n",
            "[393]\tvalid_0's binary_logloss: 0.133301\tvalid_0's auc: 0.846386\n",
            "[394]\tvalid_0's binary_logloss: 0.133298\tvalid_0's auc: 0.84637\n",
            "[395]\tvalid_0's binary_logloss: 0.133288\tvalid_0's auc: 0.846373\n",
            "[396]\tvalid_0's binary_logloss: 0.133282\tvalid_0's auc: 0.846366\n",
            "[397]\tvalid_0's binary_logloss: 0.133264\tvalid_0's auc: 0.84641\n",
            "[398]\tvalid_0's binary_logloss: 0.133253\tvalid_0's auc: 0.846489\n",
            "[399]\tvalid_0's binary_logloss: 0.133239\tvalid_0's auc: 0.846541\n",
            "[400]\tvalid_0's binary_logloss: 0.133238\tvalid_0's auc: 0.846527\n",
            "[401]\tvalid_0's binary_logloss: 0.133239\tvalid_0's auc: 0.846507\n",
            "[402]\tvalid_0's binary_logloss: 0.133218\tvalid_0's auc: 0.846628\n",
            "[403]\tvalid_0's binary_logloss: 0.133216\tvalid_0's auc: 0.846652\n",
            "[404]\tvalid_0's binary_logloss: 0.133215\tvalid_0's auc: 0.846671\n",
            "[405]\tvalid_0's binary_logloss: 0.133211\tvalid_0's auc: 0.846679\n",
            "[406]\tvalid_0's binary_logloss: 0.133214\tvalid_0's auc: 0.846673\n",
            "[407]\tvalid_0's binary_logloss: 0.133214\tvalid_0's auc: 0.846638\n",
            "[408]\tvalid_0's binary_logloss: 0.133214\tvalid_0's auc: 0.846617\n",
            "[409]\tvalid_0's binary_logloss: 0.133218\tvalid_0's auc: 0.846613\n",
            "[410]\tvalid_0's binary_logloss: 0.133215\tvalid_0's auc: 0.846621\n",
            "[411]\tvalid_0's binary_logloss: 0.133212\tvalid_0's auc: 0.846651\n",
            "[412]\tvalid_0's binary_logloss: 0.13321\tvalid_0's auc: 0.846625\n",
            "[413]\tvalid_0's binary_logloss: 0.133202\tvalid_0's auc: 0.846685\n",
            "[414]\tvalid_0's binary_logloss: 0.133202\tvalid_0's auc: 0.846647\n",
            "[415]\tvalid_0's binary_logloss: 0.133194\tvalid_0's auc: 0.846694\n",
            "[416]\tvalid_0's binary_logloss: 0.133189\tvalid_0's auc: 0.846684\n",
            "[417]\tvalid_0's binary_logloss: 0.133184\tvalid_0's auc: 0.846688\n",
            "[418]\tvalid_0's binary_logloss: 0.133179\tvalid_0's auc: 0.846694\n",
            "[419]\tvalid_0's binary_logloss: 0.133182\tvalid_0's auc: 0.846649\n",
            "[420]\tvalid_0's binary_logloss: 0.13318\tvalid_0's auc: 0.846636\n",
            "[421]\tvalid_0's binary_logloss: 0.133179\tvalid_0's auc: 0.846652\n",
            "[422]\tvalid_0's binary_logloss: 0.13317\tvalid_0's auc: 0.846727\n",
            "[423]\tvalid_0's binary_logloss: 0.133161\tvalid_0's auc: 0.846764\n",
            "[424]\tvalid_0's binary_logloss: 0.133165\tvalid_0's auc: 0.846757\n",
            "[425]\tvalid_0's binary_logloss: 0.133163\tvalid_0's auc: 0.846742\n",
            "[426]\tvalid_0's binary_logloss: 0.133164\tvalid_0's auc: 0.846726\n",
            "[427]\tvalid_0's binary_logloss: 0.133162\tvalid_0's auc: 0.84673\n",
            "[428]\tvalid_0's binary_logloss: 0.133157\tvalid_0's auc: 0.846664\n",
            "[429]\tvalid_0's binary_logloss: 0.133155\tvalid_0's auc: 0.846645\n",
            "[430]\tvalid_0's binary_logloss: 0.133147\tvalid_0's auc: 0.84668\n",
            "[431]\tvalid_0's binary_logloss: 0.133148\tvalid_0's auc: 0.846658\n",
            "[432]\tvalid_0's binary_logloss: 0.133138\tvalid_0's auc: 0.846684\n",
            "[433]\tvalid_0's binary_logloss: 0.133133\tvalid_0's auc: 0.846681\n",
            "[434]\tvalid_0's binary_logloss: 0.133133\tvalid_0's auc: 0.846659\n",
            "[435]\tvalid_0's binary_logloss: 0.133139\tvalid_0's auc: 0.84664\n",
            "[436]\tvalid_0's binary_logloss: 0.133136\tvalid_0's auc: 0.846626\n",
            "[437]\tvalid_0's binary_logloss: 0.133135\tvalid_0's auc: 0.846618\n",
            "[438]\tvalid_0's binary_logloss: 0.133136\tvalid_0's auc: 0.846639\n",
            "[439]\tvalid_0's binary_logloss: 0.133135\tvalid_0's auc: 0.84661\n",
            "[440]\tvalid_0's binary_logloss: 0.133131\tvalid_0's auc: 0.84663\n",
            "[441]\tvalid_0's binary_logloss: 0.133132\tvalid_0's auc: 0.846598\n",
            "[442]\tvalid_0's binary_logloss: 0.133126\tvalid_0's auc: 0.846647\n",
            "[443]\tvalid_0's binary_logloss: 0.133125\tvalid_0's auc: 0.846621\n",
            "[444]\tvalid_0's binary_logloss: 0.13312\tvalid_0's auc: 0.84666\n",
            "[445]\tvalid_0's binary_logloss: 0.133111\tvalid_0's auc: 0.846742\n",
            "[446]\tvalid_0's binary_logloss: 0.133109\tvalid_0's auc: 0.846724\n",
            "[447]\tvalid_0's binary_logloss: 0.133107\tvalid_0's auc: 0.846686\n",
            "CPU times: user 49.7 s, sys: 297 ms, total: 49.9 s\n",
            "Wall time: 26.5 s\n"
          ],
          "name": "stdout"
        },
        {
          "output_type": "execute_result",
          "data": {
            "text/plain": [
              "LGBMClassifier(boosting_type='gbdt', class_weight=None, colsample_bytree=0.5,\n",
              "               importance_type='split', learning_rate=0.01, max_depth=8,\n",
              "               min_child_samples=20, min_child_weight=0.001, min_split_gain=0.0,\n",
              "               n_estimators=447, n_jobs=-1, nthread=-1, num_leaves=31,\n",
              "               objective='binary', random_state=42, reg_alpha=0, reg_lambda=0.0,\n",
              "               scale_pos_weight=1, silent=True, subsample=0.8,\n",
              "               subsample_for_bin=200000, subsample_freq=0)"
            ]
          },
          "metadata": {
            "tags": []
          },
          "execution_count": 46
        }
      ]
    },
    {
      "cell_type": "code",
      "metadata": {
        "colab_type": "code",
        "id": "OFf2WKQC-V3R",
        "colab": {
          "base_uri": "https://localhost:8080/"
        },
        "outputId": "2b115f59-4b73-4857-b9a1-ce052de76289"
      },
      "source": [
        "y_pred = model.predict_proba(X_val_200)[:,1]\n",
        "label=\"LightGBM Classifer(top 250)\"\n",
        "labels.append(label)\n",
        "y_preds.append(y_pred)\n",
        "i+=1\n",
        "result = plot_auc(y_val,y_pred,label)\n",
        "result_df = result_df.append(result)\n",
        "del result"
      ],
      "execution_count": null,
      "outputs": [
        {
          "output_type": "stream",
          "text": [
            "\t\t LightGBM Classifer(top 250) on Log Transformed OHE dataset \t\t \n",
            "\n"
          ],
          "name": "stdout"
        },
        {
          "output_type": "display_data",
          "data": {
            "image/png": "[encoded data removed]",
            "text/plain": [
              "<Figure size 432x288 with 1 Axes>"
            ]
          },
          "metadata": {
            "tags": [],
            "needs_background": "light"
          }
        },
        {
          "output_type": "stream",
          "text": [
            "The log loss and auc was found to be 0.133 and 0.847 for LightGBM Classifer(top 250) on Log Transformed OHE dataset.\n"
          ],
          "name": "stdout"
        }
      ]
    },
    {
      "cell_type": "markdown",
      "metadata": {
        "id": "F8r0vIjs9i27",
        "colab_type": "text"
      },
      "source": [
        "# Combined"
      ]
    },
    {
      "cell_type": "code",
      "metadata": {
        "id": "bfDFKhQ9DajM",
        "colab_type": "code",
        "colab": {
          "base_uri": "https://localhost:8080/",
          "height": 518
        },
        "outputId": "7ca37ff2-a385-4984-e61d-e2e94f9435ae"
      },
      "source": [
        "plot_auc(y_val,y_preds,labels)"
      ],
      "execution_count": null,
      "outputs": [
        {
          "output_type": "display_data",
          "data": {
            "image/png": "[encoded data removed]",
            "text/plain": [
              "<Figure size 864x576 with 1 Axes>"
            ]
          },
          "metadata": {
            "tags": [],
            "needs_background": "light"
          }
        }
      ]
    },
    {
      "cell_type": "code",
      "metadata": {
        "id": "FWJqDqYVCUJv",
        "colab_type": "code",
        "colab": {
          "base_uri": "https://localhost:8080/",
          "height": 297
        },
        "outputId": "101d9101-5eef-4914-89dc-086af299c694"
      },
      "source": [
        "result_df.sort_values(by='auc',ascending=False)"
      ],
      "execution_count": null,
      "outputs": [
        {
          "output_type": "execute_result",
          "data": {
            "text/html": [
              "<div>\n",
              "<style scoped>\n",
              "    .dataframe tbody tr th:only-of-type {\n",
              "        vertical-align: middle;\n",
              "    }\n",
              "\n",
              "    .dataframe tbody tr th {\n",
              "        vertical-align: top;\n",
              "    }\n",
              "\n",
              "    .dataframe thead th {\n",
              "        text-align: right;\n",
              "    }\n",
              "</style>\n",
              "<table border=\"1\" class=\"dataframe\">\n",
              "  <thead>\n",
              "    <tr style=\"text-align: right;\">\n",
              "      <th></th>\n",
              "      <th>Model</th>\n",
              "      <th>Dataset</th>\n",
              "      <th>log_loss</th>\n",
              "      <th>auc</th>\n",
              "    </tr>\n",
              "  </thead>\n",
              "  <tbody>\n",
              "    <tr>\n",
              "      <th>3</th>\n",
              "      <td>XGBoost Classifer</td>\n",
              "      <td>Log Transformed OHE</td>\n",
              "      <td>0.132556</td>\n",
              "      <td>0.848140</td>\n",
              "    </tr>\n",
              "    <tr>\n",
              "      <th>6</th>\n",
              "      <td>XGBoost Classifer(top 250)</td>\n",
              "      <td>Log Transformed OHE</td>\n",
              "      <td>0.132707</td>\n",
              "      <td>0.847293</td>\n",
              "    </tr>\n",
              "    <tr>\n",
              "      <th>7</th>\n",
              "      <td>LightGBM Classifer(top 250)</td>\n",
              "      <td>Log Transformed OHE</td>\n",
              "      <td>0.133107</td>\n",
              "      <td>0.846686</td>\n",
              "    </tr>\n",
              "    <tr>\n",
              "      <th>4</th>\n",
              "      <td>LightGBM Classifer</td>\n",
              "      <td>Log Transformed OHE</td>\n",
              "      <td>0.132933</td>\n",
              "      <td>0.845743</td>\n",
              "    </tr>\n",
              "    <tr>\n",
              "      <th>5</th>\n",
              "      <td>Random Forest Classifier (top 250)</td>\n",
              "      <td>Log Transformed OHE</td>\n",
              "      <td>0.136683</td>\n",
              "      <td>0.835698</td>\n",
              "    </tr>\n",
              "    <tr>\n",
              "      <th>2</th>\n",
              "      <td>Random Forest Classifier</td>\n",
              "      <td>Log Transformed OHE</td>\n",
              "      <td>0.137307</td>\n",
              "      <td>0.833055</td>\n",
              "    </tr>\n",
              "    <tr>\n",
              "      <th>0</th>\n",
              "      <td>Logisic Regression</td>\n",
              "      <td>Log Transformed OHE</td>\n",
              "      <td>0.518796</td>\n",
              "      <td>0.824365</td>\n",
              "    </tr>\n",
              "    <tr>\n",
              "      <th>1</th>\n",
              "      <td>Decision Tree Classifier</td>\n",
              "      <td>Log Transformed OHE</td>\n",
              "      <td>0.140781</td>\n",
              "      <td>0.807561</td>\n",
              "    </tr>\n",
              "  </tbody>\n",
              "</table>\n",
              "</div>"
            ],
            "text/plain": [
              "                                Model              Dataset  log_loss       auc\n",
              "3                   XGBoost Classifer  Log Transformed OHE  0.132556  0.848140\n",
              "6          XGBoost Classifer(top 250)  Log Transformed OHE  0.132707  0.847293\n",
              "7         LightGBM Classifer(top 250)  Log Transformed OHE  0.133107  0.846686\n",
              "4                  LightGBM Classifer  Log Transformed OHE  0.132933  0.845743\n",
              "5  Random Forest Classifier (top 250)  Log Transformed OHE  0.136683  0.835698\n",
              "2            Random Forest Classifier  Log Transformed OHE  0.137307  0.833055\n",
              "0                  Logisic Regression  Log Transformed OHE  0.518796  0.824365\n",
              "1            Decision Tree Classifier  Log Transformed OHE  0.140781  0.807561"
            ]
          },
          "metadata": {
            "tags": []
          },
          "execution_count": 49
        }
      ]
    },
    {
      "cell_type": "markdown",
      "metadata": {
        "colab_type": "text",
        "id": "lF-jgX2JfCuI"
      },
      "source": [
        "# Saving all the datasets created"
      ]
    },
    {
      "cell_type": "code",
      "metadata": {
        "colab_type": "code",
        "id": "7X50CQtb2SL5",
        "colab": {}
      },
      "source": [
        "import joblib\n",
        "filename = 'log_train_ohe.pkl'\n",
        "X_train.to_pickle(os.path.join(file_path,'best_models',filename))\n",
        "\n",
        "filename = 'log_val_ohe.pkl'\n",
        "X_val.to_pickle(os.path.join(file_path,'best_models',filename))\n",
        "\n",
        "filename = 'log_test_ohe.pkl'\n",
        "X_test.to_pickle(os.path.join(file_path,'best_models',filename))\n",
        "\n",
        "filename = 'log_train_ohe_250.pkl'\n",
        "X_train_200.to_pickle(os.path.join(file_path,'best_models',filename))\n",
        "\n",
        "filename = 'log_val_ohe_250.pkl'\n",
        "X_val_200.to_pickle(os.path.join(file_path,'best_models',filename))\n",
        "\n",
        "filename = 'log_test_ohe_250.pkl'\n",
        "X_test_200.to_pickle(os.path.join(file_path,'best_models',filename))"
      ],
      "execution_count": null,
      "outputs": []
    }
  ]
}