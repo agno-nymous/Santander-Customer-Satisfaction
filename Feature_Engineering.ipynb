{
  "nbformat": 4,
  "nbformat_minor": 0,
  "metadata": {
    "environment": {
      "name": "common-cpu.m48",
      "type": "gcloud",
      "uri": "gcr.io/deeplearning-platform-release/base-cpu:m48"
    },
    "kernelspec": {
      "display_name": "Python 3",
      "language": "python",
      "name": "python3"
    },
    "language_info": {
      "codemirror_mode": {
        "name": "ipython",
        "version": 3
      },
      "file_extension": ".py",
      "mimetype": "text/x-python",
      "name": "python",
      "nbconvert_exporter": "python",
      "pygments_lexer": "ipython3",
      "version": "3.7.6"
    },
    "colab": {
      "name": "Feature_Engineering.ipynb",
      "provenance": [],
      "collapsed_sections": [],
      "toc_visible": true,
      "include_colab_link": true
    }
  },
  "cells": [
    {
      "cell_type": "markdown",
      "metadata": {
        "id": "view-in-github",
        "colab_type": "text"
      },
      "source": [
        "<a href=\"https://colab.research.google.com/github/alphas7/Santander-Customer-Satisfaction/blob/master/Feature_Engineering.ipynb\" target=\"_parent\"><img src=\"https://colab.research.google.com/assets/colab-badge.svg\" alt=\"Open In Colab\"/></a>"
      ]
    },
    {
      "cell_type": "code",
      "metadata": {
        "id": "0y2AtORN4NUo",
        "colab_type": "code",
        "colab": {
          "base_uri": "https://localhost:8080/",
          "height": 121
        },
        "outputId": "9c0ce357-d6eb-4d20-c31d-c36fdc4df920"
      },
      "source": [
        "from google.colab import drive\n",
        "drive.mount('/content/drive')"
      ],
      "execution_count": 1,
      "outputs": [
        {
          "output_type": "stream",
          "text": [
            "Go to this URL in a browser: https://accounts.google.com/o/oauth2/auth?client_id=947318989803-6bn6qk8qdgf4n4g3pfee6491hc0brc4i.apps.googleusercontent.com&redirect_uri=urn%3aietf%3awg%3aoauth%3a2.0%3aoob&response_type=code&scope=email%20https%3a%2f%2fwww.googleapis.com%2fauth%2fdocs.test%20https%3a%2f%2fwww.googleapis.com%2fauth%2fdrive%20https%3a%2f%2fwww.googleapis.com%2fauth%2fdrive.photos.readonly%20https%3a%2f%2fwww.googleapis.com%2fauth%2fpeopleapi.readonly\n",
            "\n",
            "Enter your authorization code:\n",
            "··········\n",
            "Mounted at /content/drive\n"
          ],
          "name": "stdout"
        }
      ]
    },
    {
      "cell_type": "code",
      "metadata": {
        "id": "O05ksyv_4wF6",
        "colab_type": "code",
        "colab": {}
      },
      "source": [
        "!unzip -uq \"/content/drive/My Drive/Santander_Customer_Satisfaction/pickle_files.zip\" -d \"/content/\""
      ],
      "execution_count": 2,
      "outputs": []
    },
    {
      "cell_type": "code",
      "metadata": {
        "id": "81wgzsWI39YF",
        "colab_type": "code",
        "colab": {}
      },
      "source": [
        "import warnings\n",
        "warnings.filterwarnings(\"ignore\")\n",
        "import pandas as pd\n",
        "import numpy as np\n",
        "%matplotlib inline\n",
        "import matplotlib.pyplot as plt\n",
        "import seaborn as sns\n",
        "sns.set(palette='muted',style='whitegrid')\n",
        "from sklearn.manifold import TSNE\n",
        "import sklearn\n",
        "import scipy\n",
        "import random"
      ],
      "execution_count": 3,
      "outputs": []
    },
    {
      "cell_type": "code",
      "metadata": {
        "id": "J41KfYn-39YN",
        "colab_type": "code",
        "colab": {}
      },
      "source": [
        "train = pd.read_pickle('pickle_files/train_1.pkl')\n",
        "test = pd.read_pickle('pickle_files/test_1.pkl')\n",
        "train_a = train.copy()\n",
        "test_a = test.copy()"
      ],
      "execution_count": 50,
      "outputs": []
    },
    {
      "cell_type": "code",
      "metadata": {
        "id": "zEO15WT4nyO2",
        "colab_type": "code",
        "colab": {
          "base_uri": "https://localhost:8080/",
          "height": 34
        },
        "outputId": "b17f9d72-7206-4e3d-a23e-272eb0dc57fa"
      },
      "source": [
        "X_test = test.copy()\n",
        "\n",
        "X_train,X_val = sklearn.model_selection.train_test_split(train,stratify=train['TARGET'],test_size=0.1,random_state=100,)\n",
        "X_train.reset_index(inplace=True,drop=True)\n",
        "X_val.reset_index(inplace=True,drop=True)\n",
        "X_train.shape,X_val.shape,X_test.shape"
      ],
      "execution_count": 51,
      "outputs": [
        {
          "output_type": "execute_result",
          "data": {
            "text/plain": [
              "((68418, 144), (7602, 144), (75818, 143))"
            ]
          },
          "metadata": {
            "tags": []
          },
          "execution_count": 51
        }
      ]
    },
    {
      "cell_type": "markdown",
      "metadata": {
        "id": "YdRCr_VOsN7T",
        "colab_type": "text"
      },
      "source": [
        "# No. of zeros"
      ]
    },
    {
      "cell_type": "code",
      "metadata": {
        "id": "bT96uF1-sM1j",
        "colab_type": "code",
        "colab": {}
      },
      "source": [
        "def add_feature_no_zeros(train=X_train,test=X_test,val=X_val):\n",
        "    \"\"\"\n",
        "    Add feature which tells the no. of occurences of zeros across a datapoint\n",
        "    \"\"\"\n",
        "    col = [k for k in train.columns if k!='TARGET']\n",
        "    for df in [train,test,val]:\n",
        "        df['no_zeros'] = (df.loc[:,col]==0).sum(axis=1).values"
      ],
      "execution_count": 52,
      "outputs": []
    },
    {
      "cell_type": "code",
      "metadata": {
        "id": "96bjZcDR6qDk",
        "colab_type": "code",
        "colab": {}
      },
      "source": [
        "def add_feature_no_zeros_keyword(keyword,train=X_train,test=X_test,val=X_val):\n",
        "    \"\"\"\n",
        "    Add feature which tells the no. of occurences of zeros across a datapoint\n",
        "    for a specific keyword\n",
        "    \"\"\"\n",
        "    col = [k for k in train.columns if keyword in k]\n",
        "    for df in [train,test,val]:\n",
        "        df['no_zeros_'+k] = (df.loc[:,col]==0).sum(axis=1).values"
      ],
      "execution_count": 53,
      "outputs": []
    },
    {
      "cell_type": "code",
      "metadata": {
        "id": "Qcef9nePLrft",
        "colab_type": "code",
        "colab": {
          "base_uri": "https://localhost:8080/",
          "height": 34
        },
        "outputId": "3022aedf-3f45-41e9-afc6-4369bf45b816"
      },
      "source": [
        "#adding no. of zeros feature\n",
        "add_feature_no_zeros()\n",
        "X_train.shape,X_val.shape,X_test.shape"
      ],
      "execution_count": 54,
      "outputs": [
        {
          "output_type": "execute_result",
          "data": {
            "text/plain": [
              "((68418, 145), (7602, 145), (75818, 144))"
            ]
          },
          "metadata": {
            "tags": []
          },
          "execution_count": 54
        }
      ]
    },
    {
      "cell_type": "code",
      "metadata": {
        "id": "TLSsU_WX9ldS",
        "colab_type": "code",
        "colab": {
          "base_uri": "https://localhost:8080/",
          "height": 34
        },
        "outputId": "1e14ac4b-6328-442e-e63b-f634a98736a9"
      },
      "source": [
        "keywords = ['saldo' , 'ind', 'num', 'imp']\n",
        "for k in keywords:\n",
        "  add_feature_no_zeros_keyword(k)\n",
        "X_train.shape,X_val.shape,X_test.shape"
      ],
      "execution_count": 56,
      "outputs": [
        {
          "output_type": "execute_result",
          "data": {
            "text/plain": [
              "((68418, 149), (7602, 149), (75818, 148))"
            ]
          },
          "metadata": {
            "tags": []
          },
          "execution_count": 56
        }
      ]
    },
    {
      "cell_type": "code",
      "metadata": {
        "id": "lC-kxO7qjdTG",
        "colab_type": "code",
        "colab": {
          "base_uri": "https://localhost:8080/",
          "height": 50
        },
        "outputId": "986d6dca-ec5c-4715-ff16-0d23a513e5d2"
      },
      "source": [
        "#getting all columns with less than or equal to 10 nunique values\n",
        "cat_col = []\n",
        "for col in X_train.columns:\n",
        "  if (X_train[col].nunique()<=10) & (col!='TARGET') & (X_train[col].nunique()>2):\n",
        "    cat_col.append(col)\n",
        "print(\"There are %i columns which have less than or equal to 10 and greater than 2 number of unique values. \\nWe will create \\\n",
        "new datasets which use one hot encoding,\\\n",
        "response encoding and also leaving the columns as it is.\"%(len(cat_col)))"
      ],
      "execution_count": 57,
      "outputs": [
        {
          "output_type": "stream",
          "text": [
            "There are 31 columns which have less than or equal to 10 and greater than 2 number of unique values. \n",
            "We will create new datasets which use one hot encoding,response encoding and also leaving the columns as it is.\n"
          ],
          "name": "stdout"
        }
      ]
    },
    {
      "cell_type": "markdown",
      "metadata": {
        "id": "wJEJ4TGYr54z",
        "colab_type": "text"
      },
      "source": [
        "# One Hot Encoding"
      ]
    },
    {
      "cell_type": "code",
      "metadata": {
        "id": "dsjVBzzZsIwR",
        "colab_type": "code",
        "colab": {}
      },
      "source": [
        "def one_hot_encoding(col,train=X_train,test=X_test,val=X_val):\n",
        "  \"\"\"\n",
        "  one hot encodes all the features in col array in all X dataset\n",
        "  \"\"\"\n",
        "  ohe = sklearn.preprocessing.OneHotEncoder(sparse=True,handle_unknown='ignore')\n",
        "  ohe.fit(train.loc[:,col])\n",
        "  feature_names = list(ohe.get_feature_names(input_features=col))\n",
        "  features = list(train.drop(col,axis=1).columns)\n",
        "  features.extend(feature_names)\n",
        "\n",
        "  #train\n",
        "  df = train.copy()\n",
        "  temp = ohe.transform(df[cat_col])\n",
        "  df.drop(col,axis=1,inplace=True)\n",
        "  train = pd.DataFrame(scipy.sparse.hstack([df.values,temp]).toarray(),columns=features).copy()\n",
        "\n",
        "  #val\n",
        "  df = val.copy()\n",
        "  temp = ohe.transform(df[cat_col])\n",
        "  df.drop(col,axis=1,inplace=True)\n",
        "  val = pd.DataFrame(scipy.sparse.hstack([df.values,temp]).toarray(),columns=features).copy()\n",
        "\n",
        "  #test\n",
        "  df = test.copy()\n",
        "  temp = ohe.transform(df[cat_col])\n",
        "  df.drop(col,axis=1,inplace=True)\n",
        "  features.remove('TARGET')\n",
        "  test = pd.DataFrame(scipy.sparse.hstack([df.values,temp]).toarray(),columns=features).copy()\n",
        "\n",
        "  return train,test,val"
      ],
      "execution_count": 58,
      "outputs": []
    },
    {
      "cell_type": "code",
      "metadata": {
        "id": "pwvu7JLIme4U",
        "colab_type": "code",
        "colab": {
          "base_uri": "https://localhost:8080/",
          "height": 34
        },
        "outputId": "1f4fbd3b-8a76-4073-c4e2-4c4a2f21162a"
      },
      "source": [
        "X_train_ohe,X_test_ohe,X_val_ohe = one_hot_encoding(cat_col)\n",
        "X_train_ohe.shape,X_val_ohe.shape,X_test_ohe.shape"
      ],
      "execution_count": 59,
      "outputs": [
        {
          "output_type": "execute_result",
          "data": {
            "text/plain": [
              "((68418, 291), (7602, 291), (75818, 290))"
            ]
          },
          "metadata": {
            "tags": []
          },
          "execution_count": 59
        }
      ]
    },
    {
      "cell_type": "markdown",
      "metadata": {
        "id": "AeVUEE23sAvL",
        "colab_type": "text"
      },
      "source": [
        "# Response Encoding"
      ]
    },
    {
      "cell_type": "code",
      "metadata": {
        "id": "HuAheEcWMxQ6",
        "colab_type": "code",
        "colab": {}
      },
      "source": [
        "def response_encoding_return(df,column,target,alpha=5000):#cv_df,test_df,\n",
        "    \"\"\"\n",
        "    Here we are using response encoding with laplace smoothing to a categorical column\n",
        "    and transform the respective column in train,test,val datasets.\n",
        "    Here we will be repeating the values of each category alpha times.\n",
        "    the function will return the response encoding values of each categorical value in that column\n",
        "    \"\"\"\n",
        "    unique_values = set(df[column].values)\n",
        "    dict_values = {}\n",
        "    for value in unique_values:\n",
        "        total = len(df[df[column]==value])\n",
        "        sum_promoted = len(df[(df[column]==value) & df[target]==1])\n",
        "        dict_values[value] = np.round((sum_promoted+alpha)/(total+alpha*len(unique_values)),2)\n",
        "    return dict_values"
      ],
      "execution_count": 60,
      "outputs": []
    },
    {
      "cell_type": "code",
      "metadata": {
        "id": "fyrsm9SxVAEd",
        "colab_type": "code",
        "colab": {}
      },
      "source": [
        "def response_encoding(df,cv_df,test_df,column,target='TARGET',alpha=5000):\n",
        "    \"\"\"\n",
        "    Here we are using response encoding with laplace smoothing to a categorical column\n",
        "    and transform the respective column in train,test,val datasets.\n",
        "    Here we will be repeating the values of each category alpha times.\n",
        "    \"\"\"\n",
        "    unique_values = set(df[column].values) #all unique values in that categorical column\n",
        "    dict_values = {}\n",
        "    for value in unique_values:\n",
        "        total = len(df[df[column]==value]) #the total no. of datapoints with 'value' catgeory\n",
        "        sum_promoted = len(df[(df[column]==value) & df[target]==1]) #sum of all datapoints with category being 'value' and target==1\n",
        "        dict_values[value] = np.round((sum_promoted+alpha)/(total+alpha*len(unique_values)),2) #storing the obtained result in a dictionary\n",
        "    dict_values['unknown']=0.5 #unknown categories that are not seen in train will be assigned a score of 0.5\n",
        "    df[column]=(df[column].map(dict_values)).values\n",
        "    unique_values_test = set(test_df[column].values)\n",
        "    unique_values_cv = set(cv_df[column].values)\n",
        "    cv_df[column]=cv_df[column].apply(lambda x: 'unknown' if x in (unique_values_cv-unique_values) else x )\n",
        "    test_df[column]=test_df[column].apply(lambda x: 'unknown' if x in (unique_values_test-unique_values) else x )\n",
        "    cv_df[column] = (cv_df[column].map(dict_values)).values\n",
        "    test_df[column] = (test_df[column].map(dict_values)).values"
      ],
      "execution_count": 61,
      "outputs": []
    },
    {
      "cell_type": "code",
      "metadata": {
        "id": "ElKigmiD46am",
        "colab_type": "code",
        "colab": {
          "base_uri": "https://localhost:8080/",
          "height": 134
        },
        "outputId": "0b410337-8528-4737-a111-5e99869c5ff1"
      },
      "source": [
        "# finding the best alpha\n",
        "random.seed(100)\n",
        "ran_in = random.randint(0,10)\n",
        "col = [col for col in cat_col if X_train[col].nunique()>3][ran_in]\n",
        "col\n",
        "print('Feature: \"%s\"'%(col))\n",
        "for alpha in [100,500,1000,2500,5000,10000]:\n",
        "  print('for alpha %i:%s'%(alpha,response_encoding_return(X_train,col,\"TARGET\",alpha=alpha)))"
      ],
      "execution_count": 62,
      "outputs": [
        {
          "output_type": "stream",
          "text": [
            "Feature: \"num_var5_0\"\n",
            "for alpha 100:{0: 0.09, 3: 0.04, 6: 0.13, 9: 0.2, 15: 0.2}\n",
            "for alpha 500:{0: 0.13, 3: 0.04, 6: 0.18, 9: 0.2, 15: 0.2}\n",
            "for alpha 1000:{0: 0.15, 3: 0.05, 6: 0.19, 9: 0.2, 15: 0.2}\n",
            "for alpha 2500:{0: 0.18, 3: 0.06, 6: 0.2, 9: 0.2, 15: 0.2}\n",
            "for alpha 5000:{0: 0.19, 3: 0.08, 6: 0.2, 9: 0.2, 15: 0.2}\n",
            "for alpha 10000:{0: 0.19, 3: 0.11, 6: 0.2, 9: 0.2, 15: 0.2}\n"
          ],
          "name": "stdout"
        }
      ]
    },
    {
      "cell_type": "code",
      "metadata": {
        "id": "LfVeMRV_sGDC",
        "colab_type": "code",
        "colab": {
          "base_uri": "https://localhost:8080/",
          "height": 134
        },
        "outputId": "749772db-ec72-4e1d-a476-8fa617a51d87"
      },
      "source": [
        "random.seed(1000)\n",
        "ran_in = random.randint(0,10)\n",
        "col = [col for col in cat_col if X_train[col].nunique()>3][ran_in]\n",
        "# finding the best alpha\n",
        "print('Feature: \"%s\"'%(col))\n",
        "for alpha in [100,500,1000,2500,5000,10000]:\n",
        "  print('for alpha %i:%s'%(alpha,response_encoding_return(X_train,col,\"TARGET\",alpha=alpha)))"
      ],
      "execution_count": 63,
      "outputs": [
        {
          "output_type": "stream",
          "text": [
            "Feature: \"num_var13_largo_0\"\n",
            "for alpha 100:{0: 0.04, 3: 0.08, 6: 0.13, 9: 0.14, 12: 0.14, 15: 0.14, 18: 0.14}\n",
            "for alpha 500:{0: 0.04, 3: 0.12, 6: 0.14, 9: 0.14, 12: 0.14, 15: 0.14, 18: 0.14}\n",
            "for alpha 1000:{0: 0.05, 3: 0.13, 6: 0.14, 9: 0.14, 12: 0.14, 15: 0.14, 18: 0.14}\n",
            "for alpha 2500:{0: 0.06, 3: 0.14, 6: 0.14, 9: 0.14, 12: 0.14, 15: 0.14, 18: 0.14}\n",
            "for alpha 5000:{0: 0.07, 3: 0.14, 6: 0.14, 9: 0.14, 12: 0.14, 15: 0.14, 18: 0.14}\n",
            "for alpha 10000:{0: 0.09, 3: 0.14, 6: 0.14, 9: 0.14, 12: 0.14, 15: 0.14, 18: 0.14}\n"
          ],
          "name": "stdout"
        }
      ]
    },
    {
      "cell_type": "markdown",
      "metadata": {
        "id": "IbqpR3ROUudL",
        "colab_type": "text"
      },
      "source": [
        "Looking at the above two features, the best alpha was found to be alpha=100."
      ]
    },
    {
      "cell_type": "code",
      "metadata": {
        "id": "Mowskn0c7Ye0",
        "colab_type": "code",
        "colab": {
          "base_uri": "https://localhost:8080/",
          "height": 34
        },
        "outputId": "ad2b3f45-be04-40ff-9d6c-3a4b213fb64e"
      },
      "source": [
        "#response encoding features\n",
        "alpha=100\n",
        "X_train_re = X_train.copy()\n",
        "X_val_re = X_val.copy()\n",
        "X_test_re = X_test.copy()\n",
        "for col in cat_col:\n",
        "  response_encoding(X_train_re,X_val_re,X_test_re,col,alpha=alpha)\n",
        "\n",
        "X_train_re.shape,X_val_re.shape,X_test_re.shape"
      ],
      "execution_count": 64,
      "outputs": [
        {
          "output_type": "execute_result",
          "data": {
            "text/plain": [
              "((68418, 149), (7602, 149), (75818, 148))"
            ]
          },
          "metadata": {
            "tags": []
          },
          "execution_count": 64
        }
      ]
    },
    {
      "cell_type": "code",
      "metadata": {
        "id": "_-U6SlNrW28A",
        "colab_type": "code",
        "colab": {}
      },
      "source": [
        ""
      ],
      "execution_count": null,
      "outputs": []
    }
  ]
}